{
 "cells": [
  {
   "cell_type": "raw",
   "metadata": {},
   "source": [
    "# notebook que haremos módulo\n"
   ]
  },
  {
   "cell_type": "code",
   "execution_count": 1,
   "metadata": {
    "collapsed": false
   },
   "outputs": [],
   "source": [
    "using TaylorSeries \n",
    "using PyPlot\n",
    "using LinearAlgebra\n"
   ]
  },
  {
   "cell_type": "code",
   "execution_count": 2,
   "metadata": {
    "collapsed": false
   },
   "outputs": [
    {
     "data": {
      "text/plain": [
       "PolinomioTaylor1"
      ]
     },
     "execution_count": 2,
     "metadata": {},
     "output_type": "execute_result"
    }
   ],
   "source": [
    "\"\"\"\n",
    "\n",
    "PolinomioTaylor1(g,CX,CY,TipoVariable)\n",
    "   \n",
    "   Es una función cuyo objetivo es recibir dos listas con valores iniciales y crear dos polinomios de grado g.\n",
    "\n",
    "\n",
    "\n",
    "\n",
    "Argumentos:\n",
    "\n",
    "\n",
    "\n",
    "\n",
    "\n",
    "   - g       : Grado del polinomio\n",
    "   - CX,CY  :  Arreglo que contiene los coeficientes iniciales, es del tipo Array{TaylorSeries.TaylorN{}}\n",
    "   - TipoVariable :  es el tipo del que serán los coeficientes ( Real, Float64, BigFloat)\n",
    "   \n",
    "\n",
    "Esta función regresa dos arreglos que contienen elementos del tipo Taylor1.TaylorN, creados con las listas iniciales. \n",
    "\n",
    "\n",
    "\"\"\"\n",
    "function PolinomioTaylor1(g::Real,CX,CY,TipoVariable)\n",
    "    #=\n",
    "    g es el grado del polinomio, CX y CY son\n",
    "    arreglos que contienen los coeficientes que forman la variedad.\n",
    "    \n",
    "    \n",
    "    Creamos x,y como variables tipo TaylorN de orden 2\n",
    "    =#\n",
    "    x,y = set_variables(TipoVariable, \"x y\", order=2)\n",
    "    \n",
    "    #especificamos que LX,LY son de arreglos que guardarán coeficientes del polinomio, sólo son auxiliares en esta función\n",
    "    LX = Array{TaylorSeries.TaylorN{TipoVariable}}(1)\n",
    "    LY = Array{TaylorSeries.TaylorN{TipoVariable}}(1)\n",
    "    \n",
    "    #usamos un condicional para separar el caso 1 del resto\n",
    "    if g == 1  \n",
    "        T = [Taylor1([x], g),Taylor1([y], g)]\n",
    "    #en el caso en que g>1 entonces usamos las listas que van guardando los coeficientes\n",
    "    else\n",
    "        #como CX,CY están guardando los coeficientes pero necesitamos agregar el último término que será una variable \n",
    "        LX = push!(CX, x) \n",
    "        LY = push!(CY, y)\n",
    "\n",
    "        T=[Taylor1(LX, g),Taylor1(LY, g)]\n",
    "        \n",
    "    end\n",
    "    return T\n",
    "end\n",
    "#Esta función regresa tx,ty que son Taylor1.TaylorN"
   ]
  },
  {
   "cell_type": "code",
   "execution_count": 3,
   "metadata": {
    "collapsed": false
   },
   "outputs": [
    {
     "name": "stdout",
     "output_type": "stream",
     "text": [
      "search:\n",
      "\n"
     ]
    }
   ],
   "source": [
    "?PolinomioTaylor1"
   ]
  },
  {
   "cell_type": "code",
   "execution_count": 4,
   "metadata": {
    "collapsed": false
   },
   "outputs": [
    {
     "data": {
      "text/plain": [
       "Vecλ"
      ]
     },
     "execution_count": 4,
     "metadata": {},
     "output_type": "execute_result"
    }
   ],
   "source": [
    "#=Esta función toma el arreglo que contiene las lambdas que se van calculando, los coeficientes de los polinomios\n",
    "y el orden de los mismos, lo que hace es generar el lado derecho de la ecuación cohomológica, multiplicando a_n*λ^n\n",
    "y generando un polinomio de gradno g con estos coeficientes\n",
    "=#\n",
    "\"\"\"\n",
    "Vecλ(λ_v,g,CX,CY)\n",
    "Es una función que calcula la parte derecha de la ecuación comohológica, es decir la parte que involucra el valor propio.\n",
    "Regresa un arreglo de tipo TaylorSeries.TaylorN{T}\n",
    "\n",
    "\n",
    "Sus argumentos son:\n",
    "\n",
    "\n",
    "\n",
    "- g      :  grado del polinomio.\n",
    "- λ_v    :  Arreglo de dos dimensiones que contiene el valor propio y sus potencias. \n",
    "- CX,CY  :  Los arreglos con los polinomios que se calculan en PolinomioTaylor1.\n",
    "\n",
    "\"\"\"\n",
    "function Vecλ(λ_v,g,CX,CY)\n",
    "   # el arreglo de λ_v contiene los arreglos que corresponden a la parte derecha de la ecuación cohomológica\n",
    "    # en θ,p. Es importante hacer la distinción puesto que dependiendo del punto fijo donde se esté calculando\n",
    "    # el primer valor de λ en θ serpa diferente del primer valor de λ en P\n",
    "    xλt=Taylor1(λ_v[1].*CX,g)\n",
    "    yλt=Taylor1(λ_v[2].*CY,g)\n",
    "    \n",
    "    λvec=[xλt,yλt]\n",
    "    \n",
    "    return λvec\n",
    "end"
   ]
  },
  {
   "cell_type": "code",
   "execution_count": 5,
   "metadata": {
    "collapsed": false
   },
   "outputs": [
    {
     "name": "stdout",
     "output_type": "stream",
     "text": [
      "search: \u001b[1mv\u001b[22m\u001b[1me\u001b[22m\u001b[1mc\u001b[22m \u001b[1mV\u001b[22m\u001b[1me\u001b[22m\u001b[1mc\u001b[22mtor \u001b[1mv\u001b[22m\u001b[1me\u001b[22m\u001b[1mc\u001b[22mdot \u001b[1mv\u001b[22m\u001b[1me\u001b[22m\u001b[1mc\u001b[22mnorm \u001b[1mV\u001b[22m\u001b[1me\u001b[22m\u001b[1mc\u001b[22mOrMat \u001b[1mV\u001b[22m\u001b[1me\u001b[22m\u001b[1mc\u001b[22mElement @\u001b[1mv\u001b[22m\u001b[1me\u001b[22m\u001b[1mc\u001b[22mtorize_2arg\n",
      "\n"
     ]
    },
    {
     "data": {
      "text/markdown": [
       "Vecλ(λ_v,g,CX,CY) Es una función que calcula la parte derecha de la ecuación comohológica, es decir la parte que involucra el valor propio. Regresa un arreglo de tipo TaylorSeries.TaylorN{T}\n",
       "\n",
       "Sus argumentos son:\n",
       "\n",
       "  * g      :  grado del polinomio.\n",
       "  * λ_v    :  Arreglo de dos dimensiones que contiene el valor propio y sus potencias.\n",
       "  * CX,CY  :  Los arreglos con los polinomios que se calculan en PolinomioTaylor1.\n"
      ],
      "text/plain": [
       "Vecλ(λ_v,g,CX,CY) Es una función que calcula la parte derecha de la ecuación comohológica, es decir la parte que involucra el valor propio. Regresa un arreglo de tipo TaylorSeries.TaylorN{T}\n",
       "\n",
       "Sus argumentos son:\n",
       "\n",
       "  * g      :  grado del polinomio.\n",
       "  * λ_v    :  Arreglo de dos dimensiones que contiene el valor propio y sus potencias.\n",
       "  * CX,CY  :  Los arreglos con los polinomios que se calculan en PolinomioTaylor1.\n"
      ]
     },
     "execution_count": 5,
     "metadata": {},
     "output_type": "execute_result"
    }
   ],
   "source": [
    "?Vecλ"
   ]
  },
  {
   "cell_type": "code",
   "execution_count": 6,
   "metadata": {
    "collapsed": false
   },
   "outputs": [
    {
     "data": {
      "text/plain": [
       "ValPropios (generic function with 1 method)"
      ]
     },
     "execution_count": 6,
     "metadata": {},
     "output_type": "execute_result"
    }
   ],
   "source": [
    "function ValPropios(M)\n",
    "    V = BigFloat[]\n",
    "    \n",
    "    #while true\n",
    "        disc = trace(M)^2-4.*det(M)\n",
    "        tol = disc -trace(M)^2\n",
    "        if  tol > 1e-70\n",
    "            println(\"Para este caso el método de calculo de valores propios no es eficiente\")\n",
    "            #break\n",
    "        else\n",
    "            disc >= 0.? v = ((trace(M) + sqrt(trace(M)^2-4.*det(M)))/2.,(trace(M) - sqrt(trace(M)^2-4.*det(M)))/2.)  : error(\"Error: el valor propio es complejo, es decir es un punto elíptico\")\n",
    "            v_prop1 = v[1]\n",
    "            v_prop2 = v[2]\n",
    "            push!(V,v_prop1)\n",
    "            push!(V,v_prop2)\n",
    "            ValoresP = sort(V,rev=true)\n",
    "        end\n",
    "    #end\n",
    "return ValoresP\n",
    "end\n",
    "        \n",
    "    \n",
    "    \n",
    "    "
   ]
  },
  {
   "cell_type": "code",
   "execution_count": 7,
   "metadata": {
    "collapsed": false
   },
   "outputs": [
    {
     "data": {
      "text/plain": [
       "VecPropios (generic function with 1 method)"
      ]
     },
     "execution_count": 7,
     "metadata": {},
     "output_type": "execute_result"
    }
   ],
   "source": [
    "function VecPropios(M,ValoresP)\n",
    "    Vectores = []\n",
    "    for i in [1,2]\n",
    "        y = big.(1.)\n",
    "        I_2 = big.([1. 0.; 0. 1.])\n",
    "        M_aux = -I_2.*ValoresP[i]+M\n",
    "        x = -(y*M_aux[3])/M_aux[1]\n",
    "        push!(Vectores,x)\n",
    "        push!(Vectores,y)\n",
    "    end\n",
    "    return Vectores\n",
    "end"
   ]
  },
  {
   "cell_type": "code",
   "execution_count": 8,
   "metadata": {
    "collapsed": false
   },
   "outputs": [
    {
     "data": {
      "text/plain": [
       "EigenValores (generic function with 1 method)"
      ]
     },
     "execution_count": 8,
     "metadata": {},
     "output_type": "execute_result"
    }
   ],
   "source": [
    "function EigenValores(M)\n",
    "    ValoresP  = ValPropios(M)\n",
    "    VectoresP = VecPropios(M,ValoresP)\n",
    "    V = (ValoresP,[VectoresP[1] VectoresP[3];VectoresP[2] VectoresP[4]])\n",
    "    return V\n",
    "end"
   ]
  },
  {
   "cell_type": "code",
   "execution_count": 9,
   "metadata": {
    "collapsed": false
   },
   "outputs": [
    {
     "data": {
      "text/plain": [
       "Orden1 (generic function with 1 method)"
      ]
     },
     "execution_count": 9,
     "metadata": {},
     "output_type": "execute_result"
    }
   ],
   "source": [
    "function Orden1(CX,CY,TipoVariable,Mapeo,k,l,PuntoFijo,tipo_v,λarrayX,λarrayY)\n",
    "            #usamos la función PolinomioTaylor para crear el polinomio tipo Taylor1.TaylorN{T}\n",
    "            t = PolinomioTaylor1(1,CX,CY,TipoVariable)\n",
    "            \n",
    "            #Aplicamos el mapeo a los polinomios que resultan de la función anterior.\n",
    "            Or1 = Mapeo(t[1],t[2],k,l)\n",
    "            \n",
    "            AuxOr1=[Or1[1][1],Or1[2][1]]\n",
    "            \n",
    "            #Calculamos el jacobiano del Orden 1 para obtener sus valores y vectores propios.\n",
    "            JPO = jacobian(AuxOr1,[PuntoFijo[1],PuntoFijo[2]])\n",
    "            \n",
    "            \n",
    "            \n",
    "            #Calculamos los valores y vectores propios\n",
    "            if TipoVariable == BigFloat\n",
    "                eigval,eigvec = EigenValores(JPO)\n",
    "            else\n",
    "                eigval,eigvec = eig(JPO)\n",
    "            end\n",
    "            #escogemos el tipo de variedad que queremos calcular. Como se ordenan de menor a mayor la inestable es la segunda\n",
    "            λ = eigval[tipo_v]\n",
    "    \n",
    "            tt = imag(λ)\n",
    "            \n",
    "            #Ponemos los coeficientes en una variable nueva cada uno y los agregamos a las listas CX,CP,λ\n",
    "            tt == 0.?  Coef = eigvec[:,tipo_v] : error(\"Error: el valor propio es complejo, es decir es un punto elíptico\")\n",
    "            \n",
    "            \n",
    "            push!(CX, Coef[1])\n",
    "            push!(CY, Coef[2])\n",
    "            push!(λarrayX, λ)\n",
    "            push!(λarrayY, λ)\n",
    "            λ_v=[λarrayX,λarrayY]\n",
    "            \n",
    "            \n",
    "    return CX, CY,λarrayX,λarrayY, λ_v\n",
    "end\n",
    "            \n",
    "    "
   ]
  },
  {
   "cell_type": "code",
   "execution_count": 10,
   "metadata": {
    "collapsed": false
   },
   "outputs": [
    {
     "data": {
      "text/plain": [
       "Variedades"
      ]
     },
     "execution_count": 10,
     "metadata": {},
     "output_type": "execute_result"
    }
   ],
   "source": [
    "#Creamos una función que reciba el orden del polinomio , el punto fijo, el parámetro k y \n",
    "#el tipo de varidad que queremos(estable=1, inestable=2)\n",
    "\"\"\"\n",
    "Variedades(Mapeo,orden, PuntoFijo,k,tipo_v,TipoVariable)\n",
    "Es una función que calcula las variedades de cierto mapeo. Usa las funciones de PolinomioTaylor1 y Vecλ para calcular los\n",
    "polinomios de cada lado de la ecuación cohomológica y les aplica el mapeo dado. \n",
    "\n",
    "\n",
    "\n",
    "Argumentos:\n",
    "\n",
    "\n",
    "\n",
    "- Mapeo : Mapeo de dos dimensiones, debe recibir al menos dos parámetros que son los polinomios antes calculados.\n",
    "- orden : se trata del orden del polinomio.\n",
    "- PuntoFijo : ES el punto fijo donde queremos calcular la variedad.\n",
    "- k     : Es la constante del mapeo.\n",
    "- tipo_v : 1 si la variedad es estable, 2 si es inestable.\n",
    "- TipoVariable :  Float64,BigFloat, Integer,etc.\n",
    "\n",
    "\n",
    "\"\"\"\n",
    "function Variedades(Mapeo,orden, PuntoFijo,k,l,tipo_v, TipoVariable)\n",
    "   \n",
    "    #definimos unas listas donde se guardarán los coeficientes  de todo el polinomio, tales deben ser\n",
    "    # de tipo \"Array{TaylorSeries.TaylorN{Int64},1}\" dado que los términos que se van agregando \n",
    "    # en cada orden son de tipo TaylorN.\n",
    "    \n",
    "    a=TipoVariable(PuntoFijo[1])\n",
    "    b=TipoVariable(PuntoFijo[2])\n",
    "    CX = [a+TaylorN(0.)]\n",
    "    CY = [b+TaylorN(0.)]\n",
    "    \n",
    "    \n",
    "    #λarray es la lista que contiene a los coeficientes del polinomio de λ\n",
    "    λarrayX = [a^0]\n",
    "    λarrayY = [b^0]\n",
    "    \n",
    "    #definimos un vector que contiene el punto en el que se evalúa el jacobiano que se calcula después\n",
    "    #dado que sólo lo usamos para obtener los valores que resultaron en el mapeo evaluamos siempre en [1.,1.]\n",
    "    \n",
    "    \n",
    "    \n",
    "    \n",
    "    CX,CY,λarayX, λarrayY,λ_v = Orden1(CX,CY,TipoVariable,Mapeo,k,l,PuntoFijo,tipo_v,λarrayX,λarrayY)\n",
    "    \n",
    "\n",
    "\n",
    "    for g in 2:orden\n",
    "        \n",
    "            #Creamos los polinomios con las listas correspondientes \n",
    "            t = PolinomioTaylor1(g,CX,CY,TipoVariable)\n",
    "            \n",
    "            # aplicamos el mapeo estándar y al resultado le llamamos OrG por Orden g.\n",
    "            OrG = Mapeo(t[1],t[2],k,l)\n",
    "            \n",
    "            push!(λarrayX,λarrayX[2]^g)\n",
    "            push!(λarrayY,λarrayY[2]^g)\n",
    "            λ_v=[λarrayX,λarrayY]\n",
    "            \n",
    "            #agregamos el término correspondiente a λ \n",
    "            λ_vec=Vecλ(λ_v,g,CX,CY)\n",
    "            \n",
    "            \n",
    "            \n",
    "            # ahora ya tengo las dos partes de la ecuación y debo igualarlas para resolver.\n",
    "            EcuaCohomo=OrG-λ_vec\n",
    "            \n",
    "            \n",
    "            # de esta ecuación necesitamos solo los de orden g, así que los extraemos manualmente \n",
    "            X_g=EcuaCohomo[1].coeffs[g+1]\n",
    "            Y_g=EcuaCohomo[2].coeffs[g+1]\n",
    "            vec_orden_g=[X_g,Y_g]\n",
    "            \n",
    "            \n",
    "            #calculamos el término independiene en la ecuación\n",
    "            X_ind=EcuaCohomo[1].coeffs[g+1].coeffs[1].coeffs[1]\n",
    "            Y_ind=EcuaCohomo[2].coeffs[g+1].coeffs[1].coeffs[1]\n",
    "            vec_ind=[-X_ind,-Y_ind]\n",
    "            \n",
    "            #calculamos el jacobiano\n",
    "            JacOrdenG = jacobian(vec_orden_g)\n",
    "            \n",
    "            \n",
    "            \n",
    "            \n",
    "            #Con esta información podemos evaluar lo siguiente:\n",
    "            # Si el vector de términos independientes es cero y el determinante del jacobiano es distinto de cero\n",
    "            # entonces la solución a la ecuación cohomológica es la trivial\n",
    "            if norm(vec_ind)==0.\n",
    "                if det(JacOrdenG)!=0.\n",
    "                    \n",
    "                    CX[g+1]=0.\n",
    "                    CY[g+1]=0.\n",
    "                end\n",
    "            else\n",
    "                # Si el vector de términos independientes es distinto de ceroentonces necesitamos \n",
    "                #resolver la ecuación JacOrdenG[x_g,p_g]*[x,p]**=vec_ind[x_g,p_g]\n",
    "                # entonces solo se trata de invertir el jacobiano y multiplicar con el vector del lado izquierdo\n",
    "                TermG=JacOrdenG \\ vec_ind\n",
    "                \n",
    "                CX[g+1]=TermG[1]\n",
    "                CY[g+1]=TermG[2]\n",
    "            \n",
    "            end\n",
    "            \n",
    "\n",
    "    end\n",
    "    return CX,CY,λarrayX, λarrayY\n",
    "end"
   ]
  },
  {
   "cell_type": "code",
   "execution_count": 11,
   "metadata": {
    "collapsed": false
   },
   "outputs": [
    {
     "data": {
      "text/plain": [
       "PolinomioCohomo"
      ]
     },
     "execution_count": 11,
     "metadata": {},
     "output_type": "execute_result"
    }
   ],
   "source": [
    "\"\"\"\n",
    "PolinomioCohomo(Mapeo,Pol_vec,λvec, k)\n",
    "Esta función calcula la ecuación cohomológica con los polinomios que ya se calcularon. Regresa un arreglo de dos \n",
    "elementos que son los valores de x,θ del mapeo.\n",
    "\n",
    "\n",
    "Argumentos:\n",
    "\n",
    "\n",
    "\n",
    "\n",
    "- Mapeo : función o mapeo del cual calculamos las variedades.Debe ser una función que reciba tres parámetros\n",
    " que son dos de sus variables y la constante del mapeo. Como salida debe tener un arreglo de dos elementos. \n",
    "- Pol_vec : Es un arreglo de dos elementos que son los polinomios calculados con anterioridad. \n",
    "- k     : es el valor de la constante del mapeo \n",
    "- λvec : \n",
    "\n",
    "\"\"\"\n",
    "function PolinomioCohomo(Mapeo,Pol_vec,λvec, k,l ,PuntoFijo,modulo)\n",
    "    Map_vec=Mapeo(Pol_vec[1],Pol_vec[2],k,l)\n",
    "    if modulo==2*pi\n",
    "        Ec_Cohomo = mod(Map_vec-λvec,modulo)\n",
    "    else\n",
    "        Ec_Cohomo = Map_vec-λvec\n",
    "    end\n",
    "    return Ec_Cohomo\n",
    "end"
   ]
  },
  {
   "cell_type": "code",
   "execution_count": 12,
   "metadata": {
    "collapsed": false
   },
   "outputs": [
    {
     "data": {
      "text/plain": [
       "EvaluarPol"
      ]
     },
     "execution_count": 12,
     "metadata": {},
     "output_type": "execute_result"
    }
   ],
   "source": [
    "\"\"\"\n",
    "EvaluarPol(Ec_2var,Tiempo,paso)\n",
    "\n",
    "Es una función que toma un arreglo de dos dimensiones que contiene polinomios y los evalúa en el tiempo dado en los pasos deseados\n",
    "\n",
    "\n",
    "\n",
    "\n",
    "Argumentos:\n",
    "\n",
    "\n",
    "\n",
    "\n",
    "- Ec_2var : Arreglo de dos dimensiones que contiene polinomios en cada una de ellas. \n",
    "- Tiempo  : Valor hasta el cual se quiere evaluar cada polinomio\n",
    "- paso    : es el paso que se considera en cada evaluación del polinomio. \n",
    "\n",
    "\"\"\"\n",
    "function EvaluarPol(Ec_2var,Tiempo,paso,TipoVariable)\n",
    "    \n",
    "    \n",
    "    \n",
    "    \n",
    "    \n",
    "    Val=TipoVariable[]\n",
    "    Tiem=TipoVariable[]\n",
    "    \n",
    "    \n",
    "    for t = 0:paso:Tiempo\n",
    "        x = evaluate(Ec_2var[1], t)\n",
    "        y = evaluate(Ec_2var[2], t)\n",
    "\n",
    "        \n",
    "        norma = norm([x,y],Inf)\n",
    "        push!(Val,norma)\n",
    "        push!(Tiem,t)\n",
    "    \n",
    "    end\n",
    "    return Tiem,Val\n",
    "end"
   ]
  },
  {
   "cell_type": "code",
   "execution_count": 13,
   "metadata": {
    "collapsed": false
   },
   "outputs": [
    {
     "data": {
      "text/plain": [
       "CreaPol"
      ]
     },
     "execution_count": 13,
     "metadata": {},
     "output_type": "execute_result"
    }
   ],
   "source": [
    "\"\"\"\n",
    "CreaPol es una función que dadas dos listas y un grado crea  un arreglo de dos entradas , en cada una de ellas se encuentra \n",
    "el polinomio de grado g con los coeficientes de las listas. \n",
    "\n",
    "\n",
    "Argumentos:\n",
    "\n",
    "\n",
    "\n",
    "- A,B : arreglos que contienen lo que serán los coeficientes del polinomio.\n",
    "- orden : grado del polinomio\n",
    "\"\"\"\n",
    "function CreaPol(A,B,orden)\n",
    "    Taylor = [Taylor1(A,orden),Taylor1(B,orden)]\n",
    "    return Taylor\n",
    "end"
   ]
  },
  {
   "cell_type": "code",
   "execution_count": 22,
   "metadata": {
    "collapsed": false
   },
   "outputs": [
    {
     "data": {
      "text/plain": [
       " 1 + 2 t + 3 t² + 4 t³ + 5 t⁵ + 𝒪(t¹¹)"
      ]
     },
     "execution_count": 22,
     "metadata": {},
     "output_type": "execute_result"
    }
   ],
   "source": [
    "A=Taylor1([1,2,3,4,0,5],10)"
   ]
  },
  {
   "cell_type": "code",
   "execution_count": 24,
   "metadata": {
    "collapsed": false
   },
   "outputs": [
    {
     "data": {
      "text/plain": [
       "11-element Array{Int64,1}:\n",
       " 1\n",
       " 2\n",
       " 3\n",
       " 4\n",
       " 0\n",
       " 5\n",
       " 0\n",
       " 0\n",
       " 0\n",
       " 0\n",
       " 0"
      ]
     },
     "execution_count": 24,
     "metadata": {},
     "output_type": "execute_result"
    }
   ],
   "source": []
  },
  {
   "cell_type": "code",
   "execution_count": 49,
   "metadata": {
    "collapsed": false
   },
   "outputs": [
    {
     "name": "stderr",
     "output_type": "stream",
     "text": [
      "WARNING: Method definition Convergencia(Any, Any) in module Main at In[45]:2 overwritten at In[49]:2.\n"
     ]
    },
    {
     "data": {
      "text/plain": [
       "Convergencia (generic function with 1 method)"
      ]
     },
     "execution_count": 49,
     "metadata": {},
     "output_type": "execute_result"
    }
   ],
   "source": [
    "function Convergencia(A,B)\n",
    "    A_aux = []\n",
    "    B_aux = []\n",
    "    Con_x = []\n",
    "    Con_y = []\n",
    "    suma_A = 0.\n",
    "    suma_B = 0.\n",
    "    \n",
    "    for i in 1:length(A)\n",
    "        if A[i] != 0\n",
    "            push!(A_aux,A[i])\n",
    "        end\n",
    "        if B[i] != 0\n",
    "            push!(B_aux,B[i])\n",
    "        end\n",
    "    end\n",
    "    for i in 1:length(A_aux)-1\n",
    "        push!(Con_x,A_aux[i+1]/A_aux[i])\n",
    "        push!(Con_y,B_aux[i+1]/B_aux[i])\n",
    "    end\n",
    "        \n",
    "    #=\n",
    "    for i in 1:length(A_aux)-1        \n",
    "        suma_A = suma_A + A[i+1]/A[i]\n",
    "    end\n",
    "    for i in 1:length(B_aux)-1\n",
    "        suma_B = suma_B + B[i+1]/B[i]\n",
    "    end\n",
    "    =#\n",
    "    return Con_x,Con_y\n",
    "end\n",
    "        \n",
    "        "
   ]
  },
  {
   "cell_type": "code",
   "execution_count": 50,
   "metadata": {
    "collapsed": false
   },
   "outputs": [
    {
     "name": "stderr",
     "output_type": "stream",
     "text": [
      "WARNING: Method definition MetParametrización(Any, Any, Any, Any, Any, Any, Any, Any, Any, Any) in module Main at In[46]:2 overwritten at In[50]:2.\n"
     ]
    },
    {
     "data": {
      "text/plain": [
       "MetParametrización (generic function with 1 method)"
      ]
     },
     "execution_count": 50,
     "metadata": {},
     "output_type": "execute_result"
    }
   ],
   "source": [
    "function MetParametrización(Mapeo,modulo,orden,PuntoFijo,k,l,tipo_v,Tiempo,paso, TipoVariable)\n",
    "    CoeficienteX,CoeficienteY,λarrayX,λarrayY = Variedades(Mapeo,orden,PuntoFijo,k,l,tipo_v,TipoVariable)\n",
    "    \n",
    "    Conver_X,Conver_Y=Convergencia(CoeficienteX,CoeficienteY) \n",
    "    \n",
    "    X = TipoVariable[]\n",
    "    Y = TipoVariable[]\n",
    "    \n",
    "    for i in 1:orden+1\n",
    "            \n",
    "        push!(X,CoeficienteX[i].coeffs[1].coeffs[1])\n",
    "        push!(Y,CoeficienteY[i].coeffs[1].coeffs[1])\n",
    "        \n",
    "    end\n",
    "    \n",
    "    Taylor=CreaPol(X,Y,orden)\n",
    "    \n",
    "    λ_vec=CreaPol(X.*λarrayX,Y.*λarrayY,orden)\n",
    "    \n",
    "    \n",
    "    \n",
    "    Ecua_Cohomo = PolinomioCohomo(Mapeo,Taylor,λ_vec, k,l,PuntoFijo,modulo)\n",
    "    Valor_t , Error = EvaluarPol(Ecua_Cohomo,Tiempo,paso, TipoVariable)\n",
    "    ErrorV = [Valor_t,Error]\n",
    "    \n",
    "    \n",
    "    return Taylor,ErrorV,λ_vec, Conver_X,Conver_Y\n",
    "   \n",
    "end"
   ]
  },
  {
   "cell_type": "markdown",
   "metadata": {},
   "source": [
    "Aquí vemos que si el punto  que se introduce es elíptico entonces resulta un error."
   ]
  },
  {
   "cell_type": "code",
   "execution_count": 35,
   "metadata": {
    "collapsed": false
   },
   "outputs": [
    {
     "name": "stderr",
     "output_type": "stream",
     "text": [
      "WARNING: Method definition Henon(Any, Any, Any, Any) in module Main at In[29]:3 overwritten at In[35]:3.\n"
     ]
    },
    {
     "data": {
      "text/plain": [
       "Henon (generic function with 1 method)"
      ]
     },
     "execution_count": 35,
     "metadata": {},
     "output_type": "execute_result"
    }
   ],
   "source": [
    "function Henon(x,y,a,b)\n",
    "   \n",
    "    x_n = a-b*y-x^2\n",
    "    y_n = x \n",
    "\n",
    "    return [x_n,y_n]\n",
    "end"
   ]
  },
  {
   "cell_type": "code",
   "execution_count": 30,
   "metadata": {
    "collapsed": false
   },
   "outputs": [
    {
     "ename": "LoadError",
     "evalue": "Error: el valor propio es complejo, es decir es un punto elíptico",
     "output_type": "error",
     "traceback": [
      "Error: el valor propio es complejo, es decir es un punto elíptico",
      "",
      " in Orden1(::Array{TaylorSeries.TaylorN{Float64},1}, ::Array{TaylorSeries.TaylorN{Float64},1}, ::Type{T}, ::#Henon, ::Float64, ::Float64, ::Array{Float64,1}, ::Int64, ::Array{Float64,1}, ::Array{Float64,1}) at ./In[9]:27",
      " in Variedades(::#Henon, ::Int64, ::Array{Float64,1}, ::Float64, ::Float64, ::Int64, ::Type{T}) at ./In[10]:45",
      " in MetParametrización(::Function, ::Float64, ::Int64, ::Array{Float64,1}, ::Float64, ::Float64, ::Int64, ::Float64, ::Float64, ::Type{T}) at ./In[28]:2",
      " in include_string(::String, ::String) at ./loading.jl:441"
     ]
    }
   ],
   "source": [
    "#Usando Float64\n",
    "Polinomio,E,ValProp,ConverX,ConverY = MetParametrización(Henon,1., 25, [.22,.22], .5, 1., 2, 2.9, 0.125, Float64)"
   ]
  },
  {
   "cell_type": "markdown",
   "metadata": {},
   "source": [
    "Calculamos el mismo polinomio pero ahora usando BigFloat para ver la diferencia sobre todo en el error. "
   ]
  },
  {
   "cell_type": "code",
   "execution_count": 31,
   "metadata": {
    "collapsed": false
   },
   "outputs": [
    {
     "ename": "LoadError",
     "evalue": "Error: el valor propio es complejo, es decir es un punto elíptico",
     "output_type": "error",
     "traceback": [
      "Error: el valor propio es complejo, es decir es un punto elíptico",
      "",
      " in ValPropios(::Array{BigFloat,2}) at ./In[6]:11",
      " in EigenValores at ./In[8]:2 [inlined]",
      " in Orden1(::Array{TaylorSeries.TaylorN{BigFloat},1}, ::Array{TaylorSeries.TaylorN{BigFloat},1}, ::Type{T}, ::#Henon, ::Float64, ::Float64, ::Array{Float64,1}, ::Int64, ::Array{BigFloat,1}, ::Array{BigFloat,1}) at ./In[9]:17",
      " in Variedades(::#Henon, ::Int64, ::Array{Float64,1}, ::Float64, ::Float64, ::Int64, ::Type{T}) at ./In[10]:45",
      " in MetParametrización(::Function, ::Float64, ::Int64, ::Array{Float64,1}, ::Float64, ::Float64, ::Int64, ::Float64, ::Float64, ::Type{T}) at ./In[28]:2",
      " in include_string(::String, ::String) at ./loading.jl:441"
     ]
    }
   ],
   "source": [
    "#Usando BigFloat\n",
    "PolinomioB,EBig,ValPropB,ConverX,ConverY = MetParametrización(Henon,1.,25,[.22,.22],.5 ,1.0,2,2.9,0.125,BigFloat)"
   ]
  },
  {
   "cell_type": "markdown",
   "metadata": {},
   "source": [
    "Graficamos ahora para valores en los que estamos seguron son puntos hiperbólicos."
   ]
  },
  {
   "cell_type": "code",
   "execution_count": 32,
   "metadata": {
    "collapsed": false
   },
   "outputs": [
    {
     "name": "stdout",
     "output_type": "stream",
     "text": [
      "x1 = 1.0\n",
      "x2 = -3.0\n"
     ]
    },
    {
     "data": {
      "text/plain": [
       "-3.0"
      ]
     },
     "execution_count": 32,
     "metadata": {},
     "output_type": "execute_result"
    }
   ],
   "source": [
    "parametro = 3.\n",
    "x1 = -1.+(1.+parametro)^.5\n",
    "x2 = -1.-(1.+parametro)^.5\n",
    "@show(x1,x2)\n"
   ]
  },
  {
   "cell_type": "code",
   "execution_count": 51,
   "metadata": {
    "collapsed": false
   },
   "outputs": [
    {
     "name": "stdout",
     "output_type": "stream",
     "text": [
      "A = TaylorSeries.TaylorN{Float64}[ - 3.0 + 𝒪(‖x‖¹), 0.16910197872576274 + 𝒪(‖x‖¹), - 0.0010212671146060113 + 𝒪(‖x‖¹), 1.7989405196606992e-6 + 𝒪(‖x‖¹), - 1.4384976675477913e-9 + 𝒪(‖x‖¹), 6.191820225703751e-13 + 𝒪(‖x‖¹), - 1.628680867511824e-16 + 𝒪(‖x‖¹), 2.842842520068909e-20 + 𝒪(‖x‖¹), - 3.483719438745041e-24 + 𝒪(‖x‖¹), 3.12635024358281e-28 + 𝒪(‖x‖¹), - 2.1252881339887887e-32 + 𝒪(‖x‖¹), 1.1251004002703104e-36 + 𝒪(‖x‖¹), - 4.745065182924098e-41 + 𝒪(‖x‖¹), 1.6246881388245536e-45 + 𝒪(‖x‖¹), - 4.588360278501107e-50 + 𝒪(‖x‖¹), 1.0833423268684392e-54 + 𝒪(‖x‖¹), - 2.1636322128836434e-59 + 𝒪(‖x‖¹), 3.693380204444548e-64 + 𝒪(‖x‖¹), - 5.433407447296043e-69 + 𝒪(‖x‖¹), 7.0010539753299e-74 + 𝒪(‖x‖¹), - 8.096408020401043e-79 + 𝒪(‖x‖¹), 8.236092143148846e-84 + 𝒪(‖x‖¹), - 1.6756372361549572e-88 + 𝒪(‖x‖¹), - 5.113639026351798e-93 + 𝒪(‖x‖¹), 0.0 + 𝒪(‖x‖¹), 0.0 + 𝒪(‖x‖¹)]\n"
     ]
    },
    {
     "data": {
      "text/plain": [
       "(TaylorSeries.Taylor1{Float64}[ - 3.0 + 0.16910197872576274 t - 0.0010212671146060113 t² + 1.7989405196606992e-6 t³ - 1.4384976675477913e-9 t⁴ + 6.191820225703751e-13 t⁵ - 1.628680867511824e-16 t⁶ + 2.842842520068909e-20 t⁷ - 3.483719438745041e-24 t⁸ + 3.12635024358281e-28 t⁹ - 2.1252881339887887e-32 t¹⁰ + 1.1251004002703104e-36 t¹¹ - 4.745065182924098e-41 t¹² + 1.6246881388245536e-45 t¹³ - 4.588360278501107e-50 t¹⁴ + 1.0833423268684392e-54 t¹⁵ - 2.1636322128836434e-59 t¹⁶ + 3.693380204444548e-64 t¹⁷ - 5.433407447296043e-69 t¹⁸ + 7.0010539753299e-74 t¹⁹ - 8.096408020401043e-79 t²⁰ + 8.236092143148846e-84 t²¹ - 1.6756372361549572e-88 t²² - 5.113639026351798e-93 t²³ + 𝒪(t²⁶), - 3.0 + 0.9855985596534887 t - 0.0346930185996797 t² + 0.0003561811371028751 t³ - 1.6600250618174164e-6 t⁴ + 4.164618191750326e-9 t⁵ - 6.384754732667188e-12 t⁶ + 6.495497160299569e-15 t⁷ - 4.63931794869163e-18 t⁸ + 2.4266099068085903e-21 t⁹ - 9.614606730191323e-25 t¹⁰ + 2.966581998326824e-28 t¹¹ - 7.292201204663291e-32 t¹² + 1.4552508299165646e-35 t¹³ - 2.39539465954227e-39 t¹⁴ + 3.296396200226081e-43 t¹⁵ - 3.8370314888442363e-47 t¹⁶ + 3.8167259224773965e-51 t¹⁷ - 3.2739277340501744e-55 t¹⁸ + 2.4414988706568352e-59 t¹⁹ - 1.5945118230482985e-63 t²⁰ + 9.180219413070852e-68 t²¹ - 4.687453511688598e-72 t²² + 2.134272799547002e-76 t²³ - 8.708746013736528e-81 t²⁴ + 3.19915276569805e-85 t²⁵ + 𝒪(t²⁶)],Array{Float64,1}[[0.0,0.125,0.25,0.375,0.5,0.625,0.75,0.875,1.0,1.125  …  58.875,59.0,59.125,59.25,59.375,59.5,59.625,59.75,59.875,60.0],[0.0,6.0555e-18,1.2079e-17,1.80705e-17,2.40301e-17,2.99579e-17,3.58539e-17,4.17181e-17,4.75507e-17,5.33516e-17  …  2.02472e-15,2.04768e-15,2.07078e-15,2.09402e-15,2.11739e-15,2.14091e-15,2.16457e-15,2.18837e-15,2.21231e-15,2.2364e-15]],TaylorSeries.Taylor1{Float64}[ - 3.0 + 0.029013312701087708 t - 3.0063296924682043e-5 t² + 9.085789942723439e-9 t³ - 1.2465327103404912e-12 t⁴ + 9.205798933352075e-17 t⁵ - 4.1545861654293486e-21 t⁶ + 1.2442086255277625e-25 t⁷ - 2.6159666705816747e-30 t⁸ + 4.027868598980367e-35 t⁹ - 4.697903705961774e-40 t¹⁰ + 4.2670349667986045e-45 t¹¹ - 3.087633431270049e-50 t¹² + 1.8138534320615386e-55 t¹³ - 8.788976878397638e-61 t¹⁴ + 3.560370151879889e-66 t¹⁵ - 1.2200047116736222e-71 t¹⁶ + 3.573145618872409e-77 t¹⁷ - 9.018776022118796e-83 t¹⁸ + 1.9938265878849075e-88 t¹⁹ - 3.956079158059415e-94 t²⁰ + 6.904661823322807e-100 t²¹ - 2.4101820509495187e-105 t²² - 1.261968580220134e-110 t²³ + 𝒪(t²⁶), - 3.0 + 0.16910197872576274 t - 0.0010212671146060113 t² + 1.7989405196606963e-6 t³ - 1.43849766754777e-9 t⁴ + 6.191820225703711e-13 t⁵ - 1.628680867512314e-16 t⁶ + 2.8428425200773745e-20 t⁷ - 3.4837194387790816e-24 t⁸ + 3.1263502436015863e-28 t⁹ - 2.1252881370187476e-32 t¹⁰ + 1.1251004013237018e-36 t¹¹ - 4.745065317140926e-41 t¹² + 1.6246882397161446e-45 t¹³ - 4.588364252039873e-50 t¹⁴ + 1.0833501423304479e-54 t¹⁵ - 2.1635823627302263e-59 t¹⁶ + 3.6924759308357895e-64 t¹⁷ - 5.434310095904104e-69 t¹⁸ + 6.953132170898867e-74 t¹⁹ - 7.79112783662333e-79 t²⁰ + 7.696163351436618e-84 t²¹ - 6.742280533498113e-89 t²² + 5.26706167714836e-94 t²³ - 3.687421032738281e-99 t²⁴ + 2.3240780666814377e-104 t²⁵ + 𝒪(t²⁶)],Any[ - 0.05636732624192091 + 𝒪(‖x‖¹), - 0.0060393563830629556 + 𝒪(‖x‖¹), - 0.0017614789450600317 + 𝒪(‖x‖¹), - 0.0007996360367818657 + 𝒪(‖x‖¹), - 0.00043043658431917754 + 𝒪(‖x‖¹), - 0.0002630374927151105 + 𝒪(‖x‖¹), - 0.00017454877605408293 + 𝒪(‖x‖¹), - 0.00012254352515666598 + 𝒪(‖x‖¹), - 8.974173433177018e-5 + 𝒪(‖x‖¹), - 6.797984769464601e-5 + 𝒪(‖x‖¹)  …   - 2.8241483204405876e-5 + 𝒪(‖x‖¹), - 2.3610663965174453e-5 + 𝒪(‖x‖¹), - 1.99718238568038e-5 + 𝒪(‖x‖¹), - 1.7070277390269064e-5 + 𝒪(‖x‖¹), - 1.4711205309319569e-5 + 𝒪(‖x‖¹), - 1.2885199652777747e-5 + 𝒪(‖x‖¹), - 1.1564555921052629e-5 + 𝒪(‖x‖¹), - 1.0172526041666664e-5 + 𝒪(‖x‖¹), - 2.0345052083333332e-5 + 𝒪(‖x‖¹), 3.0517578125e-5 + 𝒪(‖x‖¹)],Any[ - 0.32853285321782955 + 𝒪(‖x‖¹), - 0.03519994855905317 + 𝒪(‖x‖¹), - 0.010266651663057177 + 𝒪(‖x‖¹), - 0.004660620366703907 + 𝒪(‖x‖¹), - 0.002508768263529015 + 𝒪(‖x‖¹), - 0.0015330948573664498 + 𝒪(‖x‖¹), - 0.0010173448209475884 + 𝒪(‖x‖¹), - 0.0007142360059899813 + 𝒪(‖x‖¹), - 0.0005230531585990862 + 𝒪(‖x‖¹), - 0.0003962155888020825 + 𝒪(‖x‖¹)  …   - 0.00016460355907713914 + 𝒪(‖x‖¹), - 0.00013761390788338742 + 𝒪(‖x‖¹), - 0.0001164007981983803 + 𝒪(‖x‖¹), - 9.94708001113393e-5 + 𝒪(‖x‖¹), - 8.577843420114123e-5 + 𝒪(‖x‖¹), - 7.457400006922138e-5 + 𝒪(‖x‖¹), - 6.530872662739868e-5 + 𝒪(‖x‖¹), - 5.757385602522922e-5 + 𝒪(‖x‖¹), - 5.1060364690353405e-5 + 𝒪(‖x‖¹), - 4.553160461698438e-5 + 𝒪(‖x‖¹)])"
      ]
     },
     "execution_count": 51,
     "metadata": {},
     "output_type": "execute_result"
    }
   ],
   "source": [
    "Polinomio,E,ValProp,ConverX,ConverY = MetParametrización(Henon,1., 25, [-3.,-3.], 3., 1., 2, 60., 0.125, Float64)"
   ]
  },
  {
   "cell_type": "code",
   "execution_count": 48,
   "metadata": {
    "collapsed": false
   },
   "outputs": [
    {
     "data": {
      "text/plain": [
       "(Any[ - 0.05636732624192091 + 𝒪(‖x‖¹), - 0.0060393563830629556 + 𝒪(‖x‖¹), - 0.0017614789450600317 + 𝒪(‖x‖¹), - 0.0007996360367818657 + 𝒪(‖x‖¹), - 0.00043043658431917754 + 𝒪(‖x‖¹), - 0.0002630374927151105 + 𝒪(‖x‖¹), - 0.00017454877605408293 + 𝒪(‖x‖¹), - 0.00012254352515666598 + 𝒪(‖x‖¹), - 8.974173433177018e-5 + 𝒪(‖x‖¹), - 6.797984769464601e-5 + 𝒪(‖x‖¹)  …   - 2.8241483204405876e-5 + 𝒪(‖x‖¹), - 2.3610663965174453e-5 + 𝒪(‖x‖¹), - 1.99718238568038e-5 + 𝒪(‖x‖¹), - 1.7070277390269064e-5 + 𝒪(‖x‖¹), - 1.4711205309319569e-5 + 𝒪(‖x‖¹), - 1.2885199652777747e-5 + 𝒪(‖x‖¹), - 1.1564555921052629e-5 + 𝒪(‖x‖¹), - 1.0172526041666664e-5 + 𝒪(‖x‖¹), - 2.0345052083333332e-5 + 𝒪(‖x‖¹), 3.0517578125e-5 + 𝒪(‖x‖¹)],Any[ - 0.32853285321782955 + 𝒪(‖x‖¹), - 0.03519994855905317 + 𝒪(‖x‖¹), - 0.010266651663057177 + 𝒪(‖x‖¹), - 0.004660620366703907 + 𝒪(‖x‖¹), - 0.002508768263529015 + 𝒪(‖x‖¹), - 0.0015330948573664498 + 𝒪(‖x‖¹), - 0.0010173448209475884 + 𝒪(‖x‖¹), - 0.0007142360059899813 + 𝒪(‖x‖¹), - 0.0005230531585990862 + 𝒪(‖x‖¹), - 0.0003962155888020825 + 𝒪(‖x‖¹)  …   - 0.00016460355907713914 + 𝒪(‖x‖¹), - 0.00013761390788338742 + 𝒪(‖x‖¹), - 0.0001164007981983803 + 𝒪(‖x‖¹), - 9.94708001113393e-5 + 𝒪(‖x‖¹), - 8.577843420114123e-5 + 𝒪(‖x‖¹), - 7.457400006922138e-5 + 𝒪(‖x‖¹), - 6.530872662739868e-5 + 𝒪(‖x‖¹), - 5.757385602522922e-5 + 𝒪(‖x‖¹), - 5.1060364690353405e-5 + 𝒪(‖x‖¹), - 4.553160461698438e-5 + 𝒪(‖x‖¹)])"
      ]
     },
     "execution_count": 48,
     "metadata": {},
     "output_type": "execute_result"
    }
   ],
   "source": [
    "ConverX,ConverY"
   ]
  },
  {
   "cell_type": "code",
   "execution_count": 42,
   "metadata": {
    "collapsed": false
   },
   "outputs": [
    {
     "data": {
      "text/plain": [
       "(TaylorSeries.Taylor1{BigFloat}[ - 3.000000000000000000000000000000000000000000000000000000000000000000000000000000 + 5.828427124746190097603377448419396157139343750753896146353359475981464956922719 t - 1.213234383874183592343580881804156319387002232304406317075719887710313919340291 t² + 7.365883532965649308635350100248469698656139556413183226278555865303246781703895e-02 t³ - 2.030111478954473546339712642631371209122943811805404461847432584702928911881000e-03 t⁴ + 3.01183894369829167051020440473826302096143022951152973328942811462677093678093e-05 t⁵ - 2.730562250420524795019383628117822411379811982529938212583534325252072880353943e-07 t⁶ + 1.642750359678129875310219585996210471058056954905435623957450560222748482620114e-09 t⁷ - 6.93848448478493735233116233487867804435386398641732471387218720438266683982254e-12 t⁸ + 2.146158343625010631355167278234496074929678751518331975930783529926029940884732e-14 t⁹ - 5.028571505725770501873519185516480323169911828180422556673778798135621663996208e-17 t¹⁰ + 9.175310559285305915937892897167020116858506227137349536386501417152166988943838e-20 t¹¹ - 1.333749806591945903198326590318453743125781943007477487315676547006789547309496e-22 t¹² + 1.574000596191517308757569645063873592645884049612824539861545250744355369819528e-25 t¹³ - 1.532129322694738312999561021148866889902851175851573012615081822040320477373452e-28 t¹⁴ + 1.246835223862169108864030750985891452846889010275257816827540396734139912593368e-31 t¹⁵ - 8.582549796971615280448305026939934086093814814881653529332640551536135558210387e-35 t¹⁶ + 5.048510385998102269501045318509143334101077305459352427000041226531720209521936e-38 t¹⁷ - 2.56090035159262663004221100093245460770793877176546953942541948207577103709227e-41 t¹⁸ + 1.129357476903767147178956614214922436096311098721079257735601147992808928686852e-44 t¹⁹ - 4.361681655808518002865865475189296074463013282465640733580365462282811879859502e-48 t²⁰ + 1.485014207879485973885574662706419059583026674278822186099337294457577592864832e-51 t²¹ - 4.484002626884918512177866151927677063222515668906321101378632688866346601832622e-55 t²² + 1.207341502936472638916626287806674635029448267862725812789748262528113070998053e-58 t²³ - 2.913311843386564855212047349077230452228088978520387592029207410607581852905086e-62 t²⁴ + 6.328734243672495336180834330136838811875949822038341700875092931089950731460077e-66 t²⁵ + 𝒪(t²⁶), - 3.000000000000000000000000000000000000000000000000000000000000000000000000000000 + 1.000000000000000000000000000000000000000000000000000000000000000000000000000000 t - 3.571428571428571428571428571428571428571428571428571428571428571428571428569694e-02 t² + 3.720238095238095238095238095238095238095238095238095238095238095238095238092573e-04 t³ - 1.759196710042902178292919955438621441608002085851762307710540662257934532696492e-06 t⁴ + 4.477905159492036403079565989329197748453952677802496475610320451392768821477222e-09 t⁵ - 6.965364655367871237019601692367200215533380353619793830156805619439009804575896e-12 t⁶ + 7.189719981572598150176955481943127054333892636844229798640136129636400126168975e-15 t⁷ - 5.210191140732056392957039998431290263915526757731686264428273220018281439611011e-18 t⁸ + 2.765027308910958845999823727260321693775258653285194415054976444911505215054616e-21 t⁹ - 1.111554915055461338342546478689869162871237354930370255545890657131795293316361e-24 t¹⁰ + 3.479811310910615296784548900558494341556460120200710213537329145027686649396956e-28 t¹¹ - 8.678764849433529103368458133346607390729172633802879999054936767740510629265412e-32 t¹² + 1.757264249823638122600280655345590575285364825738751781145268406367344173099943e-35 t¹³ - 2.934784623381409700276873862463434104199282158684096757819530805882320598707256e-39 t¹⁴ + 4.097684365553680022304443523415474113370631102323426318693362187893304938319802e-43 t¹⁵ - 4.839432103168618177151248556391762626011206735209971985197214746385127098952676e-47 t¹⁶ + 4.884160787414490840421923718640316352516978323343162401875790686460674407137549e-51 t¹⁷ - 4.250773922259979104909408495303238352499206396716726587922953640975230791356969e-55 t¹⁸ + 3.216291393570125186640894401824686263288866618342792894135502896383081694084601e-59 t¹⁹ - 2.131211501341733706910865650353783931024003390749245762177372904119928103445887e-63 t²⁰ + 1.244949756513687150496546266122982329258992420805839223442283975239138512662649e-67 t²¹ - 6.449643404038740764618893678129976258526818901704839184371366761806353307669293e-72 t²² + 2.97953577569705432210627086142879323200950535259503763965375339828026057649408e-76 t²³ - 1.233542389373230857527667132220843895242455045618873340886938526993214718556614e-80 t²⁴ + 4.597614907072317462686220216789409695638538389223163075501646657785772761044862e-85 t²⁵ + 𝒪(t²⁶)],Array{BigFloat,1}[BigFloat[0.000000000000000000000000000000000000000000000000000000000000000000000000000000,1.250000000000000000000000000000000000000000000000000000000000000000000000000000e-01,2.500000000000000000000000000000000000000000000000000000000000000000000000000000e-01,3.750000000000000000000000000000000000000000000000000000000000000000000000000000e-01,5.000000000000000000000000000000000000000000000000000000000000000000000000000000e-01,6.250000000000000000000000000000000000000000000000000000000000000000000000000000e-01,7.500000000000000000000000000000000000000000000000000000000000000000000000000000e-01,8.750000000000000000000000000000000000000000000000000000000000000000000000000000e-01,1.000000000000000000000000000000000000000000000000000000000000000000000000000000,1.125000000000000000000000000000000000000000000000000000000000000000000000000000  …  5.887500000000000000000000000000000000000000000000000000000000000000000000000000e+01,5.900000000000000000000000000000000000000000000000000000000000000000000000000000e+01,5.912500000000000000000000000000000000000000000000000000000000000000000000000000e+01,5.925000000000000000000000000000000000000000000000000000000000000000000000000000e+01,5.937500000000000000000000000000000000000000000000000000000000000000000000000000e+01,5.950000000000000000000000000000000000000000000000000000000000000000000000000000e+01,5.962500000000000000000000000000000000000000000000000000000000000000000000000000e+01,5.975000000000000000000000000000000000000000000000000000000000000000000000000000e+01,5.987500000000000000000000000000000000000000000000000000000000000000000000000000e+01,6.000000000000000000000000000000000000000000000000000000000000000000000000000000e+01],BigFloat[0.000000000000000000000000000000000000000000000000000000000000000000000000000000,1.813595314128481429211836936657870374642856560572957674547477657220226701889814e-76,3.627189472791154862309148797614593527022938225412730445211365477956019794246816e-76,5.440779498930399194204983119388003102651390565940919167304914725692752528594419e-76,7.254360419523782325515454086986349987059570489959148962464436774907012999312641e-76,9.067925255933679334618798823569065642957067231751378397626802889323789851185998e-76,1.088146501425805045795930048566180187388982378134654588218600387343070597332572e-75,1.269496867568276551242120639934017387127274761348159717447333160370021375375382e-75,1.450842318683586142027736765720032592974125066306178497843838289781117205143492e-75,1.63218134501441195306056524535201327235684607875463864429242476367815823211021e-75  …  2.181887946489120270778410688372382748912351062045749225966918920149483430514156e-68,2.21190879463048807363347759519879396758391816476276617854323523726409407149548e-68,2.242223547502186597558488395110279429228375142429041211745979669051680069398308e-68,2.272832878495249869635090583896848251454099061966651614261056208949999465521703e-68,2.303737410601873489148228067706350474520498133011250146150663081333302126438051e-68,2.334937714989176184820172441579653180501692585664577917082837781366558050424586e-68,2.366434309547909220942210128802425497707076897077013405197616170893880531239784e-68,2.398227657415771813538117886369670949886263418229840385798470080227172763993156e-68,2.430318165474986771832256378039645059017007776827033745467175064868253982595468e-68,2.462706182823786593097123624405296979543474236589999122260672698354804508575098e-68]],TaylorSeries.Taylor1{BigFloat}[ - 3.000000000000000000000000000000000000000000000000000000000000000000000000000000 + 3.397056274847714058562026469051637694283606250452337687812015685588878974153645e+01 t - 4.121425476600795642539603569562702914487236161263552906628876189643638754328368e+01 t² + 1.458407737146246182157418367468244619381534679788857897850773108949090481824967e+01 t³ - 2.342746887516752429573850096676646936706435550821350897209629492206517706376045 t⁴ + 2.025762828752419382664799451831295814606680487829928120585504593794761618151089e-01 t⁵ - 1.070435012713317664606711646192788572472393871838048342735017743169637048612408e-02 t⁶ + 3.753454586742274627085582341757531902082280743441894713386978189044147736702861e-04 t⁷ - 9.240076927165677870081609461237666813160230334543845637251854224432830514706781e-06 t⁸ + 1.665804753923164376570038357398135518302430464200810856825027522157129384545359e-07 t⁹ - 2.274879184618194442857817675278659473047796867816131342688987798714628959044417e-09 t¹⁰ + 2.419278413038496444976684682754481130301822538931838542121300905336159519235174e-11 t¹¹ - 2.049702437438620982124313390809610963683785360428576925520810018526148848686582e-13 t¹² + 1.409849359343590818602704395713297993602017750154162076679050299224690788330049e-15 t¹³ - 7.998611696269483814993464361074763882784595076706168843794026619506634138256374e-18 t¹⁴ + 3.793845344780155409700466572665452192368088711537627558702755347104152037749542e-20 t¹⁵ - 1.522082745396273338126577426228079017533257276094480183674340496076913704917678e-22 t¹⁶ + 5.218390267414374661974499171912865392880577819438883804989451789222570735075781e-25 t¹⁷ - 1.542827431128231099689826626772548277074848091641186953821040994260593836372944e-27 t¹⁸ + 3.965586927814642964286250990984900985492452839914426680093758430920880240932564e-30 t¹⁹ - 8.926503472151658675774557766312469482347851857059332855143689373155229249291900e-33 t²⁰ + 1.771370439703115977222783953864033698954930424828532541590925681499648821452115e-35 t²¹ - 3.117424995205219924687468690879615786081508651734104773134372846400327335295528e-38 t²² + 4.892283947729682160659329713537412143781800077138328747545602488938355827781247e-41 t²³ - 6.880497962562039232782872431387818136011735089702850032365962789254882431493485e-44 t²⁴ + 8.711664186015496170052782423272646428842785729844827139012572878351664969587792e-47 t²⁵ + 𝒪(t²⁶), - 3.000000000000000000000000000000000000000000000000000000000000000000000000000000 + 5.828427124746190097603377448419396157139343750753896146353359475981464956924169 t - 1.213234383874183592343580881804156319387002232304406317075719887710313919340291 t² + 7.365883532965649308635350100248469698656139556413183226278555865303246781703895e-02 t³ - 2.030111478954473546339712642631371209122943811805404461847432584702928911881034e-03 t⁴ + 3.011838943698291670510204404738263020961430229511529733289428114626770936780904e-05 t⁵ - 2.730562250420524795019383628117822411379811982529938212583534325252072880353943e-07 t⁶ + 1.64275035967812987531021958599621047105805695490543562395745056022274848262013e-09 t⁷ - 6.93848448478493735233116233487867804435386398641732471387218720438266683982254e-12 t⁸ + 2.146158343625010631355167278234496074929678751518331975930783529926029940884757e-14 t⁹ - 5.02857150572577050187351918551648032316991182818042255667377879813562166399616e-17 t¹⁰ + 9.175310559285305915937892897167020116858506227137349536386501417152166988943744e-20 t¹¹ - 1.333749806591945903198326590318453743125781943007477487315676547006789547309496e-22 t¹² + 1.57400059619151730875756964506387359264588404961282453986154525074435536981951e-25 t¹³ - 1.532129322694738312999561021148866889902851175851573012615081822040320477373434e-28 t¹⁴ + 1.246835223862169108864030750985891452846889010275257816827540396734139912593368e-31 t¹⁵ - 8.582549796971615280448305026939934086093814814881653529332640551536135558210387e-35 t¹⁶ + 5.048510385998102269501045318509143334101077305459352427000041226531720209521936e-38 t¹⁷ - 2.56090035159262663004221100093245460770793877176546953942541948207577103709231e-41 t¹⁸ + 1.129357476903767147178956614214922436096311098721079257735601147992808928686852e-44 t¹⁹ - 4.361681655808518002865865475189296074463013282465640733580365462282811879859502e-48 t²⁰ + 1.485014207879485973885574662706419059583026674278822186099337294457577592864832e-51 t²¹ - 4.484002626884918512177866151927677063222515668906321101378632688866346601832678e-55 t²² + 1.207341502936472638916626287806674635029448267862725812789748262528113070998081e-58 t²³ - 2.913311843386564855212047349077230452228088978520387592029207410607581852905053e-62 t²⁴ + 6.328734243672495336180834330136838811875949822038341700875092931089950731460077e-66 t²⁵ + 𝒪(t²⁶)], - 2.289045747914862833399146457063023108670732342756235987032208210944324510124139 + 𝒪(‖x‖¹), - 3.927381605572607494166127854955712056179599261882737015593101906966320843118157e-01 + 𝒪(‖x‖¹))"
      ]
     },
     "execution_count": 42,
     "metadata": {},
     "output_type": "execute_result"
    }
   ],
   "source": [
    "PolinomioB,EBig,ValPropB,ConverXB,ConverYB = MetParametrización(Henon, 1., 25, [-3.,-3.], 3., 1., 1, 60., 0.125, BigFloat)"
   ]
  },
  {
   "cell_type": "markdown",
   "metadata": {},
   "source": [
    "Graficaremos el error cometido que es el que nos dirá cuanta diferencia hay entre tipos de números. "
   ]
  },
  {
   "cell_type": "code",
   "execution_count": 44,
   "metadata": {
    "collapsed": false
   },
   "outputs": [
    {
     "data": {
      "text/plain": [
       "( - 2.289045747914862833399146457063023108670732342756235987032208210944324510124139 + 𝒪(‖x‖¹), - 3.927381605572607494166127854955712056179599261882737015593101906966320843118157e-01 + 𝒪(‖x‖¹))"
      ]
     },
     "execution_count": 44,
     "metadata": {},
     "output_type": "execute_result"
    }
   ],
   "source": [
    "ConverXB,ConverYB"
   ]
  },
  {
   "cell_type": "code",
   "execution_count": null,
   "metadata": {
    "collapsed": false,
    "scrolled": true
   },
   "outputs": [],
   "source": [
    "plot(E[1],log10(E[2]),marker= \"None\", label=\"Float\")\n",
    "plot(EBig[1],log10(EBig[2]),marker= \"None\", label=\"BigFloat\")\n",
    "xlabel(\"Parámetro t\")\n",
    "ylabel(L\"log10($|| E||_{\\infty})$\")\n",
    "title(\"Error \")\n",
    "grid(\"on\")\n",
    "legend(loc=\"upper right\",fancybox=\"true\" )"
   ]
  },
  {
   "cell_type": "markdown",
   "metadata": {
    "collapsed": true
   },
   "source": [
    "Para observar cómo va la variedad graficaremos el espacio fase"
   ]
  },
  {
   "cell_type": "code",
   "execution_count": null,
   "metadata": {
    "collapsed": false
   },
   "outputs": [],
   "source": [
    "#esta es una función para evaluar el los polinomios que calculamos\n",
    "# recibe como entrada el tiempo que es el valor del parámetro t, el paso\n",
    "# que define en pasos de cuanto queremos ir evaluando y claro los polinomios A,B\n",
    "function evaluar(Tiempo, paso,A,B,vari)\n",
    "    ValX=Float64[]\n",
    "    \n",
    "    ValY=Float64[]\n",
    "\n",
    "    for t = 0:paso:Tiempo\n",
    "        \n",
    "        x = evaluate(A,t)\n",
    "        y = evaluate(B,t)\n",
    "        \n",
    "        push!(ValX,x)\n",
    "        push!(ValY,y)\n",
    "        \n",
    "    end\n",
    "    p = plot(ValX,ValY,linestyle=\"-\",label = vari)\n",
    "    \n",
    "end"
   ]
  },
  {
   "cell_type": "code",
   "execution_count": null,
   "metadata": {
    "collapsed": false
   },
   "outputs": [],
   "source": [
    "function Graficar(Tiempo, paso, k,l,A,B,vari)\n",
    "    #graficarMap(k,l)\n",
    "    evaluar(Tiempo,paso,A,B,vari)\n",
    "end"
   ]
  },
  {
   "cell_type": "code",
   "execution_count": null,
   "metadata": {
    "collapsed": false
   },
   "outputs": [],
   "source": [
    "Graficar(10.7,0.025,8.,1.,Polinomio[1],Polinomio[2],\"estable\")\n",
    "Graficar(10.7,0.025,8.,1.,PolinomioB[1],PolinomioB[2],\"inestable\")"
   ]
  },
  {
   "cell_type": "code",
   "execution_count": null,
   "metadata": {
    "collapsed": true
   },
   "outputs": [],
   "source": []
  }
 ],
 "metadata": {
  "kernelspec": {
   "display_name": "Julia 0.5.2",
   "language": "julia",
   "name": "julia-0.5"
  },
  "language_info": {
   "file_extension": ".jl",
   "mimetype": "application/julia",
   "name": "julia",
   "version": "0.5.2"
  }
 },
 "nbformat": 4,
 "nbformat_minor": 2
}
