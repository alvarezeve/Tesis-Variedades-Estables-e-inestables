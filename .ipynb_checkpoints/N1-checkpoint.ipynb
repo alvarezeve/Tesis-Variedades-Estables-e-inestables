{
 "cells": [
  {
   "cell_type": "markdown",
   "metadata": {},
   "source": [
    "\n",
    "# Este es un mapar de los capítulos que debe contener mi tesis"
   ]
  },
  {
   "cell_type": "markdown",
   "metadata": {},
   "source": [
    "## Capitulo 1:"
   ]
  },
  {
   "cell_type": "markdown",
   "metadata": {
    "collapsed": true
   },
   "source": [
    "En el capítulo uno debo escribir la motivación y una introducción breve a lo qu son sistemas hamiltonianos de dos dimensiones y las variedades inestables. Debo poner por qué es interesante estudar estos sistemas y  decir cuaĺ es el objetivo de mi trabajo .Además debo exponer brevemente el trabajo de J.D Mireles.\n"
   ]
  },
  {
   "cell_type": "markdown",
   "metadata": {
    "collapsed": true
   },
   "source": [
    "## Capítulo 2"
   ]
  },
  {
   "cell_type": "markdown",
   "metadata": {},
   "source": [
    "En el capítulo dos debo comenzar a hablar sbre cómo se hizo la automatización del métod. Es decir de cómo generalice primero el caso del mapeo estándar y luego como se hizo de manera general para cualquier mapeo. Reproduciendo los cálculos del artíclo y ademas de obteniendo infromación que ya es conocida sobre el mapeo para corroborara que el programa funciona de manera óptima."
   ]
  },
  {
   "cell_type": "markdown",
   "metadata": {},
   "source": [
    "## Capítulo 3"
   ]
  },
  {
   "cell_type": "markdown",
   "metadata": {},
   "source": [
    "En el capitulo 3 explotare el programa probando un nuevo sistema, por ejemplo elmapeo de henon. Analizaremos algunas de las propiedades de este mapeo y describiremos algunos de sus puntos fijos así como las variedades aunadas a ellos. "
   ]
  },
  {
   "cell_type": "markdown",
   "metadata": {},
   "source": [
    "## Conclusiones"
   ]
  },
  {
   "cell_type": "markdown",
   "metadata": {},
   "source": [
    "En esta parte escribiremos que tan bueno es el programa para el cálculo de variedades inestables y estables. Además concluiremos algunas cosas sobre el mapeo de henon. También escribire algunas de las cosas a futuro qu se puedens eguir de este trabajo. "
   ]
  },
  {
   "cell_type": "code",
   "execution_count": null,
   "metadata": {
    "collapsed": true
   },
   "outputs": [],
   "source": []
  }
 ],
 "metadata": {
  "kernelspec": {
   "display_name": "Julia 0.5.0",
   "language": "julia",
   "name": "julia-0.5"
  },
  "language_info": {
   "file_extension": ".jl",
   "mimetype": "application/julia",
   "name": "julia",
   "version": "0.5.0"
  }
 },
 "nbformat": 4,
 "nbformat_minor": 0
}
