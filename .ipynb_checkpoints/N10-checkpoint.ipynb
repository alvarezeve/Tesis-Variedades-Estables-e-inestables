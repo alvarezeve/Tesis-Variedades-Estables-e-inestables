{
 "cells": [
  {
   "cell_type": "markdown",
   "metadata": {},
   "source": [
    "# Modificaciones : sin Taylor1\n"
   ]
  },
  {
   "cell_type": "markdown",
   "metadata": {},
   "source": [
    "Antes de seguir probando la automarización que hemos logrado debemos hacer algunas mejoras. Para ellos revisaremos cada función y de ser posible haremos más simples algunas cosas y omitiremos aquellas que sean redundantes. Es punto de esto es hacer un prógrama mejor automatizado y más simple."
   ]
  },
  {
   "cell_type": "code",
   "execution_count": 2,
   "metadata": {
    "collapsed": false
   },
   "outputs": [],
   "source": [
    "using TaylorSeries\n",
    "using PyPlot\n",
    "using LinearAlgebra"
   ]
  },
  {
   "cell_type": "markdown",
   "metadata": {},
   "source": [
    "La idea es quitar la necesidad de tener que usar Taylor1, ya que en las funciones de jacobian no se tiene definidas alginas cosas para Taylor1.TaylorN mientras que sí fúnciona para Taylor N. Recordemos que hay que revisar la estabilidad de las respuestas en cada paso. \n",
    "La diferencia entre el notebook anterior y este es que aislaremos la parte de g=1 del método."
   ]
  },
  {
   "cell_type": "markdown",
   "metadata": {},
   "source": [
    "Para poder automatizar el método de parametrización es necesario tener dos variables, en general llamadas $x,y$ . Dado que los mapeos para los que se está programando el método son de dos dimensiones. Nos conviene que ambas variables sean de tipo TaylorN{T} ya que estamos usando el manipulador de series TaylorSeries. Además deben ser de orden al menos dos ya que por cuestiones del mismo paquete si se escoge el orden puede que se pierdan terminos al hacer operaciones ya que cortará automáticamente el orden 2. Entonces podemos decir que las variables que usaremos serán no solo variables simples sino que serán un polinomio. \n",
    "$$x+O(x^2)$$\n",
    "$$y+O(y^2)$$\n",
    "\n",
    "Como el ejemplo en particular con el que se comenzó a trabajar fue el mapeo estándar se usaron las variables $\\theta, P$. "
   ]
  },
  {
   "cell_type": "markdown",
   "metadata": {},
   "source": [
    "Esta primer función realiza la creación de las variables $\\theta,P$. Además de eso las mete dentro de un polinomio de tipo Taylor1. La razón para tenerlo dentro de un polinomio es que el método en forma general es un método recursivo, en el que se calcula el nuevo término a partir de los anteriores. Así que el término $n$ que se está calculando debe ser una incógnita que es representada en este caso por las variables antes definidas $\\theta, P$. Dado que la parametrización es directamente calcular los coeficientes de un polinomio de grado $m$ entonces el último término en cada paso debe ser una incógnita representada por las variables antes mencionadas.Es decir \n",
    "$$T_{1}=a_{0}+a_{1}t+a_{2}t^{2}+ ...+a*_{n}t^{n}$$\n",
    "$$T_{2}=b_{0}+b_{1}t+b_{2}t^{2}+...+b*_{n}t^{n}$$\n",
    "Donde los coeficientes n-ésimos marcados con asterisco son los que se calculan en el paso n y son representados por \n",
    "$$a*_{n}=x+O(x^2)$$\n",
    "$$b*_{n}=y+O(y^2)$$\n",
    "Es decir estamos pensando que como debemos encontrar el valor de los coeficientes n entonces los escribimos a su vez como una incógnita solo por simplicidad a la hora de usar el manipulador algebráico."
   ]
  },
  {
   "cell_type": "code",
   "execution_count": 3,
   "metadata": {
    "collapsed": false
   },
   "outputs": [
    {
     "data": {
      "text/plain": [
       "PolinomioTaylor1"
      ]
     },
     "execution_count": 3,
     "metadata": {},
     "output_type": "execute_result"
    }
   ],
   "source": [
    "\"\"\"\n",
    "\n",
    "PolinomioTaylor1(g,Cθ,CP,TipoVariable)\n",
    "   \n",
    "   Es una función cuyo objetivo es recibir dos listas con valores iniciales y crear dos polinomios de grado g.\n",
    "\n",
    "\n",
    "\n",
    "\n",
    "Argumentos:\n",
    "\n",
    "\n",
    "\n",
    "\n",
    "\n",
    "   - g       : grado del polinomio\n",
    "   - Cθ,CP  :  Arreglo que contiene los coeficientes iniciales, es del tipo Array{TaylorSeries.TaylorN{Float64}}\n",
    "   - TipoVariable :  es el tipo : Real, Float64, BigFloat, etc.\n",
    "   \n",
    "\n",
    "    Esta función regresa dos arreglos que contienen elementos del tipo Taylor1.TaylorN, creados con las listas iniciales. \n",
    "\n",
    "\n",
    "\"\"\"\n",
    "function PolinomioTaylor1(g::Real,Cθ,CP,TipoVariable)\n",
    "    #=\n",
    "    g es el grado del polinomio, CX y CP son\n",
    "    arreglos que contienen los coeficientes que forman la variedad.\n",
    "    \n",
    "    \n",
    "    Creamos x,p como variables tipo TaylorN de orden 2\n",
    "    =#\n",
    "    \n",
    "    \n",
    "    \n",
    "    θ,p = set_variables(TipoVariable, \"θ p\", order=2)\n",
    "    \n",
    "    #especificamos que LX,LP son de arreglos que guardarán coeficientes del polinomio, sólo son auxiliares en esta función\n",
    "    \n",
    "   \n",
    "    Lθ = Array{TaylorSeries.TaylorN{TipoVariable}}(1)\n",
    "    LP = Array{TaylorSeries.TaylorN{TipoVariable}}(1)\n",
    "    \n",
    "   #usamos un condicional para separar el caso 1 del resto\n",
    "    if g == 1\n",
    "        \n",
    "        T = [Taylor1([θ], g),Taylor1([p], g)]\n",
    "    #en el caso en que g>1 entonces usamos las listas que van guardando los coeficientes\n",
    "    else\n",
    "        #como CX,CP están guardando los coeficientes pero necesitamos agregar el último término que será una variable \n",
    "        \n",
    "        Lθ = push!(Cθ, θ) \n",
    "        LP = push!(CP, p)\n",
    "\n",
    "        T=[Taylor1(Lθ, g),Taylor1(LP, g)]\n",
    "        \n",
    "    end\n",
    "    return T\n",
    "end\n",
    "#Esta función regresa tθ,tp que son Taylor1.TaylorN"
   ]
  },
  {
   "cell_type": "markdown",
   "metadata": {},
   "source": [
    "Ya en la función anterior se generan las variables de los polinomios que corresponden a la parametrización directamente , sin embargo el método hace una comparación entre los dos lados de la ecuación cohomológica. Pensando en que el sistema se linearizó del lado isquierd se tiene una matriz  multiplicada por un vector correspondiente a las variables mientras que del lado derecho se tiene  el mismo vector pero multiplicado por una constate.\n",
    "$$\\begin{pmatrix}\n",
    "a & b\\\\\n",
    "c& d \n",
    "\\end{pmatrix}\\begin{pmatrix}\n",
    "x\\\\\n",
    "y\n",
    "\\end{pmatrix}= \\lambda \\begin{pmatrix}\n",
    "x\\\\\n",
    "y\n",
    "\\end{pmatrix}$$\n",
    "Qué más específicamente es algo como:\n",
    "$$\\begin{pmatrix}\n",
    "a & b\\\\\n",
    "c& d \n",
    "\\end{pmatrix}\\begin{pmatrix}\n",
    "x+O(x^2)\\\\\n",
    "y+O(x^2)\n",
    "\\end{pmatrix}= \\lambda \\begin{pmatrix}\n",
    "x+O(x^2)\\\\\n",
    "y+O(y^2)\n",
    "\\end{pmatrix}$$\n",
    "Para el caso n-ésimo, mientras que los coeficientes anteriores ya se conocen y por lo que se puede hacer una comparación de coeficientes . Entonces es necesario crear como polinomio el lado derecho de esta ecuación que es lo que ace la función \"Vec$\\lambda$\"\n"
   ]
  },
  {
   "cell_type": "code",
   "execution_count": 4,
   "metadata": {
    "collapsed": false
   },
   "outputs": [
    {
     "data": {
      "text/plain": [
       "Vecλ"
      ]
     },
     "execution_count": 4,
     "metadata": {},
     "output_type": "execute_result"
    }
   ],
   "source": [
    "#=Esta función toma el arreglo que contiene las lambdas que se van calculando, los coeficientes de los polinomios\n",
    "y el orden de los mismos, lo que hace es generar el lado derecho de la ecuación cohomológica, multiplicando a_n*λ^n\n",
    "y generando un polinomio de gradno g con estos coeficientes\n",
    "=#\n",
    "\"\"\"\n",
    "Vecλ(λ_v,g,Cθ,CP)\n",
    "Es una función que calcula la parte derecha de la ecuación comohológica, es decir la parte que involucra el valor propio.\n",
    "Regresa un arreglo de tipo TaylorSeries.TaylorN{Float64}\n",
    "\n",
    "\n",
    "Sus argumentos son:\n",
    "-g      :  grado del polinomio.\n",
    "-λ_v    :  Arreglo de dos dimensiones que contiene el valor propio y sus potencias. \n",
    "-Cθ,CP  :  Los arreglos con los polinomios que se calculan en PolinomioTaylor1.\n",
    "\n",
    "\"\"\"\n",
    "function Vecλ(λ_v,g,Cθ,CP)\n",
    "   # el arreglo de λ_v contiene los arreglos que corresponden a la parte derecha de la ecuación cohomológica\n",
    "    # en θ,p. Es importante hacer la distinción puesto que dependiendo del punto fijo donde se esté calculando\n",
    "    # el primer valor de λ en θ serpa diferente del primer valor de λ en P\n",
    "    θλt=Taylor1(λ_v[1].*Cθ,g)\n",
    "    pλt=Taylor1(λ_v[2].*CP,g)\n",
    "    \n",
    "    λvec=[θλt,pλt]\n",
    "    \n",
    "    return λvec\n",
    "end"
   ]
  },
  {
   "cell_type": "markdown",
   "metadata": {},
   "source": [
    "Para poder resolver el primer término de la parametrización es necesario calcular los valores propios del sistema que resulta , como en la ecuación mostrada en la función anterior. La diferencia entre el primer término y los demás es que este no se puede calcular de los anteriores puesto que no hay anteriores. Lo que se hace es usar la información del punto fijo, se aplica el mapeo para algo como:\n",
    "$$a_{0}+x+O(x^2)$$\n",
    "$$b_{0}+y+O(y^2)$$\n",
    "y con el sistema resultante se obtienen lo valores y vectores propios de la matriz A\n",
    "$$\\mathbb{A}\\begin{pmatrix}\n",
    "x\\\\\n",
    "y\n",
    "\\end{pmatrix}=\\lambda \\begin{pmatrix}\n",
    "x\\\\\n",
    "y\n",
    "\\end{pmatrix}$$\n",
    "Los valores propios estarán asociados con la variedad estable o inestable del punto fijo,mientras que el vector propio asociado a cada uno de ellos será la dirección que necesitamos para comenzar a crear nuestra parametrización y por tanto contendrán los términos de orden uno en los polinomios. Para encontrar estos valores se escribieron las siguientes tres funciones que calculan por separadado los valores y vectores propios. Como la matriz $\\mathbb{A}$ es de $2\\times2$ entonces hay una forma muy fácil de encontrar los valores propios usando el polinomio característico \n",
    "$$det(\\mathbb(A-\\lambda\\mathbb{I}))=\\lambda^2 -Tr(\\mathbb(A))\\lambda+det(\\mathbb(A))$$"
   ]
  },
  {
   "cell_type": "code",
   "execution_count": 5,
   "metadata": {
    "collapsed": false
   },
   "outputs": [
    {
     "data": {
      "text/plain": [
       "ValPropios (generic function with 1 method)"
      ]
     },
     "execution_count": 5,
     "metadata": {},
     "output_type": "execute_result"
    }
   ],
   "source": [
    "function ValPropios(M)\n",
    "    V = BigFloat[]\n",
    "    \n",
    "    v_prop1 = (trace(M) + sqrt(trace(M)^2-4.*det(M)))/2.\n",
    "    v_prop2 = (trace(M) - sqrt(trace(M)^2-4.*det(M)))/2. # dado que hay unos casos en los que esto truena, \n",
    "    #debo integrag alguna forma de revisar que no sea el caso que estamos calculando\n",
    "    push!(V,v_prop1)\n",
    "    push!(V,v_prop2)\n",
    "    ValoresP = sort(V,rev=true)\n",
    "return ValoresP\n",
    "end\n",
    "        \n",
    "    \n",
    "    \n",
    "    "
   ]
  },
  {
   "cell_type": "code",
   "execution_count": 6,
   "metadata": {
    "collapsed": false
   },
   "outputs": [
    {
     "data": {
      "text/plain": [
       "VecPropios (generic function with 1 method)"
      ]
     },
     "execution_count": 6,
     "metadata": {},
     "output_type": "execute_result"
    }
   ],
   "source": [
    "function VecPropios(M,ValoresP)\n",
    "    Vectores = []\n",
    "    for i in [1,2]\n",
    "        y = big.(1.)\n",
    "        I_2 = big.([1. 0.; 0. 1.])\n",
    "        M_aux = -I_2.*ValoresP[i]+M\n",
    "        x = -(y*M_aux[3])/M_aux[1]\n",
    "        push!(Vectores,x)\n",
    "        push!(Vectores,y)\n",
    "    end\n",
    "    return Vectores\n",
    "end"
   ]
  },
  {
   "cell_type": "code",
   "execution_count": 7,
   "metadata": {
    "collapsed": false
   },
   "outputs": [
    {
     "data": {
      "text/plain": [
       "EigenValores (generic function with 1 method)"
      ]
     },
     "execution_count": 7,
     "metadata": {},
     "output_type": "execute_result"
    }
   ],
   "source": [
    "function EigenValores(M)\n",
    "    ValoresP  = ValPropios(M)\n",
    "    VectoresP = VecPropios(M,ValoresP)\n",
    "    V = (ValoresP,[VectoresP[1] VectoresP[3];VectoresP[2] VectoresP[4]])\n",
    "    return V\n",
    "end"
   ]
  },
  {
   "cell_type": "markdown",
   "metadata": {},
   "source": [
    "En este punto es donde comienza el método en sí. Los coeficientes de primer orden se van a calcular con una función específica dado que difieren de la forma de calcular los demás. de manera brebe podemos decir que en el primer orden lo que se hace es :\n",
    "\n",
    "- Generar las variables $\\theta,P$\n",
    "- Escribirlas dentro de un polinomio que como coeficientes independientes tiene al punto fijo.\n",
    "- Aplicar el mapeo a ambos polinomios :\n",
    "$$F(a_{0}+(x+O(x^2))t,b_{0}+(y+O(y^2))t)$$\n",
    "- Obtener los coeficientes del resultado y escribirlos como matriz en $\\mathbb{A}$\n",
    "- Calcular los valores propios y vectores propios.\n",
    "- Con lo anterior se obtiene el valor de $\\lambda$  y el de $a_{1},b_{1}$.\n",
    "- Escribir éstos en el polinomio :\n",
    "$$a_{0}+a_{1}t$$\n",
    "$$b_{0}+b_{1}t$$\n",
    "\n",
    "\n"
   ]
  },
  {
   "cell_type": "code",
   "execution_count": 8,
   "metadata": {
    "collapsed": false
   },
   "outputs": [
    {
     "data": {
      "text/plain": [
       "Orden1 (generic function with 1 method)"
      ]
     },
     "execution_count": 8,
     "metadata": {},
     "output_type": "execute_result"
    }
   ],
   "source": [
    "function Orden1(Cθ,CP,TipoVariable,Mapeo,k,l,PuntoFijo,tipo_v,λarrayθ,λarrayP)\n",
    "            #usamos la función PolinomioTaylor para crear el polinomio tipo Taylor1.TaylorN{T}\n",
    "            t = PolinomioTaylor1(1,Cθ,CP,TipoVariable)\n",
    "            @show(typeof(t))\n",
    "            #Aplicamos el mapeo a los polinomios que resultan de la función anterior.\n",
    "            Or1 = Mapeo(t[1],t[2],k,l)\n",
    "            @show(typeof(Or1))\n",
    "            AuxOr1=[Or1[1][1],Or1[2][1]]\n",
    "            @show(typeof(AuxOr1))\n",
    "            #Calculamos el jacobiano del Orden 1 para obtener sus valores y vectores propios.\n",
    "            JPO = jacobian(AuxOr1,[PuntoFijo[1],PuntoFijo[2]])\n",
    "            @show(typeof(JPO))\n",
    "            @show(det(JPO))\n",
    "            \n",
    "            \n",
    "            #Calculamos los valores y vectores propios\n",
    "            if TipoVariable == BigFloat\n",
    "                eigval,eigvec = EigenValores(JPO)\n",
    "            else\n",
    "                eigval,eigvec = eig(JPO)\n",
    "            end\n",
    "            #escogemos el tipo de variedad que queremos calcular. Como se ordenan de menor a mayor la inestable es la segunda\n",
    "            λ = eigval[tipo_v]\n",
    "            \n",
    "            #Ponemos los coeficientes en una variable nueva cada uno y los agregamos a las listas CX,CP,λ\n",
    "            Coefθ,CoefP = eigvec[:,tipo_v]\n",
    "            @show(typeof(Coefθ))\n",
    "            #@show(Coefθ,CoefP)\n",
    "            push!(Cθ, Coefθ)\n",
    "            push!(CP, CoefP)\n",
    "            push!(λarrayθ, λ)\n",
    "            push!(λarrayP, λ)\n",
    "            λ_v=[λarrayθ,λarrayP]\n",
    "            \n",
    "            #@show(λarray)  \n",
    "            @show(typeof(Cθ))\n",
    "            @show(typeof(λarrayθ))\n",
    "    return Cθ, CP,λarrayθ,λarrayP, λ_v\n",
    "end\n",
    "            \n",
    "    "
   ]
  },
  {
   "cell_type": "markdown",
   "metadata": {},
   "source": [
    "La siguiente función llamada Variedades es la que contiene todo el método de parametrización. En ella se llama a la función que calcula los términos de orden 1 y los usa recursivamente para calcular los de orden n. Teniendo los términos de orden uno lo que se hace es generar un polinomio tipo :\n",
    "$$X=a_{0}+a_{1}t+(x+O(x^2))t^2$$\n",
    "$$Y=b_{0}+b_{1}t+(y+O(y^2))t^2$$\n",
    "de manera que se aplica el mapeo a $X,Y$ , dado que los términos de orden n-1 ya se calcularon entonces sólo se concentra en el coeficiente término n-ésimo ($t^{n}$) al cual se le calcula el jacobiano. Con ello se onbtiene el sistema que se muestra arriba. Si el término independiente es cero y además el determinante de la matriz $\\mathbb{A}$ es distinto de cero entonces la única solución es la trivial. Mientras que si el determinante es distinto de cero pero la parte independiente no , entonces el sistema se puede resolver como:\n",
    "$$\\begin{pmatrix}\n",
    "x\\\\\n",
    "y\n",
    "\\end{pmatrix}=$$"
   ]
  },
  {
   "cell_type": "code",
   "execution_count": 9,
   "metadata": {
    "collapsed": false
   },
   "outputs": [
    {
     "data": {
      "text/plain": [
       "Variedades"
      ]
     },
     "execution_count": 9,
     "metadata": {},
     "output_type": "execute_result"
    }
   ],
   "source": [
    "#Creamos una función que reciba el orden del polinomio , el punto fijo, el parámetro k y \n",
    "#el tipo de varidad que queremos(estable=1, inestable=2)\n",
    "\"\"\"\n",
    "Variedades(Mapeo,orden, PuntoFijo,k,tipo_v,TipoVariable)\n",
    "Es una función que calcula las variedades de cierto mapeo. Usa las funciones de PolinomioTaylor1 y Vecλ para calcular los\n",
    "polinomios de cada lado de la ecuación cohomológica y les aplica el mapeo dado. \n",
    "\n",
    "\n",
    "\n",
    "Argumentos:\n",
    "\n",
    "\n",
    "- Mapeo : Mapeo de dos dimensiones, debe recibir al menos dos parámetros que son los polinomios antes calculados.\n",
    "- orden : se trata del orden del polinomio.\n",
    "- PuntoFijo : ES el punto fijo donde queremos calcular la variedad.\n",
    "- k     : Es la constante del mapeo.\n",
    "- tipo_v : 1 si la variedad es estable, 2 si es inestable.\n",
    "- TipoVariable :  Float64,BigFloat, Integer,etc.\n",
    "\n",
    "\n",
    "\"\"\"\n",
    "function Variedades(Mapeo,orden, PuntoFijo,k,l,tipo_v, TipoVariable)\n",
    "   \n",
    "    #definimos unas listas donde se guardarán los coeficientes  de todo el polinomio, tales deben ser\n",
    "    # de tipo \"Array{TaylorSeries.TaylorN{Int64},1}\" dado que los términos que se van agregando \n",
    "    # en cada orden son de tipo TaylorN.\n",
    "    \n",
    "    a=TipoVariable(PuntoFijo[1])\n",
    "    b=TipoVariable(PuntoFijo[2])\n",
    "    Cθ = [a+TaylorN(0.)]\n",
    "    CP = [b+TaylorN(0.)]\n",
    "    \n",
    "    \n",
    "    #λarray es la lista que contiene a los coeficientes del polinomio de λ\n",
    "    λarrayθ = [a^0]\n",
    "    λarrayP = [b^0]\n",
    "    \n",
    "    #definimos un vector que contiene el punto en el que se evalúa el jacobiano que se calcula después\n",
    "    #dado que sólo lo usamos para obtener los valores que resultaron en el mapeo evaluamos siempre en [1.,1.]\n",
    "    \n",
    "    \n",
    "    \n",
    "    \n",
    "    Cθ,CP,λarayθ, λarrayP,λ_v = Orden1(Cθ,CP,TipoVariable,Mapeo,k,l,PuntoFijo,tipo_v,λarrayθ,λarrayP)\n",
    "    \n",
    "\n",
    "\n",
    "    for g in 2:orden\n",
    "        \n",
    "            #Creamos los polinomios con las listas correspondientes \n",
    "            t = PolinomioTaylor1(g,Cθ,CP,TipoVariable)\n",
    "            \n",
    "            # aplicamos el mapeo estándar y al resultado le llamamos OrG por Orden g.\n",
    "            OrG = Mapeo(t[1],t[2],k,l)\n",
    "            \n",
    "            push!(λarrayθ,λarrayθ[2]^g)\n",
    "            push!(λarrayP,λarrayP[2]^g)\n",
    "            λ_v=[λarrayθ,λarrayP]\n",
    "            \n",
    "            #agregamos el término correspondiente a λ \n",
    "            λ_vec=Vecλ(λ_v,g,Cθ,CP)\n",
    "            \n",
    "            \n",
    "            #@show(λvec)\n",
    "            \n",
    "            # ahora ya tengo las dos partes de la ecuación y debo igualarlas para resolver.\n",
    "            EcuaCohomo=OrG-λ_vec\n",
    "            \n",
    "            \n",
    "            # de esta ecuación necesitamos solo los de orden g, así que los extraemos manualmente \n",
    "            θ_g=EcuaCohomo[1].coeffs[g+1]\n",
    "            p_g=EcuaCohomo[2].coeffs[g+1]\n",
    "            vec_orden_g=[θ_g,p_g]\n",
    "            \n",
    "            \n",
    "            #calculamos el término independiene en la ecuación\n",
    "            θ_ind=EcuaCohomo[1].coeffs[g+1].coeffs[1].coeffs[1]\n",
    "            p_ind=EcuaCohomo[2].coeffs[g+1].coeffs[1].coeffs[1]\n",
    "            vec_ind=[-θ_ind,-p_ind]\n",
    "            \n",
    "            #calculamos el jacobiano\n",
    "            JacOrdenG = jacobian(vec_orden_g)\n",
    "            \n",
    "            \n",
    "            \n",
    "            \n",
    "            #Con esta información podemos evaluar lo siguiente:\n",
    "            # Si el vector de términos independientes es cero y el determinante del jacobiano es distinto de cero\n",
    "            # entonces la solución a la ecuación cohomológica es la trivial\n",
    "            if norm(vec_ind)==0.\n",
    "                if det(JacOrdenG)!=0.\n",
    "                    \n",
    "                    Cθ[g+1]=0.\n",
    "                    CP[g+1]=0.\n",
    "                end\n",
    "            else\n",
    "                # Si el vector de términos independientes es distinto de ceroentonces necesitamos \n",
    "                #resolver la ecuación JacOrdenG[x_g,p_g]*[x,p]**=vec_ind[x_g,p_g]\n",
    "                # entonces solo se trata de invertir el jacobiano y multiplicar con el vector del lado izquierdo\n",
    "                TermG=JacOrdenG \\ vec_ind\n",
    "                \n",
    "                Cθ[g+1]=TermG[1]\n",
    "                CP[g+1]=TermG[2]\n",
    "            \n",
    "            end\n",
    "            \n",
    "\n",
    "    end\n",
    "    return Cθ,CP,λarrayθ, λarrayP\n",
    "end"
   ]
  },
  {
   "cell_type": "code",
   "execution_count": 10,
   "metadata": {
    "collapsed": false
   },
   "outputs": [
    {
     "data": {
      "text/plain": [
       "PolinomioCohomo"
      ]
     },
     "execution_count": 10,
     "metadata": {},
     "output_type": "execute_result"
    }
   ],
   "source": [
    "\"\"\"\n",
    "PolinomioCohomo(Mapeo,Pol_vec,λvec, k)\n",
    "Esta función calcula la ecuación cohomológica con los polinomios que ya se calcularon. Regresa un arreglo de dos \n",
    "elementos que son los valores de x,θ del mapeo.\n",
    "\n",
    "\n",
    "Argumentos:\n",
    "-Mapeo : función o mapeo del cual calculamos las variedades.Debe ser una función que reciba tres parámetros\n",
    " que son dos de sus variables y la constante del mapeo. Como salida debe tener un arreglo de dos elementos. \n",
    "-Pol_vec : Es un arreglo de dos elementos que son los polinomios calculados con anterioridad. \n",
    "-k     : es el valor de la constante del mapeo \n",
    "-λvec : \n",
    "\n",
    "\"\"\"\n",
    "function PolinomioCohomo(Mapeo,Pol_vec,λvec, k,l ,PuntoFijo,modulo)\n",
    "    Map_vec=Mapeo(Pol_vec[1],Pol_vec[2],k,l)\n",
    "    if modulo==2*pi\n",
    "        Ec_Cohomo = mod(Map_vec-λvec,modulo)\n",
    "    else\n",
    "        Ec_Cohomo = Map_vec-λvec\n",
    "    end\n",
    "    return Ec_Cohomo\n",
    "end"
   ]
  },
  {
   "cell_type": "code",
   "execution_count": 11,
   "metadata": {
    "collapsed": false
   },
   "outputs": [
    {
     "data": {
      "text/plain": [
       "EvaluarPol"
      ]
     },
     "execution_count": 11,
     "metadata": {},
     "output_type": "execute_result"
    }
   ],
   "source": [
    "\"\"\"\n",
    "EvaluarPol(Ec_2var,Tiempo,paso)\n",
    "\n",
    "Es una función que toma un arreglo de dos dimensiones que contiene polinomios y los evalúa en el tiempo dado en los pasos deseados\n",
    "\n",
    "\n",
    "\n",
    "\n",
    "Argumentos:\n",
    "\n",
    "-Ec_2var : Arreglo de dos dimensiones que contiene polinomios en cada una de ellas. \n",
    "-Tiempo  : Valor hasta el cual se quiere evaluar cada polinomio\n",
    "-paso    : es el paso que se considera en cada evaluación del polinomio. \n",
    "\n",
    "\"\"\"\n",
    "function EvaluarPol(Ec_2var,Tiempo,paso,TipoVariable)\n",
    "    \n",
    "    \n",
    "    \n",
    "    \n",
    "    \n",
    "    Val=TipoVariable[]\n",
    "    Tiem=TipoVariable[]\n",
    "    \n",
    "    \n",
    "    for t = 0:paso:Tiempo\n",
    "        x = evaluate(Ec_2var[1], t)\n",
    "        y = evaluate(Ec_2var[2], t)\n",
    "\n",
    "        \n",
    "        norma = norm([x,y],Inf)\n",
    "        push!(Val,norma)\n",
    "        push!(Tiem,t)\n",
    "    \n",
    "    end\n",
    "    return Tiem,Val\n",
    "end"
   ]
  },
  {
   "cell_type": "markdown",
   "metadata": {},
   "source": [
    "Esta función resume todo el proceso de parametización: Primero llama a la función Variedades que es la que contiene el método en sí. Lo que hace Variedades es crear primero dos polinomios de grado uno que tienen como primer coeficiente al punto fijo que se conoce, esto lo hace con ayuda de la función PolinomioTaylor1. Evalúa el mapeo en estos polinomios y en el primero paso calcula los valores y vectores propios del sistema. Recordemos qu se está haciendo una linearización del sistema y por ello se calculan los valores propios. Ya con esta información se escoge el primer o segundo valor propio dependiento de cuaĺ variedad se quiera calcular. Teniendo el valor propio y el vector se actualizan los nuevos coeficientes de los polinomios. Para los siguientes órdenes se hace algo diferente pues se evalúa en el mapeo los polinomios y también se evalúa la parte derecha de la ecuacuión cohomológica usando el valor propio. Con ellas se calcula la resta de ambas partes y dado que se empato ya el orden anterior entonces solo sbreviven los términos que corresponden al orden que se está calculando. A este resultado se le calcula el jacobiano con el fin de obtener las ecuaciones como un sistema. La solución de este sistema serán los nuevos coeficientes de los polinomios. \n",
    "\n",
    "El eroe es elgoque se calcula usando la ecuación cohomológica, comparando los términos del lado derecho e izquiero tomamos su resta y le calculamos la norma infinito. Se evalúa esto para los valores del parámetro usados._"
   ]
  },
  {
   "cell_type": "code",
   "execution_count": 12,
   "metadata": {
    "collapsed": false
   },
   "outputs": [
    {
     "data": {
      "text/plain": [
       "CreaPol"
      ]
     },
     "execution_count": 12,
     "metadata": {},
     "output_type": "execute_result"
    }
   ],
   "source": [
    "\"\"\"\n",
    "CreaPol es una función que dadas dos listas y un grado crea  un arreglo de dos entradas , en cada una de ellas se encuentra \n",
    "el polinomio de grado g con los coeficientes de las listas. \n",
    "\n",
    "\n",
    "Argumentos:\n",
    "\n",
    "\n",
    "- A,B : arreglos que contienen lo que serán los coeficientes del polinomio.\n",
    "- orden : grado del polinomio\n",
    "\"\"\"\n",
    "function CreaPol(A,B,orden)\n",
    "    Taylor = [Taylor1(A,orden),Taylor1(B,orden)]\n",
    "    return Taylor\n",
    "end"
   ]
  },
  {
   "cell_type": "code",
   "execution_count": 13,
   "metadata": {
    "collapsed": false
   },
   "outputs": [
    {
     "data": {
      "text/plain": [
       "MetParametrización (generic function with 1 method)"
      ]
     },
     "execution_count": 13,
     "metadata": {},
     "output_type": "execute_result"
    }
   ],
   "source": [
    "function MetParametrización(Mapeo,modulo,orden,PuntoFijo,k,l,tipo_v,Tiempo,paso, TipoVariable)\n",
    "    Coeficienteθ,CoeficienteP,λarrayθ,λarrayP = Variedades(Mapeo,orden,PuntoFijo,k,l,tipo_v,TipoVariable)\n",
    "        \n",
    "    \n",
    "    θ = TipoVariable[]\n",
    "    P = TipoVariable[]\n",
    "    \n",
    "    for i in 1:orden+1\n",
    "            \n",
    "        push!(θ,Coeficienteθ[i].coeffs[1].coeffs[1])\n",
    "        push!(P,CoeficienteP[i].coeffs[1].coeffs[1])\n",
    "        \n",
    "    end\n",
    "    \n",
    "    Taylor=CreaPol(θ,P,orden)\n",
    "    \n",
    "    λ_vec=CreaPol(θ.*λarrayθ,P.*λarrayP,orden)\n",
    "    \n",
    "    \n",
    "    \n",
    "    Ecua_Cohomo = PolinomioCohomo(Mapeo,Taylor,λ_vec, k,l,PuntoFijo,modulo)\n",
    "    Valor_t , Error = EvaluarPol(Ecua_Cohomo,Tiempo,paso, TipoVariable)\n",
    "    ErrorV = [Valor_t,Error]\n",
    "    \n",
    "    \n",
    "    return Taylor,ErrorV,λ_vec\n",
    "   \n",
    "end"
   ]
  },
  {
   "cell_type": "code",
   "execution_count": 14,
   "metadata": {
    "collapsed": false
   },
   "outputs": [
    {
     "data": {
      "text/plain": [
       "EstandarMap"
      ]
     },
     "execution_count": 14,
     "metadata": {},
     "output_type": "execute_result"
    }
   ],
   "source": [
    "# necesitamos también definir el mapeo estandar \n",
    "\"\"\"EstandarMap(θ,p,k)\n",
    "   \n",
    "   Función que define el mapeo estándar.\n",
    "\n",
    "\n",
    "   θ,p son las entradas del mapeo, mienrras que k es la constante del mapeo.\n",
    "\"\"\"\n",
    "function EstandarMap(θ,p,k,l)\n",
    "    #x_n = mod([ θ+p, p+k*sin(θ+p) ], 2*pi)\n",
    "    x_n = mod(θ+p,2*pi)\n",
    "    y_n = mod(p+k*sin(θ+p),2*pi)\n",
    "    \n",
    "    return [x_n,y_n]\n",
    "    \n",
    "end"
   ]
  },
  {
   "cell_type": "markdown",
   "metadata": {},
   "source": [
    "Lo que queremos observar es que pasa cuando se usan diferentes tipos de números. Sobre todo para evaluar si es conveniente usar alguno con mayor presición, es decir que disminuya de forma significativa el error cometido usando uno u otro tipo. "
   ]
  },
  {
   "cell_type": "markdown",
   "metadata": {},
   "source": [
    "Primero veremos que pasa cuando se usa Float 64 en un polinomio de 5° grado "
   ]
  },
  {
   "cell_type": "code",
   "execution_count": 15,
   "metadata": {
    "collapsed": false
   },
   "outputs": [],
   "source": [
    "using PyPlot"
   ]
  },
  {
   "cell_type": "code",
   "execution_count": 16,
   "metadata": {
    "collapsed": false
   },
   "outputs": [
    {
     "name": "stdout",
     "output_type": "stream",
     "text": [
      "typeof(t) = Array{TaylorSeries.Taylor1{TaylorSeries.TaylorN{Float64}},1}\n",
      "typeof(Or1) = Array{TaylorSeries.Taylor1{TaylorSeries.TaylorN{Float64}},1}\n",
      "typeof(AuxOr1) = Array{TaylorSeries.TaylorN{Float64},1}\n",
      "typeof(JPO) = Array{Float64,2}\n",
      "det(JPO) = 1.0\n",
      "typeof(Coefθ) = Float64\n",
      "typeof(Cθ) = Array{TaylorSeries.TaylorN{Float64},1}\n",
      "typeof(λarrayθ) = Array{Float64,1}\n"
     ]
    },
    {
     "data": {
      "text/plain": [
       "(TaylorSeries.Taylor1{Float64}[ - 0.8123460094785507 t + 0.009033906934722882 t³ - 0.0001397361967527742 t⁵ + 𝒪(t⁶), - 0.5831757547123116 t + 0.036765757927698775 t³ - 0.0019509397937700743 t⁵ + 𝒪(t⁶)],Array{Float64,1}[[0.0,0.125,0.25,0.375,0.5,0.625,0.75,0.875,1.0,1.125  …  1.75,1.875,2.0,2.125,2.25,2.375,2.5,2.625,2.75,2.875],[0.0,5.4316e-20,4.37069e-19,1.4894e-18,3.57787e-18,7.10714e-18,1.25327e-17,2.03736e-17,3.1225e-17,4.57712e-17  …  2.05697e-16,2.63361e-16,3.33067e-16,4.16667e-16,5.16219e-16,6.33994e-16,7.72494e-16,9.34461e-16,1.12289e-15,1.34105e-15]],TaylorSeries.Taylor1{Float64}[ - 1.3955217641908624 t + 0.04579966486242166 t³ - 0.0020906759905228484 t⁵ + 𝒪(t⁶), - 1.0018322839695704 t + 0.18639326303323037 t³ - 0.029189165588977682 t⁵ + 𝒪(t⁶)])"
      ]
     },
     "execution_count": 16,
     "metadata": {},
     "output_type": "execute_result"
    }
   ],
   "source": [
    "#Usando Float64\n",
    "Polinomio,E,ValProp = MetParametrización(EstandarMap,2*pi, 5, [0.,0.], 0.3, 0.0, 2, 2.9, 0.125, Float64)"
   ]
  },
  {
   "cell_type": "markdown",
   "metadata": {},
   "source": [
    "Calculamos el mismo polinomio pero ahora usando BigFloat para ver la diferencia sobre todo en el error. "
   ]
  },
  {
   "cell_type": "code",
   "execution_count": 17,
   "metadata": {
    "collapsed": false
   },
   "outputs": [
    {
     "name": "stdout",
     "output_type": "stream",
     "text": [
      "typeof(t) = Array{TaylorSeries.Taylor1{TaylorSeries.TaylorN{BigFloat}},1}\n",
      "typeof(Or1) = Array{TaylorSeries.Taylor1{TaylorSeries.TaylorN{BigFloat}},1}\n",
      "typeof(AuxOr1) = Array{TaylorSeries.TaylorN{BigFloat},1}\n",
      "typeof(JPO) = Array{BigFloat,2}\n",
      "det(JPO) = 1.000000000000000000000000000000000000000000000000000000000000000000000000000000\n",
      "typeof(Coefθ) = BigFloat\n",
      "typeof(Cθ) = Array{TaylorSeries.TaylorN{BigFloat},1}\n",
      "typeof(λarrayθ) = Array{BigFloat,1}\n"
     ]
    }
   ],
   "source": [
    "#Usando BigFloat\n",
    "PolinomioB,EBig,ValPropB = MetParametrización(EstandarMap,2*pi,5,[0.,0.],0.3,0.0,2,2.9,0.125,BigFloat)"
   ]
  },
  {
   "cell_type": "markdown",
   "metadata": {},
   "source": [
    "Graficaremos el error cometido que es el que nos dirá cuanta diferencia hay entre tipos de números. "
   ]
  },
  {
   "cell_type": "code",
   "execution_count": 18,
   "metadata": {
    "collapsed": false,
    "scrolled": true
   },
   "outputs": [
    {
     "data": {
      "image/png": "[encoded data removed]",
      "text/plain": [
       "PyPlot.Figure(PyObject <matplotlib.figure.Figure object at 0x7fd97d586650>)"
      ]
     },
     "metadata": {},
     "output_type": "display_data"
    },
    {
     "data": {
      "text/plain": [
       "PyObject <matplotlib.legend.Legend object at 0x7fd979571690>"
      ]
     },
     "execution_count": 18,
     "metadata": {},
     "output_type": "execute_result"
    }
   ],
   "source": [
    "plot(E[1],log10(E[2]),marker= \"None\", label=\"Float64\")\n",
    "plot(EBig[1],log10(EBig[2]),marker= \"None\", label=\"BigFloat\")\n",
    "xlabel(\"Parámetro t\")\n",
    "ylabel(L\"log10($|| E||_{\\infty})$\")\n",
    "title(\"Error \")\n",
    "grid(\"on\")\n",
    "legend(loc=\"upper right\",fancybox=\"true\" )"
   ]
  },
  {
   "cell_type": "code",
   "execution_count": 19,
   "metadata": {
    "collapsed": false
   },
   "outputs": [
    {
     "data": {
      "text/plain": [
       "EstandarMapInv"
      ]
     },
     "execution_count": 19,
     "metadata": {},
     "output_type": "execute_result"
    }
   ],
   "source": [
    "\"\"\"\n",
    "EstandarMapInv(θ,p,k) \n",
    "Es la función inversa del mapeo estándar. Recibe los mismos parámetros.\n",
    "\n",
    "\"\"\"\n",
    "function EstandarMapInv(θ,p,k,l)\n",
    "    x_n = mod([θ-p+k*sin(θ),p-k*sin(θ)] , 2*pi )\n",
    "    \n",
    "    \n",
    "    return x_n\n",
    "    \n",
    "end"
   ]
  },
  {
   "cell_type": "code",
   "execution_count": 20,
   "metadata": {
    "collapsed": false
   },
   "outputs": [
    {
     "name": "stdout",
     "output_type": "stream",
     "text": [
      "typeof(t) = Array{TaylorSeries.Taylor1{TaylorSeries.TaylorN{Float64}},1}\n",
      "typeof(Or1) = Array{TaylorSeries.Taylor1{TaylorSeries.TaylorN{Float64}},1}\n",
      "typeof(AuxOr1) = Array{TaylorSeries.TaylorN{Float64},1}\n",
      "typeof(JPO) = Array{Float64,2}\n",
      "det(JPO) = 1.0\n",
      "typeof(Coefθ) = Float64\n",
      "typeof(Cθ) = Array{TaylorSeries.TaylorN{Float64},1}\n",
      "typeof(λarrayθ) = Array{Float64,1}\n"
     ]
    }
   ],
   "source": [
    "#Usando Float64\n",
    "Polinomio2,E2,ValProp2 = MetParametrización(EstandarMapInv,2*pi, 15, [0.,0.], 0.3, 0.0, 2, 2.9, 0.125, Float64)"
   ]
  },
  {
   "cell_type": "code",
   "execution_count": 21,
   "metadata": {
    "collapsed": false
   },
   "outputs": [
    {
     "name": "stdout",
     "output_type": "stream",
     "text": [
      "typeof(t) = Array{TaylorSeries.Taylor1{TaylorSeries.TaylorN{BigFloat}},1}\n",
      "typeof(Or1) = Array{TaylorSeries.Taylor1{TaylorSeries.TaylorN{BigFloat}},1}\n",
      "typeof(AuxOr1) = Array{TaylorSeries.TaylorN{BigFloat},1}\n",
      "typeof(JPO) = Array{BigFloat,2}\n",
      "det(JPO) = 9.999999999999999999999999999999999999999999999999999999999999999999999999999914e-01\n",
      "typeof(Coefθ) = BigFloat\n",
      "typeof(Cθ) = Array{TaylorSeries.TaylorN{BigFloat},1}\n",
      "typeof(λarrayθ) = Array{BigFloat,1}\n"
     ]
    },
    {
     "data": {
      "text/plain": [
       "(TaylorSeries.Taylor1{BigFloat}[ 1.392969448600091236214008269823934535782010550811207876163443109078142531381784 t - 4.55488306471249650392451283736663985494213485221557795868806692851250183784578e-02 t³ + 2.071627265812625169044884152263103766257713849514787362128290144143251439562319e-03 t⁵ - 9.040474335296475979585383596088922134357115392936608888790265183796700423653951e-05 t⁷ + 3.617851944647397816478539194660235825868906971611587155659652124466921414167300e-06 t⁹ - 1.331721159718488337758646824134194339671198760803104662563364265179899097056368e-07 t¹¹ + 4.563242831663626071312752599390074088913123452280561554482703777978658878160172e-09 t¹³ - 1.47272006072108494495543766626260156011980485225885826861009965496334153655694e-10 t¹⁵ + 𝒪(t¹⁶), 1.000000000000000000000000000000000000000000000000000000000000000000000000000000 t - 1.853724300640377561775028408643770563815844116869279554201266933330799645972778e-01 t³ + 2.892321506276221743814456474604792652658810483265611779704434261059652549202116e-02 t⁵ - 3.901316046113722893699530057825011836415041221749605365104106128632750311927897e-03 t⁷ + 4.678052416877235968892036114617941051942118903637584591931036805099177068225557e-04 t⁹ - 5.107797323251364062123043021512239268798053176671368756598886657680482460145992e-05 t¹¹ + 5.174078816300596773729458909242544275430028543017811318636756482917034464327657e-06 t¹³ - 4.930874499759647981637182003275736531541903896390894709544428756900249178150217e-07 t¹⁵ + 𝒪(t¹⁶)],Array{BigFloat,1}[BigFloat[0.000000000000000000000000000000000000000000000000000000000000000000000000000000,1.250000000000000000000000000000000000000000000000000000000000000000000000000000e-01,2.500000000000000000000000000000000000000000000000000000000000000000000000000000e-01,3.750000000000000000000000000000000000000000000000000000000000000000000000000000e-01,5.000000000000000000000000000000000000000000000000000000000000000000000000000000e-01,6.250000000000000000000000000000000000000000000000000000000000000000000000000000e-01,7.500000000000000000000000000000000000000000000000000000000000000000000000000000e-01,8.750000000000000000000000000000000000000000000000000000000000000000000000000000e-01,1.000000000000000000000000000000000000000000000000000000000000000000000000000000,1.125000000000000000000000000000000000000000000000000000000000000000000000000000  …  1.750000000000000000000000000000000000000000000000000000000000000000000000000000,1.875000000000000000000000000000000000000000000000000000000000000000000000000000,2.000000000000000000000000000000000000000000000000000000000000000000000000000000,2.125000000000000000000000000000000000000000000000000000000000000000000000000000,2.250000000000000000000000000000000000000000000000000000000000000000000000000000,2.375000000000000000000000000000000000000000000000000000000000000000000000000000,2.500000000000000000000000000000000000000000000000000000000000000000000000000000,2.625000000000000000000000000000000000000000000000000000000000000000000000000000,2.750000000000000000000000000000000000000000000000000000000000000000000000000000,2.875000000000000000000000000000000000000000000000000000000000000000000000000000],BigFloat[0.000000000000000000000000000000000000000000000000000000000000000000000000000000,1.078463246757181918527058292506280467854698930782986768096321055860211644188813e-78,2.150493114969267009761473309307625159549534212951565371366131237943235955038784e-78,3.209223825744994010145977889427448574911921613109582638382041911213456347175155e-78,4.246919950541825564227484138446106953318451722938266804406589014414237406949867e-78,5.254511098045464136177205078763844148460970711891599879142047773740238596476552e-78,6.221036832899632298391705705480841649080015686769757304072699126636197380227596e-78,7.132879232652163783051968583344448063270359324219314000031590102477886051133792e-78,7.972577061999460681620390353227929774259244466643510842116149938091942433640099e-78,8.716916008981438496111498800413351881306446824637251033349047789052229020499397e-78  …  9.268208770926688864060282135739972079807272457953312218576385045995429150566881e-78,8.034997144972589413084165702172568074768221041854548023387077119449966727821300e-78,5.930711119175766412167746868305410505643633337427323331812809547831307348590494e-78,6.595605068687000083763622716596516220793016549769669830748707517797922754249098e-78,1.089346544186939239310156779604814298570211169232273013496631157562320568256051e-77,1.765107760797000057977653354535072019948370310066494927810341531210916486445941e-77,2.779933136589796550956330747224087095472529377009162417643697834326307975199421e-77,4.234391755459355575331072127687433520906067395621882164650450855419927185308243e-77,6.216059484190061920829381804303766373908271162145431481879317526273286808298759e-77,8.759174180221648210053249122582192473091305151818126119661511580751089945692668e-77]],TaylorSeries.Taylor1{BigFloat}[ 8.108602831801185916131432064188166930359994709464153053845502016987075586507491e-01 t - 8.984430307244463136679421799290994110694556898309905526275261190008177013386612e-03 t³ + 1.384630217815863539390525384616582641280761562013762966545742282019785352144408e-04 t⁵ - 2.047492310154132510797273548018609161622173229063192786578692812931851574155178e-06 t⁷ + 2.776455559810995171816412153645229767003872744180261529486250150301395421002073e-08 t⁹ - 3.463076709520233738023568096297350270980915515276113697742015757583825723247761e-10 t¹¹ + 4.020974012677490741342698319997745027109017858034294031871111786905611451577363e-12 t¹³ - 4.397306760024298044253432291445685288982013268792798087012887863363422652912196e-14 t¹⁵ + 𝒪(t¹⁶), 5.821091654199726446008650634051178427460110798647925707788929073794349727310259e-01 t - 3.656440033988050190256570657437540443872679162384587406060540809511684136507024e-02 t³ + 1.933164244031038815105831613801445502129637693313411065473715915941272904348138e-03 t⁵ - 8.835725104281062728505656241287061218194898070030289610132395902503515266239816e-05 t⁷ + 3.590087389049287864760375073123783528198868244169784540364789622963907459958567e-06 t⁹ - 1.328258083008968104020623256037896989400217845287828548865622249422315271334761e-07 t¹¹ + 4.559221857650948580571409901070076343886014434422527260450832666191753266663501e-09 t¹³ - 1.472280330045082515151012323033456991590906650931978988801398366177005194296199e-10 t¹⁵ + 𝒪(t¹⁶)])"
      ]
     },
     "execution_count": 21,
     "metadata": {},
     "output_type": "execute_result"
    }
   ],
   "source": [
    "#Usando BigFloat\n",
    "Polinomio3,E3,ValProp3 = MetParametrización(EstandarMapInv,2*pi, 15, [0.,0.], 0.3, 0.0, 2, 2.9, 0.125, BigFloat)"
   ]
  },
  {
   "cell_type": "code",
   "execution_count": 22,
   "metadata": {
    "collapsed": false
   },
   "outputs": [
    {
     "data": {
      "image/png": "[encoded data removed]",
      "text/plain": [
       "PyPlot.Figure(PyObject <matplotlib.figure.Figure object at 0x7fd979153b10>)"
      ]
     },
     "metadata": {},
     "output_type": "display_data"
    },
    {
     "data": {
      "text/plain": [
       "PyObject <matplotlib.legend.Legend object at 0x7fd97915a190>"
      ]
     },
     "execution_count": 22,
     "metadata": {},
     "output_type": "execute_result"
    }
   ],
   "source": [
    "plot(E2[1],log10(E2[2]),marker= \"None\", label=\"Float64\")\n",
    "plot(E3[1],log10(E3[2]),marker= \"None\", label=\"BigFloat\")\n",
    "xlabel(\"Parámetro t\")\n",
    "ylabel(L\"log10($|| E||_{\\infty})$\")\n",
    "title(\"Error en la variedad Inestable del mapeo inverso \")\n",
    "grid(\"on\")\n",
    "legend(loc=\"upper right\",fancybox=\"true\" )"
   ]
  },
  {
   "cell_type": "markdown",
   "metadata": {},
   "source": [
    "Vamos a analizar un poco sobre otro mapeo, el de Henon. El mapeo de Henon es un mapeo descrito de la forma:\n",
    "$$ f_{a,b}(x,y)=\\left\\{ \\begin{array}{lcc}\n",
    "             a-by-x^{2}\\\\\n",
    "             \\\\ x\n",
    "             \\end{array}\n",
    "             \\right.$$\n",
    "        \n",
    "        \n",
    "Para poder analizarlo debemos linearizar el sistema. Primero obtenemos el jacobiano \n",
    "\n",
    "$$ DF_{a,b}(x,y)=\\left( \\begin{array}{lcc}\n",
    "                \\frac{\\partial F_{x}}{\\partial x} & \\frac{\\partial F_{x}}{\\partial y}\\\\\n",
    "                \\\\ \\frac{\\partial F_{y}}{\\partial x} & \\frac{\\partial F_{y}}{\\partial y}\n",
    "                \\end{array}\n",
    "                \\right)$$\n",
    "                \n",
    "            \n",
    "$$DF_{a,b}(x,y)= \\left( \\begin{array}{lcc}\n",
    "                -2x & -b\\\\\n",
    "                \\\\ 1 & 0\n",
    "                \\end{array}\n",
    "                \\right)$$\n",
    "                \n",
    "Notamos que el determinante del jacobiano no es igual a uno sino\n",
    "$$det(DF_{a,b}(x,y))=b$$\n",
    "El determianate es constante , y sera hamiltoniano en el caso en que $b=1$. Analizaremos esos casos, primero encontrando los puntos fijos.\n",
    "$$F_{a,b}(x,y)=\\left( \\begin{array}{lcc}\n",
    "               a-by-x^{2}\\\\\n",
    "               \\\\ x\n",
    "               \\end{array}\n",
    "               \\right) = \\left(\\begin{array}{lc}\n",
    "               x \\\\\n",
    "               \\\\ y\n",
    "               \\end{array}\n",
    "               \\right)$$\n",
    "               \n",
    "               \n",
    "Lo que implica que \n",
    "$$a-by-x^{2}=x$$\n",
    "$$x=y$$ \n",
    "de donde es claro que la primer ecuación queda\n",
    "$$x^{2}+(b+1)x-a=0$$\n",
    "que se puede resolver usando la fórmula general\n",
    "$$x=\\frac{-(b+1)\\pm ((b+1)^{2}+4a)^{1/2} }{2}$$\n",
    "para el caso en que $b=1$ se tiene\n",
    "$$x=\\frac{-2\\pm 2(1+a)^{1/2} }{2}$$\n",
    "Por lo que escogiendo un valor de a podemos obtenr un punto fijo. "
   ]
  },
  {
   "cell_type": "markdown",
   "metadata": {},
   "source": [
    "Para este caso usaremos un valor de $a=0.3$ . Por lo que los puntos fijos asociados serán \n",
    "$$p_{1}=(0.14017542509913805\n",
    ",0.14017542509913805\n",
    ")$$\n",
    "$$p_{2}=(-2.1401754250991383,-2.1401754250991383)$$"
   ]
  },
  {
   "cell_type": "markdown",
   "metadata": {},
   "source": [
    "Definimos la función del mapeo de Henon"
   ]
  },
  {
   "cell_type": "code",
   "execution_count": 23,
   "metadata": {
    "collapsed": false
   },
   "outputs": [
    {
     "data": {
      "text/plain": [
       "Henon (generic function with 1 method)"
      ]
     },
     "execution_count": 23,
     "metadata": {},
     "output_type": "execute_result"
    }
   ],
   "source": [
    "function Henon(x,y,a,b)\n",
    "   \n",
    "    x_n = a-b*y-x^2\n",
    "    y_n = x \n",
    "\n",
    "    return [x_n,y_n]\n",
    "end\n"
   ]
  },
  {
   "cell_type": "markdown",
   "metadata": {},
   "source": [
    "Solo para revisar que estamos en un punto fijo evaluamos"
   ]
  },
  {
   "cell_type": "code",
   "execution_count": 24,
   "metadata": {
    "collapsed": false
   },
   "outputs": [
    {
     "data": {
      "text/plain": [
       "2-element Array{Float64,1}:\n",
       " -8.88178e-16\n",
       "  0.0        "
      ]
     },
     "execution_count": 24,
     "metadata": {},
     "output_type": "execute_result"
    }
   ],
   "source": [
    "Henon(-2.1401754250991383,-2.1401754250991383,0.3,1.0) .- [-2.1401754250991383,-2.1401754250991383]"
   ]
  },
  {
   "cell_type": "markdown",
   "metadata": {},
   "source": [
    "Ahora aplicamos en método para ste caso"
   ]
  },
  {
   "cell_type": "code",
   "execution_count": 25,
   "metadata": {
    "collapsed": false,
    "scrolled": true
   },
   "outputs": [
    {
     "name": "stdout",
     "output_type": "stream",
     "text": [
      "typeof(t) = Array{TaylorSeries.Taylor1{TaylorSeries.TaylorN{Float64}},1}\n",
      "typeof(Or1) = Array{TaylorSeries.Taylor1{TaylorSeries.TaylorN{Float64}},1}\n",
      "typeof(AuxOr1) = Array{TaylorSeries.TaylorN{Float64},1}\n",
      "typeof(JPO) = Array{Float64,2}\n",
      "det(JPO) = 1.0\n",
      "typeof(Coefθ) = Float64\n",
      "typeof(Cθ) = Array{TaylorSeries.TaylorN{Float64},1}\n",
      "typeof(λarrayθ) = Array{Float64,1}\n"
     ]
    }
   ],
   "source": [
    "#PolinomioH,EH,ValPropH = MetParametrización(EstandarMap, 5 ,[0.0,0.0], 0.3, 0.3, 2, 1.9, 0.125, Float64)\n",
    "PolinomioH,EH,ValPropH = MetParametrización(Henon,1., 5 ,[-2.1401754250991383,-2.1401754250991383], 0.3, 1.0, 2, 1.9, 0.125, Float64)"
   ]
  },
  {
   "cell_type": "code",
   "execution_count": 26,
   "metadata": {
    "collapsed": false
   },
   "outputs": [
    {
     "data": {
      "image/png": "[encoded data removed]",
      "text/plain": [
       "PyPlot.Figure(PyObject <matplotlib.figure.Figure object at 0x7fd979011e10>)"
      ]
     },
     "metadata": {},
     "output_type": "display_data"
    },
    {
     "data": {
      "text/plain": [
       "PyObject <matplotlib.legend.Legend object at 0x7fd978d5a8d0>"
      ]
     },
     "execution_count": 26,
     "metadata": {},
     "output_type": "execute_result"
    }
   ],
   "source": [
    "plot(EH[1],log10(EH[2]),marker= \"None\", label=\"Float64\")\n",
    "#plot(E3[1],log10(E3[2]),marker= \"None\", label=\"BigFloat\")\n",
    "xlabel(\"Parámetro t\")\n",
    "ylabel(L\"log10($|| E||_{\\infty})$\")\n",
    "title(\"Error en la variedad inestable del mapeo de Henon \")\n",
    "grid(\"on\")\n",
    "legend(loc=\"upper right\",fancybox=\"true\" )"
   ]
  },
  {
   "cell_type": "code",
   "execution_count": 27,
   "metadata": {
    "collapsed": false
   },
   "outputs": [
    {
     "name": "stdout",
     "output_type": "stream",
     "text": [
      "typeof(t) = Array{TaylorSeries.Taylor1{TaylorSeries.TaylorN{Float64}},1}\n",
      "typeof(Or1) = Array{TaylorSeries.Taylor1{TaylorSeries.TaylorN{Float64}},1}\n",
      "typeof(AuxOr1) = Array{TaylorSeries.TaylorN{Float64},1}\n",
      "typeof(JPO) = Array{Float64,2}\n",
      "det(JPO) = 0.3\n",
      "typeof(Coefθ) = Complex{Float64}\n"
     ]
    },
    {
     "ename": "LoadError",
     "evalue": "InexactError()",
     "output_type": "error",
     "traceback": [
      "InexactError()",
      "",
      " in convert at ./complex.jl:23 [inlined]",
      " in convert(::Type{TaylorSeries.TaylorN{Float64}}, ::Complex{Float64}) at /home/evelyn/.julia/v0.5/TaylorSeries/src/conversion.jl:68",
      " in push!(::Array{TaylorSeries.TaylorN{Float64},1}, ::Complex{Float64}) at ./array.jl:479",
      " in Orden1(::Array{TaylorSeries.TaylorN{Float64},1}, ::Array{TaylorSeries.TaylorN{Float64},1}, ::Type{T}, ::#Henon, ::Float64, ::Float64, ::Array{Float64,1}, ::Int64, ::Array{Float64,1}, ::Array{Float64,1}) at ./In[8]:29",
      " in Variedades(::#Henon, ::Int64, ::Array{Float64,1}, ::Float64, ::Float64, ::Int64, ::Type{T}) at ./In[9]:44",
      " in MetParametrización(::Function, ::Float64, ::Int64, ::Array{Float64,1}, ::Float64, ::Float64, ::Int64, ::Float64, ::Float64, ::Type{T}) at ./In[13]:2"
     ]
    }
   ],
   "source": [
    "PolinomioHP,EHP,ValPropHP = MetParametrización(Henon,1.,29,[0.0,1.0],1.4,0.3,2,1.9,0.125,Float64)"
   ]
  },
  {
   "cell_type": "code",
   "execution_count": null,
   "metadata": {
    "collapsed": false,
    "scrolled": true
   },
   "outputs": [],
   "source": [
    "plot(EHP[1],log10(EHP[2]),marker= \"None\", label=\"Float64\")\n",
    "#plot(E3[1],log10(E3[2]),marker= \"None\", label=\"BigFloat\")\n",
    "xlabel(\"Parámetro t\")\n",
    "ylabel(L\"log10($|| E||_{\\infty})$\")\n",
    "title(\"Error en la variedad inestable del mapeo de Henon \")\n",
    "grid(\"on\")\n",
    "legend(loc=\"upper right\",fancybox=\"true\" )"
   ]
  },
  {
   "cell_type": "markdown",
   "metadata": {},
   "source": [
    "- usar gr para graficar\n",
    "- ponerlo como un modulo competo de julia\n",
    "- aprender a usar git para subirlo\n",
    "- escribir de manre a clara el error \n",
    "- pedir al usuario que introduzca la función para calcular el error \n",
    "\n"
   ]
  },
  {
   "cell_type": "code",
   "execution_count": null,
   "metadata": {
    "collapsed": true
   },
   "outputs": [],
   "source": []
  }
 ],
 "metadata": {
  "kernelspec": {
   "display_name": "Julia 0.5.0",
   "language": "julia",
   "name": "julia-0.5"
  },
  "language_info": {
   "file_extension": ".jl",
   "mimetype": "application/julia",
   "name": "julia",
   "version": "0.5.2"
  }
 },
 "nbformat": 4,
 "nbformat_minor": 2
}
