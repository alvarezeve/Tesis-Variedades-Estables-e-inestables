{
 "cells": [
  {
   "cell_type": "markdown",
   "metadata": {},
   "source": [
    "# Modificaciones : sin Taylor1, conSVD\n"
   ]
  },
  {
   "cell_type": "markdown",
   "metadata": {},
   "source": [
    "Antes de seguir probando la automarización que hemos logrado debemos hacer algunas mejoras. Para ellos revisaremos cada función y de ser posible haremos más simples algunas cosas y omitiremos aquellas que sean redundantes. Es punto de esto es hacer un prógrama mejor automatizado y más simple."
   ]
  },
  {
   "cell_type": "code",
   "execution_count": 1,
   "metadata": {
    "collapsed": false
   },
   "outputs": [
    {
     "name": "stderr",
     "output_type": "stream",
     "text": [
      "WARNING: Method definition A_mul_B!(Base.LinAlg.Givens, Void) in module SVDModule at /home/evelyn/.julia/v0.5/LinearAlgebra/src/svd.jl:5 overwritten in module GenericSVD at /home/evelyn/.julia/v0.5/GenericSVD/src/utils.jl:26.\n",
      "WARNING: Method definition A_mul_Bc!(Void, Base.LinAlg.Givens) in module SVDModule at /home/evelyn/.julia/v0.5/LinearAlgebra/src/svd.jl:6 overwritten in module GenericSVD at /home/evelyn/.julia/v0.5/GenericSVD/src/utils.jl:27.\n",
      "WARNING: Method definition reflectorApply!(Union{Base.ReshapedArray{T<:Any, 2, A<:DenseArray, MI<:Tuple{Vararg{Base.MultiplicativeInverses.SignedMultiplicativeInverse{Int64}, N<:Any}}}, Base.SubArray{T<:Any, 2, A<:Union{DenseArray, Base.ReshapedArray{T<:Any, N<:Any, A<:DenseArray, MI<:Tuple{Vararg{Base.MultiplicativeInverses.SignedMultiplicativeInverse{Int64}, N<:Any}}}}, I<:Tuple{Vararg{Union{Base.Colon, Base.Range{Int64}, Base.AbstractCartesianIndex, Int64}, N<:Any}}, L<:Any}, DenseArray{T<:Any, 2}}, AbstractArray{T<:Any, 1}, Number) in module QRModule at /home/evelyn/.julia/v0.5/LinearAlgebra/src/qr.jl:31 overwritten in module GenericSVD at /home/evelyn/.julia/v0.5/GenericSVD/src/utils.jl:3.\n"
     ]
    }
   ],
   "source": [
    "using TaylorSeries\n",
    "using PyPlot\n",
    "using LinearAlgebra\n",
    "using GenericSVD"
   ]
  },
  {
   "cell_type": "markdown",
   "metadata": {},
   "source": [
    "La idea es quitar la necesidad de tener que usar Taylor1, ya que en las funciones de jacobian no se tiene definidas alginas cosas para Taylor1.TaylorN mientras que sí fúnciona para Taylor N. Recordemos que hay que revisar la estabilidad de las respuestas en cada paso. \n",
    "La diferencia entre el notebook anterior y este es que aislaremos la parte de g=1 del método."
   ]
  },
  {
   "cell_type": "code",
   "execution_count": 2,
   "metadata": {
    "collapsed": false
   },
   "outputs": [
    {
     "data": {
      "text/plain": [
       "PolinomioTaylor"
      ]
     },
     "execution_count": 2,
     "metadata": {},
     "output_type": "execute_result"
    }
   ],
   "source": [
    "\"\"\"\n",
    "\n",
    "PolinomioTaylor(Cθ,CP, TipoVariable)\n",
    "   \n",
    "   Es una función cuyo objetivo es recibir dos listas con valores iniciales y crear dos polinomios de grado 1.\n",
    "\n",
    "\n",
    "\n",
    "\n",
    "Argumentos:\n",
    "\n",
    "\n",
    "   - Cθ,CP  :  Arreglo que contiene los coeficientes iniciales, es del tipo Array{TaylorSeries.TaylorN{Float64}}\n",
    "   - TipoVariable :  es el tipo de número que queremos uasr: Real, Float64, BigFloat, etc.\n",
    "   \n",
    "\n",
    "    Esta función regresa dos arreglos que contienen elementos del tipo Taylor1.TaylorN, creados con los valores propios del sistema.\n",
    "\n",
    "\n",
    "\"\"\"\n",
    "function PolinomioTaylor(Cθ,CP,TipoVariable)\n",
    "    #=  \n",
    "    Separamos el primer orden puesto que es diferente de los otros.\n",
    "    Creamos θ,p como variables tipo TaylorN de orden 2, recordemos que aquí es importante el orden puesto que si se usan\n",
    "    más adelante para otras operaciones el polinomio se puede cortar si no se define adecuadamente\n",
    "    =#\n",
    "    \n",
    "    \n",
    "    \n",
    "    θ,p = set_variables(TipoVariable, \"θ p\", order=2)\n",
    "    \n",
    "    #especificamos que Lθ,LP son de arreglos que guardarán coeficientes del polinomio, sólo son auxiliares en esta función\n",
    "    \n",
    "   \n",
    "   # Lθ = Array{TaylorSeries.TaylorN{TipoVariable}}(1)\n",
    "   # LP = Array{TaylorSeries.TaylorN{TipoVariable}}(1)\n",
    "        \n",
    "    T = [Taylor1([θ], 1),Taylor1([p], 1)]\n",
    "    return T\n",
    "end\n",
    "    \n",
    "\n"
   ]
  },
  {
   "cell_type": "code",
   "execution_count": 3,
   "metadata": {
    "collapsed": false
   },
   "outputs": [
    {
     "data": {
      "text/plain": [
       "PolinomioTaylor1"
      ]
     },
     "execution_count": 3,
     "metadata": {},
     "output_type": "execute_result"
    }
   ],
   "source": [
    "\"\"\"\n",
    "\n",
    "PolinomioTaylor1(g,Cθ,CP, TipoVariable)\n",
    "   \n",
    "   Es una función cuyo objetivo es recibir dos listas con valores iniciales y crear dos polinomios de grado g.\n",
    "\n",
    "\n",
    "\n",
    "\n",
    "Argumentos:\n",
    "\n",
    "\n",
    "\n",
    "\n",
    "\n",
    "   - g       : grado del polinomio\n",
    "   - Cθ,CP  :  Arreglo que contiene los coeficientes iniciales, es del tipo Array{TaylorSeries.TaylorN{Float64}}\n",
    "   - TipoVariable :  es el tipo de número que queremos uasr: Real, Float64, BigFloat, etc.\n",
    "   \n",
    "\n",
    "    Esta función regresa dos arreglos que contienen elementos del tipo Taylor1.TaylorN, creados con las listas iniciales. \n",
    "    Funciona específicamente para orden g>1.\n",
    "\n",
    "\n",
    "\"\"\"\n",
    "function PolinomioTaylor1(g::Real,Cθ,CP,TipoVariable)\n",
    "    #=\n",
    "    g es el grado del polinomio, CX y CP son\n",
    "    arreglos que contienen los coeficientes que forman la variedad.\n",
    "    \n",
    "    \n",
    "    Creamos x,p como variables tipo TaylorN de orden 2\n",
    "    =#\n",
    "    \n",
    "    \n",
    "    \n",
    "    θ,p = set_variables(TipoVariable, \"θ p\", order=2)\n",
    "    \n",
    "    #especificamos que LX,LP son de arreglos que guardarán coeficientes del polinomio, sólo son auxiliares en esta función\n",
    "    \n",
    "   \n",
    "    Lθ = Array{TaylorSeries.TaylorN{TipoVariable}}(1)\n",
    "    LP = Array{TaylorSeries.TaylorN{TipoVariable}}(1)\n",
    "    \n",
    "    \n",
    "    \n",
    "    \n",
    "        #como CX,CP están guardando los coeficientes pero necesitamos agregar el último término que será una variable \n",
    "        \n",
    "    Lθ = push!(Cθ, θ) \n",
    "    LP = push!(CP, p)\n",
    "\n",
    "    T=[Taylor1(Lθ, g),Taylor1(LP, g)]\n",
    "        \n",
    "    \n",
    "    return T\n",
    "end\n",
    "#Esta función regresa tθ,tp que son Taylor1.TaylorN"
   ]
  },
  {
   "cell_type": "code",
   "execution_count": 4,
   "metadata": {
    "collapsed": false
   },
   "outputs": [
    {
     "data": {
      "text/plain": [
       "Vecλ"
      ]
     },
     "execution_count": 4,
     "metadata": {},
     "output_type": "execute_result"
    }
   ],
   "source": [
    "#=Esta función toma el arreglo que contiene las lambdas que se van calculando, los coeficientes de los polinomios\n",
    "y el orden de los mismos, lo que hace es generar el lado derecho de la ecuación cohomológica, multiplicando a_n*λ^n\n",
    "y generando un polinomio de gradno g con estos coeficientes\n",
    "=#\n",
    "\"\"\"\n",
    "Vecλ(λ_v,g,Cθ,CP)\n",
    "Es una función que calcula la parte derecha de la ecuación comohológica, es decir la parte que involucra el valor propio.\n",
    "Regresa un arreglo de tipo TaylorSeries.TaylorN{Float64}\n",
    "\n",
    "\n",
    "Sus argumentos son:\n",
    "-g      :  grado del polinomio.\n",
    "-λ_v    :  Arreglo de dos dimensiones que contiene el valor propio y sus potencias. \n",
    "-Cθ,CP  :  Los arreglos con los polinomios que se calculan en PolinomioTaylor1.\n",
    "\n",
    "\"\"\"\n",
    "function Vecλ(λ_v,g,Cθ,CP)\n",
    "   # el arreglo de λ_v contiene los arreglos que corresponden a la parte derecha de la ecuación cohomológica\n",
    "    # en θ,p. Es importante hacer la distinción puesto que dependiendo del punto fijo donde se esté calculando\n",
    "    # el primer valor de λ en θ serpa diferente del primer valor de λ en P\n",
    "    θλt=Taylor1(λ_v[1].*Cθ,g)\n",
    "    pλt=Taylor1(λ_v[2].*CP,g)\n",
    "    \n",
    "    λvec=[θλt,pλt]\n",
    "    \n",
    "    return λvec\n",
    "end"
   ]
  },
  {
   "cell_type": "code",
   "execution_count": 5,
   "metadata": {
    "collapsed": false
   },
   "outputs": [
    {
     "data": {
      "text/plain": [
       "EigenValores (generic function with 1 method)"
      ]
     },
     "execution_count": 5,
     "metadata": {},
     "output_type": "execute_result"
    }
   ],
   "source": [
    "function EigenValores(M)\n",
    "    M_facto = svdfact(M)\n",
    "    @show(M_facto)\n",
    "    Vals = real(LinearAlgebra.EigenGeneral.eigvals!(M))\n",
    "    @show(Vals)\n",
    "    EigVec=[[big(0.),big(0.)],[big(0.), big(0.)]]\n",
    "    M_aux = M_facto.Vt\n",
    "    for i in 1:2\n",
    "        if Vals[i]== M_facto.S[i]\n",
    "            EigVec[i] = M_aux[i,:]\n",
    "        else\n",
    "            EigVec[i] = -1*M_aux[i,:]\n",
    "        end\n",
    "    end\n",
    "    if Vals[1]>Vals[2]\n",
    "        Vals = [Vals[1],Vals[2]]\n",
    "        EigVectors = [EigVec[1][1] EigVec[1][2]; EigVec[2][1] EigVec[2][2]]\n",
    "    else \n",
    "        Vals = [Vals[2],Vals[1]]\n",
    "        EigVectors = [EigVec[1][2] EigVec[2][2]; EigVec[1][1] EigVec[2][1]]\n",
    "    end\n",
    "        \n",
    "    return (Vals,EigVectors)\n",
    "        \n",
    "        \n",
    "        \n",
    "    \n",
    "end"
   ]
  },
  {
   "cell_type": "code",
   "execution_count": 60,
   "metadata": {
    "collapsed": false
   },
   "outputs": [
    {
     "name": "stdout",
     "output_type": "stream",
     "text": [
      "M_facto = Base.LinAlg.SVD{Float64,Float64,Array{Float64,2}}([-0.404554 -0.914514; -0.914514 0.404554],[5.46499,0.365966],[-0.576048 -0.817416; 0.817416 -0.576048])\n"
     ]
    },
    {
     "ename": "LoadError",
     "evalue": "MethodError: no method matching eps(::Int64)\u001b[0m\nClosest candidates are:\n  eps(\u001b[1m\u001b[31m::Date\u001b[0m) at dates/types.jl:231\n  eps(\u001b[1m\u001b[31m::DateTime\u001b[0m) at dates/types.jl:230\n  eps() at float.jl:499\n  ...\u001b[0m",
     "output_type": "error",
     "traceback": [
      "MethodError: no method matching eps(::Int64)\u001b[0m\nClosest candidates are:\n  eps(\u001b[1m\u001b[31m::Date\u001b[0m) at dates/types.jl:231\n  eps(\u001b[1m\u001b[31m::DateTime\u001b[0m) at dates/types.jl:230\n  eps() at float.jl:499\n  ...\u001b[0m",
      "",
      " in eigvals! at /home/evelyn/.julia/v0.5/LinearAlgebra/src/eigenGeneral.jl:212 [inlined]",
      " in EigenValores(::Array{Int64,2}) at ./In[5]:4",
      " in include_string(::String, ::String) at ./loading.jl:441"
     ]
    }
   ],
   "source": [
    "EigenValores([1 2;3 4])"
   ]
  },
  {
   "cell_type": "code",
   "execution_count": 6,
   "metadata": {
    "collapsed": false
   },
   "outputs": [
    {
     "data": {
      "text/plain": [
       "Orden1 (generic function with 1 method)"
      ]
     },
     "execution_count": 6,
     "metadata": {},
     "output_type": "execute_result"
    }
   ],
   "source": [
    "function Orden1(Cθ,CP,TipoVariable,Mapeo,k,l,PuntoFijo,tipo_v,λarrayθ,λarrayP)\n",
    "            #usamos la función PolinomioTaylor para crear el polinomio tipo Taylor1.TaylorN{T}\n",
    "            t = PolinomioTaylor(Cθ,CP,TipoVariable)\n",
    "            @show(typeof(t))\n",
    "            #Aplicamos el mapeo a los polinomios que resultan de la función anterior.\n",
    "            Or1 = Mapeo(t[1],t[2],k,l)\n",
    "            @show(typeof(Or1))\n",
    "            AuxOr1=[Or1[1][1],Or1[2][1]]\n",
    "            @show(typeof(AuxOr1))\n",
    "            #Calculamos el jacobiano del Orden 1 para obtener sus valores y vectores propios.\n",
    "            JPO = jacobian(AuxOr1,[PuntoFijo[1],PuntoFijo[2]])\n",
    "            @show(typeof(JPO))\n",
    "            \n",
    "            \n",
    "            #Calculamos los valores y vectores propios\n",
    "            if TipoVariable == BigFloat\n",
    "                eigval,eigvec = EigenValores(JPO)\n",
    "            else\n",
    "                eigval,eigvec = eig(JPO)\n",
    "            end\n",
    "            #escogemos el tipo de variedad que queremos calcular. Como se ordenan de menor a mayor la inestable es la segunda\n",
    "            λ = eigval[tipo_v]\n",
    "            \n",
    "            #Ponemos los coeficientes en una variable nueva cada uno y los agregamos a las listas CX,CP,λ\n",
    "            Coefθ,CoefP = eigvec[:,tipo_v]\n",
    "            @show(typeof(Coefθ))\n",
    "            #@show(Coefθ,CoefP)\n",
    "            push!(Cθ, Coefθ)\n",
    "            push!(CP, CoefP)\n",
    "            push!(λarrayθ, λ)\n",
    "            push!(λarrayP, λ)\n",
    "            λ_v=[λarrayθ,λarrayP]\n",
    "            \n",
    "            #@show(λarray)  \n",
    "            @show(typeof(Cθ))\n",
    "            @show(typeof(λarrayθ))\n",
    "    return Cθ, CP,λarrayθ,λarrayP, λ_v\n",
    "end\n",
    "            \n",
    "    "
   ]
  },
  {
   "cell_type": "code",
   "execution_count": 7,
   "metadata": {
    "collapsed": false
   },
   "outputs": [
    {
     "data": {
      "text/plain": [
       "Variedades"
      ]
     },
     "execution_count": 7,
     "metadata": {},
     "output_type": "execute_result"
    }
   ],
   "source": [
    "#Creamos una función que reciba el orden del polinomio , el punto fijo, el parámetro k y \n",
    "#el tipo de varidad que queremos(estable=1, inestable=2)\n",
    "\"\"\"\n",
    "Variedades(Mapeo,orden, PuntoFijo,k,tipo_v,TipoVariable)\n",
    "Es una función que calcula las variedades de cierto mapeo. Usa las funciones de PolinomioTaylor1 y Vecλ para calcular los\n",
    "polinomios de cada lado de la ecuación cohomológica y les aplica el mapeo dado. \n",
    "\n",
    "\n",
    "\n",
    "Argumentos:\n",
    "\n",
    "\n",
    "- Mapeo : Mapeo de dos dimensiones, debe recibir al menos dos parámetros que son los polinomios antes calculados.\n",
    "- orden : se trata del orden del polinomio.\n",
    "- PuntoFijo : ES el punto fijo donde queremos calcular la variedad.\n",
    "- k     : Es la constante del mapeo.\n",
    "- tipo_v : 1 si la variedad es estable, 2 si es inestable.\n",
    "- TipoVariable :  Float64,BigFloat, Integer,etc.\n",
    "\n",
    "\n",
    "\"\"\"\n",
    "function Variedades(Mapeo,orden, PuntoFijo,k,l,tipo_v, TipoVariable)\n",
    "   \n",
    "    #definimos unas listas donde se guardarán los coeficientes  de todo el polinomio, tales deben ser\n",
    "    # de tipo \"Array{TaylorSeries.TaylorN{Int64},1}\" dado que los términos que se van agregando \n",
    "    # en cada orden son de tipo TaylorN.\n",
    "    \n",
    "    a=TipoVariable(PuntoFijo[1])\n",
    "    b=TipoVariable(PuntoFijo[2])\n",
    "    Cθ = [a+TaylorN(0.)]\n",
    "    CP = [b+TaylorN(0.)]\n",
    "    \n",
    "    \n",
    "    #λarray es la lista que contiene a los coeficientes del polinomio de λ\n",
    "    λarrayθ = [a^0]\n",
    "    λarrayP = [b^0]\n",
    "    \n",
    "    #definimos un vector que contiene el punto en el que se evalúa el jacobiano que se calcula después\n",
    "    #dado que sólo lo usamos para obtener los valores que resultaron en el mapeo evaluamos siempre en [1.,1.]\n",
    "    \n",
    "    \n",
    "    \n",
    "    \n",
    "    Cθ,CP,λarayθ, λarrayP,λ_v = Orden1(Cθ,CP,TipoVariable,Mapeo,k,l,PuntoFijo,tipo_v,λarrayθ,λarrayP)\n",
    "    \n",
    "\n",
    "\n",
    "    for g in 2:orden\n",
    "        \n",
    "            #Creamos los polinomios con las listas correspondientes \n",
    "            t = PolinomioTaylor1(g,Cθ,CP,TipoVariable)\n",
    "            \n",
    "            # aplicamos el mapeo estándar y al resultado le llamamos OrG por Orden g.\n",
    "            OrG = Mapeo(t[1],t[2],k,l)\n",
    "            \n",
    "            push!(λarrayθ,λarrayθ[2]^g)\n",
    "            push!(λarrayP,λarrayP[2]^g)\n",
    "            λ_v=[λarrayθ,λarrayP]\n",
    "            \n",
    "            #agregamos el término correspondiente a λ \n",
    "            λ_vec=Vecλ(λ_v,g,Cθ,CP)\n",
    "            \n",
    "            \n",
    "            #@show(λvec)\n",
    "            \n",
    "            # ahora ya tengo las dos partes de la ecuación y debo igualarlas para resolver.\n",
    "            EcuaCohomo=OrG-λ_vec\n",
    "            \n",
    "            \n",
    "            # de esta ecuación necesitamos solo los de orden g, así que los extraemos manualmente \n",
    "            θ_g=EcuaCohomo[1].coeffs[g+1]\n",
    "            p_g=EcuaCohomo[2].coeffs[g+1]\n",
    "            vec_orden_g=[θ_g,p_g]\n",
    "            \n",
    "            \n",
    "            #calculamos el término independiene en la ecuación\n",
    "            θ_ind=EcuaCohomo[1].coeffs[g+1].coeffs[1].coeffs[1]\n",
    "            p_ind=EcuaCohomo[2].coeffs[g+1].coeffs[1].coeffs[1]\n",
    "            vec_ind=[-θ_ind,-p_ind]\n",
    "            \n",
    "            #calculamos el jacobiano\n",
    "            JacOrdenG = jacobian(vec_orden_g)\n",
    "            \n",
    "            \n",
    "            \n",
    "            \n",
    "            #Con esta información podemos evaluar lo siguiente:\n",
    "            # Si el vector de términos independientes es cero y el determinante del jacobiano es distinto de cero\n",
    "            # entonces la solución a la ecuación cohomológica es la trivial\n",
    "            if norm(vec_ind)==0.\n",
    "                if det(JacOrdenG)!=0.\n",
    "                    \n",
    "                    Cθ[g+1]=0.\n",
    "                    CP[g+1]=0.\n",
    "                end\n",
    "            else\n",
    "                # Si el vector de términos independientes es distinto de ceroentonces necesitamos \n",
    "                #resolver la ecuación JacOrdenG[x_g,p_g]*[x,p]**=vec_ind[x_g,p_g]\n",
    "                # entonces solo se trata de invertir el jacobiano y multiplicar con el vector del lado izquierdo\n",
    "                TermG=JacOrdenG \\ vec_ind\n",
    "                \n",
    "                Cθ[g+1]=TermG[1]\n",
    "                CP[g+1]=TermG[2]\n",
    "            \n",
    "            end\n",
    "            \n",
    "\n",
    "    end\n",
    "    return Cθ,CP,λarrayθ, λarrayP\n",
    "end"
   ]
  },
  {
   "cell_type": "code",
   "execution_count": 8,
   "metadata": {
    "collapsed": false
   },
   "outputs": [
    {
     "data": {
      "text/plain": [
       "PolinomioCohomo"
      ]
     },
     "execution_count": 8,
     "metadata": {},
     "output_type": "execute_result"
    }
   ],
   "source": [
    "\"\"\"\n",
    "PolinomioCohomo(Mapeo,Pol_vec,λvec, k)\n",
    "Esta función calcula la ecuación cohomológica con los polinomios que ya se calcularon. Regresa un arreglo de dos \n",
    "elementos que son los valores de x,θ del mapeo.\n",
    "\n",
    "\n",
    "Argumentos:\n",
    "-Mapeo : función o mapeo del cual calculamos las variedades.Debe ser una función que reciba tres parámetros\n",
    " que son dos de sus variables y la constante del mapeo. Como salida debe tener un arreglo de dos elementos. \n",
    "-Pol_vec : Es un arreglo de dos elementos que son los polinomios calculados con anterioridad. \n",
    "-k     : es el valor de la constante del mapeo \n",
    "-λvec : \n",
    "\n",
    "\"\"\"\n",
    "function PolinomioCohomo(Mapeo,Pol_vec,λvec, k,l ,PuntoFijo,modulo)\n",
    "    Map_vec=Mapeo(Pol_vec[1],Pol_vec[2],k,l)\n",
    "    if modulo==2*pi\n",
    "        Ec_Cohomo = mod(Map_vec-λvec,modulo)\n",
    "    else\n",
    "    Ec_Cohomo = Map_vec-λvec\n",
    "    end\n",
    "    return Ec_Cohomo\n",
    "end"
   ]
  },
  {
   "cell_type": "code",
   "execution_count": 9,
   "metadata": {
    "collapsed": false
   },
   "outputs": [
    {
     "data": {
      "text/plain": [
       "EvaluarPol"
      ]
     },
     "execution_count": 9,
     "metadata": {},
     "output_type": "execute_result"
    }
   ],
   "source": [
    "\"\"\"\n",
    "EvaluarPol(Ec_2var,Tiempo,paso)\n",
    "\n",
    "Es una función que toma un arreglo de dos dimensiones que contiene polinomios y los evalúa en el tiempo dado en los pasos deseados\n",
    "\n",
    "\n",
    "\n",
    "\n",
    "Argumentos:\n",
    "\n",
    "-Ec_2var : Arreglo de dos dimensiones que contiene polinomios en cada una de ellas. \n",
    "-Tiempo  : Valor hasta el cual se quiere evaluar cada polinomio\n",
    "-paso    : es el paso que se considera en cada evaluación del polinomio. \n",
    "\n",
    "\"\"\"\n",
    "function EvaluarPol(Ec_2var,Tiempo,paso,TipoVariable)\n",
    "    \n",
    "    \n",
    "    \n",
    "    \n",
    "    \n",
    "    Val=TipoVariable[]\n",
    "    Tiem=TipoVariable[]\n",
    "    \n",
    "    \n",
    "    for t = 0:paso:Tiempo\n",
    "        x = evaluate(Ec_2var[1], t)\n",
    "        y = evaluate(Ec_2var[2], t)\n",
    "\n",
    "        \n",
    "        norma = norm([x,y],Inf)\n",
    "        push!(Val,norma)\n",
    "        push!(Tiem,t)\n",
    "    \n",
    "    end\n",
    "    return Tiem,Val\n",
    "end"
   ]
  },
  {
   "cell_type": "markdown",
   "metadata": {},
   "source": [
    "Esta función resume todo el proceso de parametización: Primero llama a la función Variedades que es la que contiene el método en sí. Lo que hace Variedades es crear primero dos polinomios de grado uno que tienen como primer coeficiente al punto fijo que se conoce, esto lo hace con ayuda de la función PolinomioTaylor1. Evalúa el mapeo en estos polinomios y en el primero paso calcula los valores y vectores propios del sistema. Recordemos qu se está haciendo una linearización del sistema y por ello se calculan los valores propios. Ya con esta información se escoge el primer o segundo valor propio dependiento de cuaĺ variedad se quiera calcular. Teniendo el valor propio y el vector se actualizan los nuevos coeficientes de los polinomios. Para los siguientes órdenes se hace algo diferente pues se evalúa en el mapeo los polinomios y también se evalúa la parte derecha de la ecuacuión cohomológica usando el valor propio. Con ellas se calcula la resta de ambas partes y dado que se empato ya el orden anterior entonces solo sbreviven los términos que corresponden al orden que se está calculando. A este resultado se le calcula el jacobiano con el fin de obtener las ecuaciones como un sistema. La solución de este sistema serán los nuevos coeficientes de los polinomios. \n",
    "\n",
    "El eroe es elgoque se calcula usando la ecuación cohomológica, comparando los términos del lado derecho e izquiero tomamos su resta y le calculamos la norma infinito. Se evalúa esto para los valores del parámetro usados._"
   ]
  },
  {
   "cell_type": "code",
   "execution_count": 10,
   "metadata": {
    "collapsed": false
   },
   "outputs": [
    {
     "data": {
      "text/plain": [
       "CreaPol"
      ]
     },
     "execution_count": 10,
     "metadata": {},
     "output_type": "execute_result"
    }
   ],
   "source": [
    "\"\"\"\n",
    "CreaPol es una función que dadas dos listas y un grado crea  un arreglo de dos entradas , en cada una de ellas se encuentra \n",
    "el polinomio de grado g con los coeficientes de las listas. \n",
    "\n",
    "\n",
    "Argumentos:\n",
    "\n",
    "\n",
    "- A,B : arreglos que contienen lo que serán los coeficientes del polinomio.\n",
    "- orden : grado del polinomio\n",
    "\"\"\"\n",
    "function CreaPol(A,B,orden)\n",
    "    Taylor = [Taylor1(A,orden),Taylor1(B,orden)]\n",
    "    return Taylor\n",
    "end"
   ]
  },
  {
   "cell_type": "code",
   "execution_count": 11,
   "metadata": {
    "collapsed": false
   },
   "outputs": [
    {
     "data": {
      "text/plain": [
       "MetParametrización (generic function with 1 method)"
      ]
     },
     "execution_count": 11,
     "metadata": {},
     "output_type": "execute_result"
    }
   ],
   "source": [
    "function MetParametrización(Mapeo,modulo,orden,PuntoFijo,k,l,tipo_v,Tiempo,paso, TipoVariable)\n",
    "    Coeficienteθ,CoeficienteP,λarrayθ,λarrayP = Variedades(Mapeo,orden,PuntoFijo,k,l,tipo_v,TipoVariable)\n",
    "        \n",
    "    \n",
    "    θ = TipoVariable[]\n",
    "    P = TipoVariable[]\n",
    "    \n",
    "    for i in 1:orden+1\n",
    "            \n",
    "        push!(θ,Coeficienteθ[i].coeffs[1].coeffs[1])\n",
    "        push!(P,CoeficienteP[i].coeffs[1].coeffs[1])\n",
    "        \n",
    "    end\n",
    "    \n",
    "    Taylor=CreaPol(θ,P,orden)\n",
    "    \n",
    "    λ_vec=CreaPol(θ.*λarrayθ,P.*λarrayP,orden)\n",
    "    \n",
    "    \n",
    "    \n",
    "    Ecua_Cohomo = PolinomioCohomo(Mapeo,Taylor,λ_vec, k,l,PuntoFijo,modulo)\n",
    "    Valor_t , Error = EvaluarPol(Ecua_Cohomo,Tiempo,paso, TipoVariable)\n",
    "    ErrorV = [Valor_t,Error]\n",
    "    \n",
    "    \n",
    "    return Taylor,ErrorV,λ_vec\n",
    "   \n",
    "end"
   ]
  },
  {
   "cell_type": "code",
   "execution_count": 12,
   "metadata": {
    "collapsed": false
   },
   "outputs": [
    {
     "data": {
      "text/plain": [
       "EstandarMap"
      ]
     },
     "execution_count": 12,
     "metadata": {},
     "output_type": "execute_result"
    }
   ],
   "source": [
    "# necesitamos también definir el mapeo estandar \n",
    "\"\"\"EstandarMap(θ,p,k)\n",
    "   \n",
    "   Función que define el mapeo estándar.\n",
    "\n",
    "\n",
    "   θ,p son las entradas del mapeo, mienrras que k es la constante del mapeo.\n",
    "\"\"\"\n",
    "function EstandarMap(θ,p,k,l)\n",
    "    #x_n = mod([ θ+p, p+k*sin(θ+p) ], 2*pi)\n",
    "    x_n = mod(θ+p,2*pi)\n",
    "    y_n = mod(p+k*sin(θ+p),2*pi)\n",
    "    \n",
    "    return [x_n,y_n]\n",
    "    \n",
    "end"
   ]
  },
  {
   "cell_type": "markdown",
   "metadata": {},
   "source": [
    "Lo que queremos observar es que pasa cuando se usan diferentes tipos de números. Sobre todo para evaluar si es conveniente usar alguno con mayor presición, es decir que disminuya de forma significativa el error cometido usando uno u otro tipo. "
   ]
  },
  {
   "cell_type": "markdown",
   "metadata": {},
   "source": [
    "Primero veremos que pasa cuando se usa Float 64 en un polinomio de 5° grado "
   ]
  },
  {
   "cell_type": "code",
   "execution_count": 13,
   "metadata": {
    "collapsed": false
   },
   "outputs": [],
   "source": [
    "using PyPlot"
   ]
  },
  {
   "cell_type": "code",
   "execution_count": 27,
   "metadata": {
    "collapsed": false
   },
   "outputs": [
    {
     "name": "stderr",
     "output_type": "stream",
     "text": [
      "WARNING: Method definition evaluar(Any, Any, Any, Any) in module Main at In[23]:2 overwritten at In[27]:2.\n"
     ]
    },
    {
     "data": {
      "text/plain": [
       "evaluar (generic function with 1 method)"
      ]
     },
     "execution_count": 27,
     "metadata": {},
     "output_type": "execute_result"
    }
   ],
   "source": [
    "function evaluar(Tiempo, paso,A,B)\n",
    "    ValX=Float64[]\n",
    "    \n",
    "    ValY=Float64[]\n",
    "\n",
    "    for t = 0:paso:Tiempo\n",
    "        \n",
    "        x = mod(evaluate(A,t),2*pi)\n",
    "        y = mod(evaluate(B,t),2*pi)\n",
    "        \n",
    "        push!(ValX,x)\n",
    "        push!(ValY,y)\n",
    "        \n",
    "    end\n",
    "    return ValX,ValY\n",
    "    \n",
    "end"
   ]
  },
  {
   "cell_type": "code",
   "execution_count": 14,
   "metadata": {
    "collapsed": false
   },
   "outputs": [
    {
     "name": "stdout",
     "output_type": "stream",
     "text": [
      "typeof(t) = Array{TaylorSeries.Taylor1{TaylorSeries.TaylorN{Float64}},1}\n",
      "typeof(Or1) = Array{TaylorSeries.Taylor1{TaylorSeries.TaylorN{Float64}},1}\n",
      "typeof(AuxOr1) = Array{TaylorSeries.TaylorN{Float64},1}\n",
      "typeof(JPO) = Array{Float64,2}\n",
      "typeof(Coefθ) = Float64\n",
      "typeof(Cθ) = Array{TaylorSeries.TaylorN{Float64},1}\n",
      "typeof(λarrayθ) = Array{Float64,1}\n"
     ]
    },
    {
     "data": {
      "text/plain": [
       "(TaylorSeries.Taylor1{Float64}[ - 0.8123460094785507 t + 0.009033906934722882 t³ - 0.0001397361967527742 t⁵ + 𝒪(t⁶), - 0.5831757547123116 t + 0.036765757927698775 t³ - 0.0019509397937700743 t⁵ + 𝒪(t⁶)],Array{Float64,1}[[0.0,0.125,0.25,0.375,0.5,0.625,0.75,0.875,1.0,1.125  …  1.75,1.875,2.0,2.125,2.25,2.375,2.5,2.625,2.75,2.875],[0.0,5.4316e-20,4.37069e-19,1.4894e-18,3.57787e-18,7.10714e-18,1.25327e-17,2.03736e-17,3.1225e-17,4.57712e-17  …  2.05697e-16,2.63361e-16,3.33067e-16,4.16667e-16,5.16219e-16,6.33994e-16,7.72494e-16,9.34461e-16,1.12289e-15,1.34105e-15]],TaylorSeries.Taylor1{Float64}[ - 1.3955217641908624 t + 0.04579966486242166 t³ - 0.0020906759905228484 t⁵ + 𝒪(t⁶), - 1.0018322839695704 t + 0.18639326303323037 t³ - 0.029189165588977682 t⁵ + 𝒪(t⁶)])"
      ]
     },
     "execution_count": 14,
     "metadata": {},
     "output_type": "execute_result"
    }
   ],
   "source": [
    "PolinomioFI,EFI,ValPropFI = MetParametrización(EstandarMap,2*pi, 5, [0.,0.], 0.3, 0.0, 2, 2.9, 0.125, Float64)"
   ]
  },
  {
   "cell_type": "code",
   "execution_count": 15,
   "metadata": {
    "collapsed": false
   },
   "outputs": [
    {
     "name": "stdout",
     "output_type": "stream",
     "text": [
      "typeof(t) = Array{TaylorSeries.Taylor1{TaylorSeries.TaylorN{Float64}},1}\n",
      "typeof(Or1) = Array{TaylorSeries.Taylor1{TaylorSeries.TaylorN{Float64}},1}\n",
      "typeof(AuxOr1) = Array{TaylorSeries.TaylorN{Float64},1}\n",
      "typeof(JPO) = Array{Float64,2}\n",
      "typeof(Coefθ) = Float64\n",
      "typeof(Cθ) = Array{TaylorSeries.TaylorN{Float64},1}\n",
      "typeof(λarrayθ) = Array{Float64,1}\n"
     ]
    },
    {
     "data": {
      "text/plain": [
       "(TaylorSeries.Taylor1{Float64}[ - 0.9226754120168447 t + 0.013237296611941769 t³ - 0.000264148652085709 t⁵ + 𝒪(t⁶), 0.3855775979741898 t - 0.010626262098505342 t³ + 0.0002464935356606154 t⁵ + 𝒪(t⁶)],Array{Float64,1}[[0.0,0.125,0.25,0.375,0.5,0.625,0.75,0.875,1.0,1.125  …  1.75,1.875,2.0,2.125,2.25,2.375,2.5,2.625,2.75,2.875],[0.0,6.94059e-18,1.38913e-17,2.08622e-17,2.7863e-17,3.49033e-17,4.1992e-17,4.91377e-17,5.6348e-17,6.36301e-17  …  1.01293e-16,1.09094e-16,1.16985e-16,1.24963e-16,1.33021e-16,1.41154e-16,1.49353e-16,1.57605e-16,1.65898e-16,1.74217e-16]],TaylorSeries.Taylor1{Float64}[ - 0.5370978140426549 t + 0.002611034513436426 t³ - 1.7655116425093602e-5 t⁵ + 𝒪(t⁶), 0.22444825376139338 t - 0.002096012343108542 t³ + 1.6475087174433366e-5 t⁵ + 𝒪(t⁶)])"
      ]
     },
     "execution_count": 15,
     "metadata": {},
     "output_type": "execute_result"
    }
   ],
   "source": [
    "#Usando Float64\n",
    "PolinomioFE,EFE,ValPropFE = MetParametrización(EstandarMap,2*pi, 5, [0.,0.], 0.3, 0.0, 1, 2.9, 0.125, Float64)"
   ]
  },
  {
   "cell_type": "markdown",
   "metadata": {},
   "source": [
    "Calculamos el mismo polinomio pero ahora usando BigFloat para ver la diferencia sobre todo en el error. "
   ]
  },
  {
   "cell_type": "code",
   "execution_count": 49,
   "metadata": {
    "collapsed": false
   },
   "outputs": [
    {
     "data": {
      "image/png": "[encoded data removed]",
      "text/plain": [
       "PyPlot.Figure(PyObject <matplotlib.figure.Figure object at 0x7f265fe77510>)"
      ]
     },
     "metadata": {},
     "output_type": "display_data"
    },
    {
     "data": {
      "text/plain": [
       "PyObject <matplotlib.text.Text object at 0x7f265fe9f610>"
      ]
     },
     "execution_count": 49,
     "metadata": {},
     "output_type": "execute_result"
    }
   ],
   "source": [
    "V=evaluar(4.7,0.025,PolinomioFI[1],PolinomioFI[2])\n",
    "B=evaluar(5.7,0.025,PolinomioFE[1],PolinomioFE[2])\n",
    "figure()\n",
    "#pygui(true)\n",
    "plot(V[1],V[2])\n",
    "plot(B[1],B[2])\n",
    "xlim(0,2*pi)\n",
    "ylim(0,2*pi)\n",
    "title(\"Float64\")"
   ]
  },
  {
   "cell_type": "code",
   "execution_count": 51,
   "metadata": {
    "collapsed": false
   },
   "outputs": [
    {
     "name": "stdout",
     "output_type": "stream",
     "text": [
      "typeof(t) = Array{TaylorSeries.Taylor1{TaylorSeries.TaylorN{BigFloat}},1}\n",
      "typeof(Or1) = Array{TaylorSeries.Taylor1{TaylorSeries.TaylorN{BigFloat}},1}\n",
      "typeof(AuxOr1) = Array{TaylorSeries.TaylorN{BigFloat},1}\n",
      "typeof(JPO) = Array{BigFloat,2}\n",
      "M_facto = Base.LinAlg.SVD{BigFloat,BigFloat,Array{BigFloat,2}}(BigFloat[7.309542044882355688449324504402582222038096009357604165395210691194087831515042e-01 6.824265168800013009812137356158796312276528066329077945120900601515679026326173e-01; 6.824265168800013009812137356158796312276528066329077945120900601515679026326086e-01 -7.30954204488235568844932450440258222203809600935760416539521069119408783151487e-01],BigFloat[1.869164731223447466754393321825566951003454648697139701966054063302084883978847,5.349983248108141088198071155249195429821846456049721359122737294105218793923037e-01],BigFloat[5.005883879158111208746034816203704155977149325779722503737084176838782747981301e-01 8.656854312530905741364356979156791490042144207070017653194124680792596072035998e-01; 8.656854312530905741364356979156791490042144207070017653194124680792596072035998e-01 -5.005883879158111208746034816203704155977149325779722503737084176838782747981301e-01])\n",
      "Vals = BigFloat[1.717890834580027344296904690343316753017672239227004304221107092620565027268965,5.821091654199726446008650634051178427460110798647925707788929073794349727310346e-01]\n",
      "typeof(Coefθ) = BigFloat\n",
      "typeof(Cθ) = Array{TaylorSeries.TaylorN{BigFloat},1}\n",
      "typeof(λarrayθ) = Array{BigFloat,1}\n"
     ]
    },
    {
     "data": {
      "text/plain": [
       "(TaylorSeries.Taylor1{BigFloat}[ - 8.656854312530905741364356979156791490042144207070017653194124680792596072035998e-01 t + 4.157804774470155477561986097475643581144469774734562049838703192963641164882157e-03 t³ - 3.833743515002375907024744857972360888716482753674169670739659467936218999051126e-05 t⁵ + 𝒪(t⁶), 5.005883879158111208746034816203704155977149325779722503737084176838782747981301e-01 t - 3.337684769266174057164017431958473464376044810254480512389083266455234673295472e-03 t³ + 3.577504508795550790558756819299990816881280104179869761919349478868620101957495e-05 t⁵ + 𝒪(t⁶)],Array{BigFloat,1}[BigFloat[0.000000000000000000000000000000000000000000000000000000000000000000000000000000,1.250000000000000000000000000000000000000000000000000000000000000000000000000000e-01,2.500000000000000000000000000000000000000000000000000000000000000000000000000000e-01,3.750000000000000000000000000000000000000000000000000000000000000000000000000000e-01,5.000000000000000000000000000000000000000000000000000000000000000000000000000000e-01,6.250000000000000000000000000000000000000000000000000000000000000000000000000000e-01,7.500000000000000000000000000000000000000000000000000000000000000000000000000000e-01,8.750000000000000000000000000000000000000000000000000000000000000000000000000000e-01,1.000000000000000000000000000000000000000000000000000000000000000000000000000000,1.125000000000000000000000000000000000000000000000000000000000000000000000000000  …  1.750000000000000000000000000000000000000000000000000000000000000000000000000000,1.875000000000000000000000000000000000000000000000000000000000000000000000000000,2.000000000000000000000000000000000000000000000000000000000000000000000000000000,2.125000000000000000000000000000000000000000000000000000000000000000000000000000,2.250000000000000000000000000000000000000000000000000000000000000000000000000000,2.375000000000000000000000000000000000000000000000000000000000000000000000000000,2.500000000000000000000000000000000000000000000000000000000000000000000000000000,2.625000000000000000000000000000000000000000000000000000000000000000000000000000,2.750000000000000000000000000000000000000000000000000000000000000000000000000000,2.875000000000000000000000000000000000000000000000000000000000000000000000000000],BigFloat[0.000000000000000000000000000000000000000000000000000000000000000000000000000000,1.735329757071077555923747212811393304962316873665450058327089363080612677762459e-02,3.470659514142155111847494425622786609924633747330900116654178726161225355524919e-02,5.205989271213232667771241638434179914886950620996350174981268089241838033287378e-02,6.941319028284310223694988851245573219849267494661800233308357452322450711049837e-02,8.676648785355387779618736064056966524811584368327250291635446815403063388812296e-02,1.041197854242646533554248327686835982977390124199270034996253617848367606657476e-01,1.214730829949754289146623048967975313473621811565815040828962554156428874433722e-01,1.388263805656862044738997770249114643969853498932360046661671490464490142209967e-01,1.561796781363969800331372491530253974466085186298905052494380426772551409986224e-01  …  2.429461659899508578293246097935950626947243623131630081657925108312857748867443e-01,2.602994635606616333885620819217089957443475310498175087490634044620919016643678e-01,2.776527611313724089477995540498229287939706997864720093323342980928980284419935e-01,2.950060587020831845070370261779368618435938685231265099156051917237041552196192e-01,3.123593562727939600662744983060507948932170372597810104988760853545102819972448e-01,3.297126538435047356255119704341647279428402059964355110821469789853164087748662e-01,3.470659514142155111847494425622786609924633747330900116654178726161225355524919e-01,3.644192489849262867439869146903925940420865434697445122486887662469286623301175e-01,3.817725465556370623032243868185065270917097122063990128319596598777347891077389e-01,3.991258441263478378624618589466204601413328809430535134152305535085409158853646e-01]],TaylorSeries.Taylor1{BigFloat}[ - 5.039234239029656577357319933202201978034848380222655196118711994418303466264665e-01 t + 8.201200052039814203979686655171701167684249644800815374496199265084064915866928e-04 t³ - 2.562390062068251164659880386723700718352026494942999088203099890675988970936542e-06 t⁵ + 𝒪(t⁶), 2.913970887086023309995164216753370618985771818979595659140897334872321222547643e-01 t - 6.583527122647668739072775104720043037811236961688506967287827387427185490595067e-04 t³ + 2.391125531603644249763455461058258044709417679479514789707312088408525916545406e-06 t⁵ + 𝒪(t⁶)])"
      ]
     },
     "execution_count": 51,
     "metadata": {},
     "output_type": "execute_result"
    }
   ],
   "source": [
    "#Usando BigFloat\n",
    "PolinomioBI,EBigI,ValPropBI = MetParametrización(EstandarMap,2*pi,5,[0.0,0.],0.3,0.0,2,2.9,0.125,BigFloat)"
   ]
  },
  {
   "cell_type": "code",
   "execution_count": 52,
   "metadata": {
    "collapsed": false
   },
   "outputs": [
    {
     "name": "stdout",
     "output_type": "stream",
     "text": [
      "typeof(t) = Array{TaylorSeries.Taylor1{TaylorSeries.TaylorN{BigFloat}},1}\n",
      "typeof(Or1) = Array{TaylorSeries.Taylor1{TaylorSeries.TaylorN{BigFloat}},1}\n",
      "typeof(AuxOr1) = Array{TaylorSeries.TaylorN{BigFloat},1}\n",
      "typeof(JPO) = Array{BigFloat,2}\n",
      "M_facto = Base.LinAlg.SVD{BigFloat,BigFloat,Array{BigFloat,2}}(BigFloat[7.309542044882355688449324504402582222038096009357604165395210691194087831515042e-01 6.824265168800013009812137356158796312276528066329077945120900601515679026326173e-01; 6.824265168800013009812137356158796312276528066329077945120900601515679026326086e-01 -7.30954204488235568844932450440258222203809600935760416539521069119408783151487e-01],BigFloat[1.869164731223447466754393321825566951003454648697139701966054063302084883978847,5.349983248108141088198071155249195429821846456049721359122737294105218793923037e-01],BigFloat[5.005883879158111208746034816203704155977149325779722503737084176838782747981301e-01 8.656854312530905741364356979156791490042144207070017653194124680792596072035998e-01; 8.656854312530905741364356979156791490042144207070017653194124680792596072035998e-01 -5.005883879158111208746034816203704155977149325779722503737084176838782747981301e-01])\n",
      "Vals = BigFloat[1.717890834580027344296904690343316753017672239227004304221107092620565027268965,5.821091654199726446008650634051178427460110798647925707788929073794349727310346e-01]\n",
      "typeof(Coefθ) = BigFloat\n",
      "typeof(Cθ) = Array{TaylorSeries.TaylorN{BigFloat},1}\n",
      "typeof(λarrayθ) = Array{BigFloat,1}\n"
     ]
    },
    {
     "data": {
      "text/plain": [
       "(TaylorSeries.Taylor1{BigFloat}[ - 5.005883879158111208746034816203704155977149325779722503737084176838782747981301e-01 t + 8.47771884041087815878696068060199946320434545301679555765678300822129994921844e-03 t³ - 1.256940096522318777139077146392406454744921685645155197015459684383053107466868e-04 t⁵ + 𝒪(t⁶), - 8.656854312530905741364356979156791490042144207070017653194124680792596072035998e-01 t + 3.45022104962827588236242747230824887904070021144473984431702908698743205891604e-02 t³ - 1.754888503963740806553934492996287752126266885791993762932974173433971395133034e-03 t⁵ + 𝒪(t⁶)],Array{BigFloat,1}[BigFloat[0.000000000000000000000000000000000000000000000000000000000000000000000000000000,1.250000000000000000000000000000000000000000000000000000000000000000000000000000e-01,2.500000000000000000000000000000000000000000000000000000000000000000000000000000e-01,3.750000000000000000000000000000000000000000000000000000000000000000000000000000e-01,5.000000000000000000000000000000000000000000000000000000000000000000000000000000e-01,6.250000000000000000000000000000000000000000000000000000000000000000000000000000e-01,7.500000000000000000000000000000000000000000000000000000000000000000000000000000e-01,8.750000000000000000000000000000000000000000000000000000000000000000000000000000e-01,1.000000000000000000000000000000000000000000000000000000000000000000000000000000,1.125000000000000000000000000000000000000000000000000000000000000000000000000000  …  1.750000000000000000000000000000000000000000000000000000000000000000000000000000,1.875000000000000000000000000000000000000000000000000000000000000000000000000000,2.000000000000000000000000000000000000000000000000000000000000000000000000000000,2.125000000000000000000000000000000000000000000000000000000000000000000000000000,2.250000000000000000000000000000000000000000000000000000000000000000000000000000,2.375000000000000000000000000000000000000000000000000000000000000000000000000000,2.500000000000000000000000000000000000000000000000000000000000000000000000000000,2.625000000000000000000000000000000000000000000000000000000000000000000000000000,2.750000000000000000000000000000000000000000000000000000000000000000000000000000,2.875000000000000000000000000000000000000000000000000000000000000000000000000000],BigFloat[0.000000000000000000000000000000000000000000000000000000000000000000000000000000,6.328970195889230669457689184072056482312425826251799044373426221762323428588205e-02,1.265794039177846133891537836814411296462485165250359808874685244352464685717641e-01,1.898691058766769200837306755221616944693727747875539713312027866528697028576462e-01,2.531588078355692267783075673628822592924970330500719617749370488704929371435282e-01,3.164485097944615334728844592036028241156212913125899522186713110881161714294081e-01,3.797382117533538401674613510443233889387455495751079426624055733057394057152923e-01,4.430279137122461468620382428850439537618698078376259331061398355233626400011765e-01,5.063176156711384535566151347257645185849940661001439235498740977409858742870564e-01,5.696073176300307602511920265664850834081183243626619139936083599586091085729363e-01  …  8.86055827424492293724076485770087907523739615675251866212279671046725280002353e-01,9.493455293833846004186533776108084723468638739377698566560139332643485142882329e-01,1.012635231342276907113230269451529037169988132200287847099748195481971748574113,1.075924933301169213807807161292249601993112390462805837543482457699594982859993,1.139214635260061520502384053132970166816236648725323827987216719917218217145873,1.202504337218953827196960944973690731639360906987841818430950982134841451431752,1.265794039177846133891537836814411296462485165250359808874685244352464685717632,1.32908374113673844058611472865513186128560942351287779931841950657008792000353,1.392373443095630747280691620495852426108733681775395789762153768787711154289409,1.455663145054523053975268512336572990931857940037913780205888031005334388575289]],TaylorSeries.Taylor1{BigFloat}[ - 8.599562034977632414544240448102850460169352871848300921432467880221520077146821e-01 t + 4.297992933669363698241123540368448825361134756746419400082707387809562053837871e-02 t³ - 1.88058251361597268426784220763552839760075905435650928263452014187227670587971e-03 t⁵ + 𝒪(t⁶), - 1.487153067979142653167031133288449486296492729214725119300221694540530354942972 t + 1.749176396392608647039443510504511018225693572122047457346639337706731199716658e-01 t³ - 2.625592614183348643642543826960524098984140118425453975810613611596216180923851e-02 t⁵ + 𝒪(t⁶)])"
      ]
     },
     "execution_count": 52,
     "metadata": {},
     "output_type": "execute_result"
    }
   ],
   "source": [
    "#Usando BigFloat\n",
    "PolinomioBE,EBigE,ValPropBE = MetParametrización(EstandarMap,2*pi,5,[0.0,0.0],0.3,0.0,1,2.9,0.125,BigFloat)"
   ]
  },
  {
   "cell_type": "code",
   "execution_count": 53,
   "metadata": {
    "collapsed": false
   },
   "outputs": [
    {
     "data": {
      "image/png": "[encoded data removed]",
      "text/plain": [
       "PyPlot.Figure(PyObject <matplotlib.figure.Figure object at 0x7f2660e634d0>)"
      ]
     },
     "metadata": {},
     "output_type": "display_data"
    },
    {
     "data": {
      "text/plain": [
       "PyObject <matplotlib.text.Text object at 0x7f265fdd89d0>"
      ]
     },
     "execution_count": 53,
     "metadata": {},
     "output_type": "execute_result"
    }
   ],
   "source": [
    "V=evaluar(4.7,0.025,PolinomioBI[1],PolinomioBI[2])\n",
    "B=evaluar(4.7,0.025,PolinomioBE[1],PolinomioBE[2])\n",
    "figure()\n",
    "#pygui(true)\n",
    "plot(V[1],V[2])\n",
    "plot(B[1],B[2])\n",
    "xlim(0,2*pi)\n",
    "ylim(0,2*pi)\n",
    "title(\"BigFloat\")"
   ]
  },
  {
   "cell_type": "markdown",
   "metadata": {},
   "source": [
    "Graficaremos el error cometido que es el que nos dirá cuanta diferencia hay entre tipos de números. "
   ]
  },
  {
   "cell_type": "code",
   "execution_count": 58,
   "metadata": {
    "collapsed": false
   },
   "outputs": [
    {
     "data": {
      "text/plain": [
       "1.354913445785316676127712653250616821912154444489427354280043672884969423926603e-01"
      ]
     },
     "execution_count": 58,
     "metadata": {},
     "output_type": "execute_result"
    }
   ],
   "source": [
    "mod(PolinomioBI[1].coeffs[2],PolinomioBI[2].coeffs[2])"
   ]
  },
  {
   "cell_type": "code",
   "execution_count": 56,
   "metadata": {
    "collapsed": false,
    "scrolled": true
   },
   "outputs": [
    {
     "data": {
      "image/png": "[encoded data removed]",
      "text/plain": [
       "PyPlot.Figure(PyObject <matplotlib.figure.Figure object at 0x7f265fe2e1d0>)"
      ]
     },
     "metadata": {},
     "output_type": "display_data"
    },
    {
     "data": {
      "text/plain": [
       "PyObject <matplotlib.legend.Legend object at 0x7f265f8db390>"
      ]
     },
     "execution_count": 56,
     "metadata": {},
     "output_type": "execute_result"
    }
   ],
   "source": [
    "plot(EBigE[1],log10(EBigE[2]),marker= \"None\", label=\"Float64\")\n",
    "plot(EBigI[1],log10(EBigI[2]),marker= \"None\", label=\"BigFloat\")\n",
    "xlabel(\"Parámetro t\")\n",
    "ylabel(L\"log10($|| E||_{\\infty})$\")\n",
    "title(\"Error \")\n",
    "grid(\"on\")\n",
    "legend(loc=\"upper right\",fancybox=\"true\" )"
   ]
  },
  {
   "cell_type": "code",
   "execution_count": null,
   "metadata": {
    "collapsed": false
   },
   "outputs": [],
   "source": [
    "\"\"\"\n",
    "EstandarMapInv(θ,p,k) \n",
    "Es la función inversa del mapeo estándar. Recibe los mismos parámetros.\n",
    "\n",
    "\"\"\"\n",
    "function EstandarMapInv(θ,p,k,l)\n",
    "    x_n = mod([θ-p+k*sin(θ),p-k*sin(θ)] , 2*pi )\n",
    "    \n",
    "    \n",
    "    return x_n\n",
    "    \n",
    "end"
   ]
  },
  {
   "cell_type": "code",
   "execution_count": null,
   "metadata": {
    "collapsed": false
   },
   "outputs": [],
   "source": [
    "#Usando Float64\n",
    "Polinomio2,E2,ValProp2 = MetParametrización(EstandarMapInv,2*pi, 15, [0.,0.], 0.3, 0.0, 2, 2.9, 0.125, Float64)"
   ]
  },
  {
   "cell_type": "code",
   "execution_count": null,
   "metadata": {
    "collapsed": false
   },
   "outputs": [],
   "source": [
    "#Usando BigFloat\n",
    "Polinomio3,E3,ValProp3 = MetParametrización(EstandarMapInv,2*pi, 15, [0.,0.], 0.3, 0.0, 2, 2.9, 0.125, BigFloat)"
   ]
  },
  {
   "cell_type": "code",
   "execution_count": null,
   "metadata": {
    "collapsed": false
   },
   "outputs": [],
   "source": [
    "plot(E2[1],log10(E2[2]),marker= \"None\", label=\"Float64\")\n",
    "plot(E3[1],log10(E3[2]),marker= \"None\", label=\"BigFloat\")\n",
    "xlabel(\"Parámetro t\")\n",
    "ylabel(L\"log10($|| E||_{\\infty})$\")\n",
    "title(\"Error en la variedad Inestable del mapeo inverso \")\n",
    "grid(\"on\")\n",
    "legend(loc=\"upper right\",fancybox=\"true\" )"
   ]
  },
  {
   "cell_type": "markdown",
   "metadata": {},
   "source": [
    "Vamos a analizar un poco sobre otro mapeo, el de Henon. El mapeo de Henon es un mapeo descrito de la forma:\n",
    "$$ f_{a,b}(x,y)=\\left\\{ \\begin{array}{lcc}\n",
    "             a-by-x^{2}\\\\\n",
    "             \\\\ x\n",
    "             \\end{array}\n",
    "             \\right.$$\n",
    "        \n",
    "        \n",
    "Para poder analizarlo debemos linearizar el sistema. Primero obtenemos el jacobiano \n",
    "\n",
    "$$ DF_{a,b}(x,y)=\\left( \\begin{array}{lcc}\n",
    "                \\frac{\\partial F_{x}}{\\partial x} & \\frac{\\partial F_{x}}{\\partial y}\\\\\n",
    "                \\\\ \\frac{\\partial F_{y}}{\\partial x} & \\frac{\\partial F_{y}}{\\partial y}\n",
    "                \\end{array}\n",
    "                \\right)$$\n",
    "                \n",
    "            \n",
    "$$DF_{a,b}(x,y)= \\left( \\begin{array}{lcc}\n",
    "                -2x & -b\\\\\n",
    "                \\\\ 1 & 0\n",
    "                \\end{array}\n",
    "                \\right)$$\n",
    "                \n",
    "Notamos que el determinante del jacobiano no es igual a uno sino\n",
    "$$det(DF_{a,b}(x,y))=b$$\n",
    "El determianate es constante , y sera hamiltoniano en el caso en que $b=1$. Analizaremos esos casos, primero encontrando los puntos fijos.\n",
    "$$F_{a,b}(x,y)=\\left( \\begin{array}{lcc}\n",
    "               a-by-x^{2}\\\\\n",
    "               \\\\ x\n",
    "               \\end{array}\n",
    "               \\right) = \\left(\\begin{array}{lc}\n",
    "               x \\\\\n",
    "               \\\\ y\n",
    "               \\end{array}\n",
    "               \\right)$$\n",
    "               \n",
    "               \n",
    "Lo que implica que \n",
    "$$a-by-x^{2}=x$$\n",
    "$$x=y$$ \n",
    "de donde es claro que la primer ecuación queda\n",
    "$$x^{2}+(b+1)x-a=0$$\n",
    "que se puede resolver usando la fórmula general\n",
    "$$x=\\frac{-(b+1)\\pm ((b+1)^{2}+4a)^{1/2} }{2}$$\n",
    "para el caso en que $b=1$ se tiene\n",
    "$$x=\\frac{-2\\pm 2(1+a)^{1/2} }{2}$$\n",
    "Por lo que escogiendo un valor de a podemos obtenr un punto fijo. "
   ]
  },
  {
   "cell_type": "markdown",
   "metadata": {},
   "source": [
    "Para este caso usaremos un valor de $a=0.3$ . Por lo que los puntos fijos asociados serán \n",
    "$$p_{1}=(0.14017542509913805\n",
    ",0.14017542509913805\n",
    ")$$\n",
    "$$p_{2}=(-2.1401754250991383,-2.1401754250991383)$$"
   ]
  },
  {
   "cell_type": "markdown",
   "metadata": {},
   "source": [
    "Definimos la función del mapeo de Henon"
   ]
  },
  {
   "cell_type": "code",
   "execution_count": null,
   "metadata": {
    "collapsed": false
   },
   "outputs": [],
   "source": [
    "function Henon(x,y,a,b)\n",
    "   \n",
    "    x_n = a-b*y-x^2\n",
    "    y_n = x \n",
    "\n",
    "    return [x_n,y_n]\n",
    "end\n"
   ]
  },
  {
   "cell_type": "markdown",
   "metadata": {},
   "source": [
    "Solo para revisar que estamos en un punto fijo evaluamos"
   ]
  },
  {
   "cell_type": "code",
   "execution_count": null,
   "metadata": {
    "collapsed": false
   },
   "outputs": [],
   "source": [
    "Henon(-2.1401754250991383,-2.1401754250991383,0.3,1.0) .- [-2.1401754250991383,-2.1401754250991383]"
   ]
  },
  {
   "cell_type": "markdown",
   "metadata": {},
   "source": [
    "Ahora aplicamos en método para ste caso"
   ]
  },
  {
   "cell_type": "code",
   "execution_count": null,
   "metadata": {
    "collapsed": false,
    "scrolled": true
   },
   "outputs": [],
   "source": [
    "#PolinomioH,EH,ValPropH = MetParametrización(EstandarMap, 5 ,[0.0,0.0], 0.3, 0.3, 2, 1.9, 0.125, Float64)\n",
    "PolinomioH,EH,ValPropH = MetParametrización(Henon,1., 5 ,[-2.1401754250991383,-2.1401754250991383], 0.3, 1.0, 2, 1.9, 0.125, Float64)"
   ]
  },
  {
   "cell_type": "code",
   "execution_count": null,
   "metadata": {
    "collapsed": false
   },
   "outputs": [],
   "source": [
    "plot(EH[1],log10(EH[2]),marker= \"None\", label=\"Float64\")\n",
    "#plot(E3[1],log10(E3[2]),marker= \"None\", label=\"BigFloat\")\n",
    "xlabel(\"Parámetro t\")\n",
    "ylabel(L\"log10($|| E||_{\\infty})$\")\n",
    "title(\"Error en la variedad inestable del mapeo de Henon \")\n",
    "grid(\"on\")\n",
    "legend(loc=\"upper right\",fancybox=\"true\" )"
   ]
  },
  {
   "cell_type": "code",
   "execution_count": null,
   "metadata": {
    "collapsed": false
   },
   "outputs": [],
   "source": [
    "PolinomioHP,EHP,ValPropHP = MetParametrización(Henon,29,[0.0,1.0],1.4,0.3,2,1.9,0.125,Float64)"
   ]
  },
  {
   "cell_type": "code",
   "execution_count": null,
   "metadata": {
    "collapsed": false,
    "scrolled": true
   },
   "outputs": [],
   "source": [
    "plot(EHP[1],log10(EHP[2]),marker= \"None\", label=\"Float64\")\n",
    "#plot(E3[1],log10(E3[2]),marker= \"None\", label=\"BigFloat\")\n",
    "xlabel(\"Parámetro t\")\n",
    "ylabel(L\"log10($|| E||_{\\infty})$\")\n",
    "title(\"Error en la variedad inestable del mapeo de Henon \")\n",
    "grid(\"on\")\n",
    "legend(loc=\"upper right\",fancybox=\"true\" )"
   ]
  },
  {
   "cell_type": "markdown",
   "metadata": {},
   "source": [
    "\n",
    "- revisar el error de la variedad calculada con SVD\n",
    "\n",
    "\n",
    "- graficar con gr cómo va cambiando el error"
   ]
  },
  {
   "cell_type": "code",
   "execution_count": null,
   "metadata": {
    "collapsed": true
   },
   "outputs": [],
   "source": []
  }
 ],
 "metadata": {
  "kernelspec": {
   "display_name": "Julia 0.5.2",
   "language": "julia",
   "name": "julia-0.5"
  },
  "language_info": {
   "file_extension": ".jl",
   "mimetype": "application/julia",
   "name": "julia",
   "version": "0.5.2"
  }
 },
 "nbformat": 4,
 "nbformat_minor": 2
}
