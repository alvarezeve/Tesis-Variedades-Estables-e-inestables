{
 "cells": [
  {
   "cell_type": "markdown",
   "metadata": {},
   "source": [
    "# Encontrando el error del error con IPM \n"
   ]
  },
  {
   "cell_type": "code",
   "execution_count": 1,
   "metadata": {
    "collapsed": false
   },
   "outputs": [],
   "source": [
    "using TaylorSeries\n",
    "using PyPlot\n",
    "using LinearAlgebra\n"
   ]
  },
  {
   "cell_type": "markdown",
   "metadata": {},
   "source": [
    "Necesitamos mejorar la forma en la que se definen las funciones de manera que el método sea más rápido y estable."
   ]
  },
  {
   "cell_type": "code",
   "execution_count": 29,
   "metadata": {
    "collapsed": false
   },
   "outputs": [
    {
     "data": {
      "text/plain": [
       "PolinomioTaylor"
      ]
     },
     "execution_count": 29,
     "metadata": {},
     "output_type": "execute_result"
    }
   ],
   "source": [
    "\"\"\"\n",
    "\n",
    "PolinomioTaylor(CX,CY)\n",
    "   \n",
    "   Es una función cuyo objetivo es recibir dos listas con valores iniciales y crear dos polinomios de grado 1.\n",
    "\n",
    "\n",
    "\n",
    "\n",
    "Argumentos:\n",
    "\n",
    "\n",
    "   - CX,CY  :  Arreglo que contiene los coeficientes iniciales, es del tipo Array{TaylorSeries.TaylorN{T}}\n",
    "   \n",
    "\n",
    "    Esta función regresa dos arreglos que contienen elementos del tipo Taylor1.TaylorN, creados con los valores propios del sistema.\n",
    "\n",
    "\n",
    "\"\"\"\n",
    "function PolinomioTaylor{T<:Real}(g::Int64,CX::Array{TaylorN{T}},CY::Array{TaylorN{T}})\n",
    "    \n",
    "    #=  \n",
    "    Separamos el primer orden puesto que es diferente de los otros.\n",
    "    Creamos x,y como variables tipo TaylorN de orden 2, recordemos que aquí es importante el orden puesto que si se usan\n",
    "    más adelante para otras operaciones el polinomio se puede cortar si no se define adecuadamente\n",
    "    =#\n",
    "    \n",
    "    \n",
    "    \n",
    "    x,y = set_variables(T, \"x y\", order=2)\n",
    "    \n",
    "    LX = Array{TaylorSeries.TaylorN{T}}(1)\n",
    "    LY = Array{TaylorSeries.TaylorN{T}}(1)\n",
    "    \n",
    "    #usamos un condicional para separar el caso 1 del resto\n",
    "    if g == 1  \n",
    "        Taylor = [Taylor1([x], g),Taylor1([y], g)]\n",
    "    #en el caso en que g>1 entonces usamos las listas que van guardando los coeficientes\n",
    "    else\n",
    "        #como CX,CY están guardando los coeficientes pero necesitamos agregar el último término que será una variable \n",
    "        LX = push!(CX, x) \n",
    "        LY = push!(CY, y)\n",
    "\n",
    "        Taylor = [Taylor1(LX, g), Taylor1(LY, g)]\n",
    "        \n",
    "    end\n",
    "    return Taylor\n",
    "end\n",
    "#Esta función regresa tx,ty que son Taylor1.TaylorN\n",
    "\n"
   ]
  },
  {
   "cell_type": "markdown",
   "metadata": {
    "collapsed": false
   },
   "source": [
    "\"\"\"\n",
    "\n",
    "PolinomioTaylor1(g,CX,CY)\n",
    "   \n",
    "   Es una función cuyo objetivo es recibir dos listas con valores iniciales y crear dos polinomios de grado g.\n",
    "\n",
    "\n",
    "\n",
    "\n",
    "Argumentos:\n",
    "\n",
    "\n",
    "\n",
    "\n",
    "\n",
    "   - g       : grado del polinomio\n",
    "   - Cθ,CP  :  Arreglo que contiene los coeficientes iniciales, es del tipo Array{TaylorSeries.TaylorN{Float64}}\n",
    "   - TipoVariable :  es el tipo de número que queremos uasr: Real, Float64, BigFloat, etc.\n",
    "   \n",
    "\n",
    "    Esta función regresa dos arreglos que contienen elementos del tipo Taylor1.TaylorN, creados con las listas iniciales. \n",
    "    Funciona específicamente para orden g>1.\n",
    "\n",
    "\n",
    "\"\"\"\n",
    "function PolinomioTaylor1(g::Real,Cθ,CP,TipoVariable)\n",
    "    #=\n",
    "    g es el grado del polinomio, CX y CP son\n",
    "    arreglos que contienen los coeficientes que forman la variedad.\n",
    "    \n",
    "    \n",
    "    Creamos x,p como variables tipo TaylorN de orden 2\n",
    "    =#\n",
    "    \n",
    "    \n",
    "    \n",
    "    θ,p = set_variables(TipoVariable, \"θ p\", order=2)\n",
    "    #@show(θ,p)\n",
    "    #especificamos que LX,LP son de arreglos que guardarán coeficientes del polinomio, sólo son auxiliares en esta función\n",
    "    \n",
    "   \n",
    "    Lθ = Array{TaylorSeries.TaylorN{TipoVariable}}(1)\n",
    "    LP = Array{TaylorSeries.TaylorN{TipoVariable}}(1)\n",
    "    \n",
    "    \n",
    "    \n",
    "    \n",
    "        #como CX,CP están guardando los coeficientes pero necesitamos agregar el último término que será una variable \n",
    "        \n",
    "    Lθ = push!(Cθ, θ) \n",
    "    LP = push!(CP, p)\n",
    "\n",
    "    T=[Taylor1(Lθ, g),Taylor1(LP, g)]\n",
    "        \n",
    "    \n",
    "    return T\n",
    "end\n",
    "#Esta función regresa tθ,tp que son Taylor1.TaylorN"
   ]
  },
  {
   "cell_type": "code",
   "execution_count": 66,
   "metadata": {
    "collapsed": false
   },
   "outputs": [
    {
     "name": "stderr",
     "output_type": "stream",
     "text": [
      "WARNING: Method definition InvarianciaR(Any, Any, Any, Any) in module Main at In[30]:22 overwritten at In[66]:22.\n",
      "\u001b[1m\u001b[31mWARNING: replacing docs for 'InvarianciaR :: Tuple{Any,Any,Any,Any}' in module 'Main'.\u001b[0m\n"
     ]
    },
    {
     "data": {
      "text/plain": [
       "InvarianciaR"
      ]
     },
     "execution_count": 66,
     "metadata": {},
     "output_type": "execute_result"
    }
   ],
   "source": [
    "#=Esta función toma el arreglo que contiene las lambdas que se van calculando, los coeficientes de los polinomios\n",
    "y el orden de los mismos, lo que hace es generar el lado derecho de la ecuación cohomológica, multiplicando a_n*λ^n\n",
    "y generando un polinomio de gradno g con estos coeficientes\n",
    "=#\n",
    "\"\"\"\n",
    "InavrianciaR(λ_v,g,CX,CY)\n",
    "Es una función que calcula la parte derecha de la ecuación comohológica, es decir la parte que involucra el valor propio.\n",
    "Regresa un arreglo de tipo TaylorSeries.TaylorN{T}\n",
    "\n",
    "\n",
    "Sus argumentos son:\n",
    "-g      :  grado del polinomio.\n",
    "-λ_v    :  Arreglo de dos dimensiones que contiene el valor propio y sus potencias. \n",
    "-Cθ,CP  :  Los arreglos con los polinomios que se calculan en PolinomioTaylor1.\n",
    "\n",
    "\"\"\"\n",
    "#function Vecλ(λ_v,g,Cθ,CP)\n",
    "function InvarianciaR(λ_v,g,CX,CY)\n",
    "   # el arreglo de λ_v contiene los arreglos que corresponden a la parte derecha de la ecuación cohomológica\n",
    "    # en θ,p. Es importante hacer la distinción puesto que dependiendo del punto fijo donde se esté calculando\n",
    "    # el primer valor de λ en x serpa diferente del primer valor de λ en y\n",
    "    xλt=Taylor1(λ_v[1].*CX,g)\n",
    "    yλt=Taylor1(λ_v[2].*CY,g)\n",
    "    \n",
    "    InvaR=[xλt,yλt]\n",
    "    \n",
    "    return InvaR\n",
    "end"
   ]
  },
  {
   "cell_type": "code",
   "execution_count": 67,
   "metadata": {
    "collapsed": false
   },
   "outputs": [
    {
     "name": "stderr",
     "output_type": "stream",
     "text": [
      "WARNING: Method definition EigenValores(Array{#T<:Base.MPFR.BigFloat, 2}) in module Main at In[31]:17 overwritten at In[67]:17.\n"
     ]
    },
    {
     "data": {
      "text/plain": [
       "EigenValores"
      ]
     },
     "execution_count": 67,
     "metadata": {},
     "output_type": "execute_result"
    }
   ],
   "source": [
    "\"\"\"\n",
    "EigenValores(M)\n",
    "\n",
    "\n",
    "Función que calcula los valores y vectores propios para una matriz de elementos de tipo BigFloat.\n",
    "El método usado es el de Inverse Power Method \n",
    "\n",
    "\n",
    "\n",
    "\n",
    "Argumentos:\n",
    "-M: Matriz tipo BigFloat (2-element Array{BigFloat,1})\n",
    "\"\"\"\n",
    "function EigenValores{T<:BigFloat}(M::Array{T,2})\n",
    "    # MM sirve como matriz auxiliar para el cálculo de eigenvalores con la función eig()\n",
    "    \n",
    "    MM = [Float64(M[1]) Float64(M[3]); Float64(M[2]) Float64(M[4])]\n",
    "    λfloat,vfloat = eig(MM)\n",
    "    #Por otra parte calculamos los valores propios de M usando :\n",
    "    Vals = real(LinearAlgebra.EigenGeneral.eigvals!(M))\n",
    "    #Creamos matrices que nos ayudarán en el método\n",
    "    Id = [big(1.) big(0.); big(0.) big(1.)] #matriz identidad\n",
    "    EigVec=[big(0.) big(0.);big(0.) big(0.)] #MAtriz que guardará los vectores propios\n",
    "    ValsOrden=[big(0.0),big(0.)] #guardará los valores propios ordenados \n",
    "    \n",
    "    #vec_i =([0.6,0.3],[1.,0.]) #debemos dar un vector inicial para el cálculo\n",
    "    \n",
    "    #k recorre los dos valores propios\n",
    "    for k in [1,2]\n",
    "        #la tolerancia sirve para saber cuando paramos el método\n",
    "        tol = 0.0\n",
    "        \n",
    "        vec_i = big(rand(2,1)) # el vector inicial será un vector random\n",
    "        # comienza el método\n",
    "        #for i in[1:10]\n",
    "            \n",
    "        while abs(tol)<1e-180\n",
    "            \n",
    "            H = inv(M-Vals[k]*Id)*vec_i #calculamos H\n",
    "            \n",
    "            vec_n = H/norm(H) #normalizamos\n",
    "            vec_i =vec_n #actualizamos\n",
    "            #vec_i[k][1] = vec_n[1]\n",
    "            #vec_i[k][2] = vec_n[2]\n",
    "            tol = norm(MM*vec_i-Vals[k]*vec_i,Inf)  #calculamos el error o discrepancia\n",
    "        end\n",
    "        \n",
    "    \n",
    "        if abs(λfloat[1]-Vals[k])<1e-10\n",
    "\n",
    "            ValsOrden[1]=sign(λfloat[1])*abs(Vals[k])\n",
    "            EigVec[1]=sign(vfloat[1])*abs(vec_i[1])\n",
    "            EigVec[2]=sign(vfloat[2])*abs(vec_i[2])\n",
    "            \n",
    "        else\n",
    "            \n",
    "            ValsOrden[2]=sign(λfloat[2])*abs(Vals[k])\n",
    "            EigVec[3]=sign(vfloat[3])*abs(vec_i[1])\n",
    "            EigVec[4]=sign(vfloat[4])*abs(vec_i[2])\n",
    "    \n",
    "        end\n",
    "            \n",
    "        \n",
    "    end\n",
    "    \n",
    "    #V=(ValsOrden,EigVec)\n",
    "    \n",
    "    return ValsOrden,EigVec\n",
    "        \n",
    "        \n",
    "        \n",
    "    \n",
    "end     "
   ]
  },
  {
   "cell_type": "code",
   "execution_count": 68,
   "metadata": {
    "collapsed": false
   },
   "outputs": [
    {
     "name": "stderr",
     "output_type": "stream",
     "text": [
      "WARNING: Method definition EigenValores(Array{#T<:Float64, 2}) in module Main at In[44]:2 overwritten at In[68]:2.\n"
     ]
    },
    {
     "data": {
      "text/plain": [
       "EigenValores (generic function with 2 methods)"
      ]
     },
     "execution_count": 68,
     "metadata": {},
     "output_type": "execute_result"
    }
   ],
   "source": [
    "function EigenValores{T<:Float64}(M::Array{T,2})\n",
    "\tValsOrden,EigVec = eig(M)\n",
    "\treturn ValsOrden,EigVec\n",
    "\n",
    "end\n"
   ]
  },
  {
   "cell_type": "code",
   "execution_count": 69,
   "metadata": {
    "collapsed": false
   },
   "outputs": [
    {
     "name": "stderr",
     "output_type": "stream",
     "text": [
      "WARNING: Method definition Orden1(Array{TaylorSeries.TaylorN{#T<:Real}, N<:Any}, Array{TaylorSeries.TaylorN{#T<:Real}, N<:Any}, Any, #T<:Real, #T<:Real, Array{#T<:Real, 1}, Int64, Array{#T<:Real, N<:Any}, Array{#T<:Real, N<:Any}) in module Main at In[45]:7 overwritten at In[69]:7.\n"
     ]
    },
    {
     "data": {
      "text/plain": [
       "Orden1 (generic function with 2 methods)"
      ]
     },
     "execution_count": 69,
     "metadata": {},
     "output_type": "execute_result"
    }
   ],
   "source": [
    "#function Orden1(Cθ,CP,TipoVariable,Mapeo,k,l,PuntoFijo,tipo_v,λarrayθ,λarrayP)\n",
    "function Orden1{T<:Real}(CX::Array{TaylorN{T}}, CY::Array{TaylorN{T}}, Mapeo, k::T, l::T, PuntoFijo::Array{T,1}, tipo_v::Int64, λarrayX::Array{T}, λarrayY::Array{T})\n",
    "            \n",
    "            #usamos la función PolinomioTaylor para crear el polinomio tipo Taylor1.TaylorN{T}\n",
    "            #eigval=T[0.,0.]\n",
    "            #eigvec=T[0. 0.; 0. 0.]\n",
    "            t = PolinomioTaylor(1,CX,CY)\n",
    "            #@show(typeof(t))\n",
    "            #@show(t)\n",
    "            #Aplicamos el mapeo a los polinomios que resultan de la función anterior.\n",
    "            Or1 = Mapeo(PuntoFijo[1]+t[1],PuntoFijo[2]+t[2],k,l)\n",
    "            #@show(typeof(Or1))\n",
    "            AuxOr1=[Or1[1][1],Or1[2][1]]\n",
    "            #@show(typeof(AuxOr1))\n",
    "            #Calculamos el jacobiano del Orden 1 para obtener sus valores y vectores propios.\n",
    "            #JPO = jacobian(AuxOr1,[PuntoFijo[1],PuntoFijo[2]]) # jacobian(AuxOr1,PuntoFijo)\n",
    "            JPO = jacobian(AuxOr1)\n",
    "            #@show(typeof(JPO))\n",
    "            \n",
    "            \n",
    "            #Calculamos los valores y vectores propios\n",
    "            eigval,eigvec = EigenValores(JPO)\n",
    "            #=\n",
    "            if TipoVariable == BigFloat\n",
    "                eigval,eigvec = EigenValores(JPO)\n",
    "            else\n",
    "                eigval,eigvec = eig(JPO)\n",
    "            end\n",
    "            =#\n",
    "            #escogemos el tipo de variedad que queremos calcular. Como se ordenan de menor a mayor la inestable es la segunda\n",
    "            λ = eigval[tipo_v]\n",
    "            #@show(λ)\n",
    "            tt = imag(λ)\n",
    "            \n",
    "            #Ponemos los coeficientes en una variable nueva cada uno y los agregamos a las listas CX,CP,λ\n",
    "            tt == 0.?  Coef = eigvec[:,tipo_v] : error(\"Error: el valor propio es complejo, es decir es un punto elíptico\")\n",
    "            \n",
    "            #Ponemos los coeficientes en una variable nueva cada uno y los agregamos a las listas CX,CP,λ\n",
    "            #Coefθ,CoefP = eigvec[:,tipo_v]\n",
    "            #@show(typeof(Coefθ))\n",
    "    \n",
    "            #@show(Coefθ,CoefP)\n",
    "            push!(CX, Coef[1])\n",
    "            push!(CY, Coef[2])\n",
    "            push!(λarrayX, λ)\n",
    "            push!(λarrayY, λ)\n",
    "            λ_v=[λarrayX,λarrayY]\n",
    "            \n",
    "            #@show(λ_v)  \n",
    "            #@show(typeof(Cθ))\n",
    "            #@show(typeof(λarrayθ))\n",
    "    return CX, CY,λarrayX, λarrayY, λ_v\n",
    "end\n",
    "            \n",
    "    "
   ]
  },
  {
   "cell_type": "code",
   "execution_count": 70,
   "metadata": {
    "collapsed": false
   },
   "outputs": [
    {
     "name": "stderr",
     "output_type": "stream",
     "text": [
      "WARNING: Method definition Variedades(Any, Int64, Array{#T<:Real, 1}, #T<:Real, #T<:Real, Int64) in module Main at In[56]:29 overwritten at In[70]:29.\n"
     ]
    },
    {
     "data": {
      "text/plain": [
       "Variedades"
      ]
     },
     "execution_count": 70,
     "metadata": {},
     "output_type": "execute_result"
    }
   ],
   "source": [
    "#Creamos una función que reciba el orden del polinomio , el punto fijo, el parámetro k y \n",
    "#el tipo de varidad que queremos(estable=1, inestable=2)\n",
    "\"\"\"\n",
    "Variedades(Mapeo,orden, PuntoFijo,k,tipo_v,TipoVariable)\n",
    "Es una función que calcula las variedades de cierto mapeo. Usa las funciones de PolinomioTaylor1 y Vecλ para calcular los\n",
    "polinomios de cada lado de la ecuación cohomológica y les aplica el mapeo dado. \n",
    "\n",
    "\n",
    "\n",
    "Argumentos:\n",
    "\n",
    "\n",
    "- Mapeo : Mapeo de dos dimensiones, debe recibir al menos dos parámetros que son los polinomios antes calculados.\n",
    "- orden : se trata del orden del polinomio.\n",
    "- PuntoFijo : ES el punto fijo donde queremos calcular la variedad.\n",
    "- k     : Es la constante del mapeo.\n",
    "- tipo_v : 1 si la variedad es estable, 2 si es inestable.\n",
    "- TipoVariable :  Float64,BigFloat, Integer,etc.\n",
    "\n",
    "\n",
    "\"\"\"\n",
    "##function Variedades(Mapeo,orden, PuntoFijo,k,l,tipo_v, TipoVariable)\n",
    "function Variedades{T<:Real}(Mapeo, orden::Int64, PuntoFijo::Array{T,1}, k::T, l::T, tipo_v::Int64)\n",
    "   \n",
    "    #definimos unas listas donde se guardarán los coeficientes  de todo el polinomio, tales deben ser\n",
    "    # de tipo \"Array{TaylorSeries.TaylorN{Int64},1}\" dado que los términos que se van agregando \n",
    "    # en cada orden son de tipo TaylorN.\n",
    "    \n",
    "    a=T(PuntoFijo[1])\n",
    "    b=T(PuntoFijo[2])\n",
    "    CX = [a+TaylorN(0.)]\n",
    "    CY = [b+TaylorN(0.)]\n",
    "    \n",
    "    \n",
    "    #λarray es la lista que contiene a los coeficientes del polinomio de λ\n",
    "    λarrayX = [a^0]\n",
    "    λarrayY = [b^0]\n",
    "    \n",
    "    #definimos un vector que contiene el punto en el que se evalúa el jacobiano que se calcula después\n",
    "    #dado que sólo lo usamos para obtener los valores que resultaron en el mapeo evaluamos siempre en [1.,1.]\n",
    "    \n",
    "    \n",
    "    \n",
    "    \n",
    "    CX,CY,λarayX, λarrayY,λ_v = Orden1(CX,CY,Mapeo,k,l,PuntoFijo,tipo_v,λarrayX,λarrayY)\n",
    "    \n",
    "\n",
    "    \n",
    "    for g in 2:orden\n",
    "            #@show(g)\n",
    "            #Creamos los polinomios con las listas correspondientes \n",
    "            t = PolinomioTaylor(g,CX,CY)\n",
    "            #@show(t)\n",
    "            # aplicamos el mapeo estándar y al resultado le llamamos OrG por Orden g.\n",
    "            OrG = Mapeo(t[1],t[2],k,l)\n",
    "            #@show(OrG)\n",
    "            push!(λarrayX,λarrayX[2]^g)\n",
    "            push!(λarrayY,λarrayY[2]^g)\n",
    "            λ_v=[λarrayX,λarrayY]\n",
    "            #@show(λ_v)\n",
    "            #@show(CP)\n",
    "            #agregamos el término correspondiente a λ \n",
    "            λ_vec=InvarianciaR(λ_v,g,CX,CY)\n",
    "           # @show(λ_vec)\n",
    "            \n",
    "            \n",
    "            #@show(λvec)\n",
    "            \n",
    "            # ahora ya tengo las dos partes de la ecuación y debo igualarlas para resolver.\n",
    "            EcuaCohomo=OrG-λ_vec\n",
    "            \n",
    "            #@show(EcuaCohomo)\n",
    "            # de esta ecuación necesitamos solo los de orden g, así que los extraemos manualmente \n",
    "            X_g=EcuaCohomo[1].coeffs[g+1]\n",
    "            Y_g=EcuaCohomo[2].coeffs[g+1]\n",
    "            vec_orden_g=[X_g,Y_g]\n",
    "            \n",
    "            \n",
    "            #calculamos el término independiene en la ecuación\n",
    "            X_ind=EcuaCohomo[1].coeffs[g+1].coeffs[1].coeffs[1]\n",
    "            Y_ind=EcuaCohomo[2].coeffs[g+1].coeffs[1].coeffs[1]\n",
    "            vec_ind=[-X_ind,-Y_ind]\n",
    "            \n",
    "            #calculamos el jacobiano\n",
    "            JacOrdenG = jacobian(vec_orden_g)\n",
    "            \n",
    "            \n",
    "            \n",
    "            \n",
    "            #Con esta información podemos evaluar lo siguiente:\n",
    "            # Si el vector de términos independientes es cero y el determinante del jacobiano es distinto de cero\n",
    "            # entonces la solución a la ecuación cohomológica es la trivial\n",
    "            if norm(vec_ind)==0.\n",
    "                if det(JacOrdenG)!=0.\n",
    "                    \n",
    "                    CX[g+1]=0.\n",
    "                    CY[g+1]=0.\n",
    "                end\n",
    "            else\n",
    "                # Si el vector de términos independientes es distinto de ceroentonces necesitamos \n",
    "                #resolver la ecuación JacOrdenG[x_g,p_g]*[x,p]**=vec_ind[x_g,p_g]\n",
    "                # entonces solo se trata de invertir el jacobiano y multiplicar con el vector del lado izquierdo\n",
    "                TermG=JacOrdenG \\ vec_ind\n",
    "                \n",
    "                CX[g+1]=TermG[1]\n",
    "                CY[g+1]=TermG[2]\n",
    "            \n",
    "            end\n",
    "            \n",
    "\n",
    "    end\n",
    "    return CX,CY,λarrayX, λarrayY\n",
    "end"
   ]
  },
  {
   "cell_type": "code",
   "execution_count": 71,
   "metadata": {
    "collapsed": false
   },
   "outputs": [
    {
     "name": "stderr",
     "output_type": "stream",
     "text": [
      "WARNING: Method definition PolinomioCohomo(Any, Array{TaylorSeries.Taylor1{#T<:Real}, 1}, Array{TaylorSeries.Taylor1{#T<:Real}, 1}, Real, Real, Array{#T<:Real, N<:Any}, Real) in module Main at In[57]:17 overwritten at In[71]:17.\n"
     ]
    },
    {
     "data": {
      "text/plain": [
       "PolinomioCohomo"
      ]
     },
     "execution_count": 71,
     "metadata": {},
     "output_type": "execute_result"
    }
   ],
   "source": [
    "\"\"\"\n",
    "PolinomioCohomo(Mapeo,Pol_vec,λvec, k)\n",
    "Esta función calcula la ecuación cohomológica con los polinomios que ya se calcularon. Regresa un arreglo de dos \n",
    "elementos que son los valores de x,θ del mapeo.\n",
    "\n",
    "\n",
    "Argumentos:\n",
    "-Mapeo : función o mapeo del cual calculamos las variedades.Debe ser una función que reciba tres parámetros\n",
    " que son dos de sus variables y la constante del mapeo. Como salida debe tener un arreglo de dos elementos. \n",
    "-Pol_vec : Es un arreglo de dos elementos que son los polinomios calculados con anterioridad. \n",
    "-k     : es el valor de la constante del mapeo \n",
    "-λvec : \n",
    "\n",
    "\"\"\"\n",
    "#function PolinomioCohomo(Mapeo,Pol_vec,λvec, k,l ,PuntoFijo,modulo)\n",
    "function PolinomioCohomo{T<:Real}(Mapeo, Pol_vec::Array{Taylor1{T},1}, λvec::Array{Taylor1{T},1}, k::Real ,l::Real ,PuntoFijo::Array{T} ,modulo::Real)\n",
    "    Map_vec=Mapeo(Pol_vec[1],Pol_vec[2],k,l)\n",
    "    #@show(Pol_vec)\n",
    "    #@show(Map_vec)\n",
    "    if modulo==2*pi\n",
    "        Ec_Cohomo = mod(Map_vec-λvec,modulo)\n",
    "    else\n",
    "    Ec_Cohomo = Map_vec-λvec\n",
    "    end\n",
    "    #@show(Ec_Cohomo)\n",
    "    #@show(λvec)\n",
    "    return Ec_Cohomo\n",
    "    \n",
    "end"
   ]
  },
  {
   "cell_type": "code",
   "execution_count": 72,
   "metadata": {
    "collapsed": false
   },
   "outputs": [
    {
     "name": "stderr",
     "output_type": "stream",
     "text": [
      "WARNING: Method definition EvaluarPol(Any, Array{#T<:Real, N<:Any}, Real) in module Main at In[58]:23 overwritten at In[72]:23.\n"
     ]
    },
    {
     "data": {
      "text/plain": [
       "EvaluarPol"
      ]
     },
     "execution_count": 72,
     "metadata": {},
     "output_type": "execute_result"
    }
   ],
   "source": [
    "\"\"\"\n",
    "EvaluarPol(Ec_2var,Tiempo,paso)\n",
    "\n",
    "Es una función que toma un arreglo de dos dimensiones que contiene polinomios y los evalúa en el tiempo dado en los pasos deseados\n",
    "\n",
    "\n",
    "\n",
    "\n",
    "Argumentos:\n",
    "\n",
    "-Ec_2var : Arreglo de dos dimensiones que contiene polinomios en cada una de ellas. \n",
    "-Tiempo  : Valor hasta el cual se quiere evaluar cada polinomio\n",
    "-paso    : es el paso que se considera en cada evaluación del polinomio. \n",
    "\n",
    "\"\"\"\n",
    "#function EvaluarPol(Ec_2var,Tiempo,paso,TipoVariable)\n",
    "function EvaluarPol{T<:Real}(Ec_2var, Tiempo::Array{T}, paso::Real)\n",
    "    \n",
    "    \n",
    "    \n",
    "    \n",
    "    \n",
    "    Val = T[]\n",
    "    Tiem = T[]\n",
    "    \n",
    "    \n",
    "    for t = Tiempo[1]:paso:Tiempo[2]\n",
    "        x = evaluate(Ec_2var[1], t)\n",
    "        y = evaluate(Ec_2var[2], t)\n",
    "\n",
    "        \n",
    "        norma = norm([x,y],Inf)\n",
    "        push!(Val,norma)\n",
    "        push!(Tiem,t)\n",
    "    \n",
    "    end\n",
    "    return Tiem,Val\n",
    "end"
   ]
  },
  {
   "cell_type": "code",
   "execution_count": 73,
   "metadata": {
    "collapsed": false
   },
   "outputs": [
    {
     "name": "stderr",
     "output_type": "stream",
     "text": [
      "WARNING: Method definition CreaPol(Array{#T<:Real, N<:Any}, Array{#T<:Real, N<:Any}, Real) in module Main at In[59]:14 overwritten at In[73]:14.\n"
     ]
    },
    {
     "data": {
      "text/plain": [
       "CreaPol"
      ]
     },
     "execution_count": 73,
     "metadata": {},
     "output_type": "execute_result"
    }
   ],
   "source": [
    "\"\"\"\n",
    "CreaPol es una función que dadas dos listas y un grado crea  un arreglo de dos entradas , en cada una de ellas se encuentra \n",
    "el polinomio de grado g con los coeficientes de las listas. \n",
    "\n",
    "\n",
    "Argumentos:\n",
    "\n",
    "\n",
    "- A,B : arreglos que contienen lo que serán los coeficientes del polinomio.\n",
    "- orden : grado del polinomio\n",
    "\"\"\"\n",
    "#function CreaPol(A,B,orden)\n",
    "function CreaPol{T<:Real}(A::Array{T}, B::Array{T}, orden::Real)\n",
    "    Taylor = [Taylor1(A,orden),Taylor1(B,orden)]\n",
    "    return Taylor\n",
    "end"
   ]
  },
  {
   "cell_type": "code",
   "execution_count": 80,
   "metadata": {
    "collapsed": false
   },
   "outputs": [
    {
     "data": {
      "text/plain": [
       "Convergencia (generic function with 2 methods)"
      ]
     },
     "execution_count": 80,
     "metadata": {},
     "output_type": "execute_result"
    }
   ],
   "source": [
    "#function Convergencia(A,B)\n",
    "function Convergencia{T<:Real}(A::Array{TaylorN{T}}, B::Array{TaylorN{T}})\n",
    "    \n",
    "    A_aux = []\n",
    "    B_aux = []\n",
    "    Con_x = []\n",
    "    Con_y = []\n",
    "    suma_A = 0.\n",
    "    suma_B = 0.\n",
    "    #@show(A_aux)\n",
    "    #@show(length(A))\n",
    "    for i in 1:length(A)-1\n",
    "     #   @show(i)\n",
    "        if A[i] != 0\n",
    "      #      @show(A[i])\n",
    "            push!(A_aux,A[i])\n",
    "        end\n",
    "    end\n",
    "    for i in 1:length(B)-1\n",
    "        if B[i] != 0\n",
    "            push!(B_aux,B[i])\n",
    "        end\n",
    "    end\n",
    "    for i in 1:(length(A_aux)-1)\n",
    "        #@show(i)\n",
    "        #@show(A_aux[i+1]/A_aux[i])\n",
    "        push!(Con_x,A_aux[i+1]/A_aux[i])\n",
    "        \n",
    "    end\n",
    "    for i in 1:(length(B_aux)-1)\n",
    "        #@show(i)\n",
    "        #@show(A_aux[i+1]/A_aux[i])\n",
    "        push!(Con_y,B_aux[i+1]/B_aux[i])\n",
    "        \n",
    "    end\n",
    "    \n",
    "        \n",
    "    #=\n",
    "    for i in 1:length(A_aux)-1        \n",
    "        suma_A = suma_A + A[i+1]/A[i]\n",
    "    end\n",
    "    for i in 1:length(B_aux)-1\n",
    "        suma_B = suma_B + B[i+1]/B[i]\n",
    "    end\n",
    "    =#\n",
    "    return Con_x,Con_y\n",
    "end\n",
    "        \n",
    "        "
   ]
  },
  {
   "cell_type": "code",
   "execution_count": 86,
   "metadata": {
    "collapsed": false
   },
   "outputs": [
    {
     "name": "stderr",
     "output_type": "stream",
     "text": [
      "WARNING: Method definition MetParametrización(Any, Real, Int64, Array{#T<:Real, N<:Any}, Real, Real, Int64, Array{#T<:Real, N<:Any}, Real) in module Main at In[81]:3 overwritten at In[86]:3.\n"
     ]
    },
    {
     "data": {
      "text/plain": [
       "MetParametrización (generic function with 1 method)"
      ]
     },
     "execution_count": 86,
     "metadata": {},
     "output_type": "execute_result"
    }
   ],
   "source": [
    "#function MetParametrización(Mapeo,modulo,orden,PuntoFijo,k,l,tipo_v,Tiempo,paso, TipoVariable)\n",
    "function MetParametrización{T<:Real}(Mapeo ,modulo::Real, orden::Int64, PuntoFijo::Array{T}, k::Real, l::Real, tipo_v::Int64, Tiempo::Array{T}, paso::Real)\n",
    "    CoeficienteX,CoeficienteY,λarrayX,λarrayY = Variedades(Mapeo,orden,PuntoFijo,k,l,tipo_v)\n",
    "    Conver_x,Conver_y=Convergencia(CoeficienteX,CoeficienteY)     \n",
    "    \n",
    "    X = T[]\n",
    "    Y = T[]\n",
    "    \n",
    "    for i in 1:orden+1\n",
    "            \n",
    "        push!(X,CoeficienteX[i].coeffs[1].coeffs[1])\n",
    "        push!(Y,CoeficienteY[i].coeffs[1].coeffs[1])\n",
    "        \n",
    "    end\n",
    "    \n",
    "    Taylor=CreaPol(X,Y,orden)\n",
    "    \n",
    "    λ_vec=CreaPol(X.*λarrayX,Y.*λarrayY,orden)\n",
    "    \n",
    "    \n",
    "    \n",
    "    Ecua_Cohomo = PolinomioCohomo(Mapeo,Taylor,λ_vec, k,l,PuntoFijo,modulo)\n",
    "    Valor_t , Error = EvaluarPol(Ecua_Cohomo,Tiempo,paso)\n",
    "    ErrorV = [Valor_t,Error]\n",
    "    \n",
    "    \n",
    "    return Taylor,ErrorV,λ_vec,Conver_x,Conver_y\n",
    "   #return ErrorV\n",
    "end"
   ]
  },
  {
   "cell_type": "code",
   "execution_count": 87,
   "metadata": {
    "collapsed": false
   },
   "outputs": [],
   "source": [
    "using PyPlot"
   ]
  },
  {
   "cell_type": "code",
   "execution_count": 88,
   "metadata": {
    "collapsed": false
   },
   "outputs": [
    {
     "name": "stderr",
     "output_type": "stream",
     "text": [
      "WARNING: Method definition evaluar(Any, Any, Any, Any) in module Main at In[83]:2 overwritten at In[88]:2.\n"
     ]
    },
    {
     "data": {
      "text/plain": [
       "evaluar (generic function with 1 method)"
      ]
     },
     "execution_count": 88,
     "metadata": {},
     "output_type": "execute_result"
    }
   ],
   "source": [
    "function evaluar(Tiempo, paso,A,B)\n",
    "    ValX=Float64[]\n",
    "    \n",
    "    ValY=Float64[]\n",
    "\n",
    "    for t= Tiempo[1]:paso:Tiempo[2]\n",
    "        #=\n",
    "        x = mod(evaluate(A,t),2*pi)\n",
    "        y = mod(evaluate(B,t),2*pi\n",
    "        =#\n",
    "        \n",
    "        \n",
    "        x  = evaluate(A,t)\n",
    "        y = evaluate(B,t)\n",
    "        \n",
    "        \n",
    "        \n",
    "        push!(ValX,x)\n",
    "        push!(ValY,y)\n",
    "        \n",
    "    end\n",
    "    return ValX,ValY\n",
    "    \n",
    "end"
   ]
  },
  {
   "cell_type": "markdown",
   "metadata": {},
   "source": [
    "Calculamos el mismo polinomio pero ahora usando BigFloat para ver la diferencia sobre todo en el error. "
   ]
  },
  {
   "cell_type": "code",
   "execution_count": 89,
   "metadata": {
    "collapsed": false
   },
   "outputs": [
    {
     "name": "stderr",
     "output_type": "stream",
     "text": [
      "WARNING: Method definition Rotor(Any, Any, Any, Any) in module Main at In[84]:3 overwritten at In[89]:3.\n"
     ]
    },
    {
     "data": {
      "text/plain": [
       "Rotor (generic function with 1 method)"
      ]
     },
     "execution_count": 89,
     "metadata": {},
     "output_type": "execute_result"
    }
   ],
   "source": [
    "function Rotor(x,y,a,b)\n",
    "   \n",
    "    x_n = x+y\n",
    "    y_n = y+a*x_n*(x_n-1.)*exp(-x_n)\n",
    "    #=\n",
    "    x_n = x+a*y\n",
    "    y_n = y+x_n*(x_n -1)*e^(-x_n)\n",
    "    =#\n",
    "\n",
    "    return [x_n,y_n]\n",
    "end"
   ]
  },
  {
   "cell_type": "code",
   "execution_count": 93,
   "metadata": {
    "collapsed": false,
    "scrolled": false
   },
   "outputs": [
    {
     "data": {
      "image/png": "[encoded data removed]",
      "text/plain": [
       "PyPlot.Figure(PyObject <matplotlib.figure.Figure object at 0x7f1d809d34d0>)"
      ]
     },
     "metadata": {},
     "output_type": "display_data"
    },
    {
     "data": {
      "image/png": "[encoded data removed]",
      "text/plain": [
       "PyPlot.Figure(PyObject <matplotlib.figure.Figure object at 0x7f1d7ffd8dd0>)"
      ]
     },
     "metadata": {},
     "output_type": "display_data"
    },
    {
     "data": {
      "text/plain": [
       "PyObject <matplotlib.legend.Legend object at 0x7f1d8013fbd0>"
      ]
     },
     "execution_count": 93,
     "metadata": {},
     "output_type": "execute_result"
    }
   ],
   "source": [
    "a=parse(BigFloat,\"6.4\")\n",
    "b=6.4\n",
    "t=[-big(5.),big(5.)]\n",
    "Polinomio1F,E1F, ValProp1F, Cx1,Cy1 = MetParametrización(Rotor,1., 25, [big(0.),big(0.)], a, big(2.), 1, t, 0.125)\n",
    "Polinomio2F,E2F, ValProp2F,Cx2,Cy2 = MetParametrización(Rotor,1., 25, [big(0.),big(0.)], a, big(1.), 2, t, 0.125)\n",
    "\n",
    "V=evaluar(t,0.025,Polinomio2F[1],Polinomio2F[2])\n",
    "B=evaluar(t,0.025,Polinomio1F[1],Polinomio1F[2])\n",
    "figure(1)\n",
    "#pygui(true)\n",
    "plot(B[1],B[2],color=\"r\",label=\"Estable\")\n",
    "plot(V[1],V[2],color=\"b\",label=\"Inestable\")\n",
    "xlim(-3,3.2)\n",
    "ylim(-3,3)\n",
    "#title(\"Mapeo exponencial con $a ,BigFloat, orden 5\")\n",
    "grid(\"on\")\n",
    "legend(loc=\"upper right\",fancybox=\"true\" )\n",
    "\n",
    "\n",
    "\n",
    "\n",
    "\n",
    "figure(2)\n",
    "plot(E1F[1],log10(E1F[2]),marker= \"None\", label=\"Estable\")\n",
    "plot(E2F[1],log10(E2F[2]),marker= \"None\", label=\"Inestable\")\n",
    "xlabel(\"Parámetro t\")\n",
    "ylabel(L\"log10($|| E||_{\\infty})$\")\n",
    "title(\"Error\")\n",
    "grid(\"on\")\n",
    "legend(loc=\"upper right\",fancybox=\"true\" )\n",
    "\n",
    "\n",
    "\n",
    "\n",
    "\n",
    "\n",
    "\n",
    "\n"
   ]
  },
  {
   "cell_type": "code",
   "execution_count": null,
   "metadata": {
    "collapsed": true
   },
   "outputs": [],
   "source": []
  },
  {
   "cell_type": "code",
   "execution_count": null,
   "metadata": {
    "collapsed": true
   },
   "outputs": [],
   "source": []
  }
 ],
 "metadata": {
  "kernelspec": {
   "display_name": "Julia 0.5.2",
   "language": "julia",
   "name": "julia-0.5"
  },
  "language_info": {
   "file_extension": ".jl",
   "mimetype": "application/julia",
   "name": "julia",
   "version": "0.5.2"
  }
 },
 "nbformat": 4,
 "nbformat_minor": 2
}
