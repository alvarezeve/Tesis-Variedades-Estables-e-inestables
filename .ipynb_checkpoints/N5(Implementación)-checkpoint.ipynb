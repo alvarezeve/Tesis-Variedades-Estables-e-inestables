{
 "cells": [
  {
   "cell_type": "markdown",
   "metadata": {},
   "source": [
    "                                     Implementación del método"
   ]
  },
  {
   "cell_type": "markdown",
   "metadata": {},
   "source": [
    "En esta parte se irá programando paso a paso la forma en la que el mapeo estándar se analiza mediante el método de parametrización. Recordemos que antes ya se calcularon los puntos fijos del mapeo y se hizo un análisis de los mismos por lo que nos concentraremos en sólo aplicar de manera clara y paso a paso el método. Hacerlo de esta manera nos ayudará a comprender mejor cómo se puede implementar el método de manera general. \n",
    "Dado que conocemos ya los puntos fijos entonces nos concentraremos en calcular la variedad inestable, la cual se podrá elegir en términos de escoger el valor propio con el signo negativo que ya se calculó en el N33. \n",
    "\n",
    "En primer lugar hay que notar que como queremos implementar eso de manera general tenemos que hacer el cálculo de los valores propios en un inicio. Luego de esto se puede proceder con el calculo de cada variedad. \n"
   ]
  },
  {
   "cell_type": "markdown",
   "metadata": {},
   "source": [
    "Como ya sabemos cuáles son los puntos fijos necesitamos ahora calcular los polinomios que serán la parametrización de la variedad.Para ello debemos resolver la ecuación cohomológica.\n",
    "$$F_{\\epsilon}\\circ P=P\\circ \\lambda$$"
   ]
  },
  {
   "cell_type": "code",
   "execution_count": 1,
   "metadata": {
    "collapsed": false
   },
   "outputs": [],
   "source": [
    "#usaremos el paquete de TaylorSeries\n",
    "using TaylorSeries\n"
   ]
  },
  {
   "cell_type": "code",
   "execution_count": 2,
   "metadata": {
    "collapsed": false
   },
   "outputs": [
    {
     "data": {
      "text/plain": [
       "EstandarMap"
      ]
     },
     "execution_count": 2,
     "metadata": {},
     "output_type": "execute_result"
    }
   ],
   "source": [
    "#necesitamos tambien definir el mapeo standar \n",
    "\"\"\"EstandarMap(x,p,k)\n",
    "   \n",
    "   Función que define el mapeo estándar.\n",
    "  \n",
    "\n",
    "   Argumentos:\n",
    "   -x : posición\n",
    "   -p : momento\n",
    "   -k : constante del mapeo\n",
    "\"\"\"\n",
    "function EstandarMap(x,p,k)\n",
    "    \n",
    "    x_n = mod2pi(x+p)\n",
    "    p_n = mod2pi(p+k*sin(x_n))\n",
    "    \n",
    "    return [x_n,p_n]\n",
    "    \n",
    "    \n",
    "end\n",
    "\n",
    "\n",
    "    "
   ]
  },
  {
   "cell_type": "markdown",
   "metadata": {},
   "source": [
    "Definimos el valor de la constante del mapeo que usaremos en este caso. "
   ]
  },
  {
   "cell_type": "code",
   "execution_count": 3,
   "metadata": {
    "collapsed": false
   },
   "outputs": [
    {
     "data": {
      "text/plain": [
       "0.3"
      ]
     },
     "execution_count": 3,
     "metadata": {},
     "output_type": "execute_result"
    }
   ],
   "source": [
    "ke=0.3"
   ]
  },
  {
   "cell_type": "markdown",
   "metadata": {
    "collapsed": false
   },
   "source": [
    "                                                     \n",
    "                                                    ORDEN 1 \n"
   ]
  },
  {
   "cell_type": "markdown",
   "metadata": {},
   "source": [
    "Dado que queremos que x, p sean polinomios necesitamos construirlos, a priori no sabemos mas que el primer coeficiente de estos que es el cero, pero la idea es ir calculando los términos en cada iteración. Por lo que ponemos los coeficientes que buscamos como un x, p que son tipo TaylorN{Float64}, es decir usamos dos variables que son polinomios a su vez para poder calcular su valor al resolver la ecuación cohomológica. "
   ]
  },
  {
   "cell_type": "code",
   "execution_count": 4,
   "metadata": {
    "collapsed": false
   },
   "outputs": [
    {
     "data": {
      "text/plain": [
       "2-element Array{TaylorSeries.TaylorN{Float64},1}:\n",
       "  1.0 x + 𝒪(‖x‖²)\n",
       "  1.0 p + 𝒪(‖x‖²)"
      ]
     },
     "execution_count": 4,
     "metadata": {},
     "output_type": "execute_result"
    }
   ],
   "source": [
    "#Queremos que los polinomios para x, p sean de orden uno, eso no influye en el orden del coeficiente que estamos calculando\n",
    "x,p = set_variables(Float64,\"x p\",order=1)"
   ]
  },
  {
   "cell_type": "code",
   "execution_count": 5,
   "metadata": {
    "collapsed": false
   },
   "outputs": [
    {
     "name": "stdout",
     "output_type": "stream",
     "text": [
      "  1.0 x + 𝒪(‖x‖²) + 𝒪(t²)  1.0 p + 𝒪(‖x‖²) + 𝒪(t²)"
     ]
    }
   ],
   "source": [
    "#Ahora necesitamos los polinomios en específico, que serán los que metamos al mapeo, estos serán tipo Taylor1.TaylorN\n",
    "tx=Taylor1([x], 1)\n",
    "tp=Taylor1([p], 1)\n",
    "#el orden de estos ya es importante para cada iteración, aquí es uno porque estamos en el coeficiente de primer grado\n",
    "print(tx,tp)\n"
   ]
  },
  {
   "cell_type": "code",
   "execution_count": 6,
   "metadata": {
    "collapsed": false
   },
   "outputs": [
    {
     "data": {
      "text/plain": [
       "2-element Array{TaylorSeries.Taylor1{TaylorSeries.TaylorN{Float64}},1}:\n",
       "   1.0 x + 1.0 p + 𝒪(‖x‖²) + 𝒪(t²)\n",
       "   0.3 x + 1.3 p + 𝒪(‖x‖²) + 𝒪(t²)"
      ]
     },
     "execution_count": 6,
     "metadata": {},
     "output_type": "execute_result"
    }
   ],
   "source": [
    "#Aplicamos el mapeo a estos dos polinomios\n",
    "PO=EstandarMap(tx,tp,ke)"
   ]
  },
  {
   "cell_type": "markdown",
   "metadata": {},
   "source": [
    "Hasta este momento tenemos calculado la parte de la ecuación cohomológica que corresponde a la composición de $f_{\\epsilon} \\circ P$, es decir creamos un arreglo de polinomios P que después evaluamos en la función $f_{\\epsilon}$. Construiremos la otra composición que aparece en la ecuación cohomológica más adelante. Antes de eso debemos pensar cómo se resolverá esta ecuación, la forma más fácil es escribirla como un sistema en forma matricial. \n",
    "$$\\mathbb{A}\\textbf{v}=\\textbf{w} $$\n",
    "Donde la matriz A contiene los coeficientes que aparecen en los polinomios de acuerdo a cada variable. Mientras que la x representa el vector $(x,\\theta)$ y el w el vector de términos independientes de los polinomios. "
   ]
  },
  {
   "cell_type": "markdown",
   "metadata": {},
   "source": [
    "Para escribirlo de esta manera usaremos una función dentro de TaylorSeries que es el jacobiano. El jacobiano como recordamos es una matriz formada por las derivadas parciales de los dos polinomios para cada una de las variables. En este caso dos variables y dos polinomios nos llevan a una matriz de $2 \\times 2$ formada por :\n",
    "$$ \\left( \\begin{array}{cc}\n",
    "\\frac{\\partial f_{x}}{\\partial x} & \\frac{\\partial f_{p}}{\\partial x}  \\\\\n",
    "\\frac{\\partial f_{x}}{\\partial p} & \\frac{\\partial f_{p}}{\\partial p}  \\end{array} \\right) $$"
   ]
  },
  {
   "cell_type": "code",
   "execution_count": 7,
   "metadata": {
    "collapsed": false,
    "scrolled": true
   },
   "outputs": [
    {
     "data": {
      "text/plain": [
       "2×2 Array{TaylorSeries.Taylor1{Float64},2}:\n",
       "  1.0 + 𝒪(t²)   1.0 + 𝒪(t²)\n",
       "  0.3 + 𝒪(t²)   1.3 + 𝒪(t²)"
      ]
     },
     "execution_count": 7,
     "metadata": {},
     "output_type": "execute_result"
    }
   ],
   "source": [
    "#al calcular el jacobiano obtendremos sólo los valores de los coeficientes los cuales \n",
    "# son de tipo TaylorN\n",
    "JPO=jacobian(PO)\n"
   ]
  },
  {
   "cell_type": "code",
   "execution_count": 8,
   "metadata": {
    "collapsed": false
   },
   "outputs": [
    {
     "name": "stdout",
     "output_type": "stream",
     "text": [
      "JacFl = [1.0 1.0; 0.3 1.3]\n"
     ]
    },
    {
     "data": {
      "text/plain": [
       "2×2 Array{Float64,2}:\n",
       " 1.0  1.0\n",
       " 0.3  1.3"
      ]
     },
     "execution_count": 8,
     "metadata": {},
     "output_type": "execute_result"
    }
   ],
   "source": [
    "#como los valores que contiene el jacobiano son de tipo TaylorN y para usarlos como necesitamos\n",
    "# se deben tener en Float64 vamos a obtenerlos de la siguente manera. \n",
    "JacFl = Array{Float64}(2,2)\n",
    "for ind in eachindex(JPO)\n",
    "                JacFl[ind] = JPO[ind].coeffs[1]\n",
    "end\n",
    "#usamos la matriz JacFl como auxiliar para encontrar los valores flotantes\n",
    "@show(JacFl)"
   ]
  },
  {
   "cell_type": "markdown",
   "metadata": {},
   "source": [
    "La matriz que aparece arriba es una que ya podemos usar para calcular los valores y vectores propios. Necesitamos sólo uno de ellos."
   ]
  },
  {
   "cell_type": "code",
   "execution_count": 10,
   "metadata": {
    "collapsed": false,
    "scrolled": true
   },
   "outputs": [
    {
     "data": {
      "text/plain": [
       "([0.582109,1.71789],\n",
       "[-0.922675 -0.812346; 0.385578 -0.583176])"
      ]
     },
     "execution_count": 10,
     "metadata": {},
     "output_type": "execute_result"
    }
   ],
   "source": [
    "# eig () es una función que calcula los valores y vectores propios de una matriz y los da en ese orden en forma de vector.\n",
    "JPO=JacFl\n",
    "eval,eve=eig(JPO)"
   ]
  },
  {
   "cell_type": "markdown",
   "metadata": {},
   "source": [
    "El valor propio que ocupamos en este caso es el correspondiente al inestable, eso se traduce en el segundo que nos proporciona la función \"eig()\" puesto que ordena de  menor a mayor y la variedad inestable tiene el valor propio mayor al estable."
   ]
  },
  {
   "cell_type": "code",
   "execution_count": 11,
   "metadata": {
    "collapsed": false
   },
   "outputs": [
    {
     "name": "stdout",
     "output_type": "stream",
     "text": [
      "1.7178908345800274[-0.922675 -0.812346; 0.385578 -0.583176]"
     ]
    }
   ],
   "source": [
    "# dado que usaremos la variedad inestable, entonces usamos el segundo valor propio\n",
    "λ=eval[2]\n",
    "print(λ,eve)\n",
    "\n"
   ]
  },
  {
   "cell_type": "markdown",
   "metadata": {},
   "source": [
    "Tomamos por ende el segundo vector propio, los coeficientes de este vector serán los coeficientes de primer orden en los polinomios. "
   ]
  },
  {
   "cell_type": "code",
   "execution_count": 12,
   "metadata": {
    "collapsed": false
   },
   "outputs": [
    {
     "data": {
      "text/plain": [
       "2-element Array{Float64,1}:\n",
       " -0.812346\n",
       " -0.583176"
      ]
     },
     "execution_count": 12,
     "metadata": {},
     "output_type": "execute_result"
    }
   ],
   "source": [
    "vec=eve[:,2]\n",
    "# decimos que vec es un arreglo de contiene los valores correspondientes a los lugares [1,2], [2,2] de eve."
   ]
  },
  {
   "cell_type": "code",
   "execution_count": 13,
   "metadata": {
    "collapsed": false
   },
   "outputs": [
    {
     "name": "stdout",
     "output_type": "stream",
     "text": [
      "tx =   1.0 x + 𝒪(‖x‖²) + 𝒪(t²)\n",
      "typeof(tx) = TaylorSeries.Taylor1{TaylorSeries.TaylorN{Float64}}\n",
      "PO[1] =   1.0 x + 1.0 p + 𝒪(‖x‖²) + 𝒪(t²)\n",
      "typeof(PO[1]) = TaylorSeries.Taylor1{TaylorSeries.TaylorN{Float64}}\n"
     ]
    },
    {
     "data": {
      "text/plain": [
       "TaylorSeries.Taylor1{TaylorSeries.TaylorN{Float64}}"
      ]
     },
     "execution_count": 13,
     "metadata": {},
     "output_type": "execute_result"
    }
   ],
   "source": [
    "#queremos revisar la estabilidad de las variables tx,x\n",
    "@show(tx)\n",
    "@show(typeof(tx))\n",
    "@show(PO[1])\n",
    "@show(typeof(PO[1]))\n"
   ]
  },
  {
   "cell_type": "markdown",
   "metadata": {},
   "source": [
    "                                                  ORDEN 2"
   ]
  },
  {
   "cell_type": "markdown",
   "metadata": {},
   "source": [
    "A partir de este término la forma de obtener los coeficientes se vuelve monótona, esto facilita que podamos sintetizar\n",
    "todos los pasos en funciones. Antes de eso calcularemos cada término por separado. La forma de comenzar a calcular cada coeficiente no cambia con respecto al primero. "
   ]
  },
  {
   "cell_type": "code",
   "execution_count": 14,
   "metadata": {
    "collapsed": false
   },
   "outputs": [
    {
     "data": {
      "text/plain": [
       "2-element Array{TaylorSeries.TaylorN{Float64},1}:\n",
       "  1.0 x + 𝒪(‖x‖²)\n",
       "  1.0 p + 𝒪(‖x‖²)"
      ]
     },
     "execution_count": 14,
     "metadata": {},
     "output_type": "execute_result"
    }
   ],
   "source": [
    "\n",
    "#Queremos hacer la misma idea para este orden, recordemos que el orden de este polinomio no influye por ahora en el cálculo\n",
    "# ya que en los términos que no aparecen explícitamente sirven para justo calcular la parte que no conocemos.\n",
    "\n",
    "x,p = set_variables(Float64,\"x p\",order=1)"
   ]
  },
  {
   "cell_type": "markdown",
   "metadata": {},
   "source": [
    "Para los nuevos polinomios agregamos los valores que calculamos en el paso anterior, además de las variables x,p como series de Taylor."
   ]
  },
  {
   "cell_type": "code",
   "execution_count": 15,
   "metadata": {
    "collapsed": false,
    "scrolled": true
   },
   "outputs": [
    {
     "data": {
      "text/plain": [
       " ( - 0.5831757547123116 + 𝒪(‖x‖¹)) t + ( 1.0 p + 𝒪(‖x‖²)) t² + 𝒪(t³)"
      ]
     },
     "execution_count": 15,
     "metadata": {},
     "output_type": "execute_result"
    }
   ],
   "source": [
    "#usamos los valores ya calculados en el orden 1 para x,p de primer orden, estos los incluyo en una lista junto \n",
    "#con  el polinomio que representa a x,p  tipo TaylorN \n",
    "tx=Taylor1([0.,vec[1],x],2)\n",
    "tp=Taylor1([0.,vec[2],p],2)"
   ]
  },
  {
   "cell_type": "code",
   "execution_count": 17,
   "metadata": {
    "collapsed": false,
    "scrolled": true
   },
   "outputs": [
    {
     "data": {
      "text/plain": [
       "2-element Array{TaylorSeries.Taylor1{TaylorSeries.TaylorN{Float64}},1}:\n",
       "  ( - 1.3955217641908624 + 𝒪(‖x‖¹)) t + ( 1.0 x + 1.0 p + 𝒪(‖x‖²)) t² + 𝒪(t³)\n",
       "  ( - 1.0018322839695704 + 𝒪(‖x‖¹)) t + ( 0.3 x + 1.3 p + 𝒪(‖x‖²)) t² + 𝒪(t³)"
      ]
     },
     "execution_count": 17,
     "metadata": {},
     "output_type": "execute_result"
    }
   ],
   "source": [
    "#aplicamos el mapeo\n",
    "SO=EstandarMap(tx,tp,ke)"
   ]
  },
  {
   "cell_type": "markdown",
   "metadata": {},
   "source": [
    "Para el lado derecho de la ecuación cohomológica necesitamos un vector de lambdas, pues recordemos  \n",
    "$$ \\Sigma_{n=1}^{\\inf}a_{n}t^{n}\\lambda^{n}$$\n",
    "$$\\Sigma_{n=1}^{\\inf}b_{n}t^{n}\\lambda^{n}$$\n"
   ]
  },
  {
   "cell_type": "code",
   "execution_count": 18,
   "metadata": {
    "collapsed": false
   },
   "outputs": [
    {
     "data": {
      "text/plain": [
       "3-element Array{Float64,1}:\n",
       " 0.0    \n",
       " 1.71789\n",
       " 2.95115"
      ]
     },
     "execution_count": 18,
     "metadata": {},
     "output_type": "execute_result"
    }
   ],
   "source": [
    "# como nos falta el otro lado de la ecuación cohomológica definimos un vector de lambdas\n",
    "vλ=[0.0,λ,λ^2]"
   ]
  },
  {
   "cell_type": "code",
   "execution_count": 19,
   "metadata": {
    "collapsed": false,
    "scrolled": true
   },
   "outputs": [
    {
     "data": {
      "text/plain": [
       "2-element Array{TaylorSeries.Taylor1{TaylorSeries.TaylorN{Float64}},1}:\n",
       "  ( - 1.3955217641908624 + 𝒪(‖x‖¹)) t + ( 2.9511489195340634 x + 𝒪(‖x‖²)) t² + 𝒪(t³)\n",
       "  ( - 1.0018322839695704 + 𝒪(‖x‖¹)) t + ( 2.9511489195340634 x + 𝒪(‖x‖²)) t² + 𝒪(t³)"
      ]
     },
     "execution_count": 19,
     "metadata": {},
     "output_type": "execute_result"
    }
   ],
   "source": [
    "#y definimos también un polinomio para las lambdas, del mismo orden que el polinomio de tx,tp\n",
    "# que juega la parte de a_{n}\\lambda^{n}\n",
    "xλt=Taylor1(vλ.*[0.,vec[1],x],2)\n",
    "pλt=Taylor1(vλ.*[0.,vec[2],x],2)\n",
    "λvec=[xλt,pλt]"
   ]
  },
  {
   "cell_type": "markdown",
   "metadata": {},
   "source": [
    " Ahora ya tengo las dos partes de la ecuación y debo igualarlas para resolver. SO representa la parte de la primera\n",
    " compossición mientras que λvec representa la parte derecha de la ecuación cohomológica.Al restarlas estoy resolviendo \n",
    " $$f_{\\epsilon}\\circ P- P \\circ \\lambda=0 $$. En este caso no estpa igualada a cero puesto que estamos tratando de calcular el siguente término, es decir van a diferir justo en ese término. "
   ]
  },
  {
   "cell_type": "code",
   "execution_count": 20,
   "metadata": {
    "collapsed": false
   },
   "outputs": [
    {
     "data": {
      "text/plain": [
       "2-element Array{TaylorSeries.Taylor1{TaylorSeries.TaylorN{Float64}},1}:\n",
       "  ( - 1.9511489195340634 x + 1.0 p + 𝒪(‖x‖²)) t² + 𝒪(t³)\n",
       "  ( - 2.6511489195340636 x + 1.3 p + 𝒪(‖x‖²)) t² + 𝒪(t³)"
      ]
     },
     "execution_count": 20,
     "metadata": {},
     "output_type": "execute_result"
    }
   ],
   "source": [
    "#Restando ambos vectores que representan la ecuación cohomológica encontraremos los términos que faltan\n",
    "# de empatar\n",
    "Ecua=SO-λvec\n"
   ]
  },
  {
   "cell_type": "markdown",
   "metadata": {},
   "source": [
    "En este paso nos podemos dar cuenta que sólo aprece el término de orden dos puesto que el de orden uno ya lo calculamos. \n",
    "\n",
    "Notemos que hay un pequeño error, pues aparece un número en el polinomio asociado a $\\theta$ de orden 1, sin embargo este número es del orden de $10^{-16}$ lo cual nos dice que es un error numérico."
   ]
  },
  {
   "cell_type": "code",
   "execution_count": 21,
   "metadata": {
    "collapsed": false
   },
   "outputs": [
    {
     "data": {
      "text/plain": [
       "2-element Array{TaylorSeries.TaylorN{Float64},1}:\n",
       "  - 1.9511489195340634 x + 1.0 p + 𝒪(‖x‖²)\n",
       "  - 2.6511489195340636 x + 1.3 p + 𝒪(‖x‖²)"
      ]
     },
     "execution_count": 21,
     "metadata": {},
     "output_type": "execute_result"
    }
   ],
   "source": [
    "\n",
    "# de esta ecuación necesitamos solo los de segundo orden, así que los extraemos manualmente \n",
    "x2=Ecua[1].coeffs[3]\n",
    "p2=Ecua[2].coeffs[3]\n",
    "vec2=[x2,p2]"
   ]
  },
  {
   "cell_type": "code",
   "execution_count": 22,
   "metadata": {
    "collapsed": false
   },
   "outputs": [
    {
     "data": {
      "text/plain": [
       "2×2 Array{Float64,2}:\n",
       " -1.95115  1.0\n",
       " -2.65115  1.3"
      ]
     },
     "execution_count": 22,
     "metadata": {},
     "output_type": "execute_result"
    }
   ],
   "source": [
    "#calculamos ahora el jacobiano de este vector, ya que los coeficientes serán parte de la matriz que queremos\n",
    "JSO=jacobian(vec2)"
   ]
  },
  {
   "cell_type": "code",
   "execution_count": 23,
   "metadata": {
    "collapsed": false
   },
   "outputs": [
    {
     "data": {
      "text/plain": [
       "0.11465532413978118"
      ]
     },
     "execution_count": 23,
     "metadata": {},
     "output_type": "execute_result"
    }
   ],
   "source": [
    "#calculamos su determinante para ver si es cero, \n",
    "det(JSO)"
   ]
  },
  {
   "cell_type": "code",
   "execution_count": 24,
   "metadata": {
    "collapsed": false
   },
   "outputs": [
    {
     "data": {
      "text/plain": [
       "2-element Array{Float64,1}:\n",
       " 0.0\n",
       " 0.0"
      ]
     },
     "execution_count": 24,
     "metadata": {},
     "output_type": "execute_result"
    }
   ],
   "source": [
    "# como es distinto de cero y la ecuación esta igualada a cero entonces la única solución es la trivial\n",
    "x2=0.\n",
    "p2=0.\n",
    "vec2=[0.,0.]\n"
   ]
  },
  {
   "cell_type": "markdown",
   "metadata": {},
   "source": [
    "Esto concuerda con lo que habíamos encontrado antes, los coeficientes de orden par son cero. "
   ]
  },
  {
   "cell_type": "code",
   "execution_count": 25,
   "metadata": {
    "collapsed": false
   },
   "outputs": [
    {
     "name": "stdout",
     "output_type": "stream",
     "text": [
      "tx =  ( - 0.8123460094785507 + 𝒪(‖x‖¹)) t + ( 1.0 x + 𝒪(‖x‖²)) t² + 𝒪(t³)\n",
      "typeof(tx) = TaylorSeries.Taylor1{TaylorSeries.TaylorN{Float64}}\n",
      "SO[1] =  ( - 1.3955217641908624 + 𝒪(‖x‖¹)) t + ( 1.0 x + 1.0 p + 𝒪(‖x‖²)) t² + 𝒪(t³)\n",
      "typeof(SO[1]) = TaylorSeries.Taylor1{TaylorSeries.TaylorN{Float64}}\n",
      "xλt =  ( - 1.3955217641908624 + 𝒪(‖x‖¹)) t + ( 2.9511489195340634 x + 𝒪(‖x‖²)) t² + 𝒪(t³)\n",
      "typeof(xλt) = TaylorSeries.Taylor1{TaylorSeries.TaylorN{Float64}}\n",
      "Ecua[1] =  ( - 1.9511489195340634 x + 1.0 p + 𝒪(‖x‖²)) t² + 𝒪(t³)\n",
      "typeof(Ecua[1]) = TaylorSeries.Taylor1{TaylorSeries.TaylorN{Float64}}\n"
     ]
    },
    {
     "data": {
      "text/plain": [
       "TaylorSeries.Taylor1{TaylorSeries.TaylorN{Float64}}"
      ]
     },
     "execution_count": 25,
     "metadata": {},
     "output_type": "execute_result"
    }
   ],
   "source": [
    "#queremos revisar la estabilidad de las variables tx,x\n",
    "@show(tx)\n",
    "@show(typeof(tx))\n",
    "@show(SO[1])\n",
    "@show(typeof(SO[1]))\n",
    "@show(xλt)\n",
    "@show(typeof(xλt))\n",
    "@show(Ecua[1])\n",
    "@show(typeof(Ecua[1]))"
   ]
  },
  {
   "cell_type": "markdown",
   "metadata": {},
   "source": [
    "                                                ORDEN 3"
   ]
  },
  {
   "cell_type": "markdown",
   "metadata": {},
   "source": [
    "Para este orden comenzaremos a generar los vectores como en el caso anterior, lo que cambia en este caso es que\n",
    "aparecen términos independientes en la ecuación comohológica. Esto resulta en que las solución ya no será la trivial como en el caso pasado."
   ]
  },
  {
   "cell_type": "code",
   "execution_count": 26,
   "metadata": {
    "collapsed": false
   },
   "outputs": [
    {
     "data": {
      "text/plain": [
       "2-element Array{TaylorSeries.TaylorN{Float64},1}:\n",
       "  1.0 x + 𝒪(‖x‖⁴)\n",
       "  1.0 p + 𝒪(‖x‖⁴)"
      ]
     },
     "execution_count": 26,
     "metadata": {},
     "output_type": "execute_result"
    }
   ],
   "source": [
    "#genramos un par de variables de tipo TaylorN de orden 3\n",
    "x,p = set_variables(Float64,\"x p\",order=3)\n"
   ]
  },
  {
   "cell_type": "code",
   "execution_count": 27,
   "metadata": {
    "collapsed": false
   },
   "outputs": [
    {
     "data": {
      "text/plain": [
       " ( - 0.5831757547123116 + 𝒪(‖x‖¹)) t + ( 1.0 p + 𝒪(‖x‖⁴)) t³ + 𝒪(t⁵)"
      ]
     },
     "execution_count": 27,
     "metadata": {},
     "output_type": "execute_result"
    }
   ],
   "source": [
    "#generamos las variables con las que evaluamos el mapeo, notemos que deben de tener orden mayor al orden que estamos \n",
    "# calculando\n",
    "tx=Taylor1([0.,vec[1],x2,x],4)\n",
    "tp=Taylor1([0.,vec[2],p2,p],4)\n"
   ]
  },
  {
   "cell_type": "code",
   "execution_count": 29,
   "metadata": {
    "collapsed": false
   },
   "outputs": [
    {
     "data": {
      "text/plain": [
       "2-element Array{TaylorSeries.Taylor1{TaylorSeries.TaylorN{Float64}},1}:\n",
       "                       ( - 1.3955217641908624 + 𝒪(‖x‖¹)) t + ( 1.0 x + 1.0 p + 𝒪(‖x‖⁴)) t³ + 𝒪(t⁵)\n",
       "  ( - 1.0018322839695704 + 𝒪(‖x‖¹)) t + ( 0.1358876056468051 + 0.3 x + 1.3 p + 𝒪(‖x‖⁴)) t³ + 𝒪(t⁵)"
      ]
     },
     "execution_count": 29,
     "metadata": {},
     "output_type": "execute_result"
    }
   ],
   "source": [
    "#aplicamos el mapeo \n",
    "TO=EstandarMap(tx,tp,ke)\n"
   ]
  },
  {
   "cell_type": "code",
   "execution_count": 30,
   "metadata": {
    "collapsed": false
   },
   "outputs": [
    {
     "data": {
      "text/plain": [
       " ( - 1.0018322839695704 + 𝒪(‖x‖¹)) t + ( 5.069751680348318 p + 𝒪(‖x‖⁴)) t³ + 𝒪(t⁵)"
      ]
     },
     "execution_count": 30,
     "metadata": {},
     "output_type": "execute_result"
    }
   ],
   "source": [
    "#creamos un vector de lambdas que formará parte del lado derecho de la ecuación cohomo.\n",
    "vλ=[0,λ,λ^2, λ^3]\n",
    "xλt=Taylor1([0.,vec[1],x2,x].*vλ,4)\n",
    "pλt=Taylor1([0.,vec[2],p2,p].*vλ,4)\n",
    "\n"
   ]
  },
  {
   "cell_type": "code",
   "execution_count": 31,
   "metadata": {
    "collapsed": false
   },
   "outputs": [
    {
     "data": {
      "text/plain": [
       "2-element Array{TaylorSeries.Taylor1{TaylorSeries.TaylorN{Float64}},1}:\n",
       "  ( - 1.3955217641908624 + 𝒪(‖x‖¹)) t + ( 5.069751680348318 x + 𝒪(‖x‖⁴)) t³ + 𝒪(t⁵)\n",
       "  ( - 1.0018322839695704 + 𝒪(‖x‖¹)) t + ( 5.069751680348318 p + 𝒪(‖x‖⁴)) t³ + 𝒪(t⁵)"
      ]
     },
     "execution_count": 31,
     "metadata": {},
     "output_type": "execute_result"
    }
   ],
   "source": [
    "#lo usaremos como vector pues el mapeo regresa un vector\n",
    "λvec=[xλt,pλt]\n"
   ]
  },
  {
   "cell_type": "code",
   "execution_count": 32,
   "metadata": {
    "collapsed": false
   },
   "outputs": [
    {
     "data": {
      "text/plain": [
       "2-element Array{TaylorSeries.Taylor1{TaylorSeries.TaylorN{Float64}},1}:\n",
       "                      ( - 4.069751680348318 x + 1.0 p + 𝒪(‖x‖⁴)) t³ + 𝒪(t⁵)\n",
       "  ( 0.1358876056468051 + 0.3 x - 3.7697516803483184 p + 𝒪(‖x‖⁴)) t³ + 𝒪(t⁵)"
      ]
     },
     "execution_count": 32,
     "metadata": {},
     "output_type": "execute_result"
    }
   ],
   "source": [
    "#Escribimos la ecuación cohomo\n",
    "Ecua=TO-λvec\n"
   ]
  },
  {
   "cell_type": "code",
   "execution_count": 33,
   "metadata": {
    "collapsed": false
   },
   "outputs": [
    {
     "data": {
      "text/plain": [
       " 0.1358876056468051 + 0.3 x - 3.7697516803483184 p + 𝒪(‖x‖⁴)"
      ]
     },
     "execution_count": 33,
     "metadata": {},
     "output_type": "execute_result"
    }
   ],
   "source": [
    "#notamos de nuevo que sólo sobreviven los términos de orden 3 y que hay un pequeño error en el término 1 \n",
    "x3=Ecua[1].coeffs[4]\n",
    "p3=Ecua[2].coeffs[4]"
   ]
  },
  {
   "cell_type": "code",
   "execution_count": 34,
   "metadata": {
    "collapsed": false
   },
   "outputs": [
    {
     "data": {
      "text/plain": [
       "2×2 Array{Float64,2}:\n",
       " -4.06975   1.0    \n",
       "  0.3      -3.76975"
      ]
     },
     "execution_count": 34,
     "metadata": {},
     "output_type": "execute_result"
    }
   ],
   "source": [
    "#Dado que en este momento comienzan a aparecer términos independientes en x, p necesitamos una forma de extraerlos\n",
    "# primero estraemos los coeficientes de x, p como antes con el jacobiano. \n",
    "JTO=jacobian([x3,p3])"
   ]
  },
  {
   "cell_type": "code",
   "execution_count": 35,
   "metadata": {
    "collapsed": false
   },
   "outputs": [
    {
     "data": {
      "text/plain": [
       "15.041953235593466"
      ]
     },
     "execution_count": 35,
     "metadata": {},
     "output_type": "execute_result"
    }
   ],
   "source": [
    "#calculamos el determinante \n",
    "det(JTO)"
   ]
  },
  {
   "cell_type": "code",
   "execution_count": 36,
   "metadata": {
    "collapsed": false
   },
   "outputs": [
    {
     "data": {
      "text/plain": [
       "2-element Array{Float64,1}:\n",
       " -0.0     \n",
       " -0.135888"
      ]
     },
     "execution_count": 36,
     "metadata": {},
     "output_type": "execute_result"
    }
   ],
   "source": [
    "\n",
    "#extraemos ahora los coeficientes independientes de x,p \n",
    "a= Ecua[1].coeffs[4].coeffs[1].coeffs[1]\n",
    "b= Ecua[2].coeffs[4].coeffs[1].coeffs[1]\n",
    "vecCoef=[-a,-b]\n"
   ]
  },
  {
   "cell_type": "markdown",
   "metadata": {},
   "source": [
    "Dado que el determinante de la matriz es distinto de cero y los términos independientes son diferentes de cero entonces existe una solución no trivial. Para resolver este sitema utilizamos que :\n",
    "$$JTO [x,\\theta]^{T}=[a,b]^{T}$$\n",
    "$$[x,\\theta]^{T}=JTO^{-1}[a,b]^{T}$$"
   ]
  },
  {
   "cell_type": "code",
   "execution_count": 34,
   "metadata": {
    "collapsed": false
   },
   "outputs": [
    {
     "data": {
      "text/plain": [
       "2-element Array{Float64,1}:\n",
       " 0.00903391\n",
       " 0.0367658 "
      ]
     },
     "execution_count": 34,
     "metadata": {},
     "output_type": "execute_result"
    }
   ],
   "source": [
    "\n",
    "# entonces solo se trata de invertir el jacobiano y multiplicar con el vector del lado izquierdo\n",
    "T3=JTO \\ vecCoef\n"
   ]
  },
  {
   "cell_type": "code",
   "execution_count": 35,
   "metadata": {
    "collapsed": false
   },
   "outputs": [
    {
     "data": {
      "text/plain": [
       "2-element Array{Float64,1}:\n",
       " 0.00903391\n",
       " 0.0367658 "
      ]
     },
     "execution_count": 35,
     "metadata": {},
     "output_type": "execute_result"
    }
   ],
   "source": [
    "#los valores que obtuvimos son los nuevos coeficientes de orden 3\n",
    "x3=T3[1]\n",
    "p3=T3[2]\n",
    "v3=[x3,p3]"
   ]
  },
  {
   "cell_type": "code",
   "execution_count": 36,
   "metadata": {
    "collapsed": false
   },
   "outputs": [
    {
     "name": "stdout",
     "output_type": "stream",
     "text": [
      "tx =  ( - 0.8123460094785507 + 𝒪(‖x‖¹)) t + ( 1.0 x + 𝒪(‖x‖⁴)) t³ + 𝒪(t⁵)\n",
      "typeof(tx) = TaylorSeries.Taylor1{TaylorSeries.TaylorN{Float64}}\n",
      "TO[1] =  ( - 1.3955217641908624 + 𝒪(‖x‖¹)) t + ( 1.0 x + 1.0 p + 𝒪(‖x‖⁴)) t³ + 𝒪(t⁵)\n",
      "typeof(TO[1]) = TaylorSeries.Taylor1{TaylorSeries.TaylorN{Float64}}\n",
      "xλt =  ( - 1.3955217641908624 + 𝒪(‖x‖¹)) t + ( 5.069751680348318 x + 𝒪(‖x‖⁴)) t³ + 𝒪(t⁵)\n",
      "typeof(xλt) = TaylorSeries.Taylor1{TaylorSeries.TaylorN{Float64}}\n",
      "Ecua[1] =  ( - 4.069751680348318 x + 1.0 p + 𝒪(‖x‖⁴)) t³ + 𝒪(t⁵)\n",
      "typeof(Ecua[1]) = TaylorSeries.Taylor1{TaylorSeries.TaylorN{Float64}}\n"
     ]
    },
    {
     "data": {
      "text/plain": [
       "TaylorSeries.Taylor1{TaylorSeries.TaylorN{Float64}}"
      ]
     },
     "execution_count": 36,
     "metadata": {},
     "output_type": "execute_result"
    }
   ],
   "source": [
    "#queremos revisar la estabilidad de las variables tx,x\n",
    "@show(tx)\n",
    "@show(typeof(tx))\n",
    "@show(TO[1])\n",
    "@show(typeof(TO[1]))\n",
    "@show(xλt)\n",
    "@show(typeof(xλt))\n",
    "@show(Ecua[1])\n",
    "@show(typeof(Ecua[1]))"
   ]
  },
  {
   "cell_type": "markdown",
   "metadata": {},
   "source": [
    "                                                        ORDEN 4"
   ]
  },
  {
   "cell_type": "code",
   "execution_count": 37,
   "metadata": {
    "collapsed": false
   },
   "outputs": [
    {
     "data": {
      "text/plain": [
       "2-element Array{TaylorSeries.TaylorN{Float64},1}:\n",
       "  1.0 x + 𝒪(‖x‖²)\n",
       "  1.0 p + 𝒪(‖x‖²)"
      ]
     },
     "execution_count": 37,
     "metadata": {},
     "output_type": "execute_result"
    }
   ],
   "source": [
    "#creamos las variables de tipo TaylorN\n",
    "x,p = set_variables(Float64,\"x p\",order=1)\n"
   ]
  },
  {
   "cell_type": "code",
   "execution_count": 38,
   "metadata": {
    "collapsed": false
   },
   "outputs": [
    {
     "data": {
      "text/plain": [
       " ( - 0.5831757547123116 + 𝒪(‖x‖¹)) t + ( 0.036765757927698775 + 𝒪(‖x‖¹)) t³ + ( 1.0 p + 𝒪(‖x‖²)) t⁴ + 𝒪(t⁶)"
      ]
     },
     "execution_count": 38,
     "metadata": {},
     "output_type": "execute_result"
    }
   ],
   "source": [
    "#creamos las variables del mapeo que ya toman en cuenta los coeficientes que calculamos\n",
    "tx=Taylor1([0.,vec[1],x2,x3,x],5)\n",
    "tp=Taylor1([0.,vec[2],p2,p3,p],5)\n"
   ]
  },
  {
   "cell_type": "code",
   "execution_count": 39,
   "metadata": {
    "collapsed": false
   },
   "outputs": [
    {
     "data": {
      "text/plain": [
       "2-element Array{TaylorSeries.Taylor1{TaylorSeries.TaylorN{Float64}},1}:\n",
       "                                           ( - 1.3955217641908624 + 𝒪(‖x‖¹)) t + ( 0.04579966486242166 + 𝒪(‖x‖¹)) t³ + ( 1.0 x + 1.0 p + 𝒪(‖x‖²)) t⁴ + 𝒪(t⁶)\n",
       "  ( - 1.0018322839695704 + 𝒪(‖x‖¹)) t + ( 0.18639326303323034 + 𝒪(‖x‖¹)) t³ + ( 0.3 x + 1.3 p + 𝒪(‖x‖²)) t⁴ + ( - 0.026611022998050755 + 𝒪(‖x‖²)) t⁵ + 𝒪(t⁶)"
      ]
     },
     "execution_count": 39,
     "metadata": {},
     "output_type": "execute_result"
    }
   ],
   "source": [
    "#Le aplicamos el mapeo estándar\n",
    "CO=StandarMap(tx,tp,ke)\n"
   ]
  },
  {
   "cell_type": "code",
   "execution_count": 40,
   "metadata": {
    "collapsed": false
   },
   "outputs": [
    {
     "name": "stdout",
     "output_type": "stream",
     "text": [
      " ( - 1.3955217641908624 + 𝒪(‖x‖¹)) t + ( 0.04579966486242166 + 𝒪(‖x‖¹)) t³ + ( 8.70927994526707 x + 𝒪(‖x‖²)) t⁴ + 𝒪(t⁶) ( - 1.0018322839695704 + 𝒪(‖x‖¹)) t + ( 0.18639326303323037 + 𝒪(‖x‖¹)) t³ + ( 8.70927994526707 p + 𝒪(‖x‖²)) t⁴ + 𝒪(t⁶)"
     ]
    }
   ],
   "source": [
    "#creamos la parte derecha de la ecuación\n",
    "vλ=[0., λ, λ^2, λ^3, λ^4]\n",
    "xλt=Taylor1([0.,vec[1],x2,x3,x].*vλ,5)\n",
    "pλt=Taylor1([0.,vec[2],p2,p3,p].*vλ,5)\n",
    "print(xλt,pλt)\n"
   ]
  },
  {
   "cell_type": "code",
   "execution_count": 41,
   "metadata": {
    "collapsed": false
   },
   "outputs": [
    {
     "data": {
      "text/plain": [
       "2-element Array{TaylorSeries.Taylor1{TaylorSeries.TaylorN{Float64}},1}:\n",
       "  ( - 1.3955217641908624 + 𝒪(‖x‖¹)) t + ( 0.04579966486242166 + 𝒪(‖x‖¹)) t³ + ( 8.70927994526707 x + 𝒪(‖x‖²)) t⁴ + 𝒪(t⁶)\n",
       "  ( - 1.0018322839695704 + 𝒪(‖x‖¹)) t + ( 0.18639326303323037 + 𝒪(‖x‖¹)) t³ + ( 8.70927994526707 p + 𝒪(‖x‖²)) t⁴ + 𝒪(t⁶)"
      ]
     },
     "execution_count": 41,
     "metadata": {},
     "output_type": "execute_result"
    }
   ],
   "source": [
    "#es más útil tener esta parte como un vector\n",
    "λvec=[xλt,pλt]"
   ]
  },
  {
   "cell_type": "code",
   "execution_count": 42,
   "metadata": {
    "collapsed": false
   },
   "outputs": [
    {
     "data": {
      "text/plain": [
       "2-element Array{TaylorSeries.Taylor1{TaylorSeries.TaylorN{Float64}},1}:\n",
       "                                                                                     ( - 7.70927994526707 x + 1.0 p + 𝒪(‖x‖²)) t⁴ + 𝒪(t⁶)\n",
       "  ( - 2.7755575615628914e-17 + 𝒪(‖x‖¹)) t³ + ( 0.3 x - 7.409279945267071 p + 𝒪(‖x‖²)) t⁴ + ( - 0.026611022998050755 + 𝒪(‖x‖²)) t⁵ + 𝒪(t⁶)"
      ]
     },
     "execution_count": 42,
     "metadata": {},
     "output_type": "execute_result"
    }
   ],
   "source": [
    "#escribimos la ecuación cohomo, para poder sacar el jacobiano\n",
    "Ecua=CO-λvec\n"
   ]
  },
  {
   "cell_type": "code",
   "execution_count": 43,
   "metadata": {
    "collapsed": false
   },
   "outputs": [
    {
     "data": {
      "text/plain": [
       " 0.3 x - 7.409279945267071 p + 𝒪(‖x‖²)"
      ]
     },
     "execution_count": 43,
     "metadata": {},
     "output_type": "execute_result"
    }
   ],
   "source": [
    "#obtenemos los valores de orden 4 \n",
    "x4=Ecua[1].coeffs[5]\n",
    "p4=Ecua[2].coeffs[5]\n",
    "\n",
    "\n",
    "\n"
   ]
  },
  {
   "cell_type": "code",
   "execution_count": 44,
   "metadata": {
    "collapsed": false
   },
   "outputs": [
    {
     "data": {
      "text/plain": [
       "2×2 Array{Float64,2}:\n",
       " -7.70928   1.0    \n",
       "  0.3      -7.40928"
      ]
     },
     "execution_count": 44,
     "metadata": {},
     "output_type": "execute_result"
    }
   ],
   "source": [
    "#calculamos el jacobiano de estos términos, para obtener solo los coeficientes\n",
    "JCO=jacobian([x4,p4])"
   ]
  },
  {
   "cell_type": "code",
   "execution_count": 45,
   "metadata": {
    "collapsed": false
   },
   "outputs": [
    {
     "data": {
      "text/plain": [
       "56.82021329091692"
      ]
     },
     "execution_count": 45,
     "metadata": {},
     "output_type": "execute_result"
    }
   ],
   "source": [
    "#calculamos el determinante para saber si podemos resolver el sistema_\n",
    "det(JCO)"
   ]
  },
  {
   "cell_type": "code",
   "execution_count": 46,
   "metadata": {
    "collapsed": false
   },
   "outputs": [
    {
     "data": {
      "text/plain": [
       "2-element Array{Float64,1}:\n",
       " -0.0\n",
       " -0.0"
      ]
     },
     "execution_count": 46,
     "metadata": {},
     "output_type": "execute_result"
    }
   ],
   "source": [
    "#dado que el determinante es distinto de cero y los valores independientes del sistema son cero\n",
    "# la única solución es la trivial\n",
    "T4=JCO\\ [0.,0.]\n"
   ]
  },
  {
   "cell_type": "code",
   "execution_count": 47,
   "metadata": {
    "collapsed": false
   },
   "outputs": [
    {
     "data": {
      "text/plain": [
       "-0.0"
      ]
     },
     "execution_count": 47,
     "metadata": {},
     "output_type": "execute_result"
    }
   ],
   "source": [
    "#esta solución son los nuevos coeficientes del polinomio\n",
    "x4=T4[1]\n",
    "p4=T4[2]"
   ]
  },
  {
   "cell_type": "markdown",
   "metadata": {},
   "source": [
    "De nuevo dado que es un término de orden par, los coeficientes fueron cero."
   ]
  },
  {
   "cell_type": "code",
   "execution_count": 48,
   "metadata": {
    "collapsed": false
   },
   "outputs": [
    {
     "name": "stdout",
     "output_type": "stream",
     "text": [
      "tx =  ( - 0.8123460094785507 + 𝒪(‖x‖¹)) t + ( 0.009033906934722882 + 𝒪(‖x‖¹)) t³ + ( 1.0 x + 𝒪(‖x‖²)) t⁴ + 𝒪(t⁶)\n",
      "typeof(tx) = TaylorSeries.Taylor1{TaylorSeries.TaylorN{Float64}}\n",
      "CO[1] =  ( - 1.3955217641908624 + 𝒪(‖x‖¹)) t + ( 0.04579966486242166 + 𝒪(‖x‖¹)) t³ + ( 1.0 x + 1.0 p + 𝒪(‖x‖²)) t⁴ + 𝒪(t⁶)\n",
      "typeof(CO[1]) = TaylorSeries.Taylor1{TaylorSeries.TaylorN{Float64}}\n",
      "xλt =  ( - 1.3955217641908624 + 𝒪(‖x‖¹)) t + ( 0.04579966486242166 + 𝒪(‖x‖¹)) t³ + ( 8.70927994526707 x + 𝒪(‖x‖²)) t⁴ + 𝒪(t⁶)\n",
      "typeof(xλt) = TaylorSeries.Taylor1{TaylorSeries.TaylorN{Float64}}\n",
      "Ecua[1] =  ( - 7.70927994526707 x + 1.0 p + 𝒪(‖x‖²)) t⁴ + 𝒪(t⁶)\n",
      "typeof(Ecua[1]) = TaylorSeries.Taylor1{TaylorSeries.TaylorN{Float64}}\n"
     ]
    },
    {
     "data": {
      "text/plain": [
       "TaylorSeries.Taylor1{TaylorSeries.TaylorN{Float64}}"
      ]
     },
     "execution_count": 48,
     "metadata": {},
     "output_type": "execute_result"
    }
   ],
   "source": [
    "#queremos revisar la estabilidad de las variables tx,x\n",
    "@show(tx)\n",
    "@show(typeof(tx))\n",
    "@show(CO[1])\n",
    "@show(typeof(CO[1]))\n",
    "@show(xλt)\n",
    "@show(typeof(xλt))\n",
    "@show(Ecua[1])\n",
    "@show(typeof(Ecua[1]))"
   ]
  },
  {
   "cell_type": "markdown",
   "metadata": {},
   "source": [
    "                                                 QUINTO ORDEN"
   ]
  },
  {
   "cell_type": "code",
   "execution_count": 49,
   "metadata": {
    "collapsed": false
   },
   "outputs": [
    {
     "data": {
      "text/plain": [
       "2-element Array{TaylorSeries.TaylorN{Float64},1}:\n",
       "  1.0 x + 𝒪(‖x‖²)\n",
       "  1.0 p + 𝒪(‖x‖²)"
      ]
     },
     "execution_count": 49,
     "metadata": {},
     "output_type": "execute_result"
    }
   ],
   "source": [
    "#creamos las variables que representan a x,p de tipo TaylorN\n",
    "x,p = set_variables(Float64,\"x p\",order=1)\n"
   ]
  },
  {
   "cell_type": "code",
   "execution_count": 50,
   "metadata": {
    "collapsed": false
   },
   "outputs": [
    {
     "data": {
      "text/plain": [
       " ( - 0.5831757547123116 + 𝒪(‖x‖¹)) t + ( 0.036765757927698775 + 𝒪(‖x‖¹)) t³ + ( 1.0 p + 𝒪(‖x‖²)) t⁵ + 𝒪(t⁷)"
      ]
     },
     "execution_count": 50,
     "metadata": {},
     "output_type": "execute_result"
    }
   ],
   "source": [
    "#definimos nuestros nuevos polinomios tomando en cuenta todos los coeficientes ya calculados\n",
    "tx=Taylor1([0.,vec[1],x2,x3,x4,x],6)\n",
    "tp=Taylor1([0.,vec[2],p2,p3,p4,p],6)\n"
   ]
  },
  {
   "cell_type": "code",
   "execution_count": 51,
   "metadata": {
    "collapsed": false
   },
   "outputs": [
    {
     "data": {
      "text/plain": [
       "2-element Array{TaylorSeries.Taylor1{TaylorSeries.TaylorN{Float64}},1}:\n",
       "                           ( - 1.3955217641908624 + 𝒪(‖x‖¹)) t + ( 0.04579966486242166 + 𝒪(‖x‖¹)) t³ + ( 1.0 x + 1.0 p + 𝒪(‖x‖²)) t⁵ + 𝒪(t⁷)\n",
       "  ( - 1.0018322839695704 + 𝒪(‖x‖¹)) t + ( 0.18639326303323034 + 𝒪(‖x‖¹)) t³ + ( - 0.026611022998050755 + 0.3 x + 1.3 p + 𝒪(‖x‖²)) t⁵ + 𝒪(t⁷)"
      ]
     },
     "execution_count": 51,
     "metadata": {},
     "output_type": "execute_result"
    }
   ],
   "source": [
    "#aplicamos el mapeo\n",
    "QO=StandarMap(tx,tp,ke)"
   ]
  },
  {
   "cell_type": "code",
   "execution_count": 52,
   "metadata": {
    "collapsed": false
   },
   "outputs": [
    {
     "name": "stdout",
     "output_type": "stream",
     "text": [
      " ( - 1.3955217641908624 + 𝒪(‖x‖¹)) t + ( 0.04579966486242166 + 𝒪(‖x‖¹)) t³ + ( 14.961592193765943 x + 𝒪(‖x‖²)) t⁵ + 𝒪(t⁷) ( - 1.0018322839695704 + 𝒪(‖x‖¹)) t + ( 0.18639326303323037 + 𝒪(‖x‖¹)) t³ + ( 14.961592193765943 p + 𝒪(‖x‖²)) t⁵ + 𝒪(t⁷)"
     ]
    }
   ],
   "source": [
    "#creamos la otra parte de la ecuación cohomo\n",
    "vλ=[0.,λ,λ^2,λ^3,λ^4,λ^5]\n",
    "xλt=Taylor1([0.,vec[1],x2,x3,x4,x].*vλ,6)\n",
    "pλt=Taylor1([0.,vec[2],p2,p3,p4,p].*vλ,6)\n",
    "print(xλt,pλt)"
   ]
  },
  {
   "cell_type": "code",
   "execution_count": 53,
   "metadata": {
    "collapsed": false
   },
   "outputs": [
    {
     "data": {
      "text/plain": [
       "2-element Array{TaylorSeries.Taylor1{TaylorSeries.TaylorN{Float64}},1}:\n",
       "  ( - 1.3955217641908624 + 𝒪(‖x‖¹)) t + ( 0.04579966486242166 + 𝒪(‖x‖¹)) t³ + ( 14.961592193765943 x + 𝒪(‖x‖²)) t⁵ + 𝒪(t⁷)\n",
       "  ( - 1.0018322839695704 + 𝒪(‖x‖¹)) t + ( 0.18639326303323037 + 𝒪(‖x‖¹)) t³ + ( 14.961592193765943 p + 𝒪(‖x‖²)) t⁵ + 𝒪(t⁷)"
      ]
     },
     "execution_count": 53,
     "metadata": {},
     "output_type": "execute_result"
    }
   ],
   "source": [
    "#nos es más útil como vector\n",
    "λvec=[xλt,pλt]"
   ]
  },
  {
   "cell_type": "code",
   "execution_count": 54,
   "metadata": {
    "collapsed": false
   },
   "outputs": [
    {
     "data": {
      "text/plain": [
       "2-element Array{TaylorSeries.Taylor1{TaylorSeries.TaylorN{Float64}},1}:\n",
       "                                                                    ( - 13.961592193765943 x + 1.0 p + 𝒪(‖x‖²)) t⁵ + 𝒪(t⁷)\n",
       "  ( - 2.7755575615628914e-17 + 𝒪(‖x‖¹)) t³ + ( - 0.026611022998050755 + 0.3 x - 13.661592193765943 p + 𝒪(‖x‖²)) t⁵ + 𝒪(t⁷)"
      ]
     },
     "execution_count": 54,
     "metadata": {},
     "output_type": "execute_result"
    }
   ],
   "source": [
    "#escribimos la ecuación cohomo\n",
    "Ecua=QO-λvec"
   ]
  },
  {
   "cell_type": "code",
   "execution_count": 55,
   "metadata": {
    "collapsed": false
   },
   "outputs": [
    {
     "data": {
      "text/plain": [
       " - 0.026611022998050755 + 0.3 x - 13.661592193765943 p + 𝒪(‖x‖²)"
      ]
     },
     "execution_count": 55,
     "metadata": {},
     "output_type": "execute_result"
    }
   ],
   "source": [
    "#obtenemos los coeficientes  que no son cero, es decir los de orden 5\n",
    "x5=Ecua[1].coeffs[6]\n",
    "p5=Ecua[2].coeffs[6]\n"
   ]
  },
  {
   "cell_type": "code",
   "execution_count": 56,
   "metadata": {
    "collapsed": false
   },
   "outputs": [
    {
     "data": {
      "text/plain": [
       "2×2 Array{Float64,2}:\n",
       " -13.9616    1.0   \n",
       "   0.3     -13.6616"
      ]
     },
     "execution_count": 56,
     "metadata": {},
     "output_type": "execute_result"
    }
   ],
   "source": [
    "#les calculamos el jacobiano\n",
    "JQO=jacobian([x5,p5])"
   ]
  },
  {
   "cell_type": "code",
   "execution_count": 57,
   "metadata": {
    "collapsed": false
   },
   "outputs": [
    {
     "data": {
      "text/plain": [
       "190.43757892689632"
      ]
     },
     "execution_count": 57,
     "metadata": {},
     "output_type": "execute_result"
    }
   ],
   "source": [
    "#calculamos el determinante para ver si podemos encontrar una solución\n",
    "det(JQO)"
   ]
  },
  {
   "cell_type": "code",
   "execution_count": 58,
   "metadata": {
    "collapsed": false
   },
   "outputs": [
    {
     "data": {
      "text/plain": [
       "2-element Array{Float64,1}:\n",
       " -0.0     \n",
       "  0.026611"
      ]
     },
     "execution_count": 58,
     "metadata": {},
     "output_type": "execute_result"
    }
   ],
   "source": [
    "#Dado que el determinante es distinto de cero buscamos los términos independientes\n",
    "a= Ecua[1].coeffs[6].coeffs[1].coeffs[1]\n",
    "b= Ecua[2].coeffs[6].coeffs[1].coeffs[1]\n",
    "vecCoef=[-a,-b]"
   ]
  },
  {
   "cell_type": "code",
   "execution_count": 59,
   "metadata": {
    "collapsed": false
   },
   "outputs": [
    {
     "data": {
      "text/plain": [
       "2-element Array{Float64,1}:\n",
       " -0.000139736\n",
       " -0.00195094 "
      ]
     },
     "execution_count": 59,
     "metadata": {},
     "output_type": "execute_result"
    }
   ],
   "source": [
    "#como los térmimos independientes son diferentes de cero, y el determinante de la matriz también \n",
    "# podemos encontrar una solución \n",
    "\n",
    "T4=JQO \\ vecCoef"
   ]
  },
  {
   "cell_type": "code",
   "execution_count": 60,
   "metadata": {
    "collapsed": false
   },
   "outputs": [
    {
     "data": {
      "text/plain": [
       "-0.0019509397937700743"
      ]
     },
     "execution_count": 60,
     "metadata": {},
     "output_type": "execute_result"
    }
   ],
   "source": [
    "#estos són los nuevos coeficientes de orden 5\n",
    "x5=T4[1]\n",
    "p5=T4[2]\n"
   ]
  },
  {
   "cell_type": "code",
   "execution_count": 61,
   "metadata": {
    "collapsed": false
   },
   "outputs": [
    {
     "name": "stdout",
     "output_type": "stream",
     "text": [
      "tx =  ( - 0.8123460094785507 + 𝒪(‖x‖¹)) t + ( 0.009033906934722882 + 𝒪(‖x‖¹)) t³ + ( 1.0 x + 𝒪(‖x‖²)) t⁵ + 𝒪(t⁷)\n",
      "typeof(tx) = TaylorSeries.Taylor1{TaylorSeries.TaylorN{Float64}}\n",
      "QO[1] =  ( - 1.3955217641908624 + 𝒪(‖x‖¹)) t + ( 0.04579966486242166 + 𝒪(‖x‖¹)) t³ + ( 1.0 x + 1.0 p + 𝒪(‖x‖²)) t⁵ + 𝒪(t⁷)\n",
      "typeof(QO[1]) = TaylorSeries.Taylor1{TaylorSeries.TaylorN{Float64}}\n",
      "xλt =  ( - 1.3955217641908624 + 𝒪(‖x‖¹)) t + ( 0.04579966486242166 + 𝒪(‖x‖¹)) t³ + ( 14.961592193765943 x + 𝒪(‖x‖²)) t⁵ + 𝒪(t⁷)\n",
      "typeof(xλt) = TaylorSeries.Taylor1{TaylorSeries.TaylorN{Float64}}\n",
      "Ecua[1] =  ( - 13.961592193765943 x + 1.0 p + 𝒪(‖x‖²)) t⁵ + 𝒪(t⁷)\n",
      "typeof(Ecua[1]) = TaylorSeries.Taylor1{TaylorSeries.TaylorN{Float64}}\n"
     ]
    },
    {
     "data": {
      "text/plain": [
       "TaylorSeries.Taylor1{TaylorSeries.TaylorN{Float64}}"
      ]
     },
     "execution_count": 61,
     "metadata": {},
     "output_type": "execute_result"
    }
   ],
   "source": [
    "#queremos revisar la estabilidad de las variables tx,x\n",
    "@show(tx)\n",
    "@show(typeof(tx))\n",
    "@show(QO[1])\n",
    "@show(typeof(QO[1]))\n",
    "@show(xλt)\n",
    "@show(typeof(xλt))\n",
    "@show(Ecua[1])\n",
    "@show(typeof(Ecua[1]))"
   ]
  },
  {
   "cell_type": "markdown",
   "metadata": {},
   "source": [
    "                                                    Sexto orden"
   ]
  },
  {
   "cell_type": "code",
   "execution_count": 62,
   "metadata": {
    "collapsed": false
   },
   "outputs": [
    {
     "data": {
      "text/plain": [
       "2-element Array{TaylorSeries.TaylorN{Float64},1}:\n",
       "  1.0 x + 𝒪(‖x‖²)\n",
       "  1.0 p + 𝒪(‖x‖²)"
      ]
     },
     "execution_count": 62,
     "metadata": {},
     "output_type": "execute_result"
    }
   ],
   "source": [
    "#creamos las variables que representan a x,p\n",
    "x,p = set_variables(Float64,\"x p\",order=1)"
   ]
  },
  {
   "cell_type": "code",
   "execution_count": 63,
   "metadata": {
    "collapsed": false
   },
   "outputs": [
    {
     "data": {
      "text/plain": [
       " ( - 0.5831757547123116 + 𝒪(‖x‖¹)) t + ( 0.036765757927698775 + 𝒪(‖x‖¹)) t³ + ( - 0.0019509397937700743 + 𝒪(‖x‖¹)) t⁵ + ( 1.0 p + 𝒪(‖x‖²)) t⁶ + 𝒪(t⁸)"
      ]
     },
     "execution_count": 63,
     "metadata": {},
     "output_type": "execute_result"
    }
   ],
   "source": [
    "#creamos las variables que meteremos en el mapeo, las cuales son polinomios que ya tienen hasta el quinto orden calculado\n",
    "tx=Taylor1([0.,vec[1],x2,x3,x4,x5,x],7)\n",
    "tp=Taylor1([0.,vec[2],p2,p3,p4,p5,p],7)"
   ]
  },
  {
   "cell_type": "code",
   "execution_count": 64,
   "metadata": {
    "collapsed": false
   },
   "outputs": [
    {
     "data": {
      "text/plain": [
       "2-element Array{TaylorSeries.Taylor1{TaylorSeries.TaylorN{Float64}},1}:\n",
       "                                        ( - 1.3955217641908624 + 𝒪(‖x‖¹)) t + ( 0.04579966486242166 + 𝒪(‖x‖¹)) t³ + ( - 0.0020906759905228484 + 𝒪(‖x‖¹)) t⁵ + ( 1.0 x + 1.0 p + 𝒪(‖x‖²)) t⁶ + 𝒪(t⁸)\n",
       "  ( - 1.0018322839695704 + 𝒪(‖x‖¹)) t + ( 0.18639326303323034 + 𝒪(‖x‖¹)) t³ + ( - 0.02918916558897768 + 𝒪(‖x‖¹)) t⁵ + ( 0.3 x + 1.3 p + 𝒪(‖x‖²)) t⁶ + ( 0.0038346622037622514 + 𝒪(‖x‖²)) t⁷ + 𝒪(t⁸)"
      ]
     },
     "execution_count": 64,
     "metadata": {},
     "output_type": "execute_result"
    }
   ],
   "source": [
    "#les aplicamos el mapeo\n",
    "SO=StandarMap(tx,tp,ke)"
   ]
  },
  {
   "cell_type": "code",
   "execution_count": 65,
   "metadata": {
    "collapsed": false
   },
   "outputs": [
    {
     "name": "stdout",
     "output_type": "stream",
     "text": [
      " ( - 1.3955217641908624 + 𝒪(‖x‖¹)) t + ( 0.04579966486242166 + 𝒪(‖x‖¹)) t³ + ( - 0.0020906759905228484 + 𝒪(‖x‖¹)) t⁵ + ( 25.7023821003946 x + 𝒪(‖x‖²)) t⁶ + 𝒪(t⁸) ( - 1.0018322839695704 + 𝒪(‖x‖¹)) t + ( 0.18639326303323037 + 𝒪(‖x‖¹)) t³ + ( - 0.029189165588977682 + 𝒪(‖x‖¹)) t⁵ + ( 25.7023821003946 p + 𝒪(‖x‖²)) t⁶ + 𝒪(t⁸)"
     ]
    }
   ],
   "source": [
    "#creamos el otro lado de la ecuación cohomo\n",
    "vλ=[0., λ, λ^2,λ^3, λ^4, λ^5, λ^6]\n",
    "xλt=Taylor1([0.,vec[1],x2,x3,x4,x5,x].*vλ,7)\n",
    "pλt=Taylor1([0.,vec[2],p2,p3,p4,p5,p].*vλ,7)\n",
    "print(xλt,pλt)"
   ]
  },
  {
   "cell_type": "code",
   "execution_count": 66,
   "metadata": {
    "collapsed": false
   },
   "outputs": [
    {
     "data": {
      "text/plain": [
       "2-element Array{TaylorSeries.Taylor1{TaylorSeries.TaylorN{Float64}},1}:\n",
       "  ( - 1.3955217641908624 + 𝒪(‖x‖¹)) t + ( 0.04579966486242166 + 𝒪(‖x‖¹)) t³ + ( - 0.0020906759905228484 + 𝒪(‖x‖¹)) t⁵ + ( 25.7023821003946 x + 𝒪(‖x‖²)) t⁶ + 𝒪(t⁸)\n",
       "   ( - 1.0018322839695704 + 𝒪(‖x‖¹)) t + ( 0.18639326303323037 + 𝒪(‖x‖¹)) t³ + ( - 0.029189165588977682 + 𝒪(‖x‖¹)) t⁵ + ( 25.7023821003946 p + 𝒪(‖x‖²)) t⁶ + 𝒪(t⁸)"
      ]
     },
     "execution_count": 66,
     "metadata": {},
     "output_type": "execute_result"
    }
   ],
   "source": [
    "λvec=[xλt,pλt]"
   ]
  },
  {
   "cell_type": "code",
   "execution_count": 67,
   "metadata": {
    "collapsed": false
   },
   "outputs": [
    {
     "data": {
      "text/plain": [
       "2-element Array{TaylorSeries.Taylor1{TaylorSeries.TaylorN{Float64}},1}:\n",
       "                                                                                                                           ( - 24.7023821003946 x + 1.0 p + 𝒪(‖x‖²)) t⁶ + 𝒪(t⁸)\n",
       "  ( - 2.7755575615628914e-17 + 𝒪(‖x‖¹)) t³ + ( 3.469446951953614e-18 + 𝒪(‖x‖¹)) t⁵ + ( 0.3 x - 24.4023821003946 p + 𝒪(‖x‖²)) t⁶ + ( 0.0038346622037622514 + 𝒪(‖x‖²)) t⁷ + 𝒪(t⁸)"
      ]
     },
     "execution_count": 67,
     "metadata": {},
     "output_type": "execute_result"
    }
   ],
   "source": [
    "#escribimos la ecuación cohomo para obtener el sistema asociado a este orden\n",
    "Ecua=SO-λvec"
   ]
  },
  {
   "cell_type": "code",
   "execution_count": 68,
   "metadata": {
    "collapsed": false
   },
   "outputs": [
    {
     "data": {
      "text/plain": [
       " 0.3 x - 24.4023821003946 p + 𝒪(‖x‖²)"
      ]
     },
     "execution_count": 68,
     "metadata": {},
     "output_type": "execute_result"
    }
   ],
   "source": [
    "#extraemos solo los coeficientes que nos interesa calcular, en principio los demás términos deben ser cero pues ya los \n",
    "# calculamos previamente\n",
    "x6=Ecua[1].coeffs[7]\n",
    "p6=Ecua[2].coeffs[7]"
   ]
  },
  {
   "cell_type": "code",
   "execution_count": 69,
   "metadata": {
    "collapsed": false
   },
   "outputs": [
    {
     "data": {
      "text/plain": [
       "2×2 Array{Float64,2}:\n",
       " -24.7024    1.0   \n",
       "   0.3     -24.4024"
      ]
     },
     "execution_count": 69,
     "metadata": {},
     "output_type": "execute_result"
    }
   ],
   "source": [
    "#calculamos el jacobiano para obetener el sistema\n",
    "JSO=jacobian([x6,p6])"
   ]
  },
  {
   "cell_type": "code",
   "execution_count": 70,
   "metadata": {
    "collapsed": false
   },
   "outputs": [
    {
     "data": {
      "text/plain": [
       "602.4969668037771"
      ]
     },
     "execution_count": 70,
     "metadata": {},
     "output_type": "execute_result"
    }
   ],
   "source": [
    "#calculamos el determinante del jacobiano para saber si hay solución\n",
    "det(JSO)"
   ]
  },
  {
   "cell_type": "code",
   "execution_count": 71,
   "metadata": {
    "collapsed": false
   },
   "outputs": [
    {
     "data": {
      "text/plain": [
       "2-element Array{Float64,1}:\n",
       " -0.0\n",
       " -0.0"
      ]
     },
     "execution_count": 71,
     "metadata": {},
     "output_type": "execute_result"
    }
   ],
   "source": [
    "#dado que el determinante del jacobiano es distinto de cero y los términos independientes son iguales a cero \n",
    "# la solución a este sistema es la trivial\n",
    "T6=JSO\\ [0.,0.]\n"
   ]
  },
  {
   "cell_type": "code",
   "execution_count": 72,
   "metadata": {
    "collapsed": false
   },
   "outputs": [
    {
     "data": {
      "text/plain": [
       "-0.0"
      ]
     },
     "execution_count": 72,
     "metadata": {},
     "output_type": "execute_result"
    }
   ],
   "source": [
    "#por tanto los coeficientes de orden 6 son cero\n",
    "x6=T6[1]\n",
    "p6=T6[2]"
   ]
  },
  {
   "cell_type": "code",
   "execution_count": 73,
   "metadata": {
    "collapsed": false
   },
   "outputs": [
    {
     "name": "stdout",
     "output_type": "stream",
     "text": [
      "tx =  ( - 0.8123460094785507 + 𝒪(‖x‖¹)) t + ( 0.009033906934722882 + 𝒪(‖x‖¹)) t³ + ( - 0.0001397361967527742 + 𝒪(‖x‖¹)) t⁵ + ( 1.0 x + 𝒪(‖x‖²)) t⁶ + 𝒪(t⁸)"
     ]
    }
   ],
   "source": [
    "#queremos revisar la estabilidad de las variables tx,x\n",
    "@show(tx)\n",
    "@show(typeof(tx))\n",
    "@show(SO[1])\n",
    "@show(typeof(SO[1]))\n",
    "@show(xλt)\n",
    "@show(typeof(xλt))\n",
    "@show(Ecua[1])\n",
    "@show(typeof(Ecua[1]))"
   ]
  },
  {
   "cell_type": "markdown",
   "metadata": {},
   "source": [
    "                                                Séptimo orden"
   ]
  },
  {
   "cell_type": "code",
   "execution_count": 74,
   "metadata": {
    "collapsed": false
   },
   "outputs": [
    {
     "data": {
      "text/plain": [
       "2-element Array{TaylorSeries.TaylorN{Float64},1}:\n",
       "  1.0 x + 𝒪(‖x‖²)\n",
       "  1.0 p + 𝒪(‖x‖²)"
      ]
     },
     "execution_count": 74,
     "metadata": {},
     "output_type": "execute_result"
    }
   ],
   "source": [
    "#creamos las variables de x,p\n",
    "x,p = set_variables(Float64,\"x p\",order=1)"
   ]
  },
  {
   "cell_type": "code",
   "execution_count": 75,
   "metadata": {
    "collapsed": false
   },
   "outputs": [
    {
     "data": {
      "text/plain": [
       " ( - 0.5831757547123116 + 𝒪(‖x‖¹)) t + ( 0.036765757927698775 + 𝒪(‖x‖¹)) t³ + ( - 0.0019509397937700743 + 𝒪(‖x‖¹)) t⁵ + ( 1.0 p + 𝒪(‖x‖²)) t⁷ + 𝒪(t⁹)"
      ]
     },
     "execution_count": 75,
     "metadata": {},
     "output_type": "execute_result"
    }
   ],
   "source": [
    "#calculamos los polinomios asociados a la variedad que ya tienen todos los términos previos\n",
    "tx=Taylor1([0.,vec[1],x2,x3,x4,x5,x6,x],8)\n",
    "tp=Taylor1([0.,vec[2],p2,p3,p4,p5,p6,p],8)\n"
   ]
  },
  {
   "cell_type": "code",
   "execution_count": 76,
   "metadata": {
    "collapsed": false
   },
   "outputs": [
    {
     "data": {
      "text/plain": [
       "2-element Array{TaylorSeries.Taylor1{TaylorSeries.TaylorN{Float64}},1}:\n",
       "                        ( - 1.3955217641908624 + 𝒪(‖x‖¹)) t + ( 0.04579966486242166 + 𝒪(‖x‖¹)) t³ + ( - 0.0020906759905228484 + 𝒪(‖x‖¹)) t⁵ + ( 1.0 x + 1.0 p + 𝒪(‖x‖²)) t⁷ + 𝒪(t⁹)\n",
       "  ( - 1.0018322839695704 + 𝒪(‖x‖¹)) t + ( 0.18639326303323034 + 𝒪(‖x‖¹)) t³ + ( - 0.02918916558897768 + 𝒪(‖x‖¹)) t⁵ + ( 0.0038346622037622514 + 0.3 x + 1.3 p + 𝒪(‖x‖²)) t⁷ + 𝒪(t⁹)"
      ]
     },
     "execution_count": 76,
     "metadata": {},
     "output_type": "execute_result"
    }
   ],
   "source": [
    "#les aplicamos el mapeo\n",
    "SEO=StandarMap(tx,tp,ke)"
   ]
  },
  {
   "cell_type": "code",
   "execution_count": 77,
   "metadata": {
    "collapsed": false
   },
   "outputs": [
    {
     "name": "stdout",
     "output_type": "stream",
     "text": [
      " ( - 1.3955217641908624 + 𝒪(‖x‖¹)) t + ( 0.04579966486242166 + 𝒪(‖x‖¹)) t³ + ( - 0.0020906759905228484 + 𝒪(‖x‖¹)) t⁵ + ( 44.15388663714164 x + 𝒪(‖x‖²)) t⁷ + 𝒪(t⁹) ( - 1.0018322839695704 + 𝒪(‖x‖¹)) t + ( 0.18639326303323037 + 𝒪(‖x‖¹)) t³ + ( - 0.029189165588977682 + 𝒪(‖x‖¹)) t⁵ + ( 44.15388663714164 p + 𝒪(‖x‖²)) t⁷ + 𝒪(t⁹)"
     ]
    }
   ],
   "source": [
    "#calculamos el otro lado de la ecuación cohomo\n",
    "vλ=[0., λ, λ^2,λ^3, λ^4, λ^5, λ^6,λ^7]\n",
    "xλt=Taylor1([0,vec[1],x2,x3,x4,x5,x6,x].*vλ,8)\n",
    "pλt=Taylor1([0,vec[2],p2,p3,p4,p5,p6,p].*vλ,8)\n",
    "print(xλt,pλt)"
   ]
  },
  {
   "cell_type": "code",
   "execution_count": 78,
   "metadata": {
    "collapsed": false
   },
   "outputs": [
    {
     "data": {
      "text/plain": [
       "2-element Array{TaylorSeries.Taylor1{TaylorSeries.TaylorN{Float64}},1}:\n",
       "  ( - 1.3955217641908624 + 𝒪(‖x‖¹)) t + ( 0.04579966486242166 + 𝒪(‖x‖¹)) t³ + ( - 0.0020906759905228484 + 𝒪(‖x‖¹)) t⁵ + ( 44.15388663714164 x + 𝒪(‖x‖²)) t⁷ + 𝒪(t⁹)\n",
       "   ( - 1.0018322839695704 + 𝒪(‖x‖¹)) t + ( 0.18639326303323037 + 𝒪(‖x‖¹)) t³ + ( - 0.029189165588977682 + 𝒪(‖x‖¹)) t⁵ + ( 44.15388663714164 p + 𝒪(‖x‖²)) t⁷ + 𝒪(t⁹)"
      ]
     },
     "execution_count": 78,
     "metadata": {},
     "output_type": "execute_result"
    }
   ],
   "source": [
    "λvec=[xλt,pλt]"
   ]
  },
  {
   "cell_type": "code",
   "execution_count": 79,
   "metadata": {
    "collapsed": false
   },
   "outputs": [
    {
     "data": {
      "text/plain": [
       "2-element Array{TaylorSeries.Taylor1{TaylorSeries.TaylorN{Float64}},1}:\n",
       "                                                                                                           ( - 43.15388663714164 x + 1.0 p + 𝒪(‖x‖²)) t⁷ + 𝒪(t⁹)\n",
       "  ( - 2.7755575615628914e-17 + 𝒪(‖x‖¹)) t³ + ( 3.469446951953614e-18 + 𝒪(‖x‖¹)) t⁵ + ( 0.0038346622037622514 + 0.3 x - 42.85388663714164 p + 𝒪(‖x‖²)) t⁷ + 𝒪(t⁹)"
      ]
     },
     "execution_count": 79,
     "metadata": {},
     "output_type": "execute_result"
    }
   ],
   "source": [
    "#escribimos la ecua. cohomo\n",
    "Ecua=SEO-λvec"
   ]
  },
  {
   "cell_type": "code",
   "execution_count": 80,
   "metadata": {
    "collapsed": false
   },
   "outputs": [
    {
     "data": {
      "text/plain": [
       " 0.0038346622037622514 + 0.3 x - 42.85388663714164 p + 𝒪(‖x‖²)"
      ]
     },
     "execution_count": 80,
     "metadata": {},
     "output_type": "execute_result"
    }
   ],
   "source": [
    "#dado que los términos anteriores ya los calculamos solo extraemos los términos de orden 7 \n",
    "x7=Ecua[1].coeffs[8]\n",
    "p7=Ecua[2].coeffs[8]"
   ]
  },
  {
   "cell_type": "code",
   "execution_count": 81,
   "metadata": {
    "collapsed": false
   },
   "outputs": [
    {
     "data": {
      "text/plain": [
       "2×2 Array{Float64,2}:\n",
       " -43.1539    1.0   \n",
       "   0.3     -42.8539"
      ]
     },
     "execution_count": 81,
     "metadata": {},
     "output_type": "execute_result"
    }
   ],
   "source": [
    "#los ponemos como un vector y le calculamos el jacobianos para obtener el sistema\n",
    "JSEO=jacobian([x7,p7])"
   ]
  },
  {
   "cell_type": "code",
   "execution_count": 82,
   "metadata": {
    "collapsed": false
   },
   "outputs": [
    {
     "data": {
      "text/plain": [
       "1849.0117659001294"
      ]
     },
     "execution_count": 82,
     "metadata": {},
     "output_type": "execute_result"
    }
   ],
   "source": [
    "#calculamos el determinante del sistema para saber si hay solución\n",
    "det(JSEO)"
   ]
  },
  {
   "cell_type": "code",
   "execution_count": 83,
   "metadata": {
    "collapsed": false
   },
   "outputs": [
    {
     "data": {
      "text/plain": [
       "2-element Array{Float64,1}:\n",
       " -0.0       \n",
       " -0.00383466"
      ]
     },
     "execution_count": 83,
     "metadata": {},
     "output_type": "execute_result"
    }
   ],
   "source": [
    "#extraemos los términos independienets de la ecuación cohomo\n",
    "a= Ecua[1].coeffs[8].coeffs[1].coeffs[1]\n",
    "b= Ecua[2].coeffs[8].coeffs[1].coeffs[1]\n",
    "vecCoef=[-a,-b]"
   ]
  },
  {
   "cell_type": "code",
   "execution_count": 84,
   "metadata": {
    "collapsed": false
   },
   "outputs": [
    {
     "data": {
      "text/plain": [
       "2-element Array{Float64,1}:\n",
       " 2.0739e-6 \n",
       " 8.94968e-5"
      ]
     },
     "execution_count": 84,
     "metadata": {},
     "output_type": "execute_result"
    }
   ],
   "source": [
    "#dado que el determinante de la matriz es distinto de cero y los términos independientes también, podemos encontrar \n",
    "# una solución distinta de la trivial\n",
    "T7=JSEO\\vecCoef"
   ]
  },
  {
   "cell_type": "code",
   "execution_count": 85,
   "metadata": {
    "collapsed": false
   },
   "outputs": [
    {
     "data": {
      "text/plain": [
       "8.949676853588288e-5"
      ]
     },
     "execution_count": 85,
     "metadata": {},
     "output_type": "execute_result"
    }
   ],
   "source": [
    "#estos nuevos elementos son los coeficientes de orden 7 en el polinomio\n",
    "x7=T7[1]\n",
    "p7=T7[2]"
   ]
  },
  {
   "cell_type": "code",
   "execution_count": 86,
   "metadata": {
    "collapsed": false
   },
   "outputs": [
    {
     "name": "stdout",
     "output_type": "stream",
     "text": [
      "tx =  ( - 0.8123460094785507 + 𝒪(‖x‖¹)) t + ( 0.009033906934722882 + 𝒪(‖x‖¹)) t³ + ( - 0.0001397361967527742 + 𝒪(‖x‖¹)) t⁵ + ( 1.0 x + 𝒪(‖x‖²)) t⁷ + 𝒪(t⁹)\n",
      "typeof(tx) = TaylorSeries.Taylor1{TaylorSeries.TaylorN{Float64}}\n",
      "SEO[1] =  ( - 1.3955217641908624 + 𝒪(‖x‖¹)) t + ( 0.04579966486242166 + 𝒪(‖x‖¹)) t³ + ( - 0.0020906759905228484 + 𝒪(‖x‖¹)) t⁵ + ( 1.0 x + 1.0 p + 𝒪(‖x‖²)) t⁷ + 𝒪(t⁹)\n",
      "typeof(SEO[1]) = TaylorSeries.Taylor1{TaylorSeries.TaylorN{Float64}}\n",
      "xλt =  ( - 1.3955217641908624 + 𝒪(‖x‖¹)) t + ( 0.04579966486242166 + 𝒪(‖x‖¹)) t³ + ( - 0.0020906759905228484 + 𝒪(‖x‖¹)) t⁵ + ( 44.15388663714164 x + 𝒪(‖x‖²)) t⁷ + 𝒪(t⁹)\n",
      "typeof(xλt) = TaylorSeries.Taylor1{TaylorSeries.TaylorN{Float64}}\n",
      "Ecua[1] =  ( - 43.15388663714164 x + 1.0 p + 𝒪(‖x‖²)) t⁷ + 𝒪(t⁹)\n",
      "typeof(Ecua[1]) = TaylorSeries.Taylor1{TaylorSeries.TaylorN{Float64}}\n"
     ]
    },
    {
     "data": {
      "text/plain": [
       "TaylorSeries.Taylor1{TaylorSeries.TaylorN{Float64}}"
      ]
     },
     "execution_count": 86,
     "metadata": {},
     "output_type": "execute_result"
    }
   ],
   "source": [
    "#queremos revisar la estabilidad de las variables tx,x\n",
    "@show(tx)\n",
    "@show(typeof(tx))\n",
    "@show(SEO[1])\n",
    "@show(typeof(SEO[1]))\n",
    "@show(xλt)\n",
    "@show(typeof(xλt))\n",
    "@show(Ecua[1])\n",
    "@show(typeof(Ecua[1]))"
   ]
  },
  {
   "cell_type": "markdown",
   "metadata": {},
   "source": [
    "                                            Resultados gráficos"
   ]
  },
  {
   "cell_type": "markdown",
   "metadata": {},
   "source": [
    "Nos quedaremos solo con estos términos, ya que el fin de este notebook era visualizar como funcionaba el método en específico para poder implementarlo.Ahora graficaremos la variedad que calculamos al igual que el error cometido. Para ello primero debemos tomar el polinomio de grado 7 que calculamos y evaluarlo hasta cierto parámetro t y graficarlo sobre el espacio fase del mapeo. Para el error recordemos que en el notebook 4 lo calculamos, dado que el error no forma parte del método en si, si no que es un desarrollo aparte aquí solo anexaremos las funciones que ya usamos en el notebook pasado. "
   ]
  },
  {
   "cell_type": "code",
   "execution_count": 111,
   "metadata": {
    "collapsed": false
   },
   "outputs": [
    {
     "data": {
      "text/plain": [
       " - 0.5831757547123116 t + 0.036765757927698775 t³ - 0.0019509397937700743 t⁵ + 8.949676853588288e-5 t⁷ + 𝒪(t⁸)"
      ]
     },
     "execution_count": 111,
     "metadata": {},
     "output_type": "execute_result"
    }
   ],
   "source": [
    "#definimos dos polinomios con los coeficientes que calculamos.\n",
    "tx=Taylor1([0.,vec[1],x2,x3,x4,x5,x6,x7],7)\n",
    "tp=Taylor1([0.,vec[2],p2,p3,p4,p5,p6,p7],7)\n",
    "\n"
   ]
  },
  {
   "cell_type": "code",
   "execution_count": 112,
   "metadata": {
    "collapsed": false
   },
   "outputs": [
    {
     "data": {
      "text/plain": [
       "2-element Array{TaylorSeries.Taylor1{Float64},1}:\n",
       "  0.8123460094785507 t - 0.009033906934722882 t³ + 0.0001397361967527742 t⁵ - 2.073898216594352e-6 t⁷ + 𝒪(t⁸)\n",
       "  0.5831757547123116 t - 0.036765757927698775 t³ + 0.0019509397937700743 t⁵ - 8.949676853588288e-5 t⁷ + 𝒪(t⁸)"
      ]
     },
     "execution_count": 112,
     "metadata": {},
     "output_type": "execute_result"
    }
   ],
   "source": [
    "# los ponemos dentro un un vector solución\n",
    "E=[-tx,-tp]\n"
   ]
  },
  {
   "cell_type": "code",
   "execution_count": 113,
   "metadata": {
    "collapsed": false
   },
   "outputs": [
    {
     "data": {
      "text/plain": [
       " - 1.0018322839695704 t + 0.18639326303323037 t³ - 0.029189165588977682 t⁵ + 0.003951630172323878 t⁷ + 𝒪(t⁸)"
      ]
     },
     "execution_count": 113,
     "metadata": {},
     "output_type": "execute_result"
    }
   ],
   "source": [
    "#también necesitaremos el vector de lambas \n",
    "vλ=[0., λ, λ^2,λ^3, λ^4, λ^5, λ^6, λ^7]\n",
    "λx_pol=Taylor1([0,vec[1],x2,x3,x4,x5,x6,x7].*vλ,7)\n",
    "λp_pol=Taylor1([0,vec[2],p2,p3,p4,p5,p6,p7].*vλ,7)"
   ]
  },
  {
   "cell_type": "code",
   "execution_count": 114,
   "metadata": {
    "collapsed": false
   },
   "outputs": [
    {
     "data": {
      "text/plain": [
       "2-element Array{TaylorSeries.Taylor1{Float64},1}:\n",
       "  1.3955217641908624 t - 0.04579966486242166 t³ + 0.0020906759905228484 t⁵ - 9.157066675247724e-5 t⁷ + 𝒪(t⁸)\n",
       "   1.0018322839695704 t - 0.18639326303323037 t³ + 0.029189165588977682 t⁵ - 0.003951630172323878 t⁷ + 𝒪(t⁸)"
      ]
     },
     "execution_count": 114,
     "metadata": {},
     "output_type": "execute_result"
    }
   ],
   "source": [
    "λvec=[-λx_pol,-λp_pol]"
   ]
  },
  {
   "cell_type": "markdown",
   "metadata": {},
   "source": [
    "Queremos observar como se ve el polinomio que obtuvimos hasta ahora. Para ello vamos a graficarlo."
   ]
  },
  {
   "cell_type": "code",
   "execution_count": 91,
   "metadata": {
    "collapsed": false
   },
   "outputs": [],
   "source": [
    "using PyPlot"
   ]
  },
  {
   "cell_type": "code",
   "execution_count": 92,
   "metadata": {
    "collapsed": false
   },
   "outputs": [
    {
     "data": {
      "text/plain": [
       "evaluar (generic function with 1 method)"
      ]
     },
     "execution_count": 92,
     "metadata": {},
     "output_type": "execute_result"
    }
   ],
   "source": [
    "#esta es una función para evaluar el los polinomios que calculamos\n",
    "# recibe como entrada el tiempo que es el valor del parámetro t, el paso\n",
    "# que define en pasos de cuanto queremos ir evaluando y claro los polinomios A,B\n",
    "function evaluar(Tiempo, paso,A,B)\n",
    "    ValX=Float64[]\n",
    "    \n",
    "    ValY=Float64[]\n",
    "\n",
    "    for t = 0:paso:Tiempo\n",
    "        #=\n",
    "        x = mod2pi(evaluate(A,t)-2*pi)\n",
    "        y = mod2pi(evaluate(B,t)-2*pi)\n",
    "        =#\n",
    "        x = mod2pi(evaluate(A,t))\n",
    "        y = mod2pi(evaluate(B,t))\n",
    "        push!(ValX,x)\n",
    "        push!(ValY,y)\n",
    "        \n",
    "    end\n",
    "    p = plot(ValX,ValY,color=\"red\",linestyle=\"-\",marker=\".\")\n",
    "    \n",
    "end"
   ]
  },
  {
   "cell_type": "code",
   "execution_count": 94,
   "metadata": {
    "collapsed": false
   },
   "outputs": [
    {
     "data": {
      "text/plain": [
       "iterarMap (generic function with 1 method)"
      ]
     },
     "execution_count": 94,
     "metadata": {},
     "output_type": "execute_result"
    }
   ],
   "source": [
    "function iterarMap(f,x_i,p_i,n, k)   #Definimos una función para iterar el mapeo\n",
    "    \n",
    "    x = x_i                      #    \n",
    "                                     #Damos condiciones iniciales\n",
    "    y = p_i                          #\n",
    "\n",
    "    iteradosMX = [x_i]\n",
    "\n",
    "    iteradosMY = [p_i]               #Definimos dos listas que tendran los valores de cada par ordenado de theta y P, y agregamos las condiciones iniciales\n",
    "\n",
    "    for i=0:n              #iniciamos un ciclo de iteraciones donde se calculan x_n, y_n y se agregan a lalista correspodiente            \n",
    "\n",
    "        F = f(x_i,p_i, k)\n",
    "        \n",
    "        push!(iteradosMX,F[1])\n",
    "        \n",
    "        push!(iteradosMY,F[2])\n",
    "            \n",
    "\n",
    "        x_i = F[1]\n",
    "\n",
    "        p_i = F[2]\n",
    "    end\n",
    "\n",
    "    return iteradosMX, iteradosMY  #La funcion iterados regresa las listas que corresponden a la trayectoria del \n",
    "end"
   ]
  },
  {
   "cell_type": "code",
   "execution_count": 95,
   "metadata": {
    "collapsed": false
   },
   "outputs": [
    {
     "data": {
      "text/plain": [
       "graficarMap (generic function with 1 method)"
      ]
     },
     "execution_count": 95,
     "metadata": {},
     "output_type": "execute_result"
    }
   ],
   "source": [
    "#esta función llama la función que itera el mapeo para crear su gráfica.\n",
    "function graficarMap(k)\n",
    "    n = 100\n",
    "    s=2pi/18\n",
    "\n",
    "    for p_i=0:s:2pi\n",
    "        for x_i =0:s:2pi\n",
    "            t,p = iterarMap(StandarMap,x_i,p_i,n, k)\n",
    "            #p = scatter(p,t,marker=\".\",s=0.1)\n",
    "            p = scatter(t,p,marker=\".\",s=0.1)\n",
    "        end\n",
    "    end\n",
    "    \n",
    "end"
   ]
  },
  {
   "cell_type": "code",
   "execution_count": 96,
   "metadata": {
    "collapsed": false
   },
   "outputs": [
    {
     "data": {
      "text/plain": [
       "Graficar (generic function with 1 method)"
      ]
     },
     "execution_count": 96,
     "metadata": {},
     "output_type": "execute_result"
    }
   ],
   "source": [
    "#esta función solo llama a las anteriores para que todo sea más compacto, y grafica tamto el mapeo como la variedad\n",
    "function Graficar(Tiempo, paso, k,A,B)\n",
    "    graficarMap(k)\n",
    "    evaluar(Tiempo,paso,A,B)\n",
    "end"
   ]
  },
  {
   "cell_type": "code",
   "execution_count": 97,
   "metadata": {
    "collapsed": false
   },
   "outputs": [
    {
     "data": {
      "text/plain": [
       "PolinomioCohomo (generic function with 1 method)"
      ]
     },
     "execution_count": 97,
     "metadata": {},
     "output_type": "execute_result"
    }
   ],
   "source": [
    "function PolinomioCohomo(Pol_vec,λvec, k)\n",
    "    Map_vec=StandarMap(Pol_vec[1],Pol_vec[2],k)\n",
    "    Ec_Cohomo = Map_vec-λvec\n",
    "    return Ec_Cohomo\n",
    "end"
   ]
  },
  {
   "cell_type": "code",
   "execution_count": 104,
   "metadata": {
    "collapsed": false
   },
   "outputs": [
    {
     "name": "stderr",
     "output_type": "stream",
     "text": [
      "WARNING: Method definition Err(Any, Any, Any) in module Main at In[98]:2 overwritten at In[104]:2.\n"
     ]
    },
    {
     "data": {
      "text/plain": [
       "Err (generic function with 1 method)"
      ]
     },
     "execution_count": 104,
     "metadata": {},
     "output_type": "execute_result"
    }
   ],
   "source": [
    "function Err(Ec_Cohomo,Tiempo,paso)\n",
    "    Val=Float64[]\n",
    "    Tiem=Float64[]\n",
    "    E1=Ec_Cohomo[1]\n",
    "    E2=Ec_Cohomo[2]\n",
    "    for t = 0:paso:Tiempo\n",
    "        x = evaluate(E1,t)\n",
    "        y = evaluate(E2,t)\n",
    "        E=[x,y]\n",
    "        \n",
    "        norma = norm(E,Inf)\n",
    "        #print(norma)\n",
    "        #print(\"\\n\")\n",
    "        push!(Val,norma)\n",
    "        push!(Tiem,t)\n",
    "    \n",
    "    end\n",
    "    return Tiem,Val\n",
    "end"
   ]
  },
  {
   "cell_type": "code",
   "execution_count": 105,
   "metadata": {
    "collapsed": false
   },
   "outputs": [
    {
     "name": "stderr",
     "output_type": "stream",
     "text": [
      "WARNING: Method definition ErrorE(Any, Any, Any, Any, Any) in module Main at In[99]:2 overwritten at In[105]:2.\n"
     ]
    },
    {
     "data": {
      "text/plain": [
       "ErrorE (generic function with 1 method)"
      ]
     },
     "execution_count": 105,
     "metadata": {},
     "output_type": "execute_result"
    }
   ],
   "source": [
    "function ErrorE(Pol_vec,λvec,k,T,paso)\n",
    "    EcuaCohomo = PolinomioCohomo(Pol_vec,λvec,k)\n",
    "    Tiempo,valor=Err(EcuaCohomo,T,paso)\n",
    "    return Tiempo, valor\n",
    "end"
   ]
  },
  {
   "cell_type": "code",
   "execution_count": 106,
   "metadata": {
    "collapsed": false
   },
   "outputs": [
    {
     "name": "stderr",
     "output_type": "stream",
     "text": [
      "WARNING: Method definition CalculoVariedad(Any, Any, Any, Any, Any) in module Main at In[102]:2 overwritten at In[106]:2.\n"
     ]
    },
    {
     "data": {
      "text/plain": [
       "CalculoVariedad (generic function with 1 method)"
      ]
     },
     "execution_count": 106,
     "metadata": {},
     "output_type": "execute_result"
    }
   ],
   "source": [
    "function CalculoVariedad(k,Tiempo,paso,Pol_vec,λvec)\n",
    "    B=Pol_vec[2]\n",
    "    A=Pol_vec[1]\n",
    "    #Graficar(Tiempo,paso,k,B,A)\n",
    "    Graficar(Tiempo,paso,k,A,B)\n",
    "    x1,y1=ErrorE(Pol_vec,λvec, k,Tiempo,paso)\n",
    "    \n",
    "\n",
    "    return A,B,x1,y1\n",
    "end\n",
    "    "
   ]
  },
  {
   "cell_type": "markdown",
   "metadata": {},
   "source": [
    "Tenemos todas las funciones resumidas en la función CalculoVariedad. Dados los parámetros iniciales como son el punto fijo, la constante del mapeo , el valor hasta el cual se quiere evaluar el parámetro  y el paso que debe ir tomando, calcula los polinomios y genera un gráfica tanto de la variedad sobre el espacio fase como del error. "
   ]
  },
  {
   "cell_type": "code",
   "execution_count": null,
   "metadata": {
    "collapsed": true
   },
   "outputs": [],
   "source": [
    "f(x)= x^(sin(x)/x)"
   ]
  },
  {
   "cell_type": "code",
   "execution_count": 117,
   "metadata": {
    "collapsed": false
   },
   "outputs": [
    {
     "data": {
      "image/png": "[encoded data removed]",
      "text/plain": [
       "PyPlot.Figure(PyObject <matplotlib.figure.Figure object at 0x7f4fec0a3210>)"
      ]
     },
     "metadata": {},
     "output_type": "display_data"
    },
    {
     "data": {
      "text/plain": [
       "( 0.8123460094785507 t - 0.009033906934722882 t³ + 0.0001397361967527742 t⁵ - 2.073898216594352e-6 t⁷ + 𝒪(t⁸), 0.5831757547123116 t - 0.036765757927698775 t³ + 0.0019509397937700743 t⁵ - 8.949676853588288e-5 t⁷ + 𝒪(t⁸),[0.0,0.125,0.25,0.375,0.5,0.625,0.75,0.875,1.0,1.125  …  1.75,1.875,2.0,2.125,2.25,2.375,2.5,2.625,2.75,2.875],[0.0,5.4316e-20,4.37069e-19,1.4894e-18,3.57787e-18,7.10714e-18,1.25327e-17,2.03736e-17,3.1225e-17,4.57712e-17  …  2.05697e-16,2.63361e-16,3.33067e-16,4.16667e-16,5.16219e-16,6.33994e-16,7.72494e-16,9.34461e-16,1.12289e-15,1.34105e-15])"
      ]
     },
     "execution_count": 117,
     "metadata": {},
     "output_type": "execute_result"
    }
   ],
   "source": [
    "VariedadX, VariedadP,ErrorT,ErrorX=CalculoVariedad(ke,2.9,0.125,E,λvec)"
   ]
  },
  {
   "cell_type": "code",
   "execution_count": 118,
   "metadata": {
    "collapsed": false
   },
   "outputs": [
    {
     "data": {
      "image/png": "[encoded data removed]",
      "text/plain": [
       "PyPlot.Figure(PyObject <matplotlib.figure.Figure object at 0x7f4fec0af9d0>)"
      ]
     },
     "metadata": {},
     "output_type": "display_data"
    },
    {
     "data": {
      "text/plain": [
       "1-element Array{Any,1}:\n",
       " PyObject <matplotlib.lines.Line2D object at 0x7f4fec0ae110>"
      ]
     },
     "execution_count": 118,
     "metadata": {},
     "output_type": "execute_result"
    }
   ],
   "source": [
    "plot(ErrorT,ErrorX)"
   ]
  },
  {
   "cell_type": "markdown",
   "metadata": {
    "collapsed": true
   },
   "source": [
    "Podemos notar que el error crece de manera casi exponencial, aunque el orden del error para t=3.0  es menor a $10^{-15}$"
   ]
  },
  {
   "cell_type": "code",
   "execution_count": null,
   "metadata": {
    "collapsed": true
   },
   "outputs": [],
   "source": []
  }
 ],
 "metadata": {
  "kernelspec": {
   "display_name": "Julia 0.5.0",
   "language": "julia",
   "name": "julia-0.5"
  },
  "language_info": {
   "file_extension": ".jl",
   "mimetype": "application/julia",
   "name": "julia",
   "version": "0.5.0"
  }
 },
 "nbformat": 4,
 "nbformat_minor": 0
}
