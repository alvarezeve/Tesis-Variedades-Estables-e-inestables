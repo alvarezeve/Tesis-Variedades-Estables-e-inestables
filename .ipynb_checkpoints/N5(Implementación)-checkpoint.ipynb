{
 "cells": [
  {
   "cell_type": "markdown",
   "metadata": {},
   "source": [
    "# Implementación del método"
   ]
  },
  {
   "cell_type": "markdown",
   "metadata": {},
   "source": [
    "Este notebook muestra paso a paso cómo funciona el método de parametrización para el mapeo estándar. Recordemos que antes ya se calcularon los puntos fijos del mapeo y se hizo un análisis de los mismos por lo que nos concentraremos en sólo aplicar de manera clara y paso a paso el método. Hacerlo de esta manera nos ayudará a comprender mejor cómo se implementó método de manera general. \n",
    "Dado que conocemos ya los puntos fijos entonces nos concentraremos en calcular la variedad inestable, la cual se podrá elegir en términos de escoger el valor propio con el signo negativo que ya se calculó en el N3. \n",
    "\n",
    "En primer lugar hay que notar que como queremos implementar eso de manera general tenemos que hacer el cálculo de los valores propios en un inicio. Luego de esto se puede proceder con el calculo de cada variedad. \n"
   ]
  },
  {
   "cell_type": "markdown",
   "metadata": {},
   "source": [
    "Como ya sabemos cuáles son los puntos fijos necesitamos ahora calcular los polinomios que serán la parametrización de la variedad.Para ello debemos resolver la ecuación de invariancia.\n",
    "$$F_{\\epsilon}\\circ P=P\\circ \\lambda$$"
   ]
  },
  {
   "cell_type": "code",
   "execution_count": 57,
   "metadata": {},
   "outputs": [],
   "source": [
    "#usaremos el paquete de TaylorSeries\n",
    "using TaylorSeries\n",
    "using LinearAlgebra\n"
   ]
  },
  {
   "cell_type": "code",
   "execution_count": 7,
   "metadata": {},
   "outputs": [
    {
     "data": {
      "text/plain": [
       "EstandarMap"
      ]
     },
     "execution_count": 7,
     "metadata": {},
     "output_type": "execute_result"
    }
   ],
   "source": [
    "#necesitamos definir el mapeo estandar \n",
    "\"\"\"EstandarMap(θ,p,k)\n",
    "   \n",
    "   Función que define el mapeo estándar.\n",
    "  \n",
    "\n",
    "   Argumentos:\n",
    "   -θ : posición\n",
    "   -p : momento\n",
    "   -k : constante del mapeo\n",
    "\"\"\"\n",
    "function EstandarMap(θ,p,k)\n",
    "    \n",
    "    θ_n = mod2pi(θ+p)\n",
    "    p_n = mod2pi(p+k*sin(θ_n))\n",
    "    \n",
    "    return [θ_n,p_n]\n",
    "    \n",
    "    \n",
    "end\n",
    "  "
   ]
  },
  {
   "cell_type": "markdown",
   "metadata": {},
   "source": [
    "Definimos el valor de la constante del mapeo que usaremos en este caso. "
   ]
  },
  {
   "cell_type": "code",
   "execution_count": 3,
   "metadata": {},
   "outputs": [
    {
     "data": {
      "text/plain": [
       "0.3"
      ]
     },
     "execution_count": 3,
     "metadata": {},
     "output_type": "execute_result"
    }
   ],
   "source": [
    "ke=0.3"
   ]
  },
  {
   "cell_type": "markdown",
   "metadata": {},
   "source": [
    "                                                     \n",
    "                                                    ORDEN 1 \n"
   ]
  },
  {
   "cell_type": "markdown",
   "metadata": {},
   "source": [
    "Queremos que $P_{\\theta}$, $P_{p}$ sean polinomios, entonces necesitamos construirlos como dos polinomios de los cuales solo sabemos su primer coeficiente.La idea es ir calculando los términos en cada iteración.\n",
    "\n",
    "Escribirmos los coeficientes que buscamos como un polinomio a su vez de orden mayor a uno."
   ]
  },
  {
   "cell_type": "code",
   "execution_count": 4,
   "metadata": {},
   "outputs": [
    {
     "data": {
      "text/plain": [
       "2-element Array{TaylorN{Float64},1}:\n",
       "  1.0 θ + 𝒪(‖x‖³)\n",
       "  1.0 p + 𝒪(‖x‖³)"
      ]
     },
     "execution_count": 4,
     "metadata": {},
     "output_type": "execute_result"
    }
   ],
   "source": [
    "#Definimos a θ, p como polinomios orden dos, eso no influye en el orden del coeficiente que estamos calculando\n",
    "θ,p = set_variables(Float64,\"θ p\",order=2)"
   ]
  },
  {
   "cell_type": "code",
   "execution_count": 5,
   "metadata": {},
   "outputs": [
    {
     "name": "stdout",
     "output_type": "stream",
     "text": [
      "  1.0 θ + 𝒪(‖x‖³) + 𝒪(t²)  1.0 p + 𝒪(‖x‖³) + 𝒪(t²)"
     ]
    }
   ],
   "source": [
    "#Necesitamos los polinomios que parametrizan a las variedades, estos serán tipo Taylor1.TaylorN\n",
    "P_θ=Taylor1([θ], 1)\n",
    "P_p=Taylor1([p], 1)\n",
    "#el orden de estos ya es importante para cada iteración,\n",
    "# aquí es uno porque estamos en el coeficiente de primer grado\n",
    "print(P_θ,P_p)\n"
   ]
  },
  {
   "cell_type": "code",
   "execution_count": 6,
   "metadata": {},
   "outputs": [
    {
     "data": {
      "text/plain": [
       "2-element Array{Taylor1{TaylorN{Float64}},1}:\n",
       "   1.0 θ + 1.0 p + 𝒪(‖x‖³) + 𝒪(t²)\n",
       "   0.3 θ + 1.3 p + 𝒪(‖x‖³) + 𝒪(t²)"
      ]
     },
     "execution_count": 6,
     "metadata": {},
     "output_type": "execute_result"
    }
   ],
   "source": [
    "#Aplicamos el mapeo a estos dos polinomios\n",
    "Orden1=EstandarMap(P_θ,P_p,ke)"
   ]
  },
  {
   "cell_type": "markdown",
   "metadata": {},
   "source": [
    "Hasta este momento tenemos calculada la parte izquierda de la ecuación cohomológica \n",
    "$$\\begin{eqnarray}\n",
    "\\mathbf{f} \\circ \\mathcal{P} =\\mathcal{P}  \\circ g\n",
    "\\label{Ecua de invariancia}\n",
    "\\end{eqnarray}\n",
    "$$\n",
    "\n",
    "La forma más fácil para resolver esta ecuación  es escribirla como un sistema en forma matricial. \n",
    "$$\\mathbb{A}\\textbf{v}=\\textbf{w} $$\n",
    "Donde la matriz $\\mathbb{A}$ contiene los coeficientes que aparecen en los polinomios de acuerdo a cada variable. Mientras que $\\textbf{v}$ representa el vector $(\\theta,p)$ y $\\textbf{w}$ el vector de términos independientes de los polinomios. "
   ]
  },
  {
   "cell_type": "markdown",
   "metadata": {},
   "source": [
    "Para escribirlo asi usaremos una función dentro de $\\texttt{TaylorSeries}$ que es el jacobiano. \n",
    "$$ \\left( \\begin{array}{cc}\n",
    "\\frac{\\partial f_{x}}{\\partial \\theta} & \\frac{\\partial f_{p}}{\\partial \\theta}  \\\\\n",
    "\\frac{\\partial f_{x}}{\\partial p} & \\frac{\\partial f_{p}}{\\partial p}  \\end{array} \\right) $$"
   ]
  },
  {
   "cell_type": "code",
   "execution_count": 92,
   "metadata": {
    "scrolled": true
   },
   "outputs": [
    {
     "data": {
      "text/plain": [
       "2×2 Transpose{Taylor1{Float64},Array{Taylor1{Float64},2}}:\n",
       "  1.0 + 𝒪(t²)   1.0 + 𝒪(t²)\n",
       "  0.3 + 𝒪(t²)   1.3 + 𝒪(t²)"
      ]
     },
     "execution_count": 92,
     "metadata": {},
     "output_type": "execute_result"
    }
   ],
   "source": [
    "#al calcular el jacobiano obtendremos sólo los valores de los coeficientes los cuales \n",
    "# son de tipo TaylorN\n",
    "JPO=jacobian(Orden1)\n"
   ]
  },
  {
   "cell_type": "code",
   "execution_count": 96,
   "metadata": {},
   "outputs": [
    {
     "name": "stdout",
     "output_type": "stream",
     "text": [
      "JacFl = [1.0 1.0; 0.3 1.3]\n"
     ]
    },
    {
     "data": {
      "text/plain": [
       "2×2 Array{Float64,2}:\n",
       " 1.0  1.0\n",
       " 0.3  1.3"
      ]
     },
     "execution_count": 96,
     "metadata": {},
     "output_type": "execute_result"
    }
   ],
   "source": [
    "#como los valores que contiene el jacobiano son de tipo TaylorN y para usarlos como necesitamos\n",
    "# se deben tener en Float64 vamos a obtenerlos de la siguente manera. \n",
    "\n",
    "JacFl = Array{Float64,2}(undef, 2, 2)\n",
    "for ind in 1:4\n",
    "    JacFl[ind] = JPO[ind][0]\n",
    "end\n",
    "#usamos la matriz JacFl como auxiliar para encontrar los valores flotantes\n",
    "@show(JacFl)"
   ]
  },
  {
   "cell_type": "markdown",
   "metadata": {},
   "source": [
    "La matriz que aparece arriba es una que ya podemos usar para calcular los valores y vectores propios. Necesitamos sólo uno de ellos."
   ]
  },
  {
   "cell_type": "code",
   "execution_count": 97,
   "metadata": {
    "scrolled": true
   },
   "outputs": [
    {
     "data": {
      "text/plain": [
       "Eigen{Float64,Float64,Array{Float64,2},Array{Float64,1}}\n",
       "eigenvalues:\n",
       "2-element Array{Float64,1}:\n",
       " 0.5821091654199727\n",
       " 1.7178908345800274\n",
       "eigenvectors:\n",
       "2×2 Array{Float64,2}:\n",
       " -0.922675  -0.812346\n",
       "  0.385578  -0.583176"
      ]
     },
     "execution_count": 97,
     "metadata": {},
     "output_type": "execute_result"
    }
   ],
   "source": [
    "# eigen() es una función que calcula los valores y vectores propios de una matriz y los da en ese orden en forma de vector.\n",
    "eigen_val,eigen_vec = eigen(JacFl)\n"
   ]
  },
  {
   "cell_type": "code",
   "execution_count": 100,
   "metadata": {},
   "outputs": [
    {
     "name": "stdout",
     "output_type": "stream",
     "text": [
      "0.5821091654199727[-0.922675 -0.812346; 0.385578 -0.583176]"
     ]
    }
   ],
   "source": [
    "# dado que usaremos la variedad inestable, entonces usamos el segundo valor propio\n",
    "λ=eigen_val[1]\n",
    "print(λ,eigen_vec)\n",
    "\n"
   ]
  },
  {
   "cell_type": "markdown",
   "metadata": {},
   "source": [
    "Tomamos por ende el segundo vector propio, los coeficientes de este vector serán los coeficientes de primer orden en los polinomios. "
   ]
  },
  {
   "cell_type": "code",
   "execution_count": 108,
   "metadata": {},
   "outputs": [
    {
     "data": {
      "text/plain": [
       "2-element Array{Float64,1}:\n",
       " -0.8123460094785507\n",
       " -0.5831757547123116"
      ]
     },
     "execution_count": 108,
     "metadata": {},
     "output_type": "execute_result"
    }
   ],
   "source": [
    "vec1=[eigen_vec[3],eigen_vec[4]]\n",
    "# decimos que vec es un arreglo de contiene los valores correspondientes a los lugares [1,2], [2,2] de eve."
   ]
  },
  {
   "cell_type": "code",
   "execution_count": 109,
   "metadata": {},
   "outputs": [
    {
     "name": "stdout",
     "output_type": "stream",
     "text": [
      "P_θ =   1.0 θ + 𝒪(‖x‖³) + 𝒪(t²)\n",
      "typeof(P_θ) = Taylor1{TaylorN{Float64}}\n",
      "Orden1[1] =   1.0 θ + 1.0 p + 𝒪(‖x‖³) + 𝒪(t²)\n",
      "typeof(Orden1[1]) = Taylor1{TaylorN{Float64}}\n"
     ]
    },
    {
     "data": {
      "text/plain": [
       "Taylor1{TaylorN{Float64}}"
      ]
     },
     "execution_count": 109,
     "metadata": {},
     "output_type": "execute_result"
    }
   ],
   "source": [
    "#queremos revisar la estabilidad de tipo de las variables Pθ,\\theta\n",
    "@show(P_θ)\n",
    "@show(typeof(P_θ))\n",
    "@show(Orden1[1])\n",
    "@show(typeof(Orden1[1]))\n"
   ]
  },
  {
   "cell_type": "markdown",
   "metadata": {},
   "source": [
    "                                                  ORDEN 2"
   ]
  },
  {
   "cell_type": "markdown",
   "metadata": {},
   "source": [
    "A partir de este término la forma de obtener los coeficientes se vuelve monótona, esto facilita que podamos sintetizar\n",
    "todos los pasos en funciones. Antes de eso calcularemos cada término por separado. La forma de comenzar a calcular cada coeficiente no cambia con respecto al primero. "
   ]
  },
  {
   "cell_type": "code",
   "execution_count": 110,
   "metadata": {},
   "outputs": [
    {
     "data": {
      "text/plain": [
       "2-element Array{TaylorN{Float64},1}:\n",
       "  1.0 θ + 𝒪(‖x‖²)\n",
       "  1.0 p + 𝒪(‖x‖²)"
      ]
     },
     "execution_count": 110,
     "metadata": {},
     "output_type": "execute_result"
    }
   ],
   "source": [
    "\n",
    "#Queremos hacer la misma idea para este orden, recordemos que el orden de este polinomio no influye por ahora \n",
    "# en el cálculo, ya que en los términos que no aparecen explícitamente sirven \n",
    "# para calcular la parte que no conocemos.\n",
    "\n",
    "θ,p = set_variables(Float64,\"θ p\",order=1)"
   ]
  },
  {
   "cell_type": "markdown",
   "metadata": {},
   "source": [
    "Para los nuevos polinomios agregamos los valores que calculamos en el paso anterior, además de las variables x,p como series de Taylor."
   ]
  },
  {
   "cell_type": "code",
   "execution_count": 111,
   "metadata": {
    "scrolled": true
   },
   "outputs": [
    {
     "data": {
      "text/plain": [
       " ( - 0.5831757547123116 + 𝒪(‖x‖¹)) t + ( 1.0 p + 𝒪(‖x‖²)) t² + 𝒪(t³)"
      ]
     },
     "execution_count": 111,
     "metadata": {},
     "output_type": "execute_result"
    }
   ],
   "source": [
    "#usamos los valores ya calculados en el orden 1 para x,p de primer orden, estos los incluyo en una lista junto \n",
    "#con  el polinomio que representa a x,p  tipo TaylorN \n",
    "P_θ=Taylor1([0.,vec1[1],θ],2)\n",
    "P_p=Taylor1([0.,vec1[2],p],2)"
   ]
  },
  {
   "cell_type": "code",
   "execution_count": 112,
   "metadata": {
    "scrolled": true
   },
   "outputs": [
    {
     "data": {
      "text/plain": [
       "2-element Array{Taylor1{TaylorN{Float64}},1}:\n",
       "  ( - 1.3955217641908624 + 𝒪(‖x‖¹)) t + ( 1.0 θ + 1.0 p + 𝒪(‖x‖²)) t² + 𝒪(t³)\n",
       "  ( - 1.0018322839695704 + 𝒪(‖x‖¹)) t + ( 0.3 θ + 1.3 p + 𝒪(‖x‖²)) t² + 𝒪(t³)"
      ]
     },
     "execution_count": 112,
     "metadata": {},
     "output_type": "execute_result"
    }
   ],
   "source": [
    "#aplicamos el mapeo\n",
    "SO=EstandarMap(P_θ,P_p,ke)"
   ]
  },
  {
   "cell_type": "markdown",
   "metadata": {},
   "source": [
    "Para el lado derecho de la ecuación cohomológica necesitamos un vector de lambdas, pues recordemos  \n",
    "$$ \\Sigma_{n=1}^{\\infty}a_{n}t^{n}\\lambda^{n}$$\n",
    "$$\\Sigma_{n=1}^{\\infty}b_{n}t^{n}\\lambda^{n}$$\n"
   ]
  },
  {
   "cell_type": "code",
   "execution_count": 113,
   "metadata": {},
   "outputs": [
    {
     "data": {
      "text/plain": [
       "3-element Array{Float64,1}:\n",
       " 0.0                \n",
       " 0.5821091654199727 \n",
       " 0.33885108046593715"
      ]
     },
     "execution_count": 113,
     "metadata": {},
     "output_type": "execute_result"
    }
   ],
   "source": [
    "# como nos falta el otro lado de la ecuación cohomológica definimos un vector de lambdas\n",
    "vλ=[0.0,λ,λ^2]"
   ]
  },
  {
   "cell_type": "code",
   "execution_count": 116,
   "metadata": {
    "scrolled": true
   },
   "outputs": [
    {
     "data": {
      "text/plain": [
       "2-element Array{Taylor1{TaylorN{Float64}},1}:\n",
       "   ( - 0.4728740576098044 + 𝒪(‖x‖¹)) t + ( 0.33885108046593715 θ + 𝒪(‖x‖²)) t² + 𝒪(t³)\n",
       "  ( - 0.33947195186874646 + 𝒪(‖x‖¹)) t + ( 0.33885108046593715 p + 𝒪(‖x‖²)) t² + 𝒪(t³)"
      ]
     },
     "execution_count": 116,
     "metadata": {},
     "output_type": "execute_result"
    }
   ],
   "source": [
    "#y definimos también un polinomio para las lambdas, del mismo orden que el polinomio de P_θ,P_p\n",
    "# que juega la parte de a_{n}\\lambda^{n}\n",
    "θλt=Taylor1(vλ.*[0.,vec1[1],θ],2)\n",
    "pλt=Taylor1(vλ.*[0.,vec1[2],p],2)\n",
    "λvec=[θλt,pλt]"
   ]
  },
  {
   "cell_type": "markdown",
   "metadata": {},
   "source": [
    "Ahora ya tenemos las dos partes de la ecuación de invariancia,las igualamos para resolver. \n",
    "\n",
    "SO representa la parte de la primera composición mientras que $\\lambda vec$ representa la parte derecha de la ecuación de invariancia. Al restarlas estamos resolviendo \n",
    " $$f_{\\epsilon}\\circ P- P \\circ \\lambda=0 $$\n",
    "\n",
    "En este caso no esta igualada a cero puesto que estamos tratando de calcular el siguente término, es decir van a diferir justo en ese término. "
   ]
  },
  {
   "cell_type": "code",
   "execution_count": 117,
   "metadata": {},
   "outputs": [
    {
     "data": {
      "text/plain": [
       "2-element Array{Taylor1{TaylorN{Float64}},1}:\n",
       "   ( - 0.922647706581058 + 𝒪(‖x‖¹)) t + ( 0.6611489195340629 θ + 1.0 p + 𝒪(‖x‖²)) t² + 𝒪(t³)\n",
       "  ( - 0.6623603321008239 + 𝒪(‖x‖¹)) t + ( 0.3 θ + 0.9611489195340629 p + 𝒪(‖x‖²)) t² + 𝒪(t³)"
      ]
     },
     "execution_count": 117,
     "metadata": {},
     "output_type": "execute_result"
    }
   ],
   "source": [
    "#Restando ambos vectores que representan la ecuación cohomológica encontraremos los términos que faltan\n",
    "# de empatar\n",
    "Ecua=SO-λvec\n"
   ]
  },
  {
   "cell_type": "markdown",
   "metadata": {},
   "source": [
    "En este paso nos podemos dar cuenta que sólo aprece el término de orden dos puesto que el de orden uno ya lo calculamos. \n",
    "\n",
    "Notemos que hay un pequeño error, pues aparece un número en el polinomio asociado a $\\theta$ de orden 1, sin embargo este número es del orden de $10^{-16}$ lo cual nos dice que es un error numérico."
   ]
  },
  {
   "cell_type": "code",
   "execution_count": 118,
   "metadata": {},
   "outputs": [
    {
     "data": {
      "text/plain": [
       "2-element Array{TaylorN{Float64},1}:\n",
       "  0.6611489195340629 θ + 1.0 p + 𝒪(‖x‖²)\n",
       "  0.3 θ + 0.9611489195340629 p + 𝒪(‖x‖²)"
      ]
     },
     "execution_count": 118,
     "metadata": {},
     "output_type": "execute_result"
    }
   ],
   "source": [
    "\n",
    "# de esta ecuación necesitamos solo los de segundo orden, así que los extraemos manualmente \n",
    "θ2=Ecua[1].coeffs[3]\n",
    "p2=Ecua[2].coeffs[3]\n",
    "vec2=[θ2,p2]"
   ]
  },
  {
   "cell_type": "code",
   "execution_count": 119,
   "metadata": {},
   "outputs": [
    {
     "data": {
      "text/plain": [
       "2×2 Transpose{Float64,Array{Float64,2}}:\n",
       " 0.661149  1.0     \n",
       " 0.3       0.961149"
      ]
     },
     "execution_count": 119,
     "metadata": {},
     "output_type": "execute_result"
    }
   ],
   "source": [
    "#calculamos ahora el jacobiano de este vector, ya que los coeficientes serán parte de la matriz que queremos\n",
    "JSO=jacobian(vec2)"
   ]
  },
  {
   "cell_type": "code",
   "execution_count": 120,
   "metadata": {},
   "outputs": [
    {
     "data": {
      "text/plain": [
       "0.3354625696612776"
      ]
     },
     "execution_count": 120,
     "metadata": {},
     "output_type": "execute_result"
    }
   ],
   "source": [
    "#calculamos su determinante para ver si es cero, \n",
    "det(JSO)"
   ]
  },
  {
   "cell_type": "code",
   "execution_count": 121,
   "metadata": {},
   "outputs": [
    {
     "data": {
      "text/plain": [
       "2-element Array{Float64,1}:\n",
       " 0.0\n",
       " 0.0"
      ]
     },
     "execution_count": 121,
     "metadata": {},
     "output_type": "execute_result"
    }
   ],
   "source": [
    "# como es distinto de cero y la ecuación esta igualada a cero entonces la única solución es la trivial\n",
    "θ2=0.\n",
    "p2=0.\n",
    "vec2=[0.,0.]\n"
   ]
  },
  {
   "cell_type": "markdown",
   "metadata": {},
   "source": [
    "Esto concuerda con lo que habíamos encontrado antes, los coeficientes de orden par son cero. "
   ]
  },
  {
   "cell_type": "code",
   "execution_count": 122,
   "metadata": {},
   "outputs": [
    {
     "name": "stdout",
     "output_type": "stream",
     "text": [
      "P_θ =  ( - 0.8123460094785507 + 𝒪(‖x‖¹)) t + ( 1.0 θ + 𝒪(‖x‖²)) t² + 𝒪(t³)\n",
      "typeof(P_θ) = Taylor1{TaylorN{Float64}}\n",
      "SO[1] =  ( - 1.3955217641908624 + 𝒪(‖x‖¹)) t + ( 1.0 θ + 1.0 p + 𝒪(‖x‖²)) t² + 𝒪(t³)\n",
      "typeof(SO[1]) = Taylor1{TaylorN{Float64}}\n",
      "θλt =  ( - 0.4728740576098044 + 𝒪(‖x‖¹)) t + ( 0.33885108046593715 θ + 𝒪(‖x‖²)) t² + 𝒪(t³)\n",
      "typeof(θλt) = Taylor1{TaylorN{Float64}}\n",
      "Ecua[1] =  ( - 0.922647706581058 + 𝒪(‖x‖¹)) t + ( 0.6611489195340629 θ + 1.0 p + 𝒪(‖x‖²)) t² + 𝒪(t³)\n",
      "typeof(Ecua[1]) = Taylor1{TaylorN{Float64}}\n"
     ]
    },
    {
     "data": {
      "text/plain": [
       "Taylor1{TaylorN{Float64}}"
      ]
     },
     "execution_count": 122,
     "metadata": {},
     "output_type": "execute_result"
    }
   ],
   "source": [
    "#queremos revisar la estabilidad de las variables tx,x\n",
    "@show(P_θ)\n",
    "@show(typeof(P_θ))\n",
    "@show(SO[1])\n",
    "@show(typeof(SO[1]))\n",
    "@show(θλt)\n",
    "@show(typeof(θλt))\n",
    "@show(Ecua[1])\n",
    "@show(typeof(Ecua[1]))"
   ]
  },
  {
   "cell_type": "markdown",
   "metadata": {},
   "source": [
    "                                                ORDEN 3"
   ]
  },
  {
   "cell_type": "markdown",
   "metadata": {},
   "source": [
    "Para este orden comenzaremos a generar los vectores como en el caso anterior, lo que cambia en este caso es que\n",
    "aparecen términos independientes en la ecuación comohológica. Esto resulta en que las solución ya no será la trivial como en el caso pasado."
   ]
  },
  {
   "cell_type": "code",
   "execution_count": 123,
   "metadata": {},
   "outputs": [
    {
     "data": {
      "text/plain": [
       "2-element Array{TaylorN{Float64},1}:\n",
       "  1.0 θ + 𝒪(‖x‖⁴)\n",
       "  1.0 p + 𝒪(‖x‖⁴)"
      ]
     },
     "execution_count": 123,
     "metadata": {},
     "output_type": "execute_result"
    }
   ],
   "source": [
    "#genramos un par de variables de tipo TaylorN de orden 3\n",
    "θ,p = set_variables(Float64,\"θ p\",order=3)\n"
   ]
  },
  {
   "cell_type": "code",
   "execution_count": 125,
   "metadata": {},
   "outputs": [
    {
     "data": {
      "text/plain": [
       " ( - 0.5831757547123116 + 𝒪(‖x‖¹)) t + ( 1.0 p + 𝒪(‖x‖⁴)) t³ + 𝒪(t⁵)"
      ]
     },
     "execution_count": 125,
     "metadata": {},
     "output_type": "execute_result"
    }
   ],
   "source": [
    "#generamos las variables con las que evaluamos el mapeo, notemos que deben de tener orden mayor al orden que estamos \n",
    "# calculando\n",
    "P_θ=Taylor1([0.,vec1[1],θ2,θ],4)\n",
    "P_p=Taylor1([0.,vec1[2],p2,p],4)\n"
   ]
  },
  {
   "cell_type": "code",
   "execution_count": 126,
   "metadata": {},
   "outputs": [
    {
     "data": {
      "text/plain": [
       "2-element Array{Taylor1{TaylorN{Float64}},1}:\n",
       "                       ( - 1.3955217641908624 + 𝒪(‖x‖¹)) t + ( 1.0 θ + 1.0 p + 𝒪(‖x‖⁴)) t³ + 𝒪(t⁵)\n",
       "  ( - 1.0018322839695704 + 𝒪(‖x‖¹)) t + ( 0.1358876056468051 + 0.3 θ + 1.3 p + 𝒪(‖x‖⁴)) t³ + 𝒪(t⁵)"
      ]
     },
     "execution_count": 126,
     "metadata": {},
     "output_type": "execute_result"
    }
   ],
   "source": [
    "#aplicamos el mapeo \n",
    "TO=EstandarMap(P_θ,P_p,ke)\n"
   ]
  },
  {
   "cell_type": "code",
   "execution_count": 127,
   "metadata": {},
   "outputs": [
    {
     "data": {
      "text/plain": [
       " ( - 0.33947195186874646 + 𝒪(‖x‖¹)) t + ( 0.19724831965168269 p + 𝒪(‖x‖⁴)) t³ + 𝒪(t⁵)"
      ]
     },
     "execution_count": 127,
     "metadata": {},
     "output_type": "execute_result"
    }
   ],
   "source": [
    "#creamos un vector de lambdas que formará parte del lado derecho de la ecuación cohomo.\n",
    "vλ=[0,λ,λ^2, λ^3]\n",
    "θλt=Taylor1([0.,vec1[1],θ2,θ].*vλ,4)\n",
    "pλt=Taylor1([0.,vec1[2],p2,p].*vλ,4)\n",
    "\n"
   ]
  },
  {
   "cell_type": "code",
   "execution_count": 128,
   "metadata": {},
   "outputs": [
    {
     "data": {
      "text/plain": [
       "2-element Array{Taylor1{TaylorN{Float64}},1}:\n",
       "   ( - 0.4728740576098044 + 𝒪(‖x‖¹)) t + ( 0.19724831965168269 θ + 𝒪(‖x‖⁴)) t³ + 𝒪(t⁵)\n",
       "  ( - 0.33947195186874646 + 𝒪(‖x‖¹)) t + ( 0.19724831965168269 p + 𝒪(‖x‖⁴)) t³ + 𝒪(t⁵)"
      ]
     },
     "execution_count": 128,
     "metadata": {},
     "output_type": "execute_result"
    }
   ],
   "source": [
    "#lo usaremos como vector pues el mapeo regresa un vector\n",
    "λvec=[θλt,pλt]\n"
   ]
  },
  {
   "cell_type": "code",
   "execution_count": 129,
   "metadata": {},
   "outputs": [
    {
     "data": {
      "text/plain": [
       "2-element Array{Taylor1{TaylorN{Float64}},1}:\n",
       "                        ( - 0.922647706581058 + 𝒪(‖x‖¹)) t + ( 0.8027516803483173 θ + 1.0 p + 𝒪(‖x‖⁴)) t³ + 𝒪(t⁵)\n",
       "  ( - 0.6623603321008239 + 𝒪(‖x‖¹)) t + ( 0.1358876056468051 + 0.3 θ + 1.1027516803483173 p + 𝒪(‖x‖⁴)) t³ + 𝒪(t⁵)"
      ]
     },
     "execution_count": 129,
     "metadata": {},
     "output_type": "execute_result"
    }
   ],
   "source": [
    "#Escribimos la ecuación cohomo\n",
    "Ecua=TO-λvec\n"
   ]
  },
  {
   "cell_type": "code",
   "execution_count": 130,
   "metadata": {},
   "outputs": [
    {
     "data": {
      "text/plain": [
       " 0.1358876056468051 + 0.3 θ + 1.1027516803483173 p + 𝒪(‖x‖⁴)"
      ]
     },
     "execution_count": 130,
     "metadata": {},
     "output_type": "execute_result"
    }
   ],
   "source": [
    "#notamos de nuevo que sólo sobreviven los términos de orden 3 y que hay un pequeño error en el término 1 \n",
    "θ3=Ecua[1].coeffs[4]\n",
    "p3=Ecua[2].coeffs[4]"
   ]
  },
  {
   "cell_type": "code",
   "execution_count": 131,
   "metadata": {},
   "outputs": [
    {
     "data": {
      "text/plain": [
       "2×2 Transpose{Float64,Array{Float64,2}}:\n",
       " 0.802752  1.0    \n",
       " 0.3       1.10275"
      ]
     },
     "execution_count": 131,
     "metadata": {},
     "output_type": "execute_result"
    }
   ],
   "source": [
    "#Dado que en este momento comienzan a aparecer términos independientes en x, p necesitamos una forma de extraerlos\n",
    "# primero estraemos los coeficientes de x, p como antes con el jacobiano. \n",
    "JTO=jacobian([θ3,p3])"
   ]
  },
  {
   "cell_type": "code",
   "execution_count": 132,
   "metadata": {},
   "outputs": [
    {
     "data": {
      "text/plain": [
       "0.5852357644065422"
      ]
     },
     "execution_count": 132,
     "metadata": {},
     "output_type": "execute_result"
    }
   ],
   "source": [
    "#calculamos el determinante \n",
    "det(JTO)"
   ]
  },
  {
   "cell_type": "code",
   "execution_count": 133,
   "metadata": {},
   "outputs": [
    {
     "data": {
      "text/plain": [
       "2-element Array{Float64,1}:\n",
       " -0.0               \n",
       " -0.1358876056468051"
      ]
     },
     "execution_count": 133,
     "metadata": {},
     "output_type": "execute_result"
    }
   ],
   "source": [
    "\n",
    "#extraemos ahora los coeficientes independientes de x,p \n",
    "a= Ecua[1].coeffs[4].coeffs[1].coeffs[1]\n",
    "b= Ecua[2].coeffs[4].coeffs[1].coeffs[1]\n",
    "vecCoef=[-a,-b]\n"
   ]
  },
  {
   "cell_type": "markdown",
   "metadata": {},
   "source": [
    "Dado que el determinante de la matriz es distinto de cero y los términos independientes son diferentes de cero entonces existe una solución no trivial. Para resolver este sitema utilizamos que :\n",
    "$$JTO [\\theta, p]^{T}=[a,b]^{T}$$\n",
    "$$[\\theta, p]^{T}=JTO^{-1}[a,b]^{T}$$"
   ]
  },
  {
   "cell_type": "code",
   "execution_count": 134,
   "metadata": {},
   "outputs": [
    {
     "data": {
      "text/plain": [
       "2-element Array{Float64,1}:\n",
       "  0.2321929278956521 \n",
       " -0.18639326303323042"
      ]
     },
     "execution_count": 134,
     "metadata": {},
     "output_type": "execute_result"
    }
   ],
   "source": [
    "\n",
    "# entonces solo se trata de invertir el jacobiano y multiplicar con el vector del lado izquierdo\n",
    "T3=JTO \\ vecCoef\n"
   ]
  },
  {
   "cell_type": "code",
   "execution_count": 135,
   "metadata": {},
   "outputs": [
    {
     "data": {
      "text/plain": [
       "2-element Array{Float64,1}:\n",
       "  0.2321929278956521 \n",
       " -0.18639326303323042"
      ]
     },
     "execution_count": 135,
     "metadata": {},
     "output_type": "execute_result"
    }
   ],
   "source": [
    "#los valores que obtuvimos son los nuevos coeficientes de orden 3\n",
    "θ3=T3[1]\n",
    "p3=T3[2]\n",
    "v3=[θ3,p3]"
   ]
  },
  {
   "cell_type": "code",
   "execution_count": 136,
   "metadata": {},
   "outputs": [
    {
     "name": "stdout",
     "output_type": "stream",
     "text": [
      "P_θ =  ( - 0.8123460094785507 + 𝒪(‖x‖¹)) t + ( 1.0 θ + 𝒪(‖x‖⁴)) t³ + 𝒪(t⁵)\n",
      "typeof(P_θ) = Taylor1{TaylorN{Float64}}\n",
      "TO[1] =  ( - 1.3955217641908624 + 𝒪(‖x‖¹)) t + ( 1.0 θ + 1.0 p + 𝒪(‖x‖⁴)) t³ + 𝒪(t⁵)\n",
      "typeof(TO[1]) = Taylor1{TaylorN{Float64}}\n",
      "θλt =  ( - 0.4728740576098044 + 𝒪(‖x‖¹)) t + ( 0.19724831965168269 θ + 𝒪(‖x‖⁴)) t³ + 𝒪(t⁵)\n",
      "typeof(θλt) = Taylor1{TaylorN{Float64}}\n",
      "Ecua[1] =  ( - 0.922647706581058 + 𝒪(‖x‖¹)) t + ( 0.8027516803483173 θ + 1.0 p + 𝒪(‖x‖⁴)) t³ + 𝒪(t⁵)\n",
      "typeof(Ecua[1]) = Taylor1{TaylorN{Float64}}\n"
     ]
    },
    {
     "data": {
      "text/plain": [
       "Taylor1{TaylorN{Float64}}"
      ]
     },
     "execution_count": 136,
     "metadata": {},
     "output_type": "execute_result"
    }
   ],
   "source": [
    "#queremos revisar la estabilidad de las variables tx,x\n",
    "@show(P_θ)\n",
    "@show(typeof(P_θ))\n",
    "@show(TO[1])\n",
    "@show(typeof(TO[1]))\n",
    "@show(θλt)\n",
    "@show(typeof(θλt))\n",
    "@show(Ecua[1])\n",
    "@show(typeof(Ecua[1]))"
   ]
  },
  {
   "cell_type": "markdown",
   "metadata": {},
   "source": [
    "                                                        ORDEN 4"
   ]
  },
  {
   "cell_type": "code",
   "execution_count": 137,
   "metadata": {},
   "outputs": [
    {
     "data": {
      "text/plain": [
       "2-element Array{TaylorN{Float64},1}:\n",
       "  1.0 θ + 𝒪(‖x‖²)\n",
       "  1.0 p + 𝒪(‖x‖²)"
      ]
     },
     "execution_count": 137,
     "metadata": {},
     "output_type": "execute_result"
    }
   ],
   "source": [
    "#creamos las variables de tipo TaylorN\n",
    "θ,p = set_variables(Float64,\"θ p\",order=1)\n"
   ]
  },
  {
   "cell_type": "code",
   "execution_count": 139,
   "metadata": {},
   "outputs": [
    {
     "data": {
      "text/plain": [
       " ( - 0.5831757547123116 + 𝒪(‖x‖¹)) t + ( - 0.18639326303323042 + 𝒪(‖x‖¹)) t³ + ( 1.0 p + 𝒪(‖x‖²)) t⁴ + 𝒪(t⁶)"
      ]
     },
     "execution_count": 139,
     "metadata": {},
     "output_type": "execute_result"
    }
   ],
   "source": [
    "#creamos las variables del mapeo que ya toman en cuenta los coeficientes que calculamos\n",
    "P_θ=Taylor1([0.,vec1[1],θ2,θ3,θ],5)\n",
    "P_p=Taylor1([0.,vec1[2],p2,p3,p],5)\n"
   ]
  },
  {
   "cell_type": "code",
   "execution_count": 140,
   "metadata": {},
   "outputs": [
    {
     "data": {
      "text/plain": [
       "2-element Array{Taylor1{TaylorN{Float64}},1}:\n",
       "                                             ( - 1.3955217641908624 + 𝒪(‖x‖¹)) t + ( 0.04579966486242168 + 𝒪(‖x‖¹)) t³ + ( 1.0 θ + 1.0 p + 𝒪(‖x‖²)) t⁴ + 𝒪(t⁶)\n",
       "  ( - 1.0018322839695704 + 𝒪(‖x‖¹)) t + ( - 0.03676575792769882 + 𝒪(‖x‖¹)) t³ + ( 0.3 θ + 1.3 p + 𝒪(‖x‖²)) t⁴ + ( - 0.026611022998050758 + 𝒪(‖x‖²)) t⁵ + 𝒪(t⁶)"
      ]
     },
     "execution_count": 140,
     "metadata": {},
     "output_type": "execute_result"
    }
   ],
   "source": [
    "#Le aplicamos el mapeo estándar\n",
    "CO=EstandarMap(P_θ,P_p,ke)\n"
   ]
  },
  {
   "cell_type": "code",
   "execution_count": 142,
   "metadata": {},
   "outputs": [
    {
     "name": "stdout",
     "output_type": "stream",
     "text": [
      " ( - 0.4728740576098044 + 𝒪(‖x‖¹)) t + ( 0.04579966486242169 + 𝒪(‖x‖¹)) t³ + ( 0.11482005473293301 θ + 𝒪(‖x‖²)) t⁴ + 𝒪(t⁶) ( - 0.33947195186874646 + 𝒪(‖x‖¹)) t + ( - 0.0367657579276988 + 𝒪(‖x‖¹)) t³ + ( 0.11482005473293301 p + 𝒪(‖x‖²)) t⁴ + 𝒪(t⁶)"
     ]
    }
   ],
   "source": [
    "#creamos la parte derecha de la ecuación\n",
    "vλ=[0., λ, λ^2, λ^3, λ^4]\n",
    "θλt=Taylor1([0.,vec1[1],θ2,θ3,θ].*vλ,5)\n",
    "pλt=Taylor1([0.,vec1[2],p2,p3,p].*vλ,5)\n",
    "print(θλt,pλt)\n"
   ]
  },
  {
   "cell_type": "code",
   "execution_count": 143,
   "metadata": {},
   "outputs": [
    {
     "data": {
      "text/plain": [
       "2-element Array{Taylor1{TaylorN{Float64}},1}:\n",
       "    ( - 0.4728740576098044 + 𝒪(‖x‖¹)) t + ( 0.04579966486242169 + 𝒪(‖x‖¹)) t³ + ( 0.11482005473293301 θ + 𝒪(‖x‖²)) t⁴ + 𝒪(t⁶)\n",
       "  ( - 0.33947195186874646 + 𝒪(‖x‖¹)) t + ( - 0.0367657579276988 + 𝒪(‖x‖¹)) t³ + ( 0.11482005473293301 p + 𝒪(‖x‖²)) t⁴ + 𝒪(t⁶)"
      ]
     },
     "execution_count": 143,
     "metadata": {},
     "output_type": "execute_result"
    }
   ],
   "source": [
    "#es más útil tener esta parte como un vector\n",
    "λvec=[θλt,pλt]"
   ]
  },
  {
   "cell_type": "code",
   "execution_count": 144,
   "metadata": {},
   "outputs": [
    {
     "data": {
      "text/plain": [
       "2-element Array{Taylor1{TaylorN{Float64}},1}:\n",
       "                                            ( - 0.922647706581058 + 𝒪(‖x‖¹)) t + ( - 1.3877787807814457e-17 + 𝒪(‖x‖¹)) t³ + ( 0.885179945267067 θ + 1.0 p + 𝒪(‖x‖²)) t⁴ + 𝒪(t⁶)\n",
       "  ( - 0.6623603321008239 + 𝒪(‖x‖¹)) t + ( - 1.3877787807814457e-17 + 𝒪(‖x‖¹)) t³ + ( 0.3 θ + 1.185179945267067 p + 𝒪(‖x‖²)) t⁴ + ( - 0.026611022998050758 + 𝒪(‖x‖²)) t⁵ + 𝒪(t⁶)"
      ]
     },
     "execution_count": 144,
     "metadata": {},
     "output_type": "execute_result"
    }
   ],
   "source": [
    "#escribimos la ecuación cohomo, para poder sacar el jacobiano\n",
    "Ecua=CO-λvec\n"
   ]
  },
  {
   "cell_type": "code",
   "execution_count": 145,
   "metadata": {},
   "outputs": [
    {
     "data": {
      "text/plain": [
       " 0.3 θ + 1.185179945267067 p + 𝒪(‖x‖²)"
      ]
     },
     "execution_count": 145,
     "metadata": {},
     "output_type": "execute_result"
    }
   ],
   "source": [
    "#obtenemos los valores de orden 4 \n",
    "θ4=Ecua[1].coeffs[5]\n",
    "p4=Ecua[2].coeffs[5]\n",
    "\n",
    "\n",
    "\n"
   ]
  },
  {
   "cell_type": "code",
   "execution_count": 146,
   "metadata": {},
   "outputs": [
    {
     "data": {
      "text/plain": [
       "2×2 Transpose{Float64,Array{Float64,2}}:\n",
       " 0.88518  1.0    \n",
       " 0.3      1.18518"
      ]
     },
     "execution_count": 146,
     "metadata": {},
     "output_type": "execute_result"
    }
   ],
   "source": [
    "#calculamos el jacobiano de estos términos, para obtener solo los coeficientes\n",
    "JCO=jacobian([θ4,p4])"
   ]
  },
  {
   "cell_type": "code",
   "execution_count": 147,
   "metadata": {},
   "outputs": [
    {
     "data": {
      "text/plain": [
       "0.7490975190831279"
      ]
     },
     "execution_count": 147,
     "metadata": {},
     "output_type": "execute_result"
    }
   ],
   "source": [
    "#calculamos el determinante para saber si podemos resolver el sistema_\n",
    "det(JCO)"
   ]
  },
  {
   "cell_type": "code",
   "execution_count": 148,
   "metadata": {},
   "outputs": [
    {
     "data": {
      "text/plain": [
       "2-element Array{Float64,1}:\n",
       " 0.0\n",
       " 0.0"
      ]
     },
     "execution_count": 148,
     "metadata": {},
     "output_type": "execute_result"
    }
   ],
   "source": [
    "#dado que el determinante es distinto de cero y los valores independientes del sistema son cero\n",
    "# la única solución es la trivial\n",
    "T4=JCO\\ [0.,0.]\n"
   ]
  },
  {
   "cell_type": "code",
   "execution_count": 149,
   "metadata": {},
   "outputs": [
    {
     "data": {
      "text/plain": [
       "0.0"
      ]
     },
     "execution_count": 149,
     "metadata": {},
     "output_type": "execute_result"
    }
   ],
   "source": [
    "#esta solución son los nuevos coeficientes del polinomio\n",
    "θ4=T4[1]\n",
    "p4=T4[2]"
   ]
  },
  {
   "cell_type": "markdown",
   "metadata": {},
   "source": [
    "De nuevo dado que es un término de orden par, los coeficientes fueron cero."
   ]
  },
  {
   "cell_type": "code",
   "execution_count": 150,
   "metadata": {},
   "outputs": [
    {
     "name": "stdout",
     "output_type": "stream",
     "text": [
      "P_θ =  ( - 0.8123460094785507 + 𝒪(‖x‖¹)) t + ( 0.2321929278956521 + 𝒪(‖x‖¹)) t³ + ( 1.0 θ + 𝒪(‖x‖²)) t⁴ + 𝒪(t⁶)\n",
      "typeof(P_θ) = Taylor1{TaylorN{Float64}}\n",
      "CO[1] =  ( - 1.3955217641908624 + 𝒪(‖x‖¹)) t + ( 0.04579966486242168 + 𝒪(‖x‖¹)) t³ + ( 1.0 θ + 1.0 p + 𝒪(‖x‖²)) t⁴ + 𝒪(t⁶)\n",
      "typeof(CO[1]) = Taylor1{TaylorN{Float64}}\n",
      "θλt =  ( - 0.4728740576098044 + 𝒪(‖x‖¹)) t + ( 0.04579966486242169 + 𝒪(‖x‖¹)) t³ + ( 0.11482005473293301 θ + 𝒪(‖x‖²)) t⁴ + 𝒪(t⁶)\n",
      "typeof(θλt) = Taylor1{TaylorN{Float64}}\n",
      "Ecua[1] =  ( - 0.922647706581058 + 𝒪(‖x‖¹)) t + ( - 1.3877787807814457e-17 + 𝒪(‖x‖¹)) t³ + ( 0.885179945267067 θ + 1.0 p + 𝒪(‖x‖²)) t⁴ + 𝒪(t⁶)\n",
      "typeof(Ecua[1]) = Taylor1{TaylorN{Float64}}\n"
     ]
    },
    {
     "data": {
      "text/plain": [
       "Taylor1{TaylorN{Float64}}"
      ]
     },
     "execution_count": 150,
     "metadata": {},
     "output_type": "execute_result"
    }
   ],
   "source": [
    "#queremos revisar la estabilidad de las variables tx,x\n",
    "@show(P_θ)\n",
    "@show(typeof(P_θ))\n",
    "@show(CO[1])\n",
    "@show(typeof(CO[1]))\n",
    "@show(θλt)\n",
    "@show(typeof(θλt))\n",
    "@show(Ecua[1])\n",
    "@show(typeof(Ecua[1]))"
   ]
  },
  {
   "cell_type": "markdown",
   "metadata": {},
   "source": [
    "                                                 QUINTO ORDEN"
   ]
  },
  {
   "cell_type": "code",
   "execution_count": 151,
   "metadata": {},
   "outputs": [
    {
     "data": {
      "text/plain": [
       "2-element Array{TaylorN{Float64},1}:\n",
       "  1.0 θ + 𝒪(‖x‖²)\n",
       "  1.0 p + 𝒪(‖x‖²)"
      ]
     },
     "execution_count": 151,
     "metadata": {},
     "output_type": "execute_result"
    }
   ],
   "source": [
    "#creamos las variables que representan a x,p de tipo TaylorN\n",
    "θ,p = set_variables(Float64,\"θ p\",order=1)\n"
   ]
  },
  {
   "cell_type": "code",
   "execution_count": 152,
   "metadata": {},
   "outputs": [
    {
     "data": {
      "text/plain": [
       " ( - 0.5831757547123116 + 𝒪(‖x‖¹)) t + ( - 0.18639326303323042 + 𝒪(‖x‖¹)) t³ + ( 1.0 p + 𝒪(‖x‖²)) t⁵ + 𝒪(t⁷)"
      ]
     },
     "execution_count": 152,
     "metadata": {},
     "output_type": "execute_result"
    }
   ],
   "source": [
    "#definimos nuestros nuevos polinomios tomando en cuenta todos los coeficientes ya calculados\n",
    "P_θ=Taylor1([0.,vec1[1],θ2,θ3,θ4,θ],6)\n",
    "P_p=Taylor1([0.,vec1[2],p2,p3,p4,p],6)\n"
   ]
  },
  {
   "cell_type": "code",
   "execution_count": 153,
   "metadata": {},
   "outputs": [
    {
     "data": {
      "text/plain": [
       "2-element Array{Taylor1{TaylorN{Float64}},1}:\n",
       "                             ( - 1.3955217641908624 + 𝒪(‖x‖¹)) t + ( 0.04579966486242168 + 𝒪(‖x‖¹)) t³ + ( 1.0 θ + 1.0 p + 𝒪(‖x‖²)) t⁵ + 𝒪(t⁷)\n",
       "  ( - 1.0018322839695704 + 𝒪(‖x‖¹)) t + ( - 0.03676575792769882 + 𝒪(‖x‖¹)) t³ + ( - 0.026611022998050758 + 0.3 θ + 1.3 p + 𝒪(‖x‖²)) t⁵ + 𝒪(t⁷)"
      ]
     },
     "execution_count": 153,
     "metadata": {},
     "output_type": "execute_result"
    }
   ],
   "source": [
    "#aplicamos el mapeo\n",
    "QO=EstandarMap(P_θ,P_p,ke)"
   ]
  },
  {
   "cell_type": "code",
   "execution_count": 154,
   "metadata": {},
   "outputs": [
    {
     "name": "stdout",
     "output_type": "stream",
     "text": [
      " ( - 0.4728740576098044 + 𝒪(‖x‖¹)) t + ( 0.04579966486242169 + 𝒪(‖x‖¹)) t³ + ( 0.06683780623406323 θ + 𝒪(‖x‖²)) t⁵ + 𝒪(t⁷) ( - 0.33947195186874646 + 𝒪(‖x‖¹)) t + ( - 0.0367657579276988 + 𝒪(‖x‖¹)) t³ + ( 0.06683780623406323 p + 𝒪(‖x‖²)) t⁵ + 𝒪(t⁷)"
     ]
    }
   ],
   "source": [
    "#creamos la otra parte de la ecuación cohomo\n",
    "vλ=[0.,λ,λ^2,λ^3,λ^4,λ^5]\n",
    "θλt=Taylor1([0.,vec1[1],θ2,θ3,θ4,θ].*vλ,6)\n",
    "pλt=Taylor1([0.,vec1[2],p2,p3,p4,p].*vλ,6)\n",
    "print(θλt,pλt)"
   ]
  },
  {
   "cell_type": "code",
   "execution_count": 155,
   "metadata": {},
   "outputs": [
    {
     "data": {
      "text/plain": [
       "2-element Array{Taylor1{TaylorN{Float64}},1}:\n",
       "    ( - 0.4728740576098044 + 𝒪(‖x‖¹)) t + ( 0.04579966486242169 + 𝒪(‖x‖¹)) t³ + ( 0.06683780623406323 θ + 𝒪(‖x‖²)) t⁵ + 𝒪(t⁷)\n",
       "  ( - 0.33947195186874646 + 𝒪(‖x‖¹)) t + ( - 0.0367657579276988 + 𝒪(‖x‖¹)) t³ + ( 0.06683780623406323 p + 𝒪(‖x‖²)) t⁵ + 𝒪(t⁷)"
      ]
     },
     "execution_count": 155,
     "metadata": {},
     "output_type": "execute_result"
    }
   ],
   "source": [
    "#nos es más útil como vector\n",
    "λvec=[θλt,pλt]"
   ]
  },
  {
   "cell_type": "code",
   "execution_count": 156,
   "metadata": {},
   "outputs": [
    {
     "data": {
      "text/plain": [
       "2-element Array{Taylor1{TaylorN{Float64}},1}:\n",
       "                            ( - 0.922647706581058 + 𝒪(‖x‖¹)) t + ( - 1.3877787807814457e-17 + 𝒪(‖x‖¹)) t³ + ( 0.9331621937659368 θ + 1.0 p + 𝒪(‖x‖²)) t⁵ + 𝒪(t⁷)\n",
       "  ( - 0.6623603321008239 + 𝒪(‖x‖¹)) t + ( - 1.3877787807814457e-17 + 𝒪(‖x‖¹)) t³ + ( - 0.026611022998050758 + 0.3 θ + 1.2331621937659367 p + 𝒪(‖x‖²)) t⁵ + 𝒪(t⁷)"
      ]
     },
     "execution_count": 156,
     "metadata": {},
     "output_type": "execute_result"
    }
   ],
   "source": [
    "#escribimos la ecuación cohomo\n",
    "Ecua=QO-λvec"
   ]
  },
  {
   "cell_type": "code",
   "execution_count": 157,
   "metadata": {},
   "outputs": [
    {
     "data": {
      "text/plain": [
       " - 0.026611022998050758 + 0.3 θ + 1.2331621937659367 p + 𝒪(‖x‖²)"
      ]
     },
     "execution_count": 157,
     "metadata": {},
     "output_type": "execute_result"
    }
   ],
   "source": [
    "#obtenemos los coeficientes  que no son cero, es decir los de orden 5\n",
    "θ5=Ecua[1].coeffs[6]\n",
    "p5=Ecua[2].coeffs[6]\n"
   ]
  },
  {
   "cell_type": "code",
   "execution_count": 158,
   "metadata": {},
   "outputs": [
    {
     "data": {
      "text/plain": [
       "2×2 Transpose{Float64,Array{Float64,2}}:\n",
       " 0.933162  1.0    \n",
       " 0.3       1.23316"
      ]
     },
     "execution_count": 158,
     "metadata": {},
     "output_type": "execute_result"
    }
   ],
   "source": [
    "#les calculamos el jacobiano\n",
    "JQO=jacobian([θ5,p5])"
   ]
  },
  {
   "cell_type": "code",
   "execution_count": 159,
   "metadata": {},
   "outputs": [
    {
     "data": {
      "text/plain": [
       "0.8507403380038367"
      ]
     },
     "execution_count": 159,
     "metadata": {},
     "output_type": "execute_result"
    }
   ],
   "source": [
    "#calculamos el determinante para ver si podemos encontrar una solución\n",
    "det(JQO)"
   ]
  },
  {
   "cell_type": "code",
   "execution_count": 160,
   "metadata": {},
   "outputs": [
    {
     "data": {
      "text/plain": [
       "2-element Array{Float64,1}:\n",
       " -0.0                 \n",
       "  0.026611022998050758"
      ]
     },
     "execution_count": 160,
     "metadata": {},
     "output_type": "execute_result"
    }
   ],
   "source": [
    "#Dado que el determinante es distinto de cero buscamos los términos independientes\n",
    "a= Ecua[1].coeffs[6].coeffs[1].coeffs[1]\n",
    "b= Ecua[2].coeffs[6].coeffs[1].coeffs[1]\n",
    "vecCoef=[-a,-b]"
   ]
  },
  {
   "cell_type": "code",
   "execution_count": 161,
   "metadata": {},
   "outputs": [
    {
     "data": {
      "text/plain": [
       "2-element Array{Float64,1}:\n",
       " -0.03127984157950054 \n",
       "  0.029189165588977693"
      ]
     },
     "execution_count": 161,
     "metadata": {},
     "output_type": "execute_result"
    }
   ],
   "source": [
    "#como los térmimos independientes son diferentes de cero, y el determinante de la matriz también \n",
    "# podemos encontrar una solución \n",
    "\n",
    "T4=JQO \\ vecCoef"
   ]
  },
  {
   "cell_type": "code",
   "execution_count": 162,
   "metadata": {},
   "outputs": [
    {
     "data": {
      "text/plain": [
       "0.029189165588977693"
      ]
     },
     "execution_count": 162,
     "metadata": {},
     "output_type": "execute_result"
    }
   ],
   "source": [
    "#estos són los nuevos coeficientes de orden 5\n",
    "θ5=T4[1]\n",
    "p5=T4[2]\n"
   ]
  },
  {
   "cell_type": "code",
   "execution_count": 163,
   "metadata": {},
   "outputs": [
    {
     "name": "stdout",
     "output_type": "stream",
     "text": [
      "P_θ =  ( - 0.8123460094785507 + 𝒪(‖x‖¹)) t + ( 0.2321929278956521 + 𝒪(‖x‖¹)) t³ + ( 1.0 θ + 𝒪(‖x‖²)) t⁵ + 𝒪(t⁷)\n",
      "typeof(P_θ) = Taylor1{TaylorN{Float64}}\n",
      "QO[1] =  ( - 1.3955217641908624 + 𝒪(‖x‖¹)) t + ( 0.04579966486242168 + 𝒪(‖x‖¹)) t³ + ( 1.0 θ + 1.0 p + 𝒪(‖x‖²)) t⁵ + 𝒪(t⁷)\n",
      "typeof(QO[1]) = Taylor1{TaylorN{Float64}}\n",
      "θλt =  ( - 0.4728740576098044 + 𝒪(‖x‖¹)) t + ( 0.04579966486242169 + 𝒪(‖x‖¹)) t³ + ( 0.06683780623406323 θ + 𝒪(‖x‖²)) t⁵ + 𝒪(t⁷)\n",
      "typeof(θλt) = Taylor1{TaylorN{Float64}}\n",
      "Ecua[1] =  ( - 0.922647706581058 + 𝒪(‖x‖¹)) t + ( - 1.3877787807814457e-17 + 𝒪(‖x‖¹)) t³ + ( 0.9331621937659368 θ + 1.0 p + 𝒪(‖x‖²)) t⁵ + 𝒪(t⁷)\n",
      "typeof(Ecua[1]) = Taylor1{TaylorN{Float64}}\n"
     ]
    },
    {
     "data": {
      "text/plain": [
       "Taylor1{TaylorN{Float64}}"
      ]
     },
     "execution_count": 163,
     "metadata": {},
     "output_type": "execute_result"
    }
   ],
   "source": [
    "#queremos revisar la estabilidad de las variables tx,x\n",
    "@show(P_θ)\n",
    "@show(typeof(P_θ))\n",
    "@show(QO[1])\n",
    "@show(typeof(QO[1]))\n",
    "@show(θλt)\n",
    "@show(typeof(θλt))\n",
    "@show(Ecua[1])\n",
    "@show(typeof(Ecua[1]))"
   ]
  },
  {
   "cell_type": "markdown",
   "metadata": {},
   "source": [
    "                                                    Sexto orden"
   ]
  },
  {
   "cell_type": "code",
   "execution_count": 164,
   "metadata": {},
   "outputs": [
    {
     "data": {
      "text/plain": [
       "2-element Array{TaylorN{Float64},1}:\n",
       "  1.0 θ + 𝒪(‖x‖²)\n",
       "  1.0 p + 𝒪(‖x‖²)"
      ]
     },
     "execution_count": 164,
     "metadata": {},
     "output_type": "execute_result"
    }
   ],
   "source": [
    "#creamos las variables que representan a x,p\n",
    "θ,p = set_variables(Float64,\"θ p\",order=1)"
   ]
  },
  {
   "cell_type": "code",
   "execution_count": 165,
   "metadata": {},
   "outputs": [
    {
     "data": {
      "text/plain": [
       " ( - 0.5831757547123116 + 𝒪(‖x‖¹)) t + ( - 0.18639326303323042 + 𝒪(‖x‖¹)) t³ + ( 0.029189165588977693 + 𝒪(‖x‖¹)) t⁵ + ( 1.0 p + 𝒪(‖x‖²)) t⁶ + 𝒪(t⁸)"
      ]
     },
     "execution_count": 165,
     "metadata": {},
     "output_type": "execute_result"
    }
   ],
   "source": [
    "#creamos las variables que meteremos en el mapeo, las cuales son polinomios que ya tienen hasta el quinto orden calculado\n",
    "P_θ=Taylor1([0.,vec1[1],θ2,θ3,θ4,θ5,θ],7)\n",
    "P_p=Taylor1([0.,vec1[2],p2,p3,p4,p5,p],7)"
   ]
  },
  {
   "cell_type": "code",
   "execution_count": 166,
   "metadata": {},
   "outputs": [
    {
     "data": {
      "text/plain": [
       "2-element Array{Taylor1{TaylorN{Float64}},1}:\n",
       "                                           ( - 1.3955217641908624 + 𝒪(‖x‖¹)) t + ( 0.04579966486242168 + 𝒪(‖x‖¹)) t³ + ( - 0.002090675990522848 + 𝒪(‖x‖¹)) t⁵ + ( 1.0 θ + 1.0 p + 𝒪(‖x‖²)) t⁶ + 𝒪(t⁸)\n",
       "  ( - 1.0018322839695704 + 𝒪(‖x‖¹)) t + ( - 0.03676575792769882 + 𝒪(‖x‖¹)) t³ + ( 0.0019509397937700762 + 𝒪(‖x‖¹)) t⁵ + ( 0.3 θ + 1.3 p + 𝒪(‖x‖²)) t⁶ + ( 0.0038346622037622523 + 𝒪(‖x‖²)) t⁷ + 𝒪(t⁸)"
      ]
     },
     "execution_count": 166,
     "metadata": {},
     "output_type": "execute_result"
    }
   ],
   "source": [
    "#les aplicamos el mapeo\n",
    "SO=EstandarMap(P_θ,P_p,ke)"
   ]
  },
  {
   "cell_type": "code",
   "execution_count": 167,
   "metadata": {},
   "outputs": [
    {
     "name": "stdout",
     "output_type": "stream",
     "text": [
      " ( - 0.4728740576098044 + 𝒪(‖x‖¹)) t + ( 0.04579966486242169 + 𝒪(‖x‖¹)) t³ + ( - 0.0020906759905228514 + 𝒪(‖x‖¹)) t⁵ + ( 0.03890689960541239 θ + 𝒪(‖x‖²)) t⁶ + 𝒪(t⁸) ( - 0.33947195186874646 + 𝒪(‖x‖¹)) t + ( - 0.0367657579276988 + 𝒪(‖x‖¹)) t³ + ( 0.001950939793770077 + 𝒪(‖x‖¹)) t⁵ + ( 0.03890689960541239 p + 𝒪(‖x‖²)) t⁶ + 𝒪(t⁸)"
     ]
    }
   ],
   "source": [
    "#creamos el otro lado de la ecuación cohomo\n",
    "vλ=[0., λ, λ^2,λ^3, λ^4, λ^5, λ^6]\n",
    "θλt=Taylor1([0.,vec1[1],θ2,θ3,θ4,θ5,θ].*vλ,7)\n",
    "pλt=Taylor1([0.,vec1[2],p2,p3,p4,p5,p].*vλ,7)\n",
    "print(θλt,pλt)"
   ]
  },
  {
   "cell_type": "code",
   "execution_count": 168,
   "metadata": {},
   "outputs": [
    {
     "data": {
      "text/plain": [
       "2-element Array{Taylor1{TaylorN{Float64}},1}:\n",
       "  ( - 0.4728740576098044 + 𝒪(‖x‖¹)) t + ( 0.04579966486242169 + 𝒪(‖x‖¹)) t³ + ( - 0.0020906759905228514 + 𝒪(‖x‖¹)) t⁵ + ( 0.03890689960541239 θ + 𝒪(‖x‖²)) t⁶ + 𝒪(t⁸)\n",
       "   ( - 0.33947195186874646 + 𝒪(‖x‖¹)) t + ( - 0.0367657579276988 + 𝒪(‖x‖¹)) t³ + ( 0.001950939793770077 + 𝒪(‖x‖¹)) t⁵ + ( 0.03890689960541239 p + 𝒪(‖x‖²)) t⁶ + 𝒪(t⁸)"
      ]
     },
     "execution_count": 168,
     "metadata": {},
     "output_type": "execute_result"
    }
   ],
   "source": [
    "λvec=[θλt,pλt]"
   ]
  },
  {
   "cell_type": "code",
   "execution_count": 169,
   "metadata": {},
   "outputs": [
    {
     "data": {
      "text/plain": [
       "2-element Array{Taylor1{TaylorN{Float64}},1}:\n",
       "                                             ( - 0.922647706581058 + 𝒪(‖x‖¹)) t + ( - 1.3877787807814457e-17 + 𝒪(‖x‖¹)) t³ + ( 3.469446951953614e-18 + 𝒪(‖x‖¹)) t⁵ + ( 0.9610931003945876 θ + 1.0 p + 𝒪(‖x‖²)) t⁶ + 𝒪(t⁸)\n",
       "  ( - 0.6623603321008239 + 𝒪(‖x‖¹)) t + ( - 1.3877787807814457e-17 + 𝒪(‖x‖¹)) t³ + ( - 8.673617379884035e-19 + 𝒪(‖x‖¹)) t⁵ + ( 0.3 θ + 1.2610931003945876 p + 𝒪(‖x‖²)) t⁶ + ( 0.0038346622037622523 + 𝒪(‖x‖²)) t⁷ + 𝒪(t⁸)"
      ]
     },
     "execution_count": 169,
     "metadata": {},
     "output_type": "execute_result"
    }
   ],
   "source": [
    "#escribimos la ecuación cohomo para obtener el sistema asociado a este orden\n",
    "Ecua=SO-λvec"
   ]
  },
  {
   "cell_type": "code",
   "execution_count": 170,
   "metadata": {},
   "outputs": [
    {
     "data": {
      "text/plain": [
       " 0.3 θ + 1.2610931003945876 p + 𝒪(‖x‖²)"
      ]
     },
     "execution_count": 170,
     "metadata": {},
     "output_type": "execute_result"
    }
   ],
   "source": [
    "#extraemos solo los coeficientes que nos interesa calcular, en principio los demás términos deben ser cero pues ya los \n",
    "# calculamos previamente\n",
    "θ6=Ecua[1].coeffs[7]\n",
    "p6=Ecua[2].coeffs[7]"
   ]
  },
  {
   "cell_type": "code",
   "execution_count": 171,
   "metadata": {},
   "outputs": [
    {
     "data": {
      "text/plain": [
       "2×2 Transpose{Float64,Array{Float64,2}}:\n",
       " 0.961093  1.0    \n",
       " 0.3       1.26109"
      ]
     },
     "execution_count": 171,
     "metadata": {},
     "output_type": "execute_result"
    }
   ],
   "source": [
    "#calculamos el jacobiano para obetener el sistema\n",
    "JSO=jacobian([θ6,p6])"
   ]
  },
  {
   "cell_type": "code",
   "execution_count": 172,
   "metadata": {},
   "outputs": [
    {
     "data": {
      "text/plain": [
       "0.912027877744457"
      ]
     },
     "execution_count": 172,
     "metadata": {},
     "output_type": "execute_result"
    }
   ],
   "source": [
    "#calculamos el determinante del jacobiano para saber si hay solución\n",
    "det(JSO)"
   ]
  },
  {
   "cell_type": "code",
   "execution_count": 173,
   "metadata": {},
   "outputs": [
    {
     "data": {
      "text/plain": [
       "2-element Array{Float64,1}:\n",
       " 0.0\n",
       " 0.0"
      ]
     },
     "execution_count": 173,
     "metadata": {},
     "output_type": "execute_result"
    }
   ],
   "source": [
    "#dado que el determinante del jacobiano es distinto de cero y los términos independientes son iguales a cero \n",
    "# la solución a este sistema es la trivial\n",
    "T6=JSO\\ [0.,0.]\n"
   ]
  },
  {
   "cell_type": "code",
   "execution_count": 174,
   "metadata": {},
   "outputs": [
    {
     "data": {
      "text/plain": [
       "0.0"
      ]
     },
     "execution_count": 174,
     "metadata": {},
     "output_type": "execute_result"
    }
   ],
   "source": [
    "#por tanto los coeficientes de orden 6 son cero\n",
    "θ6=T6[1]\n",
    "p6=T6[2]"
   ]
  },
  {
   "cell_type": "code",
   "execution_count": 175,
   "metadata": {},
   "outputs": [
    {
     "name": "stdout",
     "output_type": "stream",
     "text": [
      "P_θ =  ( - 0.8123460094785507 + 𝒪(‖x‖¹)) t + ( 0.2321929278956521 + 𝒪(‖x‖¹)) t³ + ( - 0.03127984157950054 + 𝒪(‖x‖¹)) t⁵ + ( 1.0 θ + 𝒪(‖x‖²)) t⁶ + 𝒪(t⁸)\n",
      "typeof(P_θ) = Taylor1{TaylorN{Float64}}\n",
      "SO[1] =  ( - 1.3955217641908624 + 𝒪(‖x‖¹)) t + ( 0.04579966486242168 + 𝒪(‖x‖¹)) t³ + ( - 0.002090675990522848 + 𝒪(‖x‖¹)) t⁵ + ( 1.0 θ + 1.0 p + 𝒪(‖x‖²)) t⁶ + 𝒪(t⁸)\n",
      "typeof(SO[1]) = Taylor1{TaylorN{Float64}}\n",
      "θλt =  ( - 0.4728740576098044 + 𝒪(‖x‖¹)) t + ( 0.04579966486242169 + 𝒪(‖x‖¹)) t³ + ( - 0.0020906759905228514 + 𝒪(‖x‖¹)) t⁵ + ( 0.03890689960541239 θ + 𝒪(‖x‖²)) t⁶ + 𝒪(t⁸)\n",
      "typeof(θλt) = Taylor1{TaylorN{Float64}}\n",
      "Ecua[1] =  ( - 0.922647706581058 + 𝒪(‖x‖¹)) t + ( - 1.3877787807814457e-17 + 𝒪(‖x‖¹)) t³ + ( 3.469446951953614e-18 + 𝒪(‖x‖¹)) t⁵ + ( 0.9610931003945876 θ + 1.0 p + 𝒪(‖x‖²)) t⁶ + 𝒪(t⁸)\n",
      "typeof(Ecua[1]) = Taylor1{TaylorN{Float64}}\n"
     ]
    },
    {
     "data": {
      "text/plain": [
       "Taylor1{TaylorN{Float64}}"
      ]
     },
     "execution_count": 175,
     "metadata": {},
     "output_type": "execute_result"
    }
   ],
   "source": [
    "#queremos revisar la estabilidad de las variables tx,x\n",
    "@show(P_θ)\n",
    "@show(typeof(P_θ))\n",
    "@show(SO[1])\n",
    "@show(typeof(SO[1]))\n",
    "@show(θλt)\n",
    "@show(typeof(θλt))\n",
    "@show(Ecua[1])\n",
    "@show(typeof(Ecua[1]))"
   ]
  },
  {
   "cell_type": "markdown",
   "metadata": {},
   "source": [
    "                                                Séptimo orden"
   ]
  },
  {
   "cell_type": "code",
   "execution_count": 176,
   "metadata": {},
   "outputs": [
    {
     "data": {
      "text/plain": [
       "2-element Array{TaylorN{Float64},1}:\n",
       "  1.0 θ + 𝒪(‖x‖²)\n",
       "  1.0 p + 𝒪(‖x‖²)"
      ]
     },
     "execution_count": 176,
     "metadata": {},
     "output_type": "execute_result"
    }
   ],
   "source": [
    "#creamos las variables de x,p\n",
    "θ,p = set_variables(Float64,\"θ p\",order=1)"
   ]
  },
  {
   "cell_type": "code",
   "execution_count": 177,
   "metadata": {},
   "outputs": [
    {
     "data": {
      "text/plain": [
       " ( - 0.5831757547123116 + 𝒪(‖x‖¹)) t + ( - 0.18639326303323042 + 𝒪(‖x‖¹)) t³ + ( 0.029189165588977693 + 𝒪(‖x‖¹)) t⁵ + ( 1.0 p + 𝒪(‖x‖²)) t⁷ + 𝒪(t⁹)"
      ]
     },
     "execution_count": 177,
     "metadata": {},
     "output_type": "execute_result"
    }
   ],
   "source": [
    "#calculamos los polinomios asociados a la variedad que ya tienen todos los términos previos\n",
    "P_θ=Taylor1([0.,vec1[1],θ2,θ3,θ4,θ5,θ6,θ],8)\n",
    "P_p=Taylor1([0.,vec1[2],p2,p3,p4,p5,p6,p],8)\n"
   ]
  },
  {
   "cell_type": "code",
   "execution_count": 178,
   "metadata": {},
   "outputs": [
    {
     "data": {
      "text/plain": [
       "2-element Array{Taylor1{TaylorN{Float64}},1}:\n",
       "                           ( - 1.3955217641908624 + 𝒪(‖x‖¹)) t + ( 0.04579966486242168 + 𝒪(‖x‖¹)) t³ + ( - 0.002090675990522848 + 𝒪(‖x‖¹)) t⁵ + ( 1.0 θ + 1.0 p + 𝒪(‖x‖²)) t⁷ + 𝒪(t⁹)\n",
       "  ( - 1.0018322839695704 + 𝒪(‖x‖¹)) t + ( - 0.03676575792769882 + 𝒪(‖x‖¹)) t³ + ( 0.0019509397937700762 + 𝒪(‖x‖¹)) t⁵ + ( 0.0038346622037622523 + 0.3 θ + 1.3 p + 𝒪(‖x‖²)) t⁷ + 𝒪(t⁹)"
      ]
     },
     "execution_count": 178,
     "metadata": {},
     "output_type": "execute_result"
    }
   ],
   "source": [
    "#les aplicamos el mapeo\n",
    "SEO=EstandarMap(P_θ,P_p,ke)"
   ]
  },
  {
   "cell_type": "code",
   "execution_count": 179,
   "metadata": {},
   "outputs": [
    {
     "name": "stdout",
     "output_type": "stream",
     "text": [
      " ( - 0.4728740576098044 + 𝒪(‖x‖¹)) t + ( 0.04579966486242169 + 𝒪(‖x‖¹)) t³ + ( - 0.0020906759905228514 + 𝒪(‖x‖¹)) t⁵ + ( 0.022648062858385273 θ + 𝒪(‖x‖²)) t⁷ + 𝒪(t⁹) ( - 0.33947195186874646 + 𝒪(‖x‖¹)) t + ( - 0.0367657579276988 + 𝒪(‖x‖¹)) t³ + ( 0.001950939793770077 + 𝒪(‖x‖¹)) t⁵ + ( 0.022648062858385273 p + 𝒪(‖x‖²)) t⁷ + 𝒪(t⁹)"
     ]
    }
   ],
   "source": [
    "#calculamos el otro lado de la ecuación cohomo\n",
    "vλ=[0., λ, λ^2,λ^3, λ^4, λ^5, λ^6,λ^7]\n",
    "θλt=Taylor1([0,vec1[1],θ2,θ3,θ4,θ5,θ6,θ].*vλ,8)\n",
    "pλt=Taylor1([0,vec1[2],p2,p3,p4,p5,p6,p].*vλ,8)\n",
    "print(θλt,pλt)"
   ]
  },
  {
   "cell_type": "code",
   "execution_count": 180,
   "metadata": {},
   "outputs": [
    {
     "data": {
      "text/plain": [
       "2-element Array{Taylor1{TaylorN{Float64}},1}:\n",
       "  ( - 0.4728740576098044 + 𝒪(‖x‖¹)) t + ( 0.04579966486242169 + 𝒪(‖x‖¹)) t³ + ( - 0.0020906759905228514 + 𝒪(‖x‖¹)) t⁵ + ( 0.022648062858385273 θ + 𝒪(‖x‖²)) t⁷ + 𝒪(t⁹)\n",
       "   ( - 0.33947195186874646 + 𝒪(‖x‖¹)) t + ( - 0.0367657579276988 + 𝒪(‖x‖¹)) t³ + ( 0.001950939793770077 + 𝒪(‖x‖¹)) t⁵ + ( 0.022648062858385273 p + 𝒪(‖x‖²)) t⁷ + 𝒪(t⁹)"
      ]
     },
     "execution_count": 180,
     "metadata": {},
     "output_type": "execute_result"
    }
   ],
   "source": [
    "λvec=[θλt,pλt]"
   ]
  },
  {
   "cell_type": "code",
   "execution_count": 181,
   "metadata": {},
   "outputs": [
    {
     "data": {
      "text/plain": [
       "2-element Array{Taylor1{TaylorN{Float64}},1}:\n",
       "                             ( - 0.922647706581058 + 𝒪(‖x‖¹)) t + ( - 1.3877787807814457e-17 + 𝒪(‖x‖¹)) t³ + ( 3.469446951953614e-18 + 𝒪(‖x‖¹)) t⁵ + ( 0.9773519371416147 θ + 1.0 p + 𝒪(‖x‖²)) t⁷ + 𝒪(t⁹)\n",
       "  ( - 0.6623603321008239 + 𝒪(‖x‖¹)) t + ( - 1.3877787807814457e-17 + 𝒪(‖x‖¹)) t³ + ( - 8.673617379884035e-19 + 𝒪(‖x‖¹)) t⁵ + ( 0.0038346622037622523 + 0.3 θ + 1.2773519371416149 p + 𝒪(‖x‖²)) t⁷ + 𝒪(t⁹)"
      ]
     },
     "execution_count": 181,
     "metadata": {},
     "output_type": "execute_result"
    }
   ],
   "source": [
    "#escribimos la ecua. cohomo\n",
    "Ecua=SEO-λvec"
   ]
  },
  {
   "cell_type": "code",
   "execution_count": 182,
   "metadata": {},
   "outputs": [
    {
     "data": {
      "text/plain": [
       " 0.0038346622037622523 + 0.3 θ + 1.2773519371416149 p + 𝒪(‖x‖²)"
      ]
     },
     "execution_count": 182,
     "metadata": {},
     "output_type": "execute_result"
    }
   ],
   "source": [
    "#dado que los términos anteriores ya los calculamos solo extraemos los términos de orden 7 \n",
    "θ7=Ecua[1].coeffs[8]\n",
    "p7=Ecua[2].coeffs[8]"
   ]
  },
  {
   "cell_type": "code",
   "execution_count": 183,
   "metadata": {},
   "outputs": [
    {
     "data": {
      "text/plain": [
       "2×2 Transpose{Float64,Array{Float64,2}}:\n",
       " 0.977352  1.0    \n",
       " 0.3       1.27735"
      ]
     },
     "execution_count": 183,
     "metadata": {},
     "output_type": "execute_result"
    }
   ],
   "source": [
    "#los ponemos como un vector y le calculamos el jacobianos para obtener el sistema\n",
    "JSEO=jacobian([θ7,p7])"
   ]
  },
  {
   "cell_type": "code",
   "execution_count": 184,
   "metadata": {},
   "outputs": [
    {
     "data": {
      "text/plain": [
       "0.9484223901769514"
      ]
     },
     "execution_count": 184,
     "metadata": {},
     "output_type": "execute_result"
    }
   ],
   "source": [
    "#calculamos el determinante del sistema para saber si hay solución\n",
    "det(JSEO)"
   ]
  },
  {
   "cell_type": "code",
   "execution_count": 185,
   "metadata": {},
   "outputs": [
    {
     "data": {
      "text/plain": [
       "2-element Array{Float64,1}:\n",
       " -0.0                  \n",
       " -0.0038346622037622523"
      ]
     },
     "execution_count": 185,
     "metadata": {},
     "output_type": "execute_result"
    }
   ],
   "source": [
    "#extraemos los términos independienets de la ecuación cohomo\n",
    "a= Ecua[1].coeffs[8].coeffs[1].coeffs[1]\n",
    "b= Ecua[2].coeffs[8].coeffs[1].coeffs[1]\n",
    "vecCoef=[-a,-b]"
   ]
  },
  {
   "cell_type": "code",
   "execution_count": 186,
   "metadata": {},
   "outputs": [
    {
     "data": {
      "text/plain": [
       "2-element Array{Float64,1}:\n",
       "  0.004043200839076355\n",
       " -0.003951630172323878"
      ]
     },
     "execution_count": 186,
     "metadata": {},
     "output_type": "execute_result"
    }
   ],
   "source": [
    "#dado que el determinante de la matriz es distinto de cero y los términos independientes también, podemos encontrar \n",
    "# una solución distinta de la trivial\n",
    "T7=JSEO\\vecCoef"
   ]
  },
  {
   "cell_type": "code",
   "execution_count": 187,
   "metadata": {},
   "outputs": [
    {
     "data": {
      "text/plain": [
       "-0.003951630172323878"
      ]
     },
     "execution_count": 187,
     "metadata": {},
     "output_type": "execute_result"
    }
   ],
   "source": [
    "#estos nuevos elementos son los coeficientes de orden 7 en el polinomio\n",
    "θ7=T7[1]\n",
    "p7=T7[2]"
   ]
  },
  {
   "cell_type": "code",
   "execution_count": 188,
   "metadata": {},
   "outputs": [
    {
     "name": "stdout",
     "output_type": "stream",
     "text": [
      "P_θ =  ( - 0.8123460094785507 + 𝒪(‖x‖¹)) t + ( 0.2321929278956521 + 𝒪(‖x‖¹)) t³ + ( - 0.03127984157950054 + 𝒪(‖x‖¹)) t⁵ + ( 1.0 θ + 𝒪(‖x‖²)) t⁷ + 𝒪(t⁹)\n",
      "typeof(P_θ) = Taylor1{TaylorN{Float64}}\n",
      "SEO[1] =  ( - 1.3955217641908624 + 𝒪(‖x‖¹)) t + ( 0.04579966486242168 + 𝒪(‖x‖¹)) t³ + ( - 0.002090675990522848 + 𝒪(‖x‖¹)) t⁵ + ( 1.0 θ + 1.0 p + 𝒪(‖x‖²)) t⁷ + 𝒪(t⁹)\n",
      "typeof(SEO[1]) = Taylor1{TaylorN{Float64}}\n",
      "θλt =  ( - 0.4728740576098044 + 𝒪(‖x‖¹)) t + ( 0.04579966486242169 + 𝒪(‖x‖¹)) t³ + ( - 0.0020906759905228514 + 𝒪(‖x‖¹)) t⁵ + ( 0.022648062858385273 θ + 𝒪(‖x‖²)) t⁷ + 𝒪(t⁹)\n",
      "typeof(θλt) = Taylor1{TaylorN{Float64}}\n",
      "Ecua[1] =  ( - 0.922647706581058 + 𝒪(‖x‖¹)) t + ( - 1.3877787807814457e-17 + 𝒪(‖x‖¹)) t³ + ( 3.469446951953614e-18 + 𝒪(‖x‖¹)) t⁵ + ( 0.9773519371416147 θ + 1.0 p + 𝒪(‖x‖²)) t⁷ + 𝒪(t⁹)\n",
      "typeof(Ecua[1]) = Taylor1{TaylorN{Float64}}\n"
     ]
    },
    {
     "data": {
      "text/plain": [
       "Taylor1{TaylorN{Float64}}"
      ]
     },
     "execution_count": 188,
     "metadata": {},
     "output_type": "execute_result"
    }
   ],
   "source": [
    "#queremos revisar la estabilidad de las variables tx,x\n",
    "@show(P_θ)\n",
    "@show(typeof(P_θ))\n",
    "@show(SEO[1])\n",
    "@show(typeof(SEO[1]))\n",
    "@show(θλt)\n",
    "@show(typeof(θλt))\n",
    "@show(Ecua[1])\n",
    "@show(typeof(Ecua[1]))"
   ]
  },
  {
   "cell_type": "code",
   "execution_count": null,
   "metadata": {
    "collapsed": true
   },
   "outputs": [],
   "source": []
  }
 ],
 "metadata": {
  "kernelspec": {
   "display_name": "Julia 1.0.2",
   "language": "julia",
   "name": "julia-1.0"
  },
  "language_info": {
   "file_extension": ".jl",
   "mimetype": "application/julia",
   "name": "julia",
   "version": "1.0.2"
  }
 },
 "nbformat": 4,
 "nbformat_minor": 1
}
