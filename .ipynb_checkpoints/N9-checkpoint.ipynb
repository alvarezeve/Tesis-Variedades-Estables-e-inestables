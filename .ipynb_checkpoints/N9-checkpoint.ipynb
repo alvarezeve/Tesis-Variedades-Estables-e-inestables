{
 "cells": [
  {
   "cell_type": "markdown",
   "metadata": {},
   "source": [
    "# Mejoras"
   ]
  },
  {
   "cell_type": "markdown",
   "metadata": {},
   "source": [
    "Antes de seguir probando la automarización que hemos logrado debemos hacer algunas mejoras. Para ellos revisaremos cada función y de ser posible haremos más simples algunas cosas y omitiremos aquellas que sean redundantes. Es punto de esto es hacer un prógrama mejor automatizado y más simple."
   ]
  },
  {
   "cell_type": "code",
   "execution_count": 1,
   "metadata": {
    "collapsed": false
   },
   "outputs": [
    {
     "name": "stderr",
     "output_type": "stream",
     "text": [
      "\u001b[1m\u001b[34mINFO: Recompiling stale cache file /home/evelyn/.julia/lib/v0.5/PyPlot.ji for module PyPlot.\n",
      "\u001b[0m"
     ]
    }
   ],
   "source": [
    "using TaylorSeries\n",
    "using PyPlot\n",
    "using LinearAlgebra"
   ]
  },
  {
   "cell_type": "markdown",
   "metadata": {},
   "source": [
    "En primera dado que queremos aplicar el método a cualquier sistema quitaremos la parte donde se grafica el mapeo estándar de las funciones principales."
   ]
  },
  {
   "cell_type": "code",
   "execution_count": 2,
   "metadata": {
    "collapsed": false
   },
   "outputs": [
    {
     "data": {
      "text/plain": [
       "PolinomioTaylor1"
      ]
     },
     "execution_count": 2,
     "metadata": {},
     "output_type": "execute_result"
    }
   ],
   "source": [
    "\"\"\"\n",
    "\n",
    "PolinomioTaylor1(g,Cθ,CP, TipoVariable)\n",
    "   \n",
    "   Es una función cuyo objetivo es recibir dos listas con valores iniciales y crear dos polinomios de grado g.\n",
    "\n",
    "\n",
    "\n",
    "\n",
    "Argumentos:\n",
    "\n",
    "\n",
    "\n",
    "\n",
    "\n",
    "   - g       : grado del polinomio\n",
    "   - Cθ,CP  :  Arreglo que contiene los coeficientes iniciales, es del tipo Array{TaylorSeries.TaylorN{Float64}}\n",
    "   - TipoVariable :  es el tipo de número que queremos uasr: Real, Float64, BigFloat, etc.\n",
    "   \n",
    "\n",
    "    Esta función regresa dos arreglos que contienen elementos del tipo Taylor1.TaylorN, creados con las listas iniciales.\n",
    "\n",
    "\n",
    "\"\"\"\n",
    "function PolinomioTaylor1(g::Real,Cθ,CP,TipoVariable)\n",
    "    #=\n",
    "    Donde L es un arreglo que contiene los coeficientes del polinomio, g es el grado del polinomio, CX y CP son\n",
    "    arreglos que contienen los coeficientes que forman la variedad.\n",
    "    \n",
    "    Separamos el primer orden puesto que es diferente de los otros.\n",
    "    Creamos x,p como variables tipo TaylorN de orden 1, recordemos que aquí no es importante el orden pues sólo las\n",
    "    estamos usando como variables dentro de un Taylor1 =#\n",
    "    \n",
    "    \n",
    "    \n",
    "    θ,p = set_variables(TipoVariable, \"θ p\", order=2)\n",
    "    \n",
    "    #especificamos que LX,LP son de arreglos que guardarán coeficientes del polinomio, sólo son auxiliares en esta función\n",
    "    \n",
    "   \n",
    "    Lθ = Array{TaylorSeries.TaylorN{TipoVariable}}(1)\n",
    "    LP = Array{TaylorSeries.TaylorN{TipoVariable}}(1)\n",
    "    \n",
    "    \n",
    "    \n",
    "    \n",
    "    \n",
    "    #usamos un condicional para separar el caso 1 del resto\n",
    "    if g == 1\n",
    "        \n",
    "        T = [Taylor1([θ], g),Taylor1([p], g)]\n",
    "    #en el caso en que g>1 entonces usamos las listas que van guardando los coeficientes\n",
    "    else\n",
    "        #como CX,CP están guardando los coeficientes pero necesitamos agregar el último término que será una variable \n",
    "        \n",
    "        Lθ = push!(Cθ, θ) \n",
    "        LP = push!(CP, p)\n",
    "\n",
    "        T=[Taylor1(Lθ, g),Taylor1(LP, g)]\n",
    "        \n",
    "    end\n",
    "    return T\n",
    "end\n",
    "#Esta función regresa tθ,tp que son Taylor1.TaylorN"
   ]
  },
  {
   "cell_type": "code",
   "execution_count": 3,
   "metadata": {
    "collapsed": false
   },
   "outputs": [
    {
     "data": {
      "text/plain": [
       "Vecλ"
      ]
     },
     "execution_count": 3,
     "metadata": {},
     "output_type": "execute_result"
    }
   ],
   "source": [
    "#=Esta función toma el arreglo que contiene las lambdas que se van calculando, los coeficientes de los polinomios\n",
    "y el orden de los mismos, lo que hace es generar el lado derecho de la ecuación cohomológica, multiplicando a_n*λ^n\n",
    "y generando un polinomio de gradno g con estos coeficientes\n",
    "=#\n",
    "\"\"\"\n",
    "Vecλ(λ_v,g,Cθ,CP)\n",
    "Es una función que calcula la parte derecha de la ecuación comohológica, es decir la parte que involucra el valor propio.\n",
    "Regresa un arreglo de tipo TaylorSeries.TaylorN{Float64}\n",
    "\n",
    "\n",
    "Sus argumentos son:\n",
    "-g      :  grado del polinomio.\n",
    "-λ_v    :  Arreglo de dos dimensiones que contiene el valor propio y sus potencias. \n",
    "-Cθ,CP  :  Los arreglos con los polinomios que se calculan en PolinomioTaylor1.\n",
    "\n",
    "\"\"\"\n",
    "function Vecλ(λ_v,g,Cθ,CP)\n",
    "   # el arreglo de λ_v contiene los arreglos que corresponden a la parte derecha de la ecuación cohomológica\n",
    "    # en θ,p. Es importante hacer la distinción puesto que dependiendo del punto fijo donde se esté calculando\n",
    "    # el primer valor de λ en θ serpa diferente del primer valor de λ en P\n",
    "    θλt=Taylor1(λ_v[1].*Cθ,g)\n",
    "    pλt=Taylor1(λ_v[2].*CP,g)\n",
    "    \n",
    "    λvec=[θλt,pλt]\n",
    "    \n",
    "    return λvec\n",
    "end"
   ]
  },
  {
   "cell_type": "code",
   "execution_count": 4,
   "metadata": {
    "collapsed": false
   },
   "outputs": [
    {
     "data": {
      "text/plain": [
       "ValPropios (generic function with 1 method)"
      ]
     },
     "execution_count": 4,
     "metadata": {},
     "output_type": "execute_result"
    }
   ],
   "source": [
    "function ValPropios(M)\n",
    "    V = BigFloat[]\n",
    "    \n",
    "    v_prop1 = (trace(M) + sqrt(trace(M)^2-4.*det(M)))/2.\n",
    "    v_prop2 = (trace(M) - sqrt(trace(M)^2-4.*det(M)))/2.\n",
    "    push!(V,v_prop1)\n",
    "    push!(V,v_prop2)\n",
    "    ValoresP = sort(V,rev=true)\n",
    "return ValoresP\n",
    "end\n",
    "    "
   ]
  },
  {
   "cell_type": "code",
   "execution_count": 5,
   "metadata": {
    "collapsed": false
   },
   "outputs": [
    {
     "data": {
      "text/plain": [
       "VecPropios (generic function with 1 method)"
      ]
     },
     "execution_count": 5,
     "metadata": {},
     "output_type": "execute_result"
    }
   ],
   "source": [
    "function VecPropios(M,ValoresP)\n",
    "    Vectores = []\n",
    "    for i in [1,2]\n",
    "        y = big.(1.)\n",
    "        I_2 = big.([1. 0.; 0. 1.])\n",
    "        M_aux = -I_2.*ValoresP[i]+M\n",
    "        x = -(y*M_aux[3])/M_aux[1]\n",
    "        push!(Vectores,x)\n",
    "        push!(Vectores,y)\n",
    "    end\n",
    "    return Vectores\n",
    "end\n",
    "        \n",
    "        \n",
    "    \n",
    "    \n",
    "    "
   ]
  },
  {
   "cell_type": "code",
   "execution_count": 6,
   "metadata": {
    "collapsed": false
   },
   "outputs": [
    {
     "data": {
      "text/plain": [
       "EigenValores (generic function with 1 method)"
      ]
     },
     "execution_count": 6,
     "metadata": {},
     "output_type": "execute_result"
    }
   ],
   "source": [
    "function EigenValores(M)\n",
    "    ValoresP  = ValPropios(M)\n",
    "    VectoresP = VecPropios(M,ValoresP)\n",
    "    V = (ValoresP,[VectoresP[1] VectoresP[3];VectoresP[2] VectoresP[4]])\n",
    "    return V\n",
    "end"
   ]
  },
  {
   "cell_type": "code",
   "execution_count": 15,
   "metadata": {
    "collapsed": false
   },
   "outputs": [
    {
     "name": "stderr",
     "output_type": "stream",
     "text": [
      "WARNING: Method definition Variedades(Any, Any, Any, Any, Any, Any, Any) in module Main at In[7]:28 overwritten at In[15]:28.\n",
      "\u001b[1m\u001b[31mWARNING: replacing docs for 'Variedades :: Tuple{Any,Any,Any,Any,Any,Any,Any}' in module 'Main'.\u001b[0m\n"
     ]
    },
    {
     "data": {
      "text/plain": [
       "Variedades"
      ]
     },
     "execution_count": 15,
     "metadata": {},
     "output_type": "execute_result"
    }
   ],
   "source": [
    "#Creamos una función que reciba el orden del polinomio , el punto fijo, el parámetro k y \n",
    "#el tipo de varidad que queremos(estable=1, inestable=2)\n",
    "\"\"\"\n",
    "Variedades(Mapeo,orden, PuntoFijo,k,tipo_v,TipoVariable)\n",
    "Es una función que calcula las variedades de cierto mapeo. Usa las funciones de PolinomioTaylor1 y Vecλ para calcular los\n",
    "polinomios de cada lado de la ecuación cohomológica y les aplica el mapeo dado. \n",
    "\n",
    "\n",
    "\n",
    "Argumentos:\n",
    "\n",
    "\n",
    "- Mapeo : Mapeo de dos dimensiones, debe recibir al menos dos parámetros que son los polinomios antes calculados.\n",
    "- orden : se trata del orden del polinomio.\n",
    "- PuntoFijo : ES el punto fijo donde queremos calcular la variedad.\n",
    "- k     : Es la constante del mapeo.\n",
    "- tipo_v : 1 si la variedad es estable, 2 si es inestable.\n",
    "- TipoVariable :  Float64,BigFloat, Integer,etc.\n",
    "\n",
    "\n",
    "\"\"\"\n",
    "function Variedades(Mapeo,orden, PuntoFijo,k,l,tipo_v, TipoVariable)\n",
    "   \n",
    "    #definimos unas listas donde se guardarán los coeficientes  de todo el polinomio, tales deben ser\n",
    "    # de tipo \"Array{TaylorSeries.TaylorN{Int64},1}\" dado que los términos que se van agregando \n",
    "    # en cada orden son de tipo TaylorN.\n",
    "    \n",
    "    a=TipoVariable(PuntoFijo[1])\n",
    "    b=TipoVariable(PuntoFijo[2])\n",
    "    Cθ = [a+TaylorN(0.)]\n",
    "    CP = [b+TaylorN(0.)]\n",
    "    \n",
    "    \n",
    "    #λarray es la lista que contiene a los coeficientes del polinomio de λ\n",
    "    λarrayθ = [a^0]\n",
    "    λarrayP = [b^0]\n",
    "    \n",
    "    #definimos un vector que contiene el punto en el que se evalúa el jacobiano que se calcula después\n",
    "    #dado que sólo lo usamos para obtener los valores que resultaron en el mapeo evaluamos siempre en [1.,1.]\n",
    "    evaluar = [1.,1.]\n",
    "    \n",
    "\n",
    "\n",
    "    for g in 1:orden\n",
    "        \n",
    "        #Calculamos el primer término del polinomio usando las funciones anteriores\n",
    "        if g == 1\n",
    "        #Llamamos a la función que calcula los polinomios de grado g\n",
    "            t = PolinomioTaylor1(g,Cθ,CP,TipoVariable)\n",
    "            @show(typeof(t))\n",
    "            #Aplicamos el mapeo a los polinomios que resultan de la función anterior.\n",
    "            Or1 = Mapeo(t[1],t[2],k,l)\n",
    "            @show(typeof(Or1))\n",
    "            #Calculamos el jacobiano del Orden 1 para obtener sus valores y vectores propios.\n",
    "            JPO = jacobian(Or1)\n",
    "            @show(JPO)\n",
    "            \n",
    "            #La matriz JacFl está deinida para obtener los valores de JPO como flotantes.          \n",
    "            \n",
    "            \n",
    "            \n",
    "            JacFl = Array{TipoVariable}(2,2)\n",
    "            for ind in eachindex(JPO)\n",
    "              \n",
    "                JacFl[ind] = JPO[ind].coeffs[1]\n",
    "            end\n",
    "            \n",
    "            \n",
    "            @show(JacFl)\n",
    "            #Calculamos los valores y vectores propios\n",
    "            if TipoVariable == BigFloat\n",
    "                eigval,eigvec = EigenValores(JacFl)\n",
    "            else\n",
    "                eigval,eigvec = eig(JacFl)\n",
    "            end\n",
    "            #escogemos el tipo de variedad que queremos calcular. Como se ordenan de menor a mayor la inestable es la segunda\n",
    "            λ = eigval[tipo_v]\n",
    "            \n",
    "            #Ponemos los coeficientes en una variable nueva cada uno y los agregamos a las listas CX,CP,λ\n",
    "            Coefθ,CoefP = eigvec[:,tipo_v]\n",
    "            @show(Coefθ,CoefP)\n",
    "            push!(Cθ, Coefθ)\n",
    "            push!(CP, CoefP)\n",
    "            push!(λarrayθ, λ)\n",
    "            push!(λarrayP, λ)\n",
    "            λ_v=[λarrayθ,λarrayP]\n",
    "            \n",
    "            #@show(λarray)  \n",
    "            \n",
    "        #Cominzan los casos en los que g>1    \n",
    "        else\n",
    "            #Creamos los polinomios con las listas correspondientes \n",
    "            t = PolinomioTaylor1(g,Cθ,CP,TipoVariable)\n",
    "            \n",
    "            # aplicamos el mapeo estándar y al resultado le llamamos OrG por Orden g.\n",
    "            OrG = Mapeo(t[1],t[2],k,l)\n",
    "            \n",
    "            push!(λarrayθ,λarrayθ[2]^g)\n",
    "            push!(λarrayP,λarrayP[2]^g)\n",
    "            λ_v=[λarrayθ,λarrayP]\n",
    "            \n",
    "            #agregamos el término correspondiente a λ \n",
    "            λ_vec=Vecλ(λ_v,g,Cθ,CP)\n",
    "            \n",
    "            \n",
    "            #@show(λvec)\n",
    "            \n",
    "            # ahora ya tengo las dos partes de la ecuación y debo igualarlas para resolver.\n",
    "            EcuaCohomo=OrG-λ_vec\n",
    "            \n",
    "            \n",
    "            # de esta ecuación necesitamos solo los de orden g, así que los extraemos manualmente \n",
    "            θ_g=EcuaCohomo[1].coeffs[g+1]\n",
    "            p_g=EcuaCohomo[2].coeffs[g+1]\n",
    "            vec_orden_g=[θ_g,p_g]\n",
    "            \n",
    "            \n",
    "            #calculamos el término independiene en la ecuación\n",
    "            θ_ind=EcuaCohomo[1].coeffs[g+1].coeffs[1].coeffs[1]\n",
    "            p_ind=EcuaCohomo[2].coeffs[g+1].coeffs[1].coeffs[1]\n",
    "            vec_ind=[-θ_ind,-p_ind]\n",
    "            \n",
    "            #calculamos el jacobiano\n",
    "            JacOrdenG = jacobian(vec_orden_g)\n",
    "            \n",
    "            \n",
    "            \n",
    "            \n",
    "            #Con esta información podemos evaluar lo siguiente:\n",
    "            # Si el vector de términos independientes es cero y el determinante del jacobiano es distinto de cero\n",
    "            # entonces la solución a la ecuación cohomológica es la trivial\n",
    "            if norm(vec_ind)==0.\n",
    "                if det(JacOrdenG)!=0.\n",
    "                    \n",
    "                    Cθ[g+1]=0.\n",
    "                    CP[g+1]=0.\n",
    "                end\n",
    "            else\n",
    "                # Si el vector de términos independientes es distinto de ceroentonces necesitamos \n",
    "                #resolver la ecuación JacOrdenG[x_g,p_g]*[x,p]**=vec_ind[x_g,p_g]\n",
    "                # entonces solo se trata de invertir el jacobiano y multiplicar con el vector del lado izquierdo\n",
    "                TermG=JacOrdenG \\ vec_ind\n",
    "                \n",
    "                Cθ[g+1]=TermG[1]\n",
    "                CP[g+1]=TermG[2]\n",
    "            \n",
    "            end\n",
    "            \n",
    "        end\n",
    "    end\n",
    "    return Cθ,CP,λarrayθ, λarrayP\n",
    "end"
   ]
  },
  {
   "cell_type": "code",
   "execution_count": 16,
   "metadata": {
    "collapsed": false
   },
   "outputs": [
    {
     "name": "stderr",
     "output_type": "stream",
     "text": [
      "WARNING: Method definition PolinomioCohomo(Any, Any, Any, Any, Any, Any) in module Main at In[8]:16 overwritten at In[16]:16.\n",
      "\u001b[1m\u001b[31mWARNING: replacing docs for 'PolinomioCohomo :: Tuple{Any,Any,Any,Any,Any,Any}' in module 'Main'.\u001b[0m\n"
     ]
    },
    {
     "data": {
      "text/plain": [
       "PolinomioCohomo"
      ]
     },
     "execution_count": 16,
     "metadata": {},
     "output_type": "execute_result"
    }
   ],
   "source": [
    "\"\"\"\n",
    "PolinomioCohomo(Mapeo,Pol_vec,λvec, k)\n",
    "Esta función calcula la ecuación cohomológica con los polinomios que ya se calcularon. Regresa un arreglo de dos \n",
    "elementos que son los valores de x,θ del mapeo.\n",
    "\n",
    "\n",
    "Argumentos:\n",
    "-Mapeo : función o mapeo del cual calculamos las variedades.Debe ser una función que reciba tres parámetros\n",
    " que son dos de sus variables y la constante del mapeo. Como salida debe tener un arreglo de dos elementos. \n",
    "-Pol_vec : Es un arreglo de dos elementos que son los polinomios calculados con anterioridad. \n",
    "-k     : es el valor de la constante del mapeo \n",
    "-λvec : \n",
    "\n",
    "\"\"\"\n",
    "function PolinomioCohomo(Mapeo,Pol_vec,λvec, k,l ,PuntoFijo)\n",
    "    Map_vec=Mapeo(Pol_vec[1],Pol_vec[2],k,l)\n",
    "    Ec_Cohomo = mod(Map_vec-λvec,2*pi)\n",
    "    #Ec_Cohomo = Map_vec-λvec\n",
    "    return Ec_Cohomo\n",
    "end"
   ]
  },
  {
   "cell_type": "code",
   "execution_count": 17,
   "metadata": {
    "collapsed": false
   },
   "outputs": [
    {
     "name": "stderr",
     "output_type": "stream",
     "text": [
      "WARNING: Method definition EvaluarPol(Any, Any, Any, Any) in module Main at In[9]:22 overwritten at In[17]:22.\n",
      "\u001b[1m\u001b[31mWARNING: replacing docs for 'EvaluarPol :: Tuple{Any,Any,Any,Any}' in module 'Main'.\u001b[0m\n"
     ]
    },
    {
     "data": {
      "text/plain": [
       "EvaluarPol"
      ]
     },
     "execution_count": 17,
     "metadata": {},
     "output_type": "execute_result"
    }
   ],
   "source": [
    "\"\"\"\n",
    "EvaluarPol(Ec_2var,Tiempo,paso)\n",
    "\n",
    "Es una función que toma un arreglo de dos dimensiones que contiene polinomios y los evalúa en el tiempo dado en los pasos deseados\n",
    "\n",
    "\n",
    "\n",
    "\n",
    "Argumentos:\n",
    "\n",
    "-Ec_2var : Arreglo de dos dimensiones que contiene polinomios en cada una de ellas. \n",
    "-Tiempo  : Valor hasta el cual se quiere evaluar cada polinomio\n",
    "-paso    : es el paso que se considera en cada evaluación del polinomio. \n",
    "\n",
    "\"\"\"\n",
    "function EvaluarPol(Ec_2var,Tiempo,paso,TipoVariable)\n",
    "    \n",
    "    \n",
    "    \n",
    "    \n",
    "    \n",
    "    Val=TipoVariable[]\n",
    "    Tiem=TipoVariable[]\n",
    "    \n",
    "    \n",
    "    for t = 0:paso:Tiempo\n",
    "        x = evaluate(Ec_2var[1], t)\n",
    "        y = evaluate(Ec_2var[2], t)\n",
    "\n",
    "        \n",
    "        norma = norm([x,y],Inf)\n",
    "        push!(Val,norma)\n",
    "        push!(Tiem,t)\n",
    "    \n",
    "    end\n",
    "    return Tiem,Val\n",
    "end"
   ]
  },
  {
   "cell_type": "markdown",
   "metadata": {},
   "source": [
    "Esta función resume todo el proceso de parametización: Primero llama a la función Variedades que es la que contiene el método en sí. Lo que hace Variedades es crear primero dos polinomios de grado uno que tienen como primer coeficiente al punto fijo que se conoce, esto lo hace con ayuda de la función PolinomioTaylor1. Evalúa el mapeo en estos polinomios y en el primero paso calcula los valores y vectores propios del sistema. Recordemos qu se está haciendo una linearización del sistema y por ello se calculan los valores propios. Ya con esta información se escoge el primer o segundo valor propio dependiento de cuaĺ variedad se quiera calcular. Teniendo el valor propio y el vector se actualizan los nuevos coeficientes de los polinomios. Para los siguientes órdenes se hace algo diferente pues se evalúa en el mapeo los polinomios y también se evalúa la parte derecha de la ecuacuión cohomológica usando el valor propio. Con ellas se calcula la resta de ambas partes y dado que se empato ya el orden anterior entonces solo sbreviven los términos que corresponden al orden que se está calculando. A este resultado se le calcula el jacobiano con el fin de obtener las ecuaciones como un sistema. La solución de este sistema serán los nuevos coeficientes de los polinomios. \n",
    "\n",
    "El eroe es elgoque se calcula usando la ecuación cohomológica, comparando los términos del lado derecho e izquiero tomamos su resta y le calculamos la norma infinito. Se evalúa esto para los valores del parámetro usados._"
   ]
  },
  {
   "cell_type": "code",
   "execution_count": 18,
   "metadata": {
    "collapsed": false
   },
   "outputs": [
    {
     "name": "stderr",
     "output_type": "stream",
     "text": [
      "WARNING: Method definition CreaPol(Any, Any, Any) in module Main at In[10]:13 overwritten at In[18]:13.\n",
      "\u001b[1m\u001b[31mWARNING: replacing docs for 'CreaPol :: Tuple{Any,Any,Any}' in module 'Main'.\u001b[0m\n"
     ]
    },
    {
     "data": {
      "text/plain": [
       "CreaPol"
      ]
     },
     "execution_count": 18,
     "metadata": {},
     "output_type": "execute_result"
    }
   ],
   "source": [
    "\"\"\"\n",
    "CreaPol es una función que dadas dos listas y un grado crea  un arreglo de dos entradas , en cada una de ellas se encuentra \n",
    "el polinomio de grado g con los coeficientes de las listas. \n",
    "\n",
    "\n",
    "Argumentos:\n",
    "\n",
    "\n",
    "- A,B : arreglos que contienen lo que serán los coeficientes del polinomio.\n",
    "- orden : grado del polinomio\n",
    "\"\"\"\n",
    "function CreaPol(A,B,orden)\n",
    "    Taylor = [Taylor1(A,orden),Taylor1(B,orden)]\n",
    "    return Taylor\n",
    "end"
   ]
  },
  {
   "cell_type": "code",
   "execution_count": 19,
   "metadata": {
    "collapsed": false
   },
   "outputs": [
    {
     "name": "stderr",
     "output_type": "stream",
     "text": [
      "WARNING: Method definition MetParametrización(Any, Any, Any, Any, Any, Any, Any, Any, Any) in module Main at In[11]:2 overwritten at In[19]:2.\n"
     ]
    },
    {
     "data": {
      "text/plain": [
       "MetParametrización (generic function with 1 method)"
      ]
     },
     "execution_count": 19,
     "metadata": {},
     "output_type": "execute_result"
    }
   ],
   "source": [
    "function MetParametrización(Mapeo,orden,PuntoFijo,k,l,tipo_v,Tiempo,paso, TipoVariable)\n",
    "    Coeficienteθ,CoeficienteP,λarrayθ,λarrayP = Variedades(Mapeo,orden,PuntoFijo,k,l,tipo_v,TipoVariable)\n",
    "        \n",
    "    \n",
    "    θ = TipoVariable[]\n",
    "    P = TipoVariable[]\n",
    "    \n",
    "    for i in 1:orden+1\n",
    "            \n",
    "        push!(θ,Coeficienteθ[i].coeffs[1].coeffs[1])\n",
    "        push!(P,CoeficienteP[i].coeffs[1].coeffs[1])\n",
    "        \n",
    "    end\n",
    "    \n",
    "    Taylor=CreaPol(θ,P,orden)\n",
    "    \n",
    "    λ_vec=CreaPol(θ.*λarrayθ,P.*λarrayP,orden)\n",
    "    \n",
    "    \n",
    "    \n",
    "    Ecua_Cohomo = PolinomioCohomo(Mapeo,Taylor,λ_vec, k,l,PuntoFijo)\n",
    "    Valor_t , Error = EvaluarPol(Ecua_Cohomo,Tiempo,paso, TipoVariable)\n",
    "    ErrorV = [Valor_t,Error]\n",
    "    \n",
    "    \n",
    "    return Taylor,ErrorV,λ_vec\n",
    "   \n",
    "end"
   ]
  },
  {
   "cell_type": "code",
   "execution_count": 20,
   "metadata": {
    "collapsed": false
   },
   "outputs": [
    {
     "name": "stderr",
     "output_type": "stream",
     "text": [
      "WARNING: Method definition EstandarMap(Any, Any, Any, Any) in module Main at In[12]:11 overwritten at In[20]:11.\n",
      "\u001b[1m\u001b[31mWARNING: replacing docs for 'EstandarMap :: Tuple{Any,Any,Any,Any}' in module 'Main'.\u001b[0m\n"
     ]
    },
    {
     "data": {
      "text/plain": [
       "EstandarMap"
      ]
     },
     "execution_count": 20,
     "metadata": {},
     "output_type": "execute_result"
    }
   ],
   "source": [
    "# necesitamos también definir el mapeo estandar \n",
    "\"\"\"EstandarMap(θ,p,k)\n",
    "   \n",
    "   Función que define el mapeo estándar.\n",
    "\n",
    "\n",
    "   θ,p son las entradas del mapeo, mienrras que k es la constante del mapeo.\n",
    "\"\"\"\n",
    "function EstandarMap(θ,p,k,l)\n",
    "    #x_n = mod([ θ+p, p+k*sin(θ+p) ], 2*pi)\n",
    "    x_n = mod(θ+p,2*pi)\n",
    "    y_n = mod(p+k*sin(θ+p),2*pi)\n",
    "    \n",
    "    return [x_n,y_n]\n",
    "    \n",
    "end"
   ]
  },
  {
   "cell_type": "markdown",
   "metadata": {},
   "source": [
    "Lo que queremos observar es que pasa cuando se usan diferentes tipos de números. Sobre todo para evaluar si es conveniente usar alguno con mayor presición, es decir que disminuya de forma significativa el error cometido usando uno u otro tipo. "
   ]
  },
  {
   "cell_type": "markdown",
   "metadata": {},
   "source": [
    "Primero veremos que pasa cuando se usa Float 64 en un polinomio de 5° grado "
   ]
  },
  {
   "cell_type": "code",
   "execution_count": 21,
   "metadata": {
    "collapsed": false
   },
   "outputs": [],
   "source": [
    "using PyPlot"
   ]
  },
  {
   "cell_type": "code",
   "execution_count": 22,
   "metadata": {
    "collapsed": false
   },
   "outputs": [
    {
     "name": "stdout",
     "output_type": "stream",
     "text": [
      "typeof(t) = Array{TaylorSeries.Taylor1{TaylorSeries.TaylorN{Float64}},1}\n",
      "typeof(Or1) = Array{TaylorSeries.Taylor1{TaylorSeries.TaylorN{Float64}},1}\n",
      "JPO = TaylorSeries.Taylor1{Float64}[ 1.0 + 𝒪(t²)  1.0 + 𝒪(t²);  0.3 + 𝒪(t²)  1.3 + 𝒪(t²)]\n",
      "JacFl = [1.0 1.0; 0.3 1.3]\n",
      "Coefθ = -0.8123460094785507\n",
      "CoefP = -0.5831757547123116\n"
     ]
    },
    {
     "data": {
      "text/plain": [
       "(TaylorSeries.Taylor1{Float64}[ - 0.8123460094785507 t + 0.009033906934722882 t³ - 0.0001397361967527742 t⁵ + 𝒪(t⁶), - 0.5831757547123116 t + 0.036765757927698775 t³ - 0.0019509397937700743 t⁵ + 𝒪(t⁶)],Array{Float64,1}[[0.0,0.125,0.25,0.375,0.5,0.625,0.75,0.875,1.0,1.125  …  1.75,1.875,2.0,2.125,2.25,2.375,2.5,2.625,2.75,2.875],[0.0,5.4316e-20,4.37069e-19,1.4894e-18,3.57787e-18,7.10714e-18,1.25327e-17,2.03736e-17,3.1225e-17,4.57712e-17  …  2.05697e-16,2.63361e-16,3.33067e-16,4.16667e-16,5.16219e-16,6.33994e-16,7.72494e-16,9.34461e-16,1.12289e-15,1.34105e-15]],TaylorSeries.Taylor1{Float64}[ - 1.3955217641908624 t + 0.04579966486242166 t³ - 0.0020906759905228484 t⁵ + 𝒪(t⁶), - 1.0018322839695704 t + 0.18639326303323037 t³ - 0.029189165588977682 t⁵ + 𝒪(t⁶)])"
      ]
     },
     "execution_count": 22,
     "metadata": {},
     "output_type": "execute_result"
    }
   ],
   "source": [
    "#Usando Float64\n",
    "Polinomio,E,ValProp = MetParametrización(EstandarMap, 5, [0.,0.], 0.3, 0.0, 2, 2.9, 0.125, Float64)"
   ]
  },
  {
   "cell_type": "code",
   "execution_count": 23,
   "metadata": {
    "collapsed": false
   },
   "outputs": [
    {
     "name": "stdout",
     "output_type": "stream",
     "text": [
      "typeof(t) = Array{TaylorSeries.Taylor1{TaylorSeries.TaylorN{Float64}},1}\n",
      "typeof(Or1) = Array{TaylorSeries.Taylor1{TaylorSeries.TaylorN{Float64}},1}\n",
      "JPO = TaylorSeries.Taylor1{Float64}[ 1.0 + 𝒪(t²)  1.0 + 𝒪(t²);  0.3 + 𝒪(t²)  1.3 + 𝒪(t²)]\n",
      "JacFl = [1.0 1.0; 0.3 1.3]\n",
      "Coefθ = -0.8123460094785507\n",
      "CoefP = -0.5831757547123116\n"
     ]
    },
    {
     "data": {
      "text/plain": [
       "(TaylorSeries.Taylor1{Float64}[ - 0.8123460094785507 t + 0.009033906934722882 t³ - 0.0001397361967527742 t⁵ + 𝒪(t⁶), - 0.5831757547123116 t + 0.036765757927698775 t³ - 0.0019509397937700743 t⁵ + 𝒪(t⁶)],Array{Float64,1}[[0.0,0.125,0.25,0.375,0.5,0.625,0.75,0.875,1.0,1.125  …  1.75,1.875,2.0,2.125,2.25,2.375,2.5,2.625,2.75,2.875],[0.0,5.4316e-20,4.37069e-19,1.4894e-18,3.57787e-18,7.10714e-18,1.25327e-17,2.03736e-17,3.1225e-17,4.57712e-17  …  2.05697e-16,2.63361e-16,3.33067e-16,4.16667e-16,5.16219e-16,6.33994e-16,7.72494e-16,9.34461e-16,1.12289e-15,1.34105e-15]],TaylorSeries.Taylor1{Float64}[ - 1.3955217641908624 t + 0.04579966486242166 t³ - 0.0020906759905228484 t⁵ + 𝒪(t⁶), - 1.0018322839695704 t + 0.18639326303323037 t³ - 0.029189165588977682 t⁵ + 𝒪(t⁶)])"
      ]
     },
     "execution_count": 23,
     "metadata": {},
     "output_type": "execute_result"
    }
   ],
   "source": [
    "Polinomio,E,ValProp = MetParametrización(EstandarMap, 5, [0.,0.], 0.3, 0.0, 2, 2.9, 0.125, Float64)"
   ]
  },
  {
   "cell_type": "markdown",
   "metadata": {},
   "source": [
    "Calculamos el mismo polinomio pero ahora usando BigFloat para ver la diferencia sobre todo en el error. "
   ]
  },
  {
   "cell_type": "code",
   "execution_count": 24,
   "metadata": {
    "collapsed": false
   },
   "outputs": [
    {
     "name": "stdout",
     "output_type": "stream",
     "text": [
      "typeof(t) = Array{TaylorSeries.Taylor1{TaylorSeries.TaylorN{BigFloat}},1}\n",
      "typeof(Or1) = Array{TaylorSeries.Taylor1{TaylorSeries.TaylorN{BigFloat}},1}\n",
      "JPO = TaylorSeries.Taylor1{BigFloat}[ 1.000000000000000000000000000000000000000000000000000000000000000000000000000000 + 𝒪(t²)  1.000000000000000000000000000000000000000000000000000000000000000000000000000000 + 𝒪(t²);  2.999999999999999888977697537484345957636833190917968750000000000000000000000000e-01 + 𝒪(t²)  1.299999999999999988897769753748434595763683319091796875000000000000000000000000 + 𝒪(t²)]\n",
      "JacFl = BigFloat[1.000000000000000000000000000000000000000000000000000000000000000000000000000000 1.000000000000000000000000000000000000000000000000000000000000000000000000000000; 2.999999999999999888977697537484345957636833190917968750000000000000000000000000e-01 1.299999999999999988897769753748434595763683319091796875000000000000000000000000]\n",
      "Coefθ = -2.392969448600091236214008269823934535782010550811207876163443109078142531381836\n",
      "CoefP = 1.000000000000000000000000000000000000000000000000000000000000000000000000000000\n"
     ]
    },
    {
     "data": {
      "text/plain": [
       "(TaylorSeries.Taylor1{BigFloat}[ - 2.392969448600091236214008269823934535782010550811207876163443109078142531381836 t + 2.309212607111627212167479692380434549310057602090837350070073626182049829757626e-01 t³ - 3.099484232857484260718944889831103029284581868217090515917263275473977693159063e-02 t⁵ + 𝒪(t⁶), 1.000000000000000000000000000000000000000000000000000000000000000000000000000000 t - 1.853724300640377561775028408643770563815844116869279554201266933330799645972972e-01 t³ + 2.892321506276221743814456474604792652658810483265611779704434261059652549202737e-02 t⁵ + 𝒪(t⁶)],Array{BigFloat,1}[BigFloat[0.000000000000000000000000000000000000000000000000000000000000000000000000000000,1.250000000000000000000000000000000000000000000000000000000000000000000000000000e-01,2.500000000000000000000000000000000000000000000000000000000000000000000000000000e-01,3.750000000000000000000000000000000000000000000000000000000000000000000000000000e-01,5.000000000000000000000000000000000000000000000000000000000000000000000000000000e-01,6.250000000000000000000000000000000000000000000000000000000000000000000000000000e-01,7.500000000000000000000000000000000000000000000000000000000000000000000000000000e-01,8.750000000000000000000000000000000000000000000000000000000000000000000000000000e-01,1.000000000000000000000000000000000000000000000000000000000000000000000000000000,1.125000000000000000000000000000000000000000000000000000000000000000000000000000  …  1.750000000000000000000000000000000000000000000000000000000000000000000000000000,1.875000000000000000000000000000000000000000000000000000000000000000000000000000,2.000000000000000000000000000000000000000000000000000000000000000000000000000000,2.125000000000000000000000000000000000000000000000000000000000000000000000000000,2.250000000000000000000000000000000000000000000000000000000000000000000000000000,2.375000000000000000000000000000000000000000000000000000000000000000000000000000,2.500000000000000000000000000000000000000000000000000000000000000000000000000000,2.625000000000000000000000000000000000000000000000000000000000000000000000000000,2.750000000000000000000000000000000000000000000000000000000000000000000000000000,2.875000000000000000000000000000000000000000000000000000000000000000000000000000],BigFloat[0.000000000000000000000000000000000000000000000000000000000000000000000000000000,2.157984315688975476403910411028451460695951069105126631264939060754228163851254e-78,4.309535213902633810265930759630498004518935385409626230920460549131122265820255e-78,6.447786882328142544615047311397163092722623092228048059039663234504271542794066e-78,8.565008718977638593621998987954326942813958125105293959060678569749111829198381e-78,1.065217293735071292817015369498015490667979510793179464946918703299384885576684e-77,1.269852217159689526142638465022252584871353624905868601548093446937038154831035e-77,1.469113708167813873441194671151646052394176823741298540072424843276522532648639e-77,1.661450395853130460157335270480154995615089913861276789892255452757043540256834e-77,1.845008232923064691635324975213938381601379529108234264557689275043453008021479e-77  …  2.539587481810946338668256813051123892969340467427651552465553218690516516186342e-77,2.609139169461226663518293897848682230920699762893665469911136813471972058823268e-77,2.644826619997673666524570257982622368654275111608611174163509187739131239718493e-77,2.640817753622571860283412823419444352002412591674541462251924685265340237915581e-77,2.590588658798181254304550648953533631800077314977791197897663796625422510488999e-77,2.486880352762985823568202547008903901697517116800494940682284793370771122421053e-77,2.321655542047941977082164720440939935972926245432104575215875362204441076478815e-77,2.086055382992727026438898395338140427345109051780906940305304239156241643091059e-77,1.770356242261987654372617453823860824786143678985541458122472843757828690225188e-77,1.902709522344327088391757652654860605510546729605104707407893953140034301001171e-77]],TaylorSeries.Taylor1{BigFloat}[ - 1.392969448600091236214008269823934535782010550811207876163443109078142531381836 t + 4.554883064712496503924512837366639854942134852215577958688066928512501837846428e-02 t³ - 2.07162726581262516904488415226310376625771384951478736212829014414325143956323e-03 t⁵ + 𝒪(t⁶), 5.821091654199726446008650634051178427460110798647925707788929073794349727310346e-01 t - 3.656440033988050190256570657437540443872679162384587406060540809511684136507564e-02 t³ + 1.933164244031038815105831613801445502129637693313411065473715915941272904348711e-03 t⁵ + 𝒪(t⁶)])"
      ]
     },
     "execution_count": 24,
     "metadata": {},
     "output_type": "execute_result"
    }
   ],
   "source": [
    "#Usando BigFloat\n",
    "PolinomioB,EBig,ValPropB = MetParametrización(EstandarMap,5,[0.,0.],0.3,0.0,2,2.9,0.125,BigFloat)"
   ]
  },
  {
   "cell_type": "markdown",
   "metadata": {},
   "source": [
    "Graficaremos el error cometido que es el que nos dirá cuanta diferencia hay entre tipos de números. "
   ]
  },
  {
   "cell_type": "code",
   "execution_count": 25,
   "metadata": {
    "collapsed": false,
    "scrolled": true
   },
   "outputs": [
    {
     "data": {
      "image/png": "[encoded data removed]",
      "text/plain": [
       "PyPlot.Figure(PyObject <matplotlib.figure.Figure object at 0x7fbe251914d0>)"
      ]
     },
     "metadata": {},
     "output_type": "display_data"
    },
    {
     "data": {
      "text/plain": [
       "PyObject <matplotlib.legend.Legend object at 0x7fbe02376690>"
      ]
     },
     "execution_count": 25,
     "metadata": {},
     "output_type": "execute_result"
    }
   ],
   "source": [
    "plot(E[1],log10(E[2]),marker= \"None\", label=\"Float64\")\n",
    "plot(EBig[1],log10(EBig[2]),marker= \"None\", label=\"BigFloat\")\n",
    "xlabel(\"Parámetro t\")\n",
    "ylabel(L\"log10($|| E||_{\\infty})$\")\n",
    "title(\"Error \")\n",
    "grid(\"on\")\n",
    "legend(loc=\"upper right\",fancybox=\"true\" )"
   ]
  },
  {
   "cell_type": "code",
   "execution_count": 26,
   "metadata": {
    "collapsed": false
   },
   "outputs": [
    {
     "data": {
      "text/plain": [
       "EstandarMapInv"
      ]
     },
     "execution_count": 26,
     "metadata": {},
     "output_type": "execute_result"
    }
   ],
   "source": [
    "\"\"\"\n",
    "EstandarMapInv(θ,p,k) \n",
    "Es la función inversa del mapeo estándar. Recibe los mismos parámetros.\n",
    "\n",
    "\"\"\"\n",
    "function EstandarMapInv(θ,p,k,l)\n",
    "    x_n = mod([θ-p+k*sin(θ),p-k*sin(θ)] , 2*pi )\n",
    "    \n",
    "    \n",
    "    return x_n\n",
    "    \n",
    "end"
   ]
  },
  {
   "cell_type": "code",
   "execution_count": 27,
   "metadata": {
    "collapsed": false
   },
   "outputs": [
    {
     "name": "stdout",
     "output_type": "stream",
     "text": [
      "typeof(t) = Array{TaylorSeries.Taylor1{TaylorSeries.TaylorN{Float64}},1}\n",
      "typeof(Or1) = Array{TaylorSeries.Taylor1{TaylorSeries.TaylorN{Float64}},1}\n",
      "JPO = TaylorSeries.Taylor1{Float64}[ 1.3 + 𝒪(t²)  - 1.0 + 𝒪(t²);  - 0.3 + 𝒪(t²)  1.0 + 𝒪(t²)]\n",
      "JacFl = [1.3 -1.0; -0.3 1.0]\n",
      "Coefθ = 0.8123460094785507\n",
      "CoefP = 0.5831757547123118\n"
     ]
    },
    {
     "data": {
      "text/plain": [
       "(TaylorSeries.Taylor1{Float64}[ 0.8123460094785507 t - 0.009033906934722877 t³ + 0.00013973619675277407 t⁵ - 2.0738982165943635e-6 t⁷ + 2.822577860198606e-8 t⁹ - 3.5335184323255897e-10 t¹¹ + 4.117812439225188e-12 t¹³ - 4.5197259627445e-14 t¹⁵ + 𝒪(t¹⁶), 0.5831757547123118 t - 0.036765757927698775 t³ + 0.0019509397937700738 t⁵ - 8.949676853588287e-5 t⁷ + 3.649725688819815e-6 t⁹ - 1.3552759043121644e-7 t¹¹ + 4.669023082325787e-9 t¹³ - 1.5132680059156904e-10 t¹⁵ + 𝒪(t¹⁶)],Array{Float64,1}[[0.0,0.125,0.25,0.375,0.5,0.625,0.75,0.875,1.0,1.125  …  1.75,1.875,2.0,2.125,2.25,2.375,2.5,2.625,2.75,2.875],[0.0,2.08163e-17,4.16302e-17,6.244e-17,8.32456e-17,1.04049e-16,1.24856e-16,1.45676e-16,1.66526e-16,1.8743e-16  …  2.94528e-16,3.17085e-16,3.40355e-16,3.64558e-16,3.89963e-16,4.16898e-16,4.45761e-16,4.77034e-16,5.11293e-16,5.49229e-16]],TaylorSeries.Taylor1{Float64}[ 0.47287405760980433 t - 0.00178192296276377 t³ + 9.33966084244684e-6 t⁵ - 4.69697771713222e-8 t⁷ + 2.1661367333017334e-10 t⁹ - 9.18874442772534e-13 t¹¹ + 3.628475936523447e-15 t¹³ - 1.3495179470633769e-17 t¹⁵ + 𝒪(t¹⁶), 0.33947195186874646 t - 0.0072519839719591105 t³ + 0.00013039653591032736 t⁵ - 2.02692843942303e-6 t⁷ + 2.800916492865601e-8 t⁹ - 3.5243296878977023e-10 t¹¹ + 4.114183963288859e-12 t¹³ - 4.5183764447965874e-14 t¹⁵ + 𝒪(t¹⁶)])"
      ]
     },
     "execution_count": 27,
     "metadata": {},
     "output_type": "execute_result"
    }
   ],
   "source": [
    "#Usando Float64\n",
    "Polinomio2,E2,ValProp2 = MetParametrización(EstandarMapInv, 15, [0.,0.], 0.3, 0.0, 2, 2.9, 0.125, Float64)"
   ]
  },
  {
   "cell_type": "code",
   "execution_count": 28,
   "metadata": {
    "collapsed": false
   },
   "outputs": [
    {
     "name": "stdout",
     "output_type": "stream",
     "text": [
      "typeof(t) = Array{TaylorSeries.Taylor1{TaylorSeries.TaylorN{BigFloat}},1}\n",
      "typeof(Or1) = Array{TaylorSeries.Taylor1{TaylorSeries.TaylorN{BigFloat}},1}\n",
      "JPO = TaylorSeries.Taylor1{BigFloat}[ 1.299999999999999988897769753748434595763683319091796875000000000000000000000000 + 𝒪(t²)  - 1.000000000000000000000000000000000000000000000000000000000000000000000000000000 + 𝒪(t²);  - 2.999999999999999888977697537484345957636833190917968750000000000000000000000000e-01 + 𝒪(t²)  1.000000000000000000000000000000000000000000000000000000000000000000000000000000 + 𝒪(t²)]\n",
      "JacFl = BigFloat[1.299999999999999988897769753748434595763683319091796875000000000000000000000000 -1.000000000000000000000000000000000000000000000000000000000000000000000000000000; -2.999999999999999888977697537484345957636833190917968750000000000000000000000000e-01 1.000000000000000000000000000000000000000000000000000000000000000000000000000000]\n",
      "Coefθ = 1.392969448600091236214008269823934535782010550811207876163443109078142531381784\n",
      "CoefP = 1.000000000000000000000000000000000000000000000000000000000000000000000000000000\n"
     ]
    },
    {
     "data": {
      "text/plain": [
       "(TaylorSeries.Taylor1{BigFloat}[ 1.392969448600091236214008269823934535782010550811207876163443109078142531381784 t - 4.55488306471249650392451283736663985494213485221557795868806692851250183784578e-02 t³ + 2.071627265812625169044884152263103766257713849514787362128290144143251439562319e-03 t⁵ - 9.040474335296475979585383596088922134357115392936608888790265183796700423653951e-05 t⁷ + 3.617851944647397816478539194660235825868906971611587155659652124466921414167300e-06 t⁹ - 1.331721159718488337758646824134194339671198760803104662563364265179899097056368e-07 t¹¹ + 4.563242831663626071312752599390074088913123452280561554482703777978658878160172e-09 t¹³ - 1.47272006072108494495543766626260156011980485225885826861009965496334153655694e-10 t¹⁵ + 𝒪(t¹⁶), 1.000000000000000000000000000000000000000000000000000000000000000000000000000000 t - 1.853724300640377561775028408643770563815844116869279554201266933330799645972778e-01 t³ + 2.892321506276221743814456474604792652658810483265611779704434261059652549202116e-02 t⁵ - 3.901316046113722893699530057825011836415041221749605365104106128632750311927897e-03 t⁷ + 4.678052416877235968892036114617941051942118903637584591931036805099177068225557e-04 t⁹ - 5.107797323251364062123043021512239268798053176671368756598886657680482460145992e-05 t¹¹ + 5.174078816300596773729458909242544275430028543017811318636756482917034464327657e-06 t¹³ - 4.930874499759647981637182003275736531541903896390894709544428756900249178150217e-07 t¹⁵ + 𝒪(t¹⁶)],Array{BigFloat,1}[BigFloat[0.000000000000000000000000000000000000000000000000000000000000000000000000000000,1.250000000000000000000000000000000000000000000000000000000000000000000000000000e-01,2.500000000000000000000000000000000000000000000000000000000000000000000000000000e-01,3.750000000000000000000000000000000000000000000000000000000000000000000000000000e-01,5.000000000000000000000000000000000000000000000000000000000000000000000000000000e-01,6.250000000000000000000000000000000000000000000000000000000000000000000000000000e-01,7.500000000000000000000000000000000000000000000000000000000000000000000000000000e-01,8.750000000000000000000000000000000000000000000000000000000000000000000000000000e-01,1.000000000000000000000000000000000000000000000000000000000000000000000000000000,1.125000000000000000000000000000000000000000000000000000000000000000000000000000  …  1.750000000000000000000000000000000000000000000000000000000000000000000000000000,1.875000000000000000000000000000000000000000000000000000000000000000000000000000,2.000000000000000000000000000000000000000000000000000000000000000000000000000000,2.125000000000000000000000000000000000000000000000000000000000000000000000000000,2.250000000000000000000000000000000000000000000000000000000000000000000000000000,2.375000000000000000000000000000000000000000000000000000000000000000000000000000,2.500000000000000000000000000000000000000000000000000000000000000000000000000000,2.625000000000000000000000000000000000000000000000000000000000000000000000000000,2.750000000000000000000000000000000000000000000000000000000000000000000000000000,2.875000000000000000000000000000000000000000000000000000000000000000000000000000],BigFloat[0.000000000000000000000000000000000000000000000000000000000000000000000000000000,1.078463246757181918527058292506280467854698930782986768096321055860211644188813e-78,2.150493114969267009761473309307625159549534212951565371366131237943235955038784e-78,3.209223825744994010145977889427448574911921613109582638382041911213456347175155e-78,4.246919950541825564227484138446106953318451722938266804406589014414237406949867e-78,5.254511098045464136177205078763844148460970711891599879142047773740238596476552e-78,6.221036832899632298391705705480841649080015686769757304072699126636197380227596e-78,7.132879232652163783051968583344448063270359324219314000031590102477886051133792e-78,7.972577061999460681620390353227929774259244466643510842116149938091942433640099e-78,8.716916008981438496111498800413351881306446824637251033349047789052229020499397e-78  …  9.268208770926688864060282135739972079807272457953312218576385045995429150566881e-78,8.034997144972589413084165702172568074768221041854548023387077119449966727821300e-78,5.930711119175766412167746868305410505643633337427323331812809547831307348590494e-78,6.595605068687000083763622716596516220793016549769669830748707517797922754249098e-78,1.089346544186939239310156779604814298570211169232273013496631157562320568256051e-77,1.765107760797000057977653354535072019948370310066494927810341531210916486445941e-77,2.779933136589796550956330747224087095472529377009162417643697834326307975199421e-77,4.234391755459355575331072127687433520906067395621882164650450855419927185308243e-77,6.216059484190061920829381804303766373908271162145431481879317526273286808298759e-77,8.759174180221648210053249122582192473091305151818126119661511580751089945692668e-77]],TaylorSeries.Taylor1{BigFloat}[ 8.108602831801185916131432064188166930359994709464153053845502016987075586507491e-01 t - 8.984430307244463136679421799290994110694556898309905526275261190008177013386612e-03 t³ + 1.384630217815863539390525384616582641280761562013762966545742282019785352144408e-04 t⁵ - 2.047492310154132510797273548018609161622173229063192786578692812931851574155178e-06 t⁷ + 2.776455559810995171816412153645229767003872744180261529486250150301395421002073e-08 t⁹ - 3.463076709520233738023568096297350270980915515276113697742015757583825723247761e-10 t¹¹ + 4.020974012677490741342698319997745027109017858034294031871111786905611451577363e-12 t¹³ - 4.397306760024298044253432291445685288982013268792798087012887863363422652912196e-14 t¹⁵ + 𝒪(t¹⁶), 5.821091654199726446008650634051178427460110798647925707788929073794349727310259e-01 t - 3.656440033988050190256570657437540443872679162384587406060540809511684136507024e-02 t³ + 1.933164244031038815105831613801445502129637693313411065473715915941272904348138e-03 t⁵ - 8.835725104281062728505656241287061218194898070030289610132395902503515266239816e-05 t⁷ + 3.590087389049287864760375073123783528198868244169784540364789622963907459958567e-06 t⁹ - 1.328258083008968104020623256037896989400217845287828548865622249422315271334761e-07 t¹¹ + 4.559221857650948580571409901070076343886014434422527260450832666191753266663501e-09 t¹³ - 1.472280330045082515151012323033456991590906650931978988801398366177005194296199e-10 t¹⁵ + 𝒪(t¹⁶)])"
      ]
     },
     "execution_count": 28,
     "metadata": {},
     "output_type": "execute_result"
    }
   ],
   "source": [
    "#Usando BigFloat\n",
    "Polinomio3,E3,ValProp3 = MetParametrización(EstandarMapInv, 15, [0.,0.], 0.3, 0.0, 2, 2.9, 0.125, BigFloat)"
   ]
  },
  {
   "cell_type": "markdown",
   "metadata": {},
   "source": [
    "Usando ArbFloat"
   ]
  },
  {
   "cell_type": "code",
   "execution_count": 29,
   "metadata": {
    "collapsed": false
   },
   "outputs": [
    {
     "data": {
      "image/png": "[encoded data removed]",
      "text/plain": [
       "PyPlot.Figure(PyObject <matplotlib.figure.Figure object at 0x7fbe01f58b10>)"
      ]
     },
     "metadata": {},
     "output_type": "display_data"
    },
    {
     "data": {
      "text/plain": [
       "PyObject <matplotlib.legend.Legend object at 0x7fbe01f5f190>"
      ]
     },
     "execution_count": 29,
     "metadata": {},
     "output_type": "execute_result"
    }
   ],
   "source": [
    "plot(E2[1],log10(E2[2]),marker= \"None\", label=\"Float64\")\n",
    "plot(E3[1],log10(E3[2]),marker= \"None\", label=\"BigFloat\")\n",
    "xlabel(\"Parámetro t\")\n",
    "ylabel(L\"log10($|| E||_{\\infty})$\")\n",
    "title(\"Error en la variedad Inestable del mapeo inverso \")\n",
    "grid(\"on\")\n",
    "legend(loc=\"upper right\",fancybox=\"true\" )"
   ]
  },
  {
   "cell_type": "markdown",
   "metadata": {},
   "source": [
    "Vamos a analizar un poco sobre otro mapeo, el de Henon. El mapeo de Henon es un mapeo descrito de la forma:\n",
    "$$ f_{a,b}(x,y)=\\left\\{ \\begin{array}{lcc}\n",
    "             a-by-x^{2}\\\\\n",
    "             \\\\ x\n",
    "             \\end{array}\n",
    "             \\right.$$\n",
    "        \n",
    "        \n",
    "Para poder analizarlo debemos linearizar el sistema. Primero obtenemos el jacobiano \n",
    "\n",
    "$$ DF_{a,b}(x,y)=\\left( \\begin{array}{lcc}\n",
    "                \\frac{\\partial F_{x}}{\\partial x} & \\frac{\\partial F_{x}}{\\partial y}\\\\\n",
    "                \\\\ \\frac{\\partial F_{y}}{\\partial x} & \\frac{\\partial F_{y}}{\\partial y}\n",
    "                \\end{array}\n",
    "                \\right)$$\n",
    "                \n",
    "            \n",
    "$$DF_{a,b}(x,y)= \\left( \\begin{array}{lcc}\n",
    "                -2x & -b\\\\\n",
    "                \\\\ 1 & 0\n",
    "                \\end{array}\n",
    "                \\right)$$\n",
    "                \n",
    "Notamos que el determinante del jacobiano no es igual a uno sino\n",
    "$$det(DF_{a,b}(x,y))=b$$\n",
    "El determianate es constante , y sera hamiltoniano en el caso en que $b=1$. Analizaremos esos casos, primero encontrando los puntos fijos.\n",
    "$$F_{a,b}(x,y)=\\left( \\begin{array}{lcc}\n",
    "               a-by-x^{2}\\\\\n",
    "               \\\\ x\n",
    "               \\end{array}\n",
    "               \\right) = \\left(\\begin{array}{lc}\n",
    "               x \\\\\n",
    "               \\\\ y\n",
    "               \\end{array}\n",
    "               \\right)$$\n",
    "               \n",
    "               \n",
    "Lo que implica que \n",
    "$$a-by-x^{2}=x$$\n",
    "$$x=y$$ \n",
    "de donde es claro que la primer ecuación queda\n",
    "$$x^{2}+(b+1)x-a=0$$\n",
    "que se puede resolver usando la fórmula general\n",
    "$$x=\\frac{-(b+1)\\pm ((b+1)^{2}+4a)^{1/2} }{2}$$\n",
    "para el caso en que $b=1$ se tiene\n",
    "$$x=\\frac{-2\\pm 2(1+a)^{1/2} }{2}$$\n",
    "Por lo que escogiendo un valor de a podemos obtenr un punto fijo. "
   ]
  },
  {
   "cell_type": "markdown",
   "metadata": {},
   "source": [
    "Para este caso usaremos un valor de $a=0.3$ . Por lo que los puntos fijos asociados serán \n",
    "$$p_{1}=(0.14017542509913805\n",
    ",0.14017542509913805\n",
    ")$$\n",
    "$$p_{2}=(-2.1401754250991383,-2.1401754250991383)$$"
   ]
  },
  {
   "cell_type": "markdown",
   "metadata": {},
   "source": [
    "Definimos la función del mapeo de Henon"
   ]
  },
  {
   "cell_type": "code",
   "execution_count": null,
   "metadata": {
    "collapsed": false
   },
   "outputs": [],
   "source": [
    "function Henon(x,y,a,b)\n",
    "   \n",
    "    x_n = a-b*y-x^2\n",
    "    y_n = x \n",
    "   #=\n",
    "    x_n =1-a*x^2+b*y\n",
    "    y_n = x\n",
    "    =#\n",
    "    return [x_n,y_n]\n",
    "end\n"
   ]
  },
  {
   "cell_type": "markdown",
   "metadata": {},
   "source": [
    "Solo para revisar que estamos en un punto fijo evaluamos"
   ]
  },
  {
   "cell_type": "code",
   "execution_count": null,
   "metadata": {
    "collapsed": false
   },
   "outputs": [],
   "source": [
    "Henon(-2.1401754250991383,-2.1401754250991383,0.3,1.0) .- [-2.1401754250991383,-2.1401754250991383]"
   ]
  },
  {
   "cell_type": "markdown",
   "metadata": {},
   "source": [
    "Ahora aplicamos en método para ste caso"
   ]
  },
  {
   "cell_type": "code",
   "execution_count": null,
   "metadata": {
    "collapsed": false
   },
   "outputs": [],
   "source": [
    "x,y=set_variables(Float64, \"x y\", order=2)\n",
    "s=Henon(x,y,0.3,1.)\n"
   ]
  },
  {
   "cell_type": "code",
   "execution_count": null,
   "metadata": {
    "collapsed": false
   },
   "outputs": [],
   "source": [
    "j=jacobian(s)"
   ]
  },
  {
   "cell_type": "code",
   "execution_count": null,
   "metadata": {
    "collapsed": false,
    "scrolled": true
   },
   "outputs": [],
   "source": [
    "#PolinomioH,EH,ValPropH = MetParametrización(EstandarMap, 5 ,[0.0,0.0], 0.3, 0.3, 2, 1.9, 0.125, Float64)\n",
    "PolinomioH,EH,ValPropH = MetParametrización(Henon, 5 ,[-2.1401754250991383,-2.1401754250991383], 0.3, 1.0, 2, 1.9, 0.125, Float64)"
   ]
  },
  {
   "cell_type": "code",
   "execution_count": null,
   "metadata": {
    "collapsed": false
   },
   "outputs": [],
   "source": [
    "plot(EH[1],log10(EH[2]),marker= \"None\", label=\"Float64\")\n",
    "#plot(E3[1],log10(E3[2]),marker= \"None\", label=\"BigFloat\")\n",
    "xlabel(\"Parámetro t\")\n",
    "ylabel(L\"log10($|| E||_{\\infty})$\")\n",
    "title(\"Error en la variedad inestable del mapeo de Henon \")\n",
    "grid(\"on\")\n",
    "legend(loc=\"upper right\",fancybox=\"true\" )"
   ]
  },
  {
   "cell_type": "code",
   "execution_count": null,
   "metadata": {
    "collapsed": false
   },
   "outputs": [],
   "source": [
    "PolinomioHP,EHP,ValPropHP = MetParametrización(Henon,29,[0.0,1.0],1.4,0.3,2,1.9,0.125,Float64)"
   ]
  },
  {
   "cell_type": "code",
   "execution_count": null,
   "metadata": {
    "collapsed": false,
    "scrolled": true
   },
   "outputs": [],
   "source": [
    "plot(EHP[1],log10(EHP[2]),marker= \"None\", label=\"Float64\")\n",
    "#plot(E3[1],log10(E3[2]),marker= \"None\", label=\"BigFloat\")\n",
    "xlabel(\"Parámetro t\")\n",
    "ylabel(L\"log10($|| E||_{\\infty})$\")\n",
    "title(\"Error en la variedad inestable del mapeo de Henon \")\n",
    "grid(\"on\")\n",
    "legend(loc=\"upper right\",fancybox=\"true\" )"
   ]
  },
  {
   "cell_type": "code",
   "execution_count": null,
   "metadata": {
    "collapsed": false
   },
   "outputs": [],
   "source": [
    "methods(eig)"
   ]
  },
  {
   "cell_type": "code",
   "execution_count": null,
   "metadata": {
    "collapsed": false
   },
   "outputs": [],
   "source": [
    "methods(mod)"
   ]
  },
  {
   "cell_type": "markdown",
   "metadata": {},
   "source": [
    "- usar gr para graficar\n",
    "\n",
    "- encontrar eigenvalores de forma manual\n",
    "- revisar que tan uno es el determinante \n",
    "- encontrar los puntos de periodo dos en el estándar\n",
    "\n",
    "- usar newton para resolver los puntos de periodo dos \n",
    "\n",
    "- añadir una parte en la que se revise que de verdad es un punto fijo de los que queremos."
   ]
  },
  {
   "cell_type": "code",
   "execution_count": null,
   "metadata": {
    "collapsed": false
   },
   "outputs": [],
   "source": [
    "function CerosNewton2D(f,x_0,df)\n",
    "    #=\n",
    "    if Dimension = 2\n",
    "        \n",
    "        x_n = x_0\n",
    "        x,y = set_variables(TipoVariable, \"x y\", 1)\n",
    "        df=jacobian(f(x,y))\n",
    "        while tol>0.0001 \n",
    "            x_nn = x_n -(inv(df)*f(x_n[1],x_n[2])) \n",
    "            tol = f(x_nn[1],x_nn[2])\n",
    "            x_n = x_nn\n",
    "        end\n",
    "    else\n",
    "    =#\n",
    "    tol = 1.\n",
    "    x_n = x_0\n",
    "    while tol>1e-18\n",
    "        x_nn = x_n - (f(x_n)/df(x_n))\n",
    "        tol = f(x_nn)\n",
    "        x_n = x_nn\n",
    "        #end\n",
    "    end\n",
    "    \n",
    "    return x_n\n",
    "end"
   ]
  },
  {
   "cell_type": "code",
   "execution_count": null,
   "metadata": {
    "collapsed": false
   },
   "outputs": [],
   "source": [
    "function ValProp2D(M)\n",
    "    #=\n",
    "    JacFl = Array{BigFloat}(2,2)\n",
    "            for ind in eachindex(M)\n",
    "                \n",
    "                JacFl[ind] = M[ind].coeffs[1]\n",
    "            end\n",
    "    =#\n",
    "    JacFl = M\n",
    "    PolCarac(x) = x^2-trace(JacFl)*x+det(JacFl)\n",
    "    \n",
    "    DPolCarac(x) = 2*x-trace(JacFl)\n",
    "   \n",
    "    for sed in 0:100000\n",
    "        Raiz = CerosNewton2D(PolCarac,sed,DPolCarac)\n",
    "        Tol = PolCarac(Raiz)\n",
    "        if Tol <= 1e-36\n",
    "            ValProp1 = Raiz\n",
    "            @show(Raiz)\n",
    "        #break\n",
    "        end\n",
    "    end\n",
    "    \n",
    "    return Raiz\n",
    "end\n",
    "        \n",
    "    \n",
    "    "
   ]
  },
  {
   "cell_type": "code",
   "execution_count": null,
   "metadata": {
    "collapsed": false
   },
   "outputs": [],
   "source": [
    "a=[big(1.) big(2.); big(1.) big(1)]"
   ]
  }
 ],
 "metadata": {
  "kernelspec": {
   "display_name": "Julia 0.5.0",
   "language": "julia",
   "name": "julia-0.5"
  },
  "language_info": {
   "file_extension": ".jl",
   "mimetype": "application/julia",
   "name": "julia",
   "version": "0.5.2"
  }
 },
 "nbformat": 4,
 "nbformat_minor": 2
}
