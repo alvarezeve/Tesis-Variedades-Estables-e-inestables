{
 "cells": [
  {
   "cell_type": "markdown",
   "metadata": {},
   "source": [
    "# Aprendiendo cálculo simbólico"
   ]
  },
  {
   "cell_type": "code",
   "execution_count": 2,
   "metadata": {},
   "outputs": [
    {
     "name": "stderr",
     "output_type": "stream",
     "text": [
      "INFO: Cloning cache of ColorTypes from git://github.com/JuliaGraphics/ColorTypes.jl.git\n",
      "INFO: Cloning cache of Colors from git://github.com/JuliaGraphics/Colors.jl.git\n",
      "INFO: Cloning cache of Dates from git://github.com/quinnj/Dates.jl.git\n",
      "INFO: Cloning cache of FixedPointNumbers from git://github.com/JeffBezanson/FixedPointNumbers.jl.git\n",
      "INFO: Cloning cache of FixedSizeArrays from git://github.com/SimonDanisch/FixedSizeArrays.jl.git\n",
      "INFO: Cloning cache of MacroTools from git://github.com/one-more-minute/MacroTools.jl.git\n",
      "INFO: Cloning cache of Plots from git://github.com/tbreloff/Plots.jl.git\n",
      "INFO: Cloning cache of PyCall from git://github.com/stevengj/PyCall.jl.git\n",
      "INFO: Cloning cache of Reexport from git://github.com/simonster/Reexport.jl.git\n",
      "INFO: Cloning cache of Requires from git://github.com/one-more-minute/Requires.jl.git\n",
      "INFO: Cloning cache of SymPy from git://github.com/jverzani/SymPy.jl.git\n",
      "INFO: Installing ColorTypes v0.2.2\n",
      "INFO: Installing Colors v0.6.3\n",
      "INFO: Installing Dates v0.4.4\n",
      "INFO: Installing FixedPointNumbers v0.1.2\n",
      "INFO: Installing FixedSizeArrays v0.1.0\n",
      "INFO: Installing MacroTools v0.3.0\n",
      "INFO: Installing Plots v0.5.4\n",
      "INFO: Installing PyCall v1.4.0\n",
      "INFO: Installing Reexport v0.0.3\n",
      "INFO: Installing Requires v0.2.2\n",
      "INFO: Installing SymPy v0.2.40\n",
      "INFO: Building PyCall\n",
      "INFO: PyCall is using python (Python 2.7.6) at /usr/bin/python, libpython = libpython2.7\n",
      "INFO: Package database updated\n",
      "INFO: METADATA is out-of-date — you may not have the latest version of SymPy\n",
      "INFO: Use `Pkg.update()` to get the latest versions of your packages\n"
     ]
    }
   ],
   "source": [
    "Pkg.add(\"SymPy\")"
   ]
  },
  {
   "cell_type": "code",
   "execution_count": 1,
   "metadata": {},
   "outputs": [],
   "source": [
    "using(SymPy)"
   ]
  },
  {
   "cell_type": "code",
   "execution_count": 2,
   "metadata": {
    "scrolled": true
   },
   "outputs": [
    {
     "data": {
      "text/latex": [
       "$$x$$"
      ],
      "text/plain": [
       "x"
      ]
     },
     "execution_count": 2,
     "metadata": {},
     "output_type": "execute_result"
    }
   ],
   "source": [
    "x=Sym(\"x\")"
   ]
  },
  {
   "cell_type": "code",
   "execution_count": 3,
   "metadata": {},
   "outputs": [
    {
     "data": {
      "text/latex": [
       "$$x^{5} - 15 x^{4} + 85 x^{3} - 225 x^{2} + 274 x - 120$$"
      ],
      "text/plain": [
       " 5       4       3        2              \n",
       "x  - 15*x  + 85*x  - 225*x  + 274*x - 120"
      ]
     },
     "execution_count": 3,
     "metadata": {},
     "output_type": "execute_result"
    }
   ],
   "source": [
    "expand((x-1)*(x-2)*(x-3)*(x-4)*(x-5))"
   ]
  },
  {
   "cell_type": "code",
   "execution_count": 4,
   "metadata": {},
   "outputs": [
    {
     "data": {
      "text/latex": [
       "$$x^{3} + 2 x^{2} + 3 x + 4$$"
      ],
      "text/plain": [
       " 3      2          \n",
       "x  + 2*x  + 3*x + 4"
      ]
     },
     "execution_count": 4,
     "metadata": {},
     "output_type": "execute_result"
    }
   ],
   "source": [
    "expand(((x+2)x+3)x+4)"
   ]
  },
  {
   "cell_type": "code",
   "execution_count": 5,
   "metadata": {},
   "outputs": [
    {
     "data": {
      "text/latex": [
       "$$x^{3} - 6 x^{2} + 11 x - 6$$"
      ],
      "text/plain": [
       " 3      2           \n",
       "x  - 6*x  + 11*x - 6"
      ]
     },
     "execution_count": 5,
     "metadata": {},
     "output_type": "execute_result"
    }
   ],
   "source": [
    "p=x^3-6*x^2+11*x-6"
   ]
  },
  {
   "cell_type": "code",
   "execution_count": 6,
   "metadata": {},
   "outputs": [
    {
     "data": {
      "text/latex": [
       "\\begin{bmatrix}1\\\\2\\\\3\\end{bmatrix}"
      ],
      "text/plain": [
       "3-element Array{SymPy.Sym,1}\n",
       "[1]\n",
       "[ ]\n",
       "[2]\n",
       "[ ]\n",
       "[3]"
      ]
     },
     "execution_count": 6,
     "metadata": {},
     "output_type": "execute_result"
    }
   ],
   "source": [
    "ps=solve(p)"
   ]
  },
  {
   "cell_type": "code",
   "execution_count": 7,
   "metadata": {},
   "outputs": [
    {
     "data": {
      "text/plain": [
       "3-element Array{Int64,1}:\n",
       " 1\n",
       " 2\n",
       " 3"
      ]
     },
     "execution_count": 7,
     "metadata": {},
     "output_type": "execute_result"
    }
   ],
   "source": [
    "map(N,ps)"
   ]
  },
  {
   "cell_type": "code",
   "execution_count": 8,
   "metadata": {},
   "outputs": [
    {
     "data": {
      "text/latex": [
       "\\begin{bmatrix}-5\\\\5\\end{bmatrix}"
      ],
      "text/plain": [
       "2-element Array{SymPy.Sym,1}\n",
       "[-5]\n",
       "[  ]\n",
       "[5 ]"
      ]
     },
     "execution_count": 8,
     "metadata": {},
     "output_type": "execute_result"
    }
   ],
   "source": [
    "solve(x^2-(3^2+4^2))"
   ]
  },
  {
   "cell_type": "code",
   "execution_count": 9,
   "metadata": {},
   "outputs": [
    {
     "data": {
      "text/latex": [
       "\\begin{bmatrix}1\\\\3\\\\5\\end{bmatrix}"
      ],
      "text/plain": [
       "3-element Array{SymPy.Sym,1}\n",
       "[1]\n",
       "[ ]\n",
       "[3]\n",
       "[ ]\n",
       "[5]"
      ]
     },
     "execution_count": 9,
     "metadata": {},
     "output_type": "execute_result"
    }
   ],
   "source": [
    "solve(x^4-10*x^3+32*x^2-38*x +15)"
   ]
  },
  {
   "cell_type": "code",
   "execution_count": 10,
   "metadata": {},
   "outputs": [
    {
     "data": {
      "text/latex": [
       "\\begin{bmatrix}- 4 \\operatorname{LambertW}{\\left (- \\frac{1}{4} \\right )}\\end{bmatrix}"
      ],
      "text/plain": [
       "1-element Array{SymPy.Sym,1}\n",
       "[-4*LambertW(-1/4)]"
      ]
     },
     "execution_count": 10,
     "metadata": {},
     "output_type": "execute_result"
    }
   ],
   "source": [
    "pjs=solve(exp(x)-x^4,x)"
   ]
  },
  {
   "cell_type": "markdown",
   "metadata": {},
   "source": [
    "# Puntos fijos del mapeo estándar "
   ]
  },
  {
   "cell_type": "markdown",
   "metadata": {},
   "source": [
    "Tenemos la ecuación para los puntos fijos:\n",
    "$$f_{e}(p)=p$$\n",
    "donde \n",
    "$$p=(x,\\theta)$$\n",
    "mediante la ecuación en el N1:\n",
    "$$\\epsilon sin(\\theta)=0$$\n",
    "$$x=-\\epsilon sin(theta)$$"
   ]
  },
  {
   "cell_type": "code",
   "execution_count": 11,
   "metadata": {},
   "outputs": [
    {
     "data": {
      "text/plain": [
       "2-element Array{Dict{SymPy.Sym,SymPy.Sym},1}:\n",
       " Dict(x=>0,t=>0) \n",
       " Dict(x=>0,t=>pi)"
      ]
     },
     "execution_count": 11,
     "metadata": {},
     "output_type": "execute_result"
    }
   ],
   "source": [
    "t,x,ep = Sym(\"t\",\"x\",\"ep\")\n",
    "eq1= ep*sin(t)\n",
    "eq2=x+ep*sin(t)\n",
    "solve([eq1,eq2], [x,t])"
   ]
  },
  {
   "cell_type": "markdown",
   "metadata": {
    "collapsed": true
   },
   "source": [
    "De esto obtenemos que los puntos $p=(x,t)$ fijos son dos:\n",
    "$$p_{0}=(0,0) $$\n",
    "$$p_{1}=(0,\\pi)$$"
   ]
  },
  {
   "cell_type": "markdown",
   "metadata": {},
   "source": [
    "Queremos linearizar el mapeo estándar, po lo que calculamos la diferencial"
   ]
  },
  {
   "cell_type": "code",
   "execution_count": 12,
   "metadata": {},
   "outputs": [
    {
     "data": {
      "text/plain": [
       "f2 (generic function with 1 method)"
      ]
     },
     "execution_count": 12,
     "metadata": {},
     "output_type": "execute_result"
    }
   ],
   "source": [
    "f1(x,t)=x+ep*sin(t)\n",
    "f2(x,t)=x+t+ep*sin(t)"
   ]
  },
  {
   "cell_type": "code",
   "execution_count": 13,
   "metadata": {},
   "outputs": [
    {
     "data": {
      "text/latex": [
       "$$1$$"
      ],
      "text/plain": [
       "1"
      ]
     },
     "execution_count": 13,
     "metadata": {},
     "output_type": "execute_result"
    }
   ],
   "source": [
    "f_00 = diff(f1(x,t),x)"
   ]
  },
  {
   "cell_type": "code",
   "execution_count": 14,
   "metadata": {},
   "outputs": [
    {
     "data": {
      "text/plain": [
       "f_01 (generic function with 1 method)"
      ]
     },
     "execution_count": 14,
     "metadata": {},
     "output_type": "execute_result"
    }
   ],
   "source": [
    "f_01(x,t)=diff(f1(x,t),t)"
   ]
  },
  {
   "cell_type": "code",
   "execution_count": 15,
   "metadata": {},
   "outputs": [
    {
     "data": {
      "text/plain": [
       "f_10 (generic function with 1 method)"
      ]
     },
     "execution_count": 15,
     "metadata": {},
     "output_type": "execute_result"
    }
   ],
   "source": [
    "f_10(x,t)=diff(f2(x,t),x)"
   ]
  },
  {
   "cell_type": "code",
   "execution_count": 16,
   "metadata": {},
   "outputs": [
    {
     "data": {
      "text/plain": [
       "f_11 (generic function with 1 method)"
      ]
     },
     "execution_count": 16,
     "metadata": {},
     "output_type": "execute_result"
    }
   ],
   "source": [
    "f_11(x,t)=diff(f2(x,t),t)"
   ]
  },
  {
   "cell_type": "code",
   "execution_count": 17,
   "metadata": {},
   "outputs": [
    {
     "data": {
      "text/plain": [
       "2x2 Array{Any,2}:\n",
       " 1      f_01\n",
       "  f_10  f_11"
      ]
     },
     "execution_count": 17,
     "metadata": {},
     "output_type": "execute_result"
    }
   ],
   "source": [
    "Df=[[f_00 f_01]; [f_10 f_11]]"
   ]
  },
  {
   "cell_type": "markdown",
   "metadata": {},
   "source": [
    "Evaluamos la derivada en los puntos críticos"
   ]
  },
  {
   "cell_type": "code",
   "execution_count": 18,
   "metadata": {},
   "outputs": [
    {
     "data": {
      "text/latex": [
       "\\begin{bmatrix}1&ep\\\\1&ep + 1\\end{bmatrix}"
      ],
      "text/plain": [
       "2x2 Array{SymPy.Sym,2}\n",
       "[1    ep  ]\n",
       "[         ]\n",
       "[1  ep + 1]"
      ]
     },
     "execution_count": 18,
     "metadata": {},
     "output_type": "execute_result"
    }
   ],
   "source": [
    "Df_p0=[[diff(f1(x,t),x)|>replace(x,0) diff(f1(x,t),t)|>replace(t,0)];[diff(f2(x,t),x)|>replace(x,0) diff(f2(x,t),t)|>replace(t,0)]]"
   ]
  },
  {
   "cell_type": "code",
   "execution_count": 35,
   "metadata": {},
   "outputs": [
    {
     "data": {
      "text/latex": [
       "\\begin{bmatrix}1&- ep\\\\1&- ep + 1\\end{bmatrix}"
      ],
      "text/plain": [
       "2x2 Array{SymPy.Sym,2}\n",
       "[1    -ep  ]\n",
       "[          ]\n",
       "[1  -ep + 1]"
      ]
     },
     "execution_count": 35,
     "metadata": {},
     "output_type": "execute_result"
    }
   ],
   "source": [
    "Df_p1=[[diff(f1(x,t),x)|>replace(x,0) diff(f1(x,t),t)|>replace(t,pi)];[diff(f2(x,t),x)|>replace(x,0) diff(f2(x,t),t)|>replace(t,pi)]]"
   ]
  },
  {
   "cell_type": "markdown",
   "metadata": {
    "collapsed": true
   },
   "source": [
    "Queremos ahora visualizar los eigenvectores y eigenvalores , para ello resolveremos al ecuación.\n",
    "$$Ax=\\lambda x$$"
   ]
  },
  {
   "cell_type": "markdown",
   "metadata": {},
   "source": [
    "Para eso definimos la función $$(A-\\lambda I)x=0$$\n",
    "\n"
   ]
  },
  {
   "cell_type": "code",
   "execution_count": 19,
   "metadata": {},
   "outputs": [
    {
     "data": {
      "text/plain": [
       "F (generic function with 1 method)"
      ]
     },
     "execution_count": 19,
     "metadata": {},
     "output_type": "execute_result"
    }
   ],
   "source": [
    "l=Sym(\"l\")\n",
    "F(x)=(A-l*I)*x"
   ]
  },
  {
   "cell_type": "markdown",
   "metadata": {},
   "source": [
    "Para que la ecuación tenga solución, por ejemplo en $$p_{0}$$, el determinante debe ser distinto de cero."
   ]
  },
  {
   "cell_type": "code",
   "execution_count": 20,
   "metadata": {},
   "outputs": [
    {
     "data": {
      "text/plain": [
       "d (generic function with 1 method)"
      ]
     },
     "execution_count": 20,
     "metadata": {},
     "output_type": "execute_result"
    }
   ],
   "source": [
    "d(l)=det([1-l ep; 1 1+ep-l])\n"
   ]
  },
  {
   "cell_type": "code",
   "execution_count": 21,
   "metadata": {},
   "outputs": [
    {
     "data": {
      "text/plain": [
       "3-element Array{Dict{SymPy.Sym,SymPy.Sym},1}:\n",
       " Dict(l=>1)                             \n",
       " Dict(l=>ep/2 - sqrt(ep^2 + 4*ep)/2 + 1)\n",
       " Dict(l=>ep/2 + sqrt(ep^2 + 4*ep)/2 + 1)"
      ]
     },
     "execution_count": 21,
     "metadata": {},
     "output_type": "execute_result"
    }
   ],
   "source": [
    "solve([d(l)],[l])"
   ]
  },
  {
   "cell_type": "markdown",
   "metadata": {
    "collapsed": true
   },
   "source": [
    "Entonces los eigenvalores son $$\\lambda=\\frac{\\epsilon}{2}-\\frac{(\\epsilon^{2}+4\\epsilon)^{1/2}}{2} + 1$$"
   ]
  },
  {
   "cell_type": "markdown",
   "metadata": {},
   "source": [
    "Para estimar los valores usamos que la cantidad $$\\frac{\\epsilon}{2}\\pm \\frac{(\\epsilon^{2}+4\\epsilon)^{1/2}}{2}=0$$\n",
    "y multiplcamos estas dos ecuaciones"
   ]
  },
  {
   "cell_type": "code",
   "execution_count": 29,
   "metadata": {},
   "outputs": [
    {
     "data": {
      "text/plain": [
       "l_1 (generic function with 1 method)"
      ]
     },
     "execution_count": 29,
     "metadata": {},
     "output_type": "execute_result"
    }
   ],
   "source": [
    "l_1(ep)=ep/2.+(((ep^2+4*ep)^.5)/2.)"
   ]
  },
  {
   "cell_type": "code",
   "execution_count": 30,
   "metadata": {},
   "outputs": [
    {
     "data": {
      "text/plain": [
       "l_2 (generic function with 1 method)"
      ]
     },
     "execution_count": 30,
     "metadata": {},
     "output_type": "execute_result"
    }
   ],
   "source": [
    "l_2(ep)=ep/2.-(((ep^2+4*ep)^.5)/2.)"
   ]
  },
  {
   "cell_type": "code",
   "execution_count": 31,
   "metadata": {},
   "outputs": [
    {
     "data": {
      "text/latex": [
       "$$\\frac{ep^{2}}{4} - 0.25 \\left(ep \\left(ep + 4\\right)\\right)^{1.0}$$"
      ],
      "text/plain": [
       "  2                        \n",
       "ep                      1.0\n",
       "--- - 0.25*(ep*(ep + 4))   \n",
       " 4                         "
      ]
     },
     "execution_count": 31,
     "metadata": {},
     "output_type": "execute_result"
    }
   ],
   "source": [
    "simplify(expand(l_1(ep)*l_2(ep)))"
   ]
  },
  {
   "cell_type": "markdown",
   "metadata": {},
   "source": [
    "Esto nos da que $$\\frac{-\\epsilon}{4}$$ si $$\\epsilon>0$$ entonces este término es menor a cero, lo qe nos dice que los términos en los eigenvalores tienen signos opuestos y que además $$\\lambda_{1}>1$$ $$\\lambda_{1}< 1$$ por lo que son un par de eigenvalores hiperbólicos.\n",
    "\n",
    "Es decir $$p_{0}$$ es un punto hiperbólico fijo."
   ]
  },
  {
   "cell_type": "markdown",
   "metadata": {},
   "source": [
    "Encontramos ahora sus eigenvalores resolviendo $$ \\left( \\begin{array}{cc}\n",
    "1-\\lambda & \\epsilon  \\\\\n",
    "1 & 1+\\epsilon-\\lambda  \\end{array} \\right) \\left[ \\xi \\right]=0$$"
   ]
  },
  {
   "cell_type": "markdown",
   "metadata": {},
   "source": [
    "De igual forma calculamos los eigenvalores para $$p_{1}$$"
   ]
  },
  {
   "cell_type": "code",
   "execution_count": 32,
   "metadata": {},
   "outputs": [
    {
     "data": {
      "text/plain": [
       "d1 (generic function with 1 method)"
      ]
     },
     "execution_count": 32,
     "metadata": {},
     "output_type": "execute_result"
    }
   ],
   "source": [
    "d1(l)=det([1-l -ep;1 1-ep-l])"
   ]
  },
  {
   "cell_type": "code",
   "execution_count": 33,
   "metadata": {},
   "outputs": [
    {
     "data": {
      "text/plain": [
       "3-element Array{Dict{SymPy.Sym,SymPy.Sym},1}:\n",
       " Dict(l=>1)                              \n",
       " Dict(l=>-ep/2 - sqrt(ep^2 - 4*ep)/2 + 1)\n",
       " Dict(l=>-ep/2 + sqrt(ep^2 - 4*ep)/2 + 1)"
      ]
     },
     "execution_count": 33,
     "metadata": {},
     "output_type": "execute_result"
    }
   ],
   "source": [
    "solve([d1(l)],[l])"
   ]
  },
  {
   "cell_type": "code",
   "execution_count": 34,
   "metadata": {},
   "outputs": [
    {
     "data": {
      "text/latex": [
       "$$- \\frac{ep}{2} - \\frac{1}{2} \\left(ep^{2} - 4 ep\\right)^{0.5} + 1$$"
      ],
      "text/plain": [
       "                   0.5    \n",
       "       /  2       \\       \n",
       "  ep   \\ep  - 4*ep/       \n",
       "- -- - --------------- + 1\n",
       "  2           2           "
      ]
     },
     "execution_count": 34,
     "metadata": {},
     "output_type": "execute_result"
    }
   ],
   "source": [
    "l1=-ep/2.-((ep^2-4*ep)^.5/2)+1"
   ]
  },
  {
   "cell_type": "code",
   "execution_count": 37,
   "metadata": {},
   "outputs": [
    {
     "data": {
      "text/latex": [
       "$$- \\frac{ep}{2} + \\frac{1}{2} \\left(ep^{2} - 4 ep\\right)^{0.5} + 1$$"
      ],
      "text/plain": [
       "                   0.5    \n",
       "       /  2       \\       \n",
       "  ep   \\ep  - 4*ep/       \n",
       "- -- + --------------- + 1\n",
       "  2           2           "
      ]
     },
     "execution_count": 37,
     "metadata": {},
     "output_type": "execute_result"
    }
   ],
   "source": [
    "l2=-ep/2.+((ep^2-4*ep)^.5/2)+1"
   ]
  },
  {
   "cell_type": "code",
   "execution_count": 39,
   "metadata": {},
   "outputs": [
    {
     "data": {
      "text/latex": [
       "$$\\frac{ep^{2}}{4} - ep - \\frac{1}{4} \\left(ep^{2} - 4 ep\\right)^{1.0} + 1$$"
      ],
      "text/plain": [
       "                       1.0    \n",
       "  2        /  2       \\       \n",
       "ep         \\ep  - 4*ep/       \n",
       "--- - ep - --------------- + 1\n",
       " 4                4           "
      ]
     },
     "execution_count": 39,
     "metadata": {},
     "output_type": "execute_result"
    }
   ],
   "source": [
    "expand(l1*l2)"
   ]
  },
  {
   "cell_type": "markdown",
   "metadata": {},
   "source": [
    "De esta última ecuación se obtiene que $$0<\\epsilon<4$$"
   ]
  },
  {
   "cell_type": "markdown",
   "metadata": {},
   "source": [
    "Ahora resolvemos lo siguiente para obtener los eigenvectores $$ \\left( \\begin{array}{cc}\n",
    "1-\\lambda & -\\epsilon  \\\\\n",
    "1 & 1-\\epsilon-\\lambda  \\end{array} \\right) \\left[ \\xi \\right]=0$$"
   ]
  },
  {
   "cell_type": "markdown",
   "metadata": {},
   "source": [
    "Por ahora nos interesa sólo el rimer puno fijo."
   ]
  },
  {
   "cell_type": "code",
   "execution_count": null,
   "metadata": {
    "collapsed": true
   },
   "outputs": [],
   "source": []
  }
 ],
 "metadata": {
  "kernelspec": {
   "display_name": "Julia 0.5.2",
   "language": "julia",
   "name": "julia-0.5"
  },
  "language_info": {
   "file_extension": ".jl",
   "mimetype": "application/julia",
   "name": "julia",
   "version": "0.5.2"
  }
 },
 "nbformat": 4,
 "nbformat_minor": 1
}
