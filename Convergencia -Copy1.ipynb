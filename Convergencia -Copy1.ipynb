{
 "cells": [
  {
   "cell_type": "code",
   "execution_count": 1,
   "metadata": {
    "collapsed": false
   },
   "outputs": [],
   "source": [
    "using TaylorSeries \n",
    "using PyPlot\n",
    "using LinearAlgebra\n"
   ]
  },
  {
   "cell_type": "code",
   "execution_count": 2,
   "metadata": {
    "collapsed": false
   },
   "outputs": [
    {
     "data": {
      "text/plain": [
       "PolinomioTaylor1"
      ]
     },
     "execution_count": 2,
     "metadata": {},
     "output_type": "execute_result"
    }
   ],
   "source": [
    "\"\"\"\n",
    "\n",
    "PolinomioTaylor1(g,CX,CY,TipoVariable)\n",
    "   \n",
    "   Es una función cuyo objetivo es recibir dos listas con valores iniciales y crear dos polinomios de grado g.\n",
    "\n",
    "\n",
    "\n",
    "\n",
    "Argumentos:\n",
    "\n",
    "\n",
    "\n",
    "\n",
    "\n",
    "   - g       : Grado del polinomio\n",
    "   - CX,CY  :  Arreglo que contiene los coeficientes iniciales, es del tipo Array{TaylorSeries.TaylorN{}}\n",
    "   - TipoVariable :  es el tipo del que serán los coeficientes ( Real, Float64, BigFloat)\n",
    "   \n",
    "\n",
    "Esta función regresa dos arreglos que contienen elementos del tipo Taylor1.TaylorN, creados con las listas iniciales. \n",
    "\n",
    "\n",
    "\"\"\"\n",
    "function PolinomioTaylor1(g::Real,CX,CY,TipoVariable)\n",
    "    #=\n",
    "    g es el grado del polinomio, CX y CY son\n",
    "    arreglos que contienen los coeficientes que forman la variedad.\n",
    "    \n",
    "    \n",
    "    Creamos x,y como variables tipo TaylorN de orden 2\n",
    "    =#\n",
    "    x,y = set_variables(TipoVariable, \"x y\", order=2)\n",
    "    \n",
    "    #especificamos que LX,LY son de arreglos que guardarán coeficientes del polinomio, sólo son auxiliares en esta función\n",
    "    LX = Array{TaylorSeries.TaylorN{TipoVariable}}(1)\n",
    "    LY = Array{TaylorSeries.TaylorN{TipoVariable}}(1)\n",
    "    \n",
    "    #usamos un condicional para separar el caso 1 del resto\n",
    "    if g == 1  \n",
    "        T = [Taylor1([x], g),Taylor1([y], g)]\n",
    "    #en el caso en que g>1 entonces usamos las listas que van guardando los coeficientes\n",
    "    else\n",
    "        #como CX,CY están guardando los coeficientes pero necesitamos agregar el último término que será una variable \n",
    "        LX = push!(CX, x) \n",
    "        LY = push!(CY, y)\n",
    "\n",
    "        T=[Taylor1(LX, g),Taylor1(LY, g)]\n",
    "        \n",
    "    end\n",
    "    return T\n",
    "end\n",
    "#Esta función regresa tx,ty que son Taylor1.TaylorN"
   ]
  },
  {
   "cell_type": "code",
   "execution_count": 3,
   "metadata": {
    "collapsed": false
   },
   "outputs": [
    {
     "name": "stdout",
     "output_type": "stream",
     "text": [
      "search:\n",
      "\n"
     ]
    }
   ],
   "source": [
    "?PolinomioTaylor1"
   ]
  },
  {
   "cell_type": "code",
   "execution_count": 4,
   "metadata": {
    "collapsed": false
   },
   "outputs": [
    {
     "data": {
      "text/plain": [
       "Vecλ"
      ]
     },
     "execution_count": 4,
     "metadata": {},
     "output_type": "execute_result"
    }
   ],
   "source": [
    "#=Esta función toma el arreglo que contiene las lambdas que se van calculando, los coeficientes de los polinomios\n",
    "y el orden de los mismos, lo que hace es generar el lado derecho de la ecuación cohomológica, multiplicando a_n*λ^n\n",
    "y generando un polinomio de gradno g con estos coeficientes\n",
    "=#\n",
    "\"\"\"\n",
    "Vecλ(λ_v,g,CX,CY)\n",
    "Es una función que calcula la parte derecha de la ecuación comohológica, es decir la parte que involucra el valor propio.\n",
    "Regresa un arreglo de tipo TaylorSeries.TaylorN{T}\n",
    "\n",
    "\n",
    "Sus argumentos son:\n",
    "\n",
    "\n",
    "\n",
    "- g      :  grado del polinomio.\n",
    "- λ_v    :  Arreglo de dos dimensiones que contiene el valor propio y sus potencias. \n",
    "- CX,CY  :  Los arreglos con los polinomios que se calculan en PolinomioTaylor1.\n",
    "\n",
    "\"\"\"\n",
    "function Vecλ(λ_v,g,CX,CY)\n",
    "   # el arreglo de λ_v contiene los arreglos que corresponden a la parte derecha de la ecuación cohomológica\n",
    "    # en θ,p. Es importante hacer la distinción puesto que dependiendo del punto fijo donde se esté calculando\n",
    "    # el primer valor de λ en θ serpa diferente del primer valor de λ en P\n",
    "    xλt=Taylor1(λ_v[1].*CX,g)\n",
    "    yλt=Taylor1(λ_v[2].*CY,g)\n",
    "    \n",
    "    λvec=[xλt,yλt]\n",
    "    \n",
    "    return λvec\n",
    "end"
   ]
  },
  {
   "cell_type": "code",
   "execution_count": 5,
   "metadata": {
    "collapsed": false
   },
   "outputs": [
    {
     "name": "stdout",
     "output_type": "stream",
     "text": [
      "search: \u001b[1mv\u001b[22m\u001b[1me\u001b[22m\u001b[1mc\u001b[22m \u001b[1mV\u001b[22m\u001b[1me\u001b[22m\u001b[1mc\u001b[22mtor \u001b[1mv\u001b[22m\u001b[1me\u001b[22m\u001b[1mc\u001b[22mdot \u001b[1mv\u001b[22m\u001b[1me\u001b[22m\u001b[1mc\u001b[22mnorm \u001b[1mV\u001b[22m\u001b[1me\u001b[22m\u001b[1mc\u001b[22mOrMat \u001b[1mV\u001b[22m\u001b[1me\u001b[22m\u001b[1mc\u001b[22mElement @\u001b[1mv\u001b[22m\u001b[1me\u001b[22m\u001b[1mc\u001b[22mtorize_2arg\n",
      "\n"
     ]
    },
    {
     "data": {
      "text/markdown": [
       "Vecλ(λ_v,g,CX,CY) Es una función que calcula la parte derecha de la ecuación comohológica, es decir la parte que involucra el valor propio. Regresa un arreglo de tipo TaylorSeries.TaylorN{T}\n",
       "\n",
       "Sus argumentos son:\n",
       "\n",
       "  * g      :  grado del polinomio.\n",
       "  * λ_v    :  Arreglo de dos dimensiones que contiene el valor propio y sus potencias.\n",
       "  * CX,CY  :  Los arreglos con los polinomios que se calculan en PolinomioTaylor1.\n"
      ],
      "text/plain": [
       "Vecλ(λ_v,g,CX,CY) Es una función que calcula la parte derecha de la ecuación comohológica, es decir la parte que involucra el valor propio. Regresa un arreglo de tipo TaylorSeries.TaylorN{T}\n",
       "\n",
       "Sus argumentos son:\n",
       "\n",
       "  * g      :  grado del polinomio.\n",
       "  * λ_v    :  Arreglo de dos dimensiones que contiene el valor propio y sus potencias.\n",
       "  * CX,CY  :  Los arreglos con los polinomios que se calculan en PolinomioTaylor1.\n"
      ]
     },
     "execution_count": 5,
     "metadata": {},
     "output_type": "execute_result"
    }
   ],
   "source": [
    "?Vecλ"
   ]
  },
  {
   "cell_type": "code",
   "execution_count": 6,
   "metadata": {
    "collapsed": false
   },
   "outputs": [
    {
     "data": {
      "text/plain": [
       "ValPropios (generic function with 1 method)"
      ]
     },
     "execution_count": 6,
     "metadata": {},
     "output_type": "execute_result"
    }
   ],
   "source": [
    "function ValPropios(M)\n",
    "    V = BigFloat[]\n",
    "    \n",
    "    #while true\n",
    "        disc = trace(M)^2-4.*det(M)\n",
    "        tol = disc -trace(M)^2\n",
    "        if  tol > 1e-70\n",
    "            println(\"Para este caso el método de calculo de valores propios no es eficiente\")\n",
    "            #break\n",
    "        else\n",
    "            disc >= 0.? v = ((trace(M) + sqrt(trace(M)^2-4.*det(M)))/2.,(trace(M) - sqrt(trace(M)^2-4.*det(M)))/2.)  : error(\"Error: el valor propio es complejo, es decir es un punto elíptico\")\n",
    "            v_prop1 = v[1]\n",
    "            v_prop2 = v[2]\n",
    "            push!(V,v_prop1)\n",
    "            push!(V,v_prop2)\n",
    "            ValoresP = sort(V,rev=true)\n",
    "        end\n",
    "    #end\n",
    "return ValoresP\n",
    "end\n",
    "        \n",
    "    \n",
    "    \n",
    "    "
   ]
  },
  {
   "cell_type": "code",
   "execution_count": 7,
   "metadata": {
    "collapsed": false
   },
   "outputs": [
    {
     "data": {
      "text/plain": [
       "VecPropios (generic function with 1 method)"
      ]
     },
     "execution_count": 7,
     "metadata": {},
     "output_type": "execute_result"
    }
   ],
   "source": [
    "function VecPropios(M,ValoresP)\n",
    "    Vectores = []\n",
    "    for i in [1,2]\n",
    "        y = big.(1.)\n",
    "        I_2 = big.([1. 0.; 0. 1.])\n",
    "        M_aux = -I_2.*ValoresP[i]+M\n",
    "        x = -(y*M_aux[3])/M_aux[1]\n",
    "        norma = sqrt(y^2+x^2)\n",
    "        push!(Vectores,x/norma)\n",
    "        push!(Vectores,y/norma)\n",
    "        @show(Vectores)\n",
    "        \n",
    "    end\n",
    "    return Vectores\n",
    "end"
   ]
  },
  {
   "cell_type": "code",
   "execution_count": 8,
   "metadata": {
    "collapsed": false
   },
   "outputs": [
    {
     "data": {
      "text/plain": [
       "EigenValores (generic function with 1 method)"
      ]
     },
     "execution_count": 8,
     "metadata": {},
     "output_type": "execute_result"
    }
   ],
   "source": [
    "function EigenValores(M)\n",
    "    ValoresP  = ValPropios(M)\n",
    "    VectoresP = VecPropios(M,ValoresP)\n",
    "    V = (ValoresP,[VectoresP[1] VectoresP[3];VectoresP[2] VectoresP[4]])\n",
    "    return V\n",
    "end"
   ]
  },
  {
   "cell_type": "code",
   "execution_count": 9,
   "metadata": {
    "collapsed": false
   },
   "outputs": [
    {
     "data": {
      "text/plain": [
       "Orden1 (generic function with 1 method)"
      ]
     },
     "execution_count": 9,
     "metadata": {},
     "output_type": "execute_result"
    }
   ],
   "source": [
    "function Orden1(CX,CY,TipoVariable,Mapeo,k,l,PuntoFijo,tipo_v,λarrayX,λarrayY)\n",
    "            #usamos la función PolinomioTaylor para crear el polinomio tipo Taylor1.TaylorN{T}\n",
    "            t = PolinomioTaylor1(1,CX,CY,TipoVariable)\n",
    "            \n",
    "            #Aplicamos el mapeo a los polinomios que resultan de la función anterior.\n",
    "            Or1 = Mapeo(t[1],t[2],k,l)\n",
    "            \n",
    "            AuxOr1=[Or1[1][1],Or1[2][1]]\n",
    "            \n",
    "            #Calculamos el jacobiano del Orden 1 para obtener sus valores y vectores propios.\n",
    "            JPO = jacobian(AuxOr1,[PuntoFijo[1],PuntoFijo[2]])\n",
    "            \n",
    "            \n",
    "            \n",
    "            #Calculamos los valores y vectores propios\n",
    "            if TipoVariable == BigFloat\n",
    "                eigval,eigvec = EigenValores(JPO)\n",
    "            else\n",
    "                eigval,eigvec = eig(JPO)\n",
    "            end\n",
    "            #escogemos el tipo de variedad que queremos calcular. Como se ordenan de menor a mayor la inestable es la segunda\n",
    "            λ = eigval[tipo_v]\n",
    "    \n",
    "            tt = imag(λ)\n",
    "            \n",
    "            #Ponemos los coeficientes en una variable nueva cada uno y los agregamos a las listas CX,CP,λ\n",
    "            tt == 0.?  Coef = eigvec[:,tipo_v] : error(\"Error: el valor propio es complejo, es decir es un punto elíptico\")\n",
    "            \n",
    "            \n",
    "            push!(CX, Coef[1])\n",
    "            push!(CY, Coef[2])\n",
    "            push!(λarrayX, λ)\n",
    "            push!(λarrayY, λ)\n",
    "            λ_v=[λarrayX,λarrayY]\n",
    "            \n",
    "            \n",
    "    return CX, CY,λarrayX,λarrayY, λ_v\n",
    "end\n",
    "            \n",
    "    "
   ]
  },
  {
   "cell_type": "code",
   "execution_count": 10,
   "metadata": {
    "collapsed": false
   },
   "outputs": [
    {
     "data": {
      "text/plain": [
       "Variedades"
      ]
     },
     "execution_count": 10,
     "metadata": {},
     "output_type": "execute_result"
    }
   ],
   "source": [
    "#Creamos una función que reciba el orden del polinomio , el punto fijo, el parámetro k y \n",
    "#el tipo de varidad que queremos(estable=1, inestable=2)\n",
    "\"\"\"\n",
    "Variedades(Mapeo,orden, PuntoFijo,k,tipo_v,TipoVariable)\n",
    "Es una función que calcula las variedades de cierto mapeo. Usa las funciones de PolinomioTaylor1 y Vecλ para calcular los\n",
    "polinomios de cada lado de la ecuación cohomológica y les aplica el mapeo dado. \n",
    "\n",
    "\n",
    "\n",
    "Argumentos:\n",
    "\n",
    "\n",
    "\n",
    "- Mapeo : Mapeo de dos dimensiones, debe recibir al menos dos parámetros que son los polinomios antes calculados.\n",
    "- orden : se trata del orden del polinomio.\n",
    "- PuntoFijo : ES el punto fijo donde queremos calcular la variedad.\n",
    "- k     : Es la constante del mapeo.\n",
    "- tipo_v : 1 si la variedad es estable, 2 si es inestable.\n",
    "- TipoVariable :  Float64,BigFloat, Integer,etc.\n",
    "\n",
    "\n",
    "\"\"\"\n",
    "function Variedades(Mapeo,orden, PuntoFijo,k,l,tipo_v, TipoVariable)\n",
    "   \n",
    "    #definimos unas listas donde se guardarán los coeficientes  de todo el polinomio, tales deben ser\n",
    "    # de tipo \"Array{TaylorSeries.TaylorN{Int64},1}\" dado que los términos que se van agregando \n",
    "    # en cada orden son de tipo TaylorN.\n",
    "    \n",
    "    a=TipoVariable(PuntoFijo[1])\n",
    "    b=TipoVariable(PuntoFijo[2])\n",
    "    CX = [a+TaylorN(0.)]\n",
    "    CY = [b+TaylorN(0.)]\n",
    "    \n",
    "    \n",
    "    #λarray es la lista que contiene a los coeficientes del polinomio de λ\n",
    "    λarrayX = [a^0]\n",
    "    λarrayY = [b^0]\n",
    "    \n",
    "    #definimos un vector que contiene el punto en el que se evalúa el jacobiano que se calcula después\n",
    "    #dado que sólo lo usamos para obtener los valores que resultaron en el mapeo evaluamos siempre en [1.,1.]\n",
    "    \n",
    "    \n",
    "    \n",
    "    \n",
    "    CX,CY,λarayX, λarrayY,λ_v = Orden1(CX,CY,TipoVariable,Mapeo,k,l,PuntoFijo,tipo_v,λarrayX,λarrayY)\n",
    "    \n",
    "\n",
    "\n",
    "    for g in 2:orden\n",
    "        \n",
    "            #Creamos los polinomios con las listas correspondientes \n",
    "            t = PolinomioTaylor1(g,CX,CY,TipoVariable)\n",
    "            \n",
    "            # aplicamos el mapeo estándar y al resultado le llamamos OrG por Orden g.\n",
    "            OrG = Mapeo(t[1],t[2],k,l)\n",
    "            \n",
    "            push!(λarrayX,λarrayX[2]^g)\n",
    "            push!(λarrayY,λarrayY[2]^g)\n",
    "            λ_v=[λarrayX,λarrayY]\n",
    "            \n",
    "            #agregamos el término correspondiente a λ \n",
    "            λ_vec=Vecλ(λ_v,g,CX,CY)\n",
    "            \n",
    "            \n",
    "            \n",
    "            # ahora ya tengo las dos partes de la ecuación y debo igualarlas para resolver.\n",
    "            EcuaCohomo=OrG-λ_vec\n",
    "            \n",
    "            \n",
    "            # de esta ecuación necesitamos solo los de orden g, así que los extraemos manualmente \n",
    "            X_g=EcuaCohomo[1].coeffs[g+1]\n",
    "            Y_g=EcuaCohomo[2].coeffs[g+1]\n",
    "            vec_orden_g=[X_g,Y_g]\n",
    "            \n",
    "            \n",
    "            #calculamos el término independiene en la ecuación\n",
    "            X_ind=EcuaCohomo[1].coeffs[g+1].coeffs[1].coeffs[1]\n",
    "            Y_ind=EcuaCohomo[2].coeffs[g+1].coeffs[1].coeffs[1]\n",
    "            vec_ind=[-X_ind,-Y_ind]\n",
    "            \n",
    "            #calculamos el jacobiano\n",
    "            JacOrdenG = jacobian(vec_orden_g)\n",
    "            \n",
    "            \n",
    "            \n",
    "            \n",
    "            #Con esta información podemos evaluar lo siguiente:\n",
    "            # Si el vector de términos independientes es cero y el determinante del jacobiano es distinto de cero\n",
    "            # entonces la solución a la ecuación cohomológica es la trivial\n",
    "            if norm(vec_ind)==0.\n",
    "                if det(JacOrdenG)!=0.\n",
    "                    \n",
    "                    CX[g+1]=0.\n",
    "                    CY[g+1]=0.\n",
    "                end\n",
    "            else\n",
    "                # Si el vector de términos independientes es distinto de ceroentonces necesitamos \n",
    "                #resolver la ecuación JacOrdenG[x_g,p_g]*[x,p]**=vec_ind[x_g,p_g]\n",
    "                # entonces solo se trata de invertir el jacobiano y multiplicar con el vector del lado izquierdo\n",
    "                TermG=JacOrdenG \\ vec_ind\n",
    "                \n",
    "                CX[g+1]=TermG[1]\n",
    "                CY[g+1]=TermG[2]\n",
    "            \n",
    "            end\n",
    "            \n",
    "\n",
    "    end\n",
    "    return CX,CY,λarrayX, λarrayY\n",
    "end"
   ]
  },
  {
   "cell_type": "code",
   "execution_count": 11,
   "metadata": {
    "collapsed": false
   },
   "outputs": [
    {
     "data": {
      "text/plain": [
       "PolinomioCohomo"
      ]
     },
     "execution_count": 11,
     "metadata": {},
     "output_type": "execute_result"
    }
   ],
   "source": [
    "\"\"\"\n",
    "PolinomioCohomo(Mapeo,Pol_vec,λvec, k)\n",
    "Esta función calcula la ecuación cohomológica con los polinomios que ya se calcularon. Regresa un arreglo de dos \n",
    "elementos que son los valores de x,θ del mapeo.\n",
    "\n",
    "\n",
    "Argumentos:\n",
    "\n",
    "\n",
    "\n",
    "\n",
    "- Mapeo : función o mapeo del cual calculamos las variedades.Debe ser una función que reciba tres parámetros\n",
    " que son dos de sus variables y la constante del mapeo. Como salida debe tener un arreglo de dos elementos. \n",
    "- Pol_vec : Es un arreglo de dos elementos que son los polinomios calculados con anterioridad. \n",
    "- k     : es el valor de la constante del mapeo \n",
    "- λvec : \n",
    "\n",
    "\"\"\"\n",
    "function PolinomioCohomo(Mapeo,Pol_vec,λvec, k,l ,PuntoFijo,modulo)\n",
    "    Map_vec=Mapeo(Pol_vec[1],Pol_vec[2],k,l)\n",
    "    if modulo==2*pi\n",
    "        Ec_Cohomo = mod(Map_vec-λvec,modulo)\n",
    "    else\n",
    "        Ec_Cohomo = Map_vec-λvec\n",
    "    end\n",
    "    return Ec_Cohomo\n",
    "end"
   ]
  },
  {
   "cell_type": "code",
   "execution_count": 12,
   "metadata": {
    "collapsed": false
   },
   "outputs": [
    {
     "data": {
      "text/plain": [
       "EvaluarPol"
      ]
     },
     "execution_count": 12,
     "metadata": {},
     "output_type": "execute_result"
    }
   ],
   "source": [
    "\"\"\"\n",
    "EvaluarPol(Ec_2var,Tiempo,paso)\n",
    "\n",
    "Es una función que toma un arreglo de dos dimensiones que contiene polinomios y los evalúa en el tiempo dado en los pasos deseados\n",
    "\n",
    "\n",
    "\n",
    "\n",
    "Argumentos:\n",
    "\n",
    "\n",
    "\n",
    "\n",
    "- Ec_2var : Arreglo de dos dimensiones que contiene polinomios en cada una de ellas. \n",
    "- Tiempo  : Valor hasta el cual se quiere evaluar cada polinomio\n",
    "- paso    : es el paso que se considera en cada evaluación del polinomio. \n",
    "\n",
    "\"\"\"\n",
    "function EvaluarPol(Ec_2var,Tiempo,paso,TipoVariable)\n",
    "    \n",
    "    \n",
    "    \n",
    "    \n",
    "    \n",
    "    Val=TipoVariable[]\n",
    "    Tiem=TipoVariable[]\n",
    "    \n",
    "    \n",
    "    for t = 0:paso:Tiempo\n",
    "        x = evaluate(Ec_2var[1], t)\n",
    "        y = evaluate(Ec_2var[2], t)\n",
    "\n",
    "        \n",
    "        norma = norm([x,y],Inf)\n",
    "        push!(Val,norma)\n",
    "        push!(Tiem,t)\n",
    "    \n",
    "    end\n",
    "    return Tiem,Val\n",
    "end"
   ]
  },
  {
   "cell_type": "code",
   "execution_count": 13,
   "metadata": {
    "collapsed": false
   },
   "outputs": [
    {
     "data": {
      "text/plain": [
       "CreaPol"
      ]
     },
     "execution_count": 13,
     "metadata": {},
     "output_type": "execute_result"
    }
   ],
   "source": [
    "\"\"\"\n",
    "CreaPol es una función que dadas dos listas y un grado crea  un arreglo de dos entradas , en cada una de ellas se encuentra \n",
    "el polinomio de grado g con los coeficientes de las listas. \n",
    "\n",
    "\n",
    "Argumentos:\n",
    "\n",
    "\n",
    "\n",
    "- A,B : arreglos que contienen lo que serán los coeficientes del polinomio.\n",
    "- orden : grado del polinomio\n",
    "\"\"\"\n",
    "function CreaPol(A,B,orden)\n",
    "    Taylor = [Taylor1(A,orden),Taylor1(B,orden)]\n",
    "    return Taylor\n",
    "end"
   ]
  },
  {
   "cell_type": "code",
   "execution_count": 14,
   "metadata": {
    "collapsed": false
   },
   "outputs": [
    {
     "data": {
      "text/plain": [
       "Convergencia (generic function with 1 method)"
      ]
     },
     "execution_count": 14,
     "metadata": {},
     "output_type": "execute_result"
    }
   ],
   "source": [
    "function Convergencia(A,B)\n",
    "    A_aux = []\n",
    "    B_aux = []\n",
    "    Con_x = []\n",
    "    Con_y = []\n",
    "    suma_A = 0.\n",
    "    suma_B = 0.\n",
    "    \n",
    "    for i in 1:length(A)\n",
    "        if A[i] != 0\n",
    "            push!(A_aux,A[i])\n",
    "        end\n",
    "        if B[i] != 0\n",
    "            push!(B_aux,B[i])\n",
    "        end\n",
    "    end\n",
    "    for i in 1:length(A_aux)-1\n",
    "        push!(Con_x,A_aux[i+1]/A_aux[i])\n",
    "        push!(Con_y,B_aux[i+1]/B_aux[i])\n",
    "    end\n",
    "        \n",
    "    #=\n",
    "    for i in 1:length(A_aux)-1        \n",
    "        suma_A = suma_A + A[i+1]/A[i]\n",
    "    end\n",
    "    for i in 1:length(B_aux)-1\n",
    "        suma_B = suma_B + B[i+1]/B[i]\n",
    "    end\n",
    "    =#\n",
    "    return Con_x,Con_y\n",
    "end\n",
    "        \n",
    "        "
   ]
  },
  {
   "cell_type": "code",
   "execution_count": 15,
   "metadata": {
    "collapsed": false
   },
   "outputs": [
    {
     "data": {
      "text/plain": [
       "MetParametrización (generic function with 1 method)"
      ]
     },
     "execution_count": 15,
     "metadata": {},
     "output_type": "execute_result"
    }
   ],
   "source": [
    "function MetParametrización(Mapeo,modulo,orden,PuntoFijo,k,l,tipo_v,Tiempo,paso, TipoVariable)\n",
    "    CoeficienteX,CoeficienteY,λarrayX,λarrayY = Variedades(Mapeo,orden,PuntoFijo,k,l,tipo_v,TipoVariable)\n",
    "    \n",
    "    Conver_X,Conver_Y=Convergencia(CoeficienteX,CoeficienteY) \n",
    "    \n",
    "    X = TipoVariable[]\n",
    "    Y = TipoVariable[]\n",
    "    \n",
    "    for i in 1:orden+1\n",
    "            \n",
    "        push!(X,CoeficienteX[i].coeffs[1].coeffs[1])\n",
    "        push!(Y,CoeficienteY[i].coeffs[1].coeffs[1])\n",
    "        \n",
    "    end\n",
    "    \n",
    "    Taylor=CreaPol(X,Y,orden)\n",
    "    \n",
    "    λ_vec=CreaPol(X.*λarrayX,Y.*λarrayY,orden)\n",
    "    \n",
    "    \n",
    "    \n",
    "    Ecua_Cohomo = PolinomioCohomo(Mapeo,Taylor,λ_vec, k,l,PuntoFijo,modulo)\n",
    "    Valor_t , Error = EvaluarPol(Ecua_Cohomo,Tiempo,paso, TipoVariable)\n",
    "    ErrorV = [Valor_t,Error]\n",
    "    \n",
    "    \n",
    "    return Taylor,ErrorV,λ_vec, Conver_X,Conver_Y\n",
    "   \n",
    "end"
   ]
  },
  {
   "cell_type": "markdown",
   "metadata": {},
   "source": [
    "Aquí vemos que si el punto  que se introduce es elíptico entonces resulta un error."
   ]
  },
  {
   "cell_type": "code",
   "execution_count": 16,
   "metadata": {
    "collapsed": false
   },
   "outputs": [
    {
     "data": {
      "text/plain": [
       "Henon (generic function with 1 method)"
      ]
     },
     "execution_count": 16,
     "metadata": {},
     "output_type": "execute_result"
    }
   ],
   "source": [
    "function Henon(x,y,a,b)\n",
    "   \n",
    "    x_n = a-b*y-x^2\n",
    "    y_n = x \n",
    "\n",
    "    return [x_n,y_n]\n",
    "end"
   ]
  },
  {
   "cell_type": "markdown",
   "metadata": {
    "collapsed": false
   },
   "source": [
    "#Usando Float64\n",
    "Polinomio,E,ValProp,ConverX,ConverY = MetParametrización(Henon,1., 25, [.22,.22], .5, 1., 2, 2.9, 0.125, Float64)"
   ]
  },
  {
   "cell_type": "markdown",
   "metadata": {},
   "source": [
    "Calculamos el mismo polinomio pero ahora usando BigFloat para ver la diferencia sobre todo en el error. "
   ]
  },
  {
   "cell_type": "markdown",
   "metadata": {
    "collapsed": false
   },
   "source": [
    "#Usando BigFloat\n",
    "PolinomioB,EBig,ValPropB,ConverX,ConverY = MetParametrización(Henon,1.,25,[.22,.22],.5 ,1.0,2,2.9,0.125,BigFloat)"
   ]
  },
  {
   "cell_type": "markdown",
   "metadata": {},
   "source": [
    "Graficamos ahora para valores en los que estamos seguron son puntos hiperbólicos."
   ]
  },
  {
   "cell_type": "code",
   "execution_count": 17,
   "metadata": {
    "collapsed": false
   },
   "outputs": [
    {
     "name": "stdout",
     "output_type": "stream",
     "text": [
      "x1 = 1.0\n",
      "x2 = -3.0\n"
     ]
    },
    {
     "data": {
      "text/plain": [
       "-3.0"
      ]
     },
     "execution_count": 17,
     "metadata": {},
     "output_type": "execute_result"
    }
   ],
   "source": [
    "parametro = 3.\n",
    "x1 = -1.+(1.+parametro)^.5\n",
    "x2 = -1.-(1.+parametro)^.5\n",
    "@show(x1,x2)\n"
   ]
  },
  {
   "cell_type": "code",
   "execution_count": 18,
   "metadata": {
    "collapsed": false
   },
   "outputs": [
    {
     "data": {
      "text/plain": [
       "(TaylorSeries.Taylor1{Float64}[ - 3.0 + 0.16910197872576274 t - 0.0010212671146060113 t² + 1.7989405196606992e-6 t³ - 1.4384976675477913e-9 t⁴ + 6.191820225703751e-13 t⁵ - 1.628680867511824e-16 t⁶ + 2.842842520068909e-20 t⁷ - 3.483719438745041e-24 t⁸ + 3.12635024358281e-28 t⁹ - 2.1252881339887887e-32 t¹⁰ + 1.1251004002703104e-36 t¹¹ - 4.745065182924098e-41 t¹² + 1.6246881388245536e-45 t¹³ - 4.588360278501107e-50 t¹⁴ + 1.0833423268684392e-54 t¹⁵ - 2.1636322128836434e-59 t¹⁶ + 3.693380204444548e-64 t¹⁷ - 5.433407447296043e-69 t¹⁸ + 7.0010539753299e-74 t¹⁹ - 8.096408020401043e-79 t²⁰ + 8.236092143148846e-84 t²¹ - 1.6756372361549572e-88 t²² - 5.113639026351798e-93 t²³ + 𝒪(t²⁶), - 3.0 + 0.9855985596534887 t - 0.0346930185996797 t² + 0.0003561811371028751 t³ - 1.6600250618174164e-6 t⁴ + 4.164618191750326e-9 t⁵ - 6.384754732667188e-12 t⁶ + 6.495497160299569e-15 t⁷ - 4.63931794869163e-18 t⁸ + 2.4266099068085903e-21 t⁹ - 9.614606730191323e-25 t¹⁰ + 2.966581998326824e-28 t¹¹ - 7.292201204663291e-32 t¹² + 1.4552508299165646e-35 t¹³ - 2.39539465954227e-39 t¹⁴ + 3.296396200226081e-43 t¹⁵ - 3.8370314888442363e-47 t¹⁶ + 3.8167259224773965e-51 t¹⁷ - 3.2739277340501744e-55 t¹⁸ + 2.4414988706568352e-59 t¹⁹ - 1.5945118230482985e-63 t²⁰ + 9.180219413070852e-68 t²¹ - 4.687453511688598e-72 t²² + 2.134272799547002e-76 t²³ - 8.708746013736528e-81 t²⁴ + 3.19915276569805e-85 t²⁵ + 𝒪(t²⁶)],Array{Float64,1}[[0.0,0.125,0.25,0.375,0.5,0.625,0.75,0.875,1.0,1.125  …  58.875,59.0,59.125,59.25,59.375,59.5,59.625,59.75,59.875,60.0],[0.0,6.0555e-18,1.2079e-17,1.80705e-17,2.40301e-17,2.99579e-17,3.58539e-17,4.17181e-17,4.75507e-17,5.33516e-17  …  2.02472e-15,2.04768e-15,2.07078e-15,2.09402e-15,2.11739e-15,2.14091e-15,2.16457e-15,2.18837e-15,2.21231e-15,2.2364e-15]],TaylorSeries.Taylor1{Float64}[ - 3.0 + 0.029013312701087708 t - 3.0063296924682043e-5 t² + 9.085789942723439e-9 t³ - 1.2465327103404912e-12 t⁴ + 9.205798933352075e-17 t⁵ - 4.1545861654293486e-21 t⁶ + 1.2442086255277625e-25 t⁷ - 2.6159666705816747e-30 t⁸ + 4.027868598980367e-35 t⁹ - 4.697903705961774e-40 t¹⁰ + 4.2670349667986045e-45 t¹¹ - 3.087633431270049e-50 t¹² + 1.8138534320615386e-55 t¹³ - 8.788976878397638e-61 t¹⁴ + 3.560370151879889e-66 t¹⁵ - 1.2200047116736222e-71 t¹⁶ + 3.573145618872409e-77 t¹⁷ - 9.018776022118796e-83 t¹⁸ + 1.9938265878849075e-88 t¹⁹ - 3.956079158059415e-94 t²⁰ + 6.904661823322807e-100 t²¹ - 2.4101820509495187e-105 t²² - 1.261968580220134e-110 t²³ + 𝒪(t²⁶), - 3.0 + 0.16910197872576274 t - 0.0010212671146060113 t² + 1.7989405196606963e-6 t³ - 1.43849766754777e-9 t⁴ + 6.191820225703711e-13 t⁵ - 1.628680867512314e-16 t⁶ + 2.8428425200773745e-20 t⁷ - 3.4837194387790816e-24 t⁸ + 3.1263502436015863e-28 t⁹ - 2.1252881370187476e-32 t¹⁰ + 1.1251004013237018e-36 t¹¹ - 4.745065317140926e-41 t¹² + 1.6246882397161446e-45 t¹³ - 4.588364252039873e-50 t¹⁴ + 1.0833501423304479e-54 t¹⁵ - 2.1635823627302263e-59 t¹⁶ + 3.6924759308357895e-64 t¹⁷ - 5.434310095904104e-69 t¹⁸ + 6.953132170898867e-74 t¹⁹ - 7.79112783662333e-79 t²⁰ + 7.696163351436618e-84 t²¹ - 6.742280533498113e-89 t²² + 5.26706167714836e-94 t²³ - 3.687421032738281e-99 t²⁴ + 2.3240780666814377e-104 t²⁵ + 𝒪(t²⁶)],Any[ - 0.05636732624192091 + 𝒪(‖x‖¹), - 0.0060393563830629556 + 𝒪(‖x‖¹), - 0.0017614789450600317 + 𝒪(‖x‖¹), - 0.0007996360367818657 + 𝒪(‖x‖¹), - 0.00043043658431917754 + 𝒪(‖x‖¹), - 0.0002630374927151105 + 𝒪(‖x‖¹), - 0.00017454877605408293 + 𝒪(‖x‖¹), - 0.00012254352515666598 + 𝒪(‖x‖¹), - 8.974173433177018e-5 + 𝒪(‖x‖¹), - 6.797984769464601e-5 + 𝒪(‖x‖¹)  …   - 2.8241483204405876e-5 + 𝒪(‖x‖¹), - 2.3610663965174453e-5 + 𝒪(‖x‖¹), - 1.99718238568038e-5 + 𝒪(‖x‖¹), - 1.7070277390269064e-5 + 𝒪(‖x‖¹), - 1.4711205309319569e-5 + 𝒪(‖x‖¹), - 1.2885199652777747e-5 + 𝒪(‖x‖¹), - 1.1564555921052629e-5 + 𝒪(‖x‖¹), - 1.0172526041666664e-5 + 𝒪(‖x‖¹), - 2.0345052083333332e-5 + 𝒪(‖x‖¹), 3.0517578125e-5 + 𝒪(‖x‖¹)],Any[ - 0.32853285321782955 + 𝒪(‖x‖¹), - 0.03519994855905317 + 𝒪(‖x‖¹), - 0.010266651663057177 + 𝒪(‖x‖¹), - 0.004660620366703907 + 𝒪(‖x‖¹), - 0.002508768263529015 + 𝒪(‖x‖¹), - 0.0015330948573664498 + 𝒪(‖x‖¹), - 0.0010173448209475884 + 𝒪(‖x‖¹), - 0.0007142360059899813 + 𝒪(‖x‖¹), - 0.0005230531585990862 + 𝒪(‖x‖¹), - 0.0003962155888020825 + 𝒪(‖x‖¹)  …   - 0.00016460355907713914 + 𝒪(‖x‖¹), - 0.00013761390788338742 + 𝒪(‖x‖¹), - 0.0001164007981983803 + 𝒪(‖x‖¹), - 9.94708001113393e-5 + 𝒪(‖x‖¹), - 8.577843420114123e-5 + 𝒪(‖x‖¹), - 7.457400006922138e-5 + 𝒪(‖x‖¹), - 6.530872662739868e-5 + 𝒪(‖x‖¹), - 5.757385602522922e-5 + 𝒪(‖x‖¹), - 5.1060364690353405e-5 + 𝒪(‖x‖¹), - 4.553160461698438e-5 + 𝒪(‖x‖¹)])"
      ]
     },
     "execution_count": 18,
     "metadata": {},
     "output_type": "execute_result"
    }
   ],
   "source": [
    "Polinomio,E,ValProp,ConverX,ConverY = MetParametrización(Henon,1., 25, [-3.,-3.], 3., 1., 2, 60., 0.125, Float64)"
   ]
  },
  {
   "cell_type": "code",
   "execution_count": 19,
   "metadata": {
    "collapsed": false
   },
   "outputs": [
    {
     "data": {
      "text/plain": [
       "(Any[ - 0.05636732624192091 + 𝒪(‖x‖¹), - 0.0060393563830629556 + 𝒪(‖x‖¹), - 0.0017614789450600317 + 𝒪(‖x‖¹), - 0.0007996360367818657 + 𝒪(‖x‖¹), - 0.00043043658431917754 + 𝒪(‖x‖¹), - 0.0002630374927151105 + 𝒪(‖x‖¹), - 0.00017454877605408293 + 𝒪(‖x‖¹), - 0.00012254352515666598 + 𝒪(‖x‖¹), - 8.974173433177018e-5 + 𝒪(‖x‖¹), - 6.797984769464601e-5 + 𝒪(‖x‖¹)  …   - 2.8241483204405876e-5 + 𝒪(‖x‖¹), - 2.3610663965174453e-5 + 𝒪(‖x‖¹), - 1.99718238568038e-5 + 𝒪(‖x‖¹), - 1.7070277390269064e-5 + 𝒪(‖x‖¹), - 1.4711205309319569e-5 + 𝒪(‖x‖¹), - 1.2885199652777747e-5 + 𝒪(‖x‖¹), - 1.1564555921052629e-5 + 𝒪(‖x‖¹), - 1.0172526041666664e-5 + 𝒪(‖x‖¹), - 2.0345052083333332e-5 + 𝒪(‖x‖¹), 3.0517578125e-5 + 𝒪(‖x‖¹)],Any[ - 0.32853285321782955 + 𝒪(‖x‖¹), - 0.03519994855905317 + 𝒪(‖x‖¹), - 0.010266651663057177 + 𝒪(‖x‖¹), - 0.004660620366703907 + 𝒪(‖x‖¹), - 0.002508768263529015 + 𝒪(‖x‖¹), - 0.0015330948573664498 + 𝒪(‖x‖¹), - 0.0010173448209475884 + 𝒪(‖x‖¹), - 0.0007142360059899813 + 𝒪(‖x‖¹), - 0.0005230531585990862 + 𝒪(‖x‖¹), - 0.0003962155888020825 + 𝒪(‖x‖¹)  …   - 0.00016460355907713914 + 𝒪(‖x‖¹), - 0.00013761390788338742 + 𝒪(‖x‖¹), - 0.0001164007981983803 + 𝒪(‖x‖¹), - 9.94708001113393e-5 + 𝒪(‖x‖¹), - 8.577843420114123e-5 + 𝒪(‖x‖¹), - 7.457400006922138e-5 + 𝒪(‖x‖¹), - 6.530872662739868e-5 + 𝒪(‖x‖¹), - 5.757385602522922e-5 + 𝒪(‖x‖¹), - 5.1060364690353405e-5 + 𝒪(‖x‖¹), - 4.553160461698438e-5 + 𝒪(‖x‖¹)])"
      ]
     },
     "execution_count": 19,
     "metadata": {},
     "output_type": "execute_result"
    }
   ],
   "source": [
    "ConverX,ConverY"
   ]
  },
  {
   "cell_type": "code",
   "execution_count": 20,
   "metadata": {
    "collapsed": false
   },
   "outputs": [
    {
     "data": {
      "text/plain": [
       "23-element Array{Float64,1}:\n",
       " -0.328533   \n",
       " -0.0351999  \n",
       " -0.0102667  \n",
       " -0.00466062 \n",
       " -0.00250877 \n",
       " -0.00153309 \n",
       " -0.00101734 \n",
       " -0.000714236\n",
       " -0.000523053\n",
       " -0.000396216\n",
       " -0.000308549\n",
       " -0.000245812\n",
       " -0.000199563\n",
       " -0.000164604\n",
       " -0.000137614\n",
       " -0.000116401\n",
       " -9.94708e-5 \n",
       " -8.57784e-5 \n",
       " -7.4574e-5  \n",
       " -6.53087e-5 \n",
       " -5.75739e-5 \n",
       " -5.10604e-5 \n",
       " -4.55316e-5 "
      ]
     },
     "execution_count": 20,
     "metadata": {},
     "output_type": "execute_result"
    }
   ],
   "source": [
    "evaluate.(ConverY[:])"
   ]
  },
  {
   "cell_type": "code",
   "execution_count": 21,
   "metadata": {
    "collapsed": false
   },
   "outputs": [
    {
     "name": "stdout",
     "output_type": "stream",
     "text": [
      "Vectores = Any[9.855985596534887808753627929529393543085929980462385640907177543591377352124823e-01,1.691019787257627481429347680509755569866105044940151879464868986088176093934237e-01]\n",
      "Vectores = Any[9.855985596534887808753627929529393543085929980462385640907177543591377352124823e-01,1.691019787257627481429347680509755569866105044940151879464868986088176093934237e-01,1.691019787257627481429347680509755569866105044940151879464868986088176093933805e-01,9.855985596534887808753627929529393543085929980462385640907177543591377352124737e-01]\n"
     ]
    },
    {
     "data": {
      "text/plain": [
       "(TaylorSeries.Taylor1{BigFloat}[ - 3.000000000000000000000000000000000000000000000000000000000000000000000000000000 + 9.855985596534887808753627929529393543085929980462385640907177543591377352124823e-01 t - 3.469301859967970296192486576440116760201990327829700087115094926179443426740636e-02 t² + 3.561811371028751201084599447957998864623603350560153891739719511127237600373014e-04 t³ - 1.660025061817415399116017616492491691637705730303313908623482945559793175176286e-06 t⁴ + 4.164618191750312852532892579008809430284668284014667696976316030232051169503216e-09 t⁵ - 6.384754732667130737307692256207318750893114750125033694635792866882405701590249e-12 t⁶ + 6.495497160299484910897911163124789374983511904257017569403644153803384356450181e-15 t⁷ - 4.639317948691666990545201935778048224402058260815896964368735980497174921714973e-18 t⁸ + 2.426609906808899212432645447947162037566436054763104512005103789954335695220173e-21 t⁹ - 9.614606730196280127352008902731599627812522782008943798554753803656499165888932e-25 t¹⁰ + 2.966581998331172515014139386689932269425445066998575091585504808424688450531842e-28 t¹¹ - 7.292201204691946169256972275125746142292653704612145351765123698408918198012144e-32 t¹² + 1.455250829935511822037872051640785133170910491871376888591484243004358074252523e-35 t¹³ - 2.395394659654636393405167376492079753716755484101920219966095860485566300252862e-39 t¹⁴ + 3.296396200714064892453765368379816473560101237842361666085355171524019573627365e-43 t¹⁵ - 3.837031490433205684877694330848333200589510730259416679671892366903885306484675e-47 t¹⁶ + 3.816725926694189872284866628264528436048440323816282393924500061759862824268992e-51 t¹⁷ - 3.273927743826477167328210650912415158175602831527076946054233796719441403876874e-55 t¹⁸ + 2.44149889119480120978193033030234723863309334065711967180230736641938021823299e-59 t¹⁹ - 1.594511860959253374072525137059462843604691554894210100697259015013415738842404e-63 t²⁰ + 9.180219971646440304748779008127223932105431963946428498839845765428073372452799e-68 t²¹ - 4.687454084796492503661133910173310840728531530837734876850967781937332371164347e-72 t²² + 2.134273085951756860532270035157156487014323019948035957498502887535484787557275e-76 t²³ - 8.708743946368645861032774242971269629612828584580468785586210350549432026047956e-81 t²⁴ + 3.199146260779600956652419774680212150397762852775532360484757051499366620374998e-85 t²⁵ + 𝒪(t²⁶), - 3.000000000000000000000000000000000000000000000000000000000000000000000000000000 + 1.691019787257627481429347680509755569866105044940151879464868986088176093934237e-01 t - 1.021267114606011323789419949884546683694382435988713414563336452491280018308269e-03 t² + 1.798940519660696179454725654322543874694322229529548833593975526647316539422149e-06 t³ - 1.438497667547769271740119199539669880962906334461604214249902128256105705335327e-09 t⁴ + 6.191820225703690434214594456305920043418658914356918430800931848846193672482717e-13 t⁵ - 1.628680867512299602759617959481133458172406931106496746122842700199526137346498e-16 t⁶ + 2.842842520077337680843052225583977084341285073777633895343209489700130108185808e-20 t⁷ - 3.483719438779109446334430060544547415410806298984049649278685770125602174039226e-24 t⁸ + 3.126350243601984348367009162899628896146064017836832740229208110212278481885132e-28 t⁹ - 2.125288137019843692038374075602943990920415581803568467105776252462306089893197e-32 t¹⁰ + 1.125100401325351192358607079283175811852260139142411147792913332821780247540911e-36 t¹¹ - 4.745065317159572129526467998040101473507292699567001455246849499378622226226854e-41 t¹² + 1.624688239737298068100622049681321719464318465298790835366502329735251992166416e-45 t¹³ - 4.588364252255110679988771289017318284014700899750051766096685131947629516134391e-50 t¹⁴ + 1.083350142490822461946803358848474534705721706416597291791689608714386550127767e-54 t¹⁵ - 2.163582363626197193016592301178669087465364971004365901424448530821483854569582e-59 t¹⁶ + 3.692475934915310279438979259414760044272938123181594528142112720378829656002875e-64 t¹⁷ - 5.434310112131544454627804470339835156743820653431184567748897715947780911218895e-69 t¹⁸ + 6.953132229388837152817302280341555427689690599940952132565604412780246159663245e-74 t¹⁹ - 7.791128021864414140340004969255275722273158201308395704388669742910527908574214e-79 t²⁰ + 7.696163819713985862000594064376999509079292153832033118014872508543197905145500e-84 t²¹ - 6.742281357837853444216964722884693262703219526313967320479378316726863772345515e-89 t²² + 5.267062383951872101831747005842468190905386636983424438046439061179339707538794e-94 t²³ - 3.687420157381968333954640977685625701493011206739808376848644460626789311695084e-99 t²⁴ + 2.324073341074566663131008666350728303978571563318523543755489075907711505811721e-104 t²⁵ + 𝒪(t²⁶)],Array{BigFloat,1}[BigFloat[0.000000000000000000000000000000000000000000000000000000000000000000000000000000,1.250000000000000000000000000000000000000000000000000000000000000000000000000000e-01,2.500000000000000000000000000000000000000000000000000000000000000000000000000000e-01,3.750000000000000000000000000000000000000000000000000000000000000000000000000000e-01,5.000000000000000000000000000000000000000000000000000000000000000000000000000000e-01,6.250000000000000000000000000000000000000000000000000000000000000000000000000000e-01,7.500000000000000000000000000000000000000000000000000000000000000000000000000000e-01,8.750000000000000000000000000000000000000000000000000000000000000000000000000000e-01,1.000000000000000000000000000000000000000000000000000000000000000000000000000000,1.125000000000000000000000000000000000000000000000000000000000000000000000000000  …  5.887500000000000000000000000000000000000000000000000000000000000000000000000000e+01,5.900000000000000000000000000000000000000000000000000000000000000000000000000000e+01,5.912500000000000000000000000000000000000000000000000000000000000000000000000000e+01,5.925000000000000000000000000000000000000000000000000000000000000000000000000000e+01,5.937500000000000000000000000000000000000000000000000000000000000000000000000000e+01,5.950000000000000000000000000000000000000000000000000000000000000000000000000000e+01,5.962500000000000000000000000000000000000000000000000000000000000000000000000000e+01,5.975000000000000000000000000000000000000000000000000000000000000000000000000000e+01,5.987500000000000000000000000000000000000000000000000000000000000000000000000000e+01,6.000000000000000000000000000000000000000000000000000000000000000000000000000000e+01],BigFloat[0.000000000000000000000000000000000000000000000000000000000000000000000000000000,3.022659817892269933772776101934170229274699202112812889503790743122354547869578e-77,6.045324577439825757221995630194437526547193708317685981009796747557937782237377e-77,9.067999220297953364939862183533700341720136351764577676502799832534857460560662e-77,1.209068868812193867609738022283875628054637956858199713403944772651446812504187e-76,1.511339792256706768360195679539718205673627841897938530016788486231153293018974e-76,1.813613186528862654749684481100023877684519326727692488055045916731028053268257e-76,2.115889545794190174734970838714912781312610931583328805867987628111001046800218e-76,2.418169364218218030837759078061246371952404163415465306175687562550722772582347e-76,2.720453135966475011605556542254634232935852952736670830476383920522995426823348e-76  …  3.47108424008198759296899498457643360561951886814101472080673207628218265037087e-73,3.502528197282729835040542865330755701495687838975338687339765358907569513711344e-73,3.534196610192923086393361051527821439637383646879388108453777017485275397417933e-73,3.566090699620600860884738487251681300260704464073928004286790249877667617506757e-73,3.598211691191037420579060690541868567907653534360470998222196350409500997947737e-73,3.630560815359612947350164952687956350010319343949574678009007057754942918458241e-73,3.663139307424712790343648719363781885896582115043917299745723160158687432334494e-73,3.69594840754066107774723024157445128129600828862551960437898221088072614568397e-73,3.728989360730688983144391458040980364830642391174135576245718758110570541229571e-73,3.762263416899937938561358438626774265504722871270300242699772132492148364602123e-73]],TaylorSeries.Taylor1{BigFloat}[ - 3.000000000000000000000000000000000000000000000000000000000000000000000000000000 + 5.74448937919516993710924198966666056886494748378341619659781962754600880188146 t - 1.178541365274503889381656016039755151784982329026109316204568938448519485073487 t² + 7.052206620584961308529561434391405497567265201886151750761285234479265717084478e-02 t³ - 1.915667482839629822810612589313135872480031449863689788947285069273873068047659e-03 t⁴ + 2.801122133853058167576719206495380659750267453641676349417085853924759128145798e-05 t⁵ - 2.502951548671487724127061915518775137243985386171608777864626773552397982937762e-07 t⁶ + 1.484130164139759684150646753209300102876642930112656065624984699172487983170799e-09 t⁷ - 6.178244662720490895208133941256393283050818067328770603708362817882536117926226e-12 t⁸ + 1.883485592144918765423692237415054970794279827409854046867040690338595996967622e-14 t⁹ - 4.349559053482473386771932528149644338635756159675893851231014200185511257689279e-17 t¹⁰ + 7.822065250759478300652488462478396994541212077114034541054409966589492175481688e-20 t¹¹ - 1.120663149091113026332520039145633868981271916330129615344451445528223651973682e-22 t¹² + 1.303483909239365019440249369104112040816649763542805437852002390454478499693739e-25 t¹³ - 1.250536195482268826408775207704537147273969712313735906522898211747472188237141e-28 t¹⁴ + 1.003020859636262448514932317742368199879623751267995625023896250758526609128214e-31 t¹⁵ - 6.804830223287830630395934916937368927235234927726495220637915261013558720351599e-35 t¹⁶ + 3.945156869338875373211649376102263552642835860199542298274911918172737178023723e-38 t¹⁷ - 1.972394407133397976613215041560996835070895685718816987908110484198416587935588e-41 t¹⁸ + 8.57299507481018143130359183428428205429568124488992784498028218791748903994733e-45 t¹⁹ - 3.263286224542527368490216438631581131530462027015620381584945179074777373449728e-48 t²⁰ + 1.095044761286645170028977762397629563500818643430400004160614668500323236863715e-51 t²¹ - 3.258871089906796775645212980777854540666680467414083379535960134760437743365177e-55 t²² + 8.648315272089736940879747032201809208663199174851731402158767594635350120422964e-59 t²³ - 2.056782733900867944823199538685637995064829278293084768355782845265319180823112e-62 t²⁴ + 4.403706465273607246983130964133429594263949244819228960592854356104094071131108e-66 t²⁵ + 𝒪(t²⁶), - 3.000000000000000000000000000000000000000000000000000000000000000000000000000000 + 9.855985596534887808753627929529393543085929980462385640907177543591377352127242e-01 t - 3.469301859967970296192486576440116760201990327829700087115094926179443426740636e-02 t² + 3.561811371028751201084599447957998864623603350560153891739719511127237600373056e-04 t³ - 1.660025061817415399116017616492491691637705730303313908623482945559793175176286e-06 t⁴ + 4.164618191750312852532892579008809430284668284014667696976316030232051169503216e-09 t⁵ - 6.384754732667130737307692256207318750893114750125033694635792866882405701590249e-12 t⁶ + 6.495497160299484910897911163124789374983511904257017569403644153803384356450242e-15 t⁷ - 4.639317948691666990545201935778048224402058260815896964368735980497174921714973e-18 t⁸ + 2.426609906808899212432645447947162037566436054763104512005103789954335695220173e-21 t⁹ - 9.614606730196280127352008902731599627812522782008943798554753803656499165888932e-25 t¹⁰ + 2.966581998331172515014139386689932269425445066998575091585504808424688450531807e-28 t¹¹ - 7.292201204691946169256972275125746142292653704612145351765123698408918198012229e-32 t¹² + 1.455250829935511822037872051640785133170910491871376888591484243004358074252502e-35 t¹³ - 2.395394659654636393405167376492079753716755484101920219966095860485566300252811e-39 t¹⁴ + 3.296396200714064892453765368379816473560101237842361666085355171524019573627365e-43 t¹⁵ - 3.837031490433205684877694330848333200589510730259416679671892366903885306484637e-47 t¹⁶ + 3.816725926694189872284866628264528436048440323816282393924500061759862824268946e-51 t¹⁷ - 3.273927743826477167328210650912415158175602831527076946054233796719441403876818e-55 t¹⁸ + 2.44149889119480120978193033030234723863309334065711967180230736641938021823299e-59 t¹⁹ - 1.594511860959253374072525137059462843604691554894210100697259015013415738842404e-63 t²⁰ + 9.180219971646440304748779008127223932105431963946428498839845765428073372452927e-68 t²¹ - 4.687454084796492503661133910173310840728531530837734876850967781937332371164347e-72 t²² + 2.134273085951756860532270035157156487014323019948035957498502887535484787557251e-76 t²³ - 8.70874394636864586103277424297126962961282858458046878558621035054943202604781e-81 t²⁴ + 3.199146260779600956652419774680212150397762852775532360484757051499366620374998e-85 t²⁵ + 𝒪(t²⁶)],Any[ - 3.285328532178295936251209309843131181028643326820795213635725847863792450708303e-01 + 𝒪(‖x‖¹), - 3.519994855905317074554867117689069122530689278736566300323991979854063340044641e-02 + 𝒪(‖x‖¹), - 1.026665166305717480078502909325978494071451039631498504261164327457435140846345e-02 + 𝒪(‖x‖¹), - 4.660620366703904140525608030389708245859449219233084300080546872280641356156819e-03 + 𝒪(‖x‖¹), - 2.508768263529008879891078537826639177242267578046894841239687266343356547180921e-03 + 𝒪(‖x‖¹), - 1.533094857366440860766429364249294928495432835084130809851678138477734323222592e-03 + 𝒪(‖x‖¹), - 1.017344820947584507840259344317964614942561840891679676298729441700082427244336e-03 + 𝒪(‖x‖¹), - 7.142360059899963198400055869082007742908300613964014592932915967181016921552671e-04 + 𝒪(‖x‖¹), - 5.230531585991485937124674363853814652170981065646262377363293102330896281277846e-04 + 𝒪(‖x‖¹), - 3.962155888022364048651233716833992734700852235839641683664064580981599404626389e-04 + 𝒪(‖x‖¹)  …   - 1.164007982293520557445718190918194359626315458823953447367548874674515740466956e-04 + 𝒪(‖x‖¹), - 9.947080018004430584205559615067628867441684853809512979751007902433720707023937e-05 + 𝒪(‖x‖¹), - 8.577843436251523928205443697906300579690629106323006312783622354596454270133642e-05 + 𝒪(‖x‖¹), - 7.457400047385420024226520469248188301311224762274375689819356894859846022924364e-05 + 𝒪(‖x‖¹), - 6.530872763079338963969874717708916920986118936135978700131949373260242663325924e-05 + 𝒪(‖x‖¹), - 5.757385815947238256957268733487692060176742331523840947957429426608966757014239e-05 + 𝒪(‖x‖¹), - 5.106036782641292230401853305633827259534953240762243658957910610001956992680386e-05 + 𝒪(‖x‖¹), - 4.553160516012642906211083007156798600528530015835832073115010874742806583123451e-05 + 𝒪(‖x‖¹), - 4.080426260206093623668402768555049698590622755139495268818066423226899659675963e-05 + 𝒪(‖x‖¹), - 3.673487566612375122819713695178054944545296582673311559794482632438159158551757e-05 + 𝒪(‖x‖¹)],Any[ - 5.636732624192091604764492268365851899553683483133839598216229953627253646447457e-02 + 𝒪(‖x‖¹), - 6.039356383062955290819098858963412749521803731929113855231674950314914621190736e-03 + 𝒪(‖x‖¹), - 1.761478945060028626488903833864328718610526088479324874442571860508516764514426e-03 + 𝒪(‖x‖¹), - 7.99636036781854707495211695611880433734594222346015074908723512585250019530711e-04 + 𝒪(‖x‖¹), - 4.304365843191799275254840195533134086830232922975793866119066576430586078700646e-04 + 𝒪(‖x‖¹), - 2.630374927151898431121113166123765110795989501714390753498895409997661401971861e-04 + 𝒪(‖x‖¹), - 1.745487760545494880240292062434460763141271359685267694519226462974005688648636e-04 + 𝒪(‖x‖¹), - 1.225435251575010608028437846073466322577202078799056710312172582394887876831554e-04 + 𝒪(‖x‖¹), - 8.974173433144296790775000163400725773554630141794395001967027328587468717241638e-05 + 𝒪(‖x‖¹), - 6.797984779118094633428916121581802016959699294675054269329541535790743603275239e-05 + 𝒪(‖x‖¹)  …   - 1.997121963404851682873725303733630623515946137623893324749047558319593102932992e-05 + 𝒪(‖x‖¹), - 1.706649119068739326571176473801418309281283883799111713885862683140048793510676e-05 + 𝒪(‖x‖¹), - 1.471725261834694788822010252213908332490878962730371236952470297245680691585441e-05 + 𝒪(‖x‖¹), - 1.279487568047814724798575615684352836974629013794991708463281225302313749383611e-05 + 𝒪(‖x‖¹), - 1.120520617878316217709760478717903581084999336771146701870027948987600716603376e-05 + 𝒪(‖x‖¹), - 9.878112383875700480614149806760377477629588361164559012035364724434382258245731e-06 + 𝒪(‖x‖¹), - 8.76057411949479299120959396323111668440939291020675068971886940059431577465816e-06 + 𝒪(‖x‖¹), - 7.811988412244099059323153368049609515208312963930097926944371161634262512718441e-06 + 𝒪(‖x‖¹), - 7.00090465724710166371480106944493465687952354051746037981165680594905322430842e-06 + 𝒪(‖x‖¹), - 6.302708240128067311377497991381056676424812111009004630312912323564086980318905e-06 + 𝒪(‖x‖¹)])"
      ]
     },
     "execution_count": 21,
     "metadata": {},
     "output_type": "execute_result"
    }
   ],
   "source": [
    "PolinomioB,EBig,ValPropB,ConverXB,ConverYB = MetParametrización(Henon, 1., 25, [-3.,-3.], 3., 1., 1, 60., 0.125, BigFloat)"
   ]
  },
  {
   "cell_type": "markdown",
   "metadata": {},
   "source": [
    "Graficaremos el error cometido que es el que nos dirá cuanta diferencia hay entre tipos de números. "
   ]
  },
  {
   "cell_type": "code",
   "execution_count": 22,
   "metadata": {
    "collapsed": false
   },
   "outputs": [
    {
     "data": {
      "text/plain": [
       "(Any[ - 3.285328532178295936251209309843131181028643326820795213635725847863792450708303e-01 + 𝒪(‖x‖¹), - 3.519994855905317074554867117689069122530689278736566300323991979854063340044641e-02 + 𝒪(‖x‖¹), - 1.026665166305717480078502909325978494071451039631498504261164327457435140846345e-02 + 𝒪(‖x‖¹), - 4.660620366703904140525608030389708245859449219233084300080546872280641356156819e-03 + 𝒪(‖x‖¹), - 2.508768263529008879891078537826639177242267578046894841239687266343356547180921e-03 + 𝒪(‖x‖¹), - 1.533094857366440860766429364249294928495432835084130809851678138477734323222592e-03 + 𝒪(‖x‖¹), - 1.017344820947584507840259344317964614942561840891679676298729441700082427244336e-03 + 𝒪(‖x‖¹), - 7.142360059899963198400055869082007742908300613964014592932915967181016921552671e-04 + 𝒪(‖x‖¹), - 5.230531585991485937124674363853814652170981065646262377363293102330896281277846e-04 + 𝒪(‖x‖¹), - 3.962155888022364048651233716833992734700852235839641683664064580981599404626389e-04 + 𝒪(‖x‖¹)  …   - 1.164007982293520557445718190918194359626315458823953447367548874674515740466956e-04 + 𝒪(‖x‖¹), - 9.947080018004430584205559615067628867441684853809512979751007902433720707023937e-05 + 𝒪(‖x‖¹), - 8.577843436251523928205443697906300579690629106323006312783622354596454270133642e-05 + 𝒪(‖x‖¹), - 7.457400047385420024226520469248188301311224762274375689819356894859846022924364e-05 + 𝒪(‖x‖¹), - 6.530872763079338963969874717708916920986118936135978700131949373260242663325924e-05 + 𝒪(‖x‖¹), - 5.757385815947238256957268733487692060176742331523840947957429426608966757014239e-05 + 𝒪(‖x‖¹), - 5.106036782641292230401853305633827259534953240762243658957910610001956992680386e-05 + 𝒪(‖x‖¹), - 4.553160516012642906211083007156798600528530015835832073115010874742806583123451e-05 + 𝒪(‖x‖¹), - 4.080426260206093623668402768555049698590622755139495268818066423226899659675963e-05 + 𝒪(‖x‖¹), - 3.673487566612375122819713695178054944545296582673311559794482632438159158551757e-05 + 𝒪(‖x‖¹)],Any[ - 5.636732624192091604764492268365851899553683483133839598216229953627253646447457e-02 + 𝒪(‖x‖¹), - 6.039356383062955290819098858963412749521803731929113855231674950314914621190736e-03 + 𝒪(‖x‖¹), - 1.761478945060028626488903833864328718610526088479324874442571860508516764514426e-03 + 𝒪(‖x‖¹), - 7.99636036781854707495211695611880433734594222346015074908723512585250019530711e-04 + 𝒪(‖x‖¹), - 4.304365843191799275254840195533134086830232922975793866119066576430586078700646e-04 + 𝒪(‖x‖¹), - 2.630374927151898431121113166123765110795989501714390753498895409997661401971861e-04 + 𝒪(‖x‖¹), - 1.745487760545494880240292062434460763141271359685267694519226462974005688648636e-04 + 𝒪(‖x‖¹), - 1.225435251575010608028437846073466322577202078799056710312172582394887876831554e-04 + 𝒪(‖x‖¹), - 8.974173433144296790775000163400725773554630141794395001967027328587468717241638e-05 + 𝒪(‖x‖¹), - 6.797984779118094633428916121581802016959699294675054269329541535790743603275239e-05 + 𝒪(‖x‖¹)  …   - 1.997121963404851682873725303733630623515946137623893324749047558319593102932992e-05 + 𝒪(‖x‖¹), - 1.706649119068739326571176473801418309281283883799111713885862683140048793510676e-05 + 𝒪(‖x‖¹), - 1.471725261834694788822010252213908332490878962730371236952470297245680691585441e-05 + 𝒪(‖x‖¹), - 1.279487568047814724798575615684352836974629013794991708463281225302313749383611e-05 + 𝒪(‖x‖¹), - 1.120520617878316217709760478717903581084999336771146701870027948987600716603376e-05 + 𝒪(‖x‖¹), - 9.878112383875700480614149806760377477629588361164559012035364724434382258245731e-06 + 𝒪(‖x‖¹), - 8.76057411949479299120959396323111668440939291020675068971886940059431577465816e-06 + 𝒪(‖x‖¹), - 7.811988412244099059323153368049609515208312963930097926944371161634262512718441e-06 + 𝒪(‖x‖¹), - 7.00090465724710166371480106944493465687952354051746037981165680594905322430842e-06 + 𝒪(‖x‖¹), - 6.302708240128067311377497991381056676424812111009004630312912323564086980318905e-06 + 𝒪(‖x‖¹)])"
      ]
     },
     "execution_count": 22,
     "metadata": {},
     "output_type": "execute_result"
    }
   ],
   "source": [
    "ConverXB,ConverYB"
   ]
  },
  {
   "cell_type": "code",
   "execution_count": 23,
   "metadata": {
    "collapsed": false,
    "scrolled": true
   },
   "outputs": [
    {
     "data": {
      "image/png": "[encoded data removed]",
      "text/plain": [
       "PyPlot.Figure(PyObject <matplotlib.figure.Figure object at 0x7fa0c14b9d10>)"
      ]
     },
     "metadata": {},
     "output_type": "display_data"
    },
    {
     "data": {
      "text/plain": [
       "PyObject <matplotlib.legend.Legend object at 0x7fa0b8682d90>"
      ]
     },
     "execution_count": 23,
     "metadata": {},
     "output_type": "execute_result"
    }
   ],
   "source": [
    "plot(E[1],log10(E[2]),marker= \"None\", label=\"Float\")\n",
    "plot(EBig[1],log10(EBig[2]),marker= \"None\", label=\"BigFloat\")\n",
    "xlabel(\"Parámetro t\")\n",
    "ylabel(L\"log10($|| E||_{\\infty})$\")\n",
    "title(\"Error \")\n",
    "grid(\"on\")\n",
    "legend(loc=\"upper right\",fancybox=\"true\" )"
   ]
  },
  {
   "cell_type": "markdown",
   "metadata": {
    "collapsed": true
   },
   "source": [
    "Para observar cómo va la variedad graficaremos el espacio fase"
   ]
  },
  {
   "cell_type": "code",
   "execution_count": 37,
   "metadata": {
    "collapsed": false
   },
   "outputs": [
    {
     "name": "stderr",
     "output_type": "stream",
     "text": [
      "WARNING: Method definition evaluar(Any, Any, Any, Any, Any) in module Main at In[34]:5 overwritten at In[37]:5.\n"
     ]
    },
    {
     "data": {
      "text/plain": [
       "evaluar (generic function with 1 method)"
      ]
     },
     "execution_count": 37,
     "metadata": {},
     "output_type": "execute_result"
    }
   ],
   "source": [
    "#esta es una función para evaluar el los polinomios que calculamos\n",
    "# recibe como entrada el tiempo que es el valor del parámetro t, el paso\n",
    "# que define en pasos de cuanto queremos ir evaluando y claro los polinomios A,B\n",
    "function evaluar(Tiempo, paso,A,B,vari)\n",
    "    ValX=Float64[]\n",
    "    \n",
    "    ValY=Float64[]\n",
    "\n",
    "    for t = 0:paso:Tiempo\n",
    "        \n",
    "        x = evaluate(A,t)\n",
    "        y = evaluate(B,t)\n",
    "        \n",
    "        push!(ValX,x)\n",
    "        push!(ValY,y)\n",
    "        \n",
    "    end\n",
    "    p = plot(ValX,ValY,linestyle=\"-\",label = vari)\n",
    "    xlim(-35,8)\n",
    "    ylim(-6,6)\n",
    "    \n",
    "end"
   ]
  },
  {
   "cell_type": "code",
   "execution_count": 38,
   "metadata": {
    "collapsed": false
   },
   "outputs": [
    {
     "name": "stderr",
     "output_type": "stream",
     "text": [
      "WARNING: Method definition Graficar(Any, Any, Any, Any, Any, Any, Any) in module Main at In[35]:3 overwritten at In[38]:3.\n"
     ]
    },
    {
     "data": {
      "text/plain": [
       "Graficar (generic function with 1 method)"
      ]
     },
     "execution_count": 38,
     "metadata": {},
     "output_type": "execute_result"
    }
   ],
   "source": [
    "function Graficar(Tiempo, paso, k,l,A,B,vari)\n",
    "    #graficarMap(k,l)\n",
    "    evaluar(Tiempo,paso,A,B,vari)\n",
    "end"
   ]
  },
  {
   "cell_type": "code",
   "execution_count": 39,
   "metadata": {
    "collapsed": false
   },
   "outputs": [
    {
     "data": {
      "image/png": "[encoded data removed]",
      "text/plain": [
       "PyPlot.Figure(PyObject <matplotlib.figure.Figure object at 0x7fa0b7bdba50>)"
      ]
     },
     "metadata": {},
     "output_type": "display_data"
    },
    {
     "data": {
      "text/plain": [
       "(-6,6)"
      ]
     },
     "execution_count": 39,
     "metadata": {},
     "output_type": "execute_result"
    }
   ],
   "source": [
    "Graficar(50.7,0.025,8.,1.,Polinomio[1],Polinomio[2],\"estable\")\n",
    "Graficar(450.7,0.025,8.,1.,PolinomioB[1],PolinomioB[2],\"inestable\")"
   ]
  },
  {
   "cell_type": "code",
   "execution_count": null,
   "metadata": {
    "collapsed": true
   },
   "outputs": [],
   "source": []
  }
 ],
 "metadata": {
  "kernelspec": {
   "display_name": "Julia 0.5.2",
   "language": "julia",
   "name": "julia-0.5"
  },
  "language_info": {
   "file_extension": ".jl",
   "mimetype": "application/julia",
   "name": "julia",
   "version": "0.5.2"
  }
 },
 "nbformat": 4,
 "nbformat_minor": 2
}
