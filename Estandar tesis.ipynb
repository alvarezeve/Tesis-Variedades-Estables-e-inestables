{
 "cells": [
  {
   "cell_type": "markdown",
   "metadata": {
    "collapsed": true
   },
   "source": [
    "## El mapeo Estándar\n",
    "\n",
    "\n"
   ]
  },
  {
   "cell_type": "code",
   "execution_count": 1,
   "metadata": {
    "scrolled": false
   },
   "outputs": [
    {
     "name": "stderr",
     "output_type": "stream",
     "text": [
      "┌ Info: Precompiling PyPlot [d330b81b-6aea-500a-939a-2ce795aea3ee]\n",
      "└ @ Base loading.jl:1187\n",
      "┌ Info: Precompiling TaylorSeries [6aa5eb33-94cf-58f4-a9d0-e4b2c4fc25ea]\n",
      "└ @ Base loading.jl:1187\n",
      "┌ Info: Precompiling IntervalArithmetic [d1acc4aa-44c8-5952-acd4-ba5d80a2a253]\n",
      "└ @ Base loading.jl:1187\n",
      "WARNING: Method definition setrounding(Type{T<:Union{Float32, Float64}}, Base.Rounding.RoundingMode{T} where T) where {T<:Union{Float32, Float64}} in module Base at deprecated.jl:1699 overwritten in module SetRounding at /home/evelyn/.julia/packages/SetRounding/MjtxK/src/SetRounding.jl:47.\n",
      "WARNING: Method definition setrounding(Type{T<:Union{Float32, Float64}}, Base.Rounding.RoundingMode{T} where T) where {T<:Union{Float32, Float64}} in module Base at deprecated.jl:1699 overwritten in module SetRounding at /home/evelyn/.julia/packages/SetRounding/MjtxK/src/SetRounding.jl:47.\n",
      "WARNING: could not import Base.showfull into IntervalArithmetic\n",
      "┌ Info: Precompiling IntervalRootFinding [d2bf35a9-74e0-55ec-b149-d360ff49b807]\n",
      "└ @ Base loading.jl:1187\n",
      "WARNING: Method definition setrounding(Type{T<:Union{Float32, Float64}}, Base.Rounding.RoundingMode{T} where T) where {T<:Union{Float32, Float64}} in module Base at deprecated.jl:1699 overwritten in module SetRounding at /home/evelyn/.julia/packages/SetRounding/MjtxK/src/SetRounding.jl:47.\n",
      "┌ Info: Precompiling ValidatedNumerics [d621b6e3-7715-5857-9c6f-c67000ef6083]\n",
      "└ @ Base loading.jl:1187\n",
      "WARNING: Method definition setrounding(Type{T<:Union{Float32, Float64}}, Base.Rounding.RoundingMode{T} where T) where {T<:Union{Float32, Float64}} in module Base at deprecated.jl:1699 overwritten in module SetRounding at /home/evelyn/.julia/packages/SetRounding/MjtxK/src/SetRounding.jl:47.\n",
      "WARNING: Method definition setrounding(Type{T<:Union{Float32, Float64}}, Base.Rounding.RoundingMode{T} where T) where {T<:Union{Float32, Float64}} in module Base at deprecated.jl:1699 overwritten in module SetRounding at /home/evelyn/.julia/packages/SetRounding/MjtxK/src/SetRounding.jl:47.\n",
      "┌ Warning: Deprecated syntax `multiple line breaks between doc string and object` at /home/evelyn/.julia/packages/IntervalContractors/EI2Tp/src/arithmetic.jl:186.\n",
      "│ Use `at most one line break` instead.\n",
      "└ @ ~/.julia/packages/IntervalContractors/EI2Tp/src/arithmetic.jl:186\n",
      "WARNING: Method definition ^(IntervalArithmetic.Interval{Float64}, Base.Rational{T} where T<:Integer) in module IntervalArithmetic at /home/evelyn/.julia/packages/IntervalArithmetic/iO2gf/src/intervals/functions.jl:10 overwritten in module IntervalContractors at /home/evelyn/.julia/packages/IntervalContractors/EI2Tp/src/arithmetic.jl:4.\n",
      "┌ Warning: Deprecated syntax `multiple line breaks between doc string and object` at /home/evelyn/.julia/packages/IntervalContractors/EI2Tp/src/transformations.jl:8.\n",
      "│ Use `at most one line break` instead.\n",
      "└ @ ~/.julia/packages/IntervalContractors/EI2Tp/src/transformations.jl:8\n",
      "WARNING: Method definition ^(IntervalArithmetic.Interval{Float64}, Base.Rational{T} where T<:Integer) in module IntervalArithmetic at /home/evelyn/.julia/packages/IntervalArithmetic/iO2gf/src/intervals/functions.jl:10 overwritten in module IntervalContractors at /home/evelyn/.julia/packages/IntervalContractors/EI2Tp/src/arithmetic.jl:4.\n",
      "WARNING: Method definition setrounding(Type{T<:Union{Float32, Float64}}, Base.Rounding.RoundingMode{T} where T) where {T<:Union{Float32, Float64}} in module Base at deprecated.jl:1699 overwritten in module SetRounding at /home/evelyn/.julia/packages/SetRounding/MjtxK/src/SetRounding.jl:47.\n",
      "WARNING: Method definition ^(IntervalArithmetic.Interval{Float64}, Base.Rational{T} where T<:Integer) in module IntervalArithmetic at /home/evelyn/.julia/packages/IntervalArithmetic/iO2gf/src/intervals/functions.jl:10 overwritten in module IntervalContractors at /home/evelyn/.julia/packages/IntervalContractors/EI2Tp/src/arithmetic.jl:4.\n",
      "┌ Warning: Deprecated syntax `multiple line breaks between doc string and object` at /home/evelyn/.julia/packages/IntervalConstraintProgramming/0kk1E/src/ast.jl:114.\n",
      "│ Use `at most one line break` instead.\n",
      "└ @ ~/.julia/packages/IntervalConstraintProgramming/0kk1E/src/ast.jl:114\n",
      "┌ Warning: Deprecated syntax `multiple line breaks between doc string and object` at /home/evelyn/.julia/packages/IntervalConstraintProgramming/0kk1E/src/ast.jl:116.\n",
      "│ Use `at most one line break` instead.\n",
      "└ @ ~/.julia/packages/IntervalConstraintProgramming/0kk1E/src/ast.jl:116\n",
      "┌ Warning: Deprecated syntax `multiple line breaks between doc string and object` at /home/evelyn/.julia/packages/IntervalConstraintProgramming/0kk1E/src/ast.jl:166.\n",
      "│ Use `at most one line break` instead.\n",
      "└ @ ~/.julia/packages/IntervalConstraintProgramming/0kk1E/src/ast.jl:166\n",
      "┌ Warning: Deprecated syntax `multiple line breaks between doc string and object` at /home/evelyn/.julia/packages/IntervalConstraintProgramming/0kk1E/src/separator.jl:61.\n",
      "│ Use `at most one line break` instead.\n",
      "└ @ ~/.julia/packages/IntervalConstraintProgramming/0kk1E/src/separator.jl:61\n",
      "┌ Warning: Use of final value of loop variable `x` around /home/evelyn/.julia/packages/IntervalConstraintProgramming/0kk1E/src/paving.jl:29 is deprecated. In the future the variable will be local to the loop instead.\n",
      "└ @ ~/.julia/packages/IntervalConstraintProgramming/0kk1E/src/paving.jl:29\n",
      "WARNING: Method definition setrounding(Type{T<:Union{Float32, Float64}}, Base.Rounding.RoundingMode{T} where T) where {T<:Union{Float32, Float64}} in module Base at deprecated.jl:1699 overwritten in module SetRounding at /home/evelyn/.julia/packages/SetRounding/MjtxK/src/SetRounding.jl:47.\n"
     ]
    }
   ],
   "source": [
    "using PyPlot\n",
    "using TaylorSeries\n",
    "using IntervalArithmetic, IntervalRootFinding\n",
    "using ValidatedNumerics\n",
    "using StaticArrays"
   ]
  },
  {
   "cell_type": "code",
   "execution_count": 2,
   "metadata": {},
   "outputs": [
    {
     "data": {
      "text/plain": [
       "4-element Array{String,1}:\n",
       " \"@\"                                          \n",
       " \"@v#.#\"                                      \n",
       " \"@stdlib\"                                    \n",
       " \"/home/evelyn/Documentos/Tesis/Programas/IPM\""
      ]
     },
     "execution_count": 2,
     "metadata": {},
     "output_type": "execute_result"
    }
   ],
   "source": [
    "push!(LOAD_PATH,\"/home/evelyn/Documentos/Tesis/Programas/IPM\")\n"
   ]
  },
  {
   "cell_type": "code",
   "execution_count": 3,
   "metadata": {},
   "outputs": [
    {
     "name": "stderr",
     "output_type": "stream",
     "text": [
      "┌ Info: Precompiling ParametrizacionMetodo [top-level]\n",
      "└ @ Base loading.jl:1187\n",
      "┌ Warning: Deprecated syntax `multiple line breaks between doc string and object` at /home/evelyn/Documentos/Tesis/Programas/IPM/VariedadesIPM.jl:68.\n",
      "│ Use `at most one line break` instead.\n",
      "└ @ ~/Documentos/Tesis/Programas/IPM/VariedadesIPM.jl:68\n",
      "┌ Warning: Deprecated syntax `(imag(λfloat_aux[1]) == 0.0)?` at /home/evelyn/Documentos/Tesis/Programas/IPM/VariedadesIPM.jl:117.\n",
      "│ Use `(imag(λfloat_aux[1]) == 0.0) ?` instead.\n",
      "└ @ ~/Documentos/Tesis/Programas/IPM/VariedadesIPM.jl:117\n",
      "┌ Warning: Deprecated syntax `(imag(λfloat_aux[2]) == 0.0)?` at /home/evelyn/Documentos/Tesis/Programas/IPM/VariedadesIPM.jl:118.\n",
      "│ Use `(imag(λfloat_aux[2]) == 0.0) ?` instead.\n",
      "└ @ ~/Documentos/Tesis/Programas/IPM/VariedadesIPM.jl:118\n",
      "┌ Warning: Deprecated syntax `(tt == 0.0)?` at /home/evelyn/Documentos/Tesis/Programas/IPM/VariedadesIPM.jl:238.\n",
      "│ Use `(tt == 0.0) ?` instead.\n",
      "└ @ ~/Documentos/Tesis/Programas/IPM/VariedadesIPM.jl:238\n",
      "┌ Warning: Deprecated syntax `1.*` at /home/evelyn/Documentos/Tesis/Programas/IPM/VariedadesIPM.jl:603.\n",
      "│ Use `1 .*` instead.\n",
      "└ @ ~/Documentos/Tesis/Programas/IPM/VariedadesIPM.jl:603\n",
      "┌ Warning: Deprecated syntax `parametric method syntax PolinomioTaylor1{T <: Real}(g::Int64, CX::Array{TaylorN{T}}, CY::Array{TaylorN{T}})` around /home/evelyn/Documentos/Tesis/Programas/IPM/VariedadesIPM.jl:28.\n",
      "│ Use `PolinomioTaylor1(g::Int64, CX::Array{TaylorN{T}}, CY::Array{TaylorN{T}}) where T <: Real` instead.\n",
      "└ @ ~/Documentos/Tesis/Programas/IPM/VariedadesIPM.jl:28\n",
      "┌ Warning: Deprecated syntax `parametric method syntax EigenValores{T <: BigFloat}(M::Array{T, 2})` around /home/evelyn/Documentos/Tesis/Programas/IPM/VariedadesIPM.jl:113.\n",
      "│ Use `EigenValores(M::Array{T, 2}) where T <: BigFloat` instead.\n",
      "└ @ ~/Documentos/Tesis/Programas/IPM/VariedadesIPM.jl:113\n",
      "┌ Warning: Deprecated syntax `parametric method syntax EigenValores{T <: Float64}(M::Array{T, 2})` around /home/evelyn/Documentos/Tesis/Programas/IPM/VariedadesIPM.jl:179.\n",
      "│ Use `EigenValores(M::Array{T, 2}) where T <: Float64` instead.\n",
      "└ @ ~/Documentos/Tesis/Programas/IPM/VariedadesIPM.jl:179\n",
      "┌ Warning: Deprecated syntax `parametric method syntax Orden1{T <: Real}(CX::Array{TaylorN{T}}, CY::Array{TaylorN{T}}, Mapeo, PuntoFijo::Array{T, 1}, tipo_v, λarrayX::Array{T}, λarrayY::Array{T})` around /home/evelyn/Documentos/Tesis/Programas/IPM/VariedadesIPM.jl:220.\n",
      "│ Use `Orden1(CX::Array{TaylorN{T}}, CY::Array{TaylorN{T}}, Mapeo, PuntoFijo::Array{T, 1}, tipo_v, λarrayX::Array{T}, λarrayY::Array{T}) where T <: Real` instead.\n",
      "└ @ ~/Documentos/Tesis/Programas/IPM/VariedadesIPM.jl:220\n",
      "┌ Warning: Deprecated syntax `parametric method syntax Variedades{T <: Real}(Mapeo, orden::Int64, PuntoFijo::Array{T, 1}, tipo_v)` around /home/evelyn/Documentos/Tesis/Programas/IPM/VariedadesIPM.jl:287.\n",
      "│ Use `Variedades(Mapeo, orden::Int64, PuntoFijo::Array{T, 1}, tipo_v) where T <: Real` instead.\n",
      "└ @ ~/Documentos/Tesis/Programas/IPM/VariedadesIPM.jl:287\n",
      "┌ Warning: Deprecated syntax `parametric method syntax Invariancia{T <: Real}(Mapeo, Pol_vec::Array{Taylor1{T}, 1}, λvec::Array{Taylor1{T}, 1}, modulo::T)` around /home/evelyn/Documentos/Tesis/Programas/IPM/VariedadesIPM.jl:393.\n",
      "│ Use `Invariancia(Mapeo, Pol_vec::Array{Taylor1{T}, 1}, λvec::Array{Taylor1{T}, 1}, modulo::T) where T <: Real` instead.\n",
      "└ @ ~/Documentos/Tesis/Programas/IPM/VariedadesIPM.jl:393\n",
      "┌ Warning: Deprecated syntax `parametric method syntax Invariancia{T <: Real}(Mapeo, Pol_vec::Array{Taylor1{T}, 1}, λvec::Array{Taylor1{T}, 1})` around /home/evelyn/Documentos/Tesis/Programas/IPM/VariedadesIPM.jl:403.\n",
      "│ Use `Invariancia(Mapeo, Pol_vec::Array{Taylor1{T}, 1}, λvec::Array{Taylor1{T}, 1}) where T <: Real` instead.\n",
      "└ @ ~/Documentos/Tesis/Programas/IPM/VariedadesIPM.jl:403\n",
      "┌ Warning: Deprecated syntax `parametric method syntax EvaluarPol{T <: Real}(Ec_2var, Tiempo::Array{T}, paso::T)` around /home/evelyn/Documentos/Tesis/Programas/IPM/VariedadesIPM.jl:433.\n",
      "│ Use `EvaluarPol(Ec_2var, Tiempo::Array{T}, paso::T) where T <: Real` instead.\n",
      "└ @ ~/Documentos/Tesis/Programas/IPM/VariedadesIPM.jl:433\n",
      "┌ Warning: Deprecated syntax `parametric method syntax CreaPol{T <: Real}(A::Array{T}, B::Array{T}, orden::Int64)` around /home/evelyn/Documentos/Tesis/Programas/IPM/VariedadesIPM.jl:478.\n",
      "│ Use `CreaPol(A::Array{T}, B::Array{T}, orden::Int64) where T <: Real` instead.\n",
      "└ @ ~/Documentos/Tesis/Programas/IPM/VariedadesIPM.jl:478\n",
      "┌ Warning: Deprecated syntax `parametric method syntax Convergencia{T <: Real}(A::Taylor1{T}, B::Taylor1{T})` around /home/evelyn/Documentos/Tesis/Programas/IPM/VariedadesIPM.jl:493.\n",
      "│ Use `Convergencia(A::Taylor1{T}, B::Taylor1{T}) where T <: Real` instead.\n",
      "└ @ ~/Documentos/Tesis/Programas/IPM/VariedadesIPM.jl:493\n",
      "┌ Warning: Deprecated syntax `parametric method syntax CalculoError{T <: Real}(Mapeo, modulo::Real, Taylor::Array{Taylor1{T}}, λ_vec::Array{Taylor1{T}}, Tiempo::Array{T}, paso::Real)` around /home/evelyn/Documentos/Tesis/Programas/IPM/VariedadesIPM.jl:565.\n",
      "│ Use `CalculoError(Mapeo, modulo::Real, Taylor::Array{Taylor1{T}}, λ_vec::Array{Taylor1{T}}, Tiempo::Array{T}, paso::Real) where T <: Real` instead.\n",
      "└ @ ~/Documentos/Tesis/Programas/IPM/VariedadesIPM.jl:565\n",
      "┌ Warning: Deprecated syntax `parametric method syntax CalculoError{T <: Real}(Mapeo, Taylor::Array{Taylor1{T}}, λ_vec::Array{Taylor1{T}}, Tiempo::Array{T}, paso::Real)` around /home/evelyn/Documentos/Tesis/Programas/IPM/VariedadesIPM.jl:575.\n",
      "│ Use `CalculoError(Mapeo, Taylor::Array{Taylor1{T}}, λ_vec::Array{Taylor1{T}}, Tiempo::Array{T}, paso::Real) where T <: Real` instead.\n",
      "└ @ ~/Documentos/Tesis/Programas/IPM/VariedadesIPM.jl:575\n",
      "┌ Warning: Deprecated syntax `parametric method syntax Error2{T <: Real}(Mapeo, Taylor::Array{Taylor1{T}}, λ_vec::Array{Taylor1{T}}, Tiempo::Array{T}, paso::Real)` around /home/evelyn/Documentos/Tesis/Programas/IPM/VariedadesIPM.jl:584.\n",
      "│ Use `Error2(Mapeo, Taylor::Array{Taylor1{T}}, λ_vec::Array{Taylor1{T}}, Tiempo::Array{T}, paso::Real) where T <: Real` instead.\n",
      "└ @ ~/Documentos/Tesis/Programas/IPM/VariedadesIPM.jl:584\n",
      "┌ Warning: Deprecated syntax `parametric method syntax Error3{T <: Real}(PuntoFijo::Array{T, 1}, Taylor::Array{Taylor1{T}}, eigval, eigvec, Tiempo::Array{T}, paso::Real, orden::Real)` around /home/evelyn/Documentos/Tesis/Programas/IPM/VariedadesIPM.jl:597.\n",
      "│ Use `Error3(PuntoFijo::Array{T, 1}, Taylor::Array{Taylor1{T}}, eigval, eigvec, Tiempo::Array{T}, paso::Real, orden::Real) where T <: Real` instead.\n",
      "└ @ ~/Documentos/Tesis/Programas/IPM/VariedadesIPM.jl:597\n",
      "┌ Warning: Deprecated syntax `parametric method syntax Error4{T <: Real}(Mapeo, Taylor::Array{Taylor1{T}}, λ_vec::Array{Taylor1{T}}, Tiempo::Array{T}, paso::Real)` around /home/evelyn/Documentos/Tesis/Programas/IPM/VariedadesIPM.jl:622.\n",
      "│ Use `Error4(Mapeo, Taylor::Array{Taylor1{T}}, λ_vec::Array{Taylor1{T}}, Tiempo::Array{T}, paso::Real) where T <: Real` instead.\n",
      "└ @ ~/Documentos/Tesis/Programas/IPM/VariedadesIPM.jl:622\n",
      "┌ Warning: Deprecated syntax `parametric method syntax Inestable{T <: Real}(Mapeo, orden::Int64, PuntoFijo::Array{T}, Tiempo::Array{T}, paso::T)` around /home/evelyn/Documentos/Tesis/Programas/IPM/VariedadesIPM.jl:670.\n",
      "│ Use `Inestable(Mapeo, orden::Int64, PuntoFijo::Array{T}, Tiempo::Array{T}, paso::T) where T <: Real` instead.\n",
      "└ @ ~/Documentos/Tesis/Programas/IPM/VariedadesIPM.jl:670\n",
      "┌ Warning: Deprecated syntax `parametric method syntax Estable{T <: Real}(Mapeo, orden::Int64, PuntoFijo::Array{T}, Tiempo::Array{T}, paso::T)` around /home/evelyn/Documentos/Tesis/Programas/IPM/VariedadesIPM.jl:701.\n",
      "│ Use `Estable(Mapeo, orden::Int64, PuntoFijo::Array{T}, Tiempo::Array{T}, paso::T) where T <: Real` instead.\n",
      "└ @ ~/Documentos/Tesis/Programas/IPM/VariedadesIPM.jl:701\n",
      "ERROR: LoadError: could not open file /home/evelyn/Documentos/Tesis/Programas/IPM/MyModule\n",
      "Stacktrace:\n",
      " [1] include at ./boot.jl:317 [inlined]\n",
      " [2] include_relative(::Module, ::String) at ./loading.jl:1038\n",
      " [3] include at ./sysimg.jl:29 [inlined]\n",
      " [4] include(::String) at /home/evelyn/Documentos/Tesis/Programas/IPM/ParametrizacionMetodo.jl:2\n",
      " [5] top-level scope at none:0\n",
      " [6] include at ./boot.jl:317 [inlined]\n",
      " [7] include_relative(::Module, ::String) at ./loading.jl:1038\n",
      " [8] include(::Module, ::String) at ./sysimg.jl:29\n",
      " [9] top-level scope at none:2\n",
      " [10] eval at ./boot.jl:319 [inlined]\n",
      " [11] eval(::Expr) at ./client.jl:399\n",
      " [12] top-level scope at ./none:3\n",
      "in expression starting at /home/evelyn/Documentos/Tesis/Programas/IPM/ParametrizacionMetodo.jl:19\n"
     ]
    },
    {
     "ename": "ErrorException",
     "evalue": "Failed to precompile ParametrizacionMetodo [top-level] to /home/evelyn/.julia/compiled/v0.7/ParametrizacionMetodo.ji.",
     "output_type": "error",
     "traceback": [
      "Failed to precompile ParametrizacionMetodo [top-level] to /home/evelyn/.julia/compiled/v0.7/ParametrizacionMetodo.ji.",
      "",
      "Stacktrace:",
      " [1] error(::String) at ./error.jl:33",
      " [2] macro expansion at ./logging.jl:313 [inlined]",
      " [3] compilecache(::Base.PkgId, ::String) at ./loading.jl:1185",
      " [4] macro expansion at ./logging.jl:311 [inlined]",
      " [5] _require(::Base.PkgId) at ./loading.jl:941",
      " [6] require(::Base.PkgId) at ./loading.jl:852",
      " [7] macro expansion at ./logging.jl:311 [inlined]",
      " [8] require(::Module, ::Symbol) at ./loading.jl:834",
      " [9] top-level scope at In[3]:1"
     ]
    }
   ],
   "source": [
    "using ParametrizacionMetodo\n",
    "#using mapeos\n",
    "#using graficar-mapeos"
   ]
  },
  {
   "cell_type": "markdown",
   "metadata": {},
   "source": [
    "Para poder usar las funciones del método de parametrización es necesario que el mapeo reciba dos parámetros de entrada"
   ]
  },
  {
   "cell_type": "code",
   "execution_count": null,
   "metadata": {},
   "outputs": [],
   "source": [
    "estandar1(x,y)=Estandar(x,y,0.3)\n",
    "estandarI(x,y)=EstandarI(x,y,0.3)\n",
    "estandar2(x,y)=Estandar(x,y,1.5)\n",
    "estandar3(x,y)=Estandar(x,y,0.7)\n",
    "estandar4(x,y)=Estandar(x,y,6.5)\n",
    "estandar5(x,y)=EstandarI(x,y,1.5)\n",
    "\n",
    "k=parse(BigFloat,\"0.5\")\n",
    "estandar5(x,y)=Estandar(x,y,k)"
   ]
  },
  {
   "cell_type": "code",
   "execution_count": null,
   "metadata": {},
   "outputs": [],
   "source": [
    "k=parse(BigFloat,\"0.3\")\n",
    "estandar6(x,y)=Estandar(x,y,k)"
   ]
  },
  {
   "cell_type": "markdown",
   "metadata": {},
   "source": [
    "Calculamos la parametrización de las variedades asociadas al punto fijo $x_{0}=(0.,0.)$ con el valor de $k=0.3$ con orden 20."
   ]
  },
  {
   "cell_type": "code",
   "execution_count": null,
   "metadata": {
    "collapsed": true
   },
   "outputs": [],
   "source": [
    "OrI = 80\n",
    "x_fijo = [0.,0.] \n",
    "tiempo = [-10.,10.]\n",
    "delta_t = 0.125\n",
    "Wa, fa, vec_prop_a, val_prop_a = Estable(estandar2,OrI , x_fijo,tiempo, delta_t);\n",
    "Wb, fb, vec_prop_b, val_prop_b = Inestable(estandar2,OrI , x_fijo,tiempo, delta_t);"
   ]
  },
  {
   "cell_type": "code",
   "execution_count": null,
   "metadata": {},
   "outputs": [],
   "source": [
    "#Graficar([-.1,-7.4], 0.025, 0.3, Wa[1],Wa[2],[0.,0.],\"orangered\")\n",
    "Graficar([-0.1,-7.2], -0.025, 0.3, Wb[1],Wb[2],[0.,0.],\"royalblue\")"
   ]
  },
  {
   "cell_type": "code",
   "execution_count": null,
   "metadata": {},
   "outputs": [],
   "source": [
    "tiem = [0.1,10.]\n",
    "ErrorA = CalculoError(estandar2,2*pi, Wa,fa,tiem,0.025 )\n",
    "ErrorB = CalculoError(estandar2,2*pi, Wb,fb,tiem,0.025 )"
   ]
  },
  {
   "cell_type": "code",
   "execution_count": null,
   "metadata": {},
   "outputs": [],
   "source": [
    "plot(ErrorA[1],log10.(ErrorA[2]),marker= \"None\", label=L\"f_{k}\",color=\"orangered\")\n",
    "plot(ErrorB[1],log10.(ErrorB[2]),marker= \"None\", label=L\"f_{k}^{-1}\",color=\"royalblue\")\n",
    "\n",
    "xlabel(\"t\")\n",
    "ylabel(L\"$\\log_{10}(E(t))$\")\n",
    "title(\"Error\")\n",
    "#grid(\"on\")\n",
    "legend(loc=\"lower right\",fancybox=\"true\" )"
   ]
  },
  {
   "cell_type": "code",
   "execution_count": null,
   "metadata": {},
   "outputs": [],
   "source": [
    "\n",
    "Conver03U=Convergencia(Wa[1],Wa[2])#Convergencia segun Hadamard\n",
    "Conver03S=Convergencia(Wb[1],Wb[2])\n"
   ]
  },
  {
   "cell_type": "code",
   "execution_count": null,
   "metadata": {},
   "outputs": [],
   "source": [
    "Ca1=[log10(abs(Conver03U[1][i])) for i in 1:length(Conver03U[1])]\n",
    "Cb1=[log10(abs(Conver03S[1][i])) for i in 1:length(Conver03S[1])]\n",
    "\n",
    "subplot(2,1,1)\n",
    "plot(Ca1,marker=\".\",label=L\"W^{u}_{x}\",color=\"royalblue\")\n",
    "xlabel(L\"n\")\n",
    "ylabel(L\"log_{10}(|\\frac{a_{n+1}}{a_{n}}|)\")\n",
    "legend(loc=\"low right\",fancybox=\"true\" )\n",
    "\n",
    "subplot(2,1,2)\n",
    "plot(Cb1,marker=\".\",label=L\"W^{s}_{x}\",color=\"orangered\")\n",
    "xlabel(L\"n\")\n",
    "ylabel(L\"log_{10}(|\\frac{a_{n+1}}{a_{n}}|)\")\n",
    "legend(loc=\"low right\",fancybox=\"true\" )"
   ]
  },
  {
   "cell_type": "code",
   "execution_count": null,
   "metadata": {},
   "outputs": [],
   "source": [
    "digits(BigFloat)"
   ]
  },
  {
   "cell_type": "code",
   "execution_count": null,
   "metadata": {
    "collapsed": true
   },
   "outputs": [],
   "source": [
    "OrI = 20\n",
    "x_fijo = [0.,0.] \n",
    "tiempo = [-13.,13.]\n",
    "delta_t = 0.125\n",
    "W1, f1, vec_prop_1, val_prop_1 = Estable(estandar2,OrI , x_fijo,tiempo, delta_t);\n",
    "W2, f2, vec_prop_2, val_prop_2 = Inestable(estandar2,OrI , [0,2*pi],tiempo, delta_t);"
   ]
  },
  {
   "cell_type": "markdown",
   "metadata": {},
   "source": [
    "Primero calculamos la variedad inestable con un polinomio de orden 20"
   ]
  },
  {
   "cell_type": "code",
   "execution_count": null,
   "metadata": {
    "collapsed": true
   },
   "outputs": [],
   "source": [
    "Graficar([-.1,-13.4], 0.025, 1.5, W1[1],W1[2],[0.,0.],\"orangered\")\n",
    "Graficar([-0.1,-14.2], 0.025, 1.5, W2[1],W2[2],[0.,2*pi],\"royalblue\")"
   ]
  },
  {
   "cell_type": "code",
   "execution_count": null,
   "metadata": {
    "collapsed": true
   },
   "outputs": [],
   "source": [
    "tiem = [0.1,15.]\n",
    "ErrorI_O20 = CalculoError(estandar2,2*pi, W1,f1,tiem,0.025 )\n",
    "ErrorE_O20 = CalculoError(estandar2,2*pi, W2,f2,tiem,0.025 )\n"
   ]
  },
  {
   "cell_type": "code",
   "execution_count": null,
   "metadata": {
    "collapsed": true
   },
   "outputs": [],
   "source": [
    "plot(ErrorI_O20[1],log10.(ErrorI_O20[2]),marker= \"None\", label=L\"W^{s}\",color=\"orangered\")\n",
    "plot(ErrorE_O20[1],log10.(ErrorE_O20[2]),marker= \"None\", label=L\"W^{u}\",color=\"royalblue\")\n",
    "\n",
    "xlabel(\"t\")\n",
    "ylabel(L\"$\\log_{10}(E(t))$\")\n",
    "title(\"Error\")\n",
    "#grid(\"on\")\n",
    "legend(loc=\"lower right\",fancybox=\"true\" )"
   ]
  },
  {
   "cell_type": "markdown",
   "metadata": {},
   "source": [
    "Convergencia"
   ]
  },
  {
   "cell_type": "code",
   "execution_count": null,
   "metadata": {
    "collapsed": true
   },
   "outputs": [],
   "source": [
    "estandarP(x,y) = EstandarI(x,y,1.5)"
   ]
  },
  {
   "cell_type": "code",
   "execution_count": null,
   "metadata": {
    "collapsed": true
   },
   "outputs": [],
   "source": [
    "estandarP(1.,2.)"
   ]
  },
  {
   "cell_type": "code",
   "execution_count": null,
   "metadata": {
    "collapsed": true,
    "scrolled": true
   },
   "outputs": [],
   "source": [
    "Orden2 = 120\n",
    "x_fijo2 = [0.,0.] \n",
    "tiempo = [-3.,3.]\n",
    "delta_t = 0.125\n",
    "W3, f3, vec_prop3, val_prop3 = Inestable(estandarP, Orden2 , x_fijo2,tiempo, delta_t); #estable calculada con el inverso\n",
    "W4, f4, vec_prop4, val_prop4 = Inestable(estandar2,Orden2 , [0.,2*pi],tiempo, delta_t);"
   ]
  },
  {
   "cell_type": "code",
   "execution_count": null,
   "metadata": {
    "collapsed": true
   },
   "outputs": [],
   "source": [
    "Graficar([0.,-19.], 0.025, 1.5, -W3[1],-W3[2],[0.,0.],\"orangered\")\n",
    "Graficar([-0.1,-14.9], 0.025, 1.5, W4[1],W4[2],[0.,2*pi],\"royalblue\")"
   ]
  },
  {
   "cell_type": "code",
   "execution_count": null,
   "metadata": {
    "collapsed": true
   },
   "outputs": [],
   "source": [
    "tiem = [-0.1,-20.]\n",
    "ErrorI_O60 = CalculoError(estandarP,2*pi, W3,f3,tiem,-0.025 );\n",
    "ErrorE_O60 = CalculoError(estandar2,2*pi, W4,f4,tiem,-0.025 );\n"
   ]
  },
  {
   "cell_type": "code",
   "execution_count": null,
   "metadata": {
    "collapsed": true
   },
   "outputs": [],
   "source": [
    "plot(ErrorI_O60[1],log10.(ErrorI_O60[2]),marker= \"None\", label=L\"W^{s}\",color=\"orangered\")\n",
    "plot(ErrorE_O60[1],log10.(ErrorE_O60[2]),marker= \"None\", label=L\"W^{u}\",color=\"royalblue\")\n",
    "\n",
    "xlabel(L\"t\")\n",
    "ylabel(L\"$\\log_{10}(E(t))$\")\n",
    "title(\"Error\")\n",
    "#grid(\"on\")\n",
    "legend(loc=\"upper right\",fancybox=\"true\" )"
   ]
  },
  {
   "cell_type": "code",
   "execution_count": null,
   "metadata": {
    "collapsed": true
   },
   "outputs": [],
   "source": [
    "Conver15S=Convergencia(W3[1],W3[2])#Convergencia segun Hadamard\n",
    "Conver15U=Convergencia(W4[1],W4[2])\n",
    "subplot(2,1,2)\n",
    "plot(Conver15S[1],marker=\".\",label=L\"W^{s}_{\\theta}\",color=\"orangered\")\n",
    "xlabel(L\"n\")\n",
    "ylabel(L\"a_{n+1}/a_{n}\")\n",
    "legend(loc=\"low right\",fancybox=\"true\" )\n",
    "\n",
    "subplot(2,1,1)\n",
    "plot(Conver15U[1],marker=\".\",label=L\"W^{u}_{\\theta}\",color=\"royalblue\")\n",
    "xlabel(L\"n\")\n",
    "ylabel(L\"a_{n+1}/a_{n}\")\n",
    "legend(loc=\"low right\",fancybox=\"true\" )"
   ]
  },
  {
   "cell_type": "code",
   "execution_count": null,
   "metadata": {
    "collapsed": true,
    "scrolled": true
   },
   "outputs": [],
   "source": [
    "Orden2 = 70\n",
    "x_fijo2 = [0.,0.] \n",
    "tiempo = [-3.,3.]\n",
    "delta_t = 0.125\n",
    "W5, f5, vec_prop5, val_prop5 = Estable(estandar3,Orden2 , x_fijo2,tiempo, delta_t)\n",
    "W6, f6, vec_prop6, val_prop6 = Inestable(estandar3,Orden2 , [0.,2*pi],tiempo, delta_t)"
   ]
  },
  {
   "cell_type": "code",
   "execution_count": null,
   "metadata": {
    "collapsed": true
   },
   "outputs": [],
   "source": [
    "Graficar([-.1,-6.], 0.025, 0.7, W5[1],W5[2],[0.,0.],\"orangered\")\n",
    "Graficar([-0.1,-4.5], 0.025, 0.7, W6[1],W6[2],[0.,2*pi],\"royalblue\")"
   ]
  },
  {
   "cell_type": "code",
   "execution_count": null,
   "metadata": {
    "collapsed": true
   },
   "outputs": [],
   "source": [
    "tiem = [0.1,7.]\n",
    "ErrorI_O70 = CalculoError(estandar3,2*pi, W5,f5,tiem,0.025 )\n",
    "ErrorE_O70 = CalculoError(estandar3,2*pi, W6,f6,tiem,0.025 )\n"
   ]
  },
  {
   "cell_type": "code",
   "execution_count": null,
   "metadata": {
    "collapsed": true
   },
   "outputs": [],
   "source": [
    "plot(ErrorI_O70[1],log10.(ErrorI_O70[2]),marker= \"None\", label=L\"W^{s}\",color=\"orangered\")\n",
    "plot(ErrorE_O70[1],log10.(ErrorE_O70[2]),marker= \"None\", label=L\"W^{u}\",color=\"royalblue\")\n",
    "\n",
    "xlabel(\"t\")\n",
    "ylabel(L\"$\\log_{10}(E(t))$\")\n",
    "title(\"Error\")\n",
    "#grid(\"on\")\n",
    "legend(loc=\"low right\",fancybox=\"true\" )"
   ]
  },
  {
   "cell_type": "code",
   "execution_count": null,
   "metadata": {
    "collapsed": true
   },
   "outputs": [],
   "source": [
    "Conver07U=Convergencia(W5[1],W5[2])#Convergencia segun Hadamard\n",
    "Conver07S=Convergencia(W6[1],W6[2])\n",
    "subplot(2,1,1)\n",
    "plot(Conver07U[1],marker=\".\",label=L\"W^{u}_{\\theta}\",color=\"royalblue\")\n",
    "xlabel(L\"n\")\n",
    "ylabel(L\"a_{n+1}/a_{n}\")\n",
    "legend(loc=\"low right\",fancybox=\"true\" )\n",
    "\n",
    "subplot(2,1,2)\n",
    "plot(Conver07S[1],marker=\".\",label=L\"W^{s}_{\\theta}\",color=\"orangered\")\n",
    "xlabel(L\"n\")\n",
    "ylabel(L\"a_{n+1}/a_{n}\")\n",
    "legend(loc=\"low right\",fancybox=\"true\" )\n",
    "legend(loc=\"low right\",fancybox=\"true\" )"
   ]
  },
  {
   "cell_type": "code",
   "execution_count": null,
   "metadata": {
    "collapsed": true
   },
   "outputs": [],
   "source": [
    "function Intersección(p)\n",
    "    (x,y)=p\n",
    "    V= SVector( -W3[1](x)-W4[1](y), -W3[2](x)-W4[2](y) )\n",
    "#    @show(p, V)\n",
    "end"
   ]
  },
  {
   "cell_type": "code",
   "execution_count": null,
   "metadata": {
    "collapsed": true
   },
   "outputs": [],
   "source": [
    "X = (-20..(0.0))×(-15..(0.)) # 2D IntervalBox;"
   ]
  },
  {
   "cell_type": "code",
   "execution_count": null,
   "metadata": {
    "collapsed": true
   },
   "outputs": [],
   "source": [
    "Intersección(X)"
   ]
  },
  {
   "cell_type": "code",
   "execution_count": null,
   "metadata": {
    "collapsed": true,
    "scrolled": true
   },
   "outputs": [],
   "source": [
    "r = roots(Intersección, X, Newton, 1e-6)"
   ]
  },
  {
   "cell_type": "code",
   "execution_count": null,
   "metadata": {
    "collapsed": true
   },
   "outputs": [],
   "source": [
    "using PyPlot\n",
    "using PyCall\n",
    "@pyimport matplotlib.patches as patch"
   ]
  },
  {
   "cell_type": "code",
   "execution_count": null,
   "metadata": {
    "collapsed": true
   },
   "outputs": [],
   "source": [
    "px = W3[1](r[1].interval[1].lo)\n",
    "py = W3[2](r[1].interval[1].lo)\n",
    "qx = W4[1](r[1].interval[2].hi)\n",
    "qy = W4[2](r[1].interval[2].hi)\n",
    "sx = W3[1](r[1].interval[1].hi)\n",
    "sy = W3[2](r[1].interval[1].hi)\n",
    "ux = W4[1](r[1].interval[2].lo)\n",
    "uy = W4[2](r[1].interval[2].lo)"
   ]
  },
  {
   "cell_type": "code",
   "execution_count": null,
   "metadata": {
    "collapsed": true
   },
   "outputs": [],
   "source": [
    "#|pygui(true)\n",
    "list_x = [px,qx,sx,ux,px]\n",
    "list_y = [py,qy,sy,uy,py]\n",
    "plot(list_x,list_y,\"o\",linestyle=\"-\")\n"
   ]
  },
  {
   "cell_type": "code",
   "execution_count": null,
   "metadata": {
    "collapsed": true
   },
   "outputs": [],
   "source": [
    "(dy-ay)-(cy-by)"
   ]
  },
  {
   "cell_type": "code",
   "execution_count": null,
   "metadata": {
    "collapsed": true
   },
   "outputs": [],
   "source": [
    "#pygui(true)\n",
    "Graficar([-.1,-20.0], 0.025, 1.5, -W3[1],-W3[2],[0.,0.],\"orangered\")\n",
    "Graficar([-.2,-15], 0.025, 1.5, W4[1],W4[2],[0.,2*pi],\"royalblue\")\n",
    "\n",
    "for ind in eachindex(r)\n",
    "    plot(-W3[1].([r[ind].interval[1].lo, r[ind].interval[1].hi]), \n",
    "         -W3[2].([r[ind].interval[1].lo, r[ind].interval[1].hi]),\"o\")\n",
    "end"
   ]
  },
  {
   "cell_type": "code",
   "execution_count": null,
   "metadata": {
    "collapsed": true
   },
   "outputs": [],
   "source": [
    "r[1].interval[1].hi<r[1].interval[1].lo"
   ]
  },
  {
   "cell_type": "code",
   "execution_count": null,
   "metadata": {
    "collapsed": true
   },
   "outputs": [],
   "source": [
    "#pygui(true)\n",
    "cfig = figure()\n",
    "Graficar([-.1,-20.0], 0.025, 1.5, W3[1],W3[2],[0.,0.],\"orangered\")\n",
    "Graficar([r[1].interval[1].hi,r[1].interval[1].lo], 1e-15, 1.5, W3[1],W3[2],[0.,0.],\"green\")\n",
    "#Graficar([-.1,-15.307927223307495], 0.025, 1.5, W4[1],W4[2],[0.,0.],\"royalblue\")\n",
    "#x1 = W3[1](r[1].interval[1].lo)\n",
    "#y1 = W3[2](r[1].interval[1].lo)\n",
    "#x2 = W3[1](r[1].interval[1].hi)\n",
    "#y2 = W3[1](r[1].interval[1].hi)\n",
    "\n",
    "\n",
    "\n",
    "#x_interval = W3[1].([r[1].interval[1].lo, r[1].interval[1].hi])\n",
    "#y_interval = W3[2].([r[1].interval[1].lo, r[1].interval[1].hi])\n",
    "#diam_x = x_interval[2]-x_interval[1]\n",
    "#diam_y = y_interval[2]-y_interval[1]\n",
    "#plot((x_interval[1],y_interval[1]),\"o\")\n",
    "\n",
    "diam_x = qx-px\n",
    "diam_y = sy-qy\n",
    "\n",
    "#ax = cfig[:add_subplot](1,1,1)\n",
    "#ax[:set_aspect](\"equal\")\n",
    "\n",
    "#c = patch.Rectangle([px,py],1.3,1.3,fc=\"green\",ec=\"red\",linewidth=.5,alpha=0.2)\n",
    "#plot([px,qx,sx,ux,px],[py,qy,sy,uy,py],\"o\",linestyle=\"-\")\n",
    "#c1 = patch.Rectangle([px,py],1.3,1.3,fc=\"blue\",ec=\"red\",linewidth=.5,alpha=0.2)\n",
    "#c2 = patch.Rectangle([qx,qy],1.3,1.3,fc=\"red\",ec=\"red\",linewidth=.5,alpha=0.2)\n",
    "#c3 = patch.Rectangle([ux,uy],1.3,1.3,fc=\"purpĺe\",ec=\"red\",linewidth=.5,alpha=0.2)\n",
    "#ax[:add_artist](c)\n",
    "#ax[:add_artist](c1)\n",
    "#ax[:add_artist](c2)\n",
    "#ax[:add_artist](c3)\n",
    "cfig[:savefig](\"rectangle.png\")\n",
    "grid(\"on\")\n",
    "\n",
    "\n"
   ]
  },
  {
   "cell_type": "code",
   "execution_count": null,
   "metadata": {
    "collapsed": true
   },
   "outputs": [],
   "source": []
  },
  {
   "cell_type": "code",
   "execution_count": null,
   "metadata": {
    "collapsed": true
   },
   "outputs": [],
   "source": [
    "tiem = [0.1,8.]\n",
    "ErrorI = CalculoError(estandar2,2*pi, W3,f3,tiem,0.025 )\n",
    "ErrorE = CalculoError(estandar2,2*pi, W4,f4,tiem,0.025 )\n",
    "plot(ErrorI[1],log10.(ErrorI[2]),marker= \"None\", label=L\"$W^{s}$\",color=\"orangered\")\n",
    "plot(ErrorE[1],log10.(ErrorE[2]),marker= \"None\", label=L\"$W^{u}$\",color=\"royalblue\")\n",
    "\n",
    "xlabel(\"t\")\n",
    "ylabel(L\"$\\log_{10}$($|| E||_{\\infty})$\")\n",
    "title(\"Error\")\n",
    "#grid(\"on\")\n",
    "legend(loc=\"low right\",fancybox=\"true\" )"
   ]
  },
  {
   "cell_type": "code",
   "execution_count": null,
   "metadata": {
    "collapsed": true
   },
   "outputs": [],
   "source": [
    "Graficar([-0.1,-5.307927223307495], 0.025, 0.7, W5[1],W5[2],[0.,0.],\"orangered\")\n",
    "Graficar([-0.1,-4.9], 0.025, 0.7, W6[1],W6[2],[0.,0.],\"royalblue\")"
   ]
  },
  {
   "cell_type": "code",
   "execution_count": null,
   "metadata": {
    "collapsed": true
   },
   "outputs": [],
   "source": [
    "tiem = [0.1,5.]\n",
    "ErrorA = CalculoError(estandar3,2*pi, W5,f5,tiem,0.025 )\n",
    "ErrorB = CalculoError(estandar3,2*pi, W6,f6,tiem,0.025 )\n",
    "plot(ErrorA[1],log10.(ErrorA[2]),marker= \"None\", label=L\"$W^{s}$\",color=\"orangered\")\n",
    "plot(ErrorB[1],log10.(ErrorB[2]),marker= \"None\", label=L\"$W^{u}$\",color=\"royalblue\")\n",
    "\n",
    "xlabel(\"t\")\n",
    "ylabel(L\"$\\log_{10}$($|| E||_{\\infty})$\")\n",
    "title(\"Error\")\n",
    "#grid(\"on\")\n",
    "legend(loc=\"low right\",fancybox=\"true\" )"
   ]
  },
  {
   "cell_type": "code",
   "execution_count": null,
   "metadata": {
    "collapsed": true
   },
   "outputs": [],
   "source": [
    "Orden = 35\n",
    "a= big(pi)\n",
    "b=parse(BigFloat,\"0.\")\n",
    "x_fijo = [b,b] \n",
    "c=parse(BigFloat,\"4.\")\n",
    "tiempo = [-c,c]\n",
    "delta_t = parse(BigFloat, \"0.125\")\n",
    "W_uB, f_uB, vec_propuB, val_propuB = Inestable(g_estandar,Orden , x_fijo,tiempo, delta_t)\n",
    "W_sB, f_sB, vec_propsB, val_propsB = Estable(g_estandar,Orden , x_fijo,tiempo, delta_t)"
   ]
  },
  {
   "cell_type": "code",
   "execution_count": null,
   "metadata": {
    "collapsed": true
   },
   "outputs": [],
   "source": [
    "Graficar([big(0.1),big(4.1)], big(0.025), big(0.3), W_uB[1],W_uB[2],[big(0.),big(0.)])\n",
    "Graficar([big(0.1),5.], big(0.025), big(0.3), W_sB[1],W_sB[2],[big(0.),big(0.)])"
   ]
  },
  {
   "cell_type": "code",
   "execution_count": null,
   "metadata": {
    "collapsed": true
   },
   "outputs": [],
   "source": [
    "ErrorIB_O20 = CalculoError(g_estandar,big(2*pi), W_uB,f_uB,[-big(0.),big(4.)],big(0.025) )\n",
    "ErrorEB_O20 = CalculoError(g_estandar,big(2*pi), W_sB,f_sB,[-big(0.),big(4.)],big(0.025 ))"
   ]
  },
  {
   "cell_type": "code",
   "execution_count": null,
   "metadata": {
    "collapsed": true
   },
   "outputs": [],
   "source": [
    "plot(ErrorIB_O20[1],log10(ErrorIB_O20[2]),marker= \"None\", label=\"Inestable 20\")\n",
    "plot(ErrorEB_O20[1],log10(ErrorEB_O20[2]),marker= \"None\", label=\"Estable 20\")\n",
    "\n",
    "xlabel(\"Parámetro t\")\n",
    "ylabel(L\"log10($|| E||_{\\infty})$\")\n",
    "title(\"Error\")\n",
    "#grid(\"on\")\n",
    "legend(loc=\"low right\",fancybox=\"true\" )"
   ]
  },
  {
   "cell_type": "markdown",
   "metadata": {},
   "source": [
    "Cuidado! Esto es para graficar el error de diferentes órdenes de polinomios(tarda un poco)"
   ]
  },
  {
   "cell_type": "code",
   "execution_count": null,
   "metadata": {
    "collapsed": true
   },
   "outputs": [],
   "source": [
    "O1 = 20\n",
    "O2 = 25\n",
    "O3 = 28\n",
    "O4 = 30\n",
    "O5 = 35\n",
    "O6 = 40\n",
    "O7 = 52\n",
    "O8 = 60\n",
    "O9 = 72\n",
    "O10 = 80\n",
    "x_fijo = [big(0.),big(0.)] \n",
    "tiempo = [-big(3.),big(3.)]\n",
    "delta_t = big(0.125)\n",
    "W1, f1, vec1, val1 = Inestable(estandar6,O1 , x_fijo,tiempo, delta_t);\n",
    "W2, f2, vec2, val2 = Inestable(estandar6,O2 , x_fijo,tiempo, delta_t);\n",
    "W3, f3, vec3, val3 = Inestable(estandar6,O3 , x_fijo,tiempo, delta_t);\n",
    "W4, f4, vec4, val4 = Inestable(estandar6,O4 , x_fijo,tiempo, delta_t);\n",
    "W5, f5, vec5, val5 = Inestable(estandar6,O5 , x_fijo,tiempo, delta_t);\n",
    "W6, f6, vec6, val6 = Inestable(estandar6,O6 , x_fijo,tiempo, delta_t);\n",
    "W7, f7, vec7, val7 = Inestable(estandar6,O7 , x_fijo,tiempo, delta_t);\n",
    "W8, f8, vec8, val8 = Inestable(estandar6,O8 , x_fijo,tiempo, delta_t);\n",
    "W9, f9, vec9, val9 = Inestable(estandar6,O9 , x_fijo,tiempo, delta_t);\n",
    "W10, f10, vec10, val10 = Inestable(estandar6,O10 , x_fijo,tiempo, delta_t);"
   ]
  },
  {
   "cell_type": "code",
   "execution_count": null,
   "metadata": {
    "collapsed": true
   },
   "outputs": [],
   "source": [
    "Tiempo = [big(0.),big(9.)]\n",
    "Error1A = CalculoError(estandar6, W1,f1,Tiempo,big(0.025) );\n",
    "Error2A = CalculoError(estandar6, W2,f2,Tiempo,big(0.025 ));\n",
    "Error3A = CalculoError(estandar6, W3,f3,Tiempo,big(0.025 ));\n",
    "Error4A = CalculoError(estandar6, W4,f4,Tiempo,big(0.025 ));\n",
    "Error5A = CalculoError(estandar6, W5,f5,Tiempo,big(0.025 ));\n",
    "Error6A = CalculoError(estandar6, W6,f6,Tiempo,big(0.025 ));\n",
    "Error7A = CalculoError(estandar6, W7,f7,Tiempo,big(0.025 ));\n",
    "Error8A = CalculoError(estandar6, W8,f8,Tiempo,big(0.025 ));\n",
    "Error9A = CalculoError(estandar6, W9,f9,Tiempo,big(0.025 ));\n",
    "Error10A = CalculoError(estandar6, W10,f10,Tiempo,big(0.025 ));\n",
    "\n"
   ]
  },
  {
   "cell_type": "code",
   "execution_count": null,
   "metadata": {
    "collapsed": true
   },
   "outputs": [],
   "source": [
    "b1=[Float64.(Error1A[1]),Float64.(Error1A[2])];\n",
    "b2=[Float64.(Error2A[1]),Float64.(Error2A[2])];\n",
    "b3=[Float64.(Error3A[1]),Float64.(Error3A[2])];\n",
    "b4=[Float64.(Error4A[1]),Float64.(Error4A[2])];\n",
    "b5=[Float64.(Error5A[1]),Float64.(Error5A[2])];\n",
    "b6=[Float64.(Error6A[1]),Float64.(Error6A[2])];\n",
    "b7=[Float64.(Error7A[1]),Float64.(Error7A[2])];\n",
    "b8=[Float64.(Error8A[1]),Float64.(Error8A[2])];\n",
    "b9=[Float64.(Error9A[1]),Float64.(Error9A[2])];\n",
    "b10=[Float64.(Error10A[1]),Float64.(Error10A[2])];\n",
    "\n",
    "\n",
    "#grid(\"on\")\n",
    "#ylim(-16.,-15.2)\n",
    "#legend(loc=\"low right\",fancybox=\"true\")"
   ]
  },
  {
   "cell_type": "code",
   "execution_count": null,
   "metadata": {
    "collapsed": true
   },
   "outputs": [],
   "source": [
    "plot(b1[1],log10.(b1[2]),marker= \"None\", label=\"$O1\")\n",
    "plot(b2[1],log10.(b2[2]),marker= \"None\", label=\"$O2\")\n",
    "plot(b3[1],log10.(b3[2]),marker= \"None\", label=\"$O3\")\n",
    "plot(b4[1],log10.(b4[2]),marker= \"None\", label=\"$O4\")\n",
    "plot(b5[1],log10.(b5[2]),marker= \"None\", label=\"$O5\")\n",
    "plot(b6[1],log10.(b6[2]),marker= \"None\", label=\"$O6\")\n",
    "plot(b7[1],log10.(b7[2]),marker= \"None\", label=\"$O7\", color=\"orange\")\n",
    "plot(b8[1],log10.(b8[2]),marker= \"None\", label=\"$O8\", color =\"lightgreen\" )\n",
    "plot(b9[1],log10.(b9[2]),marker= \"None\", label=\"$O9\", color=\"royalblue\")\n",
    "plot(b10[1],log10.(b10[2]),marker= \"None\", label=\"$O10\",color=\"pink\")\n",
    "\n",
    "xlabel(\"t\")\n",
    "ylabel(L\"\\log_{10}(E(t))\")\n",
    "title(\"Error\")\n",
    "legend(loc=\"low right\",fancybox=\"true\")"
   ]
  },
  {
   "cell_type": "code",
   "execution_count": null,
   "metadata": {
    "collapsed": true
   },
   "outputs": [],
   "source": [
    "O2 = 20\n",
    "O1 = 10\n",
    "O5 = 30\n",
    "O6 = 40\n",
    "O3 = 25\n",
    "O4 = 28\n",
    "O7 = 60\n",
    "O9 = 90\n",
    "O8 = 80\n",
    "x_fijo = [0.,0.] \n",
    "tiempo = [-3.,3.]\n",
    "delta_t = 0.125\n",
    "V1, h1, vec1, val1 = Estable(estandar1,O1 , x_fijo,tiempo, delta_t); \n",
    "V2, h2, vec2, val2 = Estable(estandar1,O2 , x_fijo,tiempo, delta_t); \n",
    "V3, h3, vec3, val3 = Estable(estandar1,O3 , x_fijo,tiempo, delta_t); \n",
    "V4, h4, vec4, val4 = Estable(estandar1,O4 , x_fijo,tiempo, delta_t); \n",
    "V5, h5, vec5, val5 = Estable(estandar1,O5 , x_fijo,tiempo, delta_t); \n",
    "V6, h6, vec6, val6 = Estable(estandar1,O6 , x_fijo,tiempo, delta_t); \n",
    "V7, h7, vec7, val7 = Estable(estandar1,O7 , x_fijo,tiempo, delta_t); \n",
    "V8, h8, vec8, val8 = Estable(estandar1,O8 , x_fijo,tiempo, delta_t); \n",
    "V9, h9, vec9, val9 = Estable(estandar1,O9 , x_fijo,tiempo, delta_t);"
   ]
  },
  {
   "cell_type": "code",
   "execution_count": null,
   "metadata": {
    "collapsed": true
   },
   "outputs": [],
   "source": [
    "Tiempo = [0.,7.]\n",
    "Error1A = CalculoError(estandar1, V1,h1,Tiempo,0.025 );\n",
    "Error2A = CalculoError(estandar1, V2,h2,Tiempo,0.025 );\n",
    "Error3A = CalculoError(estandar1, V3,h3,Tiempo,0.025 );\n",
    "Error4A = CalculoError(estandar1, V4,h4,Tiempo,0.025 );\n",
    "Error5A = CalculoError(estandar1, V5,h5,Tiempo,0.025 );\n",
    "Error6A = CalculoError(estandar1, V6,h6,Tiempo,0.025 );\n",
    "Error7A = CalculoError(estandar1, V7,h7,Tiempo,0.025 );\n",
    "Error8A = CalculoError(estandar1, V8,h8,Tiempo,0.025 );\n",
    "Error9A = CalculoError(estandar1, V9,h9,Tiempo,0.025 );\n",
    "\n"
   ]
  },
  {
   "cell_type": "code",
   "execution_count": null,
   "metadata": {
    "collapsed": true
   },
   "outputs": [],
   "source": [
    "plot(Error1A[1],log10.(Error1A[2]),marker= \"None\", label=\"$O1\")\n",
    "plot(Error2A[1],log10.(Error2A[2]),marker= \"None\", label=\"$O2\")\n",
    "plot(Error3A[1],log10.(Error3A[2]),marker= \"None\", label=\"$O3\")\n",
    "plot(Error4A[1],log10.(Error4A[2]),marker= \"None\", label=\"$O4\")\n",
    "plot(Error5A[1],log10.(Error5A[2]),marker= \"None\", label=\"$O5\")\n",
    "plot(Error6A[1],log10.(Error6A[2]),marker= \"None\", label=\"$O6\")\n",
    "plot(Error7A[1],log10.(Error7A[2]),marker= \"None\", label=\"$O7\")\n",
    "plot(Error8A[1],log10.(Error8A[2]),marker= \"None\", label=\"$O8\",color=\"orange\")\n",
    "plot(Error9A[1],log10.(Error9A[2]),marker= \"None\", label=\"$O9\",color =\"pink\")\n",
    "xlabel(\"t\")\n",
    "ylabel(L\"\\log_{10}(E(t))\")\n",
    "#title(\"Error\")\n",
    "#grid(\"on\")\n",
    "xlim(0.,9.)\n",
    "ylim(-20,9.)\n",
    "legend(loc=\"lower right\",fancybox=\"true\",markerscale=3)"
   ]
  },
  {
   "cell_type": "code",
   "execution_count": null,
   "metadata": {
    "collapsed": true
   },
   "outputs": [],
   "source": []
  }
 ],
 "metadata": {
  "kernelspec": {
   "display_name": "Julia 0.7.0",
   "language": "julia",
   "name": "julia-0.7"
  },
  "language_info": {
   "file_extension": ".jl",
   "mimetype": "application/julia",
   "name": "julia",
   "version": "0.7.0"
  }
 },
 "nbformat": 4,
 "nbformat_minor": 2
}
