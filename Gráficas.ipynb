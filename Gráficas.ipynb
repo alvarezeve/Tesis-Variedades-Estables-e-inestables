{
 "cells": [
  {
   "cell_type": "markdown",
   "metadata": {},
   "source": [
    "# Gráficas \n"
   ]
  },
  {
   "cell_type": "code",
   "execution_count": 1,
   "metadata": {},
   "outputs": [],
   "source": [
    "using TaylorSeries \n",
    "using PyPlot\n",
    "using LinearAlgebra\n",
    "\n",
    "\n"
   ]
  },
  {
   "cell_type": "code",
   "execution_count": 2,
   "metadata": {},
   "outputs": [
    {
     "data": {
      "text/plain": [
       "3-element Array{String,1}:\n",
       " \"/usr/local/share/julia/site/v0.5\"       \n",
       " \"/usr/share/julia/site/v0.5\"             \n",
       " \"/home/evelyn/Documentos/Tesis/Programas\""
      ]
     },
     "execution_count": 2,
     "metadata": {},
     "output_type": "execute_result"
    }
   ],
   "source": [
    "push!(LOAD_PATH,\"/home/evelyn/Documentos/Tesis/Programas\")"
   ]
  },
  {
   "cell_type": "code",
   "execution_count": 3,
   "metadata": {},
   "outputs": [],
   "source": [
    "\n",
    "using ParametrizacionMetodo"
   ]
  },
  {
   "cell_type": "code",
   "execution_count": 4,
   "metadata": {},
   "outputs": [
    {
     "data": {
      "text/plain": [
       "Henon (generic function with 1 method)"
      ]
     },
     "execution_count": 4,
     "metadata": {},
     "output_type": "execute_result"
    }
   ],
   "source": [
    "function Henon(x,y,a,b)\n",
    "   \n",
    "    x_n = a-b*y-x^2\n",
    "    y_n = x \n",
    "\n",
    "    return [x_n,y_n]\n",
    "end"
   ]
  },
  {
   "cell_type": "code",
   "execution_count": 5,
   "metadata": {},
   "outputs": [
    {
     "data": {
      "text/plain": [
       "evaluar (generic function with 1 method)"
      ]
     },
     "execution_count": 5,
     "metadata": {},
     "output_type": "execute_result"
    }
   ],
   "source": [
    "function evaluar(Tiempo, paso,A,B)\n",
    "    ValX=Float64[]\n",
    "    \n",
    "    ValY=Float64[]\n",
    "\n",
    "    for t = 0:paso:Tiempo\n",
    "        \n",
    "        x = evaluate(A,t)\n",
    "    \n",
    "        y = evaluate(B,t)\n",
    "        \n",
    "        push!(ValX,x)\n",
    "        push!(ValY,y)\n",
    "        \n",
    "    end\n",
    "    return ValX,ValY\n",
    "    \n",
    "end"
   ]
  },
  {
   "cell_type": "code",
   "execution_count": 6,
   "metadata": {},
   "outputs": [
    {
     "data": {
      "text/plain": [
       "Parametro (generic function with 1 method)"
      ]
     },
     "execution_count": 6,
     "metadata": {},
     "output_type": "execute_result"
    }
   ],
   "source": [
    "function Parametro(a)\n",
    "    x1 = -1.+(1.+a)^.5\n",
    "    x2 = -1.-(1.+a)^.5\n",
    "    return x1,x2\n",
    "end"
   ]
  },
  {
   "cell_type": "markdown",
   "metadata": {},
   "source": [
    "### Mapeo de Henon"
   ]
  },
  {
   "cell_type": "code",
   "execution_count": 7,
   "metadata": {},
   "outputs": [],
   "source": [
    "#Henon : Mapeo\n",
    "# 1. : módulo\n",
    "#25 : orden del polinomio\n",
    "# [x2,x2] : punto fijo\n",
    "# a : valor del primer parámetro\n",
    "# 1 : valor del segundo parámetro (b)\n",
    "# 1 o 2 : estable o inestable\n",
    "#50. : Evaluar el error hasta t=50\n",
    "#0.125 : evaluar en pasos de 0.125\n",
    "#Float64 :usar Float64\n",
    "\n",
    "\n",
    "for a in 2.:0.1:8.0\n",
    "    x1,x2=Parametro(a)\n",
    "    \n",
    "    Polinomio1,E1,ValProp1 = MetParametrización(Henon,1., 25, [x2,x2], a, 1., 1, 50., 0.125, Float64)\n",
    "    Polinomio2,E2,ValProp2 = MetParametrización(Henon,1., 25, [x2,x2], a, 1., 2, 50., 0.125, Float64)\n",
    "    V=evaluar(350.7,0.025,Polinomio2[1],Polinomio2[2])\n",
    "    B=evaluar(350.7,0.025,Polinomio1[1],Polinomio1[2])\n",
    "    pygui(true)\n",
    "    plot3D(B[2],B[1],a,zdir=\"z\",color=\"b\",alpha=0.3)\n",
    "    plot3D(V[2],V[1],a,zdir=\"z\",color=\"r\",alpha=0.3)\n",
    "    #xlim(-5,5)\n",
    "    #ylim(-5,5)\n",
    "    zlim(0,8)\n",
    "    xlabel(\"X\")\n",
    "    ylabel(\"Y\")\n",
    "    zlabel(\"Parámetro\")\n",
    "    #title(\"Variedades\")\n",
    "    \n",
    "end\n",
    "    "
   ]
  },
  {
   "cell_type": "markdown",
   "metadata": {
    "collapsed": true
   },
   "source": [
    "### Mapeo de la patada ..."
   ]
  },
  {
   "cell_type": "code",
   "execution_count": 8,
   "metadata": {},
   "outputs": [
    {
     "data": {
      "text/plain": [
       "Rotor (generic function with 1 method)"
      ]
     },
     "execution_count": 8,
     "metadata": {},
     "output_type": "execute_result"
    }
   ],
   "source": [
    "function Rotor(x,y,a,b)\n",
    "   \n",
    "    x_n = x+y\n",
    "    y_n = y+a*(x_n*(x_n-1.)*e^(-x_n))\n",
    "\n",
    "    return [x_n,y_n]\n",
    "end"
   ]
  },
  {
   "cell_type": "code",
   "execution_count": 9,
   "metadata": {
    "collapsed": true
   },
   "outputs": [],
   "source": [
    "#Rotor:Mapeo del artículo \n",
    "#1. : Módulo\n",
    "#25 : orden del polinomio\n",
    "# [1.0,0.0] : Punto fijo\n",
    "# a :valor del parámetro\n",
    "#1. : valor del segundo parámetro(en este caso da igual porque no hay segundo)\n",
    "# 1 o 2: Estable o inestable\n",
    "# 50.: evaluar el error hasta t=50\n",
    "# 0.125 : evaluar en pasos de 0.125\n",
    "#Float64 : calcular con Float64\n",
    "for a in 2.:0.1:8.0\n",
    "    Polinomio1,E1,ValProp1 = MetParametrización(Rotor,1., 25, [1.0,0.0], a, 1., 1, 50., 0.125, Float64)\n",
    "    Polinomio2,E2,ValProp2 = MetParametrización(Rotor,1., 25, [1.0,0.0], a, 1., 2, 50., 0.125, Float64)\n",
    "    V=evaluar(350.7,0.025,Polinomio2[1],Polinomio2[2])\n",
    "    B=evaluar(350.7,0.025,Polinomio1[1],Polinomio1[2])\n",
    "    pygui(true)\n",
    "    plot3D(B[2],B[1],a,zdir=\"z\",color=\"r\",alpha=0.3)\n",
    "    plot3D(V[2],V[1],a,zdir=\"z\",color =\"b\",alpha=0.3)\n",
    "    xlim(-5,5)\n",
    "    ylim(-5,5)\n",
    "    zlim(0,8)\n",
    "    xlabel(\"X\")\n",
    "    ylabel(\"Y\")\n",
    "    zlabel(\"Parámetro\")\n",
    "    #title(\"Variedades\")\n",
    "    \n",
    "end"
   ]
  },
  {
   "cell_type": "markdown",
   "metadata": {
    "collapsed": true
   },
   "source": [
    "## Mapeo estándar"
   ]
  },
  {
   "cell_type": "code",
   "execution_count": null,
   "metadata": {},
   "outputs": [],
   "source": [
    "function EstandarMap(θ,p,k)\n",
    "    x_n = mod([ θ+p, p+k*sin(θ+p) ], 2*pi)\n",
    "    #x_n = mod(θ+p,2*pi)\n",
    "    #y_n = mod(p+k*sin(θ+p),2*pi)\n",
    "    \n",
    "    return x_n\n",
    "    \n",
    "end"
   ]
  },
  {
   "cell_type": "code",
   "execution_count": null,
   "metadata": {
    "collapsed": true
   },
   "outputs": [],
   "source": [
    "for a in 2.:0.1:8.0\n",
    "    Polinomio1,E1,ValProp1 = MetParametrización(EstandarMap,2*pi, 25, [0.0,0.0], a, 1., 1, 50., 0.125, Float64)\n",
    "    Polinomio2,E2,ValProp2 = MetParametrización(EstandarMap,2*pi, 25, [0.0,0.0], a, 1., 2, 50., 0.125, Float64)\n",
    "    V=evaluar(50.7,0.025,Polinomio2[1],Polinomio2[2])\n",
    "    B=evaluar(50.7,0.025,Polinomio1[1],Polinomio1[2])\n",
    "    pygui(true)\n",
    "    plot3D(B[2],B[1],a,zdir=\"z\",color=\"r\",alpha=0.3)\n",
    "    plot3D(V[2],V[1],a,zdir=\"z\",color =\"b\",alpha=0.3)\n",
    "    xlim(-2*pi,2*pi)\n",
    "    ylim(-2*pi,2*pi)\n",
    "    zlim(0,8)\n",
    "    xlabel(\"X\")\n",
    "    ylabel(\"Y\")\n",
    "    zlabel(\"Parámetro\")\n",
    "    #title(\"Variedades\")\n",
    "    \n",
    "end"
   ]
  },
  {
   "cell_type": "code",
   "execution_count": null,
   "metadata": {},
   "outputs": [],
   "source": [
    "a=.3\n",
    "    Polinomio1,E1,ValProp1 = MetParametrización(EstandarMap,2*pi, 25, [0.0,0.0], 0.5, 0.0, 1, 50., 0.125, Float64)\n",
    "    Polinomio2,E2,ValProp2 = MetParametrización(EstandarMap,2*pi, 25, [0.0,0.0], 0.5, 0.0, 2, 50., 0.125, Float64)\n",
    "    V=evaluar(10.7,0.025,Polinomio2[1],Polinomio2[2])\n",
    "    B=evaluar(10.7,0.025,Polinomio1[1],Polinomio1[2])\n",
    "    pygui(true)\n",
    "    plot(B[2],B[1],color=\"r\",alpha=0.3)\n",
    "    plot(V[2],V[1],color =\"b\",alpha=0.3)\n",
    "    xlim(-2*pi,2*pi)\n",
    "    ylim(-2*pi,2*pi)\n",
    "    xlabel(\"X\")\n",
    "    ylabel(\"Y\")"
   ]
  },
  {
   "cell_type": "code",
   "execution_count": null,
   "metadata": {
    "collapsed": true
   },
   "outputs": [],
   "source": []
  },
  {
   "cell_type": "code",
   "execution_count": null,
   "metadata": {
    "collapsed": true
   },
   "outputs": [],
   "source": [
    "MetParametrización(EstandarMap,2*pi, 25, [pi,0], 0.5, 0.0, 2, 2.9, 0.125, Float64)\n",
    "Mapeo,modulo,orden,PuntoFijo,k,l,tipo_v,Tiempo,paso, TipoVariable)"
   ]
  },
  {
   "cell_type": "markdown",
   "metadata": {},
   "source": [
    "## GIF"
   ]
  },
  {
   "cell_type": "code",
   "execution_count": null,
   "metadata": {
    "collapsed": true
   },
   "outputs": [],
   "source": [
    "using PyPlot\n",
    "using PyCall\n",
    "@pyimport matplotlib.animation as anim\n",
    "\n",
    "#Construct Figure and Plot Data\n",
    "fig = figure(\"MyFigure\",figsize=(5,5))\n",
    "ax = axes(xlim = (0,10),ylim=(0,10))\n",
    "global line1 = ax[:plot]([],[],\"r-\")[1]\n",
    "global line2 = ax[:plot]([],[],\"g-\")[1]\n",
    "global line3 = ax[:plot]([],[],\"b-\")[1]\n",
    "\n",
    "# Define the init function, which draws the first frame (empty, in this case)\n",
    "function init()\n",
    "    global line1\n",
    "    global line2\n",
    "    global line3\n",
    "    line1[:set_data]([],[])\n",
    "    line2[:set_data]([],[])\n",
    "    line3[:set_data]([],[])\n",
    "    return (line1,line2,line3,Union{})  # Union{} is the new word for None\n",
    "end\n",
    "\n",
    "# Animate draws the i-th frame, where i starts at i=0 as in Python.\n",
    "function animate(i)\n",
    "    global line1\n",
    "    global line2\n",
    "    global line3\n",
    "    x = (0:i)/10.0\n",
    "    line1[:set_data](x,x)\n",
    "    line2[:set_data](1+x,x)\n",
    "    line3[:set_data](2+x,x)\n",
    "    return (line1,line2,line3,Union{})\n",
    "end\n",
    "\n",
    "# Create the animation object by calling the Python function FuncAnimaton\n",
    "myanim = anim.FuncAnimation(fig, animate, init_func=init, frames=100, interval=20)\n",
    "\n",
    "# Convert it to an MP4 movie file and saved on disk in this format.\n",
    "#myanim[:save](\"3Lines.mp4\", bitrate=-1, extra_args=[\"-vcodec\", \"libx264\", \"-pix_fmt\", \"yuv420p\"])\n",
    "myanim[:save](\"test1.mp4\", bitrate=-1, extra_args=[\"-vcodec\", \"libx264\", \"-pix_fmt\", \"yuv420p\"])\n",
    "    \n",
    "# Function for creating an embedded video given a filename\n",
    "function html_video(filename)\n",
    "    open(filename) do f\n",
    "        base64_video = base64encode(f)\n",
    "        \"\"\"<video controls src=\"data:video/x-m4v;base64,$base64_video\">\"\"\"\n",
    "    end\n",
    "end\n",
    "\n",
    "# Display the movie in a Julia cell as follows. Note it has animation controls for the user.\n",
    "#display(\"text/html\", html_video(\"3Lines.mp4\"))\n",
    "display(\"text/html\", html_video(\"test1.mp4\"))"
   ]
  },
  {
   "cell_type": "markdown",
   "metadata": {},
   "source": [
    "### Ejemplo 2"
   ]
  },
  {
   "cell_type": "code",
   "execution_count": 1,
   "metadata": {},
   "outputs": [
    {
     "name": "stderr",
     "output_type": "stream",
     "text": [
      "sys:1: UserWarning: \n",
      "This call to matplotlib.use() has no effect because the backend has already\n",
      "been chosen; matplotlib.use() must be called *before* pylab, matplotlib.pyplot,\n",
      "or matplotlib.backends is imported for the first time.\n",
      "\n",
      "The backend was *originally* set to 'Qt5Agg' by the following code:\n",
      "  File \"/home/evelyn/.julia/v0.5/Conda/deps/usr/lib/python2.7/site-packages/matplotlib/backends/__init__.py\", line 16, in <module>\n",
      "    line for line in traceback.format_stack()\n",
      "\n",
      "\n"
     ]
    },
    {
     "ename": "LoadError",
     "evalue": "InitError: PyError (:PyImport_ImportModule\n\nThe Python package matplotlib.pyplot could not be found by pyimport. Usually this means\nthat you did not install matplotlib.pyplot in the Python version being used by PyCall.\n\nPyCall is currently configured to use the Julia-specific Python distribution\ninstalled by the Conda.jl package.  To install the matplotlib.pyplot module, you can\nuse `pyimport_conda(\"matplotlib.pyplot\", PKG)`, where PKG is the Anaconda\npackage the contains the module matplotlib.pyplot, or alternatively you can use the\nConda package directly (via `using Conda` followed by `Conda.add` etcetera).\n\nAlternatively, if you want to use a different Python distribution on your\nsystem, such as a system-wide Python (as opposed to the Julia-specific Python),\nyou can re-configure PyCall with that Python.   As explained in the PyCall\ndocumentation, set ENV[\"PYTHON\"] to the path/name of the python executable\nyou want to use, run Pkg.build(\"PyCall\"), and re-launch Julia.\n\n) <type 'exceptions.ImportError'>\nImportError(\"/usr/bin/../lib/x86_64-linux-gnu/libstdc++.so.6: version `CXXABI_1.3.9' not found (required by /home/evelyn/.julia/v0.5/Conda/deps/usr/lib/python2.7/site-packages/matplotlib/_path.so)\",)\n  File \"/home/evelyn/.julia/v0.5/Conda/deps/usr/lib/python2.7/site-packages/matplotlib/pyplot.py\", line 31, in <module>\n    import matplotlib.colorbar\n  File \"/home/evelyn/.julia/v0.5/Conda/deps/usr/lib/python2.7/site-packages/matplotlib/colorbar.py\", line 32, in <module>\n    import matplotlib.artist as martist\n  File \"/home/evelyn/.julia/v0.5/Conda/deps/usr/lib/python2.7/site-packages/matplotlib/artist.py\", line 16, in <module>\n    from .path import Path\n  File \"/home/evelyn/.julia/v0.5/Conda/deps/usr/lib/python2.7/site-packages/matplotlib/path.py\", line 26, in <module>\n    from . import _path, rcParams\n\nduring initialization of module PyPlot",
     "output_type": "error",
     "traceback": [
      "InitError: PyError (:PyImport_ImportModule\n\nThe Python package matplotlib.pyplot could not be found by pyimport. Usually this means\nthat you did not install matplotlib.pyplot in the Python version being used by PyCall.\n\nPyCall is currently configured to use the Julia-specific Python distribution\ninstalled by the Conda.jl package.  To install the matplotlib.pyplot module, you can\nuse `pyimport_conda(\"matplotlib.pyplot\", PKG)`, where PKG is the Anaconda\npackage the contains the module matplotlib.pyplot, or alternatively you can use the\nConda package directly (via `using Conda` followed by `Conda.add` etcetera).\n\nAlternatively, if you want to use a different Python distribution on your\nsystem, such as a system-wide Python (as opposed to the Julia-specific Python),\nyou can re-configure PyCall with that Python.   As explained in the PyCall\ndocumentation, set ENV[\"PYTHON\"] to the path/name of the python executable\nyou want to use, run Pkg.build(\"PyCall\"), and re-launch Julia.\n\n) <type 'exceptions.ImportError'>\nImportError(\"/usr/bin/../lib/x86_64-linux-gnu/libstdc++.so.6: version `CXXABI_1.3.9' not found (required by /home/evelyn/.julia/v0.5/Conda/deps/usr/lib/python2.7/site-packages/matplotlib/_path.so)\",)\n  File \"/home/evelyn/.julia/v0.5/Conda/deps/usr/lib/python2.7/site-packages/matplotlib/pyplot.py\", line 31, in <module>\n    import matplotlib.colorbar\n  File \"/home/evelyn/.julia/v0.5/Conda/deps/usr/lib/python2.7/site-packages/matplotlib/colorbar.py\", line 32, in <module>\n    import matplotlib.artist as martist\n  File \"/home/evelyn/.julia/v0.5/Conda/deps/usr/lib/python2.7/site-packages/matplotlib/artist.py\", line 16, in <module>\n    from .path import Path\n  File \"/home/evelyn/.julia/v0.5/Conda/deps/usr/lib/python2.7/site-packages/matplotlib/path.py\", line 26, in <module>\n    from . import _path, rcParams\n\nduring initialization of module PyPlot",
      "",
      " in pyerr_check at /home/evelyn/.julia/v0.5/PyCall/src/exception.jl:56 [inlined]",
      " in pyerr_check at /home/evelyn/.julia/v0.5/PyCall/src/exception.jl:61 [inlined]",
      " in macro expansion at /home/evelyn/.julia/v0.5/PyCall/src/exception.jl:81 [inlined]",
      " in pyimport(::String) at /home/evelyn/.julia/v0.5/PyCall/src/PyCall.jl:374",
      " in __init__() at /home/evelyn/.julia/v0.5/PyPlot/src/init.jl:184",
      " in _include_from_serialized(::String) at ./loading.jl:150",
      " in _require_from_serialized(::Int64, ::Symbol, ::String, ::Bool) at ./loading.jl:187",
      " in _require_search_from_serialized(::Int64, ::Symbol, ::String, ::Bool) at ./loading.jl:217",
      " in require(::Symbol) at ./loading.jl:371",
      " in include_string(::String, ::String) at ./loading.jl:441"
     ]
    }
   ],
   "source": [
    "using PyCall\n",
    "@pyimport matplotlib.animation as anim\n",
    "using PyPlot\n",
    "\n",
    "function showanim(filename)\n",
    "    base64_video = base64encode(open(filename))\n",
    "    display(\"text/html\", \"\"\"<video controls src=\"data:video/x-m4v;base64,$base64_video\">\"\"\")\n",
    "end\n",
    "\n",
    "A = randn(20,20,20)\n",
    "\n",
    "fig = figure(figsize=(2,2))\n",
    "\n",
    "function make_frame(i)\n",
    "    imshow(A[:,:,i+1],interpolation=\"none\")\n",
    "end\n",
    "\n",
    "withfig(fig) do\n",
    "    myanim = anim.FuncAnimation(fig, make_frame, frames=size(A,3), interval=20)\n",
    "    myanim[:save](\"test2.mp4\", bitrate=-1, extra_args=[\"-vcodec\", \"libx264\", \"-pix_fmt\", \"yuv420p\"])\n",
    "end\n",
    "\n",
    "showanim(\"test2.mp4\")"
   ]
  },
  {
   "cell_type": "markdown",
   "metadata": {},
   "source": [
    "### Ejemplo 3"
   ]
  },
  {
   "cell_type": "code",
   "execution_count": null,
   "metadata": {
    "collapsed": true
   },
   "outputs": [],
   "source": [
    "using PyCall\n",
    "@pyimport matplotlib.animation as anim\n",
    "using PyPlot\n",
    "\n",
    "function showanim(filename)\n",
    "    base64_video = base64encode(open(filename))\n",
    "    display(\"text/html\", \"\"\"<video controls src=\"data:video/x-m4v;base64,$base64_video\">\"\"\")\n",
    "end\n",
    "\n",
    "fig = figure(figsize=(4,4))\n",
    "ax = axes()\n",
    "\n",
    "x = [0:0.01:2pi;]\n",
    "\n",
    "# i=0,1,...,frames-1\n",
    "function animate(i)\n",
    "    clf()\n",
    "    plot(sin.(x+i/10.0))\n",
    "end\n",
    "\n",
    "function init()\n",
    "    plot(x,sin.(x))\n",
    "end\n",
    "\n",
    "withfig(fig) do\n",
    "    myanim = anim.FuncAnimation(fig, animate, frames=200, init_func=init, interval=25, blit=true)\n",
    "    myanim[:save](\"test3.mp4\", bitrate=-1, extra_args=[\"-vcodec\", \"libx264\", \"-pix_fmt\", \"yuv420p\"])\n",
    "end\n",
    "\n",
    "showanim(\"test3.mp4\")"
   ]
  },
  {
   "cell_type": "code",
   "execution_count": 2,
   "metadata": {
    "collapsed": true
   },
   "outputs": [],
   "source": [
    "using PyCall"
   ]
  },
  {
   "cell_type": "code",
   "execution_count": 3,
   "metadata": {
    "collapsed": true
   },
   "outputs": [],
   "source": [
    "@pyimport matplotlib.animation as anim"
   ]
  },
  {
   "cell_type": "code",
   "execution_count": null,
   "metadata": {
    "collapsed": true
   },
   "outputs": [],
   "source": []
  }
 ],
 "metadata": {
  "kernelspec": {
   "display_name": "Julia 0.5.2",
   "language": "julia",
   "name": "julia-0.5"
  },
  "language_info": {
   "file_extension": ".jl",
   "mimetype": "application/julia",
   "name": "julia",
   "version": "0.5.2"
  }
 },
 "nbformat": 4,
 "nbformat_minor": 2
}
