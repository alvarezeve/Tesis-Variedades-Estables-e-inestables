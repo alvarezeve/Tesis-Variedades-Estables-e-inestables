{
 "cells": [
  {
   "cell_type": "markdown",
   "metadata": {
    "collapsed": true
   },
   "source": [
    "## El mapeo de Hénon\n",
    "\n",
    "\n"
   ]
  },
  {
   "cell_type": "code",
   "execution_count": 1,
   "metadata": {},
   "outputs": [],
   "source": [
    "using PyPlot\n",
    "using TaylorSeries\n",
    "using IntervalArithmetic, IntervalRootFinding\n",
    "using ValidatedNumerics\n",
    "using StaticArrays\n",
    "using PyCall\n",
    "using LaTeXStrings\n",
    "@pyimport matplotlib.patches as patch\n",
    "@pyimport numpy as np\n",
    "#@pyimport matplotlib.pyplot as plt"
   ]
  },
  {
   "cell_type": "code",
   "execution_count": 2,
   "metadata": {},
   "outputs": [
    {
     "data": {
      "text/plain": [
       "4-element Array{String,1}:\n",
       " \"@\"                                          \n",
       " \"@v#.#\"                                      \n",
       " \"@stdlib\"                                    \n",
       " \"/home/evelyn/Documentos/Tesis/Programas/IPM\""
      ]
     },
     "execution_count": 2,
     "metadata": {},
     "output_type": "execute_result"
    }
   ],
   "source": [
    "push!(LOAD_PATH,\"/home/evelyn/Documentos/Tesis/Programas/IPM\")"
   ]
  },
  {
   "cell_type": "code",
   "execution_count": 3,
   "metadata": {},
   "outputs": [],
   "source": [
    "using ParametrizacionMetodo\n",
    "using mapeos"
   ]
  },
  {
   "cell_type": "code",
   "execution_count": 4,
   "metadata": {},
   "outputs": [
    {
     "data": {
      "text/plain": [
       "evaluar (generic function with 1 method)"
      ]
     },
     "execution_count": 4,
     "metadata": {},
     "output_type": "execute_result"
    }
   ],
   "source": [
    "function evaluar(A,Tiempo,paso,PuntoFijo,col)\n",
    "    ValX=Float64[]\n",
    "    ValY=Float64[]\n",
    "    #push!(ValX, PuntoFijo[1]) \n",
    "    #push!(ValY, PuntoFijo[2])\n",
    "    \n",
    "    for t = Tiempo[1]:paso:Tiempo[2]\n",
    "        x = A[1](t)\n",
    "        y = A[2](t)\n",
    "        \n",
    "        push!(ValX,x)\n",
    "        push!(ValY,y)\n",
    "        \n",
    "    end\n",
    "    p = plot(ValX,ValY,linestyle=\"-\",marker =\",\",color=col)\n",
    "    title(\"espacio fase\")\n",
    "    xlabel(L\"x\")\n",
    "    ylabel(L\"y\")\n",
    "    return ValX,ValY\n",
    "    \n",
    "end"
   ]
  },
  {
   "cell_type": "code",
   "execution_count": 5,
   "metadata": {},
   "outputs": [
    {
     "data": {
      "text/plain": [
       "parametro (generic function with 1 method)"
      ]
     },
     "execution_count": 5,
     "metadata": {},
     "output_type": "execute_result"
    }
   ],
   "source": [
    "function parametro(a)\n",
    "    x1 = -1. + (1. + a)^.5\n",
    "    x2 = -1. - (1. + a)^.5\n",
    "    return [x2,x2]\n",
    "end\n",
    "    "
   ]
  },
  {
   "cell_type": "markdown",
   "metadata": {},
   "source": [
    "### Calcuramos las parametrizaciones de las variedades estable e inestable para diferentes valores del parámetro `a`, redefiniendo unas nuevas funciones para cada valor diferente, ya que el metodo recibe funciones cuyos argumentos son solo las corrdenadas de un punto. El punto fijo lo calculamos con la función parametro la cual recibe el valor de `a` y regresa el punto fijo asociado."
   ]
  },
  {
   "cell_type": "markdown",
   "metadata": {},
   "source": [
    "## a=1.5"
   ]
  },
  {
   "cell_type": "code",
   "execution_count": 80,
   "metadata": {},
   "outputs": [
    {
     "data": {
      "text/plain": [
       "(-10, 10)"
      ]
     },
     "execution_count": 80,
     "metadata": {},
     "output_type": "execute_result"
    }
   ],
   "source": [
    "a=1.5\n",
    "henon1(x,y)=Henon(x,y,a,1.)\n",
    "henonI1(x,y)=HenonI(x,y,a,1.)\n",
    "punto1 = parametro(a)\n",
    "\n",
    "\n",
    "Orden = 105\n",
    "tiempo = [0.,3.5]\n",
    "delta_t = 0.125\n",
    "Wu1,fu1,vecu1,valu1 = Inestable(henon1,Orden ,punto1,tiempo, delta_t);\n",
    "Ws1,fs1,vecs1,vals1 = Inestable(henonI1, Orden , punto1, tiempo, delta_t);\n",
    "\n",
    "\n",
    "pygui(true)\n",
    "figure(1)\n",
    "evaluar(Wu1, [0.,900.], 0.025, punto1, \"royalblue\")\n",
    "evaluar(Ws1, [0.,-900], -0.025, punto1, \"orangered\")\n",
    "scatter([punto1[1]],[punto1[2]],color=\"lawngreen\")\n",
    "xlim(-10,10)\n",
    "ylim(-10,10)\n"
   ]
  },
  {
   "cell_type": "code",
   "execution_count": 81,
   "metadata": {},
   "outputs": [
    {
     "data": {
      "text/plain": [
       "PyObject <matplotlib.legend.Legend object at 0x7f52c94a3cc0>"
      ]
     },
     "execution_count": 81,
     "metadata": {},
     "output_type": "execute_result"
    }
   ],
   "source": [
    "tiem = [0.,1000.]\n",
    "ErrorI_O20 = CalculoError(henon1, Wu1,fu1,tiem,0.025 );\n",
    "ErrorE_O20 = CalculoError(henonI1, Ws1,fs1,tiem,0.025 );\n",
    "\n",
    "\n",
    "plot(ErrorI_O20[1],log10.(ErrorI_O20[2]),marker= \"None\", label=L\"W_{f}^{u}\",color=\"royalblue\")\n",
    "plot(ErrorE_O20[1],log10.(ErrorE_O20[2]),marker= \"None\", label=L\"W_{f^{-1}}^{u}=W^{s}\",color=\"orangered\")\n",
    "\n",
    "xlabel(\"t\")\n",
    "ylabel(L\"$log(E(t))$\")\n",
    "title(\"error\")\n",
    "legend(loc=\"lower right\",fancybox=\"true\" )"
   ]
  },
  {
   "cell_type": "code",
   "execution_count": 8,
   "metadata": {},
   "outputs": [
    {
     "data": {
      "text/plain": [
       "PyObject <matplotlib.legend.Legend object at 0x7f52d92f07b8>"
      ]
     },
     "execution_count": 8,
     "metadata": {},
     "output_type": "execute_result"
    }
   ],
   "source": [
    "ConverU1=Convergencia(Wu1[1],Wu1[2])#Convergencia segun Hadamard\n",
    "ConverS1=Convergencia(Ws1[1],Ws1[2])\n",
    "\n",
    "\n",
    "Ca1=[Float64.(log10(abs(ConverU1[1][i]))) for i in 1:length(ConverU1[1])-1]\n",
    "Cb1=[Float64.(log10(abs(ConverS1[1][i]))) for i in 1:length(ConverS1[1])]\n",
    "\n",
    "subplot(2,1,1)\n",
    "plot(Ca1,marker=\".\",label=L\"W^{u}_{x}\",color=\"royalblue\")\n",
    "#xlabel(L\"n\")\n",
    "ylabel(L\"log(|\\frac{a_{n+1}}{a_{n}}|)\")\n",
    "legend(loc=\"low right\",fancybox=\"true\" )\n",
    "\n",
    "subplot(2,1,2)\n",
    "plot(Cb1,marker=\".\",label=L\"W^{s}_{x}\",color=\"orangered\")\n",
    "xlabel(L\"n\")\n",
    "ylabel(L\"log(|\\frac{a_{n+1}}{a_{n}}|)\")\n",
    "legend(loc=\"upper right\",fancybox=\"true\" )\n"
   ]
  },
  {
   "cell_type": "markdown",
   "metadata": {},
   "source": [
    "## a=1.5 con presision extendida"
   ]
  },
  {
   "cell_type": "code",
   "execution_count": null,
   "metadata": {},
   "outputs": [],
   "source": [
    "a= parse(BigFloat,\"1.5\")\n",
    "b=parse(BigFloat,\"1.\")\n",
    "henon2(x,y)=Henon(x,y,a,b)\n",
    "henonI2(x,y)=HenonI(x,y,a,b)\n",
    "punto2 = parametro(a)\n",
    "\n",
    "Orden = 45\n",
    "tiempo = [big(0.),big(3.)]\n",
    "delta_t = big(0.125)\n",
    "Wu2,fu2,vecu2,valu2 = Inestable(henon2,Orden ,punto2,tiempo, delta_t);\n",
    "Ws2,fs2,vecs2,vals2 = Inestable(henonI2, Orden , punto2, tiempo, delta_t);\n",
    "\n",
    "pygui(false)\n",
    "figure(1)\n",
    "evaluar(Wu1, [big(0.),big(900.)], big(0.025), punto1, \"royalblue\")\n",
    "evaluar(Ws1, [big(-900.),big(10.)], big(0.025), punto1, \"orangered\")\n",
    "xlim(-10,10)\n",
    "ylim(-10,10)\n"
   ]
  },
  {
   "cell_type": "code",
   "execution_count": null,
   "metadata": {},
   "outputs": [],
   "source": [
    "tiem = [0.,big(1000.)]\n",
    "ErrorU2 = CalculoError(henon2, Wu2,fu2,tiem,big(0.025 ));\n",
    "ErrorS2 = CalculoError(henonI2, Ws2,fs2,tiem,big(0.025 ));\n",
    "ErrorU2 = [Float64.(ErrorU2[1]),Float64.(ErrorU2[2])]\n",
    "ErrorS2 = [Float64.(ErrorS2[1]),Float64.(ErrorS2[2])]\n",
    "\n",
    "plot(ErrorU2[1],log10.(ErrorU2[2]),marker= \"None\", label=L\"W_{f}^{u}\",color=\"royalblue\")\n",
    "plot(ErrorS2[1],log10.(ErrorS2[2]),marker= \"None\", label=L\"W_{f^{-1}}^{u}=W^{s}\",color=\"orangered\")\n",
    "\n",
    "xlabel(\"t\")\n",
    "ylabel(L\"$log_{10}(E(t))$\")\n",
    "title(\"Error\")\n",
    "legend(loc=\"lower right\",fancybox=\"true\" )"
   ]
  },
  {
   "cell_type": "code",
   "execution_count": null,
   "metadata": {},
   "outputs": [],
   "source": [
    "ConverU2"
   ]
  },
  {
   "cell_type": "markdown",
   "metadata": {},
   "source": [
    "###  a=0.7"
   ]
  },
  {
   "cell_type": "code",
   "execution_count": null,
   "metadata": {},
   "outputs": [],
   "source": [
    "a3 = 0.7\n",
    "henon3(x,y) = Henon(x,y,a3,1.)\n",
    "henonI3(x,y) = HenonI(x,y,a3,1.)\n",
    "punto3 = parametro(a3)\n",
    "\n",
    "Orden3 = 50\n",
    "tiempo = [0.,4.]\n",
    "delta_t = 0.125\n",
    "Wu3, fu3, vecu3, valu3= Inestable(henon3, Orden3, punto3, tiempo, delta_t);\n",
    "Ws3, fs3, vecs3, vals3 = Inestable(henonI3, Orden3 , punto3, tiempo, delta_t);\n",
    "\n",
    "pygui(true)\n",
    "evaluar(Wu3, [0.,800.], 0.025, punto3,\"royalblue\")\n",
    "evaluar(Ws3, [0.,-800.], -0.025, punto3,\"orangered\")\n",
    "scatter([punto3[1]],[punto3[2]],color=\"lawngreen\")\n",
    "xlim(-5,5)\n",
    "ylim(-5,5)"
   ]
  },
  {
   "cell_type": "code",
   "execution_count": null,
   "metadata": {
    "scrolled": true
   },
   "outputs": [],
   "source": [
    "tiem = [0.,1000.]\n",
    "ErrorU3 = CalculoError(henon3, Wu3,fu3,tiem,0.025 );\n",
    "ErrorS3 = CalculoError(henonI3, Ws3,fs3,tiem,0.025 );\n",
    "\n",
    "plot(ErrorU3[1],log10.(ErrorU3[2]),marker= \"None\", label=L\"W_{f}^{u}\",color=\"royalblue\")\n",
    "plot(ErrorS3[1],log10.(ErrorS3[2]),marker= \"None\", label=L\"W_{f^{-1}}^{u}=W^{s}\",color=\"orangered\")\n",
    "\n",
    "xlabel(\"t\")\n",
    "ylabel(L\"\\log(E(t))\")\n",
    "title(\"error\")\n",
    "#grid(\"on\")\n",
    "legend(loc=\"lower right\",fancybox=\"true\" )"
   ]
  },
  {
   "cell_type": "markdown",
   "metadata": {},
   "source": [
    "### a=6.5"
   ]
  },
  {
   "cell_type": "code",
   "execution_count": null,
   "metadata": {},
   "outputs": [],
   "source": [
    "a4=6.5\n",
    "henon4(x,y)=Henon(x,y,a4,1.)\n",
    "henonI4(x,y)=HenonI(x,y,a4,1.)\n",
    "punto4 = parametro(a4)\n",
    "\n",
    "Orden4 = 78\n",
    "tiempo = [0.,4.]\n",
    "delta_t = 0.125\n",
    "Wu4, fu4, vecu4, valu4 = Inestable(henon4, Orden4, punto4, tiempo, delta_t);\n",
    "Ws4, fs4, vecs4, vals4 = Inestable(henonI4, Orden4 , punto4, tiempo, delta_t);\n",
    "\n",
    "pygui(true)\n",
    "evaluar(Wu4, [0.,4300.], 0.025, punto4,\"royalblue\")\n",
    "evaluar(Ws4, [0.,-4300.], -0.025, punto4,\"orangered\")\n",
    "scatter([punto4[1]],[punto4[2]],color=\"lawngreen\")\n",
    "xlim(-10,10)\n",
    "ylim(-10,10)"
   ]
  },
  {
   "cell_type": "code",
   "execution_count": null,
   "metadata": {
    "scrolled": true
   },
   "outputs": [],
   "source": [
    "tiem = [0.,5000.]\n",
    "ErrorU4 = CalculoError(henon4, Wu4,fu4,tiem,0.025 );\n",
    "ErrorS4 = CalculoError(henonI4, Ws4,fs4,tiem,0.025 );\n",
    "\n",
    "\n",
    "plot(ErrorU4[1],log10.(ErrorU4[2]),marker= \"None\", label=L\"W_{f}^{u}\",color=\"royalblue\")\n",
    "plot(ErrorS4[1],log10.(ErrorS4[2]),marker= \"None\", label=L\"W_{f^{-1}}^{u}=W^{s}\",color=\"orangered\")\n",
    "\n",
    "xlabel(\"t\")\n",
    "ylabel(L\"\\log(E(t))\")\n",
    "title(\"error\")\n",
    "#grid(\"on\")\n",
    "legend(loc=\"lower right\",fancybox=\"true\" )"
   ]
  },
  {
   "cell_type": "markdown",
   "metadata": {},
   "source": [
    "# Encontrando puntos homoclínicos"
   ]
  },
  {
   "cell_type": "markdown",
   "metadata": {},
   "source": [
    "Para encontrar puntos homoclinicos definimos la funcion que genera el polinomio de la resta de las variedades"
   ]
  },
  {
   "cell_type": "code",
   "execution_count": 82,
   "metadata": {},
   "outputs": [
    {
     "data": {
      "text/plain": [
       "Interseccion (generic function with 1 method)"
      ]
     },
     "execution_count": 82,
     "metadata": {},
     "output_type": "execute_result"
    }
   ],
   "source": [
    "function Interseccion(p,U,S)\n",
    "    (x,y)=p\n",
    "    V= SVector( U[1](x)-S[1](y), U[2](x)-S[2](y) )\n",
    "    \n",
    "end"
   ]
  },
  {
   "cell_type": "markdown",
   "metadata": {},
   "source": [
    "Definimos un intervalo donde se buscara la raiz."
   ]
  },
  {
   "cell_type": "code",
   "execution_count": 83,
   "metadata": {},
   "outputs": [
    {
     "data": {
      "text/plain": [
       "Inter4 (generic function with 1 method)"
      ]
     },
     "execution_count": 83,
     "metadata": {},
     "output_type": "execute_result"
    }
   ],
   "source": [
    "Inter4(p)=Interseccion(p,Wu1,Ws1)"
   ]
  },
  {
   "cell_type": "code",
   "execution_count": 84,
   "metadata": {},
   "outputs": [],
   "source": [
    "X = (0.0..300.0)×(-300.0..0.) # 2D IntervalBox;"
   ]
  },
  {
   "cell_type": "markdown",
   "metadata": {},
   "source": [
    "Revisamos que en el intervalo propuesto haya interseccion."
   ]
  },
  {
   "cell_type": "code",
   "execution_count": 85,
   "metadata": {},
   "outputs": [
    {
     "data": {
      "text/plain": [
       "2-element SArray{Tuple{2},Interval{Float64},1,2}:\n",
       " [-40431.4, 36556.4]\n",
       " [-36556.4, 40431.4]"
      ]
     },
     "execution_count": 85,
     "metadata": {},
     "output_type": "execute_result"
    }
   ],
   "source": [
    "Inter4(X)"
   ]
  },
  {
   "cell_type": "markdown",
   "metadata": {},
   "source": [
    "Calculamos las raices usando la funcion `roots`"
   ]
  },
  {
   "cell_type": "code",
   "execution_count": 70,
   "metadata": {},
   "outputs": [
    {
     "data": {
      "text/plain": [
       "8-element Array{Root{IntervalBox{2,Float64}},1}:\n",
       " Root([166.749, 166.75] × [-1.36597, -1.36596], :unique) \n",
       " Root([129.577, 129.578] × [-5.26555, -5.26554], :unique)\n",
       " Root([33.6142, 33.6143] × [-6.77613, -6.77612], :unique)\n",
       " Root([0, 4.55832e-06] × [-5.45066e-06, 0], :unknown)    \n",
       " Root([26.1207, 26.1208] × [-26.1208, -26.1207], :unique)\n",
       " Root([6.77612, 6.77613] × [-33.6143, -33.6142], :unique)\n",
       " Root([5.26554, 5.26555] × [-129.578, -129.577], :unique)\n",
       " Root([1.36596, 1.36597] × [-166.75, -166.749], :unique) "
      ]
     },
     "execution_count": 70,
     "metadata": {},
     "output_type": "execute_result"
    }
   ],
   "source": [
    "r=roots(Inter4,X,Newton,1e-5)"
   ]
  },
  {
   "cell_type": "markdown",
   "metadata": {},
   "source": [
    "Las visualizamos en el espacio fase"
   ]
  },
  {
   "cell_type": "code",
   "execution_count": 71,
   "metadata": {},
   "outputs": [
    {
     "data": {
      "text/plain": [
       "PyObject <matplotlib.legend.Legend object at 0x7f52ca0f2518>"
      ]
     },
     "execution_count": 71,
     "metadata": {},
     "output_type": "execute_result"
    }
   ],
   "source": [
    "pygui(true)\n",
    "evaluar(Wu1, [0.,200.12], 0.025, punto1,\"orangered\")\n",
    "evaluar(Ws1, [-0.,-200.12], -0.025, punto1,\"royalblue\")\n",
    "#colores=[\"gold\",\"darkorange\",\"seagreen\",\"deepskyblue\",\"pink\",\"r\",\"dodgerblue\",\"hotpink\"]\n",
    "nombres=[L\"$\\alpha$\",L\"$\\beta$\",L\"$\\gamma$\",L\"$\\delta$\",L\"$\\phi$\",L\"$\\rho$\",L\"$\\psi$\",L\"$\\eta$\",L\"$\\omega$\"]\n",
    "for ind in eachindex(r)\n",
    "    plot(Wu1[1].([r[ind].interval[1].lo, r[ind].interval[1].hi]), \n",
    "         Wu1[2].([r[ind].interval[1].lo, r[ind].interval[1].hi]),\"o\",label=nombres[ind])#,color=colores[ind])\n",
    "end\n",
    "xlim(-7.5,7.5)\n",
    "ylim(-7.5,7.5)\n",
    "legend(loc=\"lower right\",fancybox=\"true\" )\n"
   ]
  },
  {
   "cell_type": "markdown",
   "metadata": {},
   "source": [
    "Para ver de cerca los intervalos donde se encuentran las intersecciones hacemos lo siguiente."
   ]
  },
  {
   "cell_type": "code",
   "execution_count": 89,
   "metadata": {},
   "outputs": [
    {
     "data": {
      "text/plain": [
       "PyObject Text(0.5,1,'$\\\\beta$')"
      ]
     },
     "execution_count": 89,
     "metadata": {},
     "output_type": "execute_result"
    }
   ],
   "source": [
    "\n",
    "delta1 = diam(r[1].interval[1])/1000\n",
    "delta2 = diam(r[1].interval[2])/1000\n",
    "pygui(true)\n",
    "cfig = figure()\n",
    "\n",
    "Wx=[Wu1[1](r[1].interval[1].lo),Ws1[1](r[1].interval[2].hi),Wu1[1](r[1].interval[1].hi),Ws1[1](r[1].interval[2].lo)]\n",
    "Wy=[Wu1[2](r[1].interval[1].lo),Ws1[2](r[1].interval[2].hi),Wu1[2](r[1].interval[1].hi),Ws1[2](r[1].interval[2].lo)]\n",
    "fill(Wx,Wy,color=\"skyblue\",alpha=0.3)\n",
    "\n",
    "evaluar(Wu1, [r[1].interval[1].lo-2000delta2,r[1].interval[1].hi+2000delta2], delta1, punto1,\"orangered\")\n",
    "evaluar(Ws1, [r[1].interval[2].lo-2000delta2,r[1].interval[2].hi+2000delta2], delta2 , punto1,\"royalblue\")\n",
    "title(L\"\\alpha\")\n",
    "\n"
   ]
  },
  {
   "cell_type": "code",
   "execution_count": 73,
   "metadata": {},
   "outputs": [
    {
     "data": {
      "text/plain": [
       "PyObject Text(0.5,1,'$\\\\beta$')"
      ]
     },
     "execution_count": 73,
     "metadata": {},
     "output_type": "execute_result"
    }
   ],
   "source": [
    "delta1 = diam(r[2].interval[1])/1000\n",
    "delta2 = diam(r[2].interval[2])/1000\n",
    "pygui(true)\n",
    "cfig = figure()\n",
    "\n",
    "Wx=[Wu1[1](r[2].interval[1].lo),Ws1[1](r[2].interval[2].hi),Wu1[1](r[2].interval[1].hi),Ws1[1](r[2].interval[2].lo)]\n",
    "Wy=[Wu1[2](r[2].interval[1].lo),Ws1[2](r[2].interval[2].hi),Wu1[2](r[2].interval[1].hi),Ws1[2](r[2].interval[2].lo)]\n",
    "fill(Wx,Wy,color=\"skyblue\",alpha=0.3)\n",
    "\n",
    "evaluar(Wu1, [r[2].interval[1].lo-2000delta2,r[2].interval[1].hi+1000delta2], delta1, punto1,\"orangered\")\n",
    "evaluar(Ws1, [r[2].interval[2].lo-2000delta2,r[2].interval[2].hi+2000delta2], delta2 , punto1,\"royalblue\")\n",
    "title(L\"\\beta\")\n"
   ]
  },
  {
   "cell_type": "code",
   "execution_count": 74,
   "metadata": {},
   "outputs": [
    {
     "data": {
      "text/plain": [
       "PyObject Text(0.5,1,'$\\\\gamma$')"
      ]
     },
     "execution_count": 74,
     "metadata": {},
     "output_type": "execute_result"
    }
   ],
   "source": [
    "delta1 = diam(r[3].interval[1])/1000\n",
    "delta2 = diam(r[3].interval[2])/1000\n",
    "pygui(true)\n",
    "cfig = figure()\n",
    "\n",
    "Wx=[Wu1[1](r[3].interval[1].lo),Ws1[1](r[3].interval[2].hi),Wu1[1](r[3].interval[1].hi),Ws1[1](r[3].interval[2].lo)]\n",
    "Wy=[Wu1[2](r[3].interval[1].lo),Ws1[2](r[3].interval[2].hi),Wu1[2](r[3].interval[1].hi),Ws1[2](r[3].interval[2].lo)]\n",
    "fill(Wx,Wy,color=\"skyblue\",alpha=0.3)\n",
    "\n",
    "evaluar(Wu1, [r[3].interval[1].lo-2000delta2,r[3].interval[1].hi+1000delta2], delta1, punto1,\"orangered\")\n",
    "evaluar(Ws1, [r[3].interval[2].lo-2000delta2,r[3].interval[2].hi+2000delta2], delta2 , punto1,\"royalblue\")\n",
    "title(L\"\\gamma\")"
   ]
  },
  {
   "cell_type": "code",
   "execution_count": 75,
   "metadata": {},
   "outputs": [
    {
     "data": {
      "text/plain": [
       "PyObject Text(0.5,1,'$\\\\delta$')"
      ]
     },
     "execution_count": 75,
     "metadata": {},
     "output_type": "execute_result"
    }
   ],
   "source": [
    "delta1 = diam(r[4].interval[1])/1000\n",
    "delta2 = diam(r[4].interval[2])/1000\n",
    "pygui(true)\n",
    "cfig = figure()\n",
    "\n",
    "Wx=[Wu1[1](r[4].interval[1].lo),Ws1[1](r[4].interval[2].hi),Wu1[1](r[4].interval[1].hi),Ws1[1](r[4].interval[2].lo)]\n",
    "Wy=[Wu1[2](r[4].interval[1].lo),Ws1[2](r[4].interval[2].hi),Wu1[2](r[4].interval[1].hi),Ws1[2](r[4].interval[2].lo)]\n",
    "fill(Wx,Wy,color=\"skyblue\",alpha=0.3)\n",
    "\n",
    "evaluar(Wu1, [r[4].interval[1].lo-2000delta2,r[4].interval[1].hi+1000delta2], delta1, punto1,\"orangered\")\n",
    "evaluar(Ws1, [r[4].interval[2].lo-2000delta2,r[4].interval[2].hi+2000delta2], delta2 , punto1,\"royalblue\")\n",
    "title(L\"\\delta\")"
   ]
  },
  {
   "cell_type": "code",
   "execution_count": 76,
   "metadata": {},
   "outputs": [
    {
     "data": {
      "text/plain": [
       "PyObject Text(0.5,1,'$\\\\phi$')"
      ]
     },
     "execution_count": 76,
     "metadata": {},
     "output_type": "execute_result"
    }
   ],
   "source": [
    "delta1 = diam(r[5].interval[1])/1000\n",
    "delta2 = diam(r[5].interval[2])/1000\n",
    "pygui(true)\n",
    "cfig = figure()\n",
    "\n",
    "Wx=[Wu1[1](r[5].interval[1].lo),Ws1[1](r[5].interval[2].hi),Wu1[1](r[5].interval[1].hi),Ws1[1](r[5].interval[2].lo)]\n",
    "Wy=[Wu1[2](r[5].interval[1].lo),Ws1[2](r[5].interval[2].hi),Wu1[2](r[5].interval[1].hi),Ws1[2](r[5].interval[2].lo)]\n",
    "fill(Wx,Wy,color=\"skyblue\",alpha=0.3)\n",
    "\n",
    "evaluar(Wu1, [r[5].interval[1].lo-2000delta2,r[5].interval[1].hi+1000delta2], delta1, punto1,\"orangered\")\n",
    "evaluar(Ws1, [r[5].interval[2].lo-2000delta2,r[5].interval[2].hi+2000delta2], delta2 , punto1,\"royalblue\")\n",
    "title(L\"\\phi\")"
   ]
  },
  {
   "cell_type": "code",
   "execution_count": 77,
   "metadata": {},
   "outputs": [
    {
     "data": {
      "text/plain": [
       "PyObject Text(0.5,1,'$\\\\rho$')"
      ]
     },
     "execution_count": 77,
     "metadata": {},
     "output_type": "execute_result"
    }
   ],
   "source": [
    "delta1 = diam(r[6].interval[1])/1000\n",
    "delta2 = diam(r[6].interval[2])/1000\n",
    "pygui(true)\n",
    "cfig = figure()\n",
    "\n",
    "Wx=[Wu1[1](r[6].interval[1].lo),Ws1[1](r[6].interval[2].hi),Wu1[1](r[6].interval[1].hi),Ws1[1](r[6].interval[2].lo)]\n",
    "Wy=[Wu1[2](r[6].interval[1].lo),Ws1[2](r[6].interval[2].hi),Wu1[2](r[6].interval[1].hi),Ws1[2](r[6].interval[2].lo)]\n",
    "fill(Wx,Wy,color=\"skyblue\",alpha=0.3)\n",
    "\n",
    "evaluar(Wu1, [r[6].interval[1].lo-2000delta2,r[6].interval[1].hi+1000delta2], delta1, punto1,\"orangered\")\n",
    "evaluar(Ws1, [r[6].interval[2].lo-2000delta2,r[6].interval[2].hi+2000delta2], delta2 , punto1,\"royalblue\")\n",
    "title(L\"\\rho\")"
   ]
  },
  {
   "cell_type": "code",
   "execution_count": 78,
   "metadata": {},
   "outputs": [
    {
     "data": {
      "text/plain": [
       "PyObject Text(0.5,1,'$\\\\psi$')"
      ]
     },
     "execution_count": 78,
     "metadata": {},
     "output_type": "execute_result"
    }
   ],
   "source": [
    "delta1 = diam(r[7].interval[1])/1000\n",
    "delta2 = diam(r[7].interval[2])/1000\n",
    "pygui(true)\n",
    "cfig = figure()\n",
    "\n",
    "Wx=[Wu1[1](r[7].interval[1].lo),Ws1[1](r[7].interval[2].hi),Wu1[1](r[7].interval[1].hi),Ws1[1](r[7].interval[2].lo)]\n",
    "Wy=[Wu1[2](r[7].interval[1].lo),Ws1[2](r[7].interval[2].hi),Wu1[2](r[7].interval[1].hi),Ws1[2](r[7].interval[2].lo)]\n",
    "fill(Wx,Wy,color=\"skyblue\",alpha=0.3)\n",
    "\n",
    "evaluar(Wu1, [r[7].interval[1].lo-1000delta2,r[7].interval[1].hi+1000delta2], delta1, punto1,\"orangered\")\n",
    "evaluar(Ws1, [r[7].interval[2].lo-4000delta2,r[7].interval[2].hi+4000delta2], delta2 , punto1,\"royalblue\")\n",
    "title(L\"\\psi\")"
   ]
  },
  {
   "cell_type": "code",
   "execution_count": 87,
   "metadata": {},
   "outputs": [
    {
     "data": {
      "text/plain": [
       "PyObject Text(0.5,1,'$\\\\eta$')"
      ]
     },
     "execution_count": 87,
     "metadata": {},
     "output_type": "execute_result"
    }
   ],
   "source": [
    "delta1 = diam(r[8].interval[1])/1000\n",
    "delta2 = diam(r[8].interval[2])/1000\n",
    "pygui(true)\n",
    "cfig = figure()\n",
    "\n",
    "Wx=[Wu1[1](r[8].interval[1].lo),Ws1[1](r[8].interval[2].hi),Wu1[1](r[8].interval[1].hi),Ws1[1](r[8].interval[2].lo)]\n",
    "Wy=[Wu1[2](r[8].interval[1].lo),Ws1[2](r[8].interval[2].hi),Wu1[2](r[8].interval[1].hi),Ws1[2](r[8].interval[2].lo)]\n",
    "fill(Wx,Wy,color=\"skyblue\",alpha=0.3)\n",
    "\n",
    "evaluar(Wu1, [r[8].interval[1].lo-5000delta2,r[8].interval[1].hi+5000delta2], delta1, punto1,\"orangered\")\n",
    "evaluar(Ws1, [r[8].interval[2].lo-5000delta2,r[8].interval[2].hi+5000delta2], delta2 , punto1,\"royalblue\")\n",
    "title(L\"\\eta\")"
   ]
  },
  {
   "cell_type": "code",
   "execution_count": null,
   "metadata": {},
   "outputs": [],
   "source": [
    "#fill([intervaloX.lo,intervaloX.hi,intervaloX.hi,intervaloX.lo],\n",
    "#    [intervaloY.lo,intervaloY.lo,intervaloY.hi,intervaloY.hi],color=\"cyan\", alpha=0.3)\n",
    "listaSX=[Wu1[1](x) for x in r[1].interval[1].lo-2delta2:delta1/50.:r[1].interval[1].hi+2delta2]\n",
    "listaSY=[Wu1[2](x) for x in r[1].interval[1].lo-2delta2:delta1/50.:r[1].interval[1].hi+2delta2]\n",
    "listaUX=[Ws1[1](x) for x in r[1].interval[2].lo-2delta2:delta1/50.:r[1].interval[2].hi+2delta2]\n",
    "listaUY=[Ws1[2](x) for x in r[1].interval[2].lo-2delta2:delta1/50.:r[1].interval[2].hi+2delta2]\n",
    "plot([listaSX,listaSY],linestyle=\"-\",marker=\",\",color=\"orangered\")\n",
    "plot([listaUX,listaUY],linestyle=\"-\",marker=\",\",color=\"royalblue\")\n",
    "\n",
    "\n",
    "#evaluar(Wu1, [r[1].interval[1].lo-2delta2,r[1].interval[1].hi+2delta2], delta1, punto1,\"orangered\")\n",
    "#evaluar(Ws1, [r[1].interval[2].lo-2delta2,r[1].interval[2].hi+2delta2], delta2 , punto1,\"royalblue\")"
   ]
  },
  {
   "cell_type": "code",
   "execution_count": 22,
   "metadata": {},
   "outputs": [
    {
     "ename": "ArgumentError",
     "evalue": "ArgumentError: Package matplotlib not found in current path:\n- Run `import Pkg; Pkg.add(\"matplotlib\")` to install the matplotlib package.\n",
     "output_type": "error",
     "traceback": [
      "ArgumentError: Package matplotlib not found in current path:\n- Run `import Pkg; Pkg.add(\"matplotlib\")` to install the matplotlib package.\n",
      "",
      "Stacktrace:",
      " [1] require(::Module, ::Symbol) at ./loading.jl:823",
      " [2] top-level scope at In[22]:1"
     ]
    }
   ],
   "source": [
    "\n",
    "\n",
    "import matplotlib.pyplot"
   ]
  },
  {
   "cell_type": "code",
   "execution_count": 27,
   "metadata": {},
   "outputs": [
    {
     "data": {
      "text/plain": [
       "1-element Array{PyObject,1}:\n",
       " PyObject <matplotlib.patches.Polygon object at 0x7f0c90173be0>"
      ]
     },
     "execution_count": 27,
     "metadata": {},
     "output_type": "execute_result"
    }
   ],
   "source": [
    "x = [0, 1, 2, 1]\n",
    "y = [1, 2, 1, 0]\n",
    "\n",
    "fig, ax = subplots()\n",
    "fill(x, y)\n",
    "#show()"
   ]
  },
  {
   "cell_type": "code",
   "execution_count": null,
   "metadata": {},
   "outputs": [],
   "source": [
    "\n",
    "\n",
    "#diam_x = intervaloX.hi-intervaloX.lo\n",
    "#diam_y = intervaloY.hi-intervaloY.lo\n",
    "\n",
    "diam_x = diam(intervaloX)\n",
    "diam_y = diam(intervaloY)\n",
    "\n",
    "plot([intervaloX.lo,intervaloX.hi,intervaloX.hi,intervaloX.lo],\n",
    "    [intervaloY.lo,intervaloY.lo,intervaloY.hi,intervaloY.hi],\",\",linestyle=\"-\")\n",
    "#scatter([punto1[1]],[punto1[2]],color=\"lawngreen\")\n",
    "\n",
    "#ax = cfig[:add_subplot](1,1,1)\n",
    "#ax[:set_aspect](\"equal\")\n",
    "#c = patch.Rectangle([xx,yy],diam_x,diam_y,fc=\"pink\",ec=\"red\",linewidth=.5,alpha = 0.5)\n",
    "#ax[:add_artist](c)\n",
    "#cfig[:savefig](\"rectangle.png\")\n",
    "#grid(\"on\")\n",
    "#title(\"\")\n",
    "#xlim()\n",
    "#ylim()\n"
   ]
  },
  {
   "cell_type": "code",
   "execution_count": null,
   "metadata": {},
   "outputs": [],
   "source": [
    "using Plots"
   ]
  },
  {
   "cell_type": "code",
   "execution_count": null,
   "metadata": {},
   "outputs": [],
   "source": [
    "Orden = 55\n",
    "tiempo = [0.,3.]\n",
    "delta_t = 0.125\n",
    "U2, Uf2, vec_propU2, val_propU2 = Inestable(l_henon,Orden, punto4 ,tiempo, delta_t)\n",
    "S2, Sc2, vec_propS2, val_propS2 = Estable(l_henon, Orden , punto4, tiempo, delta_t)"
   ]
  },
  {
   "cell_type": "code",
   "execution_count": null,
   "metadata": {},
   "outputs": [],
   "source": [
    "evaluar([0.,4486.], 0.025, U2[1],U2[2],punto4,\"orangered\")\n",
    "evaluar([0.,4480.], 0.025, S2[1],S2[2],punto4,\"royalblue\")"
   ]
  },
  {
   "cell_type": "code",
   "execution_count": null,
   "metadata": {},
   "outputs": [],
   "source": [
    "tiem = [0.,4480.]\n",
    "ErrorI_O20 = CalculoError(l_henon, U2,Uf2,tiem,0.025 )\n",
    "ErrorE_O20 = CalculoError(l_henon, S2,Sc2,tiem,0.025 )"
   ]
  },
  {
   "cell_type": "code",
   "execution_count": null,
   "metadata": {},
   "outputs": [],
   "source": [
    "i_henon(x,y)=Henon(x,y,0.3,1.)\n",
    "punto5 = parametro(0.3)"
   ]
  },
  {
   "cell_type": "code",
   "execution_count": null,
   "metadata": {},
   "outputs": [],
   "source": [
    "Orden = 65\n",
    "tiempo = [0.,3.]\n",
    "delta_t = 0.125\n",
    "U3, Uf3, vec_propU3, val_propU3 = Inestable(i_henon,Orden, punto5 ,tiempo, delta_t)\n",
    "S3, Sc3, vec_propS3, val_propS3 = Estable(i_henon, Orden , punto5, tiempo, delta_t)"
   ]
  },
  {
   "cell_type": "code",
   "execution_count": null,
   "metadata": {},
   "outputs": [],
   "source": [
    "evaluar([0.,486.], 0.025, U3[1],U3[2],punto5)\n",
    "evaluar([0.,480.], 0.025, S3[1],S3[2],punto5)"
   ]
  },
  {
   "cell_type": "code",
   "execution_count": null,
   "metadata": {},
   "outputs": [],
   "source": [
    "tiem = [0.,480.]\n",
    "ErrorI = CalculoError(i_henon, U3,Uf3,tiem,0.025 )\n",
    "ErrorI2 = CalculoError(i_henon, S3,Sc3,tiem,0.025 )"
   ]
  },
  {
   "cell_type": "code",
   "execution_count": null,
   "metadata": {},
   "outputs": [],
   "source": [
    "plot(ErrorI[1],log10(ErrorI[2]),marker= \"None\", label=\"Inestable\")\n",
    "plot(ErrorI2[1],log10(ErrorI2[2]),marker= \"None\", label=\"Estable\")\n",
    "\n",
    "xlabel(\"t\")\n",
    "ylabel(L\"log10($|| E||_{\\infty})$\")\n",
    "title(\"Error\")\n",
    "grid(\"on\")\n",
    "legend(loc=\"low right\",fancybox=\"true\" )"
   ]
  },
  {
   "cell_type": "markdown",
   "metadata": {},
   "source": [
    "Cuidado! esto grafica los errores en función del orden"
   ]
  },
  {
   "cell_type": "code",
   "execution_count": null,
   "metadata": {},
   "outputs": [],
   "source": [
    "O1 = 20\n",
    "O2 = 36\n",
    "O3 = 45\n",
    "O4 = 58\n",
    "O5 = 70\n",
    "O6 = 89\n",
    "#O7 = 100\n",
    "#O8 = 150\n",
    "#O9 = 163\n",
    "#O10 = 77\n",
    "#x_fijo = [big(0.),big(0.)] \n",
    "#tiempo = [-big(3.),big(3.)]\n",
    "tiempo = [0.,500]\n",
    "delta_t = 0.125\n",
    "p_fijo = punto1\n",
    "W1, f1, vec1, val1 = Inestable(f_henon,O1 , p_fijo,tiempo, delta_t)\n",
    "W2, f2, vec2, val2 = Inestable(f_henon,O2 , p_fijo,tiempo, delta_t)\n",
    "W3, f3, vec3, val3 = Inestable(f_henon,O3 , p_fijo,tiempo, delta_t)\n",
    "W4, f4, vec4, val4 = Inestable(f_henon,O4 , p_fijo,tiempo, delta_t)\n",
    "W5, f5, vec5, val5 = Inestable(f_henon,O5 , p_fijo,tiempo, delta_t)\n"
   ]
  },
  {
   "cell_type": "code",
   "execution_count": null,
   "metadata": {},
   "outputs": [],
   "source": [
    "Tiempo = [0.,8500.]\n",
    "Error1A = CalculoError(f_henon, W1,f1,Tiempo,delta_t)\n",
    "Error2A = CalculoError(f_henon, W2,f2,Tiempo,delta_t)\n",
    "Error3A = CalculoError(f_henon, W3,f3,Tiempo,delta_t)\n",
    "Error4A = CalculoError(f_henon, W4,f4,Tiempo,delta_t)\n",
    "Error5A = CalculoError(f_henon, W5,f5,Tiempo,delta_t)\n"
   ]
  },
  {
   "cell_type": "code",
   "execution_count": null,
   "metadata": {},
   "outputs": [],
   "source": [
    "plot(Error1A[1],log10(Error1A[2]),marker= \"None\", label=\"$O1\")\n",
    "plot(Error2A[1],log10(Error2A[2]),marker= \"None\", label=\"$O2\")\n",
    "plot(Error3A[1],log10(Error3A[2]),marker= \"None\", label=\"$O3\")\n",
    "plot(Error4A[1],log10(Error4A[2]),marker= \"None\", label=\"$O4\")\n",
    "plot(Error5A[1],log10(Error5A[2]),marker= \"None\", label=\"$O5\")\n",
    "\n",
    "\n",
    "\n",
    "xlabel(\"t\")\n",
    "ylabel(L\"log10($|| E||_{\\infty})$\")\n",
    "title(\"Error\")\n",
    "#grid(\"on\")\n",
    "#ylim(-16.,-13.2)\n",
    "legend(loc=\"low right\",fancybox=\"true\")"
   ]
  },
  {
   "cell_type": "code",
   "execution_count": null,
   "metadata": {},
   "outputs": [],
   "source": [
    "plot(log10(Error1A[1]),log10(Error1A[2]),marker= \"None\", label=\"$O1\")\n",
    "plot(log10(Error2A[1]),log10(Error2A[2]),marker= \"None\", label=\"$O2\")\n",
    "plot(log10(Error3A[1]),log10(Error3A[2]),marker= \"None\", label=\"$O3\")\n",
    "plot(log10(Error4A[1]),log10(Error4A[2]),marker= \"None\", label=\"$O4\")\n",
    "plot(log10(Error5A[1]),log10(Error5A[2]),marker= \"None\", label=\"$O5\")\n",
    "\n",
    "\n",
    "\n",
    "xlabel(\"t\")\n",
    "ylabel(L\"log10($|| E||_{\\infty})$\")\n",
    "title(\"Error\")\n",
    "#grid(\"on\")\n",
    "#ylim(-16.,-13.2)\n",
    "legend(loc=\"low right\",fancybox=\"true\")"
   ]
  },
  {
   "cell_type": "code",
   "execution_count": null,
   "metadata": {},
   "outputs": [],
   "source": [
    "C1=Convergencia(W1[1],W1[2])\n",
    "C2=Convergencia(W2[1],W2[2])\n",
    "C3=Convergencia(W3[1],W3[2])\n",
    "C4=Convergencia(W4[1],W4[2])\n",
    "C5=Convergencia(W5[1],W5[2])"
   ]
  },
  {
   "cell_type": "code",
   "execution_count": null,
   "metadata": {},
   "outputs": [],
   "source": [
    "plot(C1[1],marker=\".\",label=L\"$O1\")\n",
    "plot(C2[1],marker=\".\",label=L\"$O2\")\n",
    "plot(C3[1],marker=\".\",label=L\"$O3\")\n",
    "plot(C4[1],marker=\".\",label=L\"$O4\")\n",
    "xlabel(\"Convergencia  t\")\n",
    "ylabel(L\"a_{n+1}/a_{n}\")\n",
    "title(\"t\")\n",
    "grid(\"on\")\n",
    "title(\"Convergencia Hadamard\")\n",
    "legend(loc=\"upper right\",fancybox=\"true\" )\n"
   ]
  },
  {
   "cell_type": "code",
   "execution_count": null,
   "metadata": {},
   "outputs": [],
   "source": [
    "c1=Convergencia3(W1[1],W1[2])\n",
    "c2=Convergencia3(W2[1],W2[2])\n",
    "c3=Convergencia3(W3[1],W3[2])\n",
    "c4=Convergencia3(W4[1],W4[2])\n",
    "c5=Convergencia3(W5[1],W5[2])"
   ]
  },
  {
   "cell_type": "code",
   "execution_count": null,
   "metadata": {},
   "outputs": [],
   "source": [
    "plot(c1[1],marker=\".\",label=L\"$O1\")\n",
    "plot(c2[1],marker=\".\",label=L\"$O2\")\n",
    "plot(c3[1],marker=\".\",label=L\"$O3\")\n",
    "plot(c4[1],marker=\".\",label=L\"$O4\")\n",
    "xlabel(\" t\")\n",
    "\n",
    "title(\"t\")\n",
    "grid(\"on\")\n",
    "title(\"Convergencia de tres términos  \")\n",
    "legend(loc=\"upper right\",fancybox=\"true\")"
   ]
  },
  {
   "cell_type": "code",
   "execution_count": null,
   "metadata": {},
   "outputs": [],
   "source": [
    "Orden = 25\n",
    "tiempo = [0.,3.]\n",
    "delta_t = 0.125\n",
    "U4, Uf4, vec_propU4, val_propU4 = Inestable(i_henon,Orden, punto5 ,tiempo, delta_t)\n",
    "S4, Sc4, vec_propS4, val_propS4 = Estable(i_henon, Orden , punto5, tiempo, delta_t)"
   ]
  },
  {
   "cell_type": "code",
   "execution_count": null,
   "metadata": {},
   "outputs": [],
   "source": [
    "evaluar([0.,100.], 0.025, U4[1],U4[2],punto5)\n",
    "evaluar([0.,100.], 0.025, S4[1],S4[2],punto5)"
   ]
  },
  {
   "cell_type": "code",
   "execution_count": null,
   "metadata": {
    "scrolled": true
   },
   "outputs": [],
   "source": [
    "Tiempo = [0.,100.]\n",
    "ErrorU4 = CalculoError(i_henon, U4,Uf4,Tiempo,delta_t)\n",
    "ErrorS4 = CalculoError(i_henon, S4,Sc4,Tiempo,delta_t)"
   ]
  },
  {
   "cell_type": "code",
   "execution_count": null,
   "metadata": {},
   "outputs": [],
   "source": [
    "plot(ErrorU4[1],log10(ErrorU4[2]),marker= \"None\", label=\"Inestable\")\n",
    "plot(ErrorS4[1],log10(ErrorS4[2]),marker= \"None\", label=\"Estable\")\n",
    "\n",
    "\n",
    "\n",
    "xlabel(\"t\")\n",
    "ylabel(L\"log10($|| E||_{\\infty})$\")\n",
    "title(\"Error\")\n",
    "#grid(\"on\")\n",
    "#ylim(-16.,-13.2)\n",
    "legend(loc=\"low right\",fancybox=\"true\")"
   ]
  },
  {
   "cell_type": "code",
   "execution_count": null,
   "metadata": {},
   "outputs": [],
   "source": [
    "Orden = 25\n",
    "#a= parse(BigFloat,\"3.4\")\n",
    "#b=parse(BigFloat,\"1.\")\n",
    "#x_fijo = parametro(a) \n",
    "c=parse(BigFloat,\"180.\")\n",
    "tiempo = [0.,c]\n",
    "delta_t = parse(BigFloat, \"0.125\")\n",
    "W_uB, f_uB, vec_propuB, val_propuB = Inestable(h_henon,Orden , punto2,tiempo, delta_t)\n",
    "W_sB, f_sB, vec_propsB, val_propsB = Estable(h_henon,Orden , punto2,tiempo, delta_t)"
   ]
  },
  {
   "cell_type": "code",
   "execution_count": null,
   "metadata": {},
   "outputs": [],
   "source": [
    "evaluar([big(0.),big(1180.0)], big(0.025), W_uB[1],W_uB[2],punto2)\n",
    "evaluar([big(0.),big(1180.0)], big(0.025),  W_sB[1],W_sB[2],punto2)"
   ]
  },
  {
   "cell_type": "code",
   "execution_count": null,
   "metadata": {},
   "outputs": [],
   "source": [
    "ErrorIB_O20 = CalculoError(h_henon, W_uB,f_uB,[big(0.),big(180.)],big(0.025) )\n",
    "ErrorEB_O20 = CalculoError(h_henon, W_sB,f_sB,[big(0.),big(180.)],big(0.025 ))"
   ]
  },
  {
   "cell_type": "code",
   "execution_count": null,
   "metadata": {},
   "outputs": [],
   "source": [
    "plot(ErrorIB_O20[1],log10(ErrorIB_O20[2]),marker= \"None\", label=\"Inestable 20\")\n",
    "plot(ErrorEB_O20[1],log10(ErrorEB_O20[2]),marker= \"None\", label=\"Estable 20\")\n",
    "\n",
    "xlabel(\"Parámetro t\")\n",
    "ylabel(L\"log10($|| E||_{\\infty})$\")\n",
    "title(\"Error\")\n",
    "#grid(\"on\")\n",
    "legend(loc=\"low right\",fancybox=\"true\" )"
   ]
  },
  {
   "cell_type": "markdown",
   "metadata": {
    "collapsed": true
   },
   "source": [
    "Cuiadao! esto grafica los errores respecto del orden"
   ]
  },
  {
   "cell_type": "code",
   "execution_count": null,
   "metadata": {},
   "outputs": [],
   "source": [
    "O1 = 20\n",
    "O2 = 10\n",
    "O3 = 30\n",
    "O4 = 40\n",
    "O5 = 25\n",
    "O6 = 28\n",
    "x_fijo = [0.,0.] \n",
    "tiempo = [-3.,3.]\n",
    "delta_t = 0.125\n",
    "V1, h1, vec1, val1 = Estable(f_estandar1,O1 , x_fijo,tiempo, delta_t)\n",
    "V2, h2, vec2, val2 = Estable(f_estandar1,O2 , x_fijo,tiempo, delta_t)\n",
    "V3, h3, vec3, val3 = Estable(f_estandar1,O3 , x_fijo,tiempo, delta_t)\n",
    "V4, h4, vec4, val4 = Estable(f_estandar1,O4 , x_fijo,tiempo, delta_t)\n",
    "V5, h5, vec5, val5 = Estable(f_estandar1,O5 , x_fijo,tiempo, delta_t)\n",
    "V6, h6, vec6, val6 = Estable(f_estandar1,O6 , x_fijo,tiempo, delta_t)"
   ]
  },
  {
   "cell_type": "code",
   "execution_count": null,
   "metadata": {},
   "outputs": [],
   "source": [
    "Tiempo = [0.,5.]\n",
    "Error1A = CalculoError(f_estandar1, V1,h1,Tiempo,0.025 )\n",
    "Error2A = CalculoError(f_estandar1, V2,h2,Tiempo,0.025 )\n",
    "Error3A = CalculoError(f_estandar1, V3,h3,Tiempo,0.025 )\n",
    "Error4A = CalculoError(f_estandar1, V4,h4,Tiempo,0.025 )\n",
    "Error5A = CalculoError(f_estandar1, V5,h5,Tiempo,0.025 )\n",
    "Error6A = CalculoError(f_estandar1, V6,h6,Tiempo,0.025 )\n",
    "\n"
   ]
  },
  {
   "cell_type": "code",
   "execution_count": null,
   "metadata": {},
   "outputs": [],
   "source": [
    "plot(Error1A[1],log10(Error1A[2]),marker= \"None\", label=\"$O1\")\n",
    "plot(Error2A[1],log10(Error2A[2]),marker= \"None\", label=\"$O2\")\n",
    "plot(Error3A[1],log10(Error3A[2]),marker= \"None\", label=\"$O3\")\n",
    "plot(Error4A[1],log10(Error4A[2]),marker= \"None\", label=\"$O4\")\n",
    "plot(Error5A[1],log10(Error5A[2]),marker= \"None\", label=\"$O5\")\n",
    "plot(Error6A[1],log10(Error6A[2]),marker= \"None\", label=\"$O6\")\n",
    "\n",
    "\n",
    "xlabel(\"Parámetro t\")\n",
    "ylabel(L\"log10($|| E||_{\\infty})$\")\n",
    "title(\"Error\")\n",
    "#grid(\"on\")\n",
    "#ylim(-16.,-15.2)\n",
    "legend(loc=\"low right\",fancybox=\"true\" )"
   ]
  },
  {
   "cell_type": "markdown",
   "metadata": {
    "collapsed": true
   },
   "source": [
    "\n",
    "## Vamos a graficar las superficies "
   ]
  },
  {
   "cell_type": "code",
   "execution_count": 90,
   "metadata": {},
   "outputs": [
    {
     "data": {
      "text/plain": [
       "evaluar_g (generic function with 1 method)"
      ]
     },
     "execution_count": 90,
     "metadata": {},
     "output_type": "execute_result"
    }
   ],
   "source": [
    "function evaluar_g(Tiempo, paso,A)\n",
    "    ValX=Float64[]\n",
    "    \n",
    "    ValY=Float64[]\n",
    "\n",
    "    for t = Tiempo[1]:paso:Tiempo[2]\n",
    "        \n",
    "        x = A[1](t)\n",
    "    \n",
    "        y = A[2](t)\n",
    "        \n",
    "        push!(ValX,x)\n",
    "        push!(ValY,y)\n",
    "        \n",
    "    end\n",
    "    return ValX,ValY\n",
    "    \n",
    "end"
   ]
  },
  {
   "cell_type": "code",
   "execution_count": 110,
   "metadata": {},
   "outputs": [],
   "source": [
    "Orden = 10\n",
    "tiempo1 = [0.,60.]\n",
    "tiempo2 = [0.,50.]\n",
    "delta_t = 0.125\n",
    "figure(1)\n",
    "for a in 2.:0.2:8.6\n",
    "    henon_p(x,y)=Henon(x,y,a,1.)\n",
    "    punto4=parametro(a)\n",
    "    U2, Uf2, vec_propU2, val_propU2 = Inestable(henon_p,Orden, punto4 ,tiempo1, delta_t)\n",
    "    S2, Sc2, vec_propS2, val_propS2 = Estable(henon_p, Orden , punto4, tiempo2, delta_t)\n",
    "    \n",
    "    B=evaluar_g(tiempo2, delta_t, S2)\n",
    "    V=evaluar_g(tiempo1, delta_t, U2)\n",
    "    \n",
    "    #pygui(true)\n",
    "    plot3D(B[2],B[1],a,zdir=\"z\",color=\"orangered\",alpha=0.3, linestyle=\"-\")\n",
    "    plot3D(V[2],V[1],a,zdir=\"z\",color =\"royalblue\",alpha=0.5,linestyle=\"-\")\n",
    "    #plot3D(punto4[1],punto4[2],a,zdir=\"z\",color=\"blue\")\n",
    "    xlim(-2*pi,2*pi)\n",
    "    ylim(-2*pi,2*pi)\n",
    "    #zlim(0,8)\n",
    "    xlabel(L\"x\")\n",
    "    ylabel(L\"y\")\n",
    "    zlabel(L\"a\")\n",
    "    #title(\"Variedades\")\n",
    "    grid(color=\"w\")\n",
    "    #grid(False)\n",
    "    #ax1.grid(False)\n",
    "#ax1.xaxis.pane.set_edgecolor('black')\n",
    "#ax1.yaxis.pane.set_edgecolor('black')\n",
    "#ax1.xaxis.pane.fill = False\n",
    "#ax1.yaxis.pane.fill = False\n",
    "#ax1.zaxis.pane.fill = False\n",
    "    \n",
    "end"
   ]
  },
  {
   "cell_type": "code",
   "execution_count": null,
   "metadata": {},
   "outputs": [],
   "source": []
  },
  {
   "cell_type": "code",
   "execution_count": null,
   "metadata": {},
   "outputs": [],
   "source": [
    "function iterarMap(f,x_i,p_i,n)   #Definimos una función para iterar el mapeo\n",
    "    \n",
    "    x = x_i                      #    \n",
    "                                     #Damos condiciones iniciales\n",
    "    y = p_i                          #\n",
    "\n",
    "    iteradosMX = [x_i]\n",
    "\n",
    "    iteradosMY = [p_i]               #Definimos dos listas que tendran los valores de cada par ordenado de theta y P, y agregamos las condiciones iniciales\n",
    "\n",
    "    for i=1:n              #iniciamos un ciclo de iteraciones donde se calculan x_n, y_n y se agregan a lalista correspodiente            \n",
    "\n",
    "        F = f(x_i,p_i)\n",
    "        \n",
    "        #iteradosMX[i]=F[1]\n",
    "        #iteradosMY[i]=F[2]\n",
    "        push!(iteradosMX,F[1])\n",
    "        \n",
    "        push!(iteradosMY,F[2])\n",
    "          \n",
    "\n",
    "        x_i = F[1]\n",
    "\n",
    "        p_i = F[2]\n",
    "    end\n",
    "\n",
    "    return iteradosMX, iteradosMY  #La funcion iterados regresa las listas que corresponden a la trayectoria del \n",
    "end"
   ]
  },
  {
   "cell_type": "code",
   "execution_count": null,
   "metadata": {},
   "outputs": [],
   "source": [
    "function graficarMap(l)\n",
    "    n=10\n",
    "    step=2./10\n",
    "    i=0\n",
    "    \n",
    "    for p_i=-3.73861-3.:step:-3.73861+3.\n",
    "        for x_i =-3.73861-3.:step:-3.73861+3.\n",
    "        #x_i=-3.73861-3.\n",
    "            i=i+1\n",
    "            t,p = iterarMap(f_henon,x_i,p_i,n)\n",
    "            #@show(p)\n",
    "            p = scatter(t[2:length(t)],p[2:length(t)],marker=\",\",s=0.1,color=\"gray\")\n",
    "            xlim(-10,10)\n",
    "            ylim(-10,10)\n",
    "        end\n",
    "    end\n",
    "    \n",
    "end"
   ]
  },
  {
   "cell_type": "code",
   "execution_count": null,
   "metadata": {},
   "outputs": [],
   "source": [
    "graficarMap(50)"
   ]
  },
  {
   "cell_type": "code",
   "execution_count": null,
   "metadata": {},
   "outputs": [],
   "source": [
    "\n",
    "\n",
    "\n",
    "\n",
    "\n",
    "\n",
    "#cfig[:savefig](\"rectangle.png\")"
   ]
  }
 ],
 "metadata": {
  "kernelspec": {
   "display_name": "Julia 1.0.2",
   "language": "julia",
   "name": "julia-1.0"
  },
  "language_info": {
   "file_extension": ".jl",
   "mimetype": "application/julia",
   "name": "julia",
   "version": "1.0.2"
  }
 },
 "nbformat": 4,
 "nbformat_minor": 2
}
