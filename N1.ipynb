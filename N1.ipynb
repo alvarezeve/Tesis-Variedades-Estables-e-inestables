{
 "cells": [
  {
   "cell_type": "markdown",
   "metadata": {},
   "source": [
    "Se examinarán las variedades estables en el caso de un sistema unidimensional con un punto fijo,mediante el cácluclo de un difeomorfismo . Se darán las relaciones de recurrencia para el sistema.\n"
   ]
  },
  {
   "cell_type": "markdown",
   "metadata": {},
   "source": [
    "Se analizará un sistema simple que es el mapeo estándar, que es una función del toro en el toro de 2 dimensiones ($\\mathbb{T}$ ). La función está dada por :\n",
    "\n"
   ]
  },
  {
   "cell_type": "markdown",
   "metadata": {},
   "source": [
    "$f_{\\epsilon}(x,\\theta)= \\left\\{ \\begin{array}{lcc}\n",
    "             x +\\epsilon sin(\\theta) &   (mod2\\pi )\\\\\n",
    "             \\\\ x+\\theta + \\epsilon sin(\\theta) & (mod2\\pi)\n",
    "             \\end{array}\n",
    "   \\right.$ \n"
   ]
  },
  {
   "cell_type": "markdown",
   "metadata": {},
   "source": [
    "Se sabe que para cada $\\epsilon > 0$ hay un difeomorfismo(homeomorfismo diferenciable con inversa diferenciable) de los dos toros, dado por:"
   ]
  },
  {
   "cell_type": "markdown",
   "metadata": {},
   "source": [
    "$f^{-1}_{\\epsilon}(x,\\theta)= \\left\\{ \\begin{array}{lcc}\n",
    "             x -\\epsilon sin(\\theta-x) &   (mod2\\pi )\\\\\n",
    "             \\\\ \\theta -x sin(\\theta) & (mod2\\pi)\n",
    "             \\end{array}\n",
    "   \\right.$ \n"
   ]
  },
  {
   "cell_type": "markdown",
   "metadata": {},
   "source": [
    "Este mapeo es uno de los sistemas más simples en forma análitica, y es un muy buen ejemplo de muchas cosas que \n",
    "queremos estudiar."
   ]
  },
  {
   "cell_type": "markdown",
   "metadata": {},
   "source": [
    "Para encontrar los eigenvalores y eigenvectores , si sabemos que un punto fijo satisface que \n"
   ]
  },
  {
   "cell_type": "markdown",
   "metadata": {},
   "source": [
    "$                    f_{\\epsilon}(p)=p;           p(x,\\theta)$"
   ]
  },
  {
   "cell_type": "raw",
   "metadata": {},
   "source": []
  },
  {
   "cell_type": "code",
   "execution_count": null,
   "metadata": {
    "collapsed": true
   },
   "outputs": [],
   "source": []
  }
 ],
 "metadata": {
  "kernelspec": {
   "display_name": "Python 2",
   "language": "python",
   "name": "python2"
  }
 },
 "nbformat": 4,
 "nbformat_minor": 0
}
