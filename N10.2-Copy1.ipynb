{
 "cells": [
  {
   "cell_type": "markdown",
   "metadata": {},
   "source": [
    "# Modificaciones : sin Taylor1, con Inverse Power \n"
   ]
  },
  {
   "cell_type": "markdown",
   "metadata": {},
   "source": [
    "Antes de seguir probando la automarización que hemos logrado debemos hacer algunas mejoras. Para ellos revisaremos cada función y de ser posible haremos más simples algunas cosas y omitiremos aquellas que sean redundantes. Es punto de esto es hacer un prógrama mejor automatizado y más simple."
   ]
  },
  {
   "cell_type": "code",
   "execution_count": 1,
   "metadata": {
    "collapsed": false
   },
   "outputs": [],
   "source": [
    "using TaylorSeries\n",
    "using PyPlot\n",
    "using LinearAlgebra\n",
    "#using GenericSVD"
   ]
  },
  {
   "cell_type": "markdown",
   "metadata": {},
   "source": [
    "La idea es quitar la necesidad de tener que usar Taylor1, ya que en las funciones de jacobian no se tiene definidas alginas cosas para Taylor1.TaylorN mientras que sí fúnciona para Taylor N. Recordemos que hay que revisar la estabilidad de las respuestas en cada paso. \n",
    "La diferencia entre el notebook anterior y este es que aislaremos la parte de g=1 del método."
   ]
  },
  {
   "cell_type": "code",
   "execution_count": 2,
   "metadata": {
    "collapsed": false
   },
   "outputs": [
    {
     "data": {
      "text/plain": [
       "PolinomioTaylor"
      ]
     },
     "execution_count": 2,
     "metadata": {},
     "output_type": "execute_result"
    }
   ],
   "source": [
    "\"\"\"\n",
    "\n",
    "PolinomioTaylor(Cθ,CP, TipoVariable)\n",
    "   \n",
    "   Es una función cuyo objetivo es recibir dos listas con valores iniciales y crear dos polinomios de grado 1.\n",
    "\n",
    "\n",
    "\n",
    "\n",
    "Argumentos:\n",
    "\n",
    "\n",
    "   - Cθ,CP  :  Arreglo que contiene los coeficientes iniciales, es del tipo Array{TaylorSeries.TaylorN{Float64}}\n",
    "   - TipoVariable :  es el tipo de número que queremos uasr: Real, Float64, BigFloat, etc.\n",
    "   \n",
    "\n",
    "    Esta función regresa dos arreglos que contienen elementos del tipo Taylor1.TaylorN, creados con los valores propios del sistema.\n",
    "\n",
    "\n",
    "\"\"\"\n",
    "function PolinomioTaylor(Cθ,CP,TipoVariable)\n",
    "    #=  \n",
    "    Separamos el primer orden puesto que es diferente de los otros.\n",
    "    Creamos θ,p como variables tipo TaylorN de orden 2, recordemos que aquí es importante el orden puesto que si se usan\n",
    "    más adelante para otras operaciones el polinomio se puede cortar si no se define adecuadamente\n",
    "    =#\n",
    "    \n",
    "    \n",
    "    \n",
    "    θ,p = set_variables(TipoVariable, \"θ p\", order=2)\n",
    "    \n",
    "    #especificamos que Lθ,LP son de arreglos que guardarán coeficientes del polinomio, sólo son auxiliares en esta función\n",
    "    \n",
    "   \n",
    "   # Lθ = Array{TaylorSeries.TaylorN{TipoVariable}}(1)\n",
    "   # LP = Array{TaylorSeries.TaylorN{TipoVariable}}(1)\n",
    "        \n",
    "    T = [Taylor1([θ], 1),Taylor1([p], 1)]\n",
    "    return T\n",
    "end\n",
    "    \n",
    "\n"
   ]
  },
  {
   "cell_type": "code",
   "execution_count": 3,
   "metadata": {
    "collapsed": false
   },
   "outputs": [
    {
     "data": {
      "text/plain": [
       "PolinomioTaylor1"
      ]
     },
     "execution_count": 3,
     "metadata": {},
     "output_type": "execute_result"
    }
   ],
   "source": [
    "\"\"\"\n",
    "\n",
    "PolinomioTaylor1(g,Cθ,CP, TipoVariable)\n",
    "   \n",
    "   Es una función cuyo objetivo es recibir dos listas con valores iniciales y crear dos polinomios de grado g.\n",
    "\n",
    "\n",
    "\n",
    "\n",
    "Argumentos:\n",
    "\n",
    "\n",
    "\n",
    "\n",
    "\n",
    "   - g       : grado del polinomio\n",
    "   - Cθ,CP  :  Arreglo que contiene los coeficientes iniciales, es del tipo Array{TaylorSeries.TaylorN{Float64}}\n",
    "   - TipoVariable :  es el tipo de número que queremos uasr: Real, Float64, BigFloat, etc.\n",
    "   \n",
    "\n",
    "    Esta función regresa dos arreglos que contienen elementos del tipo Taylor1.TaylorN, creados con las listas iniciales. \n",
    "    Funciona específicamente para orden g>1.\n",
    "\n",
    "\n",
    "\"\"\"\n",
    "function PolinomioTaylor1(g::Real,Cθ,CP,TipoVariable)\n",
    "    #=\n",
    "    g es el grado del polinomio, CX y CP son\n",
    "    arreglos que contienen los coeficientes que forman la variedad.\n",
    "    \n",
    "    \n",
    "    Creamos x,p como variables tipo TaylorN de orden 2\n",
    "    =#\n",
    "    \n",
    "    \n",
    "    \n",
    "    θ,p = set_variables(TipoVariable, \"θ p\", order=2)\n",
    "    \n",
    "    #especificamos que LX,LP son de arreglos que guardarán coeficientes del polinomio, sólo son auxiliares en esta función\n",
    "    \n",
    "   \n",
    "    Lθ = Array{TaylorSeries.TaylorN{TipoVariable}}(1)\n",
    "    LP = Array{TaylorSeries.TaylorN{TipoVariable}}(1)\n",
    "    \n",
    "    \n",
    "    \n",
    "    \n",
    "        #como CX,CP están guardando los coeficientes pero necesitamos agregar el último término que será una variable \n",
    "        \n",
    "    Lθ = push!(Cθ, θ) \n",
    "    LP = push!(CP, p)\n",
    "\n",
    "    T=[Taylor1(Lθ, g),Taylor1(LP, g)]\n",
    "        \n",
    "    \n",
    "    return T\n",
    "end\n",
    "#Esta función regresa tθ,tp que son Taylor1.TaylorN"
   ]
  },
  {
   "cell_type": "code",
   "execution_count": 4,
   "metadata": {
    "collapsed": false
   },
   "outputs": [
    {
     "data": {
      "text/plain": [
       "Vecλ"
      ]
     },
     "execution_count": 4,
     "metadata": {},
     "output_type": "execute_result"
    }
   ],
   "source": [
    "#=Esta función toma el arreglo que contiene las lambdas que se van calculando, los coeficientes de los polinomios\n",
    "y el orden de los mismos, lo que hace es generar el lado derecho de la ecuación cohomológica, multiplicando a_n*λ^n\n",
    "y generando un polinomio de gradno g con estos coeficientes\n",
    "=#\n",
    "\"\"\"\n",
    "Vecλ(λ_v,g,Cθ,CP)\n",
    "Es una función que calcula la parte derecha de la ecuación comohológica, es decir la parte que involucra el valor propio.\n",
    "Regresa un arreglo de tipo TaylorSeries.TaylorN{Float64}\n",
    "\n",
    "\n",
    "Sus argumentos son:\n",
    "-g      :  grado del polinomio.\n",
    "-λ_v    :  Arreglo de dos dimensiones que contiene el valor propio y sus potencias. \n",
    "-Cθ,CP  :  Los arreglos con los polinomios que se calculan en PolinomioTaylor1.\n",
    "\n",
    "\"\"\"\n",
    "function Vecλ(λ_v,g,Cθ,CP)\n",
    "   # el arreglo de λ_v contiene los arreglos que corresponden a la parte derecha de la ecuación cohomológica\n",
    "    # en θ,p. Es importante hacer la distinción puesto que dependiendo del punto fijo donde se esté calculando\n",
    "    # el primer valor de λ en θ serpa diferente del primer valor de λ en P\n",
    "    θλt=Taylor1(λ_v[1].*Cθ,g)\n",
    "    pλt=Taylor1(λ_v[2].*CP,g)\n",
    "    \n",
    "    λvec=[θλt,pλt]\n",
    "    \n",
    "    return λvec\n",
    "end"
   ]
  },
  {
   "cell_type": "code",
   "execution_count": 17,
   "metadata": {
    "collapsed": false
   },
   "outputs": [
    {
     "name": "stderr",
     "output_type": "stream",
     "text": [
      "WARNING: Method definition EigenValores(Any) in module Main at In[5]:16 overwritten at In[17]:17.\n",
      "\u001b[1m\u001b[31mWARNING: replacing docs for 'EigenValores :: Tuple{Any}' in module 'Main'.\u001b[0m\n"
     ]
    },
    {
     "data": {
      "text/plain": [
       "EigenValores"
      ]
     },
     "execution_count": 17,
     "metadata": {},
     "output_type": "execute_result"
    }
   ],
   "source": [
    "\"\"\"\n",
    "EigenValores(M)\n",
    "\n",
    "\n",
    "Función que calcula los valores y vectores propios para una matriz de elementos de tipo BogFloat.\n",
    "El método usado es el de Inverse Power Method \n",
    "\n",
    "\n",
    "\n",
    "\n",
    "Argumentos:\n",
    "-M: Matriz tipo BigFloat (2-element Array{BigFloat,1})\n",
    "\"\"\"\n",
    "function EigenValores(M)\n",
    "    # MM sirve como matriz auxiliar para el cálculo de eigenvalores con la función eig()\n",
    "    #@show(M)\n",
    "    MM = [Float64(M[1]) Float64(M[3]); Float64(M[2]) Float64(M[4])]\n",
    "    λfloat,vfloat = eig(MM)\n",
    "    #@show(MM)\n",
    "    #@show(λfloat)\n",
    "    #@show(vfloat)\n",
    "    #Por otra parte calculamos los valores propios de M usando :\n",
    "    Vals = real(LinearAlgebra.EigenGeneral.eigvals!(M))\n",
    "    #@show(Vals)\n",
    "    #Creamos matrices que nos ayudarán en el método\n",
    "    Id = [big(1.) big(0.); big(0.) big(1.)] #matriz identidad\n",
    "    EigVec=[big(0.) big(0.);big(0.) big(0.)] #MAtriz que guardará los vectores propios\n",
    "    ValsOrden=[big(0.0),big(0.)] #guardará los valores propios ordenados \n",
    "    \n",
    "    #vec_i =([0.6,0.3],[1.,0.]) #debemos dar un vector inicial para el cálculo\n",
    "    \n",
    "    #k recorre los dos valores propios\n",
    "    for k in [1,2]\n",
    "        #la tolerancia sirve para saber cuando paramos el método\n",
    "        tol = 0.0\n",
    "        \n",
    "        vec_i = big(rand(2,1)) # el vector inicial será un vector random\n",
    "        # comienza el método\n",
    "        #for i in[1:10]\n",
    "            \n",
    "        while abs(tol)<1e-180\n",
    "     #       @show(M)\n",
    "     #       @show(Vals[k]*Id)\n",
    "     #       @show(M-Vals[k]*Id)\n",
    "            H = inv(M-Vals[k]*Id)*vec_i #calculamos H\n",
    "            \n",
    "            vec_n = H/norm(H) #normalizamos\n",
    "            vec_i =vec_n #actualizamos\n",
    "            #vec_i[k][1] = vec_n[1]\n",
    "            #vec_i[k][2] = vec_n[2]\n",
    "            tol = norm(MM*vec_i-Vals[k]*vec_i,Inf)  #calculamos el error o discrepancia\n",
    "        end\n",
    "        \n",
    "    \n",
    "        if abs(λfloat[1]-Vals[k])<1e-10\n",
    "\n",
    "            ValsOrden[1]=sign(λfloat[1])*abs(Vals[k])\n",
    "            EigVec[1]=sign(vfloat[1])*abs(vec_i[1])\n",
    "            EigVec[2]=sign(vfloat[2])*abs(vec_i[2])\n",
    "            \n",
    "        else\n",
    "            \n",
    "            ValsOrden[2]=sign(λfloat[2])*abs(Vals[k])\n",
    "            EigVec[3]=sign(vfloat[3])*abs(vec_i[1])\n",
    "            EigVec[4]=sign(vfloat[4])*abs(vec_i[2])\n",
    "    \n",
    "        end\n",
    "            \n",
    "        \n",
    "    end\n",
    "    \n",
    "    #V=(ValsOrden,EigVec)\n",
    "    \n",
    "    return ValsOrden,EigVec\n",
    "        \n",
    "        \n",
    "        \n",
    "    \n",
    "end     "
   ]
  },
  {
   "cell_type": "code",
   "execution_count": 18,
   "metadata": {
    "collapsed": false
   },
   "outputs": [
    {
     "name": "stderr",
     "output_type": "stream",
     "text": [
      "WARNING: Method definition Orden1(Any, Any, Any, Any, Any, Any, Any, Any, Any, Any) in module Main at In[6]:3 overwritten at In[18]:3.\n"
     ]
    },
    {
     "data": {
      "text/plain": [
       "Orden1 (generic function with 1 method)"
      ]
     },
     "execution_count": 18,
     "metadata": {},
     "output_type": "execute_result"
    }
   ],
   "source": [
    "function Orden1(Cθ,CP,TipoVariable,Mapeo,k,l,PuntoFijo,tipo_v,λarrayθ,λarrayP)\n",
    "            #usamos la función PolinomioTaylor para crear el polinomio tipo Taylor1.TaylorN{T}\n",
    "            eigval=TipoVariable[0.,0.]\n",
    "            eigvec=TipoVariable[0. 0.; 0. 0.]\n",
    "            t = PolinomioTaylor(Cθ,CP,TipoVariable)\n",
    "            @show(typeof(t))\n",
    "            #Aplicamos el mapeo a los polinomios que resultan de la función anterior.\n",
    "            Or1 = Mapeo(t[1],t[2],k,l)\n",
    "            @show(typeof(Or1))\n",
    "            AuxOr1=[Or1[1][1],Or1[2][1]]\n",
    "            @show(typeof(AuxOr1))\n",
    "            #Calculamos el jacobiano del Orden 1 para obtener sus valores y vectores propios.\n",
    "            JPO = jacobian(AuxOr1,[PuntoFijo[1],PuntoFijo[2]])\n",
    "            @show(typeof(JPO))\n",
    "            \n",
    "            \n",
    "            #Calculamos los valores y vectores propios\n",
    "            if TipoVariable == BigFloat\n",
    "                eigval,eigvec = EigenValores(JPO)\n",
    "            else\n",
    "                eigval,eigvec = eig(JPO)\n",
    "            end\n",
    "            #escogemos el tipo de variedad que queremos calcular. Como se ordenan de menor a mayor la inestable es la segunda\n",
    "            λ = eigval[tipo_v]\n",
    "            \n",
    "            #Ponemos los coeficientes en una variable nueva cada uno y los agregamos a las listas CX,CP,λ\n",
    "            Coefθ,CoefP = eigvec[:,tipo_v]\n",
    "            @show(typeof(Coefθ))\n",
    "            #@show(Coefθ,CoefP)\n",
    "            push!(Cθ, Coefθ)\n",
    "            push!(CP, CoefP)\n",
    "            push!(λarrayθ, λ)\n",
    "            push!(λarrayP, λ)\n",
    "            λ_v=[λarrayθ,λarrayP]\n",
    "            \n",
    "            #@show(λarray)  \n",
    "            @show(typeof(Cθ))\n",
    "            @show(typeof(λarrayθ))\n",
    "    return Cθ, CP,λarrayθ,λarrayP, λ_v\n",
    "end\n",
    "            \n",
    "    "
   ]
  },
  {
   "cell_type": "code",
   "execution_count": 19,
   "metadata": {
    "collapsed": false
   },
   "outputs": [
    {
     "name": "stderr",
     "output_type": "stream",
     "text": [
      "WARNING: Method definition Variedades(Any, Any, Any, Any, Any, Any, Any) in module Main at In[7]:28 overwritten at In[19]:28.\n",
      "\u001b[1m\u001b[31mWARNING: replacing docs for 'Variedades :: Tuple{Any,Any,Any,Any,Any,Any,Any}' in module 'Main'.\u001b[0m\n"
     ]
    },
    {
     "data": {
      "text/plain": [
       "Variedades"
      ]
     },
     "execution_count": 19,
     "metadata": {},
     "output_type": "execute_result"
    }
   ],
   "source": [
    "#Creamos una función que reciba el orden del polinomio , el punto fijo, el parámetro k y \n",
    "#el tipo de varidad que queremos(estable=1, inestable=2)\n",
    "\"\"\"\n",
    "Variedades(Mapeo,orden, PuntoFijo,k,tipo_v,TipoVariable)\n",
    "Es una función que calcula las variedades de cierto mapeo. Usa las funciones de PolinomioTaylor1 y Vecλ para calcular los\n",
    "polinomios de cada lado de la ecuación cohomológica y les aplica el mapeo dado. \n",
    "\n",
    "\n",
    "\n",
    "Argumentos:\n",
    "\n",
    "\n",
    "- Mapeo : Mapeo de dos dimensiones, debe recibir al menos dos parámetros que son los polinomios antes calculados.\n",
    "- orden : se trata del orden del polinomio.\n",
    "- PuntoFijo : ES el punto fijo donde queremos calcular la variedad.\n",
    "- k     : Es la constante del mapeo.\n",
    "- tipo_v : 1 si la variedad es estable, 2 si es inestable.\n",
    "- TipoVariable :  Float64,BigFloat, Integer,etc.\n",
    "\n",
    "\n",
    "\"\"\"\n",
    "function Variedades(Mapeo,orden, PuntoFijo,k,l,tipo_v, TipoVariable)\n",
    "   \n",
    "    #definimos unas listas donde se guardarán los coeficientes  de todo el polinomio, tales deben ser\n",
    "    # de tipo \"Array{TaylorSeries.TaylorN{Int64},1}\" dado que los términos que se van agregando \n",
    "    # en cada orden son de tipo TaylorN.\n",
    "    \n",
    "    a=TipoVariable(PuntoFijo[1])\n",
    "    b=TipoVariable(PuntoFijo[2])\n",
    "    Cθ = [a+TaylorN(0.)]\n",
    "    CP = [b+TaylorN(0.)]\n",
    "    \n",
    "    \n",
    "    #λarray es la lista que contiene a los coeficientes del polinomio de λ\n",
    "    λarrayθ = [a^0]\n",
    "    λarrayP = [b^0]\n",
    "    \n",
    "    #definimos un vector que contiene el punto en el que se evalúa el jacobiano que se calcula después\n",
    "    #dado que sólo lo usamos para obtener los valores que resultaron en el mapeo evaluamos siempre en [1.,1.]\n",
    "    \n",
    "    \n",
    "    \n",
    "    \n",
    "    Cθ,CP,λarayθ, λarrayP,λ_v = Orden1(Cθ,CP,TipoVariable,Mapeo,k,l,PuntoFijo,tipo_v,λarrayθ,λarrayP)\n",
    "    \n",
    "\n",
    "\n",
    "    for g in 2:orden\n",
    "        \n",
    "            #Creamos los polinomios con las listas correspondientes \n",
    "            t = PolinomioTaylor1(g,Cθ,CP,TipoVariable)\n",
    "            \n",
    "            # aplicamos el mapeo estándar y al resultado le llamamos OrG por Orden g.\n",
    "            OrG = Mapeo(t[1],t[2],k,l)\n",
    "            \n",
    "            push!(λarrayθ,λarrayθ[2]^g)\n",
    "            push!(λarrayP,λarrayP[2]^g)\n",
    "            λ_v=[λarrayθ,λarrayP]\n",
    "            \n",
    "            #agregamos el término correspondiente a λ \n",
    "            λ_vec=Vecλ(λ_v,g,Cθ,CP)\n",
    "            \n",
    "            \n",
    "            #@show(λvec)\n",
    "            \n",
    "            # ahora ya tengo las dos partes de la ecuación y debo igualarlas para resolver.\n",
    "            EcuaCohomo=OrG-λ_vec\n",
    "            \n",
    "            \n",
    "            # de esta ecuación necesitamos solo los de orden g, así que los extraemos manualmente \n",
    "            θ_g=EcuaCohomo[1].coeffs[g+1]\n",
    "            p_g=EcuaCohomo[2].coeffs[g+1]\n",
    "            vec_orden_g=[θ_g,p_g]\n",
    "            \n",
    "            \n",
    "            #calculamos el término independiene en la ecuación\n",
    "            θ_ind=EcuaCohomo[1].coeffs[g+1].coeffs[1].coeffs[1]\n",
    "            p_ind=EcuaCohomo[2].coeffs[g+1].coeffs[1].coeffs[1]\n",
    "            vec_ind=[-θ_ind,-p_ind]\n",
    "            \n",
    "            #calculamos el jacobiano\n",
    "            JacOrdenG = jacobian(vec_orden_g)\n",
    "            \n",
    "            \n",
    "            \n",
    "            \n",
    "            #Con esta información podemos evaluar lo siguiente:\n",
    "            # Si el vector de términos independientes es cero y el determinante del jacobiano es distinto de cero\n",
    "            # entonces la solución a la ecuación cohomológica es la trivial\n",
    "            if norm(vec_ind)==0.\n",
    "                if det(JacOrdenG)!=0.\n",
    "                    \n",
    "                    Cθ[g+1]=0.\n",
    "                    CP[g+1]=0.\n",
    "                end\n",
    "            else\n",
    "                # Si el vector de términos independientes es distinto de ceroentonces necesitamos \n",
    "                #resolver la ecuación JacOrdenG[x_g,p_g]*[x,p]**=vec_ind[x_g,p_g]\n",
    "                # entonces solo se trata de invertir el jacobiano y multiplicar con el vector del lado izquierdo\n",
    "                TermG=JacOrdenG \\ vec_ind\n",
    "                \n",
    "                Cθ[g+1]=TermG[1]\n",
    "                CP[g+1]=TermG[2]\n",
    "            \n",
    "            end\n",
    "            \n",
    "\n",
    "    end\n",
    "    return Cθ,CP,λarrayθ, λarrayP\n",
    "end"
   ]
  },
  {
   "cell_type": "code",
   "execution_count": 20,
   "metadata": {
    "collapsed": false
   },
   "outputs": [
    {
     "name": "stderr",
     "output_type": "stream",
     "text": [
      "WARNING: Method definition PolinomioCohomo(Any, Any, Any, Any, Any, Any, Any) in module Main at In[8]:16 overwritten at In[20]:16.\n",
      "\u001b[1m\u001b[31mWARNING: replacing docs for 'PolinomioCohomo :: Tuple{Any,Any,Any,Any,Any,Any,Any}' in module 'Main'.\u001b[0m\n"
     ]
    },
    {
     "data": {
      "text/plain": [
       "PolinomioCohomo"
      ]
     },
     "execution_count": 20,
     "metadata": {},
     "output_type": "execute_result"
    }
   ],
   "source": [
    "\"\"\"\n",
    "PolinomioCohomo(Mapeo,Pol_vec,λvec, k)\n",
    "Esta función calcula la ecuación cohomológica con los polinomios que ya se calcularon. Regresa un arreglo de dos \n",
    "elementos que son los valores de x,θ del mapeo.\n",
    "\n",
    "\n",
    "Argumentos:\n",
    "-Mapeo : función o mapeo del cual calculamos las variedades.Debe ser una función que reciba tres parámetros\n",
    " que son dos de sus variables y la constante del mapeo. Como salida debe tener un arreglo de dos elementos. \n",
    "-Pol_vec : Es un arreglo de dos elementos que son los polinomios calculados con anterioridad. \n",
    "-k     : es el valor de la constante del mapeo \n",
    "-λvec : \n",
    "\n",
    "\"\"\"\n",
    "function PolinomioCohomo(Mapeo,Pol_vec,λvec, k,l ,PuntoFijo,modulo)\n",
    "    Map_vec=Mapeo(Pol_vec[1],Pol_vec[2],k,l)\n",
    "    if modulo==2*pi\n",
    "        Ec_Cohomo = mod(Map_vec-λvec,modulo)\n",
    "    else\n",
    "    Ec_Cohomo = Map_vec-λvec\n",
    "    end\n",
    "    return Ec_Cohomo\n",
    "end"
   ]
  },
  {
   "cell_type": "code",
   "execution_count": 21,
   "metadata": {
    "collapsed": false
   },
   "outputs": [
    {
     "name": "stderr",
     "output_type": "stream",
     "text": [
      "WARNING: Method definition EvaluarPol(Any, Any, Any, Any) in module Main at In[9]:22 overwritten at In[21]:22.\n",
      "\u001b[1m\u001b[31mWARNING: replacing docs for 'EvaluarPol :: Tuple{Any,Any,Any,Any}' in module 'Main'.\u001b[0m\n"
     ]
    },
    {
     "data": {
      "text/plain": [
       "EvaluarPol"
      ]
     },
     "execution_count": 21,
     "metadata": {},
     "output_type": "execute_result"
    }
   ],
   "source": [
    "\"\"\"\n",
    "EvaluarPol(Ec_2var,Tiempo,paso)\n",
    "\n",
    "Es una función que toma un arreglo de dos dimensiones que contiene polinomios y los evalúa en el tiempo dado en los pasos deseados\n",
    "\n",
    "\n",
    "\n",
    "\n",
    "Argumentos:\n",
    "\n",
    "-Ec_2var : Arreglo de dos dimensiones que contiene polinomios en cada una de ellas. \n",
    "-Tiempo  : Valor hasta el cual se quiere evaluar cada polinomio\n",
    "-paso    : es el paso que se considera en cada evaluación del polinomio. \n",
    "\n",
    "\"\"\"\n",
    "function EvaluarPol(Ec_2var,Tiempo,paso,TipoVariable)\n",
    "    \n",
    "    \n",
    "    \n",
    "    \n",
    "    \n",
    "    Val=TipoVariable[]\n",
    "    Tiem=TipoVariable[]\n",
    "    \n",
    "    \n",
    "    for t = Tiempo[1]:paso:Tiempo[2]\n",
    "        x = evaluate(Ec_2var[1], t)\n",
    "        y = evaluate(Ec_2var[2], t)\n",
    "\n",
    "        \n",
    "        norma = norm([x,y],Inf)\n",
    "        push!(Val,norma)\n",
    "        push!(Tiem,t)\n",
    "    \n",
    "    end\n",
    "    return Tiem,Val\n",
    "end"
   ]
  },
  {
   "cell_type": "markdown",
   "metadata": {},
   "source": [
    "Esta función resume todo el proceso de parametización: Primero llama a la función Variedades que es la que contiene el método en sí. Lo que hace Variedades es crear primero dos polinomios de grado uno que tienen como primer coeficiente al punto fijo que se conoce, esto lo hace con ayuda de la función PolinomioTaylor1. Evalúa el mapeo en estos polinomios y en el primero paso calcula los valores y vectores propios del sistema. Recordemos qu se está haciendo una linearización del sistema y por ello se calculan los valores propios. Ya con esta información se escoge el primer o segundo valor propio dependiento de cuaĺ variedad se quiera calcular. Teniendo el valor propio y el vector se actualizan los nuevos coeficientes de los polinomios. Para los siguientes órdenes se hace algo diferente pues se evalúa en el mapeo los polinomios y también se evalúa la parte derecha de la ecuacuión cohomológica usando el valor propio. Con ellas se calcula la resta de ambas partes y dado que se empato ya el orden anterior entonces solo sbreviven los términos que corresponden al orden que se está calculando. A este resultado se le calcula el jacobiano con el fin de obtener las ecuaciones como un sistema. La solución de este sistema serán los nuevos coeficientes de los polinomios. \n",
    "\n",
    "El eroe es elgoque se calcula usando la ecuación cohomológica, comparando los términos del lado derecho e izquiero tomamos su resta y le calculamos la norma infinito. Se evalúa esto para los valores del parámetro usados._"
   ]
  },
  {
   "cell_type": "code",
   "execution_count": 22,
   "metadata": {
    "collapsed": false
   },
   "outputs": [
    {
     "name": "stderr",
     "output_type": "stream",
     "text": [
      "WARNING: Method definition CreaPol(Any, Any, Any) in module Main at In[10]:13 overwritten at In[22]:13.\n",
      "\u001b[1m\u001b[31mWARNING: replacing docs for 'CreaPol :: Tuple{Any,Any,Any}' in module 'Main'.\u001b[0m\n"
     ]
    },
    {
     "data": {
      "text/plain": [
       "CreaPol"
      ]
     },
     "execution_count": 22,
     "metadata": {},
     "output_type": "execute_result"
    }
   ],
   "source": [
    "\"\"\"\n",
    "CreaPol es una función que dadas dos listas y un grado crea  un arreglo de dos entradas , en cada una de ellas se encuentra \n",
    "el polinomio de grado g con los coeficientes de las listas. \n",
    "\n",
    "\n",
    "Argumentos:\n",
    "\n",
    "\n",
    "- A,B : arreglos que contienen lo que serán los coeficientes del polinomio.\n",
    "- orden : grado del polinomio\n",
    "\"\"\"\n",
    "function CreaPol(A,B,orden)\n",
    "    Taylor = [Taylor1(A,orden),Taylor1(B,orden)]\n",
    "    return Taylor\n",
    "end"
   ]
  },
  {
   "cell_type": "code",
   "execution_count": 23,
   "metadata": {
    "collapsed": false
   },
   "outputs": [
    {
     "name": "stderr",
     "output_type": "stream",
     "text": [
      "WARNING: Method definition Convergencia(Any, Any) in module Main at In[11]:2 overwritten at In[23]:2.\n"
     ]
    },
    {
     "data": {
      "text/plain": [
       "Convergencia (generic function with 1 method)"
      ]
     },
     "execution_count": 23,
     "metadata": {},
     "output_type": "execute_result"
    }
   ],
   "source": [
    "function Convergencia(A,B)\n",
    "    A_aux = []\n",
    "    B_aux = []\n",
    "    Con_x = []\n",
    "    Con_y = []\n",
    "    suma_A = 0.\n",
    "    suma_B = 0.\n",
    "    #@show(A_aux)\n",
    "    #@show(length(A))\n",
    "    for i in 1:length(A)\n",
    "     #   @show(i)\n",
    "        if A[i] != 0\n",
    "      #      @show(A[i])\n",
    "            push!(A_aux,A[i])\n",
    "        end\n",
    "        if B[i] != 0\n",
    "            push!(B_aux,B[i])\n",
    "        end\n",
    "    end\n",
    "    for i in 1:length(A_aux)-2\n",
    "       # @show(i)\n",
    "       # @show(A_aux[i+1]/A_aux[i])\n",
    "        push!(Con_x,A_aux[i+1]/A_aux[i])\n",
    "        push!(Con_y,B_aux[i+1]/B_aux[i])\n",
    "    end\n",
    "        \n",
    "    #=\n",
    "    for i in 1:length(A_aux)-1        \n",
    "        suma_A = suma_A + A[i+1]/A[i]\n",
    "    end\n",
    "    for i in 1:length(B_aux)-1\n",
    "        suma_B = suma_B + B[i+1]/B[i]\n",
    "    end\n",
    "    =#\n",
    "    return Con_x,Con_y\n",
    "end\n",
    "        \n",
    "        "
   ]
  },
  {
   "cell_type": "code",
   "execution_count": 26,
   "metadata": {
    "collapsed": false
   },
   "outputs": [
    {
     "name": "stderr",
     "output_type": "stream",
     "text": [
      "WARNING: Method definition MetParametrización(Any, Any, Any, Any, Any, Any, Any, Any, Any, Any) in module Main at In[24]:2 overwritten at In[26]:2.\n"
     ]
    },
    {
     "data": {
      "text/plain": [
       "MetParametrización (generic function with 1 method)"
      ]
     },
     "execution_count": 26,
     "metadata": {},
     "output_type": "execute_result"
    }
   ],
   "source": [
    "function MetParametrización(Mapeo,modulo,orden,PuntoFijo,k,l,tipo_v,Tiempo,paso, TipoVariable)\n",
    "    Coeficienteθ,CoeficienteP,λarrayθ,λarrayP = Variedades(Mapeo,orden,PuntoFijo,k,l,tipo_v,TipoVariable)\n",
    "    Conver_θ,Conver_P=Convergencia(Coeficienteθ,CoeficienteP)     \n",
    "    \n",
    "    θ = TipoVariable[]\n",
    "    P = TipoVariable[]\n",
    "    \n",
    "    for i in 1:orden+1\n",
    "            \n",
    "        push!(θ,Coeficienteθ[i].coeffs[1].coeffs[1])\n",
    "        push!(P,CoeficienteP[i].coeffs[1].coeffs[1])\n",
    "        \n",
    "    end\n",
    "    \n",
    "    Taylor=CreaPol(θ,P,orden)\n",
    "    \n",
    "    λ_vec=CreaPol(θ.*λarrayθ,P.*λarrayP,orden)\n",
    "    \n",
    "    \n",
    "    \n",
    "    Ecua_Cohomo = PolinomioCohomo(Mapeo,Taylor,λ_vec, k,l,PuntoFijo,modulo)\n",
    "    Valor_t , Error = EvaluarPol(Ecua_Cohomo,Tiempo,paso, TipoVariable)\n",
    "    ErrorV = [Valor_t,Error]\n",
    "    \n",
    "    \n",
    "    return Taylor,ErrorV,λ_vec,Conver_θ,Conver_P\n",
    "   \n",
    "end"
   ]
  },
  {
   "cell_type": "code",
   "execution_count": 27,
   "metadata": {
    "collapsed": false
   },
   "outputs": [],
   "source": [
    "using PyPlot"
   ]
  },
  {
   "cell_type": "code",
   "execution_count": 28,
   "metadata": {
    "collapsed": false
   },
   "outputs": [
    {
     "name": "stderr",
     "output_type": "stream",
     "text": [
      "WARNING: Method definition evaluar(Any, Any, Any, Any) in module Main at In[14]:2 overwritten at In[28]:2.\n"
     ]
    },
    {
     "data": {
      "text/plain": [
       "evaluar (generic function with 1 method)"
      ]
     },
     "execution_count": 28,
     "metadata": {},
     "output_type": "execute_result"
    }
   ],
   "source": [
    "function evaluar(Tiempo, paso,A,B)\n",
    "    ValX=Float64[]\n",
    "    \n",
    "    ValY=Float64[]\n",
    "\n",
    "    for t= Tiempo[1]:paso:Tiempo[2]\n",
    "        #=\n",
    "        x = mod(evaluate(A,t),2*pi)\n",
    "        y = mod(evaluate(B,t),2*pi\n",
    "        =#\n",
    "        \n",
    "        \n",
    "        x  = evaluate(A,t)\n",
    "        y = evaluate(B,t)\n",
    "        \n",
    "        \n",
    "        \n",
    "        push!(ValX,x)\n",
    "        push!(ValY,y)\n",
    "        \n",
    "    end\n",
    "    return ValX,ValY\n",
    "    \n",
    "end"
   ]
  },
  {
   "cell_type": "code",
   "execution_count": 29,
   "metadata": {
    "collapsed": false
   },
   "outputs": [
    {
     "name": "stderr",
     "output_type": "stream",
     "text": [
      "WARNING: Method definition Rotor(Any, Any, Any, Any) in module Main at In[15]:3 overwritten at In[29]:3.\n"
     ]
    },
    {
     "data": {
      "text/plain": [
       "Rotor (generic function with 1 method)"
      ]
     },
     "execution_count": 29,
     "metadata": {},
     "output_type": "execute_result"
    }
   ],
   "source": [
    "function Rotor(x,y,a,b)\n",
    "   \n",
    "    x_n = x+y\n",
    "    y_n = y+a*x_n*(x_n-1.)*e^(-x_n)\n",
    "    #=\n",
    "    x_n = x+a*y\n",
    "    y_n = y+x_n*(x_n -1)*e^(-x_n)\n",
    "    =#\n",
    "\n",
    "    return [x_n,y_n]\n",
    "end"
   ]
  },
  {
   "cell_type": "code",
   "execution_count": 30,
   "metadata": {
    "collapsed": false
   },
   "outputs": [
    {
     "name": "stdout",
     "output_type": "stream",
     "text": [
      "typeof(t) = Array{TaylorSeries.Taylor1{TaylorSeries.TaylorN{BigFloat}},1}\n",
      "typeof(Or1) = Array{TaylorSeries.Taylor1{TaylorSeries.TaylorN{BigFloat}},1}\n",
      "typeof(AuxOr1) = Array{TaylorSeries.TaylorN{BigFloat},1}\n",
      "typeof(JPO) = Array{BigFloat,2}\n",
      "typeof(Coefθ) = BigFloat\n",
      "typeof(Cθ) = Array{TaylorSeries.TaylorN{BigFloat},1}\n",
      "typeof(λarrayθ) = Array{BigFloat,1}\n",
      "A_aux = "
     ]
    },
    {
     "data": {
      "image/png": "[encoded data removed]",
      "text/plain": [
       "PyPlot.Figure(PyObject <matplotlib.figure.Figure object at 0x7f8753129690>)"
      ]
     },
     "metadata": {},
     "output_type": "display_data"
    },
    {
     "data": {
      "image/png": "[encoded data removed]",
      "text/plain": [
       "PyPlot.Figure(PyObject <matplotlib.figure.Figure object at 0x7f8752d13910>)"
      ]
     },
     "metadata": {},
     "output_type": "display_data"
    },
    {
     "data": {
      "image/png": "[encoded data removed]",
      "text/plain": [
       "PyPlot.Figure(PyObject <matplotlib.figure.Figure object at 0x7f8752c27dd0>)"
      ]
     },
     "metadata": {},
     "output_type": "display_data"
    },
    {
     "name": "stdout",
     "output_type": "stream",
     "text": [
      "Any[]\n",
      "length(A) = 36\n",
      "i = 1\n",
      "A[i] =  1.000000000000000000000000000000000000000000000000000000000000000000000000000000 + 𝒪(‖x‖¹)\n",
      "i = 2\n",
      "A[i] =  - 5.822746339858534310277842343032207361223173842626674751657482853954398388987716e-02 + 𝒪(‖x‖¹)\n",
      "i = 3\n",
      "i = 4\n",
      "A[i] =  3.284580526187173929130895769378704278851501189906773105381819229427779407032525e-08 + 𝒪(‖x‖¹)\n",
      "i = 5\n",
      "A[i] =  7.022444359319029412654293406432623007636807173938769704109858255867348725454648e-11 + 𝒪(‖x‖¹)\n",
      "i = 6\n",
      "A[i] =  8.433543864136169686149505212619090803631439255721163688169197621594145262454562e-14 + 𝒪(‖x‖¹)\n",
      "i = 7\n",
      "A[i] =  7.18123907617147458738730640741384112623643687517283317557256462238028732063864e-17 + 𝒪(‖x‖¹)\n",
      "i = 8\n",
      "A[i] =  4.756337697703086013460843235610886947853857456297080749599432404774674203745793e-20 + 𝒪(‖x‖¹)\n",
      "i = 9\n",
      "A[i] =  2.576433305371899166821666623012068186652939338386761687109108382557835398144054e-23 + 𝒪(‖x‖¹)\n",
      "i = 10\n",
      "A[i] =  1.177580710226975254846299734413787730661343354730930236793819033603482105801894e-26 + 𝒪(‖x‖¹)\n",
      "i = 11\n",
      "A[i] =  4.63667705143874669826864857063804188147224468179229801834297429249832671891035e-30 + 𝒪(‖x‖¹)\n",
      "i = 12\n",
      "A[i] =  1.595122165208641869562219142722236880553831550555980073161551074571344301024068e-33 + 𝒪(‖x‖¹)\n",
      "i = 13\n",
      "A[i] =  4.83911266788560139425811751623680990790175196767078312863823348380030975451402e-37 + 𝒪(‖x‖¹)\n",
      "i = 14\n",
      "A[i] =  1.301168243407882761230057742602956047903660711248305248924813218813549260880581e-40 + 𝒪(‖x‖¹)\n",
      "i = 15\n",
      "A[i] =  3.103426314563032520574307864318155498545631318242412324382076616873354148112032e-44 + 𝒪(‖x‖¹)\n",
      "i = 16\n",
      "A[i] =  6.534334995358150689212580376294191017163467309555745494803579738459090234373194e-48 + 𝒪(‖x‖¹)\n",
      "i = 17\n",
      "A[i] =  1.197491842369858140368412653927603382214084486278737533693971027459506159609378e-51 + 𝒪(‖x‖¹)\n",
      "i = 18\n",
      "A[i] =  1.845596403740014055791950549230505764717124321484565162569741967751301142749017e-55 + 𝒪(‖x‖¹)\n",
      "i = 19\n",
      "A[i] =  2.173066322123746006747124009644408650927683068018383744978176692775927405820847e-59 + 𝒪(‖x‖¹)\n",
      "i = 20\n",
      "A[i] =  1.201738743179290601453194068127958011513913037811967485400178351816925599473755e-63 + 𝒪(‖x‖¹)\n",
      "i = 21\n",
      "A[i] =  - 2.670931315583598618823542565435075445250824250891403107954655854482711529714233e-67 + 𝒪(‖x‖¹)\n",
      "i = 22\n",
      "A[i] =  - 1.123183932026901636073899375307881759488111601813292125179363289684506188822542e-70 + 𝒪(‖x‖¹)\n",
      "i = 23\n",
      "A[i] =  - 2.50833542330802061324309037904325535826003337814480200350058256010369978344945e-74 + 𝒪(‖x‖¹)\n",
      "i = 24\n",
      "A[i] =  - 4.120874232919139636515847612073502770245011102129047491186292556314116776635502e-78 + 𝒪(‖x‖¹)\n",
      "i = 25\n",
      "A[i] =  - 5.017665793317387954808364418330449176471281786175746633625158798812975573472271e-82 + 𝒪(‖x‖¹)\n",
      "i = 26\n",
      "A[i] =  - 3.503106441363046295927540970125870746732737772934764585967646367684126449583771e-86 + 𝒪(‖x‖¹)\n",
      "i = 27\n",
      "A[i] =  2.489025299880984224012557908165171469769162063559157028714084442178815766481038e-90 + 𝒪(‖x‖¹)\n",
      "i = 28\n",
      "A[i] =  1.422295227489934581538138770135639733524987125477184582700820392501395383121499e-93 + 𝒪(‖x‖¹)\n",
      "i = 29\n",
      "A[i] =  3.022299742423879539500532796281656602884459599925972449289489779828471451601207e-97 + 𝒪(‖x‖¹)\n",
      "i = 30\n",
      "A[i] =  4.426603468747205733810388774640363994846895437953229485898989507617216047375458e-101 + 𝒪(‖x‖¹)\n",
      "i = 31\n",
      "A[i] =  4.48112775404601902693699786569117055267415618393144173155816683613842011512634e-105 + 𝒪(‖x‖¹)\n",
      "i = 32\n",
      "A[i] =  1.778779896588201397085793592053751381239723605951097095489867079125805283116814e-109 + 𝒪(‖x‖¹)\n",
      "i = 33\n",
      "A[i] =  - 4.60543236244186786190058339090830446460342552951410456232409061730702820162424e-113 + 𝒪(‖x‖¹)\n",
      "i = 34\n",
      "A[i] =  - 1.40346151555975077209812104970724981445290299164023218398382309746122222232709e-116 + 𝒪(‖x‖¹)\n",
      "i = 35\n",
      "A[i] =  - 2.335160279899412620794416650547024626411855371895984906272545469810030416727368e-120 + 𝒪(‖x‖¹)\n",
      "i = 36\n",
      "A[i] =  - 2.681684341240772977194609720815034366647290296049617700353701307158910891089783e-124 + 𝒪(‖x‖¹)\n",
      "i = 1\n",
      "A_aux[i + 1] / A_aux[i] =  - 5.822746339858534310277842343032207361223173842626674751657482853954398388987716e-02 + 𝒪(‖x‖¹)\n",
      "i = 2\n",
      "A_aux[i + 1] / A_aux[i] =  - 5.640947302998904086248421859641848803792510667957688145546901354020795257745361e-07 + 𝒪(‖x‖¹)\n",
      "i = 3\n",
      "A_aux[i + 1] / A_aux[i] =  2.138003408146264736837300127109454001257616685947163309707419596349428707171922e-03 + 𝒪(‖x‖¹)\n",
      "i = 4\n",
      "A_aux[i + 1] / A_aux[i] =  1.200941357825720875908205379796354260700023328653417181661428623048549120358678e-03 + 𝒪(‖x‖¹)\n",
      "i = 5\n",
      "A_aux[i + 1] / A_aux[i] =  8.515090680573621386972936399648922741741985590772563030837328079147088754364386e-04 + 𝒪(‖x‖¹)\n",
      "i = 6\n",
      "A_aux[i + 1] / A_aux[i] =  6.623282761167765841972050537414818068836101555308502696985022887800599225986233e-04 + 𝒪(‖x‖¹)\n",
      "i = 7\n",
      "A_aux[i + 1] / A_aux[i] =  5.416842682587700488284219500896364594110702235910363421893742643216372879804842e-04 + 𝒪(‖x‖¹)\n",
      "i = 8\n",
      "A_aux[i + 1] / A_aux[i] =  4.570584877053495409926434258185788298296614711143946767903460337707453503974869e-04 + 𝒪(‖x‖¹)\n",
      "i = 9\n",
      "A_aux[i + 1] / A_aux[i] =  3.937460091839514499584695141507076351103409447096954630173886649894384951971281e-04 + 𝒪(‖x‖¹)\n",
      "i = 10\n",
      "A_aux[i + 1] / A_aux[i] =  3.440227014977634346245553461064550764824023018478766469893133016634904943446072e-04 + 𝒪(‖x‖¹)\n",
      "i = 11\n",
      "A_aux[i + 1] / A_aux[i] =  3.033694079006573010622262637567338135271972258756847082658667135915853312508554e-04 + 𝒪(‖x‖¹)\n",
      "i = 12\n",
      "A_aux[i + 1] / A_aux[i] =  2.688857095729524170502574962801617163388361917075247748731973507850083404657056e-04 + 𝒪(‖x‖¹)\n",
      "i = 13\n",
      "A_aux[i + 1] / A_aux[i] =  2.385107637145266718367486193161190881843819496322515761103203988671149298714183e-04 + 𝒪(‖x‖¹)\n",
      "i = 14\n",
      "A_aux[i + 1] / A_aux[i] =  2.105522842509697446635610363495339423401283761376183071694838231456845352616841e-04 + 𝒪(‖x‖¹)\n",
      "i = 15\n",
      "A_aux[i + 1] / A_aux[i] =  1.832614708643695605741173785383467935918763086554120460767742640728852044757596e-04 + 𝒪(‖x‖¹)\n",
      "i = 16\n",
      "A_aux[i + 1] / A_aux[i] =  1.541218351924256284200703018867313578556148990201334293614872315226268312785571e-04 + 𝒪(‖x‖¹)\n",
      "i = 17\n",
      "A_aux[i + 1] / A_aux[i] =  1.177433114694052073376645851958598439395544246533478122768337132036275464005867e-04 + 𝒪(‖x‖¹)\n",
      "i = 18\n",
      "A_aux[i + 1] / A_aux[i] =  5.530152167674416596604123276092573148995752476915030245655898164163175099091519e-05 + 𝒪(‖x‖¹)\n",
      "i = 19\n",
      "A_aux[i + 1] / A_aux[i] =  - 2.222555718323142443051077181576660436554866693480277540062711588646716977145486e-04 + 𝒪(‖x‖¹)\n",
      "i = 20\n",
      "A_aux[i + 1] / A_aux[i] =  4.205214583668490530934317231830471986780603322524560414405975727378873534951039e-04 + 𝒪(‖x‖¹)\n",
      "i = 21\n",
      "A_aux[i + 1] / A_aux[i] =  2.233236562404761053841670720792858697882267842038255025559534373365184982375064e-04 + 𝒪(‖x‖¹)\n",
      "i = 22\n",
      "A_aux[i + 1] / A_aux[i] =  1.642872079478303955329896607305737255413505329463166642511102581132326182693159e-04 + 𝒪(‖x‖¹)\n",
      "i = 23\n",
      "A_aux[i + 1] / A_aux[i] =  1.217621676787495709573523506674618407939542608175535142458164665170353532554096e-04 + 𝒪(‖x‖¹)\n",
      "i = 24\n",
      "A_aux[i + 1] / A_aux[i] =  6.981545973086813827474223221266690435985912511140151118716066333672138391302804e-05 + 𝒪(‖x‖¹)\n",
      "i = 25\n",
      "A_aux[i + 1] / A_aux[i] =  - 7.105194608110489799361117874071031620067478820582057781062352567848583048301434e-05 + 𝒪(‖x‖¹)\n",
      "i = 26\n",
      "A_aux[i + 1] / A_aux[i] =  5.714265851608432264593335748605904680853927787203673988008770646718985288704038e-04 + 𝒪(‖x‖¹)\n",
      "i = 27\n",
      "A_aux[i + 1] / A_aux[i] =  2.124945429056688587146797286054938579032855144952785503771156824819916166365842e-04 + 𝒪(‖x‖¹)\n",
      "i = 28\n",
      "A_aux[i + 1] / A_aux[i] =  1.46464740297303432291644873397027983327544208294826096750938654985253289974821e-04 + 𝒪(‖x‖¹)\n",
      "i = 29\n",
      "A_aux[i + 1] / A_aux[i] =  1.01231740897592629241443259457694957518503769798111725289635132099462747870639e-04 + 𝒪(‖x‖¹)\n",
      "i = 30\n",
      "A_aux[i + 1] / A_aux[i] =  3.969491597248343442367739672504219775354379182703214898281342951153747474105002e-05 + 𝒪(‖x‖¹)\n",
      "i = 31\n",
      "A_aux[i + 1] / A_aux[i] =  - 2.589096251467279810991262877814235752946621550151143807929253262407301874075404e-04 + 𝒪(‖x‖¹)\n",
      "i = 32\n",
      "A_aux[i + 1] / A_aux[i] =  3.047404467396444117970624024320820466143894741355969501173174791932299536380651e-04 + 𝒪(‖x‖¹)\n",
      "i = 33\n",
      "A_aux[i + 1] / A_aux[i] =  1.663857721790160363863596002235239135625267218843856583334562761990412544216912e-04 + 𝒪(‖x‖¹)\n"
     ]
    },
    {
     "data": {
      "text/plain": [
       "PyObject <matplotlib.legend.Legend object at 0x7f8752c1bd90>"
      ]
     },
     "execution_count": 30,
     "metadata": {},
     "output_type": "execute_result"
    }
   ],
   "source": [
    "a=parse(BigFloat,\"5.4\")\n",
    "t=[-50.,50.]\n",
    "Polinomio1F,E1F,ValProp1F,Cx1,Cy1 = MetParametrización(Rotor,1., 35, [parse(BigFloat,\"1.\"),0.], a, 1., 2, t, 0.125, BigFloat)\n",
    "#Polinomio2F,E2F,ValProp2F ,Cx2,Cy2 = MetParametrización(Rotor,1., 35, [big(1.),0.], a, 1., 2, t, 0.125, BigFloat)\n",
    "#V=evaluar(t,0.025,Polinomio2F[1],Polinomio2F[2])\n",
    "\n",
    "B=evaluar(t,0.025,Polinomio1F[1],Polinomio1F[2])\n",
    "figure(1)\n",
    "#pygui(true)\n",
    "plot(B[1],B[2],color=\"r\",label=\"Estable\")\n",
    "#plot(V[1],V[2],color=\"b\",label=\"Inestable\")\n",
    "xlim(-10,10.2)\n",
    "ylim(-10,10)\n",
    "title(\"Mapeo exponencial con a=3.4 ,BigFloat, orden 25\")\n",
    "grid(\"on\")\n",
    "legend(loc=\"upper right\",fancybox=\"true\" )\n",
    "\n",
    "\n",
    "figure(2)\n",
    "plot(E1F[1],log10(E1F[2]),marker= \"None\", label=\"Estable\")\n",
    "#plot(E2F[1],log10(E2F[2]),marker= \"None\", label=\"Inestable\")\n",
    "xlabel(\"Parámetro t\")\n",
    "ylabel(L\"log10($|| E||_{\\infty})$\")\n",
    "title(\"Error\")\n",
    "grid(\"on\")\n",
    "legend(loc=\"upper right\",fancybox=\"true\" )\n",
    "\n",
    "figure(3)\n",
    "converX1=[]\n",
    "converY1=[]\n",
    "#converX2=[]\n",
    "#converY2=[]\n",
    "for i in 1:length(Cx1)\n",
    "    push!(converX1,Cx1[i][1][1])\n",
    "    push!(converY1,Cy1[i][1][1])\n",
    " #   push!(converX2,Cx2[i][1][1])\n",
    " #   push!(converY2,Cy2[i][1][1])\n",
    "    \n",
    "end\n",
    "plot(converX1,marker=\".\",label=L\"P(x) Inestable\")\n",
    "plot(converY1,marker=\".\",label=L\"P(y) Inestable\")\n",
    "#plot(converX2,marker=\"*\",label=L\"P(x) Inestable\")\n",
    "#plot(converY2,marker=\"*\",label=L\"P(y) Inestable\")\n",
    "\n",
    "title(\"Convergencia\")\n",
    "xlabel(\"Orden\")\n",
    "ylabel(L\"$a_{n+1}/a_{n}$\")\n",
    "legend(loc=\"upper right\",fancybox=\"true\" )\n",
    "\n"
   ]
  },
  {
   "cell_type": "code",
   "execution_count": 32,
   "metadata": {
    "collapsed": false
   },
   "outputs": [
    {
     "name": "stdout",
     "output_type": "stream",
     "text": [
      "M = BigFloat[1.000000000000000000000000000000000000000000000000000000000000000000000000000000 1.000000000000000000000000000000000000000000000000000000000000000000000000000000; -5.400000000000000355271367880050092935562133789062500000000000000000000000000000 -4.400000000000000355271367880050092935562133789062500000000000000000000000000000]\n",
      "MM = [1.0 1.0; -5.4 -4.4]\n",
      "λfloat = [-0.325227,-3.07477]\n",
      "vfloat = [0.602341 -0.23834; -0.798239 0.971182]\n",
      "Vals = BigFloat[-3.252272915132479560006594284610019767617912659891611132482269159179468167433518e-01,-3.074772708486752399270708451589090958800342523073338886751773084082053183256631]\n",
      "M = BigFloat[1.000000000000000000000000000000000000000000000000000000000000000000000000000000 -1.000000000000000000000000000000000000000000000000000000000000000000000000000000; 5.400000000000000355271367880050092935562133789062500000000000000000000000000000 -4.400000000000000355271367880050092935562133789062500000000000000000000000000000]\n",
      "Vals[k] * Id = BigFloat[-3.252272915132479560006594284610019767617912659891611132482269159179468167433518e-01 -0.000000000000000000000000000000000000000000000000000000000000000000000000000000; -0.000000000000000000000000000000000000000000000000000000000000000000000000000000 -3.252272915132479560006594284610019767617912659891611132482269159179468167433518e-01]\n",
      "M - Vals[k] * Id = BigFloat[1.325227291513247956000659428461001976761791265989161113248226915917946816743352 -1.000000000000000000000000000000000000000000000000000000000000000000000000000000; 5.400000000000000355271367880050092935562133789062500000000000000000000000000000 -4.074772708486752399270708451589090958800342523073338886751773084082053183256631]\n",
      "M = BigFloat[1.000000000000000000000000000000000000000000000000000000000000000000000000000000 -1.000000000000000000000000000000000000000000000000000000000000000000000000000000; 5.400000000000000355271367880050092935562133789062500000000000000000000000000000 -4.400000000000000355271367880050092935562133789062500000000000000000000000000000]\n",
      "Vals[k] * Id = BigFloat[-3.074772708486752399270708451589090958800342523073338886751773084082053183256631 -0.000000000000000000000000000000000000000000000000000000000000000000000000000000; -0.000000000000000000000000000000000000000000000000000000000000000000000000000000 -3.074772708486752399270708451589090958800342523073338886751773084082053183256631]\n",
      "M - Vals[k] * Id = BigFloat[4.074772708486752399270708451589090958800342523073338886751773084082053183256631 -1.000000000000000000000000000000000000000000000000000000000000000000000000000000; 5.400000000000000355271367880050092935562133789062500000000000000000000000000000 -1.325227291513247956000659428461001976761791265989161113248226915917946816743369]\n"
     ]
    },
    {
     "ename": "LoadError",
     "evalue": "Base.LinAlg.SingularException(2)",
     "output_type": "error",
     "traceback": [
      "Base.LinAlg.SingularException(2)",
      "",
      " in naivesub!(::UpperTriangular{BigFloat,Array{BigFloat,2}}, ::Array{BigFloat,1}, ::Array{BigFloat,1}) at ./linalg/triangular.jl:930",
      " in A_ldiv_B!(::UpperTriangular{BigFloat,Array{BigFloat,2}}, ::Array{BigFloat,2}) at ./linalg/bidiag.jl:436",
      " in A_ldiv_B!(::Base.LinAlg.LU{BigFloat,Array{BigFloat,2}}, ::Array{BigFloat,2}) at ./linalg/lu.jl:178",
      " in inv(::Array{BigFloat,2}) at ./linalg/dense.jl:364",
      " in EigenValores(::Array{BigFloat,2}) at ./In[17]:45",
      " in include_string(::String, ::String) at ./loading.jl:441"
     ]
    }
   ],
   "source": [
    "EigenValores(BigFloat[1.000000000000000000000000000000000000000000000000000000000000000000000000000000 1.000000000000000000000000000000000000000000000000000000000000000000000000000000; -5.400000000000000355271367880050092935562133789062500000000000000000000000000000 -4.400000000000000355271367880050092935562133789062500000000000000000000000000000])"
   ]
  },
  {
   "cell_type": "code",
   "execution_count": 34,
   "metadata": {
    "collapsed": false
   },
   "outputs": [
    {
     "data": {
      "text/plain": [
       "0.0"
      ]
     },
     "execution_count": 34,
     "metadata": {},
     "output_type": "execute_result"
    }
   ],
   "source": [
    "det([4.074772708486752399270708451589090958800342523073338886751773084082053183256631 -1.000000000000000000000000000000000000000000000000000000000000000000000000000000; 5.400000000000000355271367880050092935562133789062500000000000000000000000000000 -1.325227291513247956000659428461001976761791265989161113248226915917946816743369])"
   ]
  },
  {
   "cell_type": "code",
   "execution_count": null,
   "metadata": {
    "collapsed": true
   },
   "outputs": [],
   "source": []
  }
 ],
 "metadata": {
  "kernelspec": {
   "display_name": "Julia 0.5.2",
   "language": "julia",
   "name": "julia-0.5"
  },
  "language_info": {
   "file_extension": ".jl",
   "mimetype": "application/julia",
   "name": "julia",
   "version": "0.5.2"
  }
 },
 "nbformat": 4,
 "nbformat_minor": 2
}
