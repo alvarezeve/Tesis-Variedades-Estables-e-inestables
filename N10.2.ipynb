{
 "cells": [
  {
   "cell_type": "markdown",
   "metadata": {},
   "source": [
    "# Modificaciones : sin Taylor1, con Inverse Power \n"
   ]
  },
  {
   "cell_type": "markdown",
   "metadata": {},
   "source": [
    "Antes de seguir probando la automarización que hemos logrado debemos hacer algunas mejoras. Para ellos revisaremos cada función y de ser posible haremos más simples algunas cosas y omitiremos aquellas que sean redundantes. Es punto de esto es hacer un prógrama mejor automatizado y más simple."
   ]
  },
  {
   "cell_type": "code",
   "execution_count": 2,
   "metadata": {
    "collapsed": false
   },
   "outputs": [],
   "source": [
    "using TaylorSeries\n",
    "using PyPlot\n",
    "using LinearAlgebra\n",
    "#using GenericSVD"
   ]
  },
  {
   "cell_type": "markdown",
   "metadata": {},
   "source": [
    "La idea es quitar la necesidad de tener que usar Taylor1, ya que en las funciones de jacobian no se tiene definidas alginas cosas para Taylor1.TaylorN mientras que sí fúnciona para Taylor N. Recordemos que hay que revisar la estabilidad de las respuestas en cada paso. \n",
    "La diferencia entre el notebook anterior y este es que aislaremos la parte de g=1 del método."
   ]
  },
  {
   "cell_type": "code",
   "execution_count": 3,
   "metadata": {
    "collapsed": false
   },
   "outputs": [
    {
     "data": {
      "text/plain": [
       "PolinomioTaylor"
      ]
     },
     "execution_count": 3,
     "metadata": {},
     "output_type": "execute_result"
    }
   ],
   "source": [
    "\"\"\"\n",
    "\n",
    "PolinomioTaylor(Cθ,CP, TipoVariable)\n",
    "   \n",
    "   Es una función cuyo objetivo es recibir dos listas con valores iniciales y crear dos polinomios de grado 1.\n",
    "\n",
    "\n",
    "\n",
    "\n",
    "Argumentos:\n",
    "\n",
    "\n",
    "   - Cθ,CP  :  Arreglo que contiene los coeficientes iniciales, es del tipo Array{TaylorSeries.TaylorN{Float64}}\n",
    "   - TipoVariable :  es el tipo de número que queremos uasr: Real, Float64, BigFloat, etc.\n",
    "   \n",
    "\n",
    "    Esta función regresa dos arreglos que contienen elementos del tipo Taylor1.TaylorN, creados con los valores propios del sistema.\n",
    "\n",
    "\n",
    "\"\"\"\n",
    "function PolinomioTaylor(Cθ,CP,TipoVariable)\n",
    "    #=  \n",
    "    Separamos el primer orden puesto que es diferente de los otros.\n",
    "    Creamos θ,p como variables tipo TaylorN de orden 2, recordemos que aquí es importante el orden puesto que si se usan\n",
    "    más adelante para otras operaciones el polinomio se puede cortar si no se define adecuadamente\n",
    "    =#\n",
    "    \n",
    "    \n",
    "    \n",
    "    θ,p = set_variables(TipoVariable, \"θ p\", order=2)\n",
    "    \n",
    "    #especificamos que Lθ,LP son de arreglos que guardarán coeficientes del polinomio, sólo son auxiliares en esta función\n",
    "    \n",
    "   \n",
    "   # Lθ = Array{TaylorSeries.TaylorN{TipoVariable}}(1)\n",
    "   # LP = Array{TaylorSeries.TaylorN{TipoVariable}}(1)\n",
    "        \n",
    "    T = [Taylor1([θ], 1),Taylor1([p], 1)]\n",
    "    return T\n",
    "end\n",
    "    \n",
    "\n"
   ]
  },
  {
   "cell_type": "code",
   "execution_count": 4,
   "metadata": {
    "collapsed": false
   },
   "outputs": [
    {
     "data": {
      "text/plain": [
       "PolinomioTaylor1"
      ]
     },
     "execution_count": 4,
     "metadata": {},
     "output_type": "execute_result"
    }
   ],
   "source": [
    "\"\"\"\n",
    "\n",
    "PolinomioTaylor1(g,Cθ,CP, TipoVariable)\n",
    "   \n",
    "   Es una función cuyo objetivo es recibir dos listas con valores iniciales y crear dos polinomios de grado g.\n",
    "\n",
    "\n",
    "\n",
    "\n",
    "Argumentos:\n",
    "\n",
    "\n",
    "\n",
    "\n",
    "\n",
    "   - g       : grado del polinomio\n",
    "   - Cθ,CP  :  Arreglo que contiene los coeficientes iniciales, es del tipo Array{TaylorSeries.TaylorN{Float64}}\n",
    "   - TipoVariable :  es el tipo de número que queremos uasr: Real, Float64, BigFloat, etc.\n",
    "   \n",
    "\n",
    "    Esta función regresa dos arreglos que contienen elementos del tipo Taylor1.TaylorN, creados con las listas iniciales. \n",
    "    Funciona específicamente para orden g>1.\n",
    "\n",
    "\n",
    "\"\"\"\n",
    "function PolinomioTaylor1(g::Real,Cθ,CP,TipoVariable)\n",
    "    #=\n",
    "    g es el grado del polinomio, CX y CP son\n",
    "    arreglos que contienen los coeficientes que forman la variedad.\n",
    "    \n",
    "    \n",
    "    Creamos x,p como variables tipo TaylorN de orden 2\n",
    "    =#\n",
    "    \n",
    "    \n",
    "    \n",
    "    θ,p = set_variables(TipoVariable, \"θ p\", order=2)\n",
    "    \n",
    "    #especificamos que LX,LP son de arreglos que guardarán coeficientes del polinomio, sólo son auxiliares en esta función\n",
    "    \n",
    "   \n",
    "    Lθ = Array{TaylorSeries.TaylorN{TipoVariable}}(1)\n",
    "    LP = Array{TaylorSeries.TaylorN{TipoVariable}}(1)\n",
    "    \n",
    "    \n",
    "    \n",
    "    \n",
    "        #como CX,CP están guardando los coeficientes pero necesitamos agregar el último término que será una variable \n",
    "        \n",
    "    Lθ = push!(Cθ, θ) \n",
    "    LP = push!(CP, p)\n",
    "\n",
    "    T=[Taylor1(Lθ, g),Taylor1(LP, g)]\n",
    "        \n",
    "    \n",
    "    return T\n",
    "end\n",
    "#Esta función regresa tθ,tp que son Taylor1.TaylorN"
   ]
  },
  {
   "cell_type": "code",
   "execution_count": 5,
   "metadata": {
    "collapsed": false
   },
   "outputs": [
    {
     "data": {
      "text/plain": [
       "Vecλ"
      ]
     },
     "execution_count": 5,
     "metadata": {},
     "output_type": "execute_result"
    }
   ],
   "source": [
    "#=Esta función toma el arreglo que contiene las lambdas que se van calculando, los coeficientes de los polinomios\n",
    "y el orden de los mismos, lo que hace es generar el lado derecho de la ecuación cohomológica, multiplicando a_n*λ^n\n",
    "y generando un polinomio de gradno g con estos coeficientes\n",
    "=#\n",
    "\"\"\"\n",
    "Vecλ(λ_v,g,Cθ,CP)\n",
    "Es una función que calcula la parte derecha de la ecuación comohológica, es decir la parte que involucra el valor propio.\n",
    "Regresa un arreglo de tipo TaylorSeries.TaylorN{Float64}\n",
    "\n",
    "\n",
    "Sus argumentos son:\n",
    "-g      :  grado del polinomio.\n",
    "-λ_v    :  Arreglo de dos dimensiones que contiene el valor propio y sus potencias. \n",
    "-Cθ,CP  :  Los arreglos con los polinomios que se calculan en PolinomioTaylor1.\n",
    "\n",
    "\"\"\"\n",
    "function Vecλ(λ_v,g,Cθ,CP)\n",
    "   # el arreglo de λ_v contiene los arreglos que corresponden a la parte derecha de la ecuación cohomológica\n",
    "    # en θ,p. Es importante hacer la distinción puesto que dependiendo del punto fijo donde se esté calculando\n",
    "    # el primer valor de λ en θ serpa diferente del primer valor de λ en P\n",
    "    θλt=Taylor1(λ_v[1].*Cθ,g)\n",
    "    pλt=Taylor1(λ_v[2].*CP,g)\n",
    "    \n",
    "    λvec=[θλt,pλt]\n",
    "    \n",
    "    return λvec\n",
    "end"
   ]
  },
  {
   "cell_type": "code",
   "execution_count": 6,
   "metadata": {
    "collapsed": false
   },
   "outputs": [
    {
     "data": {
      "text/plain": [
       "EigenValores"
      ]
     },
     "execution_count": 6,
     "metadata": {},
     "output_type": "execute_result"
    }
   ],
   "source": [
    "\"\"\"\n",
    "EigenValores(M)\n",
    "\n",
    "\n",
    "Función que calcula los valores y vectores propios para una matriz de elementos de tipo BogFloat.\n",
    "El método usado es el de Inverse Power Method \n",
    "\n",
    "\n",
    "\n",
    "\n",
    "Argumentos:\n",
    "-M: Matriz tipo BigFloat (2-element Array{BigFloat,1})\n",
    "\"\"\"\n",
    "function EigenValores(M)\n",
    "    # MM sirve como matriz auxiliar para el cálculo de eigenvalores con la función eig()\n",
    "    \n",
    "    MM = [Float64(M[1]) Float64(M[3]); Float64(M[2]) Float64(M[4])]\n",
    "    λfloat,vfloat = eig(MM)\n",
    "    #Por otra parte calculamos los valores propios de M usando :\n",
    "    Vals = real(LinearAlgebra.EigenGeneral.eigvals!(M))\n",
    "    #Creamos matrices que nos ayudarán en el método\n",
    "    Id = [big(1.) big(0.); big(0.) big(1.)] #matriz identidad\n",
    "    EigVec=[big(0.) big(0.);big(0.) big(0.)] #MAtriz que guardará los vectores propios\n",
    "    ValsOrden=[big(0.0),big(0.)] #guardará los valores propios ordenados \n",
    "    \n",
    "    #vec_i =([0.6,0.3],[1.,0.]) #debemos dar un vector inicial para el cálculo\n",
    "    \n",
    "    #k recorre los dos valores propios\n",
    "    for k in [1,2]\n",
    "        #la tolerancia sirve para saber cuando paramos el método\n",
    "        tol = 0.0\n",
    "        \n",
    "        vec_i = big(rand(2,1)) # el vector inicial será un vector random\n",
    "        # comienza el método\n",
    "        #for i in[1:10]\n",
    "            \n",
    "        while abs(tol)<1e-180\n",
    "            \n",
    "            H = inv(M-Vals[k]*Id)*vec_i #calculamos H\n",
    "            \n",
    "            vec_n = H/norm(H) #normalizamos\n",
    "            vec_i =vec_n #actualizamos\n",
    "            #vec_i[k][1] = vec_n[1]\n",
    "            #vec_i[k][2] = vec_n[2]\n",
    "            tol = norm(MM*vec_i-Vals[k]*vec_i,Inf)  #calculamos el error o discrepancia\n",
    "        end\n",
    "        \n",
    "    \n",
    "        if abs(λfloat[1]-Vals[k])<1e-10\n",
    "\n",
    "            ValsOrden[1]=sign(λfloat[1])*abs(Vals[k])\n",
    "            EigVec[1]=sign(vfloat[1])*abs(vec_i[1])\n",
    "            EigVec[2]=sign(vfloat[2])*abs(vec_i[2])\n",
    "            \n",
    "        else\n",
    "            \n",
    "            ValsOrden[2]=sign(λfloat[2])*abs(Vals[k])\n",
    "            EigVec[3]=sign(vfloat[3])*abs(vec_i[1])\n",
    "            EigVec[4]=sign(vfloat[4])*abs(vec_i[2])\n",
    "    \n",
    "        end\n",
    "            \n",
    "        \n",
    "    end\n",
    "    \n",
    "    #V=(ValsOrden,EigVec)\n",
    "    \n",
    "    return ValsOrden,EigVec\n",
    "        \n",
    "        \n",
    "        \n",
    "    \n",
    "end     "
   ]
  },
  {
   "cell_type": "code",
   "execution_count": 7,
   "metadata": {
    "collapsed": false
   },
   "outputs": [
    {
     "data": {
      "text/plain": [
       "Orden1 (generic function with 1 method)"
      ]
     },
     "execution_count": 7,
     "metadata": {},
     "output_type": "execute_result"
    }
   ],
   "source": [
    "function Orden1(Cθ,CP,TipoVariable,Mapeo,k,l,PuntoFijo,tipo_v,λarrayθ,λarrayP)\n",
    "            #usamos la función PolinomioTaylor para crear el polinomio tipo Taylor1.TaylorN{T}\n",
    "            eigval=TipoVariable[0.,0.]\n",
    "            eigvec=TipoVariable[0. 0.; 0. 0.]\n",
    "            t = PolinomioTaylor(Cθ,CP,TipoVariable)\n",
    "            @show(typeof(t))\n",
    "            #Aplicamos el mapeo a los polinomios que resultan de la función anterior.\n",
    "            Or1 = Mapeo(t[1],t[2],k,l)\n",
    "            @show(typeof(Or1))\n",
    "            AuxOr1=[Or1[1][1],Or1[2][1]]\n",
    "            @show(typeof(AuxOr1))\n",
    "            #Calculamos el jacobiano del Orden 1 para obtener sus valores y vectores propios.\n",
    "            JPO = jacobian(AuxOr1,[PuntoFijo[1],PuntoFijo[2]])\n",
    "            @show(typeof(JPO))\n",
    "            \n",
    "            \n",
    "            #Calculamos los valores y vectores propios\n",
    "            if TipoVariable == BigFloat\n",
    "                eigval,eigvec = EigenValores(JPO)\n",
    "            else\n",
    "                eigval,eigvec = eig(JPO)\n",
    "            end\n",
    "            #escogemos el tipo de variedad que queremos calcular. Como se ordenan de menor a mayor la inestable es la segunda\n",
    "            λ = eigval[tipo_v]\n",
    "            \n",
    "            #Ponemos los coeficientes en una variable nueva cada uno y los agregamos a las listas CX,CP,λ\n",
    "            Coefθ,CoefP = eigvec[:,tipo_v]\n",
    "            @show(typeof(Coefθ))\n",
    "            #@show(Coefθ,CoefP)\n",
    "            push!(Cθ, Coefθ)\n",
    "            push!(CP, CoefP)\n",
    "            push!(λarrayθ, λ)\n",
    "            push!(λarrayP, λ)\n",
    "            λ_v=[λarrayθ,λarrayP]\n",
    "            \n",
    "            #@show(λarray)  \n",
    "            @show(typeof(Cθ))\n",
    "            @show(typeof(λarrayθ))\n",
    "    return Cθ, CP,λarrayθ,λarrayP, λ_v\n",
    "end\n",
    "            \n",
    "    "
   ]
  },
  {
   "cell_type": "code",
   "execution_count": 8,
   "metadata": {
    "collapsed": false
   },
   "outputs": [
    {
     "data": {
      "text/plain": [
       "Variedades"
      ]
     },
     "execution_count": 8,
     "metadata": {},
     "output_type": "execute_result"
    }
   ],
   "source": [
    "#Creamos una función que reciba el orden del polinomio , el punto fijo, el parámetro k y \n",
    "#el tipo de varidad que queremos(estable=1, inestable=2)\n",
    "\"\"\"\n",
    "Variedades(Mapeo,orden, PuntoFijo,k,tipo_v,TipoVariable)\n",
    "Es una función que calcula las variedades de cierto mapeo. Usa las funciones de PolinomioTaylor1 y Vecλ para calcular los\n",
    "polinomios de cada lado de la ecuación cohomológica y les aplica el mapeo dado. \n",
    "\n",
    "\n",
    "\n",
    "Argumentos:\n",
    "\n",
    "\n",
    "- Mapeo : Mapeo de dos dimensiones, debe recibir al menos dos parámetros que son los polinomios antes calculados.\n",
    "- orden : se trata del orden del polinomio.\n",
    "- PuntoFijo : ES el punto fijo donde queremos calcular la variedad.\n",
    "- k     : Es la constante del mapeo.\n",
    "- tipo_v : 1 si la variedad es estable, 2 si es inestable.\n",
    "- TipoVariable :  Float64,BigFloat, Integer,etc.\n",
    "\n",
    "\n",
    "\"\"\"\n",
    "function Variedades(Mapeo,orden, PuntoFijo,k,l,tipo_v, TipoVariable)\n",
    "   \n",
    "    #definimos unas listas donde se guardarán los coeficientes  de todo el polinomio, tales deben ser\n",
    "    # de tipo \"Array{TaylorSeries.TaylorN{Int64},1}\" dado que los términos que se van agregando \n",
    "    # en cada orden son de tipo TaylorN.\n",
    "    \n",
    "    a=TipoVariable(PuntoFijo[1])\n",
    "    b=TipoVariable(PuntoFijo[2])\n",
    "    Cθ = [a+TaylorN(0.)]\n",
    "    CP = [b+TaylorN(0.)]\n",
    "    \n",
    "    \n",
    "    #λarray es la lista que contiene a los coeficientes del polinomio de λ\n",
    "    λarrayθ = [a^0]\n",
    "    λarrayP = [b^0]\n",
    "    \n",
    "    #definimos un vector que contiene el punto en el que se evalúa el jacobiano que se calcula después\n",
    "    #dado que sólo lo usamos para obtener los valores que resultaron en el mapeo evaluamos siempre en [1.,1.]\n",
    "    \n",
    "    \n",
    "    \n",
    "    \n",
    "    Cθ,CP,λarayθ, λarrayP,λ_v = Orden1(Cθ,CP,TipoVariable,Mapeo,k,l,PuntoFijo,tipo_v,λarrayθ,λarrayP)\n",
    "    \n",
    "\n",
    "\n",
    "    for g in 2:orden\n",
    "        \n",
    "            #Creamos los polinomios con las listas correspondientes \n",
    "            t = PolinomioTaylor1(g,Cθ,CP,TipoVariable)\n",
    "            \n",
    "            # aplicamos el mapeo estándar y al resultado le llamamos OrG por Orden g.\n",
    "            OrG = Mapeo(t[1],t[2],k,l)\n",
    "            \n",
    "            push!(λarrayθ,λarrayθ[2]^g)\n",
    "            push!(λarrayP,λarrayP[2]^g)\n",
    "            λ_v=[λarrayθ,λarrayP]\n",
    "            \n",
    "            #agregamos el término correspondiente a λ \n",
    "            λ_vec=Vecλ(λ_v,g,Cθ,CP)\n",
    "            \n",
    "            \n",
    "            #@show(λvec)\n",
    "            \n",
    "            # ahora ya tengo las dos partes de la ecuación y debo igualarlas para resolver.\n",
    "            EcuaCohomo=OrG-λ_vec\n",
    "            \n",
    "            \n",
    "            # de esta ecuación necesitamos solo los de orden g, así que los extraemos manualmente \n",
    "            θ_g=EcuaCohomo[1].coeffs[g+1]\n",
    "            p_g=EcuaCohomo[2].coeffs[g+1]\n",
    "            vec_orden_g=[θ_g,p_g]\n",
    "            \n",
    "            \n",
    "            #calculamos el término independiene en la ecuación\n",
    "            θ_ind=EcuaCohomo[1].coeffs[g+1].coeffs[1].coeffs[1]\n",
    "            p_ind=EcuaCohomo[2].coeffs[g+1].coeffs[1].coeffs[1]\n",
    "            vec_ind=[-θ_ind,-p_ind]\n",
    "            \n",
    "            #calculamos el jacobiano\n",
    "            JacOrdenG = jacobian(vec_orden_g)\n",
    "            \n",
    "            \n",
    "            \n",
    "            \n",
    "            #Con esta información podemos evaluar lo siguiente:\n",
    "            # Si el vector de términos independientes es cero y el determinante del jacobiano es distinto de cero\n",
    "            # entonces la solución a la ecuación cohomológica es la trivial\n",
    "            if norm(vec_ind)==0.\n",
    "                if det(JacOrdenG)!=0.\n",
    "                    \n",
    "                    Cθ[g+1]=0.\n",
    "                    CP[g+1]=0.\n",
    "                end\n",
    "            else\n",
    "                # Si el vector de términos independientes es distinto de ceroentonces necesitamos \n",
    "                #resolver la ecuación JacOrdenG[x_g,p_g]*[x,p]**=vec_ind[x_g,p_g]\n",
    "                # entonces solo se trata de invertir el jacobiano y multiplicar con el vector del lado izquierdo\n",
    "                TermG=JacOrdenG \\ vec_ind\n",
    "                \n",
    "                Cθ[g+1]=TermG[1]\n",
    "                CP[g+1]=TermG[2]\n",
    "            \n",
    "            end\n",
    "            \n",
    "\n",
    "    end\n",
    "    return Cθ,CP,λarrayθ, λarrayP\n",
    "end"
   ]
  },
  {
   "cell_type": "code",
   "execution_count": 9,
   "metadata": {
    "collapsed": false
   },
   "outputs": [
    {
     "data": {
      "text/plain": [
       "PolinomioCohomo"
      ]
     },
     "execution_count": 9,
     "metadata": {},
     "output_type": "execute_result"
    }
   ],
   "source": [
    "\"\"\"\n",
    "PolinomioCohomo(Mapeo,Pol_vec,λvec, k)\n",
    "Esta función calcula la ecuación cohomológica con los polinomios que ya se calcularon. Regresa un arreglo de dos \n",
    "elementos que son los valores de x,θ del mapeo.\n",
    "\n",
    "\n",
    "Argumentos:\n",
    "-Mapeo : función o mapeo del cual calculamos las variedades.Debe ser una función que reciba tres parámetros\n",
    " que son dos de sus variables y la constante del mapeo. Como salida debe tener un arreglo de dos elementos. \n",
    "-Pol_vec : Es un arreglo de dos elementos que son los polinomios calculados con anterioridad. \n",
    "-k     : es el valor de la constante del mapeo \n",
    "-λvec : \n",
    "\n",
    "\"\"\"\n",
    "function PolinomioCohomo(Mapeo,Pol_vec,λvec, k,l ,PuntoFijo,modulo)\n",
    "    Map_vec=Mapeo(Pol_vec[1],Pol_vec[2],k,l)\n",
    "    if modulo==2*pi\n",
    "        Ec_Cohomo = mod(Map_vec-λvec,modulo)\n",
    "    else\n",
    "    Ec_Cohomo = Map_vec-λvec\n",
    "    end\n",
    "    return Ec_Cohomo\n",
    "end"
   ]
  },
  {
   "cell_type": "code",
   "execution_count": 10,
   "metadata": {
    "collapsed": false
   },
   "outputs": [
    {
     "data": {
      "text/plain": [
       "EvaluarPol"
      ]
     },
     "execution_count": 10,
     "metadata": {},
     "output_type": "execute_result"
    }
   ],
   "source": [
    "\"\"\"\n",
    "EvaluarPol(Ec_2var,Tiempo,paso)\n",
    "\n",
    "Es una función que toma un arreglo de dos dimensiones que contiene polinomios y los evalúa en el tiempo dado en los pasos deseados\n",
    "\n",
    "\n",
    "\n",
    "\n",
    "Argumentos:\n",
    "\n",
    "-Ec_2var : Arreglo de dos dimensiones que contiene polinomios en cada una de ellas. \n",
    "-Tiempo  : Valor hasta el cual se quiere evaluar cada polinomio\n",
    "-paso    : es el paso que se considera en cada evaluación del polinomio. \n",
    "\n",
    "\"\"\"\n",
    "function EvaluarPol(Ec_2var,Tiempo,paso,TipoVariable)\n",
    "    \n",
    "    \n",
    "    \n",
    "    \n",
    "    \n",
    "    Val=TipoVariable[]\n",
    "    Tiem=TipoVariable[]\n",
    "    \n",
    "    \n",
    "    for t = Tiempo[1]:paso:Tiempo[2]\n",
    "        x = evaluate(Ec_2var[1], t)\n",
    "        y = evaluate(Ec_2var[2], t)\n",
    "\n",
    "        \n",
    "        norma = norm([x,y],Inf)\n",
    "        push!(Val,norma)\n",
    "        push!(Tiem,t)\n",
    "    \n",
    "    end\n",
    "    return Tiem,Val\n",
    "end"
   ]
  },
  {
   "cell_type": "markdown",
   "metadata": {},
   "source": [
    "Esta función resume todo el proceso de parametización: Primero llama a la función Variedades que es la que contiene el método en sí. Lo que hace Variedades es crear primero dos polinomios de grado uno que tienen como primer coeficiente al punto fijo que se conoce, esto lo hace con ayuda de la función PolinomioTaylor1. Evalúa el mapeo en estos polinomios y en el primero paso calcula los valores y vectores propios del sistema. Recordemos qu se está haciendo una linearización del sistema y por ello se calculan los valores propios. Ya con esta información se escoge el primer o segundo valor propio dependiento de cuaĺ variedad se quiera calcular. Teniendo el valor propio y el vector se actualizan los nuevos coeficientes de los polinomios. Para los siguientes órdenes se hace algo diferente pues se evalúa en el mapeo los polinomios y también se evalúa la parte derecha de la ecuacuión cohomológica usando el valor propio. Con ellas se calcula la resta de ambas partes y dado que se empato ya el orden anterior entonces solo sbreviven los términos que corresponden al orden que se está calculando. A este resultado se le calcula el jacobiano con el fin de obtener las ecuaciones como un sistema. La solución de este sistema serán los nuevos coeficientes de los polinomios. \n",
    "\n",
    "El eroe es elgoque se calcula usando la ecuación cohomológica, comparando los términos del lado derecho e izquiero tomamos su resta y le calculamos la norma infinito. Se evalúa esto para los valores del parámetro usados._"
   ]
  },
  {
   "cell_type": "code",
   "execution_count": 11,
   "metadata": {
    "collapsed": false
   },
   "outputs": [
    {
     "data": {
      "text/plain": [
       "CreaPol"
      ]
     },
     "execution_count": 11,
     "metadata": {},
     "output_type": "execute_result"
    }
   ],
   "source": [
    "\"\"\"\n",
    "CreaPol es una función que dadas dos listas y un grado crea  un arreglo de dos entradas , en cada una de ellas se encuentra \n",
    "el polinomio de grado g con los coeficientes de las listas. \n",
    "\n",
    "\n",
    "Argumentos:\n",
    "\n",
    "\n",
    "- A,B : arreglos que contienen lo que serán los coeficientes del polinomio.\n",
    "- orden : grado del polinomio\n",
    "\"\"\"\n",
    "function CreaPol(A,B,orden)\n",
    "    Taylor = [Taylor1(A,orden),Taylor1(B,orden)]\n",
    "    return Taylor\n",
    "end"
   ]
  },
  {
   "cell_type": "code",
   "execution_count": 25,
   "metadata": {
    "collapsed": false
   },
   "outputs": [
    {
     "name": "stderr",
     "output_type": "stream",
     "text": [
      "WARNING: Method definition Convergencia(Any, Any) in module Main at In[22]:2 overwritten at In[25]:2.\n"
     ]
    },
    {
     "data": {
      "text/plain": [
       "Convergencia (generic function with 1 method)"
      ]
     },
     "execution_count": 25,
     "metadata": {},
     "output_type": "execute_result"
    }
   ],
   "source": [
    "function Convergencia(A,B)\n",
    "    A_aux = []\n",
    "    B_aux = []\n",
    "    Con_x = []\n",
    "    Con_y = []\n",
    "    suma_A = 0.\n",
    "    suma_B = 0.\n",
    "    @show(A_aux)\n",
    "    @show(length(A))\n",
    "    for i in 1:length(A)\n",
    "        @show(i)\n",
    "        if A[i] != 0\n",
    "            @show(A[i])\n",
    "            push!(A_aux,A[i])\n",
    "        end\n",
    "        if B[i] != 0\n",
    "            push!(B_aux,B[i])\n",
    "        end\n",
    "    end\n",
    "    for i in 1:length(A_aux)-2\n",
    "        @show(i)\n",
    "        @show(A_aux[i+1]/A_aux[i])\n",
    "        push!(Con_x,A_aux[i+1]/A_aux[i])\n",
    "        push!(Con_y,B_aux[i+1]/B_aux[i])\n",
    "    end\n",
    "        \n",
    "    #=\n",
    "    for i in 1:length(A_aux)-1        \n",
    "        suma_A = suma_A + A[i+1]/A[i]\n",
    "    end\n",
    "    for i in 1:length(B_aux)-1\n",
    "        suma_B = suma_B + B[i+1]/B[i]\n",
    "    end\n",
    "    =#\n",
    "    return Con_x,Con_y\n",
    "end\n",
    "        \n",
    "        "
   ]
  },
  {
   "cell_type": "code",
   "execution_count": 26,
   "metadata": {
    "collapsed": false
   },
   "outputs": [
    {
     "name": "stderr",
     "output_type": "stream",
     "text": [
      "WARNING: Method definition MetParametrización(Any, Any, Any, Any, Any, Any, Any, Any, Any, Any) in module Main at In[23]:2 overwritten at In[26]:2.\n"
     ]
    },
    {
     "data": {
      "text/plain": [
       "MetParametrización (generic function with 1 method)"
      ]
     },
     "execution_count": 26,
     "metadata": {},
     "output_type": "execute_result"
    }
   ],
   "source": [
    "function MetParametrización(Mapeo,modulo,orden,PuntoFijo,k,l,tipo_v,Tiempo,paso, TipoVariable)\n",
    "    Coeficienteθ,CoeficienteP,λarrayθ,λarrayP = Variedades(Mapeo,orden,PuntoFijo,k,l,tipo_v,TipoVariable)\n",
    "    Conver_θ,Conver_P=Convergencia(Coeficienteθ,CoeficienteP)     \n",
    "    \n",
    "    θ = TipoVariable[]\n",
    "    P = TipoVariable[]\n",
    "    \n",
    "    for i in 1:orden+1\n",
    "            \n",
    "        push!(θ,Coeficienteθ[i].coeffs[1].coeffs[1])\n",
    "        push!(P,CoeficienteP[i].coeffs[1].coeffs[1])\n",
    "        \n",
    "    end\n",
    "    \n",
    "    Taylor=CreaPol(θ,P,orden)\n",
    "    \n",
    "    λ_vec=CreaPol(θ.*λarrayθ,P.*λarrayP,orden)\n",
    "    \n",
    "    \n",
    "    \n",
    "    Ecua_Cohomo = PolinomioCohomo(Mapeo,Taylor,λ_vec, k,l,PuntoFijo,modulo)\n",
    "    Valor_t , Error = EvaluarPol(Ecua_Cohomo,Tiempo,paso, TipoVariable)\n",
    "    ErrorV = [Valor_t,Error]\n",
    "    \n",
    "    \n",
    "    return Taylor,ErrorV,λ_vec,Conver_θ,Conver_P\n",
    "   \n",
    "end"
   ]
  },
  {
   "cell_type": "code",
   "execution_count": 14,
   "metadata": {
    "collapsed": false
   },
   "outputs": [
    {
     "data": {
      "text/plain": [
       "EstandarMap"
      ]
     },
     "execution_count": 14,
     "metadata": {},
     "output_type": "execute_result"
    }
   ],
   "source": [
    "# necesitamos también definir el mapeo estandar \n",
    "\"\"\"EstandarMap(θ,p,k)\n",
    "   \n",
    "   Función que define el mapeo estándar.\n",
    "\n",
    "\n",
    "   θ,p son las entradas del mapeo, mienrras que k es la constante del mapeo.\n",
    "\"\"\"\n",
    "function EstandarMap(θ,p,k,l)\n",
    "    #x_n = mod([ θ+p, p+k*sin(θ+p) ], 2*pi)\n",
    "    x_n = mod(θ+p,2*pi)\n",
    "    y_n = mod(p+k*sin(θ+p),2*pi)\n",
    "    \n",
    "    return [x_n,y_n]\n",
    "    \n",
    "end"
   ]
  },
  {
   "cell_type": "markdown",
   "metadata": {},
   "source": [
    "Lo que queremos observar es que pasa cuando se usan diferentes tipos de números. Sobre todo para evaluar si es conveniente usar alguno con mayor presición, es decir que disminuya de forma significativa el error cometido usando uno u otro tipo. "
   ]
  },
  {
   "cell_type": "markdown",
   "metadata": {},
   "source": [
    "Primero veremos que pasa cuando se usa Float 64 en un polinomio de 5° grado "
   ]
  },
  {
   "cell_type": "code",
   "execution_count": 15,
   "metadata": {
    "collapsed": false
   },
   "outputs": [],
   "source": [
    "using PyPlot"
   ]
  },
  {
   "cell_type": "code",
   "execution_count": 16,
   "metadata": {
    "collapsed": false
   },
   "outputs": [
    {
     "data": {
      "text/plain": [
       "evaluar (generic function with 1 method)"
      ]
     },
     "execution_count": 16,
     "metadata": {},
     "output_type": "execute_result"
    }
   ],
   "source": [
    "function evaluar(Tiempo, paso,A,B)\n",
    "    ValX=Float64[]\n",
    "    \n",
    "    ValY=Float64[]\n",
    "\n",
    "    for t= Tiempo[1]:paso:Tiempo[2]\n",
    "        #=\n",
    "        x = mod(evaluate(A,t),2*pi)\n",
    "        y = mod(evaluate(B,t),2*pi\n",
    "        =#\n",
    "        \n",
    "        \n",
    "        x  = evaluate(A,t)\n",
    "        y = evaluate(B,t)\n",
    "        \n",
    "        \n",
    "        \n",
    "        push!(ValX,x)\n",
    "        push!(ValY,y)\n",
    "        \n",
    "    end\n",
    "    return ValX,ValY\n",
    "    \n",
    "end"
   ]
  },
  {
   "cell_type": "code",
   "execution_count": null,
   "metadata": {
    "collapsed": false
   },
   "outputs": [],
   "source": [
    "PolinomioFI,EFI,ValPropFI = MetParametrización(EstandarMap,2*pi, 5, [0.,0.], 0.3, 0.0, 1, 2.9, 0.125, Float64)"
   ]
  },
  {
   "cell_type": "code",
   "execution_count": null,
   "metadata": {
    "collapsed": false
   },
   "outputs": [],
   "source": [
    "#Usando Float64\n",
    "PolinomioFE,EFE,ValPropFE = MetParametrización(EstandarMap,2*pi, 50, [0.0,0.0], 0.3, 0.0, 1, 2.9, 0.125, BigFloat)"
   ]
  },
  {
   "cell_type": "markdown",
   "metadata": {},
   "source": [
    "Calculamos el mismo polinomio pero ahora usando BigFloat para ver la diferencia sobre todo en el error. "
   ]
  },
  {
   "cell_type": "code",
   "execution_count": null,
   "metadata": {
    "collapsed": false
   },
   "outputs": [],
   "source": [
    "V=evaluar(4.7,0.025,PolinomioFI[1],PolinomioFI[2])\n",
    "B=evaluar(5.7,0.025,PolinomioFE[1],PolinomioFE[2])\n",
    "figure()\n",
    "#pygui(true)\n",
    "plot(V[1],V[2],label=\"inestable\")\n",
    "plot(B[1],B[2],label=\"instable B\")\n",
    "xlim(0,2*pi)\n",
    "ylim(0,2*pi)\n",
    "title(\"Float64\")"
   ]
  },
  {
   "cell_type": "code",
   "execution_count": 14,
   "metadata": {
    "collapsed": false
   },
   "outputs": [
    {
     "data": {
      "text/plain": [
       "Henon (generic function with 1 method)"
      ]
     },
     "execution_count": 14,
     "metadata": {},
     "output_type": "execute_result"
    }
   ],
   "source": [
    "function Henon(x,y,a,b)\n",
    "   \n",
    "    x_n = a-b*y-x^2\n",
    "    y_n = x \n",
    "\n",
    "    return [x_n,y_n]\n",
    "end"
   ]
  },
  {
   "cell_type": "code",
   "execution_count": 49,
   "metadata": {
    "collapsed": false
   },
   "outputs": [
    {
     "data": {
      "text/plain": [
       "Parametro (generic function with 1 method)"
      ]
     },
     "execution_count": 49,
     "metadata": {},
     "output_type": "execute_result"
    }
   ],
   "source": [
    "function Parametro(a)\n",
    "    x1 = -1.+(1.+a)^.5\n",
    "    x2 = -1.-(1.+a)^.5\n",
    "    return x1,x2\n",
    "end"
   ]
  },
  {
   "cell_type": "code",
   "execution_count": 124,
   "metadata": {
    "collapsed": false
   },
   "outputs": [
    {
     "name": "stdout",
     "output_type": "stream",
     "text": [
      "x2 = -2.140175425099137974267398990732759887063168335514280896480897348489217488596647\n",
      "typeof(t) = "
     ]
    },
    {
     "data": {
      "image/png": "[encoded data removed]",
      "text/plain": [
       "PyPlot.Figure(PyObject <matplotlib.figure.Figure object at 0x7f7367247a50>)"
      ]
     },
     "metadata": {},
     "output_type": "display_data"
    },
    {
     "name": "stdout",
     "output_type": "stream",
     "text": [
      "Array{TaylorSeries.Taylor1{TaylorSeries.TaylorN{BigFloat}},1}\n",
      "typeof(Or1) = Array{TaylorSeries.Taylor1{TaylorSeries.TaylorN{BigFloat}},1}\n",
      "typeof(AuxOr1) = Array{TaylorSeries.TaylorN{BigFloat},1}\n",
      "typeof(JPO) = Array{BigFloat,2}\n",
      "typeof(Coefθ) = BigFloat\n",
      "typeof(Cθ) = Array{TaylorSeries.TaylorN{BigFloat},1}\n",
      "typeof(λarrayθ) = Array{BigFloat,1}\n"
     ]
    },
    {
     "data": {
      "text/plain": [
       "(-10,10)"
      ]
     },
     "execution_count": 124,
     "metadata": {},
     "output_type": "execute_result"
    }
   ],
   "source": [
    "a=big(0.3)\n",
    "#x2=-3.\n",
    "t=[-150.,150.]\n",
    "x1,x2=Parametro(a)\n",
    "\n",
    "@show(x2)\n",
    "PolinomioB,EB,ValPropB,Cx,Cy = MetParametrización(Henon,1., 35, [x2,x2], a, 1., 2, t, 0.125, BigFloat)\n",
    "#PolinomioF,EF,ValPropF = MetParametrización(Henon,1., 35, Float64[x2,x2], a, 1., 1, t, 0.125, Float64)\n",
    "\n",
    "B=evaluar(t,0.025,PolinomioB[1],PolinomioB[2])\n",
    "#F=evaluar(50,0.025,PolinomioF[1],PolinomioF[2])\n",
    "#pygui(true)\n",
    "\n",
    "plot(B[1],B[2],color=\"r\",label=\"estable\")\n",
    "#plot(F[1],F[2],color=\"b\",label=\"inestable\")\n",
    "xlim(-10,10)\n",
    "ylim(-10,10)\n",
    "\n",
    "\n"
   ]
  },
  {
   "cell_type": "code",
   "execution_count": 125,
   "metadata": {
    "collapsed": false
   },
   "outputs": [
    {
     "data": {
      "image/png": "[encoded data removed]",
      "text/plain": [
       "PyPlot.Figure(PyObject <matplotlib.figure.Figure object at 0x7f736655dad0>)"
      ]
     },
     "metadata": {},
     "output_type": "display_data"
    },
    {
     "data": {
      "text/plain": [
       "1-element Array{Any,1}:\n",
       " PyObject <matplotlib.lines.Line2D object at 0x7f73665a82d0>"
      ]
     },
     "execution_count": 125,
     "metadata": {},
     "output_type": "execute_result"
    }
   ],
   "source": [
    "plot(EB[1],log10(EB[2]))"
   ]
  },
  {
   "cell_type": "code",
   "execution_count": 27,
   "metadata": {
    "collapsed": false
   },
   "outputs": [
    {
     "ename": "LoadError",
     "evalue": "UndefVarError: Cx not defined",
     "output_type": "error",
     "traceback": [
      "UndefVarError: Cx not defined",
      "",
      " in anonymous at ./<missing>:?",
      " in include_string(::String, ::String) at ./loading.jl:441"
     ]
    }
   ],
   "source": [
    "converX=[]\n",
    "converY=[]\n",
    "for i in 1:length(Cx)\n",
    "    push!(converX,Cx[i][1][1])\n",
    "    push!(converY,Cy[i][1][1])\n",
    "end\n",
    "plot(converX,marker=\".\",label=\"coeficientes x\")\n",
    "plot(converY,marker=\"_\",label=\"coeficientes y\")\n",
    "title(\"Convergencia\")\n",
    "xlabel(\"Orden\")\n",
    "ylabel(L\"$a_{n+1}/a_{n}$\")\n",
    "legend(loc=\"upper right\",fancybox=\"true\" )\n",
    "\n"
   ]
  },
  {
   "cell_type": "code",
   "execution_count": 28,
   "metadata": {
    "collapsed": false
   },
   "outputs": [
    {
     "name": "stderr",
     "output_type": "stream",
     "text": [
      "WARNING: Method definition Rotor(Any, Any, Any, Any) in module Main at In[17]:3 overwritten at In[28]:3.\n"
     ]
    },
    {
     "data": {
      "text/plain": [
       "Rotor (generic function with 1 method)"
      ]
     },
     "execution_count": 28,
     "metadata": {},
     "output_type": "execute_result"
    }
   ],
   "source": [
    "function Rotor(x,y,a,b)\n",
    "   \n",
    "    x_n = x+y\n",
    "    y_n = y+a*x_n*(x_n-1.)*e^(-x_n)\n",
    "    #=\n",
    "    x_n = x+a*y\n",
    "    y_n = y+x_n*(x_n -1)*e^(-x_n)\n",
    "    =#\n",
    "\n",
    "    return [x_n,y_n]\n",
    "end"
   ]
  },
  {
   "cell_type": "code",
   "execution_count": 31,
   "metadata": {
    "collapsed": false
   },
   "outputs": [
    {
     "name": "stdout",
     "output_type": "stream",
     "text": [
      "typeof(t) = Array{TaylorSeries.Taylor1{TaylorSeries.TaylorN{BigFloat}},1}\n",
      "typeof(Or1) = Array{TaylorSeries.Taylor1{TaylorSeries.TaylorN{BigFloat}},1}\n",
      "typeof(AuxOr1) = Array{TaylorSeries.TaylorN{BigFloat},1}\n",
      "typeof(JPO) = Array{BigFloat,2}\n",
      "typeof(Coefθ) = BigFloat\n",
      "typeof(Cθ) = Array{TaylorSeries.TaylorN{BigFloat},1}\n",
      "typeof(λarrayθ) = Array{BigFloat,1}\n",
      "A_aux = Any[]\n",
      "length(A) = 36\n",
      "i = 1\n",
      "A[i] =  1.000000000000000000000000000000000000000000000000000000000000000000000000000000 + 𝒪(‖x‖¹)\n",
      "i = 2\n",
      "A[i] =  - 7.308401653623428523815068929208218080785741760637848081172882231870329935650363e-01 + 𝒪(‖x‖¹)\n",
      "i = 3\n",
      "A[i] =  3.427592564896947339196041652451237297140174026494481774325477173424372834957996e-80 + 𝒪(‖x‖¹)\n",
      "i = 4\n",
      "A[i] =  9.12419238898769001725768180616794780957445613616086469367915301597785011247276e-05 + 𝒪(‖x‖¹)\n",
      "i = 5\n",
      "A[i] =  2.934610157106622066914611557434342371645197158513200124889038898623187103148044e-06 + 𝒪(‖x‖¹)\n",
      "i = 6\n",
      "A[i] =  5.299132074192050598760401987447115510143456481568844938001737422762494303449793e-08 + 𝒪(‖x‖¹)\n",
      "i = 7\n",
      "A[i] =  6.776100625766546416235055625951795639290145009121368609513386232104744815389847e-10 + 𝒪(‖x‖¹)\n",
      "i = 8\n",
      "A[i] =  6.726083440437290868137707312359576094203173047687046829489382304972701857167325e-12 + 𝒪(‖x‖¹)\n",
      "i = 9\n",
      "A[i] =  5.443932529388830075611461595769663460670662263440294645705084631722854128442434e-14 + 𝒪(‖x‖¹)\n",
      "i = 10\n",
      "A[i] =  3.701698368576694257592298252935103464717611414278504464279163922690888809102773e-16 + 𝒪(‖x‖¹)\n",
      "i = 11\n",
      "A[i] =  2.15486790751027783910821396755458112809913227089111102333216912459691015391654e-18 + 𝒪(‖x‖¹)\n",
      "i = 12\n",
      "A[i] =  1.086105392715950977224786302942264767923709467771835799028867757920698227206227e-20 + 𝒪(‖x‖¹)\n",
      "i = 13\n",
      "A[i] =  4.762456814246062088601441027785235541322980660705190668398449851085639186452097e-23 + 𝒪(‖x‖¹)\n",
      "i = 14\n",
      "A[i] =  1.812121328970355006417462627815190247996433082953365435020261099006141696513611e-25 + 𝒪(‖x‖¹)\n",
      "i = 15\n",
      "A[i] =  5.900758862288704430641267653653568085406469072522530996705007736512551177648216e-28 + 𝒪(‖x‖¹)\n",
      "i = 16\n",
      "A[i] =  1.582653836382405114379205225698551667735303143282677476408891729920748178180858e-30 + 𝒪(‖x‖¹)\n",
      "i = 17\n",
      "A[i] =  3.110721342969468919492842630353960141996298723023468382460691500333556503751068e-33 + 𝒪(‖x‖¹)\n",
      "i = 18\n",
      "A[i] =  2.079584146818636657903314117649263369007860406293440213842165216205431682116372e-36 + 𝒪(‖x‖¹)\n",
      "i = 19\n",
      "A[i] =  - 1.684344506266927677904566030622344830733984066832981635329689760465412812455451e-38 + 𝒪(‖x‖¹)\n",
      "i = 20\n",
      "A[i] =  - 1.034694515584510067736429638474029729610908947006299278126910010668184937168503e-40 + 𝒪(‖x‖¹)\n",
      "i = 21\n",
      "A[i] =  - 3.741346339436813319879885182112748335401696419986393366609355269033728695494452e-43 + 𝒪(‖x‖¹)\n",
      "i = 22\n",
      "A[i] =  - 9.904679010657528416936157975550737216858565895838882310368753994384756094740733e-46 + 𝒪(‖x‖¹)\n",
      "i = 23\n",
      "A[i] =  - 1.832831484434842541766893757663777305221051803787611820603626636784883174176052e-48 + 𝒪(‖x‖¹)\n",
      "i = 24\n",
      "A[i] =  - 1.227297107887872120510115108109947632701437117941103137838658902454957407626207e-51 + 𝒪(‖x‖¹)\n",
      "i = 25\n",
      "A[i] =  7.277084605441475432397384388777761002964572061376188833739016412233650569362426e-54 + 𝒪(‖x‖¹)\n",
      "i = 26\n",
      "A[i] =  4.006569215865292287922469916842603572483658967635073207672240423804420947987928e-56 + 𝒪(‖x‖¹)\n",
      "i = 27\n",
      "A[i] =  1.242256137691013234181196273941625334423642200074943482170259793032130884959397e-58 + 𝒪(‖x‖¹)\n",
      "i = 28\n",
      "A[i] =  2.689730887489180951615087367842021376693388687063446695718785182064117674150469e-61 + 𝒪(‖x‖¹)\n",
      "i = 29\n",
      "A[i] =  3.478281819762617583289865026571641726363019182062501966173176055654757418388784e-64 + 𝒪(‖x‖¹)\n",
      "i = 30\n",
      "A[i] =  - 1.951220366668646341706106130577174468482051437411463094302520659669895592252522e-67 + 𝒪(‖x‖¹)\n",
      "i = 31\n",
      "A[i] =  - 2.807275212046569931300563576663804859435950557312284579541055111066996815119111e-69 + 𝒪(‖x‖¹)\n",
      "i = 32\n",
      "A[i] =  - 9.955887571952947786256347874806137221289595528851963799641685724634045176485695e-72 + 𝒪(‖x‖¹)\n",
      "i = 33\n",
      "A[i] =  - 2.311341437803157446197330648728007441878288490670177921818923914452070136289667e-74 + 𝒪(‖x‖¹)\n",
      "i = 34\n",
      "A[i] =  - 3.463482850909868443993788177717438394328502000480463331005894511107378118884467e-77 + 𝒪(‖x‖¹)\n",
      "i = 35\n",
      "A[i] =  - 8.509941461965495448614244524852316795396666699978808644816289403440750919935851e-81 + 𝒪(‖x‖¹)\n",
      "i = 36\n",
      "A[i] =  1.480041542442878494274838731775504071029451672444125268612901788690761414919123e-82 + 𝒪(‖x‖¹)\n",
      "i = 1\n",
      "A_aux[i + 1] / A_aux[i] =  - 7.308401653623428523815068929208218080785741760637848081172882231870329935650363e-01 + 𝒪(‖x‖¹)\n",
      "i = 2\n",
      "A_aux[i + 1] / A_aux[i] =  - 4.68993458124675326997719807418357884856791465625389368204290496346235444494106e-80 + 𝒪(‖x‖¹)\n",
      "i = 3\n",
      "A_aux[i + 1] / A_aux[i] =  2.661982781276693084985311404016818959034461709304362047990787491003548468971656e+75 + 𝒪(‖x‖¹)\n",
      "i = 4\n",
      "A_aux[i + 1] / A_aux[i] =  3.216295790352367723930897033675688798291013592221380881820677383774915128359587e-02 + 𝒪(‖x‖¹)\n",
      "i = 5\n",
      "A_aux[i + 1] / A_aux[i] =  1.805736295623241537979287356291615743004751036378079067361400410804185234950792e-02 + 𝒪(‖x‖¹)\n",
      "i = 6\n",
      "A_aux[i + 1] / A_aux[i] =  1.27871895451854474298832014194650044882377945819804234080687656269008868882792e-02 + 𝒪(‖x‖¹)\n",
      "i = 7\n",
      "A_aux[i + 1] / A_aux[i] =  9.926185887589888980192359379384229750671626629465877113677769493109871127516523e-03 + 𝒪(‖x‖¹)\n",
      "i = 8\n",
      "A_aux[i + 1] / A_aux[i] =  8.09376300130302458852249398419170884889656086502670675956949297991090490350055e-03 + 𝒪(‖x‖¹)\n",
      "i = 9\n",
      "A_aux[i + 1] / A_aux[i] =  6.799677160936948781809992233411027875658053754218157601636560377514134348347732e-03 + 𝒪(‖x‖¹)\n",
      "i = 10\n",
      "A_aux[i + 1] / A_aux[i] =  5.82129523518910086873917272611453166930069384230197908914270433862060550195619e-03 + 𝒪(‖x‖¹)\n",
      "i = 11\n",
      "A_aux[i + 1] / A_aux[i] =  5.040241162488845959349462044801380067565066397180814961332875208015402040798211e-03 + 𝒪(‖x‖¹)\n",
      "i = 12\n",
      "A_aux[i + 1] / A_aux[i] =  4.384893810661325839206907932003643292446384425237962356971793154183892301554244e-03 + 𝒪(‖x‖¹)\n",
      "i = 13\n",
      "A_aux[i + 1] / A_aux[i] =  3.805013671829440856516549180324590368911126328523223911318303437215271046359231e-03 + 𝒪(‖x‖¹)\n",
      "i = 14\n",
      "A_aux[i + 1] / A_aux[i] =  3.256271402997893070705168085890515755728662437334951012979620661620423171563032e-03 + 𝒪(‖x‖¹)\n",
      "i = 15\n",
      "A_aux[i + 1] / A_aux[i] =  2.682119153346570267068997173891049335163553814483910081073905162957264486709066e-03 + 𝒪(‖x‖¹)\n",
      "i = 16\n",
      "A_aux[i + 1] / A_aux[i] =  1.965509621535361436963139149383690937798430628048045343665807453476522670827883e-03 + 𝒪(‖x‖¹)\n",
      "i = 17\n",
      "A_aux[i + 1] / A_aux[i] =  6.685215156023852638982383462358400327441479621649156692341052459285057463452766e-04 + 𝒪(‖x‖¹)\n",
      "i = 18\n",
      "A_aux[i + 1] / A_aux[i] =  - 8.099429440466020426652573578322442941422278656202251154879506046222437769073152e-03 + 𝒪(‖x‖¹)\n",
      "i = 19\n",
      "A_aux[i + 1] / A_aux[i] =  6.143010006175875092070538813876055065234968949720565514656590851504189541846063e-03 + 𝒪(‖x‖¹)\n",
      "i = 20\n",
      "A_aux[i + 1] / A_aux[i] =  3.61589462695014528665348514200454946787145629729410294268694630295119231179001e-03 + 𝒪(‖x‖¹)\n",
      "i = 21\n",
      "A_aux[i + 1] / A_aux[i] =  2.647356890286849133317585235202820383620861794799843788325429829362977701548442e-03 + 𝒪(‖x‖¹)\n",
      "i = 22\n",
      "A_aux[i + 1] / A_aux[i] =  1.850470350894459585041919173208938048146531858835246523127790076418229296788154e-03 + 𝒪(‖x‖¹)\n",
      "i = 23\n",
      "A_aux[i + 1] / A_aux[i] =  6.696180845378219673885795515689904971465339476032551560486629526936419818789571e-04 + 𝒪(‖x‖¹)\n",
      "i = 24\n",
      "A_aux[i + 1] / A_aux[i] =  - 5.929358554396855821351053921568206364821671263901520339908318566118908454084135e-03 + 𝒪(‖x‖¹)\n",
      "i = 25\n",
      "A_aux[i + 1] / A_aux[i] =  5.505734003517508448612687919237179101374686627212929176403306350039164957485675e-03 + 𝒪(‖x‖¹)\n",
      "i = 26\n",
      "A_aux[i + 1] / A_aux[i] =  3.10054830145427846008956622279181325913921471068822027034963417227253380549602e-03 + 𝒪(‖x‖¹)\n",
      "i = 27\n",
      "A_aux[i + 1] / A_aux[i] =  2.165198308046676420748565322343214388206460356662503199165263687076993197180069e-03 + 𝒪(‖x‖¹)\n",
      "i = 28\n",
      "A_aux[i + 1] / A_aux[i] =  1.293170939866603462298324353581441675070844508776472450609755412056270297369613e-03 + 𝒪(‖x‖¹)\n",
      "i = 29\n",
      "A_aux[i + 1] / A_aux[i] =  - 5.609724765780512126254546892208778349084614352675945237242120362259744693666854e-04 + 𝒪(‖x‖¹)\n",
      "i = 30\n",
      "A_aux[i + 1] / A_aux[i] =  1.438727916129474108548814332084958759801127495807754219719804590710878234328681e-02 + 𝒪(‖x‖¹)\n",
      "i = 31\n",
      "A_aux[i + 1] / A_aux[i] =  3.546459402779704883280485179448431131423828165522399028739543002957414842955027e-03 + 𝒪(‖x‖¹)\n",
      "i = 32\n",
      "A_aux[i + 1] / A_aux[i] =  2.321582501910238531777255961455377010667152123613520894290454260506284552096508e-03 + 𝒪(‖x‖¹)\n",
      "i = 33\n",
      "A_aux[i + 1] / A_aux[i] =  1.498473048707930319079897412792453620867527397585392592442950487912832853276096e-03 + 𝒪(‖x‖¹)\n",
      "i = 34\n",
      "A_aux[i + 1] / A_aux[i] =  2.457047379267348060586252773453209899937932451834781672969282457921748595247421e-04 + 𝒪(‖x‖¹)\n",
      "typeof(t) = Array{TaylorSeries.Taylor1{TaylorSeries.TaylorN{BigFloat}},1}\n",
      "typeof(Or1) = Array{TaylorSeries.Taylor1{TaylorSeries.TaylorN{BigFloat}},1}\n",
      "typeof(AuxOr1) = Array{TaylorSeries.TaylorN{BigFloat},1}\n",
      "typeof(JPO) = Array{BigFloat,2}\n",
      "typeof(Coefθ) = BigFloat\n",
      "typeof(Cθ) = Array{TaylorSeries.TaylorN{BigFloat},1}\n",
      "typeof(λarrayθ) = Array{BigFloat,1}\n"
     ]
    },
    {
     "data": {
      "image/png": "[encoded data removed]",
      "text/plain": [
       "PyPlot.Figure(PyObject <matplotlib.figure.Figure object at 0x7f8529a1ba90>)"
      ]
     },
     "metadata": {},
     "output_type": "display_data"
    },
    {
     "data": {
      "image/png": "[encoded data removed]",
      "text/plain": [
       "PyPlot.Figure(PyObject <matplotlib.figure.Figure object at 0x7f8529613550>)"
      ]
     },
     "metadata": {},
     "output_type": "display_data"
    },
    {
     "data": {
      "image/png": "[encoded data removed]",
      "text/plain": [
       "PyPlot.Figure(PyObject <matplotlib.figure.Figure object at 0x7f852941a5d0>)"
      ]
     },
     "metadata": {},
     "output_type": "display_data"
    },
    {
     "name": "stdout",
     "output_type": "stream",
     "text": [
      "A_aux = Any[]\n",
      "length(A) = 36\n",
      "i = 1\n",
      "A[i] =  1.000000000000000000000000000000000000000000000000000000000000000000000000000000 + 𝒪(‖x‖¹)\n",
      "i = 2\n",
      "A[i] =  - 7.057534075530391191277450012330480451808485575364283013479793792573915875791441e-02 + 𝒪(‖x‖¹)\n",
      "i = 3\n",
      "A[i] =  - 3.345438425634337657211908837585816357012883583519221187621340210714468303460841e-82 + 𝒪(‖x‖¹)\n",
      "i = 4\n",
      "A[i] =  8.216486831900382703970609629105163546284998701967316777340992086972064143478818e-08 + 𝒪(‖x‖¹)\n",
      "i = 5\n",
      "A[i] =  2.551953298334620156197195295050430954638724536433724780028885313790112260367327e-10 + 𝒪(‖x‖¹)\n",
      "i = 6\n",
      "A[i] =  4.449975566538895277793791983915016836524172491164202804300177163245042721678356e-13 + 𝒪(‖x‖¹)\n",
      "i = 7\n",
      "A[i] =  5.494944441582714331487608682846490317696807394153487904231470135103873686046549e-16 + 𝒪(‖x‖¹)\n",
      "i = 8\n",
      "A[i] =  5.267157272364083117084912347698742981636089723857315639125520693293271267557923e-19 + 𝒪(‖x‖¹)\n",
      "i = 9\n",
      "A[i] =  4.116777033638164009018066816496045582432736609346049291178265148828648788696303e-22 + 𝒪(‖x‖¹)\n",
      "i = 10\n",
      "A[i] =  2.703187783549353719066439206135514591619038909777504039562954550305559619903156e-25 + 𝒪(‖x‖¹)\n",
      "i = 11\n",
      "A[i] =  1.519589969759703475533300682027295465107581000135178952476845276568017210446123e-28 + 𝒪(‖x‖¹)\n",
      "i = 12\n",
      "A[i] =  7.396194298661827632460066784707797349463068443953331475049907583326142899203343e-32 + 𝒪(‖x‖¹)\n",
      "i = 13\n",
      "A[i] =  3.131828475877472794253845597125644371001534486704549224295577369959589534850783e-35 + 𝒪(‖x‖¹)\n",
      "i = 14\n",
      "A[i] =  1.150760024101012400476300896767840552121329600531981855436920700758026933541921e-38 + 𝒪(‖x‖¹)\n",
      "i = 15\n",
      "A[i] =  3.618561335052055003981607962919354085429963617633064505672740692994590698730964e-42 + 𝒪(‖x‖¹)\n",
      "i = 16\n",
      "A[i] =  9.37226548864333799236698960847362844016599240789426312622416145033627848761433e-46 + 𝒪(‖x‖¹)\n",
      "i = 17\n",
      "A[i] =  1.778895076046814614226877092228881888992614371044244488712640055118659135485286e-49 + 𝒪(‖x‖¹)\n",
      "i = 18\n",
      "A[i] =  1.148408236386913275756513799554427912176987473430539209441611240721407610464928e-53 + 𝒪(‖x‖¹)\n",
      "i = 19\n",
      "A[i] =  - 8.982170641329816160694432986103311077559696268628690227374076424026178944528737e-57 + 𝒪(‖x‖¹)\n",
      "i = 20\n",
      "A[i] =  - 5.328354371944880641444030891011476249282798608838287795256677557341158208618123e-60 + 𝒪(‖x‖¹)\n",
      "i = 21\n",
      "A[i] =  - 1.860541849430428949721522986187163693464111469395044646597868948532245250447002e-63 + 𝒪(‖x‖¹)\n",
      "i = 22\n",
      "A[i] =  - 4.756445359989712444718098699815150536602492016765571472238704654795118345785414e-67 + 𝒪(‖x‖¹)\n",
      "i = 23\n",
      "A[i] =  - 8.499536038050070311059693537915565412756866489960044947785876942395120335789944e-71 + 𝒪(‖x‖¹)\n",
      "i = 24\n",
      "A[i] =  - 5.49607904796981369596939367368674421342980728615039629773135758471417534750571e-75 + 𝒪(‖x‖¹)\n",
      "i = 25\n",
      "A[i] =  3.14696027165995586086027354150328608364011477316924378163119240791806614738285e-78 + 𝒪(‖x‖¹)\n",
      "i = 26\n",
      "A[i] =  1.673158416601148132933829864440153384023111635384879016148625158511815759535405e-81 + 𝒪(‖x‖¹)\n",
      "i = 27\n",
      "A[i] =  5.009635643156699760469037848985617553627230532305281209817926860862290402355245e-85 + 𝒪(‖x‖¹)\n",
      "i = 28\n",
      "A[i] =  1.047452640268974993455927776242048456685383944086362213846754556795228770507862e-88 + 𝒪(‖x‖¹)\n",
      "i = 29\n",
      "A[i] =  1.308039650417290717851363333003223879586318372530168056835202288934780406724547e-92 + 𝒪(‖x‖¹)\n",
      "i = 30\n",
      "A[i] =  - 7.085867694752555281233287807725745840026968286745926708959019500861234128305692e-97 + 𝒪(‖x‖¹)\n",
      "i = 31\n",
      "A[i] =  - 9.844695459453798912420381357538913543775828191849315966502565527208511474664343e-100 + 𝒪(‖x‖¹)\n",
      "i = 32\n",
      "A[i] =  - 3.371536419008021098771835885727590768470193657832723479088224841954714716887724e-103 + 𝒪(‖x‖¹)\n",
      "i = 33\n",
      "A[i] =  - 7.558620717550778126134712388472134160795129848938469475792792984537358888790662e-107 + 𝒪(‖x‖¹)\n",
      "i = 34\n",
      "A[i] =  - 1.093760074337799935223813661132998044155773199984101727797490927701830719017333e-110 + 𝒪(‖x‖¹)\n",
      "i = 35\n",
      "A[i] =  - 2.595172161057077081452185043554128301153459420928381888510021002101378072834603e-115 + 𝒪(‖x‖¹)\n",
      "i = 36\n",
      "A[i] =  4.358570580713438984888895115190097983373989270485069433650050086588428367636528e-118 + 𝒪(‖x‖¹)\n",
      "i = 1\n",
      "A_aux[i + 1] / A_aux[i] =  - 7.057534075530391191277450012330480451808485575364283013479793792573915875791441e-02 + 𝒪(‖x‖¹)\n",
      "i = 2\n",
      "A_aux[i + 1] / A_aux[i] =  4.740237014559394332790305097791817532735237224570903645099410538011995192941162e-81 + 𝒪(‖x‖¹)\n",
      "i = 3\n",
      "A_aux[i + 1] / A_aux[i] =  - 2.456026919802725809133243224308121647774325244089004567536751951585531484928477e+74 + 𝒪(‖x‖¹)\n",
      "i = 4\n",
      "A_aux[i + 1] / A_aux[i] =  3.105893492613778739329380686648968665509555619650987091691484537706510075091435e-03 + 𝒪(‖x‖¹)\n",
      "i = 5\n",
      "A_aux[i + 1] / A_aux[i] =  1.743752744003154740422749085643304878393219516554294999851901859834511425767127e-03 + 𝒪(‖x‖¹)\n",
      "i = 6\n",
      "A_aux[i + 1] / A_aux[i] =  1.234825755651637338196744264462179323418409243889106133610617822796524825751807e-03 + 𝒪(‖x‖¹)\n",
      "i = 7\n",
      "A_aux[i + 1] / A_aux[i] =  9.585460468908723945678211880795281347580106774168876297076413153150995463771039e-04 + 𝒪(‖x‖¹)\n",
      "i = 8\n",
      "A_aux[i + 1] / A_aux[i] =  7.815937175899840744348901091989791114430485081348479422572985795530656454618497e-04 + 𝒪(‖x‖¹)\n",
      "i = 9\n",
      "A_aux[i + 1] / A_aux[i] =  6.566272016826804600010760735207761831850327459160972497186247147271249994422712e-04 + 𝒪(‖x‖¹)\n",
      "i = 10\n",
      "A_aux[i + 1] / A_aux[i] =  5.621473946454594914175476640654175815589091717377145188755200710720503057502412e-04 + 𝒪(‖x‖¹)\n",
      "i = 11\n",
      "A_aux[i + 1] / A_aux[i] =  4.867230269907221189475136431980806478272687609679289208068161941139977765239811e-04 + 𝒪(‖x‖¹)\n",
      "i = 12\n",
      "A_aux[i + 1] / A_aux[i] =  4.234378315945682497638987832086106046778286175221174714920784995440367109255283e-04 + 𝒪(‖x‖¹)\n",
      "i = 13\n",
      "A_aux[i + 1] / A_aux[i] =  3.674403093798403264991307972120723945211332107225289893021407062842518895704551e-04 + 𝒪(‖x‖¹)\n",
      "i = 14\n",
      "A_aux[i + 1] / A_aux[i] =  3.144496905754889016931132216225427683216262184420373654026741918604929285629711e-04 + 𝒪(‖x‖¹)\n",
      "i = 15\n",
      "A_aux[i + 1] / A_aux[i] =  2.590052957747782040936126161692186450834840256968375141436343954445693844308935e-04 + 𝒪(‖x‖¹)\n",
      "i = 16\n",
      "A_aux[i + 1] / A_aux[i] =  1.898041704220133782327077261609982525816127794311447719949239725966168842937361e-04 + 𝒪(‖x‖¹)\n",
      "i = 17\n",
      "A_aux[i + 1] / A_aux[i] =  6.455739025030001165486931087764242426166061666905681148909428581224034859157688e-05 + 𝒪(‖x‖¹)\n",
      "i = 18\n",
      "A_aux[i + 1] / A_aux[i] =  - 7.821409109350561241676579450979966849420197212483651810324534020021756103806448e-04 + 𝒪(‖x‖¹)\n",
      "i = 19\n",
      "A_aux[i + 1] / A_aux[i] =  5.932145563375774764469562773551182081336837707099794660058248378982673565315551e-04 + 𝒪(‖x‖¹)\n",
      "i = 20\n",
      "A_aux[i + 1] / A_aux[i] =  3.491775733285772896010235622829960340749006430299462194998174542895415854158123e-04 + 𝒪(‖x‖¹)\n",
      "i = 21\n",
      "A_aux[i + 1] / A_aux[i] =  2.55648394119477166725621628271834621369634238076693917658848581398076592443273e-04 + 𝒪(‖x‖¹)\n",
      "i = 22\n",
      "A_aux[i + 1] / A_aux[i] =  1.786951261870157102141555152028623740847730416890064794465513132703553937346668e-04 + 𝒪(‖x‖¹)\n",
      "i = 23\n",
      "A_aux[i + 1] / A_aux[i] =  6.466328307057454691851671689047810081032003518059248107124119750585306634237323e-05 + 𝒪(‖x‖¹)\n",
      "i = 24\n",
      "A_aux[i + 1] / A_aux[i] =  - 5.725827893291319377365795358050085219333499791644954968482711060684753597345741e-04 + 𝒪(‖x‖¹)\n",
      "i = 25\n",
      "A_aux[i + 1] / A_aux[i] =  5.316744642977624848924491723648205893748745931040590454336356342621700345080134e-04 + 𝒪(‖x‖¹)\n",
      "i = 26\n",
      "A_aux[i + 1] / A_aux[i] =  2.994119142246713970642924220077797812917468574252236849233222931893157248168145e-04 + 𝒪(‖x‖¹)\n",
      "i = 27\n",
      "A_aux[i + 1] / A_aux[i] =  2.090875893738547919948988168144301454603871528496390423195010636885230391141185e-04 + 𝒪(‖x‖¹)\n",
      "i = 28\n",
      "A_aux[i + 1] / A_aux[i] =  1.248781663370861023481026680133164673362201201867164785130823668655528631891959e-04 + 𝒪(‖x‖¹)\n",
      "i = 29\n",
      "A_aux[i + 1] / A_aux[i] =  - 5.417165827115425946389635297976063848987551582751946979649082763884459053410057e-05 + 𝒪(‖x‖¹)\n",
      "i = 30\n",
      "A_aux[i + 1] / A_aux[i] =  1.389342263156323908471989240181725065364089336416388918708771395872470333699776e-03 + 𝒪(‖x‖¹)\n",
      "i = 31\n",
      "A_aux[i + 1] / A_aux[i] =  3.424723936757592593589005649792319256536820601533499449655193522328093191147274e-04 + 𝒪(‖x‖¹)\n",
      "i = 32\n",
      "A_aux[i + 1] / A_aux[i] =  2.241892056967513862857069625937393026330050485244142062247423077539074553414046e-04 + 𝒪(‖x‖¹)\n",
      "i = 33\n",
      "A_aux[i + 1] / A_aux[i] =  1.447036589358344338142424406972152647875075820728097352724246087196083544994507e-04 + 𝒪(‖x‖¹)\n",
      "i = 34\n",
      "A_aux[i + 1] / A_aux[i] =  2.372706978382150030692749644469420652284871164322527016581781045464746489204186e-05 + 𝒪(‖x‖¹)\n"
     ]
    },
    {
     "data": {
      "text/plain": [
       "PyObject <matplotlib.legend.Legend object at 0x7f8529487cd0>"
      ]
     },
     "execution_count": 31,
     "metadata": {},
     "output_type": "execute_result"
    }
   ],
   "source": [
    "a=big(4.4)\n",
    "t=[-50.,50.]\n",
    "Polinomio1F,E1F,ValProp1F,Cx1,Cy1 = MetParametrización(Rotor,1., 35, [big(1.),0.], a, 1., 1, t, 0.125, BigFloat)\n",
    "Polinomio2F,E2F,ValProp2F ,Cx2,Cy2 = MetParametrización(Rotor,1., 35, [big(1.),0.], a, 1., 2, t, 0.125, BigFloat)\n",
    "V=evaluar(t,0.025,Polinomio2F[1],Polinomio2F[2])\n",
    "B=evaluar(t,0.025,Polinomio1F[1],Polinomio1F[2])\n",
    "figure(1)\n",
    "#pygui(true)\n",
    "plot(B[1],B[2],color=\"r\",label=\"Estable\")\n",
    "plot(V[1],V[2],color=\"b\",label=\"Inestable\")\n",
    "xlim(-10,10.2)\n",
    "ylim(-10,10)\n",
    "title(\"Mapeo exponencial con a=3.4 ,BigFloat, orden 25\")\n",
    "grid(\"on\")\n",
    "legend(loc=\"upper right\",fancybox=\"true\" )\n",
    "\n",
    "\n",
    "figure(2)\n",
    "plot(E1F[1],log10(E1F[2]),marker= \"None\", label=\"Estable\")\n",
    "plot(E2F[1],log10(E2F[2]),marker= \"None\", label=\"Inestable\")\n",
    "xlabel(\"Parámetro t\")\n",
    "ylabel(L\"log10($|| E||_{\\infty})$\")\n",
    "title(\"Error\")\n",
    "grid(\"on\")\n",
    "legend(loc=\"upper right\",fancybox=\"true\" )\n",
    "\n",
    "figure(3)\n",
    "converX1=[]\n",
    "converY1=[]\n",
    "converX2=[]\n",
    "converY2=[]\n",
    "for i in 1:length(Cx1)\n",
    "    push!(converX1,Cx1[i][1][1])\n",
    "    push!(converY1,Cy1[i][1][1])\n",
    "    push!(converX2,Cx2[i][1][1])\n",
    "    push!(converY2,Cy2[i][1][1])\n",
    "    \n",
    "end\n",
    "plot(converX1,marker=\".\",label=L\"P(x) Estable\")\n",
    "plot(converY1,marker=\".\",label=L\"P(y) Estable\")\n",
    "plot(converX2,marker=\"*\",label=L\"P(x) Inestable\")\n",
    "plot(converY2,marker=\"*\",label=L\"P(y) Inestable\")\n",
    "\n",
    "title(\"Convergencia\")\n",
    "xlabel(\"Orden\")\n",
    "ylabel(L\"$a_{n+1}/a_{n}$\")\n",
    "legend(loc=\"upper right\",fancybox=\"true\" )\n"
   ]
  },
  {
   "cell_type": "code",
   "execution_count": null,
   "metadata": {
    "collapsed": true
   },
   "outputs": [],
   "source": []
  }
 ],
 "metadata": {
  "kernelspec": {
   "display_name": "Julia 0.5.2",
   "language": "julia",
   "name": "julia-0.5"
  },
  "language_info": {
   "file_extension": ".jl",
   "mimetype": "application/julia",
   "name": "julia",
   "version": "0.5.2"
  }
 },
 "nbformat": 4,
 "nbformat_minor": 2
}
