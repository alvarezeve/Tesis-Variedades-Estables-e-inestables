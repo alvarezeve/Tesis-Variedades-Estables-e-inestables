{
 "cells": [
  {
   "cell_type": "markdown",
   "metadata": {},
   "source": [
    "# Mapeo de Hénon\n"
   ]
  },
  {
   "cell_type": "markdown",
   "metadata": {},
   "source": [
    "Vamos a analizar un poco sobre otro mapeo, el de Henon. El mapeo de Henon es un mapeo descrito de la forma:\n",
    "$$ f_{a,b}(x,y)=\\left\\{ \\begin{array}{lcc}\n",
    "             a-by-x^{2}\\\\\n",
    "             \\\\ x\n",
    "             \\end{array}\n",
    "             \\right.$$\n",
    "        \n",
    "        \n",
    "Para poder analizarlo debemos linearizar el sistema. Primero obtenemos el jacobiano \n",
    "\n",
    "$$ DF_{a,b}(x,y)=\\left( \\begin{array}{lcc}\n",
    "                \\frac{\\partial F_{x}}{\\partial x} & \\frac{\\partial F_{x}}{\\partial y}\\\\\n",
    "                \\\\ \\frac{\\partial F_{y}}{\\partial x} & \\frac{\\partial F_{y}}{\\partial y}\n",
    "                \\end{array}\n",
    "                \\right)$$\n",
    "                \n",
    "            \n",
    "$$DF_{a,b}(x,y)= \\left( \\begin{array}{lcc}\n",
    "                -2x & -b\\\\\n",
    "                \\\\ 1 & 0\n",
    "                \\end{array}\n",
    "                \\right)$$\n",
    "                \n",
    "Notamos que el determinante del jacobiano no es igual a uno sino\n",
    "$$det(DF_{a,b}(x,y))=b$$\n",
    "El determianate es constante , y sera hamiltoniano en el caso en que $b=1$. Analizaremos esos casos, primero encontrando los puntos fijos.\n",
    "$$F_{a,b}(x,y)=\\left( \\begin{array}{lcc}\n",
    "               a-by-x^{2}\\\\\n",
    "               \\\\ x\n",
    "               \\end{array}\n",
    "               \\right) = \\left(\\begin{array}{lc}\n",
    "               x \\\\\n",
    "               \\\\ y\n",
    "               \\end{array}\n",
    "               \\right)$$\n",
    "               \n",
    "               \n",
    "Lo que implica que \n",
    "$$a-by-x^{2}=x$$\n",
    "$$x=y$$ \n",
    "de donde es claro que la primer ecuación queda\n",
    "$$x^{2}+(b+1)x-a=0$$\n",
    "que se puede resolver usando la fórmula general\n",
    "$$x=\\frac{-(b+1)\\pm ((b+1)^{2}+4a)^{1/2} }{2}$$\n",
    "para el caso en que $b=1$ se tiene\n",
    "$$x=\\frac{-2\\pm 2(1+a)^{1/2} }{2}$$\n",
    "Por lo que escogiendo un valor de a podemos obtenr un punto fijo. "
   ]
  },
  {
   "cell_type": "markdown",
   "metadata": {},
   "source": [
    "Para este caso usaremos un valor de $a=.3$ . Por lo que los puntos fijos asociados serán \n",
    "$$p_{1}=(0.14017542509913805\n",
    ",0.14017542509913805\n",
    ")$$\n",
    "$$p_{2}=(-2.1401754250991383,-2.1401754250991383)$$\n",
    "\n",
    "$$p_{1}=(2,2) ;p_{2}=(-4,-4)$$\n"
   ]
  },
  {
   "cell_type": "code",
   "execution_count": 126,
   "metadata": {
    "collapsed": false
   },
   "outputs": [],
   "source": [
    "using TaylorSeries\n",
    "using PyPlot\n",
    "using LinearAlgebra"
   ]
  },
  {
   "cell_type": "code",
   "execution_count": 127,
   "metadata": {
    "collapsed": false
   },
   "outputs": [
    {
     "name": "stderr",
     "output_type": "stream",
     "text": [
      "WARNING: Method definition Henon(Any, Any, Any, Any) in module Main at In[107]:3 overwritten at In[127]:3.\n"
     ]
    },
    {
     "data": {
      "text/plain": [
       "Henon (generic function with 1 method)"
      ]
     },
     "execution_count": 127,
     "metadata": {},
     "output_type": "execute_result"
    }
   ],
   "source": [
    "function Henon(x,y,a,b)\n",
    "   \n",
    "    x_n = a-b*y-x^2\n",
    "    y_n = x \n",
    "\n",
    "    return [x_n,y_n]\n",
    "end"
   ]
  },
  {
   "cell_type": "markdown",
   "metadata": {},
   "source": [
    "Para revisar si es punto fijo:"
   ]
  },
  {
   "cell_type": "code",
   "execution_count": 128,
   "metadata": {
    "collapsed": false
   },
   "outputs": [
    {
     "data": {
      "text/plain": [
       "2-element Array{Float64,1}:\n",
       " -8.88178e-16\n",
       "  0.0        "
      ]
     },
     "execution_count": 128,
     "metadata": {},
     "output_type": "execute_result"
    }
   ],
   "source": [
    "Henon(-2.1401754250991383,-2.1401754250991383,0.3,1.0) .- [-2.1401754250991383,-2.1401754250991383]"
   ]
  },
  {
   "cell_type": "code",
   "execution_count": 129,
   "metadata": {
    "collapsed": false
   },
   "outputs": [
    {
     "name": "stderr",
     "output_type": "stream",
     "text": [
      "WARNING: Method definition PolinomioTaylor1(Real, Any, Any, Any) in module Main at In[109]:36 overwritten at In[129]:36.\n",
      "\u001b[1m\u001b[31mWARNING: replacing docs for 'PolinomioTaylor1 :: Tuple{Real,Any,Any,Any}' in module 'Main'.\u001b[0m\n"
     ]
    },
    {
     "data": {
      "text/plain": [
       "PolinomioTaylor1"
      ]
     },
     "execution_count": 129,
     "metadata": {},
     "output_type": "execute_result"
    }
   ],
   "source": [
    "\"\"\"\n",
    "\n",
    "PolinomioTaylor1(g,Cθ,CP,TipoVariable)\n",
    "   \n",
    "   Es una función cuyo objetivo es recibir dos listas con valores iniciales y crear dos polinomios de grado g.\n",
    "\n",
    "\n",
    "\n",
    "\n",
    "Argumentos:\n",
    "\n",
    "\n",
    "\n",
    "\n",
    "\n",
    "   - g       : grado del polinomio\n",
    "   - Cθ,CP  :  Arreglo que contiene los coeficientes iniciales, es del tipo Array{TaylorSeries.TaylorN{Float64}}\n",
    "   - TipoVariable :  es el tipo : Real, Float64, BigFloat, etc.\n",
    "   \n",
    "\n",
    "    Esta función regresa dos arreglos que contienen elementos del tipo Taylor1.TaylorN, creados con las listas iniciales. \n",
    "\n",
    "\n",
    "\"\"\"\n",
    "function PolinomioTaylor1(g::Real,Cθ,CP,TipoVariable)\n",
    "    #=\n",
    "    g es el grado del polinomio, CX y CP son\n",
    "    arreglos que contienen los coeficientes que forman la variedad.\n",
    "    \n",
    "    \n",
    "    Creamos x,p como variables tipo TaylorN de orden 2\n",
    "    =#\n",
    "    \n",
    "    \n",
    "    \n",
    "    θ,p = set_variables(TipoVariable, \"θ p\", order=2)\n",
    "    \n",
    "    #especificamos que LX,LP son de arreglos que guardarán coeficientes del polinomio, sólo son auxiliares en esta función\n",
    "    \n",
    "   \n",
    "    Lθ = Array{TaylorSeries.TaylorN{TipoVariable}}(1)\n",
    "    LP = Array{TaylorSeries.TaylorN{TipoVariable}}(1)\n",
    "    \n",
    "   #usamos un condicional para separar el caso 1 del resto\n",
    "    if g == 1\n",
    "        \n",
    "        T = [Taylor1([θ], g),Taylor1([p], g)]\n",
    "    #en el caso en que g>1 entonces usamos las listas que van guardando los coeficientes\n",
    "    else\n",
    "        #como CX,CP están guardando los coeficientes pero necesitamos agregar el último término que será una variable \n",
    "        \n",
    "        Lθ = push!(Cθ, θ) \n",
    "        LP = push!(CP, p)\n",
    "\n",
    "        T=[Taylor1(Lθ, g),Taylor1(LP, g)]\n",
    "        \n",
    "    end\n",
    "    return T\n",
    "end\n",
    "#Esta función regresa tθ,tp que son Taylor1.TaylorN"
   ]
  },
  {
   "cell_type": "code",
   "execution_count": 130,
   "metadata": {
    "collapsed": false
   },
   "outputs": [
    {
     "name": "stderr",
     "output_type": "stream",
     "text": [
      "WARNING: Method definition Vecλ(Any, Any, Any, Any) in module Main at In[110]:21 overwritten at In[130]:21.\n",
      "\u001b[1m\u001b[31mWARNING: replacing docs for 'Vecλ :: Tuple{Any,Any,Any,Any}' in module 'Main'.\u001b[0m\n"
     ]
    },
    {
     "data": {
      "text/plain": [
       "Vecλ"
      ]
     },
     "execution_count": 130,
     "metadata": {},
     "output_type": "execute_result"
    }
   ],
   "source": [
    "#=Esta función toma el arreglo que contiene las lambdas que se van calculando, los coeficientes de los polinomios\n",
    "y el orden de los mismos, lo que hace es generar el lado derecho de la ecuación cohomológica, multiplicando a_n*λ^n\n",
    "y generando un polinomio de gradno g con estos coeficientes\n",
    "=#\n",
    "\"\"\"\n",
    "Vecλ(λ_v,g,Cθ,CP)\n",
    "Es una función que calcula la parte derecha de la ecuación comohológica, es decir la parte que involucra el valor propio.\n",
    "Regresa un arreglo de tipo TaylorSeries.TaylorN{Float64}\n",
    "\n",
    "\n",
    "Sus argumentos son:\n",
    "-g      :  grado del polinomio.\n",
    "-λ_v    :  Arreglo de dos dimensiones que contiene el valor propio y sus potencias. \n",
    "-Cθ,CP  :  Los arreglos con los polinomios que se calculan en PolinomioTaylor1.\n",
    "\n",
    "\"\"\"\n",
    "function Vecλ(λ_v,g,Cθ,CP)\n",
    "   # el arreglo de λ_v contiene los arreglos que corresponden a la parte derecha de la ecuación cohomológica\n",
    "    # en θ,p. Es importante hacer la distinción puesto que dependiendo del punto fijo donde se esté calculando\n",
    "    # el primer valor de λ en θ serpa diferente del primer valor de λ en P\n",
    "    θλt=Taylor1(λ_v[1].*Cθ,g)\n",
    "    pλt=Taylor1(λ_v[2].*CP,g)\n",
    "    \n",
    "    λvec=[θλt,pλt]\n",
    "    \n",
    "    return λvec\n",
    "end"
   ]
  },
  {
   "cell_type": "code",
   "execution_count": 131,
   "metadata": {
    "collapsed": false
   },
   "outputs": [
    {
     "name": "stderr",
     "output_type": "stream",
     "text": [
      "WARNING: Method definition ValPropios(Any) in module Main at In[111]:2 overwritten at In[131]:2.\n"
     ]
    },
    {
     "data": {
      "text/plain": [
       "ValPropios (generic function with 1 method)"
      ]
     },
     "execution_count": 131,
     "metadata": {},
     "output_type": "execute_result"
    }
   ],
   "source": [
    "function ValPropios(M)\n",
    "    V = BigFloat[]\n",
    "    disc = trace(M)^2-4.*det(M)\n",
    "    disc >= 0.? v = ((trace(M) + sqrt(trace(M)^2-4.*det(M)))/2.,(trace(M) - sqrt(trace(M)^2-4.*det(M)))/2.)  : error(\"Error: el valor propio es complejo, es decir es un punto elíptico\")\n",
    "    v_prop1 = v[1]\n",
    "    v_prop2 = v[2]\n",
    "    # dado que hay unos casos en los que esto truena, \n",
    "    #debo integrag alguna forma de revisar que no sea el caso que estamos calculando\n",
    "    push!(V,v_prop1)\n",
    "    push!(V,v_prop2)\n",
    "    ValoresP = sort(V,rev=true)\n",
    "return ValoresP\n",
    "end\n",
    "        \n",
    "    \n",
    "    \n",
    "    "
   ]
  },
  {
   "cell_type": "code",
   "execution_count": 132,
   "metadata": {
    "collapsed": false
   },
   "outputs": [
    {
     "name": "stderr",
     "output_type": "stream",
     "text": [
      "WARNING: Method definition VecPropios(Any, Any) in module Main at In[112]:2 overwritten at In[132]:2.\n"
     ]
    },
    {
     "data": {
      "text/plain": [
       "VecPropios (generic function with 1 method)"
      ]
     },
     "execution_count": 132,
     "metadata": {},
     "output_type": "execute_result"
    }
   ],
   "source": [
    "function VecPropios(M,ValoresP)\n",
    "    Vectores = []\n",
    "    for i in [1,2]\n",
    "        y = big.(1.)\n",
    "        I_2 = big.([1. 0.; 0. 1.])\n",
    "        M_aux = -I_2.*ValoresP[i]+M\n",
    "        x = -(y*M_aux[3])/M_aux[1]\n",
    "        push!(Vectores,x)\n",
    "        push!(Vectores,y)\n",
    "    end\n",
    "    return Vectores\n",
    "end"
   ]
  },
  {
   "cell_type": "code",
   "execution_count": 133,
   "metadata": {
    "collapsed": false
   },
   "outputs": [
    {
     "name": "stderr",
     "output_type": "stream",
     "text": [
      "WARNING: Method definition EigenValores(Any) in module Main at In[113]:2 overwritten at In[133]:2.\n"
     ]
    },
    {
     "data": {
      "text/plain": [
       "EigenValores (generic function with 1 method)"
      ]
     },
     "execution_count": 133,
     "metadata": {},
     "output_type": "execute_result"
    }
   ],
   "source": [
    "function EigenValores(M)\n",
    "    ValoresP  = ValPropios(M)\n",
    "    VectoresP = VecPropios(M,ValoresP)\n",
    "    V = (ValoresP,[VectoresP[1] VectoresP[3];VectoresP[2] VectoresP[4]])\n",
    "    return V\n",
    "end"
   ]
  },
  {
   "cell_type": "code",
   "execution_count": 134,
   "metadata": {
    "collapsed": false
   },
   "outputs": [
    {
     "name": "stderr",
     "output_type": "stream",
     "text": [
      "WARNING: Method definition Orden1(Any, Any, Any, Any, Any, Any, Any, Any, Any, Any) in module Main at In[114]:3 overwritten at In[134]:3.\n"
     ]
    },
    {
     "data": {
      "text/plain": [
       "Orden1 (generic function with 1 method)"
      ]
     },
     "execution_count": 134,
     "metadata": {},
     "output_type": "execute_result"
    }
   ],
   "source": [
    "function Orden1(Cθ,CP,TipoVariable,Mapeo,k,l,PuntoFijo,tipo_v,λarrayθ,λarrayP)\n",
    "            #usamos la función PolinomioTaylor para crear el polinomio tipo Taylor1.TaylorN{T}\n",
    "            t = PolinomioTaylor1(1,Cθ,CP,TipoVariable)\n",
    "            @show(typeof(t))\n",
    "            #Aplicamos el mapeo a los polinomios que resultan de la función anterior.\n",
    "            Or1 = Mapeo(t[1],t[2],k,l)\n",
    "            @show(typeof(Or1))\n",
    "            AuxOr1=[Or1[1][1],Or1[2][1]]\n",
    "            @show(typeof(AuxOr1))\n",
    "            #Calculamos el jacobiano del Orden 1 para obtener sus valores y vectores propios.\n",
    "            JPO = jacobian(AuxOr1,[PuntoFijo[1],PuntoFijo[2]])\n",
    "            @show(typeof(JPO))\n",
    "            @show(JPO)\n",
    "            @show(det(JPO))\n",
    "            \n",
    "            \n",
    "            #Calculamos los valores y vectores propios\n",
    "            if TipoVariable == BigFloat\n",
    "                eigval,eigvec = EigenValores(JPO)\n",
    "            else\n",
    "                eigval,eigvec = eig(JPO)\n",
    "            end\n",
    "            #escogemos el tipo de variedad que queremos calcular. Como se ordenan de menor a mayor la inestable es la segunda\n",
    "            λ = eigval[tipo_v]\n",
    "    \n",
    "            tt = imag(λ)\n",
    "            @show(tt)\n",
    "            #Ponemos los coeficientes en una variable nueva cada uno y los agregamos a las listas CX,CP,λ\n",
    "            tt == 0.?  Coef = eigvec[:,tipo_v] : error(\"Error: el valor propio es complejo, es decir es un punto elíptico\")\n",
    "            @show(typeof(Coef[1]))\n",
    "            #@show(Coefθ,CoefP)\n",
    "            push!(Cθ, Coef[1])\n",
    "            push!(CP, Coef[2])\n",
    "            push!(λarrayθ, λ)\n",
    "            push!(λarrayP, λ)\n",
    "            λ_v=[λarrayθ,λarrayP]\n",
    "            \n",
    "            #@show(λarray)  \n",
    "            @show(typeof(Cθ))\n",
    "            @show(typeof(λarrayθ))\n",
    "    return Cθ, CP,λarrayθ,λarrayP, λ_v\n",
    "end\n",
    "            \n",
    "    "
   ]
  },
  {
   "cell_type": "code",
   "execution_count": 135,
   "metadata": {
    "collapsed": false
   },
   "outputs": [
    {
     "name": "stderr",
     "output_type": "stream",
     "text": [
      "WARNING: Method definition Variedades(Any, Any, Any, Any, Any, Any, Any) in module Main at In[115]:28 overwritten at In[135]:28.\n",
      "\u001b[1m\u001b[31mWARNING: replacing docs for 'Variedades :: Tuple{Any,Any,Any,Any,Any,Any,Any}' in module 'Main'.\u001b[0m\n"
     ]
    },
    {
     "data": {
      "text/plain": [
       "Variedades"
      ]
     },
     "execution_count": 135,
     "metadata": {},
     "output_type": "execute_result"
    }
   ],
   "source": [
    "#Creamos una función que reciba el orden del polinomio , el punto fijo, el parámetro k y \n",
    "#el tipo de varidad que queremos(estable=1, inestable=2)\n",
    "\"\"\"\n",
    "Variedades(Mapeo,orden, PuntoFijo,k,tipo_v,TipoVariable)\n",
    "Es una función que calcula las variedades de cierto mapeo. Usa las funciones de PolinomioTaylor1 y Vecλ para calcular los\n",
    "polinomios de cada lado de la ecuación cohomológica y les aplica el mapeo dado. \n",
    "\n",
    "\n",
    "\n",
    "Argumentos:\n",
    "\n",
    "\n",
    "- Mapeo : Mapeo de dos dimensiones, debe recibir al menos dos parámetros que son los polinomios antes calculados.\n",
    "- orden : se trata del orden del polinomio.\n",
    "- PuntoFijo : ES el punto fijo donde queremos calcular la variedad.\n",
    "- k     : Es la constante del mapeo.\n",
    "- tipo_v : 1 si la variedad es estable, 2 si es inestable.\n",
    "- TipoVariable :  Float64,BigFloat, Integer,etc.\n",
    "\n",
    "\n",
    "\"\"\"\n",
    "function Variedades(Mapeo,orden, PuntoFijo,k,l,tipo_v, TipoVariable)\n",
    "   \n",
    "    #definimos unas listas donde se guardarán los coeficientes  de todo el polinomio, tales deben ser\n",
    "    # de tipo \"Array{TaylorSeries.TaylorN{Int64},1}\" dado que los términos que se van agregando \n",
    "    # en cada orden son de tipo TaylorN.\n",
    "    \n",
    "    a=TipoVariable(PuntoFijo[1])\n",
    "    b=TipoVariable(PuntoFijo[2])\n",
    "    Cθ = [a+TaylorN(0.)]\n",
    "    CP = [b+TaylorN(0.)]\n",
    "    \n",
    "    \n",
    "    #λarray es la lista que contiene a los coeficientes del polinomio de λ\n",
    "    λarrayθ = [a^0]\n",
    "    λarrayP = [b^0]\n",
    "    \n",
    "    #definimos un vector que contiene el punto en el que se evalúa el jacobiano que se calcula después\n",
    "    #dado que sólo lo usamos para obtener los valores que resultaron en el mapeo evaluamos siempre en [1.,1.]\n",
    "    \n",
    "    \n",
    "    \n",
    "    \n",
    "    Cθ,CP,λarayθ, λarrayP,λ_v = Orden1(Cθ,CP,TipoVariable,Mapeo,k,l,PuntoFijo,tipo_v,λarrayθ,λarrayP)\n",
    "    \n",
    "\n",
    "\n",
    "    for g in 2:orden\n",
    "        \n",
    "            #Creamos los polinomios con las listas correspondientes \n",
    "            t = PolinomioTaylor1(g,Cθ,CP,TipoVariable)\n",
    "            \n",
    "            # aplicamos el mapeo estándar y al resultado le llamamos OrG por Orden g.\n",
    "            OrG = Mapeo(t[1],t[2],k,l)\n",
    "            \n",
    "            push!(λarrayθ,λarrayθ[2]^g)\n",
    "            push!(λarrayP,λarrayP[2]^g)\n",
    "            λ_v=[λarrayθ,λarrayP]\n",
    "            \n",
    "            #agregamos el término correspondiente a λ \n",
    "            λ_vec=Vecλ(λ_v,g,Cθ,CP)\n",
    "            \n",
    "            \n",
    "            #@show(λvec)\n",
    "            \n",
    "            # ahora ya tengo las dos partes de la ecuación y debo igualarlas para resolver.\n",
    "            EcuaCohomo=OrG-λ_vec\n",
    "            \n",
    "            \n",
    "            # de esta ecuación necesitamos solo los de orden g, así que los extraemos manualmente \n",
    "            θ_g=EcuaCohomo[1].coeffs[g+1]\n",
    "            p_g=EcuaCohomo[2].coeffs[g+1]\n",
    "            vec_orden_g=[θ_g,p_g]\n",
    "            \n",
    "            \n",
    "            #calculamos el término independiene en la ecuación\n",
    "            θ_ind=EcuaCohomo[1].coeffs[g+1].coeffs[1].coeffs[1]\n",
    "            p_ind=EcuaCohomo[2].coeffs[g+1].coeffs[1].coeffs[1]\n",
    "            vec_ind=[-θ_ind,-p_ind]\n",
    "            \n",
    "            #calculamos el jacobiano\n",
    "            JacOrdenG = jacobian(vec_orden_g)\n",
    "            \n",
    "            \n",
    "            \n",
    "            \n",
    "            #Con esta información podemos evaluar lo siguiente:\n",
    "            # Si el vector de términos independientes es cero y el determinante del jacobiano es distinto de cero\n",
    "            # entonces la solución a la ecuación cohomológica es la trivial\n",
    "            if norm(vec_ind)==0.\n",
    "                if det(JacOrdenG)!=0.\n",
    "                    \n",
    "                    Cθ[g+1]=0.\n",
    "                    CP[g+1]=0.\n",
    "                end\n",
    "            else\n",
    "                # Si el vector de términos independientes es distinto de ceroentonces necesitamos \n",
    "                #resolver la ecuación JacOrdenG[x_g,p_g]*[x,p]**=vec_ind[x_g,p_g]\n",
    "                # entonces solo se trata de invertir el jacobiano y multiplicar con el vector del lado izquierdo\n",
    "                TermG=JacOrdenG \\ vec_ind\n",
    "                \n",
    "                Cθ[g+1]=TermG[1]\n",
    "                CP[g+1]=TermG[2]\n",
    "            \n",
    "            end\n",
    "            \n",
    "\n",
    "    end\n",
    "    return Cθ,CP,λarrayθ, λarrayP\n",
    "end"
   ]
  },
  {
   "cell_type": "code",
   "execution_count": 136,
   "metadata": {
    "collapsed": false
   },
   "outputs": [
    {
     "name": "stderr",
     "output_type": "stream",
     "text": [
      "WARNING: Method definition PolinomioCohomo(Any, Any, Any, Any, Any, Any, Any) in module Main at In[116]:16 overwritten at In[136]:16.\n",
      "\u001b[1m\u001b[31mWARNING: replacing docs for 'PolinomioCohomo :: Tuple{Any,Any,Any,Any,Any,Any,Any}' in module 'Main'.\u001b[0m\n"
     ]
    },
    {
     "data": {
      "text/plain": [
       "PolinomioCohomo"
      ]
     },
     "execution_count": 136,
     "metadata": {},
     "output_type": "execute_result"
    }
   ],
   "source": [
    "\"\"\"\n",
    "PolinomioCohomo(Mapeo,Pol_vec,λvec, k)\n",
    "Esta función calcula la ecuación cohomológica con los polinomios que ya se calcularon. Regresa un arreglo de dos \n",
    "elementos que son los valores de x,θ del mapeo.\n",
    "\n",
    "\n",
    "Argumentos:\n",
    "-Mapeo : función o mapeo del cual calculamos las variedades.Debe ser una función que reciba tres parámetros\n",
    " que son dos de sus variables y la constante del mapeo. Como salida debe tener un arreglo de dos elementos. \n",
    "-Pol_vec : Es un arreglo de dos elementos que son los polinomios calculados con anterioridad. \n",
    "-k     : es el valor de la constante del mapeo \n",
    "-λvec : \n",
    "\n",
    "\"\"\"\n",
    "function PolinomioCohomo(Mapeo,Pol_vec,λvec, k,l ,PuntoFijo,modulo)\n",
    "    Map_vec=Mapeo(Pol_vec[1],Pol_vec[2],k,l)\n",
    "    if modulo==2*pi\n",
    "        Ec_Cohomo = mod(Map_vec-λvec,modulo)\n",
    "    else\n",
    "        Ec_Cohomo = Map_vec-λvec\n",
    "    end\n",
    "    return Ec_Cohomo\n",
    "end"
   ]
  },
  {
   "cell_type": "code",
   "execution_count": 137,
   "metadata": {
    "collapsed": false
   },
   "outputs": [
    {
     "name": "stderr",
     "output_type": "stream",
     "text": [
      "WARNING: Method definition EvaluarPol(Any, Any, Any, Any) in module Main at In[117]:22 overwritten at In[137]:22.\n",
      "\u001b[1m\u001b[31mWARNING: replacing docs for 'EvaluarPol :: Tuple{Any,Any,Any,Any}' in module 'Main'.\u001b[0m\n"
     ]
    },
    {
     "data": {
      "text/plain": [
       "EvaluarPol"
      ]
     },
     "execution_count": 137,
     "metadata": {},
     "output_type": "execute_result"
    }
   ],
   "source": [
    "\"\"\"\n",
    "EvaluarPol(Ec_2var,Tiempo,paso)\n",
    "\n",
    "Es una función que toma un arreglo de dos dimensiones que contiene polinomios y los evalúa en el tiempo dado en los pasos deseados\n",
    "\n",
    "\n",
    "\n",
    "\n",
    "Argumentos:\n",
    "\n",
    "-Ec_2var : Arreglo de dos dimensiones que contiene polinomios en cada una de ellas. \n",
    "-Tiempo  : Valor hasta el cual se quiere evaluar cada polinomio\n",
    "-paso    : es el paso que se considera en cada evaluación del polinomio. \n",
    "\n",
    "\"\"\"\n",
    "function EvaluarPol(Ec_2var,Tiempo,paso,TipoVariable)\n",
    "    \n",
    "    \n",
    "    \n",
    "    \n",
    "    \n",
    "    Val=TipoVariable[]\n",
    "    Tiem=TipoVariable[]\n",
    "    \n",
    "    \n",
    "    for t = 0:paso:Tiempo\n",
    "        x = evaluate(Ec_2var[1], t)\n",
    "        y = evaluate(Ec_2var[2], t)\n",
    "\n",
    "        \n",
    "        norma = norm([x,y],Inf)\n",
    "        push!(Val,norma)\n",
    "        push!(Tiem,t)\n",
    "    \n",
    "    end\n",
    "    return Tiem,Val\n",
    "end"
   ]
  },
  {
   "cell_type": "code",
   "execution_count": 138,
   "metadata": {
    "collapsed": false
   },
   "outputs": [
    {
     "name": "stderr",
     "output_type": "stream",
     "text": [
      "WARNING: Method definition CreaPol(Any, Any, Any) in module Main at In[118]:13 overwritten at In[138]:13.\n",
      "\u001b[1m\u001b[31mWARNING: replacing docs for 'CreaPol :: Tuple{Any,Any,Any}' in module 'Main'.\u001b[0m\n"
     ]
    },
    {
     "data": {
      "text/plain": [
       "CreaPol"
      ]
     },
     "execution_count": 138,
     "metadata": {},
     "output_type": "execute_result"
    }
   ],
   "source": [
    "\"\"\"\n",
    "CreaPol es una función que dadas dos listas y un grado crea  un arreglo de dos entradas , en cada una de ellas se encuentra \n",
    "el polinomio de grado g con los coeficientes de las listas. \n",
    "\n",
    "\n",
    "Argumentos:\n",
    "\n",
    "\n",
    "- A,B : arreglos que contienen lo que serán los coeficientes del polinomio.\n",
    "- orden : grado del polinomio\n",
    "\"\"\"\n",
    "function CreaPol(A,B,orden)\n",
    "    Taylor = [Taylor1(A,orden),Taylor1(B,orden)]\n",
    "    return Taylor\n",
    "end"
   ]
  },
  {
   "cell_type": "code",
   "execution_count": 139,
   "metadata": {
    "collapsed": false
   },
   "outputs": [
    {
     "name": "stderr",
     "output_type": "stream",
     "text": [
      "WARNING: Method definition MetParametrización(Any, Any, Any, Any, Any, Any, Any, Any, Any, Any) in module Main at In[119]:2 overwritten at In[139]:2.\n"
     ]
    },
    {
     "data": {
      "text/plain": [
       "MetParametrización (generic function with 1 method)"
      ]
     },
     "execution_count": 139,
     "metadata": {},
     "output_type": "execute_result"
    }
   ],
   "source": [
    "function MetParametrización(Mapeo,modulo,orden,PuntoFijo,k,l,tipo_v,Tiempo,paso, TipoVariable)\n",
    "    Coeficienteθ,CoeficienteP,λarrayθ,λarrayP = Variedades(Mapeo,orden,PuntoFijo,k,l,tipo_v,TipoVariable)\n",
    "        \n",
    "    \n",
    "    θ = TipoVariable[]\n",
    "    P = TipoVariable[]\n",
    "    \n",
    "    for i in 1:orden+1\n",
    "            \n",
    "        push!(θ,Coeficienteθ[i].coeffs[1].coeffs[1])\n",
    "        push!(P,CoeficienteP[i].coeffs[1].coeffs[1])\n",
    "        \n",
    "    end\n",
    "    \n",
    "    Taylor=CreaPol(θ,P,orden)\n",
    "    \n",
    "    λ_vec=CreaPol(θ.*λarrayθ,P.*λarrayP,orden)\n",
    "    \n",
    "    \n",
    "    \n",
    "    Ecua_Cohomo = PolinomioCohomo(Mapeo,Taylor,λ_vec, k,l,PuntoFijo,modulo)\n",
    "    Valor_t , Error = EvaluarPol(Ecua_Cohomo,Tiempo,paso, TipoVariable)\n",
    "    ErrorV = [Valor_t,Error]\n",
    "    \n",
    "    \n",
    "    return Taylor,ErrorV,λ_vec\n",
    "   \n",
    "end"
   ]
  },
  {
   "cell_type": "code",
   "execution_count": 140,
   "metadata": {
    "collapsed": false
   },
   "outputs": [],
   "source": [
    "using PyPlot"
   ]
  },
  {
   "cell_type": "markdown",
   "metadata": {},
   "source": [
    "Aquí vemos que si el punto  que se introduce es elíptico entonces resulta un error."
   ]
  },
  {
   "cell_type": "code",
   "execution_count": 141,
   "metadata": {
    "collapsed": false
   },
   "outputs": [
    {
     "name": "stdout",
     "output_type": "stream",
     "text": [
      "typeof(t) = Array{TaylorSeries.Taylor1{TaylorSeries.TaylorN{Float64}},1}\n",
      "typeof(Or1) = Array{TaylorSeries.Taylor1{TaylorSeries.TaylorN{Float64}},1}\n",
      "typeof(AuxOr1) = Array{TaylorSeries.TaylorN{Float64},1}\n",
      "typeof(JPO) = Array{Float64,2}\n",
      "JPO = [-0.44 -1.0; 1.0 0.0]\n",
      "det(JPO) = 1.0\n",
      "tt = -0.9754998718605759\n"
     ]
    },
    {
     "ename": "LoadError",
     "evalue": "Error: el valor propio es complejo, es decir es un punto elíptico",
     "output_type": "error",
     "traceback": [
      "Error: el valor propio es complejo, es decir es un punto elíptico",
      "",
      " in Orden1(::Array{TaylorSeries.TaylorN{Float64},1}, ::Array{TaylorSeries.TaylorN{Float64},1}, ::Type{T}, ::#Henon, ::Float64, ::Float64, ::Array{Float64,1}, ::Int64, ::Array{Float64,1}, ::Array{Float64,1}) at ./In[134]:29",
      " in Variedades(::#Henon, ::Int64, ::Array{Float64,1}, ::Float64, ::Float64, ::Int64, ::Type{T}) at ./In[135]:44",
      " in MetParametrización(::Function, ::Float64, ::Int64, ::Array{Float64,1}, ::Float64, ::Float64, ::Int64, ::Float64, ::Float64, ::Type{T}) at ./In[139]:2"
     ]
    }
   ],
   "source": [
    "#Usando Float64\n",
    "Polinomio,E,ValProp = MetParametrización(Henon,1., 25, [.22,.22], .5, 1., 2, 2.9, 0.125, Float64)"
   ]
  },
  {
   "cell_type": "markdown",
   "metadata": {},
   "source": [
    "Calculamos el mismo polinomio pero ahora usando BigFloat para ver la diferencia sobre todo en el error. "
   ]
  },
  {
   "cell_type": "code",
   "execution_count": 142,
   "metadata": {
    "collapsed": false
   },
   "outputs": [
    {
     "name": "stdout",
     "output_type": "stream",
     "text": [
      "typeof(t) = Array{TaylorSeries.Taylor1{TaylorSeries.TaylorN{BigFloat}},1}\n",
      "typeof(Or1) = Array{TaylorSeries.Taylor1{TaylorSeries.TaylorN{BigFloat}},1}\n",
      "typeof(AuxOr1) = Array{TaylorSeries.TaylorN{BigFloat},1}\n",
      "typeof(JPO) = Array{BigFloat,2}\n",
      "JPO = BigFloat[-4.400000000000000022204460492503130808472633361816406250000000000000000000000000e-01 -1.000000000000000000000000000000000000000000000000000000000000000000000000000000; 1.000000000000000000000000000000000000000000000000000000000000000000000000000000 0.000000000000000000000000000000000000000000000000000000000000000000000000000000]\n",
      "det(JPO) = 1.000000000000000000000000000000000000000000000000000000000000000000000000000000\n"
     ]
    },
    {
     "ename": "LoadError",
     "evalue": "Error: el valor propio es complejo, es decir es un punto elíptico",
     "output_type": "error",
     "traceback": [
      "Error: el valor propio es complejo, es decir es un punto elíptico",
      "",
      " in ValPropios(::Array{BigFloat,2}) at ./In[131]:4",
      " in EigenValores at ./In[133]:2 [inlined]",
      " in Orden1(::Array{TaylorSeries.TaylorN{BigFloat},1}, ::Array{TaylorSeries.TaylorN{BigFloat},1}, ::Type{T}, ::#Henon, ::Float64, ::Float64, ::Array{Float64,1}, ::Int64, ::Array{BigFloat,1}, ::Array{BigFloat,1}) at ./In[134]:19",
      " in Variedades(::#Henon, ::Int64, ::Array{Float64,1}, ::Float64, ::Float64, ::Int64, ::Type{T}) at ./In[135]:44",
      " in MetParametrización(::Function, ::Float64, ::Int64, ::Array{Float64,1}, ::Float64, ::Float64, ::Int64, ::Float64, ::Float64, ::Type{T}) at ./In[139]:2"
     ]
    }
   ],
   "source": [
    "#Usando BigFloat\n",
    "PolinomioB,EBig,ValPropB = MetParametrización(Henon,1.,25,[.22,.22],.5 ,1.0,2,2.9,0.125,BigFloat)"
   ]
  },
  {
   "cell_type": "markdown",
   "metadata": {},
   "source": [
    "Graficamos ahora para valores en los que estamos seguron son puntos hiperbólicos."
   ]
  },
  {
   "cell_type": "code",
   "execution_count": 192,
   "metadata": {
    "collapsed": false
   },
   "outputs": [
    {
     "name": "stdout",
     "output_type": "stream",
     "text": [
      "x1 = 2.0\n",
      "x2 = -4.0\n"
     ]
    },
    {
     "data": {
      "text/plain": [
       "-4.0"
      ]
     },
     "execution_count": 192,
     "metadata": {},
     "output_type": "execute_result"
    }
   ],
   "source": [
    "parametro = 8.\n",
    "x1 = -1.+(1.+parametro)^.5\n",
    "x2 = -1.-(1.+parametro)^.5\n",
    "@show(x1,x2)\n"
   ]
  },
  {
   "cell_type": "code",
   "execution_count": 189,
   "metadata": {
    "collapsed": false
   },
   "outputs": [
    {
     "name": "stdout",
     "output_type": "stream",
     "text": [
      "typeof(t) = Array{TaylorSeries.Taylor1{TaylorSeries.TaylorN{Float64}},1}\n",
      "typeof(Or1) = Array{TaylorSeries.Taylor1{TaylorSeries.TaylorN{Float64}},1}\n",
      "typeof(AuxOr1) = Array{TaylorSeries.TaylorN{Float64},1}\n",
      "typeof(JPO) = Array{Float64,2}\n",
      "JPO = [-4.0 -1.0; 1.0 0.0]\n",
      "det(JPO) = 1.0\n",
      "tt = 0.0\n",
      "typeof(Coef[1]) = Float64\n",
      "typeof(Cθ) = Array{TaylorSeries.TaylorN{Float64},1}\n",
      "typeof(λarrayθ) = Array{Float64,1}\n"
     ]
    },
    {
     "data": {
      "text/plain": [
       "(TaylorSeries.Taylor1{Float64}[ 2.0 + 0.25881904510252085 t - 0.003721516561543372 t² - 4.0133306782994675e-5 t³ + 3.497395332788283e-8 t⁴ + 4.400241418505495e-10 t⁵ - 5.832015065427297e-13 t⁶ - 6.33357378317998e-16 t⁷ + 7.992755224852354e-19 t⁸ + 5.889597072050148e-22 t⁹ - 3.77773974855759e-25 t¹⁰ - 3.2014571012840924e-28 t¹¹ + 2.8213482668395547e-32 t¹² + 5.564171570674634e-35 t¹³ + 1.3503692809761105e-40 t¹⁴ - 5.4201402707185965e-42 t¹⁵ - 3.4733671042545936e-47 t¹⁶ + 3.4473379265200725e-49 t¹⁷ - 8.365280819540491e-54 t¹⁸ - 1.4366141919755122e-56 t¹⁹ + 9.6351525916137e-61 t²⁰ + 3.610355806772482e-64 t²¹ - 4.027966054261859e-68 t²² - 4.832938102127817e-72 t²³ + 7.858913385135908e-76 t²⁴ + 3.900613238995299e-80 t²⁵ + 𝒪(t²⁶), 2.0 - 0.9659258262890684 t - 0.05183403899401222 t² + 0.002086159872716293 t³ + 6.784766662709041e-6 t⁴ - 3.185768709304878e-7 t⁵ - 1.575810254837999e-9 t⁶ + 6.386775740152181e-12 t⁷ + 3.007993499201332e-14 t⁸ - 8.272056879242835e-17 t⁹ - 1.980192954978737e-19 t¹⁰ + 6.262831245496697e-22 t¹¹ + 2.0598105066175182e-25 t¹² - 1.5160678245409162e-27 t¹³ + 1.3731507352429233e-32 t¹⁴ + 2.0569500320909403e-33 t¹⁵ - 4.919391953270933e-38 t¹⁶ - 1.8221836802031456e-39 t¹⁷ - 1.6501989374468631e-43 t¹⁸ + 1.0576557291432184e-45 t¹⁹ + 2.6473169944419957e-49 t²⁰ - 3.7021010632044206e-52 t²¹ - 1.541441858418774e-55 t²² + 6.8976691042735e-59 t²³ + 4.181247772309797e-62 t²⁴ - 7.686796743704446e-66 t²⁵ + 𝒪(t²⁶)],Array{Float64,1}[[0.0,0.125,0.25,0.375,0.5,0.625,0.75,0.875,1.0,1.125  …  58.875,59.0,59.125,59.25,59.375,59.5,59.625,59.75,59.875,60.0],[0.0,2.42986e-17,4.8621e-17,7.29656e-17,9.73309e-17,1.21715e-16,1.46117e-16,1.70535e-16,1.94967e-16,2.19411e-16  …  2.85901e-14,2.88558e-14,2.91228e-14,2.93913e-14,2.96612e-14,2.99325e-14,3.02053e-14,3.04795e-14,3.07551e-14,3.10321e-14]],TaylorSeries.Taylor1{Float64}[ 2.0 - 0.06935035412101478 t - 0.00026719286759500834 t² + 7.720799994301351e-7 t³ + 1.802829002364739e-10 t⁴ - 6.077693112051457e-13 t⁵ - 2.15840705560537e-16 t⁶ + 6.280814999469393e-20 t⁷ + 2.1238123054938855e-23 t⁸ - 4.193316629416959e-27 t⁹ - 7.207033825735994e-31 t¹⁰ + 1.6365326111082916e-34 t¹¹ + 3.864436080912217e-39 t¹² - 2.042125343093139e-42 t¹³ + 1.327965781146645e-48 t¹⁴ + 1.4282272435608714e-50 t¹⁵ - 2.452392200808459e-56 t¹⁶ - 6.521921231312968e-59 t¹⁷ - 4.2405742226526105e-64 t¹⁸ + 1.9513570836140683e-67 t¹⁹ + 3.506772936959988e-72 t²⁰ - 3.520882292315214e-76 t²¹ - 1.0525427790862006e-80 t²² + 3.383900929263884e-85 t²³ + 1.4744205032548723e-89 t²⁴ - 1.9608492306335172e-94 t²⁵ + 𝒪(t²⁶), 2.0 + 0.2588190451025208 t - 0.0037215165615433732 t² - 4.0133306782994675e-5 t³ + 3.4973953327882875e-8 t⁴ + 4.4002414185055103e-10 t⁵ - 5.832015065428218e-13 t⁶ - 6.333573783181606e-16 t⁷ + 7.992755224863539e-19 t⁸ + 5.889597072068869e-22 t⁹ - 3.777739748606272e-25 t¹⁰ - 3.2014571012094263e-28 t¹¹ + 2.821348266419986e-32 t¹² + 5.56417156987075e-35 t¹³ + 1.3503692763514651e-40 t¹⁴ - 5.4201403058637086e-42 t¹⁵ - 3.4733669366948754e-47 t¹⁶ + 3.44733782546969e-49 t¹⁷ - 8.365279334125555e-54 t¹⁸ - 1.4366167413747792e-56 t¹⁹ + 9.635072722920555e-61 t²⁰ + 3.6103538751905604e-64 t²¹ - 4.027922469066616e-68 t²² - 4.829573315128831e-72 t²³ + 7.844490888959852e-76 t²⁴ + 3.864174312450272e-80 t²⁵ + 𝒪(t²⁶)])"
      ]
     },
     "execution_count": 189,
     "metadata": {},
     "output_type": "execute_result"
    }
   ],
   "source": [
    "Polinomio,E,ValProp = MetParametrización(Henon,1., 25, [2.,2.], 8., parametro, 2, 60., 0.125, Float64)"
   ]
  },
  {
   "cell_type": "code",
   "execution_count": 176,
   "metadata": {
    "collapsed": false
   },
   "outputs": [
    {
     "name": "stdout",
     "output_type": "stream",
     "text": [
      "typeof(t) = Array{TaylorSeries.Taylor1{TaylorSeries.TaylorN{Float64}},1}\n",
      "typeof(Or1) = Array{TaylorSeries.Taylor1{TaylorSeries.TaylorN{Float64}},1}\n",
      "typeof(AuxOr1) = Array{TaylorSeries.TaylorN{Float64},1}\n",
      "typeof(JPO) = Array{Float64,2}\n",
      "JPO = [8.0 -1.0; 1.0 0.0]\n",
      "det(JPO) = 1.0\n",
      "tt = 0.0\n",
      "typeof(Coef[1]) = Float64\n",
      "typeof(Cθ) = Array{TaylorSeries.TaylorN{Float64},1}\n",
      "typeof(λarrayθ) = Array{Float64,1}\n"
     ]
    },
    {
     "data": {
      "text/plain": [
       "(TaylorSeries.Taylor1{Float64}[ - 4.0 + 0.1260042924827281 t - 0.00029402003192727596 t² + 1.5436577541144075e-7 t³ - 3.269412618754567e-11 t⁴ + 3.274221590846635e-15 t⁵ - 1.8426340051999437e-19 t⁶ + 6.435354642681214e-24 t⁷ - 1.4834660577991443e-28 t⁸ + 2.36467226199221e-33 t⁹ - 2.715344694782344e-38 t¹⁰ + 2.3248053839091776e-43 t¹¹ - 1.5259816016716267e-48 t¹² + 7.852827957547396e-54 t¹³ - 3.2264875696505416e-59 t¹⁴ + 1.0749279424692198e-64 t¹⁵ - 2.954415299467217e-70 t¹⁶ + 6.736211472973668e-76 t¹⁷ - 1.3177747429038154e-81 t¹⁸ + 8.043058733543795e-87 t¹⁹ + 𝒪(t²⁶), - 4.0 + 0.9920296962671667 t - 0.018224498486591245 t² + 7.533018207614402e-5 t³ - 1.2561082430288553e-7 t⁴ + 9.903865457158737e-11 t⁵ - 4.388085472577151e-14 t⁶ + 1.206556919569504e-17 t⁷ - 2.1897386098449265e-21 t⁸ + 2.748052030072825e-25 t⁹ - 2.4843815664064053e-29 t¹⁰ + 1.6746316467208952e-33 t¹¹ - 8.654075514917015e-38 t¹² + 3.506181984103808e-42 t¹³ - 1.1341660123786107e-46 t¹⁴ + 2.9742611859008247e-51 t¹⁵ - 6.407310790905082e-56 t¹⁶ + 1.1472579495559621e-60 t¹⁷ - 1.7256039730597288e-65 t¹⁸ + 2.2014625140638105e-70 t¹⁹ - 2.4032239992433325e-75 t²⁰ + 2.2628934360683643e-80 t²¹ - 1.8512690659590624e-85 t²² + 1.3245287836546484e-90 t²³ - 8.337318613536858e-96 t²⁴ + 4.6423081468115775e-101 t²⁵ + 𝒪(t²⁶)],Array{Float64,1}[[0.0,0.125,0.25,0.375,0.5,0.625,0.75,0.875,1.0,1.125  …  58.875,59.0,59.125,59.25,59.375,59.5,59.625,59.75,59.875,60.0],[0.0,3.44614e-18,6.84569e-18,1.01987e-17,1.35053e-17,1.67655e-17,1.99793e-17,2.31468e-17,2.62681e-17,2.93432e-17  …  2.7371e-15,2.75098e-15,2.76489e-15,2.77883e-15,2.7928e-15,2.8068e-15,2.82083e-15,2.8349e-15,2.849e-15,2.86312e-15]],TaylorSeries.Taylor1{Float64}[ - 4.0 + 0.016004643594658058 t - 4.7434928998523965e-6 t² + 3.163246385663714e-10 t³ - 8.509663821564422e-15 t⁴ + 1.0824588714709231e-19 t⁵ - 7.737543168497935e-25 t⁶ + 3.432394171109445e-30 t⁷ - 1.0049928031785132e-35 t⁸ + 2.0347776658078947e-41 t⁹ - 2.96777956716007e-47 t¹⁰ + 3.2274085276232813e-53 t¹¹ - 2.6907745054268113e-59 t¹² + 1.7587931147632878e-65 t¹³ - 9.178661153869163e-72 t¹⁴ + 3.8840906812957977e-78 t¹⁵ - 1.3559454534863958e-84 t¹⁶ + 3.926874805235433e-91 t¹⁷ - 9.757379338648991e-98 t¹⁸ + 7.56439009631398e-104 t¹⁹ + 𝒪(t²⁶), - 4.0 + 0.1260042924827281 t - 0.00029402003192727574 t² + 1.5436577541143974e-7 t³ - 3.2694126187545383e-11 t⁴ + 3.2742215908434697e-15 t⁵ - 1.8426340051962806e-19 t⁶ + 6.435354642889854e-24 t⁷ - 1.4834660571885062e-28 t⁸ + 2.364672257185994e-33 t⁹ - 2.7153447088974714e-38 t¹⁰ + 2.3248055491710698e-43 t¹¹ - 1.525979457292829e-48 t¹² + 7.852774524140772e-54 t¹³ - 3.2264576556189116e-59 t¹⁴ + 1.0747046103723346e-64 t¹⁵ - 2.9406711837597136e-70 t¹⁶ + 6.687940773968309e-76 t¹⁷ - 1.277712495560599e-81 t¹⁸ + 2.0704463053763534e-87 t¹⁹ - 2.870830799012513e-93 t²⁰ + 3.4335084013398867e-99 t²¹ - 3.567830577445191e-105 t²² + 3.2423265058467755e-111 t²³ - 2.5922830006737445e-117 t²⁴ + 1.8333722148890408e-123 t²⁵ + 𝒪(t²⁶)])"
      ]
     },
     "execution_count": 176,
     "metadata": {},
     "output_type": "execute_result"
    }
   ],
   "source": [
    "PolinomioB,EBig,ValPropB = MetParametrización(Henon,1.,25,[-4,-4],8. ,1.0,2,60.,0.125,Float64)"
   ]
  },
  {
   "cell_type": "markdown",
   "metadata": {},
   "source": [
    "Graficaremos el error cometido que es el que nos dirá cuanta diferencia hay entre tipos de números. "
   ]
  },
  {
   "cell_type": "code",
   "execution_count": 177,
   "metadata": {
    "collapsed": false,
    "scrolled": true
   },
   "outputs": [
    {
     "data": {
      "image/png": "[encoded data removed]",
      "text/plain": [
       "PyPlot.Figure(PyObject <matplotlib.figure.Figure object at 0x7fd41480be50>)"
      ]
     },
     "metadata": {},
     "output_type": "display_data"
    },
    {
     "data": {
      "text/plain": [
       "PyObject <matplotlib.legend.Legend object at 0x7fd414d43050>"
      ]
     },
     "execution_count": 177,
     "metadata": {},
     "output_type": "execute_result"
    }
   ],
   "source": [
    "plot(E[1],log10(E[2]),marker= \"None\", label=\"Estable\")\n",
    "plot(EBig[1],log10(EBig[2]),marker= \"None\", label=\"Inestable\")\n",
    "xlabel(\"Parámetro t\")\n",
    "ylabel(L\"log10($|| E||_{\\infty})$\")\n",
    "title(\"Error \")\n",
    "grid(\"on\")\n",
    "legend(loc=\"upper right\",fancybox=\"true\" )"
   ]
  },
  {
   "cell_type": "markdown",
   "metadata": {
    "collapsed": true
   },
   "source": [
    "Para observar cómo va la variedad graficaremos el espacio fase"
   ]
  },
  {
   "cell_type": "code",
   "execution_count": 185,
   "metadata": {
    "collapsed": false
   },
   "outputs": [
    {
     "name": "stderr",
     "output_type": "stream",
     "text": [
      "WARNING: Method definition evaluar(Any, Any, Any, Any, Any) in module Main at In[181]:5 overwritten at In[185]:5.\n"
     ]
    },
    {
     "data": {
      "text/plain": [
       "evaluar (generic function with 2 methods)"
      ]
     },
     "execution_count": 185,
     "metadata": {},
     "output_type": "execute_result"
    }
   ],
   "source": [
    "#esta es una función para evaluar el los polinomios que calculamos\n",
    "# recibe como entrada el tiempo que es el valor del parámetro t, el paso\n",
    "# que define en pasos de cuanto queremos ir evaluando y claro los polinomios A,B\n",
    "function evaluar(Tiempo, paso,A,B,vari)\n",
    "    ValX=Float64[]\n",
    "    \n",
    "    ValY=Float64[]\n",
    "\n",
    "    for t = 0:paso:Tiempo\n",
    "        #=\n",
    "        x = mod(evaluate(A,t),2*pi)\n",
    "        y = mod(evaluate(B,t),2*pi)\n",
    "        =#\n",
    "        x = evaluate(A,t)\n",
    "        y = evaluate(B,t)\n",
    "        \n",
    "        push!(ValX,x)\n",
    "        push!(ValY,y)\n",
    "        \n",
    "    end\n",
    "    p = plot(ValX,ValY,linestyle=\"-\",label = vari)\n",
    "    \n",
    "end"
   ]
  },
  {
   "cell_type": "code",
   "execution_count": 186,
   "metadata": {
    "collapsed": false
   },
   "outputs": [
    {
     "name": "stderr",
     "output_type": "stream",
     "text": [
      "WARNING: Method definition Graficar(Any, Any, Any, Any, Any, Any, Any) in module Main at In[182]:3 overwritten at In[186]:3.\n"
     ]
    },
    {
     "data": {
      "text/plain": [
       "Graficar (generic function with 2 methods)"
      ]
     },
     "execution_count": 186,
     "metadata": {},
     "output_type": "execute_result"
    }
   ],
   "source": [
    "function Graficar(Tiempo, paso, k,l,A,B,vari)\n",
    "    #graficarMap(k,l)\n",
    "    evaluar(Tiempo,paso,A,B,vari)\n",
    "end"
   ]
  },
  {
   "cell_type": "code",
   "execution_count": 187,
   "metadata": {
    "collapsed": false
   },
   "outputs": [
    {
     "data": {
      "image/png": "[encoded data removed]",
      "text/plain": [
       "PyPlot.Figure(PyObject <matplotlib.figure.Figure object at 0x7fd41453ff10>)"
      ]
     },
     "metadata": {},
     "output_type": "display_data"
    },
    {
     "data": {
      "text/plain": [
       "1-element Array{Any,1}:\n",
       " PyObject <matplotlib.lines.Line2D object at 0x7fd4144c3a10>"
      ]
     },
     "execution_count": 187,
     "metadata": {},
     "output_type": "execute_result"
    }
   ],
   "source": [
    "Graficar(60.7,0.025,8.,1.,Polinomio[1],Polinomio[2],\"estable\")\n",
    "Graficar(60.7,0.025,8.,1.,PolinomioB[1],PolinomioB[2],\"inestable\")"
   ]
  },
  {
   "cell_type": "code",
   "execution_count": 196,
   "metadata": {
    "collapsed": false
   },
   "outputs": [
    {
     "data": {
      "text/plain": [
       "2-element Array{Float64,1}:\n",
       " 0.0\n",
       " 0.0"
      ]
     },
     "execution_count": 196,
     "metadata": {},
     "output_type": "execute_result"
    }
   ],
   "source": [
    "Henon(-4,-4,8,1)+[4.,4.]"
   ]
  },
  {
   "cell_type": "code",
   "execution_count": null,
   "metadata": {
    "collapsed": true
   },
   "outputs": [],
   "source": []
  }
 ],
 "metadata": {
  "kernelspec": {
   "display_name": "Julia 0.5.2",
   "language": "julia",
   "name": "julia-0.5"
  },
  "language_info": {
   "file_extension": ".jl",
   "mimetype": "application/julia",
   "name": "julia",
   "version": "0.5.2"
  }
 },
 "nbformat": 4,
 "nbformat_minor": 2
}
