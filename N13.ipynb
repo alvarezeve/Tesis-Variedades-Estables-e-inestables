{
 "cells": [
  {
   "cell_type": "markdown",
   "metadata": {},
   "source": [
    "# Mapeo de Hénon\n"
   ]
  },
  {
   "cell_type": "markdown",
   "metadata": {},
   "source": [
    "Vamos a analizar un poco sobre otro mapeo, el de Henon. El mapeo de Henon es un mapeo descrito de la forma:\n",
    "$$ f_{a,b}(x,y)=\\left\\{ \\begin{array}{lcc}\n",
    "             a-by-x^{2}\\\\\n",
    "             \\\\ x\n",
    "             \\end{array}\n",
    "             \\right.$$\n",
    "        \n",
    "        \n",
    "Para poder analizarlo debemos linearizar el sistema. Primero obtenemos el jacobiano \n",
    "\n",
    "$$ DF_{a,b}(x,y)=\\left( \\begin{array}{lcc}\n",
    "                \\frac{\\partial F_{x}}{\\partial x} & \\frac{\\partial F_{x}}{\\partial y}\\\\\n",
    "                \\\\ \\frac{\\partial F_{y}}{\\partial x} & \\frac{\\partial F_{y}}{\\partial y}\n",
    "                \\end{array}\n",
    "                \\right)$$\n",
    "                \n",
    "            \n",
    "$$DF_{a,b}(x,y)= \\left( \\begin{array}{lcc}\n",
    "                -2x & -b\\\\\n",
    "                \\\\ 1 & 0\n",
    "                \\end{array}\n",
    "                \\right)$$\n",
    "                \n",
    "Notamos que el determinante del jacobiano no es igual a uno sino\n",
    "$$det(DF_{a,b}(x,y))=b$$\n",
    "El determianate es constante , y sera hamiltoniano en el caso en que $b=1$. Analizaremos esos casos, primero encontrando los puntos fijos.\n",
    "$$F_{a,b}(x,y)=\\left( \\begin{array}{lcc}\n",
    "               a-by-x^{2}\\\\\n",
    "               \\\\ x\n",
    "               \\end{array}\n",
    "               \\right) = \\left(\\begin{array}{lc}\n",
    "               x \\\\\n",
    "               \\\\ y\n",
    "               \\end{array}\n",
    "               \\right)$$\n",
    "               \n",
    "               \n",
    "Lo que implica que \n",
    "$$a-by-x^{2}=x$$\n",
    "$$x=y$$ \n",
    "de donde es claro que la primer ecuación queda\n",
    "$$x^{2}+(b+1)x-a=0$$\n",
    "que se puede resolver usando la fórmula general\n",
    "$$x=\\frac{-(b+1)\\pm ((b+1)^{2}+4a)^{1/2} }{2}$$\n",
    "para el caso en que $b=1$ se tiene\n",
    "$$x=\\frac{-2\\pm 2(1+a)^{1/2} }{2}$$\n",
    "Por lo que escogiendo un valor de a podemos obtenr un punto fijo. "
   ]
  },
  {
   "cell_type": "markdown",
   "metadata": {},
   "source": [
    "Para este caso usaremos un valor de $a=.3$ . Por lo que los puntos fijos asociados serán \n",
    "$$p_{1}=(0.14017542509913805\n",
    ",0.14017542509913805\n",
    ")$$\n",
    "$$p_{2}=(-2.1401754250991383,-2.1401754250991383)$$\n",
    "\n",
    "$$p_{1}=(2,2) ;p_{2}=(-4,-4)$$\n"
   ]
  },
  {
   "cell_type": "code",
   "execution_count": 1,
   "metadata": {
    "collapsed": false
   },
   "outputs": [],
   "source": [
    "using TaylorSeries\n",
    "using PyPlot\n",
    "using LinearAlgebra"
   ]
  },
  {
   "cell_type": "code",
   "execution_count": 2,
   "metadata": {
    "collapsed": false
   },
   "outputs": [
    {
     "data": {
      "text/plain": [
       "Henon (generic function with 1 method)"
      ]
     },
     "execution_count": 2,
     "metadata": {},
     "output_type": "execute_result"
    }
   ],
   "source": [
    "function Henon(x,y,a,b)\n",
    "   \n",
    "    x_n = a-b*y-x^2\n",
    "    y_n = x \n",
    "\n",
    "    return [x_n,y_n]\n",
    "end"
   ]
  },
  {
   "cell_type": "markdown",
   "metadata": {},
   "source": [
    "Para revisar si es punto fijo:"
   ]
  },
  {
   "cell_type": "code",
   "execution_count": 3,
   "metadata": {
    "collapsed": false
   },
   "outputs": [
    {
     "data": {
      "text/plain": [
       "2-element Array{Float64,1}:\n",
       " -8.88178e-16\n",
       "  0.0        "
      ]
     },
     "execution_count": 3,
     "metadata": {},
     "output_type": "execute_result"
    }
   ],
   "source": [
    "Henon(-2.1401754250991383,-2.1401754250991383,0.3,1.0) .- [-2.1401754250991383,-2.1401754250991383]"
   ]
  },
  {
   "cell_type": "code",
   "execution_count": 4,
   "metadata": {
    "collapsed": false
   },
   "outputs": [
    {
     "data": {
      "text/plain": [
       "PolinomioTaylor1"
      ]
     },
     "execution_count": 4,
     "metadata": {},
     "output_type": "execute_result"
    }
   ],
   "source": [
    "\"\"\"\n",
    "\n",
    "PolinomioTaylor1(g,Cθ,CP,TipoVariable)\n",
    "   \n",
    "   Es una función cuyo objetivo es recibir dos listas con valores iniciales y crear dos polinomios de grado g.\n",
    "\n",
    "\n",
    "\n",
    "\n",
    "Argumentos:\n",
    "\n",
    "\n",
    "\n",
    "\n",
    "\n",
    "   - g       : grado del polinomio\n",
    "   - Cθ,CP  :  Arreglo que contiene los coeficientes iniciales, es del tipo Array{TaylorSeries.TaylorN{Float64}}\n",
    "   - TipoVariable :  es el tipo : Real, Float64, BigFloat, etc.\n",
    "   \n",
    "\n",
    "    Esta función regresa dos arreglos que contienen elementos del tipo Taylor1.TaylorN, creados con las listas iniciales. \n",
    "\n",
    "\n",
    "\"\"\"\n",
    "function PolinomioTaylor1(g::Real,Cθ,CP,TipoVariable)\n",
    "    #=\n",
    "    g es el grado del polinomio, CX y CP son\n",
    "    arreglos que contienen los coeficientes que forman la variedad.\n",
    "    \n",
    "    \n",
    "    Creamos x,p como variables tipo TaylorN de orden 2\n",
    "    =#\n",
    "    \n",
    "    \n",
    "    \n",
    "    θ,p = set_variables(TipoVariable, \"θ p\", order=2)\n",
    "    \n",
    "    #especificamos que LX,LP son de arreglos que guardarán coeficientes del polinomio, sólo son auxiliares en esta función\n",
    "    \n",
    "   \n",
    "    Lθ = Array{TaylorSeries.TaylorN{TipoVariable}}(1)\n",
    "    LP = Array{TaylorSeries.TaylorN{TipoVariable}}(1)\n",
    "    \n",
    "   #usamos un condicional para separar el caso 1 del resto\n",
    "    if g == 1\n",
    "        \n",
    "        T = [Taylor1([θ], g),Taylor1([p], g)]\n",
    "    #en el caso en que g>1 entonces usamos las listas que van guardando los coeficientes\n",
    "    else\n",
    "        #como CX,CP están guardando los coeficientes pero necesitamos agregar el último término que será una variable \n",
    "        \n",
    "        Lθ = push!(Cθ, θ) \n",
    "        LP = push!(CP, p)\n",
    "\n",
    "        T=[Taylor1(Lθ, g),Taylor1(LP, g)]\n",
    "        \n",
    "    end\n",
    "    return T\n",
    "end\n",
    "#Esta función regresa tθ,tp que son Taylor1.TaylorN"
   ]
  },
  {
   "cell_type": "code",
   "execution_count": 5,
   "metadata": {
    "collapsed": false
   },
   "outputs": [
    {
     "data": {
      "text/plain": [
       "Vecλ"
      ]
     },
     "execution_count": 5,
     "metadata": {},
     "output_type": "execute_result"
    }
   ],
   "source": [
    "#=Esta función toma el arreglo que contiene las lambdas que se van calculando, los coeficientes de los polinomios\n",
    "y el orden de los mismos, lo que hace es generar el lado derecho de la ecuación cohomológica, multiplicando a_n*λ^n\n",
    "y generando un polinomio de gradno g con estos coeficientes\n",
    "=#\n",
    "\"\"\"\n",
    "Vecλ(λ_v,g,Cθ,CP)\n",
    "Es una función que calcula la parte derecha de la ecuación comohológica, es decir la parte que involucra el valor propio.\n",
    "Regresa un arreglo de tipo TaylorSeries.TaylorN{Float64}\n",
    "\n",
    "\n",
    "Sus argumentos son:\n",
    "-g      :  grado del polinomio.\n",
    "-λ_v    :  Arreglo de dos dimensiones que contiene el valor propio y sus potencias. \n",
    "-Cθ,CP  :  Los arreglos con los polinomios que se calculan en PolinomioTaylor1.\n",
    "\n",
    "\"\"\"\n",
    "function Vecλ(λ_v,g,Cθ,CP)\n",
    "   # el arreglo de λ_v contiene los arreglos que corresponden a la parte derecha de la ecuación cohomológica\n",
    "    # en θ,p. Es importante hacer la distinción puesto que dependiendo del punto fijo donde se esté calculando\n",
    "    # el primer valor de λ en θ serpa diferente del primer valor de λ en P\n",
    "    θλt=Taylor1(λ_v[1].*Cθ,g)\n",
    "    pλt=Taylor1(λ_v[2].*CP,g)\n",
    "    \n",
    "    λvec=[θλt,pλt]\n",
    "    \n",
    "    return λvec\n",
    "end"
   ]
  },
  {
   "cell_type": "code",
   "execution_count": 6,
   "metadata": {
    "collapsed": false
   },
   "outputs": [
    {
     "data": {
      "text/plain": [
       "ValPropios (generic function with 1 method)"
      ]
     },
     "execution_count": 6,
     "metadata": {},
     "output_type": "execute_result"
    }
   ],
   "source": [
    "function ValPropios(M)\n",
    "    V = BigFloat[]\n",
    "    disc = trace(M)^2-4.*det(M)\n",
    "    disc >= 0.? v = ((trace(M) + sqrt(trace(M)^2-4.*det(M)))/2.,(trace(M) - sqrt(trace(M)^2-4.*det(M)))/2.)  : error(\"Error: el valor propio es complejo, es decir es un punto elíptico\")\n",
    "    v_prop1 = v[1]\n",
    "    v_prop2 = v[2]\n",
    "    # dado que hay unos casos en los que esto truena, \n",
    "    #debo integrag alguna forma de revisar que no sea el caso que estamos calculando\n",
    "    push!(V,v_prop1)\n",
    "    push!(V,v_prop2)\n",
    "    ValoresP = sort(V,rev=true)\n",
    "return ValoresP\n",
    "end\n",
    "        \n",
    "    \n",
    "    \n",
    "    "
   ]
  },
  {
   "cell_type": "code",
   "execution_count": 7,
   "metadata": {
    "collapsed": false
   },
   "outputs": [
    {
     "data": {
      "text/plain": [
       "VecPropios (generic function with 1 method)"
      ]
     },
     "execution_count": 7,
     "metadata": {},
     "output_type": "execute_result"
    }
   ],
   "source": [
    "function VecPropios(M,ValoresP)\n",
    "    Vectores = []\n",
    "    for i in [1,2]\n",
    "        y = big.(1.)\n",
    "        I_2 = big.([1. 0.; 0. 1.])\n",
    "        M_aux = -I_2.*ValoresP[i]+M\n",
    "        x = -(y*M_aux[3])/M_aux[1]\n",
    "        push!(Vectores,x)\n",
    "        push!(Vectores,y)\n",
    "    end\n",
    "    return Vectores\n",
    "end"
   ]
  },
  {
   "cell_type": "code",
   "execution_count": 8,
   "metadata": {
    "collapsed": false
   },
   "outputs": [
    {
     "data": {
      "text/plain": [
       "EigenValores (generic function with 1 method)"
      ]
     },
     "execution_count": 8,
     "metadata": {},
     "output_type": "execute_result"
    }
   ],
   "source": [
    "function EigenValores(M)\n",
    "    ValoresP  = ValPropios(M)\n",
    "    VectoresP = VecPropios(M,ValoresP)\n",
    "    V = (ValoresP,[VectoresP[1] VectoresP[3];VectoresP[2] VectoresP[4]])\n",
    "    return V\n",
    "end"
   ]
  },
  {
   "cell_type": "code",
   "execution_count": 9,
   "metadata": {
    "collapsed": false
   },
   "outputs": [
    {
     "data": {
      "text/plain": [
       "Orden1 (generic function with 1 method)"
      ]
     },
     "execution_count": 9,
     "metadata": {},
     "output_type": "execute_result"
    }
   ],
   "source": [
    "function Orden1(Cθ,CP,TipoVariable,Mapeo,k,l,PuntoFijo,tipo_v,λarrayθ,λarrayP)\n",
    "            #usamos la función PolinomioTaylor para crear el polinomio tipo Taylor1.TaylorN{T}\n",
    "            t = PolinomioTaylor1(1,Cθ,CP,TipoVariable)\n",
    "            #@show(typeof(t))\n",
    "            #Aplicamos el mapeo a los polinomios que resultan de la función anterior.\n",
    "            Or1 = Mapeo(t[1],t[2],k,l)\n",
    "            @show(Or1)\n",
    "            #@show(typeof(Or1))\n",
    "            AuxOr1=[Or1[1][1],Or1[2][1]]\n",
    "            @show(AuxOr1)\n",
    "            #@show(typeof(AuxOr1))\n",
    "            #Calculamos el jacobiano del Orden 1 para obtener sus valores y vectores propios.\n",
    "            JPO = jacobian(AuxOr1,[PuntoFijo[1],PuntoFijo[2]])\n",
    "            @show(JPO)\n",
    "            #@show(typeof(JPO))\n",
    "            #@show(JPO)\n",
    "            #@show(det(JPO))\n",
    "            \n",
    "            \n",
    "            #Calculamos los valores y vectores propios\n",
    "            if TipoVariable == BigFloat\n",
    "                eigval,eigvec = EigenValores(JPO)\n",
    "            else\n",
    "                eigval,eigvec = eig(JPO)\n",
    "            end\n",
    "            #escogemos el tipo de variedad que queremos calcular. Como se ordenan de menor a mayor la inestable es la segunda\n",
    "            λ = eigval[tipo_v]\n",
    "            @show(eigval,eigvec)\n",
    "            tt = imag(λ)\n",
    "            @show(λ)\n",
    "            #Ponemos los coeficientes en una variable nueva cada uno y los agregamos a las listas CX,CP,λ\n",
    "            tt == 0.?  Coef = eigvec[:,tipo_v] : error(\"Error: el valor propio es complejo, es decir es un punto elíptico\")\n",
    "            #@show(typeof(Coef[1]))\n",
    "            #@show(Coefθ,CoefP)\n",
    "            push!(Cθ, Coef[1])\n",
    "            push!(CP, Coef[2])\n",
    "            push!(λarrayθ, λ)\n",
    "            push!(λarrayP, λ)\n",
    "            λ_v=[λarrayθ,λarrayP]\n",
    "            \n",
    "            #@show(λarray)  \n",
    "            #@show(typeof(Cθ))\n",
    "            #@show(typeof(λarrayθ))\n",
    "    return Cθ, CP,λarrayθ,λarrayP, λ_v\n",
    "end\n",
    "            \n",
    "    "
   ]
  },
  {
   "cell_type": "code",
   "execution_count": 10,
   "metadata": {
    "collapsed": false
   },
   "outputs": [
    {
     "data": {
      "text/plain": [
       "Variedades"
      ]
     },
     "execution_count": 10,
     "metadata": {},
     "output_type": "execute_result"
    }
   ],
   "source": [
    "#Creamos una función que reciba el orden del polinomio , el punto fijo, el parámetro k y \n",
    "#el tipo de varidad que queremos(estable=1, inestable=2)\n",
    "\"\"\"\n",
    "Variedades(Mapeo,orden, PuntoFijo,k,tipo_v,TipoVariable)\n",
    "Es una función que calcula las variedades de cierto mapeo. Usa las funciones de PolinomioTaylor1 y Vecλ para calcular los\n",
    "polinomios de cada lado de la ecuación cohomológica y les aplica el mapeo dado. \n",
    "\n",
    "\n",
    "\n",
    "Argumentos:\n",
    "\n",
    "\n",
    "- Mapeo : Mapeo de dos dimensiones, debe recibir al menos dos parámetros que son los polinomios antes calculados.\n",
    "- orden : se trata del orden del polinomio.\n",
    "- PuntoFijo : ES el punto fijo donde queremos calcular la variedad.\n",
    "- k     : Es la constante del mapeo.\n",
    "- tipo_v : 1 si la variedad es estable, 2 si es inestable.\n",
    "- TipoVariable :  Float64,BigFloat, Integer,etc.\n",
    "\n",
    "\n",
    "\"\"\"\n",
    "function Variedades(Mapeo,orden, PuntoFijo,k,l,tipo_v, TipoVariable)\n",
    "   \n",
    "    #definimos unas listas donde se guardarán los coeficientes  de todo el polinomio, tales deben ser\n",
    "    # de tipo \"Array{TaylorSeries.TaylorN{Int64},1}\" dado que los términos que se van agregando \n",
    "    # en cada orden son de tipo TaylorN.\n",
    "    \n",
    "    a=TipoVariable(PuntoFijo[1])\n",
    "    b=TipoVariable(PuntoFijo[2])\n",
    "    Cθ = [a+TaylorN(0.)]\n",
    "    CP = [b+TaylorN(0.)]\n",
    "    \n",
    "    \n",
    "    #λarray es la lista que contiene a los coeficientes del polinomio de λ\n",
    "    λarrayθ = [a^0]\n",
    "    λarrayP = [b^0]\n",
    "    \n",
    "    #definimos un vector que contiene el punto en el que se evalúa el jacobiano que se calcula después\n",
    "    #dado que sólo lo usamos para obtener los valores que resultaron en el mapeo evaluamos siempre en [1.,1.]\n",
    "    \n",
    "    \n",
    "    \n",
    "    \n",
    "    Cθ,CP,λarayθ, λarrayP,λ_v = Orden1(Cθ,CP,TipoVariable,Mapeo,k,l,PuntoFijo,tipo_v,λarrayθ,λarrayP)\n",
    "    \n",
    "\n",
    "\n",
    "    for g in 2:orden\n",
    "        \n",
    "            #Creamos los polinomios con las listas correspondientes \n",
    "            t = PolinomioTaylor1(g,Cθ,CP,TipoVariable)\n",
    "            \n",
    "            # aplicamos el mapeo estándar y al resultado le llamamos OrG por Orden g.\n",
    "            OrG = Mapeo(t[1],t[2],k,l)\n",
    "            \n",
    "            push!(λarrayθ,λarrayθ[2]^g)\n",
    "            push!(λarrayP,λarrayP[2]^g)\n",
    "            λ_v=[λarrayθ,λarrayP]\n",
    "            \n",
    "            #agregamos el término correspondiente a λ \n",
    "            λ_vec=Vecλ(λ_v,g,Cθ,CP)\n",
    "            \n",
    "            \n",
    "            #@show(λvec)\n",
    "            \n",
    "            # ahora ya tengo las dos partes de la ecuación y debo igualarlas para resolver.\n",
    "            EcuaCohomo=OrG-λ_vec\n",
    "            \n",
    "            \n",
    "            # de esta ecuación necesitamos solo los de orden g, así que los extraemos manualmente \n",
    "            θ_g=EcuaCohomo[1].coeffs[g+1]\n",
    "            p_g=EcuaCohomo[2].coeffs[g+1]\n",
    "            vec_orden_g=[θ_g,p_g]\n",
    "            \n",
    "            \n",
    "            #calculamos el término independiene en la ecuación\n",
    "            θ_ind=EcuaCohomo[1].coeffs[g+1].coeffs[1].coeffs[1]\n",
    "            p_ind=EcuaCohomo[2].coeffs[g+1].coeffs[1].coeffs[1]\n",
    "            vec_ind=[-θ_ind,-p_ind]\n",
    "            \n",
    "            #calculamos el jacobiano\n",
    "            JacOrdenG = jacobian(vec_orden_g)\n",
    "            \n",
    "            \n",
    "            \n",
    "            \n",
    "            #Con esta información podemos evaluar lo siguiente:\n",
    "            # Si el vector de términos independientes es cero y el determinante del jacobiano es distinto de cero\n",
    "            # entonces la solución a la ecuación cohomológica es la trivial\n",
    "            if norm(vec_ind)==0.\n",
    "                if det(JacOrdenG)!=0.\n",
    "                    \n",
    "                    Cθ[g+1]=0.\n",
    "                    CP[g+1]=0.\n",
    "                end\n",
    "            else\n",
    "                # Si el vector de términos independientes es distinto de ceroentonces necesitamos \n",
    "                #resolver la ecuación JacOrdenG[x_g,p_g]*[x,p]**=vec_ind[x_g,p_g]\n",
    "                # entonces solo se trata de invertir el jacobiano y multiplicar con el vector del lado izquierdo\n",
    "                TermG=JacOrdenG \\ vec_ind\n",
    "                \n",
    "                Cθ[g+1]=TermG[1]\n",
    "                CP[g+1]=TermG[2]\n",
    "            \n",
    "            end\n",
    "            \n",
    "\n",
    "    end\n",
    "    return Cθ,CP,λarrayθ, λarrayP\n",
    "end"
   ]
  },
  {
   "cell_type": "code",
   "execution_count": 11,
   "metadata": {
    "collapsed": false
   },
   "outputs": [
    {
     "data": {
      "text/plain": [
       "PolinomioCohomo"
      ]
     },
     "execution_count": 11,
     "metadata": {},
     "output_type": "execute_result"
    }
   ],
   "source": [
    "\"\"\"\n",
    "PolinomioCohomo(Mapeo,Pol_vec,λvec, k)\n",
    "Esta función calcula la ecuación cohomológica con los polinomios que ya se calcularon. Regresa un arreglo de dos \n",
    "elementos que son los valores de x,θ del mapeo.\n",
    "\n",
    "\n",
    "Argumentos:\n",
    "-Mapeo : función o mapeo del cual calculamos las variedades.Debe ser una función que reciba tres parámetros\n",
    " que son dos de sus variables y la constante del mapeo. Como salida debe tener un arreglo de dos elementos. \n",
    "-Pol_vec : Es un arreglo de dos elementos que son los polinomios calculados con anterioridad. \n",
    "-k     : es el valor de la constante del mapeo \n",
    "-λvec : \n",
    "\n",
    "\"\"\"\n",
    "function PolinomioCohomo(Mapeo,Pol_vec,λvec, k,l ,PuntoFijo,modulo)\n",
    "    Map_vec=Mapeo(Pol_vec[1],Pol_vec[2],k,l)\n",
    "    if modulo==2*pi\n",
    "        Ec_Cohomo = mod(Map_vec-λvec,modulo)\n",
    "    else\n",
    "        Ec_Cohomo = Map_vec-λvec\n",
    "    end\n",
    "    return Ec_Cohomo\n",
    "end"
   ]
  },
  {
   "cell_type": "code",
   "execution_count": 12,
   "metadata": {
    "collapsed": false
   },
   "outputs": [
    {
     "data": {
      "text/plain": [
       "EvaluarPol"
      ]
     },
     "execution_count": 12,
     "metadata": {},
     "output_type": "execute_result"
    }
   ],
   "source": [
    "\"\"\"\n",
    "EvaluarPol(Ec_2var,Tiempo,paso)\n",
    "\n",
    "Es una función que toma un arreglo de dos dimensiones que contiene polinomios y los evalúa en el tiempo dado en los pasos deseados\n",
    "\n",
    "\n",
    "\n",
    "\n",
    "Argumentos:\n",
    "\n",
    "-Ec_2var : Arreglo de dos dimensiones que contiene polinomios en cada una de ellas. \n",
    "-Tiempo  : Valor hasta el cual se quiere evaluar cada polinomio\n",
    "-paso    : es el paso que se considera en cada evaluación del polinomio. \n",
    "\n",
    "\"\"\"\n",
    "function EvaluarPol(Ec_2var,Tiempo,paso,TipoVariable)\n",
    "    \n",
    "    \n",
    "    \n",
    "    \n",
    "    \n",
    "    Val=TipoVariable[]\n",
    "    Tiem=TipoVariable[]\n",
    "    \n",
    "    \n",
    "    for t = 0:paso:Tiempo\n",
    "        x = evaluate(Ec_2var[1], t)\n",
    "        y = evaluate(Ec_2var[2], t)\n",
    "\n",
    "        \n",
    "        norma = norm([x,y],Inf)\n",
    "        push!(Val,norma)\n",
    "        push!(Tiem,t)\n",
    "    \n",
    "    end\n",
    "    return Tiem,Val\n",
    "end"
   ]
  },
  {
   "cell_type": "code",
   "execution_count": 13,
   "metadata": {
    "collapsed": false
   },
   "outputs": [
    {
     "data": {
      "text/plain": [
       "CreaPol"
      ]
     },
     "execution_count": 13,
     "metadata": {},
     "output_type": "execute_result"
    }
   ],
   "source": [
    "\"\"\"\n",
    "CreaPol es una función que dadas dos listas y un grado crea  un arreglo de dos entradas , en cada una de ellas se encuentra \n",
    "el polinomio de grado g con los coeficientes de las listas. \n",
    "\n",
    "\n",
    "Argumentos:\n",
    "\n",
    "\n",
    "- A,B : arreglos que contienen lo que serán los coeficientes del polinomio.\n",
    "- orden : grado del polinomio\n",
    "\"\"\"\n",
    "function CreaPol(A,B,orden)\n",
    "    Taylor = [Taylor1(A,orden),Taylor1(B,orden)]\n",
    "    return Taylor\n",
    "end"
   ]
  },
  {
   "cell_type": "code",
   "execution_count": 14,
   "metadata": {
    "collapsed": false
   },
   "outputs": [
    {
     "data": {
      "text/plain": [
       "MetParametrización (generic function with 1 method)"
      ]
     },
     "execution_count": 14,
     "metadata": {},
     "output_type": "execute_result"
    }
   ],
   "source": [
    "function MetParametrización(Mapeo,modulo,orden,PuntoFijo,k,l,tipo_v,Tiempo,paso, TipoVariable)\n",
    "    Coeficienteθ,CoeficienteP,λarrayθ,λarrayP = Variedades(Mapeo,orden,PuntoFijo,k,l,tipo_v,TipoVariable)\n",
    "        \n",
    "    \n",
    "    θ = TipoVariable[]\n",
    "    P = TipoVariable[]\n",
    "    \n",
    "    for i in 1:orden+1\n",
    "            \n",
    "        push!(θ,Coeficienteθ[i].coeffs[1].coeffs[1])\n",
    "        push!(P,CoeficienteP[i].coeffs[1].coeffs[1])\n",
    "        \n",
    "    end\n",
    "    \n",
    "    Taylor=CreaPol(θ,P,orden)\n",
    "    \n",
    "    λ_vec=CreaPol(θ.*λarrayθ,P.*λarrayP,orden)\n",
    "    \n",
    "    \n",
    "    \n",
    "    Ecua_Cohomo = PolinomioCohomo(Mapeo,Taylor,λ_vec, k,l,PuntoFijo,modulo)\n",
    "    Valor_t , Error = EvaluarPol(Ecua_Cohomo,Tiempo,paso, TipoVariable)\n",
    "    ErrorV = [Valor_t,Error]\n",
    "    \n",
    "    \n",
    "    return Taylor,ErrorV,λ_vec\n",
    "   \n",
    "end"
   ]
  },
  {
   "cell_type": "code",
   "execution_count": 15,
   "metadata": {
    "collapsed": false
   },
   "outputs": [],
   "source": [
    "using PyPlot"
   ]
  },
  {
   "cell_type": "markdown",
   "metadata": {},
   "source": [
    "Graficamos ahora varios casos dejando b=1 y variando el valor de a para observar el comportamiento del sistema."
   ]
  },
  {
   "cell_type": "markdown",
   "metadata": {},
   "source": [
    "## Primero con a=1."
   ]
  },
  {
   "cell_type": "code",
   "execution_count": 16,
   "metadata": {
    "collapsed": false
   },
   "outputs": [
    {
     "name": "stdout",
     "output_type": "stream",
     "text": [
      "x1 = 0.41421356237309515\n",
      "x2 = -2.414213562373095\n"
     ]
    },
    {
     "data": {
      "text/plain": [
       "-2.414213562373095"
      ]
     },
     "execution_count": 16,
     "metadata": {},
     "output_type": "execute_result"
    }
   ],
   "source": [
    "parametro = 1.\n",
    "x1 = -1.+(1.+parametro)^.5\n",
    "x2 = -1.-(1.+parametro)^.5\n",
    "@show(x1,x2)\n"
   ]
  },
  {
   "cell_type": "code",
   "execution_count": null,
   "metadata": {
    "collapsed": false
   },
   "outputs": [],
   "source": [
    "Polinomio1,E1,ValProp1 = MetParametrización(Henon,1., 25, [0.414213,0.414213], parametro, 1., 2, 60., 0.125, Float64)"
   ]
  },
  {
   "cell_type": "code",
   "execution_count": 20,
   "metadata": {
    "collapsed": false
   },
   "outputs": [
    {
     "name": "stdout",
     "output_type": "stream",
     "text": [
      "Or1 = TaylorSeries.Taylor1{TaylorSeries.TaylorN{Float64}}[  1.0 - 1.0 p - 1.0 θ² + 𝒪(‖x‖³) + 𝒪(t²),  1.0 θ + 𝒪(‖x‖³) + 𝒪(t²)]\n",
      "AuxOr1 = TaylorSeries.TaylorN{Float64}[ 1.0 - 1.0 p - 1.0 θ² + 𝒪(‖x‖³), 1.0 θ + 𝒪(‖x‖³)]\n",
      "JPO = [4.8284 -1.0; 1.0 0.0]\n",
      "eigval = [4.61155,0.216847]\n",
      "eigvec = [0.977287 0.211921; 0.211921 0.977287]\n",
      "λ = 0.21684667383690884\n"
     ]
    },
    {
     "data": {
      "text/plain": [
       "(TaylorSeries.Taylor1{Float64}[ - 2.4142 + 0.21192137439362693 t - 0.0027243276967052607 t² + 1.2382293092773488e-5 t³ - 2.831722539777983e-8 t⁴ + 3.819157016994805e-11 t⁵ - 3.368297494978974e-14 t⁶ + 2.0826497798048376e-17 t⁷ - 9.485016258551467e-21 t⁸ + 3.3020177357378875e-24 t⁹ - 9.046460002403854e-28 t¹⁰ + 1.996850320471073e-31 t¹¹ - 3.620657675684361e-35 t¹² + 5.48064527473795e-39 t¹³ - 7.021486410605729e-43 t¹⁴ + 7.703368698029748e-47 t¹⁵ - 7.311548314862399e-51 t¹⁶ + 6.057405019574204e-55 t¹⁷ - 4.414967802617731e-59 t¹⁸ + 2.851089250976713e-63 t¹⁹ - 1.640840135963052e-67 t²⁰ + 8.469068602503307e-72 t²¹ - 3.9349620622168395e-76 t²² + 1.5720285227251218e-80 t²³ - 6.396600434265631e-85 t²⁴ + 2.6027833798281377e-89 t²⁵ + 𝒪(t²⁶), - 2.4142 + 0.9772867189699839 t - 0.05793670813114867 t² + 0.0012143469454015813 t³ - 1.2806770818273787e-5 t⁴ + 7.965328455894917e-8 t⁵ - 3.239618365808723e-10 t⁶ + 9.237339165706473e-13 t⁷ - 1.9400635658704606e-15 t⁸ + 3.114616046100214e-18 t⁹ - 3.9350569084108166e-21 t¹⁰ + 4.005577118600194e-24 t¹¹ - 3.3493018091389776e-27 t¹² + 2.3380066673558493e-30 t¹³ - 1.381307474771926e-33 t¹⁴ + 6.9885845732653395e-37 t¹⁵ - 3.0588949453911144e-40 t¹⁶ + 1.168663481688264e-43 t¹⁷ - 3.9281397866732467e-47 t¹⁸ + 1.169784654843688e-50 t¹⁹ - 3.1058509657165275e-54 t²⁰ + 7.393960028839497e-58 t²¹ - 1.5864661354853e-61 t²² + 3.0823148656587694e-65 t²³ - 5.445979656418499e-69 t²⁴ + 8.784850858845184e-73 t²⁵ + 𝒪(t²⁶)],Array{Float64,1}[[0.0,0.125,0.25,0.375,0.5,0.625,0.75,0.875,1.0,1.125  …  58.875,59.0,59.125,59.25,59.375,59.5,59.625,59.75,59.875,60.0],[3.836e-5,3.836e-5,3.836e-5,3.836e-5,3.836e-5,3.836e-5,3.836e-5,3.836e-5,3.836e-5,3.836e-5  …  3.836e-5,3.836e-5,3.836e-5,3.836e-5,3.836e-5,3.836e-5,3.836e-5,3.836e-5,3.836e-5,3.836e-5]],TaylorSeries.Taylor1{Float64}[ - 2.4142 + 0.04595444515220427 t - 0.00012810464450680625 t² + 1.2625813637192688e-7 t³ - 6.261260278699528e-11 t⁴ + 1.8311812753515088e-14 t⁵ - 3.502087818252278e-18 t⁶ + 4.695540596175526e-22 t⁷ - 4.6372466865532454e-26 t⁸ + 3.5006950986950145e-30 t⁹ - 2.0797269386119244e-34 t¹⁰ + 9.954648444293391e-39 t¹¹ - 3.913998412252587e-43 t¹² + 1.2847470788080368e-47 t¹³ - 3.5691744013143704e-52 t¹⁴ + 8.4912603969579e-57 t¹⁵ - 1.747646509798565e-61 t¹⁶ + 3.139667214206854e-66 t¹⁷ - 4.962234804687749e-71 t¹⁸ + 6.948856569316024e-76 t¹⁹ - 8.672045950277366e-81 t²⁰ + 9.70607662599222e-86 t²¹ - 9.779156116473805e-91 t²² + 8.471767263451197e-96 t²³ - 7.475075490721857e-101 t²⁴ + 6.595643134939916e-106 t²⁵ + 𝒪(t²⁶), - 2.4142 + 0.21192137439362688 t - 0.002724327696705261 t² + 1.2382293092773461e-5 t³ - 2.8317225397779547e-8 t⁴ + 3.819157016994454e-11 t⁵ - 3.3682974949799987e-14 t⁶ + 2.082649779805103e-17 t⁷ - 9.485016258590371e-21 t⁸ + 3.3020177356689297e-24 t⁹ - 9.046460002275249e-28 t¹⁰ + 1.9968503208975626e-31 t¹¹ - 3.6206576642589775e-35 t¹² + 5.48064522614586e-39 t¹³ - 7.021486606957403e-43 t¹⁴ + 7.703368973230697e-47 t¹⁵ - 7.311539013271037e-51 t¹⁶ + 6.0574031388698455e-55 t¹⁷ - 4.415060955948819e-59 t¹⁸ + 2.851073771440497e-63 t¹⁹ - 1.6414811960702522e-67 t²⁰ + 8.473935680273854e-72 t²¹ - 3.9426809628932846e-76 t²² + 1.661080177430272e-80 t²³ - 6.364178827645878e-85 t²⁴ + 2.226145352996651e-89 t²⁵ + 𝒪(t²⁶)])"
      ]
     },
     "execution_count": 20,
     "metadata": {},
     "output_type": "execute_result"
    }
   ],
   "source": [
    "Polinomio2,E2,ValProp2 = MetParametrización(Henon,1., 25, [-2.4142,-2.4142], parametro, 1., 2, 60., 0.125, Float64)"
   ]
  },
  {
   "cell_type": "code",
   "execution_count": 19,
   "metadata": {
    "collapsed": false
   },
   "outputs": [
    {
     "name": "stdout",
     "output_type": "stream",
     "text": [
      "Or1 = TaylorSeries.Taylor1{TaylorSeries.TaylorN{Float64}}[  1.0 - 1.0 p - 1.0 θ² + 𝒪(‖x‖³) + 𝒪(t²),  1.0 θ + 𝒪(‖x‖³) + 𝒪(t²)]\n",
      "AuxOr1 = TaylorSeries.TaylorN{Float64}[ 1.0 - 1.0 p - 1.0 θ² + 𝒪(‖x‖³), 1.0 θ + 𝒪(‖x‖³)]\n",
      "JPO = [4.8284 -1.0; 1.0 0.0]\n",
      "eigval = [4.61155,0.216847]\n",
      "eigvec = [0.977287 0.211921; 0.211921 0.977287]\n",
      "λ = 4.611553326163092\n"
     ]
    },
    {
     "data": {
      "text/plain": [
       "(TaylorSeries.Taylor1{Float64}[ - 2.4142 + 0.9772867189699839 t - 0.05793670813114862 t² + 0.0012143469454015798 t³ - 1.2806770818273748e-5 t⁴ + 7.965328455894868e-8 t⁵ - 3.239618365808674e-10 t⁶ + 9.237339165706188e-13 t⁷ - 1.9400635658703963e-15 t⁸ + 3.114616046100237e-18 t⁹ - 3.935056908411283e-21 t¹⁰ + 4.005577118601354e-24 t¹¹ - 3.349301809140046e-27 t¹² + 2.3380066673552257e-30 t¹³ - 1.3813074747691937e-33 t¹⁴ + 6.98858457321951e-37 t¹⁵ - 3.058894945318386e-40 t¹⁶ + 1.168663481591454e-43 t¹⁷ - 3.9281397857606936e-47 t¹⁸ + 1.1697846542446172e-50 t¹⁹ - 3.105850962765963e-54 t²⁰ + 7.39396001580301e-58 t²¹ - 1.5864661293514438e-61 t²² + 3.082314837953396e-65 t²³ - 5.445979563909048e-69 t²⁴ + 8.784850719461345e-73 t²⁵ + 𝒪(t²⁶), - 2.4142 + 0.21192137439362685 t - 0.0027243276967052585 t² + 1.2382293092773443e-5 t³ - 2.831722539777945e-8 t⁴ + 3.819157016994429e-11 t⁵ - 3.3682974949799456e-14 t⁶ + 2.0826497798050373e-17 t⁷ - 9.485016258590047e-21 t⁸ + 3.3020177356689503e-24 t⁹ - 9.046460002276312e-28 t¹⁰ + 1.9968503208981394e-31 t¹¹ - 3.620657664260127e-35 t¹² + 5.480645226144391e-39 t¹³ - 7.021486606943504e-43 t¹⁴ + 7.703368973180169e-47 t¹⁵ - 7.311539013097185e-51 t¹⁶ + 6.05740313836805e-55 t¹⁷ - 4.41506095492314e-59 t¹⁸ + 2.851073769980399e-63 t¹⁹ - 1.641481194510838e-67 t²⁰ + 8.473935665333216e-72 t²¹ - 3.942680947649433e-76 t²² + 1.6610801624996562e-80 t²³ - 6.364178719539198e-85 t²⁴ + 2.2261453176757624e-89 t²⁵ + 𝒪(t²⁶)],Array{Float64,1}[[0.0,0.125,0.25,0.375,0.5,0.625,0.75,0.875,1.0,1.125  …  58.875,59.0,59.125,59.25,59.375,59.5,59.625,59.75,59.875,60.0],[3.836e-5,3.836e-5,3.836e-5,3.836e-5,3.836e-5,3.836e-5,3.836e-5,3.836e-5,3.836e-5,3.836e-5  …  3.836e-5,3.836e-5,3.836e-5,3.836e-5,3.836e-5,3.836e-5,3.836e-5,3.836e-5,3.836e-5,3.836e-5]],TaylorSeries.Taylor1{Float64}[ - 2.4142 + 4.5068098194810435 t - 1.2321066049188487 t² + 0.11909252129290786 t³ - 0.005792000327992921 t⁴ + 0.0001661268628861432 t⁵ - 3.115855167700189e-6 t⁶ + 4.097109158231939e-8 t⁷ - 3.9682026229623513e-10 t⁸ + 2.937850093848692e-12 t⁹ - 1.7116831189812414e-14 t¹⁰ + 8.034977827404811e-17 t¹¹ - 3.0982831432645593e-19 t¹² + 9.973780369000437e-22 t¹³ - 2.7173879929734928e-24 t¹⁴ + 6.34012397784434e-27 t¹⁵ - 1.2797358079787902e-29 t¹⁶ + 2.254719228698088e-32 t¹⁷ - 3.494919398399266e-35 t¹⁸ + 4.799581658371493e-38 t¹⁹ - 5.876588921744462e-41 t²⁰ + 6.451623764262302e-44 t²¹ - 6.383663332129055e-47 t²² + 5.719570298143052e-50 t²³ - 4.660254640470317e-53 t²⁴ + 3.466692023672321e-56 t²⁵ + 𝒪(t²⁶), - 2.4142 + 0.9772867189699838 t - 0.05793670813114863 t² + 0.0012143469454015795 t³ - 1.280677081827375e-5 t⁴ + 7.965328455894868e-8 t⁵ - 3.2396183658086746e-10 t⁶ + 9.237339165706188e-13 t⁷ - 1.940063565870396e-15 t⁸ + 3.1146160461002365e-18 t⁹ - 3.935056908411283e-21 t¹⁰ + 4.005577118601355e-24 t¹¹ - 3.349301809140045e-27 t¹² + 2.3380066673552257e-30 t¹³ - 1.3813074747691937e-33 t¹⁴ + 6.98858457321951e-37 t¹⁵ - 3.058894945318386e-40 t¹⁶ + 1.168663481591454e-43 t¹⁷ - 3.928139785760694e-47 t¹⁸ + 1.1697846542446174e-50 t¹⁹ - 3.105850962765963e-54 t²⁰ + 7.39396001580301e-58 t²¹ - 1.5864661293514438e-61 t²² + 3.082314837953396e-65 t²³ - 5.445979563909048e-69 t²⁴ + 8.784850719461345e-73 t²⁵ + 𝒪(t²⁶)])"
      ]
     },
     "execution_count": 19,
     "metadata": {},
     "output_type": "execute_result"
    }
   ],
   "source": [
    "Polinomio1,E1,ValProp1 = MetParametrización(Henon,1., 25, [-2.4142,-2.4142], parametro, 1., 1, 60., 0.125, Float64)"
   ]
  },
  {
   "cell_type": "markdown",
   "metadata": {},
   "source": [
    "Graficaremos el error cometido que es el que nos dirá cuanta diferencia hay entre tipos de números. "
   ]
  },
  {
   "cell_type": "code",
   "execution_count": 21,
   "metadata": {
    "collapsed": false
   },
   "outputs": [
    {
     "data": {
      "image/png": "[encoded data removed]",
      "text/plain": [
       "PyPlot.Figure(PyObject <matplotlib.figure.Figure object at 0x7fa6d58d7d10>)"
      ]
     },
     "metadata": {},
     "output_type": "display_data"
    },
    {
     "data": {
      "text/plain": [
       "PyObject <matplotlib.legend.Legend object at 0x7fa6ccba0e50>"
      ]
     },
     "execution_count": 21,
     "metadata": {},
     "output_type": "execute_result"
    }
   ],
   "source": [
    "plot(E2[1],log10(E2[2]),marker= \"None\", label=\"Inestable\")\n",
    "plot(E2[1],log10(E2[2]),marker= \"None\", label=\"Estable\")\n",
    "xlabel(\"Parámetro t\")\n",
    "ylabel(L\"$\\log_{10}(|| E||_{\\infty})$\")\n",
    "title(\"Error \")\n",
    "grid(\"on\")\n",
    "legend(loc=\"upper right\",fancybox=\"true\" )"
   ]
  },
  {
   "cell_type": "markdown",
   "metadata": {
    "collapsed": true
   },
   "source": [
    "Para observar cómo va la variedad graficaremos el espacio fase"
   ]
  },
  {
   "cell_type": "code",
   "execution_count": 22,
   "metadata": {
    "collapsed": false
   },
   "outputs": [
    {
     "data": {
      "text/plain": [
       "evaluar (generic function with 1 method)"
      ]
     },
     "execution_count": 22,
     "metadata": {},
     "output_type": "execute_result"
    }
   ],
   "source": [
    "#esta es una función para evaluar el los polinomios que calculamos\n",
    "# recibe como entrada el tiempo que es el valor del parámetro t, el paso\n",
    "# que define en pasos de cuanto queremos ir evaluando y claro los polinomios A,B\n",
    "function evaluar(Tiempo, paso,A,B,vari)\n",
    "    ValX=Float64[]\n",
    "    \n",
    "    ValY=Float64[]\n",
    "\n",
    "    for t = 0:paso:Tiempo\n",
    "        #=\n",
    "        x = mod(evaluate(A,t),2*pi)\n",
    "        y = mod(evaluate(B,t),2*pi)\n",
    "        =#\n",
    "        x = evaluate(A,t)\n",
    "        y = evaluate(B,t)\n",
    "        \n",
    "        push!(ValX,x)\n",
    "        push!(ValY,y)\n",
    "        \n",
    "    end\n",
    "    p = plot(ValX,ValY,linestyle=\"-\",label = vari)\n",
    "    \n",
    "end"
   ]
  },
  {
   "cell_type": "code",
   "execution_count": 23,
   "metadata": {
    "collapsed": false
   },
   "outputs": [
    {
     "data": {
      "text/plain": [
       "Graficar (generic function with 1 method)"
      ]
     },
     "execution_count": 23,
     "metadata": {},
     "output_type": "execute_result"
    }
   ],
   "source": [
    "function Graficar(Tiempo, paso, k,l,A,B,vari)\n",
    "    #graficarMap(k,l)\n",
    "    evaluar(Tiempo,paso,A,B,vari)\n",
    "end"
   ]
  },
  {
   "cell_type": "code",
   "execution_count": 24,
   "metadata": {
    "collapsed": false
   },
   "outputs": [
    {
     "data": {
      "image/png": "[encoded data removed]",
      "text/plain": [
       "PyPlot.Figure(PyObject <matplotlib.figure.Figure object at 0x7fa6d586a310>)"
      ]
     },
     "metadata": {},
     "output_type": "display_data"
    },
    {
     "data": {
      "text/plain": [
       "(-4.0,4.0)"
      ]
     },
     "execution_count": 24,
     "metadata": {},
     "output_type": "execute_result"
    }
   ],
   "source": [
    "Graficar(180.7,0.025,8.,1.,Polinomio2[1],Polinomio2[2],\"inestable\")\n",
    "Graficar(180.7,0.025,8.,1.,Polinomio1[1],Polinomio1[2],\"estable\")\n",
    "#Graficar(60.7,0.025,8.,1.,PolinomioB[1],PolinomioB[2],\"inestable\")\n",
    "xlim(-4.0,4.0)\n",
    "ylim(-4.0,4.0)"
   ]
  },
  {
   "cell_type": "markdown",
   "metadata": {},
   "source": [
    "## Con a=2"
   ]
  },
  {
   "cell_type": "code",
   "execution_count": null,
   "metadata": {
    "collapsed": false
   },
   "outputs": [],
   "source": [
    "parametro = 2.\n",
    "x1 = -1.+(1.+parametro)^.5\n",
    "x2 = -1.-(1.+parametro)^.5\n",
    "@show(x1,x2)\n"
   ]
  },
  {
   "cell_type": "code",
   "execution_count": null,
   "metadata": {
    "collapsed": false,
    "scrolled": true
   },
   "outputs": [],
   "source": [
    "Polinomio1,E1,ValProp1 = MetParametrización(Henon,1., 25, [x1,x1], parametro, 1., 1, 60., 0.125, Float64)"
   ]
  },
  {
   "cell_type": "code",
   "execution_count": null,
   "metadata": {
    "collapsed": false
   },
   "outputs": [],
   "source": [
    "Polinomio1,E1,ValProp1 = MetParametrización(Henon,1., 25, [x2,x2], parametro, 1., 1, 60., 0.125, Float64)"
   ]
  },
  {
   "cell_type": "code",
   "execution_count": null,
   "metadata": {
    "collapsed": false,
    "scrolled": true
   },
   "outputs": [],
   "source": [
    "Polinomio2,E2,ValProp2 = MetParametrización(Henon,1., 25, [x2,x2], parametro, 1., 2, 60., 0.125, Float64)"
   ]
  },
  {
   "cell_type": "code",
   "execution_count": null,
   "metadata": {
    "collapsed": false
   },
   "outputs": [],
   "source": [
    "plot(E2[1],log10(E2[2]),marker= \"None\", label=\"Inestable\")\n",
    "plot(E2[1],log10(E2[2]),marker= \"None\", label=\"Estable\")\n",
    "xlabel(\"Parámetro t\")\n",
    "ylabel(L\"$\\log_{10}(|| E||_{\\infty})$\")\n",
    "title(\"Error \")\n",
    "grid(\"on\")\n",
    "legend(loc=\"upper right\",fancybox=\"true\" )"
   ]
  },
  {
   "cell_type": "code",
   "execution_count": null,
   "metadata": {
    "collapsed": false
   },
   "outputs": [],
   "source": [
    "Graficar(180,0.025,8.,1.,Polinomio2[1],Polinomio2[2],\"inestable\")\n",
    "Graficar(180,0.025,8.,1.,Polinomio1[1],Polinomio1[2],\"estable\")\n",
    "#xlim(-4,4)\n",
    "#ylim(-4,4)"
   ]
  },
  {
   "cell_type": "markdown",
   "metadata": {},
   "source": [
    "## Con a=3"
   ]
  },
  {
   "cell_type": "code",
   "execution_count": null,
   "metadata": {
    "collapsed": false
   },
   "outputs": [],
   "source": [
    "parametro = 3.\n",
    "x1 = -1.+(1.+parametro)^.5\n",
    "x2 = -1.-(1.+parametro)^.5\n",
    "@show(x1,x2)\n"
   ]
  },
  {
   "cell_type": "code",
   "execution_count": null,
   "metadata": {
    "collapsed": false
   },
   "outputs": [],
   "source": [
    "Polinomio1,E1,ValProp1 = MetParametrización(Henon,1., 25, [1.,1.], parametro, 1., 1, 60., 0.125, Float64)"
   ]
  },
  {
   "cell_type": "code",
   "execution_count": null,
   "metadata": {
    "collapsed": false
   },
   "outputs": [],
   "source": [
    "Polinomio1,E1,ValProp1 = MetParametrización(Henon,1., 25, [-3.,-3.], parametro, 1., 1, 60., 0.125, Float64)"
   ]
  },
  {
   "cell_type": "code",
   "execution_count": null,
   "metadata": {
    "collapsed": false
   },
   "outputs": [],
   "source": [
    "Polinomio2,E2,ValProp2 = MetParametrización(Henon,1., 25, [-3.,-3.], parametro, 1., 2, 60., 0.125, Float64)"
   ]
  },
  {
   "cell_type": "code",
   "execution_count": null,
   "metadata": {
    "collapsed": false
   },
   "outputs": [],
   "source": [
    "plot(E2[1],log10(E2[2]),marker= \"None\", label=\"Inestable\")\n",
    "plot(E2[1],log10(E2[2]),marker= \"None\", label=\"Estable\")\n",
    "xlabel(\"Parámetro t\")\n",
    "ylabel(L\"log10($|| E||_{\\infty})$\")\n",
    "title(\"Error \")\n",
    "grid(\"on\")\n",
    "legend(loc=\"upper right\",fancybox=\"true\" )"
   ]
  },
  {
   "cell_type": "code",
   "execution_count": null,
   "metadata": {
    "collapsed": false
   },
   "outputs": [],
   "source": [
    "Graficar(290.7,0.025,8.,1.,Polinomio2[1],Polinomio2[2],\"inestable\")\n",
    "Graficar(290.7,0.025,8.,1.,Polinomio1[1],Polinomio1[2],\"estable\")"
   ]
  },
  {
   "cell_type": "markdown",
   "metadata": {},
   "source": [
    "## Con a=4"
   ]
  },
  {
   "cell_type": "code",
   "execution_count": null,
   "metadata": {
    "collapsed": false
   },
   "outputs": [],
   "source": [
    "parametro = 12.5\n",
    "x1 = -1.+(1.+parametro)^.5\n",
    "x2 = -1.-(1.+parametro)^.5\n",
    "@show(x1,x2)"
   ]
  },
  {
   "cell_type": "code",
   "execution_count": null,
   "metadata": {
    "collapsed": false
   },
   "outputs": [],
   "source": [
    "Polinomio1,E1,ValProp1 = MetParametrización(Henon,1., 25, [x2,x2], parametro, 1., 1, 60., 0.125, Float64)"
   ]
  },
  {
   "cell_type": "code",
   "execution_count": null,
   "metadata": {
    "collapsed": false
   },
   "outputs": [],
   "source": [
    "Polinomio2,E2,ValProp2 = MetParametrización(Henon,1., 25, [x2,x2],parametro, 1., 2, 60., 0.125, Float64)\n",
    "\n",
    "\n"
   ]
  },
  {
   "cell_type": "code",
   "execution_count": null,
   "metadata": {
    "collapsed": false
   },
   "outputs": [],
   "source": [
    "plot(E2[1],log10(E2[2]),marker= \"None\", label=\"Inestable\")\n",
    "plot(E2[1],log10(E2[2]),marker= \"None\", label=\"Estable\")\n",
    "xlabel(\"Parámetro t\")\n",
    "ylabel(L\"log10($|| E||_{\\infty})$\")\n",
    "title(\"Error \")\n",
    "grid(\"on\")\n",
    "legend(loc=\"upper right\",fancybox=\"true\" )"
   ]
  },
  {
   "cell_type": "code",
   "execution_count": null,
   "metadata": {
    "collapsed": false
   },
   "outputs": [],
   "source": [
    "Graficar(360.7,0.025,8.,1.,Polinomio2[1],Polinomio2[2],\"inestable\")\n",
    "Graficar(360.7,0.025,8.,1.,Polinomio1[1],Polinomio1[2],\"estable\")\n",
    "xlim(-10,10)\n",
    "ylim(-10,10)\n"
   ]
  },
  {
   "cell_type": "code",
   "execution_count": null,
   "metadata": {
    "collapsed": true
   },
   "outputs": [],
   "source": []
  },
  {
   "cell_type": "code",
   "execution_count": null,
   "metadata": {
    "collapsed": true
   },
   "outputs": [],
   "source": []
  },
  {
   "cell_type": "code",
   "execution_count": null,
   "metadata": {
    "collapsed": true
   },
   "outputs": [],
   "source": []
  },
  {
   "cell_type": "code",
   "execution_count": null,
   "metadata": {
    "collapsed": true
   },
   "outputs": [],
   "source": []
  }
 ],
 "metadata": {
  "kernelspec": {
   "display_name": "Julia 0.5.2",
   "language": "julia",
   "name": "julia-0.5"
  },
  "language_info": {
   "file_extension": ".jl",
   "mimetype": "application/julia",
   "name": "julia",
   "version": "0.5.2"
  }
 },
 "nbformat": 4,
 "nbformat_minor": 2
}
