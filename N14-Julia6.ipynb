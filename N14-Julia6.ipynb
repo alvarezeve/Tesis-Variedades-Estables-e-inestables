{
 "cells": [
  {
   "cell_type": "markdown",
   "metadata": {},
   "source": [
    "# notebook que haremos módulo\n"
   ]
  },
  {
   "cell_type": "code",
   "execution_count": null,
   "metadata": {
    "collapsed": true
   },
   "outputs": [],
   "source": [
    "using TaylorSeries \n",
    "using PyPlot\n",
    "#using LinearAlgebra\n"
   ]
  },
  {
   "cell_type": "code",
   "execution_count": null,
   "metadata": {
    "collapsed": true
   },
   "outputs": [],
   "source": [
    "#Pkg.add(\"LinearAlgebra\")"
   ]
  },
  {
   "cell_type": "code",
   "execution_count": null,
   "metadata": {
    "collapsed": false
   },
   "outputs": [],
   "source": [
    "\"\"\"\n",
    "\n",
    "PolinomioTaylor1(g,CX,CY,TipoVariable)\n",
    "   \n",
    "   Es una función cuyo objetivo es recibir dos listas con valores iniciales y crear dos polinomios de grado g.\n",
    "\n",
    "\n",
    "\n",
    "\n",
    "Argumentos:\n",
    "\n",
    "\n",
    "\n",
    "\n",
    "\n",
    "   - g       : Grado del polinomio\n",
    "   - CX,CY  :  Arreglo que contiene los coeficientes iniciales, es del tipo Array{TaylorSeries.TaylorN{}}\n",
    "   - TipoVariable :  es el tipo del que serán los coeficientes ( Real, Float64, BigFloat)\n",
    "   \n",
    "\n",
    "Esta función regresa dos arreglos que contienen elementos del tipo Taylor1.TaylorN, creados con las listas iniciales. \n",
    "\n",
    "\n",
    "\"\"\"\n",
    "function PolinomioTaylor1(g::Real,CX,CY,TipoVariable)\n",
    "    #=\n",
    "    g es el grado del polinomio, CX y CY son\n",
    "    arreglos que contienen los coeficientes que forman la variedad.\n",
    "    \n",
    "    \n",
    "    Creamos x,y como variables tipo TaylorN de orden 2\n",
    "    =#\n",
    "    x,y = set_variables(TipoVariable, \"x y\", order=2)\n",
    "    \n",
    "    #especificamos que LX,LY son de arreglos que guardarán coeficientes del polinomio, sólo son auxiliares en esta función\n",
    "    LX = Array{TaylorSeries.TaylorN{TipoVariable}}(1)\n",
    "    LY = Array{TaylorSeries.TaylorN{TipoVariable}}(1)\n",
    "    \n",
    "    #usamos un condicional para separar el caso 1 del resto\n",
    "    if g == 1  \n",
    "        T = [Taylor1([x], g),Taylor1([y], g)]\n",
    "    #en el caso en que g>1 entonces usamos las listas que van guardando los coeficientes\n",
    "    else\n",
    "        #como CX,CY están guardando los coeficientes pero necesitamos agregar el último término que será una variable \n",
    "        LX = push!(CX, x) \n",
    "        LY = push!(CY, y)\n",
    "\n",
    "        T=[Taylor1(LX, g),Taylor1(LY, g)]\n",
    "        \n",
    "    end\n",
    "    return T\n",
    "end\n",
    "#Esta función regresa tx,ty que son Taylor1.TaylorN"
   ]
  },
  {
   "cell_type": "code",
   "execution_count": null,
   "metadata": {
    "collapsed": false
   },
   "outputs": [],
   "source": [
    "?PolinomioTaylor1"
   ]
  },
  {
   "cell_type": "code",
   "execution_count": null,
   "metadata": {
    "collapsed": false
   },
   "outputs": [],
   "source": [
    "#=Esta función toma el arreglo que contiene las lambdas que se van calculando, los coeficientes de los polinomios\n",
    "y el orden de los mismos, lo que hace es generar el lado derecho de la ecuación cohomológica, multiplicando a_n*λ^n\n",
    "y generando un polinomio de gradno g con estos coeficientes\n",
    "=#\n",
    "\"\"\"\n",
    "Vecλ(λ_v,g,CX,CY)\n",
    "Es una función que calcula la parte derecha de la ecuación comohológica, es decir la parte que involucra el valor propio.\n",
    "Regresa un arreglo de tipo TaylorSeries.TaylorN{T}\n",
    "\n",
    "\n",
    "Sus argumentos son:\n",
    "\n",
    "\n",
    "\n",
    "- g      :  grado del polinomio.\n",
    "- λ_v    :  Arreglo de dos dimensiones que contiene el valor propio y sus potencias. \n",
    "- CX,CY  :  Los arreglos con los polinomios que se calculan en PolinomioTaylor1.\n",
    "\n",
    "\"\"\"\n",
    "function Vecλ(λ_v,g,CX,CY)\n",
    "   # el arreglo de λ_v contiene los arreglos que corresponden a la parte derecha de la ecuación cohomológica\n",
    "    # en θ,p. Es importante hacer la distinción puesto que dependiendo del punto fijo donde se esté calculando\n",
    "    # el primer valor de λ en θ serpa diferente del primer valor de λ en P\n",
    "    xλt=Taylor1(λ_v[1].*CX,g)\n",
    "    yλt=Taylor1(λ_v[2].*CY,g)\n",
    "    \n",
    "    λvec=[xλt,yλt]\n",
    "    \n",
    "    return λvec\n",
    "end"
   ]
  },
  {
   "cell_type": "code",
   "execution_count": null,
   "metadata": {
    "collapsed": false
   },
   "outputs": [],
   "source": [
    "?Vecλ"
   ]
  },
  {
   "cell_type": "code",
   "execution_count": null,
   "metadata": {
    "collapsed": false
   },
   "outputs": [],
   "source": [
    "function ValPropios(M)\n",
    "    V = BigFloat[]\n",
    "    \n",
    "    #while true\n",
    "        disc = trace(M)^2-4.*det(M)\n",
    "        tol = disc -trace(M)^2\n",
    "        if  tol > 1e-70\n",
    "            println(\"Para este caso el método de calculo de valores propios no es eficiente\")\n",
    "            #break\n",
    "        else\n",
    "            disc >= 0.? v = ((trace(M) + sqrt(trace(M)^2-4.*det(M)))/2.,(trace(M) - sqrt(trace(M)^2-4.*det(M)))/2.)  : error(\"Error: el valor propio es complejo, es decir es un punto elíptico\")\n",
    "            v_prop1 = v[1]\n",
    "            v_prop2 = v[2]\n",
    "            push!(V,v_prop1)\n",
    "            push!(V,v_prop2)\n",
    "            ValoresP = sort(V,rev=true)\n",
    "        end\n",
    "    #end\n",
    "return ValoresP\n",
    "end\n",
    "        \n",
    "    \n",
    "    \n",
    "    "
   ]
  },
  {
   "cell_type": "code",
   "execution_count": null,
   "metadata": {
    "collapsed": false
   },
   "outputs": [],
   "source": [
    "function VecPropios(M,ValoresP)\n",
    "    Vectores = []\n",
    "    for i in [1,2]\n",
    "        y = big.(1.)\n",
    "        I_2 = big.([1. 0.; 0. 1.])\n",
    "        M_aux = -I_2.*ValoresP[i]+M\n",
    "        x = -(y*M_aux[3])/M_aux[1]\n",
    "        push!(Vectores,x)\n",
    "        push!(Vectores,y)\n",
    "    end\n",
    "    return Vectores\n",
    "end"
   ]
  },
  {
   "cell_type": "code",
   "execution_count": null,
   "metadata": {
    "collapsed": false
   },
   "outputs": [],
   "source": [
    "function EigenValores(M)\n",
    "    ValoresP  = ValPropios(M)\n",
    "    VectoresP = VecPropios(M,ValoresP)\n",
    "    V = (ValoresP,[VectoresP[1] VectoresP[3];VectoresP[2] VectoresP[4]])\n",
    "    return V\n",
    "end"
   ]
  },
  {
   "cell_type": "code",
   "execution_count": null,
   "metadata": {
    "collapsed": false
   },
   "outputs": [],
   "source": [
    "function Orden1(CX,CY,TipoVariable,Mapeo,k,l,PuntoFijo,tipo_v,λarrayX,λarrayY)\n",
    "            #usamos la función PolinomioTaylor para crear el polinomio tipo Taylor1.TaylorN{T}\n",
    "            t = PolinomioTaylor1(1,CX,CY,TipoVariable)\n",
    "            \n",
    "            #Aplicamos el mapeo a los polinomios que resultan de la función anterior.\n",
    "            Or1 = Mapeo(t[1],t[2],k,l)\n",
    "            \n",
    "            AuxOr1=[Or1[1][1],Or1[2][1]]\n",
    "            \n",
    "            #Calculamos el jacobiano del Orden 1 para obtener sus valores y vectores propios.\n",
    "            JPO = jacobian(AuxOr1,[PuntoFijo[1],PuntoFijo[2]])\n",
    "            \n",
    "            \n",
    "            \n",
    "            #Calculamos los valores y vectores propios\n",
    "            if TipoVariable == BigFloat\n",
    "                eigval,eigvec = EigenValores(JPO)\n",
    "            else\n",
    "                eigval,eigvec = eig(JPO)\n",
    "            end\n",
    "            #escogemos el tipo de variedad que queremos calcular. Como se ordenan de menor a mayor la inestable es la segunda\n",
    "            λ = eigval[tipo_v]\n",
    "    \n",
    "            tt = imag(λ)\n",
    "            \n",
    "            #Ponemos los coeficientes en una variable nueva cada uno y los agregamos a las listas CX,CP,λ\n",
    "            tt == 0.?  Coef = eigvec[:,tipo_v] : error(\"Error: el valor propio es complejo, es decir es un punto elíptico\")\n",
    "            \n",
    "            \n",
    "            push!(CX, Coef[1])\n",
    "            push!(CY, Coef[2])\n",
    "            push!(λarrayX, λ)\n",
    "            push!(λarrayY, λ)\n",
    "            λ_v=[λarrayX,λarrayY]\n",
    "            \n",
    "            \n",
    "    return CX, CY,λarrayX,λarrayY, λ_v\n",
    "end\n",
    "            \n",
    "    "
   ]
  },
  {
   "cell_type": "code",
   "execution_count": null,
   "metadata": {
    "collapsed": false
   },
   "outputs": [],
   "source": [
    "#Creamos una función que reciba el orden del polinomio , el punto fijo, el parámetro k y \n",
    "#el tipo de varidad que queremos(estable=1, inestable=2)\n",
    "\"\"\"\n",
    "Variedades(Mapeo,orden, PuntoFijo,k,tipo_v,TipoVariable)\n",
    "Es una función que calcula las variedades de cierto mapeo. Usa las funciones de PolinomioTaylor1 y Vecλ para calcular los\n",
    "polinomios de cada lado de la ecuación cohomológica y les aplica el mapeo dado. \n",
    "\n",
    "\n",
    "\n",
    "Argumentos:\n",
    "\n",
    "\n",
    "\n",
    "- Mapeo : Mapeo de dos dimensiones, debe recibir al menos dos parámetros que son los polinomios antes calculados.\n",
    "- orden : se trata del orden del polinomio.\n",
    "- PuntoFijo : ES el punto fijo donde queremos calcular la variedad.\n",
    "- k     : Es la constante del mapeo.\n",
    "- tipo_v : 1 si la variedad es estable, 2 si es inestable.\n",
    "- TipoVariable :  Float64,BigFloat, Integer,etc.\n",
    "\n",
    "\n",
    "\"\"\"\n",
    "function Variedades(Mapeo,orden, PuntoFijo,k,l,tipo_v, TipoVariable)\n",
    "   \n",
    "    #definimos unas listas donde se guardarán los coeficientes  de todo el polinomio, tales deben ser\n",
    "    # de tipo \"Array{TaylorSeries.TaylorN{Int64},1}\" dado que los términos que se van agregando \n",
    "    # en cada orden son de tipo TaylorN.\n",
    "    \n",
    "    a=TipoVariable(PuntoFijo[1])\n",
    "    b=TipoVariable(PuntoFijo[2])\n",
    "    CX = [a+TaylorN(0.)]\n",
    "    CY = [b+TaylorN(0.)]\n",
    "    \n",
    "    \n",
    "    #λarray es la lista que contiene a los coeficientes del polinomio de λ\n",
    "    λarrayX = [a^0]\n",
    "    λarrayY = [b^0]\n",
    "    \n",
    "    #definimos un vector que contiene el punto en el que se evalúa el jacobiano que se calcula después\n",
    "    #dado que sólo lo usamos para obtener los valores que resultaron en el mapeo evaluamos siempre en [1.,1.]\n",
    "    \n",
    "    \n",
    "    \n",
    "    \n",
    "    CX,CY,λarayX, λarrayY,λ_v = Orden1(CX,CY,TipoVariable,Mapeo,k,l,PuntoFijo,tipo_v,λarrayX,λarrayY)\n",
    "    \n",
    "\n",
    "\n",
    "    for g in 2:orden\n",
    "        \n",
    "            #Creamos los polinomios con las listas correspondientes \n",
    "            t = PolinomioTaylor1(g,CX,CY,TipoVariable)\n",
    "            \n",
    "            # aplicamos el mapeo estándar y al resultado le llamamos OrG por Orden g.\n",
    "            OrG = Mapeo(t[1],t[2],k,l)\n",
    "            \n",
    "            push!(λarrayX,λarrayX[2]^g)\n",
    "            push!(λarrayY,λarrayY[2]^g)\n",
    "            λ_v=[λarrayX,λarrayY]\n",
    "            \n",
    "            #agregamos el término correspondiente a λ \n",
    "            λ_vec=Vecλ(λ_v,g,CX,CY)\n",
    "            \n",
    "            \n",
    "            \n",
    "            # ahora ya tengo las dos partes de la ecuación y debo igualarlas para resolver.\n",
    "            EcuaCohomo=OrG-λ_vec\n",
    "            \n",
    "            \n",
    "            # de esta ecuación necesitamos solo los de orden g, así que los extraemos manualmente \n",
    "            X_g=EcuaCohomo[1].coeffs[g+1]\n",
    "            Y_g=EcuaCohomo[2].coeffs[g+1]\n",
    "            vec_orden_g=[X_g,Y_g]\n",
    "            \n",
    "            \n",
    "            #calculamos el término independiene en la ecuación\n",
    "            X_ind=EcuaCohomo[1].coeffs[g+1].coeffs[1].coeffs[1]\n",
    "            Y_ind=EcuaCohomo[2].coeffs[g+1].coeffs[1].coeffs[1]\n",
    "            vec_ind=[-X_ind,-Y_ind]\n",
    "            \n",
    "            #calculamos el jacobiano\n",
    "            JacOrdenG = jacobian(vec_orden_g)\n",
    "            \n",
    "            \n",
    "            \n",
    "            \n",
    "            #Con esta información podemos evaluar lo siguiente:\n",
    "            # Si el vector de términos independientes es cero y el determinante del jacobiano es distinto de cero\n",
    "            # entonces la solución a la ecuación cohomológica es la trivial\n",
    "            if norm(vec_ind)==0.\n",
    "                if det(JacOrdenG)!=0.\n",
    "                    \n",
    "                    CX[g+1]=0.\n",
    "                    CY[g+1]=0.\n",
    "                end\n",
    "            else\n",
    "                # Si el vector de términos independientes es distinto de ceroentonces necesitamos \n",
    "                #resolver la ecuación JacOrdenG[x_g,p_g]*[x,p]**=vec_ind[x_g,p_g]\n",
    "                # entonces solo se trata de invertir el jacobiano y multiplicar con el vector del lado izquierdo\n",
    "                TermG=JacOrdenG \\ vec_ind\n",
    "                \n",
    "                CX[g+1]=TermG[1]\n",
    "                CY[g+1]=TermG[2]\n",
    "            \n",
    "            end\n",
    "            \n",
    "\n",
    "    end\n",
    "    return CX,CY,λarrayX, λarrayY\n",
    "end"
   ]
  },
  {
   "cell_type": "code",
   "execution_count": null,
   "metadata": {
    "collapsed": false
   },
   "outputs": [],
   "source": [
    "\"\"\"\n",
    "PolinomioCohomo(Mapeo,Pol_vec,λvec, k)\n",
    "Esta función calcula la ecuación cohomológica con los polinomios que ya se calcularon. Regresa un arreglo de dos \n",
    "elementos que son los valores de x,θ del mapeo.\n",
    "\n",
    "\n",
    "Argumentos:\n",
    "\n",
    "\n",
    "\n",
    "\n",
    "- Mapeo : función o mapeo del cual calculamos las variedades.Debe ser una función que reciba tres parámetros\n",
    " que son dos de sus variables y la constante del mapeo. Como salida debe tener un arreglo de dos elementos. \n",
    "- Pol_vec : Es un arreglo de dos elementos que son los polinomios calculados con anterioridad. \n",
    "- k     : es el valor de la constante del mapeo \n",
    "- λvec : \n",
    "\n",
    "\"\"\"\n",
    "function PolinomioCohomo(Mapeo,Pol_vec,λvec, k,l ,PuntoFijo,modulo)\n",
    "    Map_vec=Mapeo(Pol_vec[1],Pol_vec[2],k,l)\n",
    "    if modulo==2*pi\n",
    "        Ec_Cohomo = mod(Map_vec-λvec,modulo)\n",
    "    else\n",
    "        Ec_Cohomo = Map_vec-λvec\n",
    "    end\n",
    "    return Ec_Cohomo\n",
    "end"
   ]
  },
  {
   "cell_type": "code",
   "execution_count": null,
   "metadata": {
    "collapsed": false
   },
   "outputs": [],
   "source": [
    "\"\"\"\n",
    "EvaluarPol(Ec_2var,Tiempo,paso)\n",
    "\n",
    "Es una función que toma un arreglo de dos dimensiones que contiene polinomios y los evalúa en el tiempo dado en los pasos deseados\n",
    "\n",
    "\n",
    "\n",
    "\n",
    "Argumentos:\n",
    "\n",
    "\n",
    "\n",
    "\n",
    "- Ec_2var : Arreglo de dos dimensiones que contiene polinomios en cada una de ellas. \n",
    "- Tiempo  : Valor hasta el cual se quiere evaluar cada polinomio\n",
    "- paso    : es el paso que se considera en cada evaluación del polinomio. \n",
    "\n",
    "\"\"\"\n",
    "function EvaluarPol(Ec_2var,Tiempo,paso,TipoVariable)\n",
    "    \n",
    "    \n",
    "    \n",
    "    \n",
    "    \n",
    "    Val=TipoVariable[]\n",
    "    Tiem=TipoVariable[]\n",
    "    \n",
    "    \n",
    "    for t = 0:paso:Tiempo\n",
    "        x = evaluate(Ec_2var[1], t)\n",
    "        y = evaluate(Ec_2var[2], t)\n",
    "\n",
    "        \n",
    "        norma = norm([x,y],Inf)\n",
    "        push!(Val,norma)\n",
    "        push!(Tiem,t)\n",
    "    \n",
    "    end\n",
    "    return Tiem,Val\n",
    "end"
   ]
  },
  {
   "cell_type": "code",
   "execution_count": null,
   "metadata": {
    "collapsed": false
   },
   "outputs": [],
   "source": [
    "\"\"\"\n",
    "CreaPol es una función que dadas dos listas y un grado crea  un arreglo de dos entradas , en cada una de ellas se encuentra \n",
    "el polinomio de grado g con los coeficientes de las listas. \n",
    "\n",
    "\n",
    "Argumentos:\n",
    "\n",
    "\n",
    "\n",
    "- A,B : arreglos que contienen lo que serán los coeficientes del polinomio.\n",
    "- orden : grado del polinomio\n",
    "\"\"\"\n",
    "function CreaPol(A,B,orden)\n",
    "    Taylor = [Taylor1(A,orden),Taylor1(B,orden)]\n",
    "    return Taylor\n",
    "end"
   ]
  },
  {
   "cell_type": "code",
   "execution_count": null,
   "metadata": {
    "collapsed": false
   },
   "outputs": [],
   "source": [
    "function MetParametrización(Mapeo,modulo,orden,PuntoFijo,k,l,tipo_v,Tiempo,paso, TipoVariable)\n",
    "    CoeficienteX,CoeficienteY,λarrayX,λarrayY = Variedades(Mapeo,orden,PuntoFijo,k,l,tipo_v,TipoVariable)\n",
    "        \n",
    "    \n",
    "    X = TipoVariable[]\n",
    "    Y = TipoVariable[]\n",
    "    \n",
    "    for i in 1:orden+1\n",
    "            \n",
    "        push!(X,CoeficienteX[i].coeffs[1].coeffs[1])\n",
    "        push!(Y,CoeficienteY[i].coeffs[1].coeffs[1])\n",
    "        \n",
    "    end\n",
    "    \n",
    "    Taylor=CreaPol(X,Y,orden)\n",
    "    \n",
    "    λ_vec=CreaPol(X.*λarrayX,Y.*λarrayY,orden)\n",
    "    \n",
    "    \n",
    "    \n",
    "    Ecua_Cohomo = PolinomioCohomo(Mapeo,Taylor,λ_vec, k,l,PuntoFijo,modulo)\n",
    "    Valor_t , Error = EvaluarPol(Ecua_Cohomo,Tiempo,paso, TipoVariable)\n",
    "    ErrorV = [Valor_t,Error]\n",
    "    \n",
    "    \n",
    "    return Taylor,ErrorV,λ_vec\n",
    "   \n",
    "end"
   ]
  },
  {
   "cell_type": "markdown",
   "metadata": {},
   "source": [
    "Aquí vemos que si el punto  que se introduce es elíptico entonces resulta un error."
   ]
  },
  {
   "cell_type": "code",
   "execution_count": null,
   "metadata": {
    "collapsed": false
   },
   "outputs": [],
   "source": [
    "function Henon(x,y,a,b)\n",
    "   \n",
    "    x_n = a-b*y-x^2\n",
    "    y_n = x \n",
    "\n",
    "    return [x_n,y_n]\n",
    "end"
   ]
  },
  {
   "cell_type": "code",
   "execution_count": null,
   "metadata": {
    "collapsed": false
   },
   "outputs": [],
   "source": [
    "#Usando Float64\n",
    "Polinomio,E,ValProp = MetParametrización(Henon,1., 25, [.22,.22], .5, 1., 2, 2.9, 0.125, Float64)"
   ]
  },
  {
   "cell_type": "markdown",
   "metadata": {},
   "source": [
    "Calculamos el mismo polinomio pero ahora usando BigFloat para ver la diferencia sobre todo en el error. "
   ]
  },
  {
   "cell_type": "code",
   "execution_count": null,
   "metadata": {
    "collapsed": false
   },
   "outputs": [],
   "source": [
    "#Usando BigFloat\n",
    "PolinomioB,EBig,ValPropB = MetParametrización(Henon,1.,25,[.22,.22],.5 ,1.0,2,2.9,0.125,BigFloat)"
   ]
  },
  {
   "cell_type": "markdown",
   "metadata": {},
   "source": [
    "Graficamos ahora para valores en los que estamos seguron son puntos hiperbólicos."
   ]
  },
  {
   "cell_type": "code",
   "execution_count": null,
   "metadata": {
    "collapsed": false
   },
   "outputs": [],
   "source": [
    "parametro = 3.\n",
    "x1 = -1.+(1.+parametro)^.5\n",
    "x2 = -1.-(1.+parametro)^.5\n",
    "@show(x1,x2)\n"
   ]
  },
  {
   "cell_type": "code",
   "execution_count": null,
   "metadata": {
    "collapsed": false
   },
   "outputs": [],
   "source": [
    "Polinomio,E,ValProp = MetParametrización(Henon,1., 25, [-3.,-3.], 3., 1., 2, 60., 0.125, Float64)"
   ]
  },
  {
   "cell_type": "code",
   "execution_count": null,
   "metadata": {
    "collapsed": false
   },
   "outputs": [],
   "source": [
    "PolinomioB,EBig,ValPropB = MetParametrización(Henon, 1., 25, [-3.,-3.], 3., 1., 1, 60., 0.125, BigFloat)"
   ]
  },
  {
   "cell_type": "markdown",
   "metadata": {},
   "source": [
    "Graficaremos el error cometido que es el que nos dirá cuanta diferencia hay entre tipos de números. "
   ]
  },
  {
   "cell_type": "code",
   "execution_count": null,
   "metadata": {
    "collapsed": true
   },
   "outputs": [],
   "source": [
    "using Plots"
   ]
  },
  {
   "cell_type": "code",
   "execution_count": null,
   "metadata": {
    "collapsed": false
   },
   "outputs": [],
   "source": [
    "Pkg.add(\"Matplotlib\")"
   ]
  },
  {
   "cell_type": "code",
   "execution_count": null,
   "metadata": {
    "collapsed": false,
    "scrolled": true
   },
   "outputs": [],
   "source": [
    "Plots.plot(E[1],log10(E[2]),marker= \"None\", label=\"Float\")\n",
    "Plots.plot(EBig[1],log10(EBig[2]),marker= \"None\", label=\"BigFloat\")\n",
    "#xlabel(\"Parámetro t\")\n",
    "#ylabel(L\"log10($|| E||_{\\infty})$\")\n",
    "title(\"Error \")\n",
    "grid(\"on\")\n",
    "legend(loc=\"upper right\",fancybox=\"true\" )"
   ]
  },
  {
   "cell_type": "code",
   "execution_count": null,
   "metadata": {
    "collapsed": true
   },
   "outputs": [],
   "source": [
    "Pkg.buid()"
   ]
  },
  {
   "cell_type": "markdown",
   "metadata": {
    "collapsed": true
   },
   "source": [
    "Para observar cómo va la variedad graficaremos el espacio fase"
   ]
  },
  {
   "cell_type": "code",
   "execution_count": null,
   "metadata": {
    "collapsed": true
   },
   "outputs": [],
   "source": [
    "#esta es una función para evaluar el los polinomios que calculamos\n",
    "# recibe como entrada el tiempo que es el valor del parámetro t, el paso\n",
    "# que define en pasos de cuanto queremos ir evaluando y claro los polinomios A,B\n",
    "function evaluar(Tiempo, paso,A,B,vari)\n",
    "    ValX=Float64[]\n",
    "    \n",
    "    ValY=Float64[]\n",
    "\n",
    "    for t = 0:paso:Tiempo\n",
    "        \n",
    "        x = evaluate(A,t)\n",
    "        y = evaluate(B,t)\n",
    "        \n",
    "        push!(ValX,x)\n",
    "        push!(ValY,y)\n",
    "        \n",
    "    end\n",
    "    p = plot(ValX,ValY,linestyle=\"-\",label = vari)\n",
    "    \n",
    "end"
   ]
  },
  {
   "cell_type": "code",
   "execution_count": null,
   "metadata": {
    "collapsed": true
   },
   "outputs": [],
   "source": [
    "function Graficar(Tiempo, paso, k,l,A,B,vari)\n",
    "    #graficarMap(k,l)\n",
    "    evaluar(Tiempo,paso,A,B,vari)\n",
    "end"
   ]
  },
  {
   "cell_type": "code",
   "execution_count": null,
   "metadata": {
    "collapsed": true
   },
   "outputs": [],
   "source": [
    "Graficar(10.7,0.025,8.,1.,Polinomio[1],Polinomio[2],\"estable\")\n",
    "Graficar(10.7,0.025,8.,1.,PolinomioB[1],PolinomioB[2],\"inestable\")"
   ]
  },
  {
   "cell_type": "code",
   "execution_count": null,
   "metadata": {
    "collapsed": true
   },
   "outputs": [],
   "source": [
    "module Modulo1\n",
    "\n",
    "using TaylorSeries\n",
    "\n",
    "x=3\n",
    "\n",
    "export Fun\n",
    "\n",
    "function Fun(x)\n",
    "    return x^2+1.\n",
    "end\n",
    "    \n",
    "\n",
    "\n",
    "\n",
    "end\n"
   ]
  },
  {
   "cell_type": "code",
   "execution_count": null,
   "metadata": {
    "collapsed": true
   },
   "outputs": [],
   "source": [
    "using MyModule"
   ]
  },
  {
   "cell_type": "code",
   "execution_count": null,
   "metadata": {
    "collapsed": true
   },
   "outputs": [],
   "source": [
    "Fun(2)\n"
   ]
  },
  {
   "cell_type": "code",
   "execution_count": null,
   "metadata": {
    "collapsed": true
   },
   "outputs": [],
   "source": []
  }
 ],
 "metadata": {
  "kernelspec": {
   "display_name": "Julia 0.6.0",
   "language": "julia",
   "name": "julia-0.6"
  },
  "language_info": {
   "file_extension": ".jl",
   "mimetype": "application/julia",
   "name": "julia",
   "version": "0.6.0"
  }
 },
 "nbformat": 4,
 "nbformat_minor": 2
}
