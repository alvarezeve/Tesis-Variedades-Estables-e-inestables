{
 "cells": [
  {
   "cell_type": "raw",
   "metadata": {},
   "source": [
    "# notebook que haremos módulo\n"
   ]
  },
  {
   "cell_type": "code",
   "execution_count": 3,
   "metadata": {
    "collapsed": false
   },
   "outputs": [],
   "source": [
    "using TaylorSeries \n",
    "using PyPlot\n",
    "using LinearAlgebra\n"
   ]
  },
  {
   "cell_type": "code",
   "execution_count": 4,
   "metadata": {
    "collapsed": false
   },
   "outputs": [
    {
     "data": {
      "text/plain": [
       "PolinomioTaylor1"
      ]
     },
     "execution_count": 4,
     "metadata": {},
     "output_type": "execute_result"
    }
   ],
   "source": [
    "\"\"\"\n",
    "\n",
    "PolinomioTaylor1(g,CX,CY,TipoVariable)\n",
    "   \n",
    "   Es una función cuyo objetivo es recibir dos listas con valores iniciales y crear dos polinomios de grado g.\n",
    "\n",
    "\n",
    "\n",
    "\n",
    "Argumentos:\n",
    "\n",
    "\n",
    "\n",
    "\n",
    "\n",
    "   - g       : Grado del polinomio\n",
    "   - CX,CY  :  Arreglo que contiene los coeficientes iniciales, es del tipo Array{TaylorSeries.TaylorN{}}\n",
    "   - TipoVariable :  es el tipo del que serán los coeficientes ( Real, Float64, BigFloat)\n",
    "   \n",
    "\n",
    "Esta función regresa dos arreglos que contienen elementos del tipo Taylor1.TaylorN, creados con las listas iniciales. \n",
    "\n",
    "\n",
    "\"\"\"\n",
    "function PolinomioTaylor1(g::Real,CX,CY,TipoVariable)\n",
    "    #=\n",
    "    g es el grado del polinomio, CX y CY son\n",
    "    arreglos que contienen los coeficientes que forman la variedad.\n",
    "    \n",
    "    \n",
    "    Creamos x,y como variables tipo TaylorN de orden 2\n",
    "    =#\n",
    "    x,y = set_variables(TipoVariable, \"x y\", order=2)\n",
    "    \n",
    "    #especificamos que LX,LY son de arreglos que guardarán coeficientes del polinomio, sólo son auxiliares en esta función\n",
    "    LX = Array{TaylorSeries.TaylorN{TipoVariable}}(1)\n",
    "    LY = Array{TaylorSeries.TaylorN{TipoVariable}}(1)\n",
    "    \n",
    "    #usamos un condicional para separar el caso 1 del resto\n",
    "    if g == 1  \n",
    "        T = [Taylor1([x], g),Taylor1([y], g)]\n",
    "    #en el caso en que g>1 entonces usamos las listas que van guardando los coeficientes\n",
    "    else\n",
    "        #como CX,CY están guardando los coeficientes pero necesitamos agregar el último término que será una variable \n",
    "        LX = push!(CX, x) \n",
    "        LY = push!(CY, y)\n",
    "\n",
    "        T=[Taylor1(LX, g),Taylor1(LY, g)]\n",
    "        \n",
    "    end\n",
    "    return T\n",
    "end\n",
    "#Esta función regresa tx,ty que son Taylor1.TaylorN"
   ]
  },
  {
   "cell_type": "code",
   "execution_count": 5,
   "metadata": {
    "collapsed": false
   },
   "outputs": [
    {
     "name": "stdout",
     "output_type": "stream",
     "text": [
      "search:\n",
      "\n"
     ]
    },
    {
     "data": {
      "text/markdown": [
       "PolinomioTaylor1(g,CX,CY,TipoVariable)\n",
       "\n",
       "Es una función cuyo objetivo es recibir dos listas con valores iniciales y crear dos polinomios de grado g.\n",
       "\n",
       "Argumentos:\n",
       "\n",
       "  * g       : Grado del polinomio\n",
       "  * CX,CY  :  Arreglo que contiene los coeficientes iniciales, es del tipo Array{TaylorSeries.TaylorN{}}\n",
       "  * TipoVariable :  es el tipo del que serán los coeficientes ( Real, Float64, BigFloat)\n",
       "\n",
       "Esta función regresa dos arreglos que contienen elementos del tipo Taylor1.TaylorN, creados con las listas iniciales. \n"
      ],
      "text/plain": [
       "PolinomioTaylor1(g,CX,CY,TipoVariable)\n",
       "\n",
       "Es una función cuyo objetivo es recibir dos listas con valores iniciales y crear dos polinomios de grado g.\n",
       "\n",
       "Argumentos:\n",
       "\n",
       "  * g       : Grado del polinomio\n",
       "  * CX,CY  :  Arreglo que contiene los coeficientes iniciales, es del tipo Array{TaylorSeries.TaylorN{}}\n",
       "  * TipoVariable :  es el tipo del que serán los coeficientes ( Real, Float64, BigFloat)\n",
       "\n",
       "Esta función regresa dos arreglos que contienen elementos del tipo Taylor1.TaylorN, creados con las listas iniciales. \n"
      ]
     },
     "execution_count": 5,
     "metadata": {},
     "output_type": "execute_result"
    }
   ],
   "source": [
    "?PolinomioTaylor1"
   ]
  },
  {
   "cell_type": "code",
   "execution_count": 6,
   "metadata": {
    "collapsed": false
   },
   "outputs": [
    {
     "data": {
      "text/plain": [
       "Vecλ"
      ]
     },
     "execution_count": 6,
     "metadata": {},
     "output_type": "execute_result"
    }
   ],
   "source": [
    "#=Esta función toma el arreglo que contiene las lambdas que se van calculando, los coeficientes de los polinomios\n",
    "y el orden de los mismos, lo que hace es generar el lado derecho de la ecuación cohomológica, multiplicando a_n*λ^n\n",
    "y generando un polinomio de gradno g con estos coeficientes\n",
    "=#\n",
    "\"\"\"\n",
    "Vecλ(λ_v,g,CX,CY)\n",
    "Es una función que calcula la parte derecha de la ecuación comohológica, es decir la parte que involucra el valor propio.\n",
    "Regresa un arreglo de tipo TaylorSeries.TaylorN{T}\n",
    "\n",
    "\n",
    "Sus argumentos son:\n",
    "\n",
    "\n",
    "\n",
    "- g      :  grado del polinomio.\n",
    "- λ_v    :  Arreglo de dos dimensiones que contiene el valor propio y sus potencias. \n",
    "- CX,CY  :  Los arreglos con los polinomios que se calculan en PolinomioTaylor1.\n",
    "\n",
    "\"\"\"\n",
    "function Vecλ(λ_v,g,CX,CY)\n",
    "   # el arreglo de λ_v contiene los arreglos que corresponden a la parte derecha de la ecuación cohomológica\n",
    "    # en θ,p. Es importante hacer la distinción puesto que dependiendo del punto fijo donde se esté calculando\n",
    "    # el primer valor de λ en θ serpa diferente del primer valor de λ en P\n",
    "    xλt=Taylor1(λ_v[1].*CX,g)\n",
    "    yλt=Taylor1(λ_v[2].*CY,g)\n",
    "    \n",
    "    λvec=[xλt,yλt]\n",
    "    \n",
    "    return λvec\n",
    "end"
   ]
  },
  {
   "cell_type": "code",
   "execution_count": 7,
   "metadata": {
    "collapsed": false
   },
   "outputs": [
    {
     "name": "stdout",
     "output_type": "stream",
     "text": [
      "search: \u001b[1mv\u001b[22m\u001b[1me\u001b[22m\u001b[1mc\u001b[22m \u001b[1mV\u001b[22m\u001b[1me\u001b[22m\u001b[1mc\u001b[22mtor \u001b[1mv\u001b[22m\u001b[1me\u001b[22m\u001b[1mc\u001b[22mdot \u001b[1mv\u001b[22m\u001b[1me\u001b[22m\u001b[1mc\u001b[22mnorm \u001b[1mV\u001b[22m\u001b[1me\u001b[22m\u001b[1mc\u001b[22mOrMat \u001b[1mV\u001b[22m\u001b[1me\u001b[22m\u001b[1mc\u001b[22mElement @\u001b[1mv\u001b[22m\u001b[1me\u001b[22m\u001b[1mc\u001b[22mtorize_2arg\n",
      "\n"
     ]
    },
    {
     "data": {
      "text/markdown": [
       "Vecλ(λ_v,g,CX,CY) Es una función que calcula la parte derecha de la ecuación comohológica, es decir la parte que involucra el valor propio. Regresa un arreglo de tipo TaylorSeries.TaylorN{T}\n",
       "\n",
       "Sus argumentos son:\n",
       "\n",
       "  * g      :  grado del polinomio.\n",
       "  * λ_v    :  Arreglo de dos dimensiones que contiene el valor propio y sus potencias.\n",
       "  * CX,CY  :  Los arreglos con los polinomios que se calculan en PolinomioTaylor1.\n"
      ],
      "text/plain": [
       "Vecλ(λ_v,g,CX,CY) Es una función que calcula la parte derecha de la ecuación comohológica, es decir la parte que involucra el valor propio. Regresa un arreglo de tipo TaylorSeries.TaylorN{T}\n",
       "\n",
       "Sus argumentos son:\n",
       "\n",
       "  * g      :  grado del polinomio.\n",
       "  * λ_v    :  Arreglo de dos dimensiones que contiene el valor propio y sus potencias.\n",
       "  * CX,CY  :  Los arreglos con los polinomios que se calculan en PolinomioTaylor1.\n"
      ]
     },
     "execution_count": 7,
     "metadata": {},
     "output_type": "execute_result"
    }
   ],
   "source": [
    "?Vecλ"
   ]
  },
  {
   "cell_type": "code",
   "execution_count": 168,
   "metadata": {
    "collapsed": false
   },
   "outputs": [
    {
     "name": "stderr",
     "output_type": "stream",
     "text": [
      "WARNING: Method definition ValPropios(Any) in module Main at In[88]:2 overwritten at In[168]:2.\n"
     ]
    },
    {
     "data": {
      "text/plain": [
       "ValPropios (generic function with 1 method)"
      ]
     },
     "execution_count": 168,
     "metadata": {},
     "output_type": "execute_result"
    }
   ],
   "source": [
    "function ValPropios(M)\n",
    "    V = BigFloat[]\n",
    "    \n",
    "    #while true\n",
    "        disc = trace(M)^2-4.*det(M)\n",
    "        tol = disc -trace(M)^2\n",
    "        if  tol < 1e-70\n",
    "            println(\"Para este caso el método de calculo de valores propios no es eficiente\")\n",
    "            #break\n",
    "        else\n",
    "            disc >= 0.? v = ((trace(M) + sqrt(trace(M)^2-4.*det(M)))/2.,(trace(M) - sqrt(trace(M)^2-4.*det(M)))/2.)  : error(\"Error: el valor propio es complejo, es decir es un punto elíptico\")\n",
    "            v_prop1 = v[2]\n",
    "            v_prop2 = v[1]\n",
    "            push!(V,v_prop1)\n",
    "            push!(V,v_prop2)\n",
    "            #ValoresP = sort(V,rev=true)\n",
    "            ValoresP=V\n",
    "        end\n",
    "    #end\n",
    "return ValoresP\n",
    "end\n",
    "        \n",
    "    \n",
    "    \n",
    "    "
   ]
  },
  {
   "cell_type": "code",
   "execution_count": 170,
   "metadata": {
    "collapsed": false
   },
   "outputs": [
    {
     "name": "stderr",
     "output_type": "stream",
     "text": [
      "WARNING: Method definition VecPropios(Any, Any) in module Main at In[89]:2 overwritten at In[170]:2.\n"
     ]
    },
    {
     "data": {
      "text/plain": [
       "VecPropios (generic function with 1 method)"
      ]
     },
     "execution_count": 170,
     "metadata": {},
     "output_type": "execute_result"
    }
   ],
   "source": [
    "function VecPropios(M,ValoresP)\n",
    "    Vectores = []\n",
    "    for i in [1,2]\n",
    "        y = big.(1.)\n",
    "        I_2 = big.([1. 0.; 0. 1.])\n",
    "        M_aux = -I_2.*ValoresP[i]+M\n",
    "        x = -(y*M_aux[3])/M_aux[1]\n",
    "        push!(Vectores,x)\n",
    "        push!(Vectores,y)\n",
    "    end\n",
    "    return Vectores\n",
    "end"
   ]
  },
  {
   "cell_type": "code",
   "execution_count": 171,
   "metadata": {
    "collapsed": false
   },
   "outputs": [
    {
     "name": "stderr",
     "output_type": "stream",
     "text": [
      "WARNING: Method definition EigenValores(Any) in module Main at In[90]:2 overwritten at In[171]:2.\n"
     ]
    },
    {
     "data": {
      "text/plain": [
       "EigenValores (generic function with 1 method)"
      ]
     },
     "execution_count": 171,
     "metadata": {},
     "output_type": "execute_result"
    }
   ],
   "source": [
    "function EigenValores(M)\n",
    "    ValoresP  = ValPropios(M)\n",
    "    VectoresP = VecPropios(M,ValoresP)\n",
    "    V = (ValoresP,[VectoresP[1] VectoresP[3];VectoresP[2] VectoresP[4]])\n",
    "    return V\n",
    "end"
   ]
  },
  {
   "cell_type": "code",
   "execution_count": 172,
   "metadata": {
    "collapsed": false
   },
   "outputs": [
    {
     "name": "stderr",
     "output_type": "stream",
     "text": [
      "WARNING: Method definition Orden1(Any, Any, Any, Any, Any, Any, Any, Any, Any, Any) in module Main at In[91]:3 overwritten at In[172]:3.\n"
     ]
    },
    {
     "data": {
      "text/plain": [
       "Orden1 (generic function with 1 method)"
      ]
     },
     "execution_count": 172,
     "metadata": {},
     "output_type": "execute_result"
    }
   ],
   "source": [
    "function Orden1(CX,CY,TipoVariable,Mapeo,k,l,PuntoFijo,tipo_v,λarrayX,λarrayY)\n",
    "            #usamos la función PolinomioTaylor para crear el polinomio tipo Taylor1.TaylorN{T}\n",
    "            t = PolinomioTaylor1(1,CX,CY,TipoVariable)\n",
    "            \n",
    "            #Aplicamos el mapeo a los polinomios que resultan de la función anterior.\n",
    "            Or1 = Mapeo(t[1],t[2],k,l)\n",
    "            \n",
    "            AuxOr1=[Or1[1][1],Or1[2][1]]\n",
    "            \n",
    "            #Calculamos el jacobiano del Orden 1 para obtener sus valores y vectores propios.\n",
    "            JPO = jacobian(AuxOr1,[PuntoFijo[1],PuntoFijo[2]])\n",
    "            \n",
    "            \n",
    "            \n",
    "            #Calculamos los valores y vectores propios\n",
    "            if TipoVariable == BigFloat\n",
    "                eigval,eigvec = EigenValores(JPO)\n",
    "            else\n",
    "                eigval,eigvec = eig(JPO)\n",
    "            end\n",
    "            #escogemos el tipo de variedad que queremos calcular. Como se ordenan de menor a mayor la inestable es la segunda\n",
    "            λ = eigval[tipo_v]\n",
    "    \n",
    "            tt = imag(λ)\n",
    "            \n",
    "            #Ponemos los coeficientes en una variable nueva cada uno y los agregamos a las listas CX,CP,λ\n",
    "            tt == 0.?  Coef = eigvec[:,tipo_v] : error(\"Error: el valor propio es complejo, es decir es un punto elíptico\")\n",
    "            \n",
    "            \n",
    "            push!(CX, Coef[1])\n",
    "            push!(CY, Coef[2])\n",
    "            push!(λarrayX, λ)\n",
    "            push!(λarrayY, λ)\n",
    "            λ_v=[λarrayX,λarrayY]\n",
    "            \n",
    "            \n",
    "    return CX, CY,λarrayX,λarrayY, λ_v\n",
    "end\n",
    "            \n",
    "    "
   ]
  },
  {
   "cell_type": "code",
   "execution_count": 173,
   "metadata": {
    "collapsed": false
   },
   "outputs": [
    {
     "name": "stderr",
     "output_type": "stream",
     "text": [
      "WARNING: Method definition Variedades(Any, Any, Any, Any, Any, Any, Any) in module Main at In[92]:29 overwritten at In[173]:29.\n",
      "\u001b[1m\u001b[31mWARNING: replacing docs for 'Variedades :: Tuple{Any,Any,Any,Any,Any,Any,Any}' in module 'Main'.\u001b[0m\n"
     ]
    },
    {
     "data": {
      "text/plain": [
       "Variedades"
      ]
     },
     "execution_count": 173,
     "metadata": {},
     "output_type": "execute_result"
    }
   ],
   "source": [
    "#Creamos una función que reciba el orden del polinomio , el punto fijo, el parámetro k y \n",
    "#el tipo de varidad que queremos(estable=1, inestable=2)\n",
    "\"\"\"\n",
    "Variedades(Mapeo,orden, PuntoFijo,k,tipo_v,TipoVariable)\n",
    "Es una función que calcula las variedades de cierto mapeo. Usa las funciones de PolinomioTaylor1 y Vecλ para calcular los\n",
    "polinomios de cada lado de la ecuación cohomológica y les aplica el mapeo dado. \n",
    "\n",
    "\n",
    "\n",
    "Argumentos:\n",
    "\n",
    "\n",
    "\n",
    "- Mapeo : Mapeo de dos dimensiones, debe recibir al menos dos parámetros que son los polinomios antes calculados.\n",
    "- orden : se trata del orden del polinomio.\n",
    "- PuntoFijo : ES el punto fijo donde queremos calcular la variedad.\n",
    "- k     : Es la constante del mapeo.\n",
    "- tipo_v : 1 si la variedad es estable, 2 si es inestable.\n",
    "- TipoVariable :  Float64,BigFloat, Integer,etc.\n",
    "\n",
    "\n",
    "\"\"\"\n",
    "function Variedades(Mapeo,orden, PuntoFijo,k,l,tipo_v, TipoVariable)\n",
    "   \n",
    "    #definimos unas listas donde se guardarán los coeficientes  de todo el polinomio, tales deben ser\n",
    "    # de tipo \"Array{TaylorSeries.TaylorN{Int64},1}\" dado que los términos que se van agregando \n",
    "    # en cada orden son de tipo TaylorN.\n",
    "    \n",
    "    a=TipoVariable(PuntoFijo[1])\n",
    "    b=TipoVariable(PuntoFijo[2])\n",
    "    CX = [a+TaylorN(0.)]\n",
    "    CY = [b+TaylorN(0.)]\n",
    "    \n",
    "    \n",
    "    #λarray es la lista que contiene a los coeficientes del polinomio de λ\n",
    "    λarrayX = [a^0]\n",
    "    λarrayY = [b^0]\n",
    "    \n",
    "    #definimos un vector que contiene el punto en el que se evalúa el jacobiano que se calcula después\n",
    "    #dado que sólo lo usamos para obtener los valores que resultaron en el mapeo evaluamos siempre en [1.,1.]\n",
    "    \n",
    "    \n",
    "    \n",
    "    \n",
    "    CX,CY,λarayX, λarrayY,λ_v = Orden1(CX,CY,TipoVariable,Mapeo,k,l,PuntoFijo,tipo_v,λarrayX,λarrayY)\n",
    "    \n",
    "\n",
    "\n",
    "    for g in 2:orden\n",
    "        \n",
    "            #Creamos los polinomios con las listas correspondientes \n",
    "            t = PolinomioTaylor1(g,CX,CY,TipoVariable)\n",
    "            \n",
    "            # aplicamos el mapeo estándar y al resultado le llamamos OrG por Orden g.\n",
    "            OrG = Mapeo(t[1],t[2],k,l)\n",
    "            \n",
    "            push!(λarrayX,λarrayX[2]^g)\n",
    "            push!(λarrayY,λarrayY[2]^g)\n",
    "            λ_v=[λarrayX,λarrayY]\n",
    "            \n",
    "            #agregamos el término correspondiente a λ \n",
    "            λ_vec=Vecλ(λ_v,g,CX,CY)\n",
    "            \n",
    "            \n",
    "            \n",
    "            # ahora ya tengo las dos partes de la ecuación y debo igualarlas para resolver.\n",
    "            EcuaCohomo=OrG-λ_vec\n",
    "            \n",
    "            \n",
    "            # de esta ecuación necesitamos solo los de orden g, así que los extraemos manualmente \n",
    "            X_g=EcuaCohomo[1].coeffs[g+1]\n",
    "            Y_g=EcuaCohomo[2].coeffs[g+1]\n",
    "            vec_orden_g=[X_g,Y_g]\n",
    "            \n",
    "            \n",
    "            #calculamos el término independiene en la ecuación\n",
    "            X_ind=EcuaCohomo[1].coeffs[g+1].coeffs[1].coeffs[1]\n",
    "            Y_ind=EcuaCohomo[2].coeffs[g+1].coeffs[1].coeffs[1]\n",
    "            vec_ind=[-X_ind,-Y_ind]\n",
    "            \n",
    "            #calculamos el jacobiano\n",
    "            JacOrdenG = jacobian(vec_orden_g)\n",
    "            \n",
    "            \n",
    "            \n",
    "            \n",
    "            #Con esta información podemos evaluar lo siguiente:\n",
    "            # Si el vector de términos independientes es cero y el determinante del jacobiano es distinto de cero\n",
    "            # entonces la solución a la ecuación cohomológica es la trivial\n",
    "            if norm(vec_ind)==0.\n",
    "                if det(JacOrdenG)!=0.\n",
    "                    \n",
    "                    CX[g+1]=0.\n",
    "                    CY[g+1]=0.\n",
    "                end\n",
    "            else\n",
    "                # Si el vector de términos independientes es distinto de ceroentonces necesitamos \n",
    "                #resolver la ecuación JacOrdenG[x_g,p_g]*[x,p]**=vec_ind[x_g,p_g]\n",
    "                # entonces solo se trata de invertir el jacobiano y multiplicar con el vector del lado izquierdo\n",
    "                TermG=JacOrdenG \\ vec_ind\n",
    "                \n",
    "                CX[g+1]=TermG[1]\n",
    "                CY[g+1]=TermG[2]\n",
    "            \n",
    "            end\n",
    "            \n",
    "\n",
    "    end\n",
    "    return CX,CY,λarrayX, λarrayY\n",
    "end"
   ]
  },
  {
   "cell_type": "code",
   "execution_count": 174,
   "metadata": {
    "collapsed": false
   },
   "outputs": [
    {
     "name": "stderr",
     "output_type": "stream",
     "text": [
      "WARNING: Method definition PolinomioCohomo(Any, Any, Any, Any, Any, Any, Any) in module Main at In[93]:20 overwritten at In[174]:20.\n",
      "\u001b[1m\u001b[31mWARNING: replacing docs for 'PolinomioCohomo :: Tuple{Any,Any,Any,Any,Any,Any,Any}' in module 'Main'.\u001b[0m\n"
     ]
    },
    {
     "data": {
      "text/plain": [
       "PolinomioCohomo"
      ]
     },
     "execution_count": 174,
     "metadata": {},
     "output_type": "execute_result"
    }
   ],
   "source": [
    "\"\"\"\n",
    "PolinomioCohomo(Mapeo,Pol_vec,λvec, k)\n",
    "Esta función calcula la ecuación cohomológica con los polinomios que ya se calcularon. Regresa un arreglo de dos \n",
    "elementos que son los valores de x,θ del mapeo.\n",
    "\n",
    "\n",
    "Argumentos:\n",
    "\n",
    "\n",
    "\n",
    "\n",
    "- Mapeo : función o mapeo del cual calculamos las variedades.Debe ser una función que reciba tres parámetros\n",
    " que son dos de sus variables y la constante del mapeo. Como salida debe tener un arreglo de dos elementos. \n",
    "- Pol_vec : Es un arreglo de dos elementos que son los polinomios calculados con anterioridad. \n",
    "- k     : es el valor de la constante del mapeo \n",
    "- λvec : \n",
    "\n",
    "\"\"\"\n",
    "function PolinomioCohomo(Mapeo,Pol_vec,λvec, k,l ,PuntoFijo,modulo)\n",
    "    Map_vec=Mapeo(Pol_vec[1],Pol_vec[2],k,l)\n",
    "    if modulo==2*pi\n",
    "        Ec_Cohomo = mod(Map_vec-λvec,modulo)\n",
    "    else\n",
    "        Ec_Cohomo = Map_vec-λvec\n",
    "    end\n",
    "    return Ec_Cohomo\n",
    "end"
   ]
  },
  {
   "cell_type": "code",
   "execution_count": 175,
   "metadata": {
    "collapsed": false
   },
   "outputs": [
    {
     "name": "stderr",
     "output_type": "stream",
     "text": [
      "WARNING: Method definition EvaluarPol(Any, Any, Any, Any) in module Main at In[94]:25 overwritten at In[175]:25.\n",
      "\u001b[1m\u001b[31mWARNING: replacing docs for 'EvaluarPol :: Tuple{Any,Any,Any,Any}' in module 'Main'.\u001b[0m\n"
     ]
    },
    {
     "data": {
      "text/plain": [
       "EvaluarPol"
      ]
     },
     "execution_count": 175,
     "metadata": {},
     "output_type": "execute_result"
    }
   ],
   "source": [
    "\"\"\"\n",
    "EvaluarPol(Ec_2var,Tiempo,paso)\n",
    "\n",
    "Es una función que toma un arreglo de dos dimensiones que contiene polinomios y los evalúa en el tiempo dado en los pasos deseados\n",
    "\n",
    "\n",
    "\n",
    "\n",
    "Argumentos:\n",
    "\n",
    "\n",
    "\n",
    "\n",
    "- Ec_2var : Arreglo de dos dimensiones que contiene polinomios en cada una de ellas. \n",
    "- Tiempo  : Valor hasta el cual se quiere evaluar cada polinomio\n",
    "- paso    : es el paso que se considera en cada evaluación del polinomio. \n",
    "\n",
    "\"\"\"\n",
    "function EvaluarPol(Ec_2var,Tiempo,paso,TipoVariable)\n",
    "    \n",
    "    \n",
    "    \n",
    "    \n",
    "    \n",
    "    Val=TipoVariable[]\n",
    "    Tiem=TipoVariable[]\n",
    "    \n",
    "    \n",
    "    for t = 0:paso:Tiempo\n",
    "        x = evaluate(Ec_2var[1], t)\n",
    "        y = evaluate(Ec_2var[2], t)\n",
    "\n",
    "        \n",
    "        norma = norm([x,y],Inf)\n",
    "        push!(Val,norma)\n",
    "        push!(Tiem,t)\n",
    "    \n",
    "    end\n",
    "    return Tiem,Val\n",
    "end"
   ]
  },
  {
   "cell_type": "code",
   "execution_count": 176,
   "metadata": {
    "collapsed": false
   },
   "outputs": [
    {
     "name": "stderr",
     "output_type": "stream",
     "text": [
      "WARNING: Method definition CreaPol(Any, Any, Any) in module Main at In[95]:14 overwritten at In[176]:14.\n",
      "\u001b[1m\u001b[31mWARNING: replacing docs for 'CreaPol :: Tuple{Any,Any,Any}' in module 'Main'.\u001b[0m\n"
     ]
    },
    {
     "data": {
      "text/plain": [
       "CreaPol"
      ]
     },
     "execution_count": 176,
     "metadata": {},
     "output_type": "execute_result"
    }
   ],
   "source": [
    "\"\"\"\n",
    "CreaPol es una función que dadas dos listas y un grado crea  un arreglo de dos entradas , en cada una de ellas se encuentra \n",
    "el polinomio de grado g con los coeficientes de las listas. \n",
    "\n",
    "\n",
    "Argumentos:\n",
    "\n",
    "\n",
    "\n",
    "- A,B : arreglos que contienen lo que serán los coeficientes del polinomio.\n",
    "- orden : grado del polinomio\n",
    "\"\"\"\n",
    "function CreaPol(A,B,orden)\n",
    "    Taylor = [Taylor1(A,orden),Taylor1(B,orden)]\n",
    "    return Taylor\n",
    "end"
   ]
  },
  {
   "cell_type": "code",
   "execution_count": 177,
   "metadata": {
    "collapsed": false
   },
   "outputs": [
    {
     "name": "stderr",
     "output_type": "stream",
     "text": [
      "WARNING: Method definition MetParametrización(Any, Any, Any, Any, Any, Any, Any, Any, Any, Any) in module Main at In[139]:2 overwritten at In[177]:2.\n"
     ]
    },
    {
     "data": {
      "text/plain": [
       "MetParametrización (generic function with 1 method)"
      ]
     },
     "execution_count": 177,
     "metadata": {},
     "output_type": "execute_result"
    }
   ],
   "source": [
    "function MetParametrización(Mapeo,modulo,orden,PuntoFijo,k,l,tipo_v,Tiempo,paso, TipoVariable)\n",
    "    CoeficienteX,CoeficienteY,λarrayX,λarrayY = Variedades(Mapeo,orden,PuntoFijo,k,l,tipo_v,TipoVariable)\n",
    "        \n",
    "    \n",
    "    X = TipoVariable[]\n",
    "    Y = TipoVariable[]\n",
    "    \n",
    "    for i in 1:orden+1\n",
    "            \n",
    "        push!(X,CoeficienteX[i].coeffs[1].coeffs[1])\n",
    "        push!(Y,CoeficienteY[i].coeffs[1].coeffs[1])\n",
    "        \n",
    "    end\n",
    "    \n",
    "    Taylor=CreaPol(X,Y,orden)\n",
    "    \n",
    "    λ_vec=CreaPol(X.*λarrayX,Y.*λarrayY,orden)\n",
    "    \n",
    "    \n",
    "    \n",
    "    Ecua_Cohomo = PolinomioCohomo(Mapeo,Taylor,λ_vec, k,l,PuntoFijo,modulo)\n",
    "    Valor_t , Error = EvaluarPol(Ecua_Cohomo,Tiempo,paso, TipoVariable)\n",
    "    ErrorV = [Valor_t,Error]\n",
    "    \n",
    "    \n",
    "    #return Taylor,ErrorV,λ_vec\n",
    "    return Ecua_Cohomo,Taylor,λ_vec\n",
    "   \n",
    "end"
   ]
  },
  {
   "cell_type": "markdown",
   "metadata": {},
   "source": [
    "Aquí vemos que si el punto  que se introduce es elíptico entonces resulta un error."
   ]
  },
  {
   "cell_type": "code",
   "execution_count": 97,
   "metadata": {
    "collapsed": false
   },
   "outputs": [
    {
     "name": "stderr",
     "output_type": "stream",
     "text": [
      "WARNING: Method definition Henon(Any, Any, Any, Any) in module Main at In[79]:3 overwritten at In[97]:3.\n"
     ]
    },
    {
     "data": {
      "text/plain": [
       "Henon (generic function with 1 method)"
      ]
     },
     "execution_count": 97,
     "metadata": {},
     "output_type": "execute_result"
    }
   ],
   "source": [
    "function Henon(x,y,a,b)\n",
    "   \n",
    "    x_n = a-b*y-x^2\n",
    "    y_n = x \n",
    "\n",
    "    return [x_n,y_n]\n",
    "end"
   ]
  },
  {
   "cell_type": "code",
   "execution_count": 98,
   "metadata": {
    "collapsed": false
   },
   "outputs": [
    {
     "ename": "LoadError",
     "evalue": "Error: el valor propio es complejo, es decir es un punto elíptico",
     "output_type": "error",
     "traceback": [
      "Error: el valor propio es complejo, es decir es un punto elíptico",
      "",
      " in Orden1(::Array{TaylorSeries.TaylorN{Float64},1}, ::Array{TaylorSeries.TaylorN{Float64},1}, ::Type{T}, ::#Henon, ::Float64, ::Float64, ::Array{Float64,1}, ::Int64, ::Array{Float64,1}, ::Array{Float64,1}) at ./In[91]:27",
      " in Variedades(::#Henon, ::Int64, ::Array{Float64,1}, ::Float64, ::Float64, ::Int64, ::Type{T}) at ./In[92]:45",
      " in MetParametrización(::Function, ::Float64, ::Int64, ::Array{Float64,1}, ::Float64, ::Float64, ::Int64, ::Float64, ::Float64, ::Type{T}) at ./In[96]:2",
      " in include_string(::String, ::String) at ./loading.jl:441"
     ]
    }
   ],
   "source": [
    "#Usando Float64\n",
    "Polinomio,E,ValProp = MetParametrización(Henon,1., 25, [.22,.22], .5, 1., 2, 2.9, 0.125, Float64)"
   ]
  },
  {
   "cell_type": "markdown",
   "metadata": {},
   "source": [
    "Calculamos el mismo polinomio pero ahora usando BigFloat para ver la diferencia sobre todo en el error. "
   ]
  },
  {
   "cell_type": "code",
   "execution_count": 99,
   "metadata": {
    "collapsed": false
   },
   "outputs": [
    {
     "ename": "LoadError",
     "evalue": "Error: el valor propio es complejo, es decir es un punto elíptico",
     "output_type": "error",
     "traceback": [
      "Error: el valor propio es complejo, es decir es un punto elíptico",
      "",
      " in ValPropios(::Array{BigFloat,2}) at ./In[88]:11",
      " in EigenValores at ./In[90]:2 [inlined]",
      " in Orden1(::Array{TaylorSeries.TaylorN{BigFloat},1}, ::Array{TaylorSeries.TaylorN{BigFloat},1}, ::Type{T}, ::#Henon, ::Float64, ::Float64, ::Array{Float64,1}, ::Int64, ::Array{BigFloat,1}, ::Array{BigFloat,1}) at ./In[91]:17",
      " in Variedades(::#Henon, ::Int64, ::Array{Float64,1}, ::Float64, ::Float64, ::Int64, ::Type{T}) at ./In[92]:45",
      " in MetParametrización(::Function, ::Float64, ::Int64, ::Array{Float64,1}, ::Float64, ::Float64, ::Int64, ::Float64, ::Float64, ::Type{T}) at ./In[96]:2",
      " in include_string(::String, ::String) at ./loading.jl:441"
     ]
    }
   ],
   "source": [
    "#Usando BigFloat\n",
    "PolinomioB,EBig,ValPropB = MetParametrización(Henon,1.,25,[.22,.22],.5 ,1.0,2,2.9,0.125,BigFloat)"
   ]
  },
  {
   "cell_type": "markdown",
   "metadata": {},
   "source": [
    "Graficamos ahora para valores en los que estamos seguron son puntos hiperbólicos."
   ]
  },
  {
   "cell_type": "code",
   "execution_count": 181,
   "metadata": {
    "collapsed": false
   },
   "outputs": [
    {
     "ename": "LoadError",
     "evalue": "syntax: invalid numeric constant \"0.3.\"",
     "output_type": "error",
     "traceback": [
      "syntax: invalid numeric constant \"0.3.\"",
      "",
      " in include_string(::String, ::String) at ./loading.jl:441"
     ]
    }
   ],
   "source": [
    "parametro = 0.3.\n",
    "x1 = -1.+(1.+parametro)^.5\n",
    "x2 = -1.-(1.+parametro)^.5\n",
    "@show(x1,x2)\n"
   ]
  },
  {
   "cell_type": "code",
   "execution_count": 120,
   "metadata": {
    "collapsed": false
   },
   "outputs": [
    {
     "ename": "LoadError",
     "evalue": "UndefVarError: Ec_Cohomo not defined",
     "output_type": "error",
     "traceback": [
      "UndefVarError: Ec_Cohomo not defined",
      "",
      " in MetParametrización(::Function, ::Float64, ::Int64, ::Array{Float64,1}, ::Float64, ::Float64, ::Int64, ::Float64, ::Float64, ::Type{T}) at ./In[119]:27",
      " in include_string(::String, ::String) at ./loading.jl:441"
     ]
    }
   ],
   "source": [
    "#Polinomio,E,ValProp = MetParametrización(Henon,1., 25, [x2,x2], parametro, 1., 2, 60., 0.125, Float64)\n",
    "tf,lf= MetParametrización(Henon,1., 25, [x2,x2], parametro, 1., 2, 60., 0.125, Float64)"
   ]
  },
  {
   "cell_type": "code",
   "execution_count": 182,
   "metadata": {
    "collapsed": false
   },
   "outputs": [
    {
     "name": "stdout",
     "output_type": "stream",
     "text": [
      "Para este caso el método de calculo de valores propios no es eficiente\n"
     ]
    },
    {
     "ename": "LoadError",
     "evalue": "UndefVarError: ValoresP not defined",
     "output_type": "error",
     "traceback": [
      "UndefVarError: ValoresP not defined",
      "",
      " in ValPropios(::Array{BigFloat,2}) at ./In[168]:20",
      " in EigenValores at ./In[171]:2 [inlined]",
      " in Orden1(::Array{TaylorSeries.TaylorN{BigFloat},1}, ::Array{TaylorSeries.TaylorN{BigFloat},1}, ::Type{T}, ::#Henon, ::Float64, ::Float64, ::Array{Float64,1}, ::Int64, ::Array{BigFloat,1}, ::Array{BigFloat,1}) at ./In[172]:17",
      " in Variedades(::#Henon, ::Int64, ::Array{Float64,1}, ::Float64, ::Float64, ::Int64, ::Type{T}) at ./In[173]:45",
      " in MetParametrización(::Function, ::Float64, ::Int64, ::Array{Float64,1}, ::Float64, ::Float64, ::Int64, ::Float64, ::Float64, ::Type{T}) at ./In[177]:2",
      " in include_string(::String, ::String) at ./loading.jl:441"
     ]
    }
   ],
   "source": [
    "#PolinomioB,EBig,ValPropB = MetParametrización(Henon, 1., 25, [x2,x2], parametro, 1., 1, 60., 0.125, BigFloat)\n",
    "ecco,tb,lb = MetParametrización(Henon, 1., 25, [x2,x2], parametro, 1., 2, 60., 0.125, BigFloat)\n"
   ]
  },
  {
   "cell_type": "code",
   "execution_count": 143,
   "metadata": {
    "collapsed": false
   },
   "outputs": [
    {
     "data": {
      "text/plain": [
       "2-element Array{TaylorSeries.Taylor1{BigFloat},1}:\n",
       "  - 2.414213562373094568825379766674431049611329861874967768443304289016637653730868 + 2.126668659948376686198496812579230517642022236268279852108363272875517859197767e+01 t - 2.743489471932366254120432022391364420831097991972494330196715051633552346311512e+01 t² + 1.251300941484912197621767135709228372279567982338807246638420771862566115902303e+01 t³ - 2.871619560722643828228855751948620694093109443567274481612406290940211942316716 t⁴ + 3.886495962970754371936471693671044880002317096523686820978517516484371692134791e-01 t⁵ - 3.439654893781989094955714509447712889451358146800488272851843346286702830296001e-02 t⁶ + 2.134193327648481478324490115267208227451794551933498126266095833164571705808031e-03 t⁷ - 9.753671540554923798914134559424313967852149876388538777345022869557181712807859e-05 t⁸ + 3.407387262736805440414765119013957962431589677658739826514990123908847070958403e-06 t⁹ - 9.367687080850480112794778901761027566962842925662049986792531548487126053862725e-08 t¹⁰ + 2.074963420770008727041151081730366040215705868803714012705537092308134348036813e-09 t¹¹ - 3.775402590899702753853250563639751110257033306129879702402591376352999130428641e-11 t¹² + 5.734796973977915184275715435587780667386065481587418282393699770732254224699894e-13 t¹³ - 7.372685090050204277774324448842051657242775558709361824058718891868522091821548e-15 t¹⁴ + 8.11684573875770244723842010904594288616944713973409879135703401044461443680677e-17 t¹⁵ - 7.730812069617345334162513012631476438997910837891731428672140788465592736859024e-19 t¹⁶ + 6.427058793410566779456289949276393719044769084273952113680153114266713511712836e-21 t¹⁷ - 4.700799744579628302861784268027873558142070341034110623629262044488993762907649e-23 t¹⁸ + 3.046158784852201462413228410121743995215578620930039743661962563264054814535183e-25 t¹⁹ - 1.759903386872756467043619491355600454118846483116676861523898570235405099553987e-27 t²⁰ + 9.116890031031245590651964923450567210984248623150941322312088748700381893639767e-30 t²¹ - 4.256588251048898520414961134670871877311720982722113198317471996019475108371756e-32 t²² + 1.799570550578211033426256958986313729074093159597526861024388122855144971664616e-34 t²³ - 6.918767915080025799880294276479709055360975517646221058298110581445208407085634e-37 t²⁴ + 2.428554507495524529425203031909097797039997068445420596086141811788959093509188e-39 t²⁵ + 𝒪(t²⁶)\n",
       "      - 2.414213562373094923430016933707520365715026855468750000000000000000000000000000 + 4.611581789308714717765755249063751914389160569954318761783426683677828098199226 t - 1.290040862312308885189638385309418052089243851453908229942644036416099378764563 t² + 1.275886448602250867334973485644167263163552090638365693600984238831498940785425e-01 t³ - 6.349320368160130661647810372944661245552181147837545505041201045246806393639003e-03 t⁴ + 1.863410950300866782977683527687293439148027426466242823038036823558776314802248e-04 t⁵ - 3.576147128809310440142442237651572244614394148804872902333208147378635506436362e-06 t⁶ + 4.811542753204722584828069173276828840143149327590747791446164704392032968064429e-08 t⁷ - 4.768357431006168021291726491287230750805778483419490165027923011112435394134164e-10 t⁸ + 3.612203889012948670137236471494016252257901282968361173957275394966171083709017e-12 t⁹ - 2.153442201689032555973674105183108870167678099794985204942329764389112401678129e-14 t¹⁰ + 1.034335365647155589767670976106250387693171682006037497797278090764758053885574e-16 t¹¹ - 4.08097827839380608116684279546450927788966264261871083178430716319276968727715e-19 t¹² + 1.344216263407411072594314463293643078342479926486743515533626497754906122498632e-21 t¹³ - 3.747372512504379378108306638327263557501622970093870594381179635527798060994825e-24 t¹⁴ + 8.946199100830076714638692112872147879937016327190435804487681355667531772191473e-27 t¹⁵ - 1.847678764933288269556100895189859100133363537162565691316823983445061599747144e-29 t¹⁶ + 3.330916215648233140546845118422180133325449037485034784878627011084839191599565e-32 t¹⁷ - 5.282910716735354387049900870974445750602172676725871853057140377078747119319186e-35 t¹⁸ + 7.423421881385086366063758771095961329486025355672886515302202646834660884032691e-38 t¹⁹ - 9.300162061896165175603219850717663046372452718586756591115112092823606035141045e-41 t²⁰ + 1.044716587378514356226529744143223066379733430795214703300989902760718668942268e-43 t²¹ - 1.057702425682113482388360787837884693429366949776389476459776099910076678454659e-46 t²² + 9.696629910816706703813722233454142315387360196470685484327160686488579737607916e-50 t²³ - 8.084083489097021194709753660771088144954928783007618829202843068147206453027418e-53 t²⁴ + 6.153184922519633622658779014954750748019311981420540759087264795634922690200275e-56 t²⁵ + 𝒪(t²⁶)"
      ]
     },
     "execution_count": 143,
     "metadata": {},
     "output_type": "execute_result"
    }
   ],
   "source": [
    "SB = Henon(tb[1],tb[2],1.,1.)"
   ]
  },
  {
   "cell_type": "code",
   "execution_count": 151,
   "metadata": {
    "collapsed": false
   },
   "outputs": [
    {
     "name": "stdout",
     "output_type": "stream",
     "text": [
      "-3.546046371670330893161036969935937822315566957109833623462691321037709712982178e-16\n",
      "-2.414213562373094568825379766674431049611329861874967768443304289016637653730868\n"
     ]
    }
   ],
   "source": [
    "println(lb[1].coeffs[1]-SB[1].coeffs[1])\n",
    "println(SB[1].coeffs[1])"
   ]
  },
  {
   "cell_type": "code",
   "execution_count": 150,
   "metadata": {
    "collapsed": false
   },
   "outputs": [
    {
     "data": {
      "text/plain": [
       "26-element Array{BigFloat,1}:\n",
       "  3.546046371670330893161036969935937822315566957109833623462691321037709712982178e-16 \n",
       "  0.000000000000000000000000000000000000000000000000000000000000000000000000000000     \n",
       "  2.763573937630222280123632596096127862757120116619610043207585110453949377011977e-76 \n",
       " -1.381786968815111140061816298048063931378560058309805021603792555226974688505988e-76 \n",
       "  0.000000000000000000000000000000000000000000000000000000000000000000000000000000     \n",
       "  0.000000000000000000000000000000000000000000000000000000000000000000000000000000     \n",
       "  5.397605346934027890866469914250249731947500227772675865639814668855369876976517e-79 \n",
       "  0.000000000000000000000000000000000000000000000000000000000000000000000000000000     \n",
       "  0.000000000000000000000000000000000000000000000000000000000000000000000000000000     \n",
       "  0.000000000000000000000000000000000000000000000000000000000000000000000000000000     \n",
       "  0.000000000000000000000000000000000000000000000000000000000000000000000000000000     \n",
       "  0.000000000000000000000000000000000000000000000000000000000000000000000000000000     \n",
       "  0.000000000000000000000000000000000000000000000000000000000000000000000000000000     \n",
       "  0.000000000000000000000000000000000000000000000000000000000000000000000000000000     \n",
       "  1.227273366324431638273942988746568910743803878124862391277887279296776313680429e-91 \n",
       " -9.588073174409622174015179599582569615185967797850487431858494369506064950628351e-94 \n",
       "  0.000000000000000000000000000000000000000000000000000000000000000000000000000000     \n",
       "  5.852095443365247908944811767323345712393779173492729145421444317325479095842500e-98 \n",
       "  0.000000000000000000000000000000000000000000000000000000000000000000000000000000     \n",
       "  3.571835597757109319424323588454190498287218733821245816297268260086351987208557e-102\n",
       "  2.790496560747741655800252803479836326786889635797848293982240828192462490006685e-104\n",
       "  0.000000000000000000000000000000000000000000000000000000000000000000000000000000     \n",
       "  0.000000000000000000000000000000000000000000000000000000000000000000000000000000     \n",
       "  0.000000000000000000000000000000000000000000000000000000000000000000000000000000     \n",
       "  0.000000000000000000000000000000000000000000000000000000000000000000000000000000     \n",
       "  0.000000000000000000000000000000000000000000000000000000000000000000000000000000     "
      ]
     },
     "execution_count": 150,
     "metadata": {},
     "output_type": "execute_result"
    }
   ],
   "source": [
    "ecco[1].coeffs"
   ]
  },
  {
   "cell_type": "code",
   "execution_count": 124,
   "metadata": {
    "collapsed": false
   },
   "outputs": [
    {
     "data": {
      "text/plain": [
       "2-element Array{TaylorSeries.Taylor1{BigFloat},1}:\n",
       "                                                                                                                                                                                        5.527147875260444560247265192192255725514240233239220086415170220907898754023953e-76 t² - 1.381786968815111140061816298048063931378560058309805021603792555226974688505988e-76 t³ - 4.216879177292209289739429620508007603083984552947403020031105210043257716387904e-81 t⁷ - 1.31777474290381540304357175640875237596374517279606344375972037813851803637122e-82 t⁸ + 2.513455854232435995185035240952973129203310342399718177337113147999797890417519e-88 t¹¹ + 4.681676354692198327155849413858676569915023338794183316337155453860383276674000e-97 t¹⁵ + 1.064489960002037679977513429061827212061649183577670400231262522961602207186388e-109 t²⁰ + 2.079081953128979843706080916136381273557908561675137500451684615159379310910914e-112 t²¹ + 4.060706939705038757238439289328869674917790159521752930569696513983162716622879e-115 t²² + 7.931068241611403822731326736970448583823808905315923692518938503873364680904061e-118 t²³ + 7.745183829698636545636061266572703695140438384097581730975525882688832696195372e-121 t²⁴ + 𝒪(t²⁶)\n",
       "  - 1.450876317255866697064907112950467127947488061225295272683982182988323422931288e-75 t + 3.373503341833767431791543696406406082467187642357922416024884168034606173110323e-80 t⁴ + 2.63554948580763080608714351281750475192749034559212688751944075627703607274244e-82 t⁵ - 1.608611746708759036918422554209902802690118619135819633495752414719870649867212e-86 t⁷ - 2.454546732648863276547885977493137821487607756249724782555774558593552627360858e-91 t⁹ - 4.794036587204811087007589799791284807592983898925243715929247184753032475314176e-94 t¹⁰ + 9.363352709384396654311698827717353139830046677588366632674310907720766553347999e-97 t¹¹ + 1.785917798878554659712161794227095249143609366910622908148634130043175993604278e-102 t¹³ - 1.744060350467338534875158002174897704241806022373655183738900517620289056254178e-105 t¹⁴ + 3.96553412080570191136566336848522429191190445265796184625946925193668234045203e-118 t¹⁸ + 5.635362925894614123998370826719258690093148022495429708924730863283062860279003e-132 t²² - 2.751642053659479552733579505234013032272044932859096537560903741837433037245607e-135 t²³ - 3.358938053783544375895482794475113564785211099681514328077275075485147750543954e-139 t²⁴ + 𝒪(t²⁶)"
      ]
     },
     "execution_count": 124,
     "metadata": {},
     "output_type": "execute_result"
    }
   ],
   "source": [
    "ecuab"
   ]
  },
  {
   "cell_type": "markdown",
   "metadata": {},
   "source": [
    "Graficaremos el error cometido que es el que nos dirá cuanta diferencia hay entre tipos de números. "
   ]
  },
  {
   "cell_type": "code",
   "execution_count": 136,
   "metadata": {
    "collapsed": false,
    "scrolled": true
   },
   "outputs": [
    {
     "data": {
      "image/png": "[encoded data removed]",
      "text/plain": [
       "PyPlot.Figure(PyObject <matplotlib.figure.Figure object at 0x7f032b4fba90>)"
      ]
     },
     "metadata": {},
     "output_type": "display_data"
    },
    {
     "data": {
      "text/plain": [
       "PyObject <matplotlib.legend.Legend object at 0x7f032b501110>"
      ]
     },
     "execution_count": 136,
     "metadata": {},
     "output_type": "execute_result"
    }
   ],
   "source": [
    "#plot(E[1],log10(E[2]),marker= \"None\", label=\"Float\")\n",
    "plot(error[1],log10(error[2]),marker= \"None\", label=\"BigFloat\")\n",
    "xlabel(\"Parámetro t\")\n",
    "ylabel(L\"log10($|| E||_{\\infty})$\")\n",
    "title(\"Error \")\n",
    "grid(\"on\")\n",
    "legend(loc=\"upper right\",fancybox=\"true\" )"
   ]
  },
  {
   "cell_type": "markdown",
   "metadata": {
    "collapsed": true
   },
   "source": [
    "Para observar cómo va la variedad graficaremos el espacio fase"
   ]
  },
  {
   "cell_type": "code",
   "execution_count": 22,
   "metadata": {
    "collapsed": false
   },
   "outputs": [
    {
     "data": {
      "text/plain": [
       "evaluar (generic function with 1 method)"
      ]
     },
     "execution_count": 22,
     "metadata": {},
     "output_type": "execute_result"
    }
   ],
   "source": [
    "#esta es una función para evaluar el los polinomios que calculamos\n",
    "# recibe como entrada el tiempo que es el valor del parámetro t, el paso\n",
    "# que define en pasos de cuanto queremos ir evaluando y claro los polinomios A,B\n",
    "function evaluar(Tiempo, paso,A,B,vari)\n",
    "    ValX=Float64[]\n",
    "    \n",
    "    ValY=Float64[]\n",
    "\n",
    "    for t = 0:paso:Tiempo\n",
    "        \n",
    "        x = evaluate(A,t)\n",
    "        y = evaluate(B,t)\n",
    "        \n",
    "        push!(ValX,x)\n",
    "        push!(ValY,y)\n",
    "        \n",
    "    end\n",
    "    p = plot(ValX,ValY,linestyle=\"-\",label = vari)\n",
    "    \n",
    "end"
   ]
  },
  {
   "cell_type": "code",
   "execution_count": 23,
   "metadata": {
    "collapsed": false
   },
   "outputs": [
    {
     "data": {
      "text/plain": [
       "Graficar (generic function with 1 method)"
      ]
     },
     "execution_count": 23,
     "metadata": {},
     "output_type": "execute_result"
    }
   ],
   "source": [
    "function Graficar(Tiempo, paso, k,l,A,B,vari)\n",
    "    #graficarMap(k,l)\n",
    "    evaluar(Tiempo,paso,A,B,vari)\n",
    "end"
   ]
  },
  {
   "cell_type": "code",
   "execution_count": 24,
   "metadata": {
    "collapsed": false
   },
   "outputs": [
    {
     "data": {
      "image/png": "[encoded data removed]",
      "text/plain": [
       "PyPlot.Figure(PyObject <matplotlib.figure.Figure object at 0x7f9458542e50>)"
      ]
     },
     "metadata": {},
     "output_type": "display_data"
    },
    {
     "data": {
      "text/plain": [
       "1-element Array{Any,1}:\n",
       " PyObject <matplotlib.lines.Line2D object at 0x7f94581819d0>"
      ]
     },
     "execution_count": 24,
     "metadata": {},
     "output_type": "execute_result"
    }
   ],
   "source": [
    "Graficar(50.7,0.025,8.,1.,Polinomio[1],Polinomio[2],\"estable\")\n",
    "Graficar(50.7,0.025,8.,1.,PolinomioB[1],PolinomioB[2],\"inestable\")"
   ]
  },
  {
   "cell_type": "code",
   "execution_count": 164,
   "metadata": {
    "collapsed": false
   },
   "outputs": [
    {
     "data": {
      "text/plain": [
       "2×2 Array{BigFloat,2}:\n",
       " 1.000000000000000000000000000000000000000000000000000000000000000000000000000000  …  1.000000000000000000000000000000000000000000000000000000000000000000000000000000\n",
       " 2.000000000000000000000000000000000000000000000000000000000000000000000000000000     1.000000000000000000000000000000000000000000000000000000000000000000000000000000"
      ]
     },
     "execution_count": 164,
     "metadata": {},
     "output_type": "execute_result"
    }
   ],
   "source": [
    "M=[big(1.) 1.; 2 1]"
   ]
  },
  {
   "cell_type": "code",
   "execution_count": 153,
   "metadata": {
    "collapsed": true
   },
   "outputs": [],
   "source": [
    "using LinearAlgebra"
   ]
  },
  {
   "cell_type": "code",
   "execution_count": 165,
   "metadata": {
    "collapsed": false
   },
   "outputs": [
    {
     "data": {
      "text/plain": [
       "2-element Array{Complex{BigFloat},1}:\n",
       "     2.414213562373095048801688724209698078569671875376948073176679737990732478462085+0.000000000000000000000000000000000000000000000000000000000000000000000000000000im\n",
       " -4.14213562373095048801688724209698078569671875376948073176679737990732478462102e-01-0.000000000000000000000000000000000000000000000000000000000000000000000000000000im"
      ]
     },
     "execution_count": 165,
     "metadata": {},
     "output_type": "execute_result"
    }
   ],
   "source": [
    "valA=LinearAlgebra.EigenGeneral.eigvals!(M)"
   ]
  },
  {
   "cell_type": "code",
   "execution_count": 166,
   "metadata": {
    "collapsed": false
   },
   "outputs": [
    {
     "data": {
      "text/plain": [
       "2-element Array{BigFloat,1}:\n",
       "  2.414213562373095048801688724209698078569671875376948073176679737990732478462085   \n",
       " -4.14213562373095048801688724209698078569671875376948073176679737990732478462102e-01"
      ]
     },
     "execution_count": 166,
     "metadata": {},
     "output_type": "execute_result"
    }
   ],
   "source": [
    "real(valA)"
   ]
  },
  {
   "cell_type": "code",
   "execution_count": 169,
   "metadata": {
    "collapsed": false
   },
   "outputs": [
    {
     "data": {
      "text/plain": [
       "2-element Array{BigFloat,1}:\n",
       " -4.14213562373095048801688724209698078569671875376948073176679737990732478462102e-01\n",
       "  2.414213562373095048801688724209698078569671875376948073176679737990732478462085   "
      ]
     },
     "execution_count": 169,
     "metadata": {},
     "output_type": "execute_result"
    }
   ],
   "source": [
    "ValPropios(M)"
   ]
  },
  {
   "cell_type": "code",
   "execution_count": null,
   "metadata": {
    "collapsed": true
   },
   "outputs": [],
   "source": []
  }
 ],
 "metadata": {
  "kernelspec": {
   "display_name": "Julia 0.5.2",
   "language": "julia",
   "name": "julia-0.5"
  },
  "language_info": {
   "file_extension": ".jl",
   "mimetype": "application/julia",
   "name": "julia",
   "version": "0.5.2"
  }
 },
 "nbformat": 4,
 "nbformat_minor": 2
}
