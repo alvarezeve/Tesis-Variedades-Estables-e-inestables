{
 "cells": [
  {
   "cell_type": "markdown",
   "metadata": {},
   "source": [
    "# La motivación"
   ]
  },
  {
   "cell_type": "markdown",
   "metadata": {},
   "source": [
    "La descripción o mejor dicho el conocimiento de las variedades estables e inestable de un sistema hamiltoniano es indispensable para describir la dinámica del mismo. Obtener las expresiones analíticas de las variedades es algo que no se ve comúmente, debido a la dificultad de resolver las ecuaciones diferenciales no lienales. Para ello se han desarrollado numerosos métodos que aproximan numéricamente las variedades en disferentes y específicos casos. Por ejemplo el uso de expansiones de taylor que aproximan las variedades [1]. El método de parametrización es uno de estos análisis numéricos que permiten aproximar variedades de manera computacional; desarrolado por Cabré, Fontich, y de la Llave. Este método resultó bastante efectivo para el estudio de las variedades estables, inestables;  en la obtención de puntos fijos, análisis de órbitas peiódicas entre muchas otras características necesarias para describir  sistemas dinámicos. Una caracteística importante es que dentro del desarrollo del método se incluye un análisis del error lo que proporciona una manera no solo de conocer las cosas arriba mencionadas si no también  de hacer validaciones rigurosas desde el punto de vista matemático pero usando calculos numéricos. "
   ]
  },
  {
   "cell_type": "markdown",
   "metadata": {},
   "source": []
  },
  {
   "cell_type": "markdown",
   "metadata": {},
   "source": [
    "[1] W.-J. Beyn and W. Kless. Numerical taylor expansions of invariant manifolds in\n",
    "large dynamical systems. Numer. Math., 80:1–38, 1998."
   ]
  },
  {
   "cell_type": "code",
   "execution_count": null,
   "metadata": {
    "collapsed": true
   },
   "outputs": [],
   "source": []
  }
 ],
 "metadata": {
  "kernelspec": {
   "display_name": "Julia 0.5.2",
   "language": "julia",
   "name": "julia-0.5"
  },
  "language_info": {
   "file_extension": ".jl",
   "mimetype": "application/julia",
   "name": "julia",
   "version": "0.5.2"
  }
 },
 "nbformat": 4,
 "nbformat_minor": 2
}
