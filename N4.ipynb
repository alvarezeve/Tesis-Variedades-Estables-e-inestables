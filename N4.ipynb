{
 "cells": [
  {
   "cell_type": "markdown",
   "metadata": {},
   "source": [
    "# Artículo"
   ]
  },
  {
   "cell_type": "markdown",
   "metadata": {},
   "source": [
    "# Listos para calcular las relaciones de recurrencia"
   ]
  },
  {
   "cell_type": "markdown",
   "metadata": {},
   "source": [
    "Las relaciones de recurrencia se obtienen de proponer que las variables $$\\theta, x$$  se pueden escribir como polinomios de grado n. Con ello y utilizando la series de las funciones trigonométricas se obtuvieron las siguientes expresiones.\n",
    "$$\\alpha_{n+1}=\\frac{-1}{n+1}\\Sigma_{k=0}^{n}(k+1)\\beta_{n-k}b_{k+1}$$\n",
    "$$\\beta_{n+1}=\\frac{1}{n+1}\\Sigma_{k=0}^{n}(k+1)\\alpha_{n-k}b_{k+1}$$"
   ]
  },
  {
   "cell_type": "markdown",
   "metadata": {},
   "source": [
    "Usando estás para el cálculo de las constantes de los polinomios para $$x y \\theta$$ se tiene que \n",
    "$$a_{n+1}=\\frac{-\\epsilon(1-\\lambda^{n+1})}{(n+1)[(1-\\lambda^{n+1})(1+\\epsilon-\\lambda^{n+1})-\\epsilon]}\\Sigma_{k=0}^{n-1}(k+1)\\alpha_{n-k}b_{k+1}$$\n",
    "$$b_{n+1}=\\frac{\\epsilon\\lambda^{n+1}}{(n+1)[(1-\\lambda^{n+1})(1+\\epsilon-\\lambda^{n+1})-\\epsilon]}\\Sigma_{k=0}^{n-1}(k+1)\\alpha_{n-k}b_{k+1}$$"
   ]
  },
  {
   "cell_type": "markdown",
   "metadata": {},
   "source": [
    "Usando las condiciones :\n",
    "$$a_{0}=b_{0}=\\beta_{0}=0$$\n",
    "$$\\alpha_{0}=1$$"
   ]
  },
  {
   "cell_type": "code",
   "execution_count": 23,
   "metadata": {
    "collapsed": false
   },
   "outputs": [
    {
     "name": "stderr",
     "output_type": "stream",
     "text": [
      "INFO: Cloning cache of ColorTypes from https://github.com/JuliaGraphics/ColorTypes.jl.git\n",
      "INFO: Cloning cache of Colors from https://github.com/JuliaGraphics/Colors.jl.git\n",
      "INFO: Cloning cache of FixedPointNumbers from https://github.com/JuliaMath/FixedPointNumbers.jl.git\n",
      "INFO: Cloning cache of LaTeXStrings from https://github.com/stevengj/LaTeXStrings.jl.git\n",
      "INFO: Cloning cache of MacroTools from https://github.com/MikeInnes/MacroTools.jl.git\n",
      "INFO: Cloning cache of PyCall from https://github.com/JuliaPy/PyCall.jl.git\n",
      "INFO: Cloning cache of PyPlot from https://github.com/JuliaPy/PyPlot.jl.git\n",
      "INFO: Cloning cache of Reexport from https://github.com/simonster/Reexport.jl.git\n",
      "INFO: Installing ColorTypes v0.2.12\n",
      "INFO: Installing Colors v0.6.9\n",
      "INFO: Installing FixedPointNumbers v0.2.1\n",
      "INFO: Installing LaTeXStrings v0.2.0\n",
      "INFO: Installing MacroTools v0.3.2\n",
      "INFO: Installing PyCall v1.7.2\n",
      "INFO: Installing PyPlot v2.2.4\n",
      "INFO: Installing Reexport v0.0.3\n",
      "WARNING: Error during initialization of module GMP:\n",
      "ErrorException(\"The dynamically loaded GMP library (version 5.1.3 with __gmp_bits_per_limb == 64)\n",
      "does not correspond to the compile time version (version 6.1.0 with __gmp_bits_per_limb == 64).\n",
      "Please rebuild Julia.\")\n",
      "INFO: Building Conda\n",
      "INFO: Building PyCall\n",
      "INFO: PyCall is using python (Python 2.7.6) at /usr/bin/python, libpython = libpython2.7\n",
      "INFO: Package database updated\n"
     ]
    }
   ],
   "source": [
    "Pkg.add(\"PyPlot\")\n"
   ]
  },
  {
   "cell_type": "code",
   "execution_count": 24,
   "metadata": {
    "collapsed": false,
    "scrolled": true
   },
   "outputs": [
    {
     "name": "stderr",
     "output_type": "stream",
     "text": [
      "INFO: Precompiling module PyPlot.\n",
      "WARNING: Error during initialization of module GMP:\n",
      "ErrorException(\"The dynamically loaded GMP library (version 5.1.3 with __gmp_bits_per_limb == 64)\n",
      "does not correspond to the compile time version (version 6.1.0 with __gmp_bits_per_limb == 64).\n",
      "Please rebuild Julia.\")\n",
      "WARNING: Error during initialization of module GMP:\n",
      "ErrorException(\"The dynamically loaded GMP library (version 5.1.3 with __gmp_bits_per_limb == 64)\n",
      "does not correspond to the compile time version (version 6.1.0 with __gmp_bits_per_limb == 64).\n",
      "Please rebuild Julia.\")\n",
      "WARNING: Error during initialization of module GMP:\n",
      "ErrorException(\"The dynamically loaded GMP library (version 5.1.3 with __gmp_bits_per_limb == 64)\n",
      "does not correspond to the compile time version (version 6.1.0 with __gmp_bits_per_limb == 64).\n",
      "Please rebuild Julia.\")\n",
      "WARNING: Error during initialization of module GMP:\n",
      "ErrorException(\"The dynamically loaded GMP library (version 5.1.3 with __gmp_bits_per_limb == 64)\n",
      "does not correspond to the compile time version (version 6.1.0 with __gmp_bits_per_limb == 64).\n",
      "Please rebuild Julia.\")\n",
      "WARNING: Error during initialization of module GMP:\n",
      "ErrorException(\"The dynamically loaded GMP library (version 5.1.3 with __gmp_bits_per_limb == 64)\n",
      "does not correspond to the compile time version (version 6.1.0 with __gmp_bits_per_limb == 64).\n",
      "Please rebuild Julia.\")\n",
      "WARNING: Error during initialization of module GMP:\n",
      "ErrorException(\"The dynamically loaded GMP library (version 5.1.3 with __gmp_bits_per_limb == 64)\n",
      "does not correspond to the compile time version (version 6.1.0 with __gmp_bits_per_limb == 64).\n",
      "Please rebuild Julia.\")\n",
      "WARNING: Error during initialization of module GMP:\n",
      "ErrorException(\"The dynamically loaded GMP library (version 5.1.3 with __gmp_bits_per_limb == 64)\n",
      "does not correspond to the compile time version (version 6.1.0 with __gmp_bits_per_limb == 64).\n",
      "Please rebuild Julia.\")\n",
      "WARNING: Error during initialization of module GMP:\n",
      "ErrorException(\"The dynamically loaded GMP library (version 5.1.3 with __gmp_bits_per_limb == 64)\n",
      "does not correspond to the compile time version (version 6.1.0 with __gmp_bits_per_limb == 64).\n",
      "Please rebuild Julia.\")\n"
     ]
    },
    {
     "ename": "LoadError",
     "evalue": "LoadError: InitError: Failed to import required Python module matplotlib.\n\nFor automated matplotlib installation, try configuring PyCall to use the Conda.jl package's Python \"Miniconda\" distribution within Julia. Relaunch Julia and run:\n    ENV[\"PYTHON\"]=\"\"\n    Pkg.build(\"PyCall\")\nbefore trying again.\n\nThe pyimport exception was: PyError (:PyImport_ImportModule) <type 'exceptions.ImportError'>\nImportError('No module named matplotlib',)\n\n\nduring initialization of module PyPlot\nwhile loading In[24], in expression starting on line 1",
     "output_type": "error",
     "traceback": [
      "LoadError: InitError: Failed to import required Python module matplotlib.\n\nFor automated matplotlib installation, try configuring PyCall to use the Conda.jl package's Python \"Miniconda\" distribution within Julia. Relaunch Julia and run:\n    ENV[\"PYTHON\"]=\"\"\n    Pkg.build(\"PyCall\")\nbefore trying again.\n\nThe pyimport exception was: PyError (:PyImport_ImportModule) <type 'exceptions.ImportError'>\nImportError('No module named matplotlib',)\n\n\nduring initialization of module PyPlot\nwhile loading In[24], in expression starting on line 1",
      "",
      " in pyimport_conda(::String, ::String, ::String) at /home/evelyn/.julia/v0.5/PyCall/src/PyCall.jl:502",
      " in __init__() at /home/evelyn/.julia/v0.5/PyPlot/src/PyPlot.jl:223",
      " in _include_from_serialized(::String) at ./loading.jl:150",
      " in _require_from_serialized(::Int64, ::Symbol, ::String, ::Bool) at ./loading.jl:187",
      " in require(::Symbol) at ./loading.jl:423"
     ]
    }
   ],
   "source": [
    "using PyPlot                                                                                                                                                                                                                                                                                                                                                                                                                                                                                                                                                                                                                                                                                                                                                                                                                                                                                                                                                                                                                                                                                                                                                                                                                                                                                                                                                                                                                                                                                                                                                                                                                                                                                                                                                                                                                                                                                                                                                                                                                                                                                                                                                                                                                                                                                                                                                                                                                                                                                                                                                                                                                                                                                                                                                                                                                                                                                                                                                                                                                                                                                                                                                                                                                                                                                                                                                                                                                                                                                                                                                                                                                                                                                                                                                                                                                                                                                                                                                                                                                                                                                                                                                                                                                                                                                                                                                                                                                                                                                                                                                                                                                                                            \n",
    "using TaylorSeries \n"
   ]
  },
  {
   "cell_type": "code",
   "execution_count": 2,
   "metadata": {
    "collapsed": false
   },
   "outputs": [
    {
     "data": {
      "text/plain": [
       "PrimerosD (generic function with 1 method)"
      ]
     },
     "execution_count": 2,
     "metadata": {},
     "output_type": "execute_result"
    }
   ],
   "source": [
    "#Esa funcion calculará los primeros coeficientes                                                                                                                                                                                                                                                                                                                                                                                                                                                                                                                                                                                                                                                                                                                                                                                                                                                                                                                                                                                                                                                                                                                                                                                                                                                                                                                                                                                                                                                                                                                                                                                                                                                                                                                                                                                                                                                                                                                                                                                                                                                                                                                                                                                                                                                                                                                                                                                                                                                                                                                                                                                                                                                                                                                                                                                                                                                                                                                                                                                                                                                                                                                                                                                                                                                                                                                                                                                                                                                                                                                                                                                                                                                                                                                                                                                                                                                                                                                                                                                                                                                                                                                                                                                                                                                                                                                                                                                                                                                                                                                                                                                                                                                                                                                                                                                                                                                                                                                                                                                                                                                                                                                                                                                                                                                                                                                                                                                                                                                                                                                                                                                                                                                                                                                                                                                                                                                                                                                                                                                                                                                                                                                                                                                                                                                                                                                                                                                                                                                                                                                                                                                                                                                                                                                                                       #Definiremos una función para los primeros datos\n",
    "function PrimerosD(a_1,epsilon)\n",
    "    a_0=b_0=beta_0=0.0\n",
    "    alpha_0=1.0\n",
    "    a=Float64[]  #Especificamos el tipo de bichos que tendrá la lista\n",
    "    b=Float64[]\n",
    "    beta=Float64[]\n",
    "    alpha=Float64[]\n",
    "    \n",
    "    push!(a,a_0)  #Agregamos el primer elemento a cada lista\n",
    "    push!(b,b_0)\n",
    "    \n",
    "    push!(alpha,alpha_0)\n",
    "    push!(beta,beta_0)\n",
    "\n",
    "    push!(a,a_1)\n",
    "  # usando el parametro epsilon calculamos los siguientes 2 elementos\n",
    "    l=1.0 + epsilon/2. + sqrt(epsilon*(4 + epsilon))/2.\n",
    "    b_1 = a_1*(.5 + sqrt(epsilon*(4 + epsilon))/(2*epsilon))\n",
    "    push!(b,b_1)\n",
    "    \n",
    "    #  Actualizamos alpha y beta\n",
    "    alpha_1=-beta_0*b_1\n",
    "    push!(alpha,alpha_1)\n",
    "    beta_1=alpha_0*b_1\n",
    "    push!(beta,beta_1)\n",
    "    return a,b,alpha,beta,l\n",
    "\n",
    "end"
   ]
  },
  {
   "cell_type": "markdown",
   "metadata": {},
   "source": [
    "Definiremos una función para calcular las siguientes sumas que tienen la misma estructura\n",
    "$$\\Sigma_{k=0}^{n-1}(k+1)\\alpha_{n-k}\\beta_{k+1}$$\n"
   ]
  },
  {
   "cell_type": "code",
   "execution_count": 3,
   "metadata": {
    "collapsed": false
   },
   "outputs": [
    {
     "data": {
      "text/plain": [
       "sigmaa (generic function with 1 method)"
      ]
     },
     "execution_count": 3,
     "metadata": {},
     "output_type": "execute_result"
    }
   ],
   "source": [
    "\n",
    "# nn equivale a la \"n+1\" en el artículo.\n",
    "# Alpha y betha son las listas que guardan a las mismas variables.\n",
    "function sigmaa(nn, alpha, beta)\n",
    "    SumSigmaA = 0.0 \n",
    "    for k = 0:nn-2\n",
    "        SigmaA =(k+1)*alpha[nn-k]*beta[k+2]\n",
    "        \n",
    "        SumSigmaA = SigmaA+SumSigmaA\n",
    "        print(\"SigmaA=\",SumSigmaA)\n",
    "        print(\"\\t\")\n",
    "        \n",
    "    end\n",
    "    SumSigmaA\n",
    "end\n",
    "\n"
   ]
  },
  {
   "cell_type": "code",
   "execution_count": 4,
   "metadata": {
    "collapsed": false
   },
   "outputs": [
    {
     "data": {
      "text/plain": [
       "([0.0,0.008],[0.0,0.0191438],[1.0,-0.0],[0.0,0.0191438],1.7178908345800272)"
      ]
     },
     "execution_count": 4,
     "metadata": {},
     "output_type": "execute_result"
    }
   ],
   "source": [
    "a,b,alpha,beta,l=PrimerosD(8e-3,0.3)\n"
   ]
  },
  {
   "cell_type": "markdown",
   "metadata": {},
   "source": [
    "Definimos ahora una función para calcular las sumas de $$\\alpha$$ y $$\\beta$$\n",
    "$$\\Sigma_{k=0}^{n}(k+1)\\beta_{n-k}b_{k+1}$$\n"
   ]
  },
  {
   "cell_type": "code",
   "execution_count": 5,
   "metadata": {
    "collapsed": false
   },
   "outputs": [
    {
     "data": {
      "text/plain": [
       "sumaal (generic function with 1 method)"
      ]
     },
     "execution_count": 5,
     "metadata": {},
     "output_type": "execute_result"
    }
   ],
   "source": [
    "#Esta función usa la función sigmaa dado que son las mismas pero con distintos\n",
    "# límites, por lo que sólo agregamos el último término a mano\n",
    "function sumaal(nn,beta,b)\n",
    "    SumA = 0.0\n",
    "    SumA = sigmaa(nn,beta,b) + (nn-1)*beta[1]*b[nn+1]#(nn)*beta[1]*b[nn]\n",
    "    return SumA\n",
    "end"
   ]
  },
  {
   "cell_type": "code",
   "execution_count": 6,
   "metadata": {
    "collapsed": false
   },
   "outputs": [
    {
     "data": {
      "text/plain": [
       "Polinomio (generic function with 1 method)"
      ]
     },
     "execution_count": 6,
     "metadata": {},
     "output_type": "execute_result"
    }
   ],
   "source": [
    "#Definimos una función que va a calcular todos los términos de los polinomios,\n",
    "# solo recibe los parametros iniciales y regresa dos listas y dos polinomios, \n",
    "# los polinomios que regresa tienen los coeficientes de la lista\n",
    "function Polinomio(Orden,a_1,p)\n",
    "    a,b,alpha,beta,l=PrimerosD(a_1,p)\n",
    "    \n",
    "    for orden = 3:Orden\n",
    "        \n",
    "        \n",
    "        nmasuno = orden-1\n",
    "        C1=-p*(1-l^nmasuno)/((nmasuno)*((1-l^nmasuno)*(1+p-l^nmasuno)-p))\n",
    "        S1=0.\n",
    "        print(nmasuno)\n",
    "        print('\\n')\n",
    "        for k=0:(orden-3)\n",
    "            S=(k+1)*alpha[orden-2-k+1]*b[k+1+1]\n",
    "            S1=S+S1\n",
    "            print(S)\n",
    "            print('\\n')\n",
    "            print(S1)\n",
    "            print('\\n')\n",
    "            \n",
    "        end\n",
    "        a_nueva=S1*C1\n",
    "        push!(a,a_nueva)\n",
    "        \n",
    "        \n",
    "        C2=p*l^nmasuno/((nmasuno)*((1-l^nmasuno)*(1+p-l^nmasuno)-p))\n",
    "        b_nueva=C2*S1\n",
    "        push!(b,b_nueva)\n",
    "        \n",
    "        S2=0.\n",
    "        for k=0:orden-2\n",
    "            s=(k+1)*beta[orden-2-k+1]*b[k+1+1]\n",
    "            S2=s+S2\n",
    "        end\n",
    "        alpha_nueva=-S2/nmasuno\n",
    "        push!(alpha,alpha_nueva)\n",
    "        \n",
    "        S3=0.\n",
    "        for k=0:orden-2\n",
    "            s=(k+1)*alpha[orden-2-k+1]*b[k+1+1]\n",
    "            S3=s+S3\n",
    "        end\n",
    "        beta_nueva=S3/nmasuno\n",
    "        push!(beta,beta_nueva)\n",
    "        \n",
    "        \n",
    "        \n",
    "        \n",
    "        #nn=n-1\n",
    "        #denominador = nn*((1-l^nn)*(1+p-l^nn)-p)\n",
    "        \n",
    "        \n",
    "        #SumSigmaA = sigmaa(nn, alpha, b)\n",
    "        #a_n = -p*(1-l^nn)*SumSigmaA/denominador  \n",
    "        #push!(a,a_n)\n",
    "    \n",
    "   \n",
    "        #SumSigmaB = sigmaa(nn, alpha, b)\n",
    "        #b_n = p*(l^nn)*SumSigmaB/denominador\n",
    "        #push!(b,b_n)\n",
    "    \n",
    "        #SumA=sumaal(nn,beta,b)\n",
    "        #alpha_n = -SumA/nn\n",
    "        #push!(alpha,alpha_n)\n",
    "    \n",
    "        #SumB=sumaal(nn,alpha,b)\n",
    "        #beta_n = SumB/nn\n",
    "        #push!(beta,beta_n)\n",
    "    \n",
    "    \n",
    "    end\n",
    "    A=Taylor1(a)\n",
    "    B=Taylor1(b)\n",
    "    return a,b,A,B,alpha,beta\n",
    "end\n",
    "    \n"
   ]
  },
  {
   "cell_type": "code",
   "execution_count": 7,
   "metadata": {
    "collapsed": false,
    "scrolled": false
   },
   "outputs": [
    {
     "name": "stdout",
     "output_type": "stream",
     "text": [
      "2\n",
      "-0.0\n",
      "0.0\n",
      "3\n",
      "-0.0035079341083137003\n",
      "-0.0035079341083137003\n",
      "-0.0\n",
      "-0.0035079341083137003\n",
      "4\n",
      "-0.0\n",
      "0.0\n",
      "-0.0\n",
      "0.0\n",
      "0.0\n",
      "0.0\n",
      "5\n",
      "1.5046324265216157e-5\n",
      "1.5046324265216157e-5\n",
      "-0.0\n",
      "1.5046324265216157e-5\n",
      "6.499492123203525e-6\n",
      "2.154581638841968e-5\n",
      "-0.0\n",
      "2.154581638841968e-5\n",
      "6\n",
      "-0.0\n",
      "0.0\n",
      "0.0\n",
      "0.0\n",
      "0.0\n",
      "0.0\n",
      "-0.0\n",
      "0.0\n",
      "-0.0\n",
      "0.0\n",
      "7\n",
      "-4.461387503100887e-8\n",
      "-4.461387503100887e-8\n",
      "-0.0\n",
      "-4.461387503100887e-8\n",
      "-2.787779445833114e-8\n",
      "-7.249166948934001e-8\n",
      "-0.0\n",
      "-7.249166948934001e-8\n",
      "-9.30537022956272e-9\n",
      "-8.179703971890273e-8\n",
      "-0.0\n",
      "-8.179703971890273e-8\n",
      "8\n",
      "-0.0\n",
      "0.0\n",
      "-0.0\n",
      "0.0\n",
      "0.0\n",
      "0.0\n",
      "0.0\n",
      "0.0\n",
      "-0.0\n",
      "0.0\n",
      "-0.0\n",
      "0.0\n",
      "0.0\n",
      "0.0\n",
      "9\n",
      "1.0968203878588256e-10\n",
      "1.0968203878588256e-10\n",
      "-0.0\n",
      "1.0968203878588256e-10\n",
      "8.266048346302002e-11\n",
      "1.923425222489026e-10\n",
      "-0.0\n",
      "1.923425222489026e-10\n",
      "3.9912841449919536e-11\n",
      "2.3225536369882214e-10\n",
      "-0.0\n",
      "2.3225536369882214e-10\n",
      "1.0737727815201019e-11\n",
      "2.429930915140232e-10\n",
      "-0.0\n",
      "2.429930915140232e-10\n",
      "10\n",
      "-0.0\n",
      "0.0\n",
      "0.0\n",
      "0.0\n",
      "0.0\n",
      "0.0\n",
      "-0.0\n",
      "0.0\n",
      "-0.0\n",
      "0.0\n",
      "0.0\n",
      "0.0\n",
      "0.0\n",
      "0.0\n",
      "-0.0\n",
      "0.0\n",
      "-0.0\n",
      "0.0\n",
      "11\n",
      "-2.385032530271157e-13\n",
      "-2.385032530271157e-13\n",
      "-0.0\n",
      "-2.385032530271157e-13\n",
      "-2.0321862530320863e-13\n",
      "-4.4172187833032435e-13\n",
      "-0.0\n",
      "-4.4172187833032435e-13\n",
      "-1.1834561645701711e-13\n",
      "-5.600674947873415e-13\n",
      "-0.0\n",
      "-5.600674947873415e-13\n",
      "-4.605654769747391e-14\n",
      "-6.061240424848154e-13\n",
      "-0.0\n",
      "-6.061240424848154e-13\n",
      "-1.0434881754194977e-14\n",
      "-6.165589242390103e-13\n",
      "-0.0\n",
      "-6.165589242390103e-13\n",
      "12\n",
      "-0.0\n",
      "0.0\n",
      "-0.0\n",
      "0.0\n",
      "0.0\n",
      "0.0\n",
      "0.0\n",
      "0.0\n",
      "-0.0\n",
      "0.0\n",
      "-0.0\n",
      "0.0\n",
      "0.0\n",
      "0.0\n",
      "0.0\n",
      "0.0\n",
      "-0.0\n",
      "0.0\n",
      "-0.0\n",
      "0.0\n",
      "0.0\n",
      "0.0\n",
      "13\n",
      "4.742001887684396e-16\n",
      "4.742001887684396e-16\n",
      "-0.0\n",
      "4.742001887684396e-16\n",
      "4.418982701910922e-16\n",
      "9.160984589595318e-16\n",
      "-0.0\n",
      "9.160984589595318e-16\n",
      "2.909495865435521e-16\n",
      "1.207048045503084e-15\n",
      "-0.0\n",
      "1.207048045503084e-15\n",
      "1.3656232759019842e-16\n",
      "1.3436103730932823e-15\n",
      "-0.0\n",
      "1.3436103730932823e-15\n",
      "4.4757572318905354e-17\n",
      "1.3883679454121876e-15\n",
      "-0.0\n",
      "1.3883679454121876e-15\n",
      "8.866889929477267e-18\n",
      "1.3972348353416649e-15\n",
      "-0.0\n",
      "1.3972348353416649e-15\n",
      "14\n",
      "-0.0\n",
      "0.0\n",
      "0.0\n",
      "0.0\n",
      "0.0\n",
      "0.0\n",
      "-0.0\n",
      "0.0\n",
      "-0.0\n",
      "0.0\n",
      "0.0\n",
      "0.0\n",
      "0.0\n",
      "0.0\n",
      "-0.0\n",
      "0.0\n",
      "-0.0\n",
      "0.0\n",
      "0.0\n",
      "0.0\n",
      "0.0\n",
      "0.0\n",
      "-0.0\n",
      "0.0\n",
      "-0.0\n",
      "0.0\n",
      "15\n",
      "-8.795543793916359e-19\n",
      "-8.795543793916359e-19\n",
      "-0.0\n",
      "-8.795543793916359e-19\n",
      "-8.785970022691432e-19\n",
      "-1.758151381660779e-18\n",
      "-0.0\n",
      "-1.758151381660779e-18\n",
      "-6.326689732035066e-19\n",
      "-2.3908203548642856e-18\n",
      "-0.0\n",
      "-2.3908203548642856e-18\n",
      "-3.3573489191485355e-19\n",
      "-2.726555246779139e-18\n",
      "-0.0\n",
      "-2.726555246779139e-18\n",
      "-1.3271073405902696e-19\n",
      "-2.859265980838166e-18\n",
      "-0.0\n",
      "-2.859265980838166e-18\n",
      "-3.803210008611823e-20\n",
      "-2.8972980809242843e-18\n",
      "-0.0\n",
      "-2.8972980809242843e-18\n",
      "-6.78193094845324e-21\n",
      "-2.9040800118727375e-18\n",
      "-0.0\n",
      "-2.9040800118727375e-18\n",
      "16\n",
      "-0.0\n",
      "0.0\n",
      "-0.0\n",
      "0.0\n",
      "0.0\n",
      "0.0\n",
      "0.0\n",
      "0.0\n",
      "-0.0\n",
      "0.0\n",
      "-0.0\n",
      "0.0\n",
      "0.0\n",
      "0.0\n",
      "0.0\n",
      "0.0\n",
      "-0.0\n",
      "0.0\n",
      "-0.0\n",
      "0.0\n",
      "0.0\n",
      "0.0\n",
      "0.0\n",
      "0.0\n",
      "-0.0\n",
      "0.0\n",
      "-0.0\n",
      "0.0\n",
      "0.0\n",
      "0.0\n"
     ]
    },
    {
     "ename": "LoadError",
     "evalue": "LoadError: UndefVarError: Taylor1 not defined\nwhile loading In[7], in expression starting on line 2",
     "output_type": "error",
     "traceback": [
      "LoadError: UndefVarError: Taylor1 not defined\nwhile loading In[7], in expression starting on line 2",
      "",
      " in Polinomio(::Int64, ::Float64, ::Float64) at ./In[6]:74"
     ]
    }
   ],
   "source": [
    "#con esta funcion ya tenemos dos listas y dos polinomios\n",
    "a,b,A,B=Polinomio(17,8e-2,0.3)   \n",
    "print(alpha,b)\n",
    "\n",
    "\n"
   ]
  },
  {
   "cell_type": "code",
   "execution_count": 8,
   "metadata": {
    "collapsed": false
   },
   "outputs": [
    {
     "name": "stdout",
     "output_type": "stream",
     "text": [
      "2\n",
      "-0.0\n",
      "0.0\n",
      "3\n",
      "-0.0035079341083137003\n",
      "-0.0035079341083137003\n",
      "-0.0\n",
      "-0.0035079341083137003\n",
      "4\n",
      "-0.0\n",
      "0.0\n",
      "-0.0\n",
      "0.0\n",
      "0.0\n",
      "0.0\n",
      "5\n",
      "1.5046324265216157e-5\n",
      "1.5046324265216157e-5\n",
      "-0.0\n",
      "1.5046324265216157e-5\n",
      "6.499492123203525e-6\n",
      "2.154581638841968e-5\n",
      "-0.0\n",
      "2.154581638841968e-5\n",
      "6\n",
      "-0.0\n",
      "0.0\n",
      "0.0\n",
      "0.0\n",
      "0.0\n",
      "0.0\n",
      "-0.0\n",
      "0.0\n",
      "-0.0\n",
      "0.0\n"
     ]
    },
    {
     "ename": "LoadError",
     "evalue": "LoadError: UndefVarError: Taylor1 not defined\nwhile loading In[8], in expression starting on line 1",
     "output_type": "error",
     "traceback": [
      "LoadError: UndefVarError: Taylor1 not defined\nwhile loading In[8], in expression starting on line 1",
      "",
      " in Polinomio(::Int64, ::Float64, ::Float64) at ./In[6]:74"
     ]
    }
   ],
   "source": [
    "a,b,A,B,alpha,beta=Polinomio(7,8e-2,0.3)   \n",
    "print(alpha,beta,b,a)\n"
   ]
  },
  {
   "cell_type": "code",
   "execution_count": 9,
   "metadata": {
    "collapsed": false
   },
   "outputs": [
    {
     "data": {
      "text/plain": [
       "evaluar (generic function with 1 method)"
      ]
     },
     "execution_count": 9,
     "metadata": {},
     "output_type": "execute_result"
    }
   ],
   "source": [
    "#aquí lo que hacemos es evaluar el polinomio en un intervalo de tiempo\n",
    "function evaluar(Tiempo, paso,A,B)\n",
    "    ValX=Float64[]\n",
    "    \n",
    "    ValY=Float64[]\n",
    "\n",
    "    for t = 0:paso:Tiempo\n",
    "        x = mod2pi(evaluate(A,t))\n",
    "        y = mod2pi(evaluate(B,t))\n",
    "        push!(ValX,x)\n",
    "        push!(ValY,y)\n",
    "        \n",
    "    end\n",
    "    p = plot(ValX,ValY,color=\"red\",linestyle=\"-\",marker=\".\")\n",
    "    \n",
    "end"
   ]
  },
  {
   "cell_type": "code",
   "execution_count": 10,
   "metadata": {
    "collapsed": false
   },
   "outputs": [
    {
     "data": {
      "text/plain": [
       "MapEstandar (generic function with 1 method)"
      ]
     },
     "execution_count": 10,
     "metadata": {},
     "output_type": "execute_result"
    }
   ],
   "source": [
    "function MapEstandar(theta, p, k) #Definimos el mapeo estandar\n",
    "    theta_n = mod2pi(theta + p)\n",
    "    p_n = mod2pi(p +k*sin(theta_n))\n",
    "    return theta_n, p_n\n",
    "end"
   ]
  },
  {
   "cell_type": "code",
   "execution_count": 11,
   "metadata": {
    "collapsed": false
   },
   "outputs": [
    {
     "data": {
      "text/plain": [
       "iterarMap (generic function with 1 method)"
      ]
     },
     "execution_count": 11,
     "metadata": {},
     "output_type": "execute_result"
    }
   ],
   "source": [
    "\n",
    "function iterarMap(f,theta_i,p_i,n, k)   #Definimos una función para iterar el mapeo\n",
    "\n",
    "    x = theta_i                      #    \n",
    "                                     #Damos condiciones iniciales\n",
    "    y = p_i                          #\n",
    "\n",
    "    iteradosMX = [theta_i]\n",
    "\n",
    "    iteradosMY = [p_i]               #Definimos dos listas que tendran los valores de cada par ordenado de theta y P, y agregamos las condiciones iniciales\n",
    "\n",
    "    for i=0:n              #iniciamos un ciclo de iteraciones donde se calculan x_n, y_n y se agregan a lalista correspodiente            \n",
    "\n",
    "        x,y = f(theta_i,p_i, k)\n",
    "        \n",
    "        push!(iteradosMX,x)\n",
    "        \n",
    "        push!(iteradosMY,y)\n",
    "            \n",
    "\n",
    "        theta_i = x\n",
    "\n",
    "        p_i = y\n",
    "    end\n",
    "\n",
    "    return iteradosMX, iteradosMY   #La funcion iterados regresa las listas que corresponden a la trayectoria del \n",
    "end"
   ]
  },
  {
   "cell_type": "code",
   "execution_count": 12,
   "metadata": {
    "collapsed": false
   },
   "outputs": [
    {
     "data": {
      "text/plain": [
       "graficarMap (generic function with 1 method)"
      ]
     },
     "execution_count": 12,
     "metadata": {},
     "output_type": "execute_result"
    }
   ],
   "source": [
    "function graficarMap(epsilon)\n",
    "    n = 100\n",
    "    s=2pi/18\n",
    "\n",
    "    for theta_i=0:s:2pi\n",
    "        for p_i =0:s:2pi\n",
    "            t,p = iterarMap(MapEstandar,theta_i,p_i,n, epsilon)\n",
    "            p = scatter(p,t,marker=\".\")\n",
    "        end\n",
    "    end\n",
    "    \n",
    "end\n"
   ]
  },
  {
   "cell_type": "code",
   "execution_count": 13,
   "metadata": {
    "collapsed": false
   },
   "outputs": [
    {
     "data": {
      "text/plain": [
       "Graficar (generic function with 1 method)"
      ]
     },
     "execution_count": 13,
     "metadata": {},
     "output_type": "execute_result"
    }
   ],
   "source": [
    "function Graficar(Tiempo, paso, epsilon,A,B)\n",
    "    graficarMap(epsilon)\n",
    "    evaluar(Tiempo,paso,A,B)\n",
    "end"
   ]
  },
  {
   "cell_type": "code",
   "execution_count": 14,
   "metadata": {
    "collapsed": false
   },
   "outputs": [
    {
     "ename": "LoadError",
     "evalue": "LoadError: UndefVarError: A not defined\nwhile loading In[14], in expression starting on line 2",
     "output_type": "error",
     "traceback": [
      "LoadError: UndefVarError: A not defined\nwhile loading In[14], in expression starting on line 2",
      ""
     ]
    }
   ],
   "source": [
    "\n",
    "Graficar(18,0.125,0.3,A,B)\n",
    "print(A,B)"
   ]
  },
  {
   "cell_type": "markdown",
   "metadata": {},
   "source": [
    "Ahora definiremos una función para el error de la función parametrizada con respecto a la variedad, esta función error debe depender en principio de el orden del polinomio usado. Para definir esta función usaremos la ecuación comohológica.\n",
    "$$(f\\circ P)(t)=(P \\circ \\lambda)(t)$$"
   ]
  },
  {
   "cell_type": "markdown",
   "metadata": {},
   "source": [
    "Lo que es análogo a resolver:\n",
    "$$(f\\circ P)(t)-(P\\circ \\lambda)(t)=0$$\n",
    "Con $\\lambda$ conocida, con P en el conjunto de todas las funciones en un espacio de Banach.Lo que nos da un conjunto de funciones \n",
    "$$P_{N}(t)=\\Sigma_{n=1}^{N}a_{n}t^{n}$$\n",
    "Que creemos se aproximan a P,o mejor dicho esperamos que P_{n} tienda a P cuando el grado del polinomio tiende a infinito. Por lo que dada una solución aproximada $K \\in C_{0}(U\\subset \\mathbb{R},\\mathbb{T})$de la ecuación comohológica podemos definir una función error que nos dirá que tan bien aproximación es nuesta solución.\n",
    "$$E(K)=f\\circ K-K\\circ f$$\n",
    "Donde la norma de esta función nos dirá que tan buena es la solución, es decir una solución P verdadera (no aproximada) nos daría que $\\parallel E(P)\\parallel_{C_{0}}=0 $.\n"
   ]
  },
  {
   "cell_type": "markdown",
   "metadata": {},
   "source": [
    "Aquí es donde tengo el error, las primeras funcioes representan las composiciones n la función cohomológica, Dado que Mapeo es una función que recibe dos cosas X y Y le puedo dar dos polinomios, esto sería como el $f\\circ P(t)$. Mientras que la función Pol recibe dos listas, que son los coeficientes del polinomio, es decir representa la parte de $P\\circ \\lambda(t)$. Amas funciones regresan polinomios. La función Err lo que hace es tomar los polinomios que ya calculamos y restarlos, para después ealuar el polinomio que queda, tomar el valor más pequeño y añadirlo a una lista que será graficada."
   ]
  },
  {
   "cell_type": "code",
   "execution_count": 15,
   "metadata": {
    "collapsed": false
   },
   "outputs": [
    {
     "data": {
      "text/plain": [
       "Mapeo (generic function with 1 method)"
      ]
     },
     "execution_count": 15,
     "metadata": {},
     "output_type": "execute_result"
    }
   ],
   "source": [
    "#definimos la función del mapeo, la cual recibe dos polinomios y les aplica el mapeo\n",
    "# como resultado regresa dos polinomios.\n",
    "function Mapeo(X,Y,ϵ)\n",
    "    x=X+ϵ*sin(Y)\n",
    "    y=X+Y+ϵ*sin(Y)\n",
    "    return x,y\n",
    "end"
   ]
  },
  {
   "cell_type": "code",
   "execution_count": 16,
   "metadata": {
    "collapsed": false
   },
   "outputs": [
    {
     "data": {
      "text/plain": [
       "PolinomioCohomo (generic function with 1 method)"
      ]
     },
     "execution_count": 16,
     "metadata": {},
     "output_type": "execute_result"
    }
   ],
   "source": [
    "#definimos la funcion para el polinomio, la cual recibe dos listas y les aplica la \n",
    "# composicion de funciones de manera directa, al final usa las listas para devolver un\n",
    "# polinomio.\n",
    "function PolinomioCohomo(X,Y,ϵ)\n",
    "    x=Float64[]\n",
    "    y=Float64[]\n",
    "    λ=1.0+ϵ/2.+(sqrt(ϵ*(4+ϵ)))/2.\n",
    "    for i=1:length(X)\n",
    "        push!(x,X[i]*λ^(i-1))\n",
    "        push!(y,Y[i]*λ^(i-1))\n",
    "    \n",
    "    end\n",
    "    x=Taylor1(x)\n",
    "    y=Taylor1(y)\n",
    "    return x,y\n",
    "end\n",
    "    \n",
    "        "
   ]
  },
  {
   "cell_type": "code",
   "execution_count": 17,
   "metadata": {
    "collapsed": false
   },
   "outputs": [
    {
     "data": {
      "text/plain": [
       "Err (generic function with 1 method)"
      ]
     },
     "execution_count": 17,
     "metadata": {},
     "output_type": "execute_result"
    }
   ],
   "source": [
    "#ya que tenemos las dos composiciones cada una con dos polinomios podemos calcular el error,\n",
    "# aquí la función Err recibe como entrada los 4 polinomios, el tiempo y el paso del tiempo,\n",
    "# regresa una gráfica con los valores del error definido como ya se explico, se usa la norma\n",
    "# infinito para ello. \n",
    "function Err(P1,P2,K1,K2,T,paso)\n",
    "    Val=Float64[]\n",
    "    Tiem=Float64[]\n",
    "    E1=P1-K1\n",
    "    E2=P2-K2\n",
    "    for t = 0:paso:T\n",
    "        x = evaluate(E1,t)\n",
    "        y = evaluate(E2,t)\n",
    "        E=[x,y]\n",
    "        norma = norm(E,Inf)\n",
    "    \n",
    "        push!(Val,norma)\n",
    "        push!(Tiem,t)\n",
    "    \n",
    "    end\n",
    "    return Tiem,Val\n",
    "end"
   ]
  },
  {
   "cell_type": "code",
   "execution_count": 18,
   "metadata": {
    "collapsed": false
   },
   "outputs": [
    {
     "data": {
      "text/plain": [
       "ErrorE (generic function with 1 method)"
      ]
     },
     "execution_count": 18,
     "metadata": {},
     "output_type": "execute_result"
    }
   ],
   "source": [
    "#Esta es una función que calcula todos los pasos anteriores, dado un polinomio\n",
    "# calcula las dos composicioes y luego los evalúa para encntrar el error.\n",
    "function ErrorE(a,b,A,B,ϵ,T,paso)\n",
    "    \n",
    "    Xn,Yn=Mapeo(A,B,ϵ)\n",
    "    Xnn,Ynn=PolinomioCohomo(a,b,ϵ)\n",
    "    Tiempo,valor=Err(Xn,Yn,Xnn,Ynn,T,paso)\n",
    "    return Tiempo, valor\n",
    "end"
   ]
  },
  {
   "cell_type": "markdown",
   "metadata": {},
   "source": [
    "Aqui tenemos 4 polinomios de diferente orden con los mismos datos. A los que les calculamos el error.Se ve que el error crece muy rápido y casi de manera exponencial."
   ]
  },
  {
   "cell_type": "markdown",
   "metadata": {
    "collapsed": true
   },
   "source": [
    "Trataremos ahora de hace una función que simplifique el proceso anterior, es decir a la que solo le demos los datos iniciales o fundamentales y nos muestre la variedad calculada y el error. "
   ]
  },
  {
   "cell_type": "code",
   "execution_count": 19,
   "metadata": {
    "collapsed": false
   },
   "outputs": [
    {
     "data": {
      "text/plain": [
       "CalculoVariedad (generic function with 1 method)"
      ]
     },
     "execution_count": 19,
     "metadata": {},
     "output_type": "execute_result"
    }
   ],
   "source": [
    "function CalculoVariedad(a_1,epsilon,orden,Tiempo,paso,tiempoErr,pasoErr)\n",
    "\n",
    "    a,b,A,B=Polinomio(orden,a_1,epsilon)\n",
    "    Graficar(Tiempo,paso,epsilon,A,B)\n",
    "    x1,y1=ErrorE(a,b,A,B,epsilon,tiempoErr,pasoErr)\n",
    "\n",
    "    return A,B,x1,y1\n",
    "end\n",
    "    \n",
    "    \n",
    "    "
   ]
  },
  {
   "cell_type": "code",
   "execution_count": 20,
   "metadata": {
    "collapsed": false,
    "scrolled": true
   },
   "outputs": [
    {
     "name": "stdout",
     "output_type": "stream",
     "text": [
      "2\n",
      "-0.0\n",
      "0.0\n",
      "3\n",
      "-0.0035079341083137003\n",
      "-0.0035079341083137003\n",
      "-0.0\n",
      "-0.0035079341083137003\n",
      "4\n",
      "-0.0\n",
      "0.0\n",
      "-0.0\n",
      "0.0\n",
      "0.0\n",
      "0.0\n",
      "5\n",
      "1.5046324265216157e-5\n",
      "1.5046324265216157e-5\n",
      "-0.0\n",
      "1.5046324265216157e-5\n",
      "6.499492123203525e-6\n",
      "2.154581638841968e-5\n",
      "-0.0\n",
      "2.154581638841968e-5\n",
      "6\n",
      "-0.0\n",
      "0.0\n",
      "0.0\n",
      "0.0\n",
      "0.0\n",
      "0.0\n",
      "-0.0\n",
      "0.0\n",
      "-0.0\n",
      "0.0\n",
      "7\n",
      "-4.461387503100887e-8\n",
      "-4.461387503100887e-8\n",
      "-0.0\n",
      "-4.461387503100887e-8\n",
      "-2.787779445833114e-8\n",
      "-7.249166948934001e-8\n",
      "-0.0\n",
      "-7.249166948934001e-8\n",
      "-9.30537022956272e-9\n",
      "-8.179703971890273e-8\n",
      "-0.0\n",
      "-8.179703971890273e-8\n",
      "8\n",
      "-0.0\n",
      "0.0\n",
      "-0.0\n",
      "0.0\n",
      "0.0\n",
      "0.0\n",
      "0.0\n",
      "0.0\n",
      "-0.0\n",
      "0.0\n",
      "-0.0\n",
      "0.0\n",
      "0.0\n",
      "0.0\n",
      "9\n",
      "1.0968203878588256e-10\n",
      "1.0968203878588256e-10\n",
      "-0.0\n",
      "1.0968203878588256e-10\n",
      "8.266048346302002e-11\n",
      "1.923425222489026e-10\n",
      "-0.0\n",
      "1.923425222489026e-10\n",
      "3.9912841449919536e-11\n",
      "2.3225536369882214e-10\n",
      "-0.0\n",
      "2.3225536369882214e-10\n",
      "1.0737727815201019e-11\n",
      "2.429930915140232e-10\n",
      "-0.0\n",
      "2.429930915140232e-10\n",
      "10\n",
      "-0.0\n",
      "0.0\n",
      "0.0\n",
      "0.0\n",
      "0.0\n",
      "0.0\n",
      "-0.0\n",
      "0.0\n",
      "-0.0\n",
      "0.0\n",
      "0.0\n",
      "0.0\n",
      "0.0\n",
      "0.0\n",
      "-0.0\n",
      "0.0\n",
      "-0.0\n",
      "0.0\n",
      "11\n",
      "-2.385032530271157e-13\n",
      "-2.385032530271157e-13\n",
      "-0.0\n",
      "-2.385032530271157e-13\n",
      "-2.0321862530320863e-13\n",
      "-4.4172187833032435e-13\n",
      "-0.0\n",
      "-4.4172187833032435e-13\n",
      "-1.1834561645701711e-13\n",
      "-5.600674947873415e-13\n",
      "-0.0\n",
      "-5.600674947873415e-13\n",
      "-4.605654769747391e-14\n",
      "-6.061240424848154e-13\n",
      "-0.0\n",
      "-6.061240424848154e-13\n",
      "-1.0434881754194977e-14\n",
      "-6.165589242390103e-13\n",
      "-0.0\n",
      "-6.165589242390103e-13\n",
      "12\n",
      "-0.0\n",
      "0.0\n",
      "-0.0\n",
      "0.0\n",
      "0.0\n",
      "0.0\n",
      "0.0\n",
      "0.0\n",
      "-0.0\n",
      "0.0\n",
      "-0.0\n",
      "0.0\n",
      "0.0\n",
      "0.0\n",
      "0.0\n",
      "0.0\n",
      "-0.0\n",
      "0.0\n",
      "-0.0\n",
      "0.0\n",
      "0.0\n",
      "0.0\n",
      "13\n",
      "4.742001887684396e-16\n",
      "4.742001887684396e-16\n",
      "-0.0\n",
      "4.742001887684396e-16\n",
      "4.418982701910922e-16\n",
      "9.160984589595318e-16\n",
      "-0.0\n",
      "9.160984589595318e-16\n",
      "2.909495865435521e-16\n",
      "1.207048045503084e-15\n",
      "-0.0\n",
      "1.207048045503084e-15\n",
      "1.3656232759019842e-16\n",
      "1.3436103730932823e-15\n",
      "-0.0\n",
      "1.3436103730932823e-15\n",
      "4.4757572318905354e-17\n",
      "1.3883679454121876e-15\n",
      "-0.0\n",
      "1.3883679454121876e-15\n",
      "8.866889929477267e-18\n",
      "1.3972348353416649e-15\n",
      "-0.0\n",
      "1.3972348353416649e-15\n",
      "14\n",
      "-0.0\n",
      "0.0\n",
      "0.0\n",
      "0.0\n",
      "0.0\n",
      "0.0\n",
      "-0.0\n",
      "0.0\n",
      "-0.0\n",
      "0.0\n",
      "0.0\n",
      "0.0\n",
      "0.0\n",
      "0.0\n",
      "-0.0\n",
      "0.0\n",
      "-0.0\n",
      "0.0\n",
      "0.0\n",
      "0.0\n",
      "0.0\n",
      "0.0\n",
      "-0.0\n",
      "0.0\n",
      "-0.0\n",
      "0.0\n",
      "15\n",
      "-8.795543793916359e-19\n",
      "-8.795543793916359e-19\n",
      "-0.0\n",
      "-8.795543793916359e-19\n",
      "-8.785970022691432e-19\n",
      "-1.758151381660779e-18\n",
      "-0.0\n",
      "-1.758151381660779e-18\n",
      "-6.326689732035066e-19\n",
      "-2.3908203548642856e-18\n",
      "-0.0\n",
      "-2.3908203548642856e-18\n",
      "-3.3573489191485355e-19\n",
      "-2.726555246779139e-18\n",
      "-0.0\n",
      "-2.726555246779139e-18\n",
      "-1.3271073405902696e-19\n",
      "-2.859265980838166e-18\n",
      "-0.0\n",
      "-2.859265980838166e-18\n",
      "-3.803210008611823e-20\n",
      "-2.8972980809242843e-18\n",
      "-0.0\n",
      "-2.8972980809242843e-18\n",
      "-6.78193094845324e-21\n",
      "-2.9040800118727375e-18\n",
      "-0.0\n",
      "-2.9040800118727375e-18\n",
      "16\n",
      "-0.0\n",
      "0.0\n",
      "-0.0\n",
      "0.0\n",
      "0.0\n",
      "0.0\n",
      "0.0\n",
      "0.0\n",
      "-0.0\n",
      "0.0\n",
      "-0.0\n",
      "0.0\n",
      "0.0\n",
      "0.0\n",
      "0.0\n",
      "0.0\n",
      "-0.0\n",
      "0.0\n",
      "-0.0\n",
      "0.0\n",
      "0.0\n",
      "0.0\n",
      "0.0\n",
      "0.0\n",
      "-0.0\n",
      "0.0\n",
      "-0.0\n",
      "0.0\n",
      "0.0\n",
      "0.0\n",
      "17\n",
      "1.542343004276326e-21\n",
      "1.542343004276326e-21\n",
      "-0.0\n",
      "1.542343004276326e-21\n",
      "1.6296362999626457e-21\n",
      "3.1719793042389715e-21\n",
      "-0.0\n",
      "3.1719793042389715e-21\n",
      "1.2578937298055594e-21\n",
      "4.429873034044531e-21\n",
      "-0.0\n",
      "4.429873034044531e-21\n",
      "7.300544807770856e-22\n",
      "5.1599275148216164e-21\n",
      "-0.0\n",
      "5.1599275148216164e-21\n",
      "3.262658504836893e-22\n",
      "5.4861933653053055e-21\n",
      "-0.0\n",
      "5.4861933653053055e-21\n",
      "1.1276902787024475e-22\n",
      "5.5989623931755504e-21\n",
      "-0.0\n",
      "5.5989623931755504e-21\n",
      "2.9089238578596216e-23\n",
      "5.628051631754147e-21\n",
      "-0.0\n",
      "5.628051631754147e-21\n",
      "4.7700067317310525e-24\n",
      "5.6328216384858776e-21\n",
      "-0.0\n",
      "5.6328216384858776e-21\n",
      "18\n",
      "-0.0\n",
      "0.0\n",
      "0.0\n",
      "0.0\n",
      "0.0\n",
      "0.0\n",
      "-0.0\n",
      "0.0\n",
      "-0.0\n",
      "0.0\n",
      "0.0\n",
      "0.0\n",
      "0.0\n",
      "0.0\n",
      "-0.0\n",
      "0.0\n",
      "-0.0\n",
      "0.0\n",
      "0.0\n",
      "0.0\n",
      "0.0\n",
      "0.0\n",
      "-0.0\n",
      "0.0\n",
      "-0.0\n",
      "0.0\n",
      "0.0\n",
      "0.0\n",
      "0.0\n",
      "0.0\n",
      "-0.0\n",
      "0.0\n",
      "-0.0\n",
      "0.0\n",
      "19\n",
      "-2.581026284092389e-24\n",
      "-2.581026284092389e-24\n",
      "-0.0\n",
      "-2.581026284092389e-24\n",
      "-2.8576495162250617e-24\n",
      "-5.438675800317451e-24\n",
      "-0.0\n",
      "-5.438675800317451e-24\n",
      "-2.3331621645558368e-24\n",
      "-7.771837964873288e-24\n",
      "-0.0\n",
      "-7.771837964873288e-24\n",
      "-1.45151887113414e-24\n",
      "-9.223356836007429e-24\n",
      "-0.0\n",
      "-9.223356836007429e-24\n",
      "-7.094640795648144e-25\n",
      "-9.932820915572243e-24\n",
      "-0.0\n",
      "-9.932820915572243e-24\n",
      "-2.772396901213707e-25\n",
      "-1.0210060605693614e-23\n",
      "-0.0\n",
      "-1.0210060605693614e-23\n",
      "-8.625253794994227e-26\n",
      "-1.0296313143643556e-23\n",
      "-0.0\n",
      "-1.0296313143643556e-23\n",
      "-2.0459639724359142e-26\n",
      "-1.0316772783367915e-23\n",
      "-0.0\n",
      "-1.0316772783367915e-23\n",
      "-3.133632374793003e-27\n",
      "-1.0319906415742708e-23\n",
      "-0.0\n",
      "-1.0319906415742708e-23\n"
     ]
    },
    {
     "ename": "LoadError",
     "evalue": "LoadError: UndefVarError: Taylor1 not defined\nwhile loading In[20], in expression starting on line 1",
     "output_type": "error",
     "traceback": [
      "LoadError: UndefVarError: Taylor1 not defined\nwhile loading In[20], in expression starting on line 1",
      "",
      " in Polinomio(::Int64, ::Float64, ::Float64) at ./In[6]:74",
      " in CalculoVariedad(::Float64, ::Float64, ::Int64, ::Int64, ::Float64, ::Int64, ::Float64) at ./In[19]:3"
     ]
    }
   ],
   "source": [
    "P1,P2,e1,e2=CalculoVariedad(8e-2,.3,20,20,0.125,40,.1)\n"
   ]
  },
  {
   "cell_type": "code",
   "execution_count": 21,
   "metadata": {
    "collapsed": false
   },
   "outputs": [
    {
     "ename": "LoadError",
     "evalue": "LoadError: UndefVarError: plot not defined\nwhile loading In[21], in expression starting on line 1",
     "output_type": "error",
     "traceback": [
      "LoadError: UndefVarError: plot not defined\nwhile loading In[21], in expression starting on line 1",
      ""
     ]
    }
   ],
   "source": [
    "plot(e1,e2)"
   ]
  },
  {
   "cell_type": "code",
   "execution_count": null,
   "metadata": {
    "collapsed": true
   },
   "outputs": [],
   "source": []
  },
  {
   "cell_type": "code",
   "execution_count": null,
   "metadata": {
    "collapsed": true
   },
   "outputs": [],
   "source": []
  }
 ],
 "metadata": {
  "kernelspec": {
   "display_name": "Julia 0.5.2",
   "language": "julia",
   "name": "julia-0.5"
  },
  "language_info": {
   "file_extension": ".jl",
   "mimetype": "application/julia",
   "name": "julia",
   "version": "0.5.2"
  }
 },
 "nbformat": 4,
 "nbformat_minor": 0
}
