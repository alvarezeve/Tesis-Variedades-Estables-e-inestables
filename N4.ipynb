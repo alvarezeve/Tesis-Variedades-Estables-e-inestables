{
 "cells": [
  {
   "cell_type": "markdown",
   "metadata": {},
   "source": [
    "# Listos para calcular las relaciones de recurrencia"
   ]
  },
  {
   "cell_type": "markdown",
   "metadata": {},
   "source": [
    "Las relaciones de recurrencia se obtienen de proponer que las variables $$\\theta, x$$  se pueden escribir como polinomios de grado n. Con ello y utilizando la series de las funciones trigonométricas se obtuvieron las siguientes expresiones.\n",
    "$$\\alpha_{n+1}=\\frac{-1}{n+1}\\Sigma_{k=0}^{n}(k+1)\\beta_{n-k}b_{k+1}$$\n",
    "$$\\beta_{n+1}=\\frac{1}{n+1}\\Sigma_{k=0}^{n}(k+1)\\alpha_{n-k}b_{k+1}$$"
   ]
  },
  {
   "cell_type": "markdown",
   "metadata": {},
   "source": [
    "Usando estás para el cálculo de las constantes de los polinomios para $$x y \\theta$$ se tiene que \n",
    "$$a_{n+1}=\\frac{-\\epsilon(1-\\lambda^{n+1})}{(n+1)[(1-\\lambda^{n+1})(1+\\epsilon-\\lambda^{n+1})-\\epsilon]}\\Sigma_{k=0}^{n-1}(k+1)\\alpha_{n-k}\\beta_{k+1}$$\n",
    "$$b_{n+1}=\\frac{\\epsilon\\lambda^{n+1}}{(n+1)[(1-\\lambda^{n+1})(1+\\epsilon-\\lambda^{n+1})-\\epsilon]}\\Sigma_{k=0}^{n-1}(k+1)\\alpha_{n-k}b_{k+1}$$"
   ]
  },
  {
   "cell_type": "markdown",
   "metadata": {},
   "source": [
    "Usando las condiciones :\n",
    "$$a_{0}=b_{0}=\\beta_{0}=0$$\n",
    "$$\\alpha_{0}=1$$"
   ]
  },
  {
   "cell_type": "code",
   "execution_count": 1,
   "metadata": {
    "collapsed": false
   },
   "outputs": [
    {
     "name": "stderr",
     "output_type": "stream",
     "text": [
      "INFO: Recompiling stale cache file /home/intel/.julia/lib/v0.4/PyCall.ji for module PyCall.\n",
      "INFO: Recompiling stale cache file /home/intel/.julia/lib/v0.4/SymPy.ji for module SymPy.\n"
     ]
    }
   ],
   "source": [
    "#Usando epsilon=0.3 y las condiciones anteriores\n",
    "using(SymPy)\n",
    "\n",
    "\n",
    "\n"
   ]
  },
  {
   "cell_type": "code",
   "execution_count": 2,
   "metadata": {
    "collapsed": false
   },
   "outputs": [
    {
     "data": {
      "text/plain": [
       "0.3"
      ]
     },
     "execution_count": 2,
     "metadata": {},
     "output_type": "execute_result"
    }
   ],
   "source": [
    "#Definimos la primera parte de datos\n",
    "a_0=0.0\n",
    "b_0=0.0\n",
    "beta_0=0.0\n",
    "alpha_0=1.0\n",
    "a_1 = 0.3\n",
    "\n"
   ]
  },
  {
   "cell_type": "code",
   "execution_count": 3,
   "metadata": {
    "collapsed": false
   },
   "outputs": [
    {
     "name": "stdout",
     "output_type": "stream",
     "text": [
      "[1.0]\n"
     ]
    }
   ],
   "source": [
    "#Calculamos a_2 b_2\n",
    "a=Float64[]\n",
    "b=Float64[]\n",
    "beta=Float64[]\n",
    "alpha=Float64[]\n",
    "\n",
    "push!(a,a_0)\n",
    "push!(b,b_0)\n",
    "\n",
    "push!(alpha,alpha_0)\n",
    "push!(beta,beta_0)\n",
    "\n",
    "push!(a,a_1)\n",
    "\n",
    "p=0.3\n",
    "l=1+p/2.+((p*(4+p))^.5)/2\n",
    "b_1 = a_1*(.5+(4*p+p^2)^.5/(2*p))\n",
    "push!(b,b_1)\n",
    "#println(a,b,alpha,beta)\n",
    "println(alpha)\n",
    "\n",
    "\n",
    "\n",
    "        \n",
    "    "
   ]
  },
  {
   "cell_type": "code",
   "execution_count": 4,
   "metadata": {
    "collapsed": false
   },
   "outputs": [
    {
     "name": "stdout",
     "output_type": "stream",
     "text": [
      "[0.0,0.3][0.0,0.7178908345800273][1.0,-0.0][0.0,0.7178908345800273]\n"
     ]
    }
   ],
   "source": [
    "\n",
    "alpha_1=-beta_0*b_1\n",
    "push!(alpha,alpha_1)\n",
    "beta_1=alpha_0*b_1\n",
    "push!(beta,beta_1)\n",
    "\n",
    "println(a,b,alpha,beta)\n"
   ]
  },
  {
   "cell_type": "code",
   "execution_count": 5,
   "metadata": {
    "collapsed": false
   },
   "outputs": [
    {
     "data": {
      "text/plain": [
       "(1.0,0.7178908345800273)"
      ]
     },
     "execution_count": 5,
     "metadata": {},
     "output_type": "execute_result"
    }
   ],
   "source": [
    "alpha[1],beta[2]"
   ]
  },
  {
   "cell_type": "code",
   "execution_count": 7,
   "metadata": {
    "collapsed": false
   },
   "outputs": [
    {
     "name": "stdout",
     "output_type": "stream",
     "text": [
      "[0.0,0.7178908345800273][0.0,0.7178908345800273,0.04839169764610904][0.0,0.7178908345800273,0.04839169764610904,0.0016689094235794264][0.0,0.7178908345800273,0.04839169764610904,0.0016689094235794264,3.146800207559475e-5][0.0,0.7178908345800273,0.04839169764610904,0.0016689094235794264,3.146800207559475e-5,-0.0007888219915633326][0.0,0.7178908345800273,0.04839169764610904,0.0016689094235794264,3.146800207559475e-5,-0.0007888219915633326,-0.0002756990967737093][0.0,0.7178908345800273,0.04839169764610904,0.0016689094235794264,3.146800207559475e-5,-0.0007888219915633326,-0.0002756990967737093,-2.899007672612291e-5][0.0,0.7178908345800273,0.04839169764610904,0.0016689094235794264,3.146800207559475e-5,-0.0007888219915633326,-0.0002756990967737093,-2.899007672612291e-5,-1.7027973841670479e-6][0.0,0.7178908345800273,0.04839169764610904,0.0016689094235794264,3.146800207559475e-5,-0.0007888219915633326,-0.0002756990967737093,-2.899007672612291e-5,-1.7027973841670479e-6,2.3319720476513825e-6]"
     ]
    }
   ],
   "source": [
    "for n = 2:100\n",
    "        SumSigmaA = 0.0\n",
    "        SumSigmaB = 0.0\n",
    "        SumA = 0.0\n",
    "        SumB = 0.0\n",
    "        nn=n-1\n",
    "     #@show(n, length(alpha), length(beta))\n",
    "    for k = 0:nn\n",
    "        SigmaA =(k+1)*alpha[n-k]*beta[k+1]\n",
    "        SumSigmaA = SigmaA+SumSigmaA\n",
    "    end\n",
    "    a_n = ((-p*(1-l^(n+1)))/((n+1)*((1-l^(n+1))*(1+p-l^(n+1))-p)))*SumSigmaA\n",
    "    push!(a,a_n)\n",
    "    print(b)\n",
    "    for k = 0:nn\n",
    "        SigmaB = (k+1)*alpha[n-k]*b[k+1]\n",
    "        SumSigmaB = SigmaB + SumSigmaB\n",
    "    end \n",
    "    b_n = ((p*(l^(n+1)))/((n+1)*((1-l^(n+1))*(1+p-l^(n+1))-p)))*SumSigmaB\n",
    "    push!(b,b_n)\n",
    "    for k = 0:nn\n",
    "        SA = (k+1)*beta[n-k]*b[k+1]\n",
    "        SumA = SA + SumA\n",
    "    end\n",
    "    alpha_n = ((-1)/(n+1))*SumA\n",
    "    push!(alpha,alpha_n)\n",
    "    for k = 0:nn\n",
    "        SB = (k+1)*alpha[n-k]*b[k+1]\n",
    "        SumB = SB +SumB\n",
    "    end\n",
    "    beta_n = (1/(n+1))*SumB\n",
    "    push!(beta,beta_n)\n",
    "    \n",
    "    \n",
    "end\n",
    "    "
   ]
  },
  {
   "cell_type": "code",
   "execution_count": 10,
   "metadata": {
    "collapsed": false
   },
   "outputs": [
    {
     "name": "stderr",
     "output_type": "stream",
     "text": [
      "INFO: Cloning cache of LaTeXStrings from git://github.com/stevengj/LaTeXStrings.jl.git\n",
      "INFO: Cloning cache of PyPlot from git://github.com/stevengj/PyPlot.jl.git\n",
      "INFO: Installing LaTeXStrings v0.1.6\n",
      "INFO: Installing PyPlot v2.1.1\n",
      "INFO: Building PyCall\n",
      "INFO: PyCall is using /usr/bin/python (Python 2.7.6) at /usr/bin/python, libpython = libpython2.7\n",
      "INFO: Package database updated\n",
      "INFO: METADATA is out-of-date — you may not have the latest version of PyPlot\n",
      "INFO: Use `Pkg.update()` to get the latest versions of your packages\n"
     ]
    }
   ],
   "source": [
    "Pkg.add(\"PyPlot\")\n"
   ]
  },
  {
   "cell_type": "code",
   "execution_count": null,
   "metadata": {
    "collapsed": true
   },
   "outputs": [],
   "source": []
  }
 ],
 "metadata": {
  "kernelspec": {
   "display_name": "Julia 0.4.5",
   "language": "julia",
   "name": "julia-0.4"
  },
  "language_info": {
   "file_extension": ".jl",
   "mimetype": "application/julia",
   "name": "julia",
   "version": "0.4.5"
  }
 },
 "nbformat": 4,
 "nbformat_minor": 0
}
