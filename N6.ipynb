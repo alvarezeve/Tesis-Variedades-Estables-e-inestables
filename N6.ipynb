{
 "cells": [
  {
   "cell_type": "markdown",
   "metadata": {},
   "source": [
    "Comenzaremos a definir funciones para poder implementar el método que ya vimos con el mapeo estándar."
   ]
  },
  {
   "cell_type": "code",
   "execution_count": 1,
   "metadata": {
    "collapsed": false
   },
   "outputs": [],
   "source": [
    "using TaylorSeries"
   ]
  },
  {
   "cell_type": "code",
   "execution_count": 2,
   "metadata": {
    "collapsed": false
   },
   "outputs": [
    {
     "data": {
      "text/plain": [
       "StandarMap (generic function with 1 method)"
      ]
     },
     "execution_count": 2,
     "metadata": {},
     "output_type": "execute_result"
    }
   ],
   "source": [
    "# necesitamos tambien definir el mapeo standar \n",
    "function StandarMap(x,p,k)\n",
    "    \n",
    "    x_n = mod2pi(x+p)\n",
    "    p_n = mod2pi(p+k*sin(x_n))\n",
    "    \n",
    "    return [x_n,p_n]\n",
    "    \n",
    "    \n",
    "end\n"
   ]
  },
  {
   "cell_type": "markdown",
   "metadata": {},
   "source": [
    "Defnimos una función llamada PolinimioTaylor que será la que cree el polinomio de grado n, en el que meteremos la \n",
    " información de los coeficientes. Esta fiunción también creará dos polinomios más que son TaylorN que seran las variables x y p del mapeo. Para hacerlo de manera más fácil separaremos los dos primeros términos ya que son muy particulares."
   ]
  },
  {
   "cell_type": "code",
   "execution_count": 3,
   "metadata": {
    "collapsed": false
   },
   "outputs": [
    {
     "data": {
      "text/plain": [
       "PolinomioTaylor1 (generic function with 1 method)"
      ]
     },
     "execution_count": 3,
     "metadata": {},
     "output_type": "execute_result"
    }
   ],
   "source": [
    "function PolinomioTaylor1(L,g,CX,CP)\n",
    "    if g == 1\n",
    "        t = Taylor1(L,g)\n",
    "        x,p = set_variables(Float64,\"x p\",order=g)\n",
    "        tx = evaluate(t,x)\n",
    "        tp = evaluate(t,p)\n",
    "        @show(g,x,p)\n",
    "    else\n",
    "        x,p = set_variables(Float64,\"x p\",order=g)\n",
    "        LX= push!(CX,x) \n",
    "        LP= push!(CP,p)\n",
    "        tx=Taylor1(LX,g)\n",
    "        tp=Taylor1(LP,g)\n",
    "        @show(tx,tp)\n",
    "    end\n",
    "    return tx,tp\n",
    "end\n",
    "    \n",
    "        \n",
    "        #donde L es un arreglo que contiene los coeficientes del polinomio, y g es el grado del polinomio"
   ]
  },
  {
   "cell_type": "markdown",
   "metadata": {},
   "source": [
    "Ahora con esa información necesitamos dos polinomios que son los que serán las variables x,p del mapeo , en este caso"
   ]
  },
  {
   "cell_type": "code",
   "execution_count": 4,
   "metadata": {
    "collapsed": false
   },
   "outputs": [
    {
     "name": "stdout",
     "output_type": "stream",
     "text": [
      "CX = TaylorSeries.TaylorN{Float64}[ 0.0 + 𝒪(‖x‖²)]\n",
      "CP = TaylorSeries.TaylorN{Float64}[ 0.0 + 𝒪(‖x‖²)]\n",
      "g = 1\n",
      "x =  1.0 x + 𝒪(‖x‖²)\n",
      "p =  1.0 p + 𝒪(‖x‖²)\n",
      "Est es después de aplicar PolTaylor\n",
      " CX = TaylorSeries.TaylorN{Float64}[ 0.0 + 𝒪(‖x‖²)]\n",
      "CP = TaylorSeries.TaylorN{Float64}[ 0.0 + 𝒪(‖x‖²)]\n",
      "t[1] =  1.0 x + 𝒪(‖x‖²)\n",
      "t[2] =  1.0 p + 𝒪(‖x‖²)\n",
      "Esto es JPO\n",
      "JPO = [1.0 1.0; 0.3 1.3]\n",
      "Esto es JPO[1,2]\n",
      "typeof(JPO) = Array{Float64,2}\n",
      "Esto es después de aplicar StandarMap\n",
      "CX = TaylorSeries.TaylorN{Float64}[ 0.0 + 𝒪(‖x‖²)]\n",
      "CP = TaylorSeries.TaylorN{Float64}[ 0.0 + 𝒪(‖x‖²)]\n",
      "Esto es JacFl\n",
      "ind = 1\n",
      "ind = 2\n",
      "ind = 3\n",
      "ind = 4\n",
      "vec1 = [-0.812346,-0.583176]\n",
      "CX = TaylorSeries.TaylorN{Float64}[ 0.0 + 𝒪(‖x‖²), - 0.8123460094785507 + 𝒪(‖x‖¹)]\n",
      "CP = TaylorSeries.TaylorN{Float64}[ 0.0 + 𝒪(‖x‖²), - 0.5831757547123116 + 𝒪(‖x‖¹)]\n"
     ]
    },
    {
     "data": {
      "text/plain": [
       "2-element Array{TaylorSeries.TaylorN{Float64},1}:\n",
       "                   0.0 + 𝒪(‖x‖²)\n",
       "  - 0.5831757547123116 + 𝒪(‖x‖¹)"
      ]
     },
     "execution_count": 4,
     "metadata": {},
     "output_type": "execute_result"
    }
   ],
   "source": [
    "#Calculamos el primer término del polinomio usando las funciones anteriores\n",
    "#definimos unas listas donde se guardarán los coeficientes  de todo el polinomio\n",
    "CX=[0.+TaylorN(0.,1)]\n",
    "CP=[0.+TaylorN(0.,1)] \n",
    "@show(CX,CP)\n",
    "# la razón por la cual estos arreglos son de tipo \"Array{TaylorSeries.TaylorN{Int64},1}\" \n",
    "#es para que haya consistencia entre los tipos de bichos que voy agregando, como al final de cada vector debo agregar\n",
    "# un TaylorN es conveniente que sea un cero especial.\n",
    "#para este caso en particular usamos la constante\n",
    "k = 0.3\n",
    "#esta lista nos ayuda a definir el primer polinomio, tal vez sea conveniente usar otra forma de generarlo,\n",
    "# ya que en otros casos usaremos otra\n",
    "L = [0.,1.]\n",
    "g=1\n",
    "#esta función genera el primer polinomio Taylor1, un TaylorN y sustituye uno dentro de otro para obtener el Taylor1.TaylorN\n",
    "# el primer dato de la función es la lista que contiene los coef. y el segundo dato es el orden del mismo\n",
    "t = PolinomioTaylor1(L,g,CX,CP)\n",
    "print(\"Est es después de aplicar PolTaylor\")\n",
    "print(\"\\n \")\n",
    "@show(CX,CP)\n",
    "@show(t[1],t[2])\n",
    "#Aquí solo aplicamos el mapeo  para el polinomio que creamos. Le calculamos el jacobiano para obtener sus eigenvectores\n",
    "Or1 = StandarMap(t[1],t[2],k)\n",
    "JPO = jacobian(Or1)\n",
    "print(\"Esto es JPO\")\n",
    "print(\"\\n\")\n",
    "@show(JPO)\n",
    "print(\"Esto es JPO[1,2]\")\n",
    "print(\"\\n\")\n",
    "@show(typeof(JPO))\n",
    "print(\"Esto es después de aplicar StandarMap\")\n",
    "print(\"\\n\")\n",
    "@show(CX,CP)\n",
    "\n",
    "#La matriz JacFl está deinida para obtener los valores de JPO como flotantes\n",
    "JacFl = Array{Float64}(2,2)\n",
    "print(\"Esto es JacFl\")\n",
    "print(\"\\n\")\n",
    "\n",
    "for ind in eachindex(JPO)\n",
    "    @show(ind)\n",
    "    JacFl[ind] = JPO[ind]\n",
    "end\n",
    "#Ahora ya podemos obtener los valores y vectores propios\n",
    "\n",
    "eigval,eigvec = eig(JacFl)\n",
    "#Usaremos el primer valor propio \n",
    "λ = eigval[2]\n",
    "vec1=eigvec[:,2]\n",
    "@show(vec1)\n",
    "CoefX,CoefP=eigvec[:,2]\n",
    "push!(CX,CoefX)\n",
    "push!(CP,CoefP)\n",
    "@show(CX,CP)\n",
    "\n",
    "\n",
    "\n",
    "\n"
   ]
  },
  {
   "cell_type": "code",
   "execution_count": 5,
   "metadata": {
    "collapsed": false
   },
   "outputs": [
    {
     "name": "stdout",
     "output_type": "stream",
     "text": [
      "tx =  ( - 0.8123460094785507 + 𝒪(‖x‖¹)) t + ( 1.0 x + 𝒪(‖x‖³)) t² + 𝒪(t³)\n",
      "tp =  ( - 0.5831757547123116 + 𝒪(‖x‖¹)) t + ( 1.0 p + 𝒪(‖x‖³)) t² + 𝒪(t³)\n"
     ]
    },
    {
     "data": {
      "text/plain": [
       "3-element Array{Float64,1}:\n",
       " 0.0    \n",
       " 1.71789\n",
       " 2.95115"
      ]
     },
     "execution_count": 5,
     "metadata": {},
     "output_type": "execute_result"
    }
   ],
   "source": [
    "#queremos calcular ahora el segundo término \n",
    "#En este paso estamos usando las listas de CX,CP que ya tienen dos elementos.\n",
    "g=2 # este es el orden del polinomio que queremos \n",
    "t=PolinomioTaylor1(L,g,CX,CP)\n",
    "# aplicamos el mapeo estándar y al resultado le llamamos Or2 por Orden2.\n",
    "Or2 = StandarMap(t[1],t[2],k)\n",
    "#definimos un arreglo de lambdas \n",
    "λarray=[0.,λ,λ^2]\n",
    "\n"
   ]
  },
  {
   "cell_type": "code",
   "execution_count": 6,
   "metadata": {
    "collapsed": false
   },
   "outputs": [
    {
     "data": {
      "text/plain": [
       " ( - 1.3955217641908624 + 𝒪(‖x‖¹)) t + ( 2.9511489195340634 x + 𝒪(‖x‖³)) t² + 𝒪(t³)"
      ]
     },
     "execution_count": 6,
     "metadata": {},
     "output_type": "execute_result"
    }
   ],
   "source": [
    "#y definimos también un polinomio para las lambdas\n",
    "xλt=Taylor1(λarray.*CX,2)\n"
   ]
  },
  {
   "cell_type": "code",
   "execution_count": 7,
   "metadata": {
    "collapsed": false
   },
   "outputs": [
    {
     "data": {
      "text/plain": [
       "2-element Array{TaylorSeries.Taylor1{TaylorSeries.TaylorN{Float64}},1}:\n",
       "  ( - 1.3955217641908624 + 𝒪(‖x‖¹)) t + ( 2.9511489195340634 x + 𝒪(‖x‖³)) t² + 𝒪(t³)\n",
       "  ( - 1.0018322839695704 + 𝒪(‖x‖¹)) t + ( 2.9511489195340634 p + 𝒪(‖x‖³)) t² + 𝒪(t³)"
      ]
     },
     "execution_count": 7,
     "metadata": {},
     "output_type": "execute_result"
    }
   ],
   "source": [
    "pλt=Taylor1(λarray.*CP,2)\n",
    "λvec=[xλt,pλt]\n"
   ]
  },
  {
   "cell_type": "code",
   "execution_count": 8,
   "metadata": {
    "collapsed": false
   },
   "outputs": [
    {
     "data": {
      "text/plain": [
       "2-element Array{TaylorSeries.Taylor1{TaylorSeries.TaylorN{Float64}},1}:\n",
       "  ( - 1.9511489195340634 x + 1.0 p + 𝒪(‖x‖³)) t² + 𝒪(t³)\n",
       "    ( 0.3 x - 1.6511489195340634 p + 𝒪(‖x‖³)) t² + 𝒪(t³)"
      ]
     },
     "execution_count": 8,
     "metadata": {},
     "output_type": "execute_result"
    }
   ],
   "source": [
    "# ahora ya tengo las dos partes de la ecuación y debo igualarlas para resolver.\n",
    "Ecua=Or2-λvec"
   ]
  },
  {
   "cell_type": "code",
   "execution_count": 9,
   "metadata": {
    "collapsed": false
   },
   "outputs": [
    {
     "data": {
      "text/plain": [
       "2-element Array{TaylorSeries.TaylorN{Float64},1}:\n",
       "  - 1.9511489195340634 x + 1.0 p + 𝒪(‖x‖³)\n",
       "    0.3 x - 1.6511489195340634 p + 𝒪(‖x‖³)"
      ]
     },
     "execution_count": 9,
     "metadata": {},
     "output_type": "execute_result"
    }
   ],
   "source": [
    "# de esta ecuación necesitamos solo los de segundo orden, así que los extraemos manualmente \n",
    "x2=Ecua[1].coeffs[g+1]\n",
    "p2=Ecua[2].coeffs[g+1]\n",
    "vec2=[x2,p2]"
   ]
  },
  {
   "cell_type": "code",
   "execution_count": 10,
   "metadata": {
    "collapsed": false
   },
   "outputs": [
    {
     "data": {
      "text/plain": [
       "2×2 Array{Float64,2}:\n",
       " -1.95115   1.0    \n",
       "  0.3      -1.65115"
      ]
     },
     "execution_count": 10,
     "metadata": {},
     "output_type": "execute_result"
    }
   ],
   "source": [
    "#Calculamos el jacobiano de este resultado JSO=Jacobiano de Segundo Orden.\n",
    "JSO = jacobian(vec2)"
   ]
  },
  {
   "cell_type": "code",
   "execution_count": 11,
   "metadata": {
    "collapsed": false
   },
   "outputs": [
    {
     "data": {
      "text/plain": [
       "2-element Array{Float64,1}:\n",
       " 0.0\n",
       " 0.0"
      ]
     },
     "execution_count": 11,
     "metadata": {},
     "output_type": "execute_result"
    }
   ],
   "source": [
    "#Calculamos el determinante de JSO\n",
    "det(JSO)\n",
    "#calculamos si hay término independiene en la ecuación\n",
    "x_ind=Ecua[1].coeffs[g+1].coeffs[1].coeffs[1]\n",
    "p_ind=Ecua[2].coeffs[g+1].coeffs[1].coeffs[1]\n",
    "vec_ind=[x_ind,p_ind]"
   ]
  },
  {
   "cell_type": "code",
   "execution_count": 12,
   "metadata": {
    "collapsed": false
   },
   "outputs": [
    {
     "data": {
      "text/plain": [
       "Float64"
      ]
     },
     "execution_count": 12,
     "metadata": {},
     "output_type": "execute_result"
    }
   ],
   "source": [
    "typeof(x_ind)"
   ]
  },
  {
   "cell_type": "code",
   "execution_count": 13,
   "metadata": {
    "collapsed": false
   },
   "outputs": [
    {
     "data": {
      "text/plain": [
       "0.0"
      ]
     },
     "execution_count": 13,
     "metadata": {},
     "output_type": "execute_result"
    }
   ],
   "source": [
    "#si el término independiente de la función es cero y el determinante de JSO es distinto de cero\n",
    "# entonces la única solución para este sistema es la trivial\n",
    "if norm(vec_ind)==0.\n",
    "    if det(JSO)!=0.\n",
    "        CoefX,CoefP=[0.,0.]\n",
    "        CX[3]=CoefX\n",
    "        CP[3]=CoefP\n",
    "    end\n",
    "end\n"
   ]
  },
  {
   "cell_type": "code",
   "execution_count": 14,
   "metadata": {
    "collapsed": false
   },
   "outputs": [
    {
     "name": "stdout",
     "output_type": "stream",
     "text": [
      "CX = TaylorSeries.TaylorN{Float64}[ 0.0 + 𝒪(‖x‖²), - 0.8123460094785507 + 𝒪(‖x‖¹), 0.0 + 𝒪(‖x‖¹)]\n",
      "CP = TaylorSeries.TaylorN{Float64}[ 0.0 + 𝒪(‖x‖²), - 0.5831757547123116 + 𝒪(‖x‖¹), 0.0 + 𝒪(‖x‖¹)]\n"
     ]
    },
    {
     "data": {
      "text/plain": [
       "3-element Array{TaylorSeries.TaylorN{Float64},1}:\n",
       "                   0.0 + 𝒪(‖x‖²)\n",
       "  - 0.5831757547123116 + 𝒪(‖x‖¹)\n",
       "                   0.0 + 𝒪(‖x‖¹)"
      ]
     },
     "execution_count": 14,
     "metadata": {},
     "output_type": "execute_result"
    }
   ],
   "source": [
    "@show(CX,CP)"
   ]
  },
  {
   "cell_type": "code",
   "execution_count": 15,
   "metadata": {
    "collapsed": false
   },
   "outputs": [
    {
     "name": "stdout",
     "output_type": "stream",
     "text": [
      "tx =  ( - 0.8123460094785507 + 𝒪(‖x‖¹)) t + ( 1.0 x + 𝒪(‖x‖⁴)) t³ + 𝒪(t⁴)\n",
      "tp =  ( - 0.5831757547123116 + 𝒪(‖x‖¹)) t + ( 1.0 p + 𝒪(‖x‖⁴)) t³ + 𝒪(t⁴)\n"
     ]
    },
    {
     "data": {
      "text/plain": [
       "2-element Array{TaylorSeries.Taylor1{TaylorSeries.TaylorN{Float64}},1}:\n",
       "                      ( - 4.069751680348318 x + 1.0 p + 𝒪(‖x‖⁴)) t³ + 𝒪(t⁴)\n",
       "  ( 0.1358876056468051 + 0.3 x - 3.7697516803483184 p + 𝒪(‖x‖⁴)) t³ + 𝒪(t⁴)"
      ]
     },
     "execution_count": 15,
     "metadata": {},
     "output_type": "execute_result"
    }
   ],
   "source": [
    "#queremos calcular ahora el tercer término \n",
    "#En este paso estamos usando las listas de CX,CP que ya tienen dos elementos.\n",
    "g=3 # este es el orden del polinomio que queremos \n",
    "t=PolinomioTaylor1(L,g,CX,CP)\n",
    "# aplicamos el mapeo estándar y al resultado le llamamos Or3 por Orden3.\n",
    "Or3 = StandarMap(t[1],t[2],k)\n",
    "#agregamo el término que sigue a a lista de lambdas\n",
    "push!(λarray,λ^g)\n",
    "#y definimos también un polinomio para las lambdas\n",
    "xλt=Taylor1(λarray.*CX,g)\n",
    "\n",
    "pλt=Taylor1(λarray.*CP,g)\n",
    "# y un vector de lambdas\n",
    "λvec=[xλt,pλt]\n",
    "# ahora ya tengo las dos partes de la ecuación y debo igualarlas para resolver.\n",
    "Ecua=Or3-λvec\n"
   ]
  },
  {
   "cell_type": "code",
   "execution_count": 16,
   "metadata": {
    "collapsed": false
   },
   "outputs": [
    {
     "data": {
      "text/plain": [
       " 0.1358876056468051 + 0.3 x - 3.7697516803483184 p + 𝒪(‖x‖⁴)"
      ]
     },
     "execution_count": 16,
     "metadata": {},
     "output_type": "execute_result"
    }
   ],
   "source": [
    "#obtengo los coeficientes que me interesan para calcular el jacobiano\n",
    "x3=Ecua[1].coeffs[g+1]\n",
    "p3=Ecua[2].coeffs[g+1]"
   ]
  },
  {
   "cell_type": "code",
   "execution_count": 17,
   "metadata": {
    "collapsed": false
   },
   "outputs": [
    {
     "data": {
      "text/plain": [
       "2×2 Array{Float64,2}:\n",
       " -4.06975   1.0    \n",
       "  0.3      -3.76975"
      ]
     },
     "execution_count": 17,
     "metadata": {},
     "output_type": "execute_result"
    }
   ],
   "source": [
    "#Dado que en este momento comienzan a aparecer términos independientes en x, p necesitamos una forma de extraerlos\n",
    "# primero estraemos los coeficientes de x, p como antes con el jacobiano. \n",
    "JTO=jacobian([x3,p3])"
   ]
  },
  {
   "cell_type": "code",
   "execution_count": 18,
   "metadata": {
    "collapsed": false
   },
   "outputs": [
    {
     "name": "stdout",
     "output_type": "stream",
     "text": [
      "vec_ind = [0.0,0.135888]\n"
     ]
    },
    {
     "data": {
      "text/plain": [
       "2-element Array{Float64,1}:\n",
       " 0.0     \n",
       " 0.135888"
      ]
     },
     "execution_count": 18,
     "metadata": {},
     "output_type": "execute_result"
    }
   ],
   "source": [
    "#extraemos los términos independientes\n",
    "a= Ecua[1].coeffs[g+1].coeffs[1].coeffs[1]\n",
    "b= Ecua[2].coeffs[g+1].coeffs[1].coeffs[1]\n",
    "vec_ind=[a,b]\n",
    "@show(vec_ind)"
   ]
  },
  {
   "cell_type": "code",
   "execution_count": 19,
   "metadata": {
    "collapsed": false
   },
   "outputs": [
    {
     "data": {
      "text/plain": [
       "2-element Array{Float64,1}:\n",
       " -0.00903391\n",
       " -0.0367658 "
      ]
     },
     "execution_count": 19,
     "metadata": {},
     "output_type": "execute_result"
    }
   ],
   "source": [
    "#debemos evaluar si los coeficientes independientes son cero o no\n",
    "if norm(vec_ind)==0.\n",
    "    if det(JSO)!=0.\n",
    "        CoefX,CoefP=[0.,0.]\n",
    "        CX[g+1]=CoefX\n",
    "        CP[g+1]=CoefP\n",
    "    end\n",
    "else\n",
    "    #ya que tenemos los coeficientes necesitamos resolver la ecuación JTO[x3,p3]*[x,p]**=vecC[x3,p3]\n",
    "    # entonces solo se trata de invertir el jacobiano y multiplicar con el vector del lado izquierdo\n",
    "    T3=JTO \\ vec_ind\n",
    "    #T3=(inv(JTO))*vecCoef\n",
    "    \n",
    "end"
   ]
  },
  {
   "cell_type": "code",
   "execution_count": 20,
   "metadata": {
    "collapsed": false
   },
   "outputs": [
    {
     "data": {
      "text/plain": [
       "-0.036765757927698775"
      ]
     },
     "execution_count": 20,
     "metadata": {},
     "output_type": "execute_result"
    }
   ],
   "source": [
    "CoefX=T3[1]\n",
    "CoefP=T3[2]\n",
    "CX[g+1]=CoefX\n",
    "CP[g+1]=CoefP"
   ]
  },
  {
   "cell_type": "code",
   "execution_count": 21,
   "metadata": {
    "collapsed": false
   },
   "outputs": [
    {
     "name": "stdout",
     "output_type": "stream",
     "text": [
      "CX = TaylorSeries.TaylorN{Float64}[ 0.0 + 𝒪(‖x‖²), - 0.8123460094785507 + 𝒪(‖x‖¹), 0.0 + 𝒪(‖x‖¹), - 0.009033906934722882 + 𝒪(‖x‖¹)]\n",
      "CP = TaylorSeries.TaylorN{Float64}[ 0.0 + 𝒪(‖x‖²), - 0.5831757547123116 + 𝒪(‖x‖¹), 0.0 + 𝒪(‖x‖¹), - 0.036765757927698775 + 𝒪(‖x‖¹)]\n"
     ]
    },
    {
     "data": {
      "text/plain": [
       "4-element Array{TaylorSeries.TaylorN{Float64},1}:\n",
       "                     0.0 + 𝒪(‖x‖²)\n",
       "    - 0.5831757547123116 + 𝒪(‖x‖¹)\n",
       "                     0.0 + 𝒪(‖x‖¹)\n",
       "  - 0.036765757927698775 + 𝒪(‖x‖¹)"
      ]
     },
     "execution_count": 21,
     "metadata": {},
     "output_type": "execute_result"
    }
   ],
   "source": [
    "@show(CX,CP)"
   ]
  },
  {
   "cell_type": "markdown",
   "metadata": {},
   "source": [
    "Ahora que ya tenemos algunas de las funciones podemos juntarlas todas en una función que nos haga todo junto"
   ]
  },
  {
   "cell_type": "code",
   "execution_count": null,
   "metadata": {
    "collapsed": false
   },
   "outputs": [],
   "source": [
    "#Creamos una función que reciba el orden del polinomio , el punto fijo, el parámetro k y \n",
    "#el tipo de varidad que queremos(estable=1, inestable=2)\n",
    "function Variedades(orden, PuntoFijo,k,tipo_v)\n",
    "    #Calculamos el primer término del polinomio usando las funciones anteriores\n",
    "#definimos unas listas donde se guardarán los coeficientes  de todo el polinomio\n",
    "    CX=[0.+TaylorN(0.,1)]\n",
    "    CP=[0.+TaylorN(0.,1)] \n",
    "    L = [PuntoFijo,1.]\n",
    "    for g in (1,orden)\n",
    "        if g==1\n",
    "            t = PolinomioTaylor1(L,g,CX,CP)\n",
    "            Or1 = StandarMap(t[1],t[2],k)\n",
    "            JPO = jacobian(Or1)\n",
    "            JacFl = Array{Float64}(2,2)\n",
    "            for ind in eachindex(JPO)\n",
    "                @show(ind)\n",
    "                JacFl[ind] = JPO[ind]\n",
    "            end\n",
    "            eigval,eigvec = eig(JacFl)\n",
    "            λ = eigval[tipo_v]\n",
    "            CoefX,CoefP=eigvec[:,tipo_v]\n",
    "            push!(CX,CoefX)\n",
    "            push!(CP,CoefP)\n",
    "\n",
    "        else\n",
    "            t=PolinomioTaylor1(L,g,CX,CP)\n",
    "            # aplicamos el mapeo estándar y al resultado le llamamos Or2 por Orden2.\n",
    "            Or2 = StandarMap(t[1],t[2],k)\n",
    "            #definimos un arreglo de lambdas \n",
    "            λarray=[0.,λ,λ^2]\n",
    "        end\n",
    "    end\n",
    "end\n",
    "            \n",
    "            "
   ]
  },
  {
   "cell_type": "code",
   "execution_count": null,
   "metadata": {
    "collapsed": false
   },
   "outputs": [],
   "source": [
    "for i in eachindex(JPO)\n",
    "    println(i, \"  \", get_coeff(JPO[i], 1))\n",
    "end"
   ]
  },
  {
   "cell_type": "code",
   "execution_count": null,
   "metadata": {
    "collapsed": true
   },
   "outputs": [],
   "source": [
    "for i in each index\n",
    "    list comprension"
   ]
  },
  {
   "cell_type": "code",
   "execution_count": null,
   "metadata": {
    "collapsed": false
   },
   "outputs": [],
   "source": [
    "L=[0,1]\n",
    "T=PolinomioTaylor1(L,1)\n"
   ]
  },
  {
   "cell_type": "code",
   "execution_count": null,
   "metadata": {
    "collapsed": false
   },
   "outputs": [],
   "source": [
    "tx,tp=PolinomioTaylorN(L,1,T)"
   ]
  },
  {
   "cell_type": "code",
   "execution_count": null,
   "metadata": {
    "collapsed": false
   },
   "outputs": [],
   "source": [
    "PO=StandarMap(tx,tp,0.3)"
   ]
  },
  {
   "cell_type": "code",
   "execution_count": null,
   "metadata": {
    "collapsed": false
   },
   "outputs": [],
   "source": [
    "JAC_MAP=jacobian(PO)"
   ]
  },
  {
   "cell_type": "code",
   "execution_count": null,
   "metadata": {
    "collapsed": false
   },
   "outputs": [],
   "source": [
    "eval,eve=eig(JAC_MAP)\n",
    "λ=eval[2]\n",
    "xn=eve[1,2]\n",
    "pn=eve[2,2]\n",
    "print(xn)"
   ]
  },
  {
   "cell_type": "code",
   "execution_count": null,
   "metadata": {
    "collapsed": false
   },
   "outputs": [],
   "source": [
    "Lx=Float64[0]\n",
    "Lp=Float64[0]"
   ]
  },
  {
   "cell_type": "code",
   "execution_count": null,
   "metadata": {
    "collapsed": false
   },
   "outputs": [],
   "source": [
    "push!(Lx,xn)"
   ]
  },
  {
   "cell_type": "code",
   "execution_count": null,
   "metadata": {
    "collapsed": false
   },
   "outputs": [],
   "source": [
    "push!(Lp,pn)"
   ]
  },
  {
   "cell_type": "code",
   "execution_count": null,
   "metadata": {
    "collapsed": false
   },
   "outputs": [],
   "source": [
    "x, y = set_variables(\"x y\", order=10);\n",
    "\n",
    "exy = exp(x+y)"
   ]
  },
  {
   "cell_type": "code",
   "execution_count": null,
   "metadata": {
    "collapsed": false
   },
   "outputs": [],
   "source": [
    "typeof(exy)\n"
   ]
  },
  {
   "cell_type": "code",
   "execution_count": 41,
   "metadata": {
    "collapsed": false
   },
   "outputs": [
    {
     "name": "stderr",
     "output_type": "stream",
     "text": [
      "WARNING: Method definition Dice(Any, Any) in module Main at In[36]:3 overwritten at In[41]:3.\n",
      "\u001b[1m\u001b[31mWARNING: replacing docs for 'Dice :: Tuple{Any,Any}' in module 'Main'.\u001b[0m\n"
     ]
    },
    {
     "data": {
      "text/plain": [
       "Dice"
      ]
     },
     "execution_count": 41,
     "metadata": {},
     "output_type": "execute_result"
    }
   ],
   "source": [
    "\"\"\"Esta función no dice nada\"\"\"\n",
    "function Dice(x,y)\n",
    "    R=x+y\n",
    "    return R \n",
    "\n",
    "end\n",
    "\n"
   ]
  },
  {
   "cell_type": "code",
   "execution_count": 67,
   "metadata": {
    "collapsed": false
   },
   "outputs": [
    {
     "name": "stdout",
     "output_type": "stream",
     "text": [
      "1\n",
      "2\n",
      "3\n",
      "4\n",
      "5\n",
      "6\n",
      "7\n",
      "8\n",
      "9\n",
      "10\n",
      "11\n",
      "12\n",
      "13\n",
      "14\n",
      "15\n",
      "16\n",
      "17\n",
      "18\n",
      "19\n",
      "20\n",
      "21\n",
      "22\n",
      "23\n",
      "24\n",
      "25\n",
      "26\n",
      "27\n",
      "28\n",
      "29\n",
      "30\n"
     ]
    }
   ],
   "source": [
    "for r in 1:30\n",
    "    print(r)\n",
    "    print(\"\\n\")\n",
    "    r=r+1\n",
    "    \n",
    "end\n"
   ]
  },
  {
   "cell_type": "code",
   "execution_count": null,
   "metadata": {
    "collapsed": true
   },
   "outputs": [],
   "source": []
  }
 ],
 "metadata": {
  "kernelspec": {
   "display_name": "Julia 0.5.2",
   "language": "julia",
   "name": "julia-0.5"
  },
  "language_info": {
   "file_extension": ".jl",
   "mimetype": "application/julia",
   "name": "julia",
   "version": "0.5.2"
  }
 },
 "nbformat": 4,
 "nbformat_minor": 2
}
