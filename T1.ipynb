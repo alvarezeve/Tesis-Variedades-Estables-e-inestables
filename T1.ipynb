{
 "cells": [
  {
   "cell_type": "markdown",
   "metadata": {},
   "source": [
    "# El método de parametrización aplicado al mapeo estándar"
   ]
  },
  {
   "cell_type": "markdown",
   "metadata": {},
   "source": [
    "## Motivación"
   ]
  },
  {
   "cell_type": "markdown",
   "metadata": {},
   "source": [
    "En el estudio de sistemas dinámicos es importante conocer aspectos que nos ayuden a describir de manera general el comportamiento, esto ya que muchos de ellos tienen un dinámica rica en el sentido matemático y físico. Conocer por ejemplo los puntos fijos, las órbitas periódicas, el diagrama de bifurcación, entre otras características es una manera de poder decir mucho sobre el sistema en general. Entre esas otras acracterísticas entra el estudio de variedades estables e inestables al rededor de puntos fijos o de periodo n. La importancia de las variedades radica en que mediante éstas se puede conocer el comportamiendo del sistema dinámico en las vecindades del punto periódico. Se puede por ejemplo estudiar el problema de los tres cuerpos mediante el estudio de sus variedades cerca del punto fijo, haciendo una linearización del problema. Esta linearización se hace en sistemas con condiciones suficientemente \"suaves\" para que las variedades inestables del sistema linearizado se puedan relacionar con las del sistema no lineal. "
   ]
  },
  {
   "cell_type": "markdown",
   "metadata": {},
   "source": [
    "El estudio analítico de las variedades cerca de puntos periódicos (puntos fijos y de periodo igual o mayor a dos)  no ha sido tan exitoso como el computacional[MENCIONAR ALGUNOS MËTODOS]. Dentro de los métodos semianalítcos se encuentra el de parametrización. Usado en el trabajo de J.D. Mireles quién aplicó el método de manera particular al mapeo estándar , fue la motivación de este trabajo. Las notas explican de manera clara cómo funciona el método con un sistema hamiltoniano de dos dimensiones. Con esta idea se generalizó el método para sistemas hamiltonianos de dos dimensiones, programado en Julia. Las notas sirvieron sobre todo como una guía para automatizar el método. Las matemáticas que se utilizan en el proceso de parametrización están al alcance de un estudiante de licenciatura de Física o Matemáticas, sin embargo la teoría detrás del funcionamiento del método es un tanto más elevada de nivel. "
   ]
  },
  {
   "cell_type": "markdown",
   "metadata": {},
   "source": [
    "El método de parametrización, de manera simple, consiste en aproximar mediante series de Taylor las variedades al rededor de puntos periódicos usando los vectores propios del sistema linearizado para dirigir la parametrización. Calculando de manera recursiva los coeficientes de los polinomios. Como ya se comentó los detalles más formales del método son algunos complicados por lo que sólo se hará enfásis en aquellos que sean fundamentales para el desarrollo. "
   ]
  },
  {
   "cell_type": "markdown",
   "metadata": {},
   "source": [
    "## Introducción"
   ]
  },
  {
   "cell_type": "markdown",
   "metadata": {},
   "source": [
    "Cuando uno habla sobre sistemas dinámicos lo que le viene a la mente es justo un sistema que describe el comportamiento temporal de un sistema físico. Ya sea el movimiento de péndulos o de planetas, nesecitamos saber sus comportamientos para tiempos largos. En algunos casos los sistemas resultan ser simples, por ejemplo si su movimiento es regular y converge. Sin embargo hay muchos otros sistemas que no son regulares en los que para dos condiciones iniciales parecidas los resultados de la dinámica después de cierto tiempo son diferentes. "
   ]
  },
  {
   "cell_type": "markdown",
   "metadata": {},
   "source": [
    "Para hablar de manera clara sobre sistemas dinámicos definimos:\n",
    "---Definición: Un sistema dinámico es un semigrupo G actuando en un espacio M,\n",
    "                $$T : G \\times M \\rightarrow M$$\n",
    "                $$   (g,x) \\rightarrow T_{g}(x)$$\n",
    "             \n",
    "tal que : \n",
    "$$T_{g} \\circ T_{h}= T_{g\\circ h}$$"
   ]
  },
  {
   "cell_type": "markdown",
   "metadata": {},
   "source": [
    "Un ejemplo típico de un sistema dinámico contínuo es el flujo de una ecuación diferencial autónoma , mientras que de uno discreto es por ejemplo un mapeo iterado."
   ]
  },
  {
   "cell_type": "markdown",
   "metadata": {},
   "source": [
    "En cualquiera de los casos anteriores podemos definir un sistema dinámico en términos de una ecuación diferencial odinaria :\n",
    "\n",
    "$$\\dot{ \\textbf{x}} \\equiv \\frac{d\\textbf{x}}{dt}= T(\\textbf{x},t)$$\n",
    "Donde $\\textbf{x} \\in \\mathbb{R}^{n}$ y $T:\\mathbb{R}\\times \\mathbb{R}^n \\rightarrow    \\mathbb{R}^n$ considerando que T es un campo vectorial. En dónde el dominio de T es llamado espacio fase  del sistema."
   ]
  },
  {
   "cell_type": "markdown",
   "metadata": {},
   "source": [
    "Esta definición nos resulta más últil dado que conecta un sistema dinámico con una ecuación diferencial. En el caso de sistemas autónomos podemos notar que las soluciones son :\n",
    "$$\\dot{x}=f(x), x(0)=x_{0}$$"
   ]
  },
  {
   "cell_type": "markdown",
   "metadata": {},
   "source": [
    "A partir de aqui consideramos que $f \\in C^{k}(M,\\mathbb{R}^{n})$ con $k \\geq 1$ y donde $M$ es un subconjunto abierto de $\\mathbb{R}^{n}$. Las soluciones de las ecuaciones diferenciales son llamadas trayectorias, por lo que diremos que $\\phi$ es una trayectoria de $x_{0}$ si satisface que $\\phi(0)=x_{0}$.  Sabemos además que existe una trayectoria maximal única para cada punto $x$ definida en el intervalo $I_{x}=(T_{-}(x),T_{+}(x))$. Lo que nos permite considerar el conjunto :\n",
    "$$W= \\bigcup_{x\\in M}I_{x}\\times {x} \\subseteq \\mathbb{R}\\times M$$"
   ]
  },
  {
   "cell_type": "markdown",
   "metadata": {},
   "source": [
    "De donde definimos el flujo de la ecuación diferencial como el mapeo:\n",
    "$$\\Phi :W \\rightarrow M $$\n",
    "considerando que $\\phi $ es una trayectoria de $x$.\n"
   ]
  },
  {
   "cell_type": "markdown",
   "metadata": {
    "collapsed": true
   },
   "source": [
    "También debemos considerar que las órbitas para cada x , que se define como :\n",
    "\n",
    "\n",
    "__Definición: Definimos la órbita de x como :\n",
    "$$\\gamma(x) = \\Phi(I_{x},x) \\subseteq M $$\n",
    "\n"
   ]
  },
  {
   "cell_type": "markdown",
   "metadata": {},
   "source": [
    "Notemos que si $ \\gamma(x)={x}$ se tiene que $x$ es un punto fijo de $\\phi$"
   ]
  },
  {
   "cell_type": "code",
   "execution_count": null,
   "metadata": {
    "collapsed": true
   },
   "outputs": [],
   "source": []
  }
 ],
 "metadata": {
  "kernelspec": {
   "display_name": "Julia 0.5.0",
   "language": "julia",
   "name": "julia-0.5"
  },
  "language_info": {
   "file_extension": ".jl",
   "mimetype": "application/julia",
   "name": "julia",
   "version": "0.5.2"
  }
 },
 "nbformat": 4,
 "nbformat_minor": 2
}
