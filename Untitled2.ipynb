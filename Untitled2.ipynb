{
 "cells": [
  {
   "cell_type": "code",
   "execution_count": null,
   "metadata": {
    "collapsed": false
   },
   "outputs": [],
   "source": [
    "Pkg.add(\"SymPy\")"
   ]
  },
  {
   "cell_type": "code",
   "execution_count": null,
   "metadata": {
    "collapsed": false
   },
   "outputs": [],
   "source": [
    "Pkg.update()"
   ]
  },
  {
   "cell_type": "code",
   "execution_count": null,
   "metadata": {
    "collapsed": false
   },
   "outputs": [],
   "source": [
    "using(SymPy)"
   ]
  },
  {
   "cell_type": "code",
   "execution_count": null,
   "metadata": {
    "collapsed": true
   },
   "outputs": [],
   "source": [
    "La clave es tratar a los complejos como un arreglo de dos elementos"
   ]
  },
  {
   "cell_type": "code",
   "execution_count": 11,
   "metadata": {
    "collapsed": false
   },
   "outputs": [
    {
     "data": {
      "text/plain": [
       "2-element Array{Int64,1}:\n",
       " 2\n",
       " 1"
      ]
     },
     "execution_count": 11,
     "metadata": {},
     "output_type": "execute_result"
    }
   ],
   "source": [
    "\n",
    "z=[2,1]"
   ]
  },
  {
   "cell_type": "markdown",
   "metadata": {},
   "source": [
    "Donde z=2+i es lo mismo que z=[2,1]\n",
    "Como a las funciones no les importa si les metes un arreglo simplemente puedes\n",
    "excribir cualquier función que reciba complejos."
   ]
  },
  {
   "cell_type": "code",
   "execution_count": 10,
   "metadata": {
    "collapsed": false
   },
   "outputs": [
    {
     "name": "stderr",
     "output_type": "stream",
     "text": [
      "WARNING: Method definition f_complex(Any) in module Main at In[5]:2 overwritten at In[10]:2.\n"
     ]
    },
    {
     "data": {
      "text/plain": [
       "f_complex (generic function with 1 method)"
      ]
     },
     "execution_count": 10,
     "metadata": {},
     "output_type": "execute_result"
    }
   ],
   "source": [
    "function f_complex(x)\n",
    "    z=x+[0,2]\n",
    "    return z\n",
    "end "
   ]
  },
  {
   "cell_type": "code",
   "execution_count": 12,
   "metadata": {
    "collapsed": false
   },
   "outputs": [
    {
     "data": {
      "text/plain": [
       "2-element Array{Int64,1}:\n",
       " 2\n",
       " 4"
      ]
     },
     "execution_count": 12,
     "metadata": {},
     "output_type": "execute_result"
    }
   ],
   "source": [
    "x=[2,2]\n",
    "f_complex(x)"
   ]
  },
  {
   "cell_type": "markdown",
   "metadata": {},
   "source": [
    "Ahora la cosa solo es definir la derivada justo como lo hacemos  en cálculo:\n",
    "$f'=f(x+h)-f(x)/h$"
   ]
  },
  {
   "cell_type": "markdown",
   "metadata": {},
   "source": [
    "Entonces solo falta definir una función derivada que reciba la función a derivar,\n",
    "la h, y el punto. Se puede además calcular un error porque la ecuación de arriba es aproximada.\n",
    "Si se quiere que la derivada sea más precisa se debe pensar que la definición viene del desarrollo de la serie\n",
    "de Taylor de $f(x+h)=f(x)+hf'(x)+1/2h^{2}f''(x)+...$\n",
    "Por tanto nosotros estamos quedándonos hasta el segundo término. El error se puede calcular igual que se \n",
    "calcula el error para cuando cortas una serie de Taylor.\n"
   ]
  },
  {
   "cell_type": "code",
   "execution_count": null,
   "metadata": {
    "collapsed": true
   },
   "outputs": [],
   "source": [
    "prevfloat(typemax(1.0))\n",
    "bits(prevfloat(typemax(1.0)))\n",
    "prevfloat(ans)\n",
    "bits(ans)\n",
    "typeof(ans)"
   ]
  }
 ],
 "metadata": {
  "kernelspec": {
   "display_name": "Julia 0.5.0",
   "language": "julia",
   "name": "julia-0.5"
  },
  "language_info": {
   "file_extension": ".jl",
   "mimetype": "application/julia",
   "name": "julia",
   "version": "0.5.0"
  }
 },
 "nbformat": 4,
 "nbformat_minor": 2
}
