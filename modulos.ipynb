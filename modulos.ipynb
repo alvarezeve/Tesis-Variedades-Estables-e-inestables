{
 "cells": [
  {
   "cell_type": "markdown",
   "metadata": {},
   "source": [
    "# Cómo hacer módulos!?!"
   ]
  },
  {
   "cell_type": "code",
   "execution_count": 47,
   "metadata": {
    "collapsed": false
   },
   "outputs": [
    {
     "name": "stderr",
     "output_type": "stream",
     "text": [
      "WARNING: replacing module Prueba\n"
     ]
    },
    {
     "data": {
      "text/plain": [
       "Prueba"
      ]
     },
     "execution_count": 47,
     "metadata": {},
     "output_type": "execute_result"
    }
   ],
   "source": [
    "module Prueba\n",
    "\n",
    "import TaylorSeries\n",
    "\n",
    "export x,f,y\n",
    "\n",
    "\n",
    "type Taylor1{Number}\n",
    "    x\n",
    "end\n",
    "type Number\n",
    "    y\n",
    "end\n",
    "\n",
    "\n",
    "\n",
    "\n",
    "\n",
    "f(x,y)=x^2+2*y\n",
    "end\n",
    "\n",
    "\n"
   ]
  },
  {
   "cell_type": "code",
   "execution_count": 48,
   "metadata": {
    "collapsed": false
   },
   "outputs": [
    {
     "name": "stderr",
     "output_type": "stream",
     "text": [
      "WARNING: using Prueba.f in module Main conflicts with an existing identifier.\n"
     ]
    }
   ],
   "source": [
    "using Prueba"
   ]
  },
  {
   "cell_type": "code",
   "execution_count": 49,
   "metadata": {
    "collapsed": false
   },
   "outputs": [
    {
     "ename": "LoadError",
     "evalue": "MethodError: no method matching f(::Int64, ::Float64)\u001b[0m\nClosest candidates are:\n  f(::Any) at In[1]:11\u001b[0m",
     "output_type": "error",
     "traceback": [
      "MethodError: no method matching f(::Int64, ::Float64)\u001b[0m\nClosest candidates are:\n  f(::Any) at In[1]:11\u001b[0m",
      ""
     ]
    }
   ],
   "source": [
    "f(2,2.)"
   ]
  },
  {
   "cell_type": "code",
   "execution_count": null,
   "metadata": {
    "collapsed": true
   },
   "outputs": [],
   "source": []
  }
 ],
 "metadata": {
  "kernelspec": {
   "display_name": "Julia 0.5.0",
   "language": "julia",
   "name": "julia-0.5"
  },
  "language_info": {
   "file_extension": ".jl",
   "mimetype": "application/julia",
   "name": "julia",
   "version": "0.5.2"
  }
 },
 "nbformat": 4,
 "nbformat_minor": 2
}
